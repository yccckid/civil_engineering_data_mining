{
 "cells": [
  {
   "cell_type": "markdown",
   "metadata": {
    "tags": []
   },
   "source": [
    "# 第二讲 数据表示和处理"
   ]
  },
  {
   "cell_type": "markdown",
   "metadata": {},
   "source": [
    "* [2.1 数据类型](#2.1)\n",
    "* [2.2 数值数据的表示和处理](#2.2)\n",
    "* [2.3 字符串类型的表示和处理](#2.3)\n",
    "* [2.4 布尔类型的表示和处理](#2.4)\n",
    "* [2.5 数据的输入和输出](#2.5)      "
   ]
  },
  {
   "cell_type": "markdown",
   "metadata": {
    "tags": []
   },
   "source": [
    "## <font size=5> <span id=\"2.1\"> 2.1 数据类型</span></font>"
   ]
  },
  {
   "cell_type": "markdown",
   "metadata": {
    "tags": [],
    "toc-hr-collapsed": true
   },
   "source": [
    "### <font size=4><span id=\"2.1.1\"> 2.1.1 内置数据类型</span></font>\n"
   ]
  },
  {
   "cell_type": "markdown",
   "metadata": {
    "tags": []
   },
   "source": [
    "\n",
    "<img src=\"images\\chapter02\\datatype.jpg\" width=500>\n",
    "<center>Python的基本数据类型</center>"
   ]
  },
  {
   "cell_type": "markdown",
   "metadata": {},
   "source": [
    "- 有序序列： 元素之间存在次序关系，可以通过索引(序号)访问元素\n",
    "- 无序序列： 元素之间不存在次序关系，不能通过索引(序号)访问元素"
   ]
  },
  {
   "cell_type": "markdown",
   "metadata": {
    "tags": []
   },
   "source": [
    "### <font size=4><span id=\"2.1.2\"> 2.1.2 常量、变量和标识符</span></font>\n"
   ]
  },
  {
   "cell_type": "markdown",
   "metadata": {},
   "source": [
    "- 数据都是以常量或变量的形式在程序中出现\n",
    "- 变量的值在程序运行时可以变化\n",
    "- 常量表示固定不变的数据"
   ]
  },
  {
   "cell_type": "markdown",
   "metadata": {},
   "source": [
    "例如：\n",
    "```python\n",
    "s=3.1415*r*r\n",
    "```\n",
    "- s、r表示变量\n",
    "- 3.1415为常量"
   ]
  },
  {
   "cell_type": "markdown",
   "metadata": {},
   "source": [
    "#### 变量注意事项\n",
    "\n",
    "\n",
    "- 使用变量前，需要进行赋值\n",
    "- 大小写敏感，即：Abc  abc 不同\n",
    "- 等于号 = 是赋值的意思，左边是变量名，右边是值\n",
    "- 变量的命名虽说可以任意，还是要有规范 —— 使用字母、数字、下划线命名，不能以数字开头（跟 C 语言 一样）\n",
    "    - 错误的名字：2ab、dir、help\n",
    "    - 正确的方式：Num、__abc__ 、_2b、Help\n"
   ]
  },
  {
   "cell_type": "code",
   "execution_count": 1,
   "metadata": {},
   "outputs": [],
   "source": [
    "# PEP8 变量命名规则"
   ]
  },
  {
   "cell_type": "markdown",
   "metadata": {},
   "source": [
    "#### 变量名与变量值的关系\n",
    "- 当把一个值赋给一个名字的时候，它会存储在内存之中，把这块内存称之为“变量variable”\n",
    "- Python有些特殊，它并不是把值存储在变量之中，更像把名字贴在“值”的上面。"
   ]
  },
  {
   "cell_type": "markdown",
   "metadata": {},
   "source": [
    "<img src=\"images/chapter02/variable.PNG\" width = 650>"
   ]
  },
  {
   "cell_type": "code",
   "execution_count": 1,
   "metadata": {},
   "outputs": [
    {
     "name": "stdout",
     "output_type": "stream",
     "text": [
      "4341375968\n",
      "4341375968\n"
     ]
    }
   ],
   "source": [
    "# 现场演示 id 的用法\n",
    "# 解释 Python 的缓存机制（-5到256）"
   ]
  },
  {
   "cell_type": "markdown",
   "metadata": {},
   "source": [
    "## <font size=5> <span id=\"2.2\"> 2.2 数值数据的表示和处理</span></font>"
   ]
  },
  {
   "cell_type": "markdown",
   "metadata": {
    "tags": [],
    "toc-hr-collapsed": true
   },
   "source": [
    "### <font size=4><span id=\"2.2.1\"> 2.2.1 数值数据常量</span></font>"
   ]
  },
  {
   "cell_type": "markdown",
   "metadata": {},
   "source": [
    "<center>表 数值数据常量</center>\n",
    "\n",
    "|数据常量|表示形式|说明|例子|\n",
    "|:-:|:-|:-|:-|\n",
    "|整数<br>int|1. 十进制：$\\pm n$<br>2. 二进制：0Bn或0bn<br>3. 八进制：0On或0on<br>4. 十六进制：0Xn或0xn | n为0-9的数字<br>0B或0b为二进制标记，n为0-1的数字<br>0O或0o为八进制标记，n为0-7的数字<br>0X或0x为十六进制标记，n为0-9的数字、A-F或a-f的字母|1234、-101<br>0B1110100<br>0O1444<br>0X12AF98|\n",
    "|浮点数<br>float|1. 小数形式:$\\pm m.n$<br>2. 指数形式:$\\pm m[.n]E(或e)\\pm k$|m、n、k为0-0的数字<br>E或者e表示指数符号|123.45<br>0.12345E+3|\n",
    "|复数<br>complex|实部$\\pm$虚部J(或者j)|实部real和虚部imag可以是整数或者浮点数，J或j为后缀|12.3+4.56J<br>0.13-4.5j|"
   ]
  },
  {
   "cell_type": "markdown",
   "metadata": {},
   "source": [
    "#### (1) 整型"
   ]
  },
  {
   "cell_type": "code",
   "execution_count": null,
   "metadata": {},
   "outputs": [],
   "source": [
    "count = 5\n",
    "type(count)"
   ]
  },
  {
   "cell_type": "markdown",
   "metadata": {},
   "source": [
    "  \n",
    "##### type() 函数如果你只有第一个参数则返回对象的类型"
   ]
  },
  {
   "cell_type": "markdown",
   "metadata": {},
   "source": [
    "#### (2) 长整型\n",
    "\n",
    "- Python 长整型能表达的数值仅仅受机器值的(虚拟)内存大小限制\n",
    "- 长整数类型是标准整数类型的超集\n",
    "- 所以：python里面整数没有取值范围！"
   ]
  },
  {
   "cell_type": "code",
   "execution_count": null,
   "metadata": {},
   "outputs": [],
   "source": [
    "ii = 500000000000000000000000000000000000000000000000000000000000000000000000000000000000000000000\n",
    "print(ii)\n",
    "### python3已经对长整型无缝结合，即长度不受限制\n",
    "### 如果说有限制，那也是计算机虚拟内存\n",
    "### 所以python3可以进行大数计算"
   ]
  },
  {
   "cell_type": "code",
   "execution_count": null,
   "metadata": {},
   "outputs": [],
   "source": [
    "sum1 = 1\n",
    "for i in range(1,101,1):\n",
    "    sum1 = sum1 * i  #sum *= i  # s\n",
    "    #print(sum)\n",
    "sum1   \n",
    "##此大数在其它语言是不太可能实现的！ "
   ]
  },
  {
   "cell_type": "code",
   "execution_count": null,
   "metadata": {},
   "outputs": [],
   "source": [
    "len(\"000000000000000000000000\")"
   ]
  },
  {
   "cell_type": "code",
   "execution_count": null,
   "metadata": {},
   "outputs": [],
   "source": [
    "#len(sum1)"
   ]
  },
  {
   "cell_type": "code",
   "execution_count": null,
   "metadata": {},
   "outputs": [],
   "source": [
    "for i in range(1,10,1):\n",
    "    for j in range(1,i+1,1):\n",
    "        print(i,'X',j,'=',i*j,end='    ')\n",
    "    print('\\n')"
   ]
  },
  {
   "cell_type": "code",
   "execution_count": null,
   "metadata": {},
   "outputs": [],
   "source": [
    "for i in range(1,10,1):\n",
    "    for j in range(1,10,1):\n",
    "        print(i,'X',j,'=',i*j,end='  ')\n",
    "        #print('{0}X{1}={2}  '.format(i,j,i*j),end='')\n",
    "        #print('{0}X{1:d}={2:2d}  '.format(i,j,i*j),end='')\n",
    "    print('\\n')"
   ]
  },
  {
   "cell_type": "code",
   "execution_count": 7,
   "metadata": {},
   "outputs": [
    {
     "name": "stdout",
     "output_type": "stream",
     "text": [
      "31\n",
      "4681\n",
      "69905\n"
     ]
    }
   ],
   "source": [
    "# 不同进制\n",
    "print(0B11111)\n",
    "print(0O11111)\n",
    "print(0X11111)"
   ]
  },
  {
   "cell_type": "markdown",
   "metadata": {},
   "source": [
    "#### (3)浮点型\n",
    "##### python区分浮点型与整型的区别，就是有没有小数点"
   ]
  },
  {
   "cell_type": "code",
   "execution_count": null,
   "metadata": {},
   "outputs": [],
   "source": [
    "meters = 1e3\n",
    "type(meters)\n"
   ]
  },
  {
   "cell_type": "code",
   "execution_count": null,
   "metadata": {},
   "outputs": [],
   "source": [
    "a = 12e12  # 1.2E12  E,e both are ok\n",
    "print(a)\n",
    "type(a)"
   ]
  },
  {
   "cell_type": "code",
   "execution_count": null,
   "metadata": {},
   "outputs": [],
   "source": [
    "a = 12.3e12\n",
    "type(a)"
   ]
  },
  {
   "cell_type": "markdown",
   "metadata": {
    "tags": []
   },
   "source": [
    "#### (4)复数complex"
   ]
  },
  {
   "cell_type": "code",
   "execution_count": 16,
   "metadata": {},
   "outputs": [
    {
     "data": {
      "text/plain": [
       "complex"
      ]
     },
     "execution_count": 16,
     "metadata": {},
     "output_type": "execute_result"
    }
   ],
   "source": [
    "a = 3 + 4j\n",
    "type(a)"
   ]
  },
  {
   "cell_type": "code",
   "execution_count": 17,
   "metadata": {},
   "outputs": [
    {
     "name": "stdout",
     "output_type": "stream",
     "text": [
      "(8+10j)\n"
     ]
    }
   ],
   "source": [
    "b = 5 + 6J\n",
    "print(a + b)"
   ]
  },
  {
   "cell_type": "code",
   "execution_count": 18,
   "metadata": {},
   "outputs": [
    {
     "data": {
      "text/plain": [
       "(0.639344262295082+0.032786885245901655j)"
      ]
     },
     "execution_count": 18,
     "metadata": {},
     "output_type": "execute_result"
    }
   ],
   "source": [
    "a/b"
   ]
  },
  {
   "cell_type": "markdown",
   "metadata": {
    "toc-hr-collapsed": true
   },
   "source": [
    "### <font size=4><span id=\"2.2.2\"> 2.2.2 算术表达式</span></font>"
   ]
  },
  {
   "cell_type": "markdown",
   "metadata": {},
   "source": [
    "#### (1)常用算数运算符"
   ]
  },
  {
   "cell_type": "markdown",
   "metadata": {},
   "source": [
    "如果a=+3\n",
    "\n",
    "|运算符|含义|优先级|实例|结果|说明|\n",
    "|:-:|:-:|:-:|:-:|:-:|:-|\n",
    "|-|负号|1|-a|3|单目运算符|\n",
    "|$**$|幂运算|2|27$**$(1/3)|3.0|乘方|\n",
    "|$*$|乘|3|a$*$a$*$a|27||\n",
    "|$/$|除|3|10/a|3.3333333333333335|整数相除为浮点数|\n",
    "|$//$|整除|3|10//a|3|结果为不大于商的最大整数|\n",
    "|%|求余数|3|10%a|1|也称之为模运算|\n",
    "|+|加|4|10.0+a|13.0|浮点数与整数相加，结果为浮点数|\n",
    "|-|减|4|a-10|-7||"
   ]
  },
  {
   "cell_type": "code",
   "execution_count": 12,
   "metadata": {},
   "outputs": [],
   "source": [
    "# 注意 // 和 %\n",
    "# 注意 ** 和 ^"
   ]
  },
  {
   "cell_type": "markdown",
   "metadata": {},
   "source": [
    "#### (2) 优先级\n",
    "##### 先乘除，后加减，有括号先计算括号\n"
   ]
  },
  {
   "cell_type": "markdown",
   "metadata": {},
   "source": [
    "#### (3) 整型的除法\n"
   ]
  },
  {
   "cell_type": "markdown",
   "metadata": {},
   "source": [
    "- 1. /是精确除法，//是向下取整除法，%是求模\n",
    "- 2. %求模是基于向下取整除法规则的\n",
    "- 3. 四舍五入取整round, 向零取整int, 向下和向上取整函数math.floor, math.ceil\n",
    "- 4. //和math.floor在CPython中的不同\n",
    "- 5. /在python 2 中是向下取整运算\n",
    "- 6. C中%是向零取整求模。"
   ]
  },
  {
   "cell_type": "markdown",
   "metadata": {},
   "source": [
    "#### (4) 赋值运算符"
   ]
  },
  {
   "cell_type": "markdown",
   "metadata": {},
   "source": [
    "- 格式：  变量=表达式\n",
    "- 作用：  将等于号右边表达式的值赋值给左边的变量\n",
    "- 例如：  y=x**2+7"
   ]
  },
  {
   "cell_type": "markdown",
   "metadata": {},
   "source": [
    "- 复合赋值"
   ]
  },
  {
   "cell_type": "markdown",
   "metadata": {
    "tags": []
   },
   "source": [
    "运算符|\t描述|\t实例\n",
    "-| :-: | -\n",
    "=\t|简单的赋值运算符\t|c = a + b 将 a + b 的运算结果赋值为 c\n",
    "+=\t|加法赋值运算符\t|c += a 等效于 c = c + a\n",
    "-=\t|减法赋值运算符\t|c -= a 等效于 c = c - a\n",
    "*=\t|乘法赋值运算符\t|c *= a 等效于 c = c * a\n",
    "/=\t|除法赋值运算符\t|c /= a 等效于 c = c / a\n",
    "%=\t|取模赋值运算符\t|c %= a 等效于 c = c % a\n",
    "**=\t|幂赋值运算符\t|c \\*\\*= a 等效于 c = c \\*\\* a\n",
    "//=\t|取整除赋值运算符\t|c //= a 等效于 c = c // a"
   ]
  },
  {
   "cell_type": "code",
   "execution_count": null,
   "metadata": {},
   "outputs": [],
   "source": [
    "# 现场演示"
   ]
  },
  {
   "cell_type": "markdown",
   "metadata": {
    "tags": [],
    "toc-hr-collapsed": true
   },
   "source": [
    "#### (5) 类型转换\n",
    "- 隐式转换，语法自动进行，如：\n",
    "```python\n",
    "    a = 3 + 4.0 #3自动转换成浮点数\n",
    "    b = a + 4j  # 转换成复数了\n",
    "```\n",
    "- 显示转换，利用类型名转换函数：int()、float()、str()和complex()等"
   ]
  },
  {
   "cell_type": "markdown",
   "metadata": {},
   "source": [
    "#####  [1] int() 转换"
   ]
  },
  {
   "cell_type": "markdown",
   "metadata": {},
   "source": [
    "##### [2] float() #转成小数"
   ]
  },
  {
   "cell_type": "markdown",
   "metadata": {},
   "source": [
    "##### [3] str()  #将一个数或其他类型的数转换成字符串"
   ]
  },
  {
   "cell_type": "markdown",
   "metadata": {},
   "source": [
    "##### [4] complex()  #将一个数转换成complex类型"
   ]
  },
  {
   "cell_type": "markdown",
   "metadata": {},
   "source": [
    "## <font size=5> <span id=\"2.3\"> 2.3 字符串类型的表示和处理</span></font>"
   ]
  },
  {
   "cell_type": "markdown",
   "metadata": {},
   "source": [
    "### <font size=4><span id=\"2.3.1\"> 2.3.1 字符串类型</span></font>"
   ]
  },
  {
   "cell_type": "markdown",
   "metadata": {
    "tags": [],
    "toc-hr-collapsed": true
   },
   "source": [
    "- 字符串是由引号表示的连续字符集\n",
    "- 单引号、双引号、三引号成对"
   ]
  },
  {
   "cell_type": "code",
   "execution_count": null,
   "metadata": {},
   "outputs": [],
   "source": [
    "name = \"Women Who Code\"\n",
    "type(name)"
   ]
  },
  {
   "cell_type": "code",
   "execution_count": null,
   "metadata": {},
   "outputs": [],
   "source": [
    "type('5')"
   ]
  },
  {
   "cell_type": "code",
   "execution_count": null,
   "metadata": {},
   "outputs": [],
   "source": [
    "type('')"
   ]
  },
  {
   "cell_type": "markdown",
   "metadata": {},
   "source": [
    "#### (1) 单引号、双引号，Python不挑剔，但必须成对出现"
   ]
  },
  {
   "cell_type": "code",
   "execution_count": null,
   "metadata": {},
   "outputs": [],
   "source": [
    "stringa = 'I Love Python'\n",
    "print(stringa)"
   ]
  },
  {
   "cell_type": "code",
   "execution_count": null,
   "metadata": {},
   "outputs": [],
   "source": [
    "stringa = \"I Love Python too\"\n",
    "print(stringa)"
   ]
  },
  {
   "cell_type": "code",
   "execution_count": null,
   "metadata": {},
   "outputs": [],
   "source": [
    "stringa = \"I Love Python three'\n",
    "print(stringa)"
   ]
  },
  {
   "cell_type": "markdown",
   "metadata": {},
   "source": [
    "#### (2) 如果希望文本里面有单引号或者双引号怎么办？"
   ]
  },
  {
   "cell_type": "code",
   "execution_count": null,
   "metadata": {
    "tags": []
   },
   "outputs": [],
   "source": [
    "# 字符串中含有单撇号  \n",
    "#'Let's go'"
   ]
  },
  {
   "cell_type": "code",
   "execution_count": null,
   "metadata": {},
   "outputs": [],
   "source": [
    "'Let\\'s go'   #用转义字符\\进行转义"
   ]
  },
  {
   "cell_type": "code",
   "execution_count": null,
   "metadata": {},
   "outputs": [],
   "source": [
    "\"Let's go\"   #用双引号来也可以"
   ]
  },
  {
   "cell_type": "code",
   "execution_count": null,
   "metadata": {},
   "outputs": [],
   "source": [
    "print('Let\\'s go')\n",
    "print(\"Let's go\")"
   ]
  },
  {
   "cell_type": "markdown",
   "metadata": {},
   "source": [
    "#### (3) 长字符串"
   ]
  },
  {
   "cell_type": "markdown",
   "metadata": {},
   "source": [
    "卜算子·我住长江头\n",
    "\n",
    "宋代：李之仪\n",
    "\n",
    "我住长江头，  \n",
    "君住长江尾。  \n",
    "日日思君不见君，  \n",
    "共饮长江水。 \n",
    "  \n",
    "此水几时休，  \n",
    "此恨何时已。  \n",
    "只愿君心似我心，  \n",
    "定不负相思意。"
   ]
  },
  {
   "cell_type": "markdown",
   "metadata": {},
   "source": [
    "- 打印试试"
   ]
  },
  {
   "cell_type": "code",
   "execution_count": null,
   "metadata": {},
   "outputs": [],
   "source": [
    "print(\"卜算子·我住长江头\\n\\n宋代：李之仪\\n\\n我住长江头，\\n君住长江尾。\\n日日思君不见君，\\n共饮长江水。\\n\\n此水几时休，\\n此恨何时已。\\n只愿君心似我心，\\n定不负相思意\")"
   ]
  },
  {
   "cell_type": "markdown",
   "metadata": {},
   "source": [
    "- 用三重引号\"\"\"内容\"\"\""
   ]
  },
  {
   "cell_type": "code",
   "execution_count": 23,
   "metadata": {},
   "outputs": [],
   "source": [
    "aa = \"\"\"曾经有一份真诚的爱摆在我的面前，\n",
    "但是我没有珍惜，\n",
    "等到失去的时候才后悔莫及，\n",
    "尘世间最痛苦的事莫过于此。\n",
    "\n",
    "如果上天可以给我个机会再来一次的话，\n",
    "我会对这个女孩说我爱她，\n",
    "如果非要在这份爱加上一个期限，\n",
    "我希望是一万年！\"\"\""
   ]
  },
  {
   "cell_type": "code",
   "execution_count": 24,
   "metadata": {},
   "outputs": [
    {
     "name": "stdout",
     "output_type": "stream",
     "text": [
      "曾经有一份真诚的爱摆在我的面前，\n",
      "但是我没有珍惜，\n",
      "等到失去的时候才后悔莫及，\n",
      "尘世间最痛苦的事莫过于此。\n",
      "\n",
      "如果上天可以给我个机会再来一次的话，\n",
      "我会对这个女孩说我爱她，\n",
      "如果非要在这份爱加上一个期限，\n",
      "我希望是一万年！\n"
     ]
    }
   ],
   "source": [
    "print(aa)"
   ]
  },
  {
   "cell_type": "code",
   "execution_count": 25,
   "metadata": {},
   "outputs": [
    {
     "name": "stdout",
     "output_type": "stream",
     "text": [
      "   悯农\n",
      "锄禾日当午\n",
      "汗滴禾下土\n",
      "谁知盘中餐\n",
      "粒粒皆辛苦\n"
     ]
    }
   ],
   "source": [
    "bb = '''   悯农\n",
    "锄禾日当午\n",
    "汗滴禾下土\n",
    "谁知盘中餐\n",
    "粒粒皆辛苦'''\n",
    "print(bb)"
   ]
  },
  {
   "cell_type": "markdown",
   "metadata": {},
   "source": [
    "- 总结一下，多行可用成对的3个单引号，或者3个双引号"
   ]
  },
  {
   "cell_type": "markdown",
   "metadata": {},
   "source": [
    "#### (4) 转义字符"
   ]
  },
  {
   "cell_type": "code",
   "execution_count": 14,
   "metadata": {
    "collapsed": true
   },
   "outputs": [
    {
     "name": "stdout",
     "output_type": "stream",
     "text": [
      "C:\n",
      "ow\n"
     ]
    }
   ],
   "source": [
    "# 试一下下面的字符串\n",
    "string = 'C:\\now'\n",
    "print(string)"
   ]
  },
  {
   "cell_type": "markdown",
   "metadata": {},
   "source": [
    "- 原因：` \\n `构成了回车换行"
   ]
  },
  {
   "cell_type": "markdown",
   "metadata": {},
   "source": [
    "| 转义字符    | 描述                                         |\n",
    "| :-----------: | :-------------------------------------------- |\n",
    "| \\\\(在行尾时) | 续行符                                       |\n",
    "| \\\\\\\\          | 反斜杠符号                                   |\n",
    "| \\\\\\'          | 单引号                                       |\n",
    "| \\\\\\\"          | 双引号                                       |\n",
    "| \\a          | 响铃                                         |\n",
    "| \\b          | 退格(Backspace)                              |\n",
    "| \\e          | 转义                                         |\n",
    "| \\000        | 空                                           |\n",
    "| \\n          | 换行                                         |\n",
    "| \\v          | 纵向制表符                                   |\n",
    "| \\t          | 横向制表符                                   |\n",
    "| \\r          | 回车                                         |\n",
    "| \\f          | 换页                                         |\n",
    "| \\oyy        | 八进制数，yy代表的字符，例如：\\o12代表换行   |\n",
    "| \\xyy        | 十六进制数，yy代表的字符，例如：\\x0a代表换行 |\n",
    "| \\other      | 其它的字符以普通格式输出                     |"
   ]
  },
  {
   "cell_type": "code",
   "execution_count": null,
   "metadata": {},
   "outputs": [],
   "source": [
    "# 演示 \\\\ 和 r"
   ]
  },
  {
   "cell_type": "markdown",
   "metadata": {},
   "source": [
    "- 注意：\n",
    "    - 无论是否是原始字符串，都不能以反斜杠作为结尾\n",
    "    - 反斜杠置于文末，表示该字符串还没结束"
   ]
  },
  {
   "cell_type": "code",
   "execution_count": 17,
   "metadata": {},
   "outputs": [],
   "source": [
    "string = 'I Love\\'"
   ]
  },
  {
   "cell_type": "code",
   "execution_count": 16,
   "metadata": {
    "collapsed": true
   },
   "outputs": [
    {
     "ename": "SyntaxError",
     "evalue": "unterminated string literal (detected at line 1) (294292176.py, line 1)",
     "output_type": "error",
     "traceback": [
      "\u001b[0;36m  Cell \u001b[0;32mIn[16], line 1\u001b[0;36m\u001b[0m\n\u001b[0;31m    string = r'I Love\\'\u001b[0m\n\u001b[0m             ^\u001b[0m\n\u001b[0;31mSyntaxError\u001b[0m\u001b[0;31m:\u001b[0m unterminated string literal (detected at line 1)\n"
     ]
    }
   ],
   "source": [
    "string = r'I Love\\'"
   ]
  },
  {
   "cell_type": "markdown",
   "metadata": {
    "tags": []
   },
   "source": [
    "##### 思考：非要在文末加一个反斜杠，怎么实现？"
   ]
  },
  {
   "cell_type": "markdown",
   "metadata": {},
   "source": [
    "### <font size=4><span id=\"2.3.2\"> 2.3.2 字符串处理</span></font>\n"
   ]
  },
  {
   "cell_type": "markdown",
   "metadata": {},
   "source": [
    "#### (1) 连接操作符+号"
   ]
  },
  {
   "cell_type": "code",
   "execution_count": null,
   "metadata": {},
   "outputs": [],
   "source": [
    "a_string = 'Hello' + ' ' + \"Women Who Code!\"\n",
    "a_string"
   ]
  },
  {
   "cell_type": "code",
   "execution_count": null,
   "metadata": {
    "tags": []
   },
   "outputs": [],
   "source": [
    "'5'+'8'"
   ]
  },
  {
   "cell_type": "code",
   "execution_count": null,
   "metadata": {},
   "outputs": [],
   "source": [
    "5 + 8"
   ]
  },
  {
   "cell_type": "markdown",
   "metadata": {},
   "source": [
    "#### (2) 复制操作符*号"
   ]
  },
  {
   "cell_type": "code",
   "execution_count": null,
   "metadata": {},
   "outputs": [],
   "source": [
    "# str 乘法\n",
    "'I love you ' * 3"
   ]
  },
  {
   "cell_type": "code",
   "execution_count": null,
   "metadata": {},
   "outputs": [],
   "source": [
    "print(\"*\"*80)"
   ]
  },
  {
   "cell_type": "markdown",
   "metadata": {},
   "source": [
    "#### (3) 常用字符串内置函数"
   ]
  },
  {
   "cell_type": "markdown",
   "metadata": {},
   "source": [
    "|函数|含义|实例|结果|\n",
    "|:-:|:-|:-|:-:|\n",
    "|lens(s)|返回s的长度|lens(\"abc\")|3|\n",
    "|chr(n)|返回字符编码n对应的字符|chr(65)|'A'|\n",
    "|ord(s)|返回单字符s对应的编码|ord('A')|65|\n"
   ]
  },
  {
   "cell_type": "markdown",
   "metadata": {},
   "source": [
    "## <font size=5><span id=\"2.4\"> 2.4 布尔类型的表示和处理</span></font>\n",
    "- 只有“真”和“假”两个值\n",
    "- True, False\n",
    "- 注意大小写"
   ]
  },
  {
   "cell_type": "code",
   "execution_count": null,
   "metadata": {},
   "outputs": [],
   "source": [
    "a = True\n",
    "type(a)"
   ]
  },
  {
   "cell_type": "code",
   "execution_count": null,
   "metadata": {},
   "outputs": [],
   "source": [
    "# b = true"
   ]
  },
  {
   "cell_type": "code",
   "execution_count": null,
   "metadata": {},
   "outputs": [],
   "source": [
    "b = False\n",
    "type(b)"
   ]
  },
  {
   "cell_type": "markdown",
   "metadata": {},
   "source": [
    "- 布尔型的数据可以当数值使用\n",
    "- 当参与运算时，True当1，False当0"
   ]
  },
  {
   "cell_type": "code",
   "execution_count": null,
   "metadata": {},
   "outputs": [],
   "source": [
    "True + True"
   ]
  },
  {
   "cell_type": "code",
   "execution_count": null,
   "metadata": {},
   "outputs": [],
   "source": [
    "True * False"
   ]
  },
  {
   "cell_type": "code",
   "execution_count": null,
   "metadata": {},
   "outputs": [],
   "source": [
    "#True / False"
   ]
  },
  {
   "cell_type": "code",
   "execution_count": null,
   "metadata": {},
   "outputs": [],
   "source": [
    "a = True\n",
    "print(type(a))\n",
    "a = 100 + True\n",
    "print(type(a))\n",
    "a"
   ]
  },
  {
   "cell_type": "markdown",
   "metadata": {},
   "source": [
    "### <font size=4><span id=\"2.4.1\"> 2.4.1 关系运算符和关系表达式</span></font>\n"
   ]
  },
  {
   "cell_type": "markdown",
   "metadata": {
    "tags": []
   },
   "source": [
    "|运算符|描述|实例|结果|\n",
    "|:-: | :- | :- |:-:|\n",
    "|    ==      |等于 - 比较对象是否相等|    10 == 20<br>[1, 2, 3] == [1, 2, 3] |False <br>True|\n",
    "|>|大于|5 > 8|Flase|\n",
    "|>=|大于等于|5 >= 3|True|\n",
    "|<|小于|4 < 9|True|\n",
    "|<=|小于等于|14 < 9|False|\n",
    "|!=|不等于|'abc' != \"abc\"|False|\n"
   ]
  },
  {
   "cell_type": "code",
   "execution_count": null,
   "metadata": {},
   "outputs": [],
   "source": [
    "# 特别注意 == 和 !=\n",
    "# 特别注意浮点数的比较"
   ]
  },
  {
   "cell_type": "markdown",
   "metadata": {
    "tags": []
   },
   "source": [
    "### <font size=4><span id=\"2.4.2\"> 2.4.2  逻辑运算符和逻辑表达式</span></font>\n",
    "- `and` 逻辑与\n",
    "- `or` 逻辑或\n",
    "- `not`逻辑非"
   ]
  },
  {
   "cell_type": "code",
   "execution_count": null,
   "metadata": {},
   "outputs": [],
   "source": [
    "# 如何判断某一年是否是闰年？"
   ]
  },
  {
   "cell_type": "markdown",
   "metadata": {},
   "source": [
    "#### (1) `is` 和  `is not` 运算符   vs. `==`以及`!=`的区别"
   ]
  },
  {
   "cell_type": "markdown",
   "metadata": {},
   "source": [
    "- `is` 用于判断两个变量引用对象是否为同一个\n",
    "- `==` 用于判断引用变量的值是否相等。\n"
   ]
  },
  {
   "cell_type": "markdown",
   "metadata": {},
   "source": [
    "- 整数缓存问题\n",
    "  - Python仅仅对比较小的整数（范围[-5,256]）缓存起来\n",
    "  - 一些IDE如pycharm或者保存为文件执行\n",
    "- 字符串缓存驻留问题\n",
    "  - 字符串中仅含26字母、数字与下划线"
   ]
  },
  {
   "cell_type": "code",
   "execution_count": 2,
   "metadata": {
    "tags": []
   },
   "outputs": [
    {
     "name": "stdout",
     "output_type": "stream",
     "text": [
      "True\n",
      "True\n",
      "1182087145904\n",
      "1182087145904\n"
     ]
    }
   ],
   "source": [
    "x = -5\n",
    "y = -5\n",
    "print(x == y)\n",
    "print(x is y)\n",
    "print(id(x))\n",
    "print(id(y))"
   ]
  },
  {
   "cell_type": "code",
   "execution_count": null,
   "metadata": {},
   "outputs": [],
   "source": [
    "help(id)"
   ]
  },
  {
   "cell_type": "code",
   "execution_count": null,
   "metadata": {},
   "outputs": [],
   "source": [
    "id(1), id(2), id(3)"
   ]
  },
  {
   "cell_type": "code",
   "execution_count": null,
   "metadata": {},
   "outputs": [],
   "source": [
    "id(\"abc\")"
   ]
  },
  {
   "cell_type": "code",
   "execution_count": null,
   "metadata": {},
   "outputs": [],
   "source": [
    "id([1, 2, 3])"
   ]
  },
  {
   "cell_type": "code",
   "execution_count": 38,
   "metadata": {
    "tags": []
   },
   "outputs": [
    {
     "name": "stdout",
     "output_type": "stream",
     "text": [
      "True\n",
      "True\n",
      "1182166944816\n",
      "1182166944816\n"
     ]
    }
   ],
   "source": [
    "x = \"2zyx_123\"  # 比较字符串缓存机制\n",
    "y = \"2zyx_123\"\n",
    "print(x == y)\n",
    "print(x is y)\n",
    "print(id(x))\n",
    "print(id(y))"
   ]
  },
  {
   "cell_type": "markdown",
   "metadata": {
    "tags": []
   },
   "source": [
    "#### (2) 多个元素组合形成的对象，内容相同，并不是一个id"
   ]
  },
  {
   "cell_type": "code",
   "execution_count": 25,
   "metadata": {},
   "outputs": [
    {
     "name": "stdout",
     "output_type": "stream",
     "text": [
      "True\n",
      "False\n",
      "1182166990272\n",
      "1182166990080\n"
     ]
    }
   ],
   "source": [
    "# 数组比较\n",
    "x = [1, 2, 3]\n",
    "y = [1, 2, 3]\n",
    "print(x == y)\n",
    "print(x is y)\n",
    "print(id(x))\n",
    "print(id(y))"
   ]
  },
  {
   "cell_type": "code",
   "execution_count": 26,
   "metadata": {},
   "outputs": [
    {
     "name": "stdout",
     "output_type": "stream",
     "text": [
      "True\n",
      "False\n",
      "1182162659200\n",
      "1182162607360\n"
     ]
    }
   ],
   "source": [
    "# 元组比较\n",
    "x = (1, 2, 3)\n",
    "y = (1, 2, 3)\n",
    "print(x == y)\n",
    "print(x is y)\n",
    "print(id(x))\n",
    "print(id(y))"
   ]
  },
  {
   "cell_type": "code",
   "execution_count": 27,
   "metadata": {},
   "outputs": [
    {
     "name": "stdout",
     "output_type": "stream",
     "text": [
      "True\n",
      "False\n",
      "1182166988928\n",
      "1182166988736\n"
     ]
    }
   ],
   "source": [
    "# 字典比较\n",
    "x = {\"id\": 1, \"name\": \"Tom\", \"age\": 18}\n",
    "y = {\"id\": 1, \"name\": \"Tom\", \"age\": 18}\n",
    "print(x == y)\n",
    "print(x is y)\n",
    "print(id(x))\n",
    "print(id(y))"
   ]
  },
  {
   "cell_type": "code",
   "execution_count": 28,
   "metadata": {},
   "outputs": [
    {
     "name": "stdout",
     "output_type": "stream",
     "text": [
      "True\n",
      "False\n",
      "1182166585120\n",
      "1182166584672\n"
     ]
    }
   ],
   "source": [
    "# 集合比较\n",
    "x = set([1, 2, 3])\n",
    "y = set([1, 2, 3])\n",
    "print(x == y)\n",
    "print(x is y)\n",
    "print(id(x))\n",
    "print(id(y))"
   ]
  },
  {
   "cell_type": "code",
   "execution_count": 29,
   "metadata": {},
   "outputs": [
    {
     "name": "stdout",
     "output_type": "stream",
     "text": [
      "True\n",
      "True\n",
      "1182166989120\n",
      "1182166989120\n"
     ]
    }
   ],
   "source": [
    "# 赋值后比较\n",
    "x = [1, 2, 3]\n",
    "y = x\n",
    "print(x == y)\n",
    "print(x is y)\n",
    "print(id(x))\n",
    "print(id(y))"
   ]
  },
  {
   "cell_type": "markdown",
   "metadata": {},
   "source": [
    "- 总结：\n",
    "  - is 比较两个对象的id是否相同，知否指向同一个地址\n",
    "  - == 比较对象内容是否相同，即值是否相同\n",
    "  - 整数与字符串缓存机制\n",
    "  - is比==效率高"
   ]
  },
  {
   "cell_type": "markdown",
   "metadata": {},
   "source": [
    "## <font size=5><span id=\"2.5\"> 2.5 数据的输入和输出</span></font>"
   ]
  },
  {
   "cell_type": "markdown",
   "metadata": {},
   "source": [
    "### 格式化输出"
   ]
  },
  {
   "cell_type": "markdown",
   "metadata": {},
   "source": [
    "- 主要用于输出\n",
    "- 希望输出格式规范、统一\n",
    "- 三种方法\n",
    "    - format 函数 （推荐采用）\n",
    "    - % 格式化操作符 （类似于C语言的方式）\n",
    "    - f-string方式（python3.6后续版本）"
   ]
  },
  {
   "cell_type": "markdown",
   "metadata": {
    "tags": []
   },
   "source": [
    "#### (1) `format()` 方法\n",
    "- 用一对{}作为格式占位符\n",
    "- 位置参数 —— {0}、{1}、...\n",
    "- 关键字参数"
   ]
  },
  {
   "cell_type": "markdown",
   "metadata": {},
   "source": [
    "- 1、注意位置与序数的对应关系"
   ]
  },
  {
   "cell_type": "code",
   "execution_count": null,
   "metadata": {},
   "outputs": [],
   "source": [
    "\"{0} love {1} {2}\".format('I', \"Tongji\",\"University\")"
   ]
  },
  {
   "cell_type": "markdown",
   "metadata": {},
   "source": [
    "- 2、调整顺序和序数"
   ]
  },
  {
   "cell_type": "code",
   "execution_count": null,
   "metadata": {},
   "outputs": [],
   "source": [
    "\"{1} love {0} {2}\".format(\"Tongji\", \"I\", \"University\")"
   ]
  },
  {
   "cell_type": "markdown",
   "metadata": {},
   "source": [
    "- 3、关键字参数\n",
    "    - 相当于标签\n",
    "    - 比位置参数要灵活"
   ]
  },
  {
   "cell_type": "code",
   "execution_count": null,
   "metadata": {},
   "outputs": [],
   "source": [
    "\"{a} love {b} and {c}\".format(a=\"I\",b=\"Tongji University\",c=\"Civil Engineering\")"
   ]
  },
  {
   "cell_type": "markdown",
   "metadata": {},
   "source": [
    "- 关键词相当于一个标签\n",
    "- 一个萝卜一个坑，填入进去"
   ]
  },
  {
   "cell_type": "markdown",
   "metadata": {},
   "source": [
    "- 问题又来了，如何打印出大括弧？"
   ]
  },
  {
   "cell_type": "code",
   "execution_count": 41,
   "metadata": {},
   "outputs": [
    {
     "data": {
      "text/plain": [
       "'{0}'"
      ]
     },
     "execution_count": 41,
     "metadata": {},
     "output_type": "execute_result"
    }
   ],
   "source": [
    "# 多用一层大括弧,行不行？\n",
    "\"{{0}}\".format(\"打印出大括弧\")\n",
    "# 位置参数的功能被外层剥夺"
   ]
  },
  {
   "cell_type": "code",
   "execution_count": 40,
   "metadata": {
    "collapsed": true
   },
   "outputs": [
    {
     "data": {
      "text/plain": [
       "'{打印出大括弧}'"
      ]
     },
     "execution_count": 40,
     "metadata": {},
     "output_type": "execute_result"
    }
   ],
   "source": [
    "# 多用一层大括弧,行不行？\n",
    "\"{{{0}}}\".format(\"打印出大括弧\")\n"
   ]
  },
  {
   "cell_type": "markdown",
   "metadata": {
    "tags": []
   },
   "source": [
    "- 4、指定占位宽度"
   ]
  },
  {
   "cell_type": "markdown",
   "metadata": {},
   "source": [
    "|数据类型|整数|单个字符|字符串|浮点数|指数形式|\n",
    "|:-:|:-:|:-:|:-:|:-:|:-:|\n",
    "|类型符号|d|c|s|f或F|e或E|"
   ]
  },
  {
   "cell_type": "code",
   "execution_count": 42,
   "metadata": {},
   "outputs": [
    {
     "name": "stdout",
     "output_type": "stream",
     "text": [
      "圆周率:3.1416\n"
     ]
    }
   ],
   "source": [
    "print(\"{0}:{1:.4f}\".format('圆周率',3.1415926))"
   ]
  },
  {
   "cell_type": "code",
   "execution_count": 43,
   "metadata": {},
   "outputs": [
    {
     "name": "stdout",
     "output_type": "stream",
     "text": [
      "圆周率:3.1416E+00\n"
     ]
    }
   ],
   "source": [
    "print(\"{0}:{1:.4E}\".format('圆周率',3.1415926))"
   ]
  },
  {
   "cell_type": "code",
   "execution_count": 44,
   "metadata": {},
   "outputs": [
    {
     "name": "stdout",
     "output_type": "stream",
     "text": [
      "圆周率:3.1416e+00\n"
     ]
    }
   ],
   "source": [
    "print(\"{0}:{1:.4e}\".format('圆周率',3.1415926))"
   ]
  },
  {
   "cell_type": "code",
   "execution_count": null,
   "metadata": {},
   "outputs": [],
   "source": [
    "print(\"{0}:{1:12.4e}\".format('圆周率',314159.26))"
   ]
  },
  {
   "cell_type": "code",
   "execution_count": null,
   "metadata": {},
   "outputs": [],
   "source": [
    "print(\"{0}:{1:+12.4e}\".format('圆周率',314159.26))"
   ]
  },
  {
   "cell_type": "code",
   "execution_count": 45,
   "metadata": {},
   "outputs": [
    {
     "name": "stdout",
     "output_type": "stream",
     "text": [
      "圆周率:+314159.2600\n"
     ]
    }
   ],
   "source": [
    "print(\"{0}:{1:+12.4f}\".format('圆周率',314159.26))"
   ]
  },
  {
   "cell_type": "code",
   "execution_count": null,
   "metadata": {},
   "outputs": [],
   "source": [
    "print(\"{0}:{1:+4.1f}\".format('圆周率',314159.26))  #超出了宽度了"
   ]
  },
  {
   "cell_type": "code",
   "execution_count": null,
   "metadata": {},
   "outputs": [],
   "source": [
    "print('{0:4s}-{1}'.format('a',97))"
   ]
  },
  {
   "cell_type": "code",
   "execution_count": null,
   "metadata": {},
   "outputs": [],
   "source": [
    "print('{0:4s}  -{1:4d}'.format('abcdefghi',97))"
   ]
  },
  {
   "cell_type": "code",
   "execution_count": null,
   "metadata": {},
   "outputs": [],
   "source": [
    "# .2表示四舍五入2位小数的意思！"
   ]
  },
  {
   "cell_type": "markdown",
   "metadata": {
    "tags": [],
    "toc-hr-collapsed": true
   },
   "source": [
    "#### (2) 格式化操作符 —— %\n",
    "\n",
    "\n",
    "- `Python` 字符串格式化符号\n",
    "    - %%    百分号标记\n",
    "    - %s    字符串\n",
    "    - %c    字符及其ASCII码\n",
    "    - %d    有符号整数(十进制)\n",
    "    - %u    无符号整数(十进制)\n",
    "    - %o    无符号整数(八进制)\n",
    "    - %x    无符号整数(十六进制)\n",
    "    - %X    无符号整数(十六进制大写字符)\n",
    "    - %f    浮点数字(用小数点符号)\n",
    "    - %e    浮点数字(科学计数法)\n",
    "    - %E    浮点数字(科学计数法，用E代替e)\n",
    "    - %g    浮点数字(根据值的大小采用%e或%f)\n",
    "    - %G    浮点数字(类似于%g)\n",
    "    - %p    指针(用十六进制打印值的内存地址)\n",
    "    - %n    存储输出字符的数量放进参数列表的下一个变量中\n",
    "\n",
    "\n",
    "- 字符串格式控制 `% [(name)][flag][width][.][precision]type`\n",
    "    - name:可为空，数字(占位)，命名(传递参数名，不能以数字开头)以字典格式映射格式化，其为键名\n",
    "    - flag:标记格式限定符号，包含 +、-、# 和 0\n",
    "        - \\+ 表示右对齐(会显示正负号)\n",
    "        - \\- 左对齐，前面默认为填充空格(即默认右对齐)\n",
    "        - 0 表示填充0\n",
    "        - \\# 表示八进制时前面补充0，16进制数填充0x，二进制填充0b\n",
    "    - width:宽度(最短长度，包含小数点，小于width时会填充)\n",
    "    - precision:小数点后的位数\n",
    "    - type:输入格式类型"
   ]
  },
  {
   "cell_type": "markdown",
   "metadata": {},
   "source": [
    "##### 例 格式化操作符示例 —— 输出字符和字符串\n",
    "\n",
    "\n",
    "- %s —— 字符串\n",
    "- %c —— 字符及其ASCII码"
   ]
  },
  {
   "cell_type": "code",
   "execution_count": null,
   "metadata": {},
   "outputs": [],
   "source": [
    "# 字符串\n",
    "my_name = \"Xiaoming\"\n",
    "print(\"My name is %s\" % my_name)"
   ]
  },
  {
   "cell_type": "code",
   "execution_count": null,
   "metadata": {},
   "outputs": [],
   "source": [
    "# 字符串\n",
    "my_name = \"Xiaoming\"\n",
    "univ = \"Tongji University\"\n",
    "print(\"My name is %s, I am in %s\" % (my_name, univ))\n",
    "#print(\"My name is %s, I am in %s\" % my_name, univ) # 报错"
   ]
  },
  {
   "cell_type": "code",
   "execution_count": 47,
   "metadata": {},
   "outputs": [
    {
     "data": {
      "text/plain": [
       "'97bcd'"
      ]
     },
     "execution_count": 47,
     "metadata": {},
     "output_type": "execute_result"
    }
   ],
   "source": [
    "'%c%c%c%c' %(97, 98, 99, 100)"
   ]
  },
  {
   "cell_type": "markdown",
   "metadata": {},
   "source": [
    "##### 例 格式化操作符示例 —— 输出整数\n",
    "\n",
    "- %o —— oct 八进制 （octal）\n",
    "- %d —— dec 十进制，有符号（decimal）\n",
    "- %u —— dec 十进制，无符号\n",
    "- %x —— hex 十六进制（hexadecimal）\n",
    "- %X —— hex 十六进制"
   ]
  },
  {
   "cell_type": "code",
   "execution_count": null,
   "metadata": {},
   "outputs": [],
   "source": [
    "print('%c' % 20)\n",
    "print('%d' % 20) # 十进制\n",
    "print('%o' % 20) # 八进制\n",
    "print('%x' % 31) # 十六进制\n",
    "print('%X' % 31) # 十六进制"
   ]
  },
  {
   "cell_type": "markdown",
   "metadata": {},
   "source": [
    "##### 例 字符串格式控制符 `#`"
   ]
  },
  {
   "cell_type": "code",
   "execution_count": null,
   "metadata": {},
   "outputs": [],
   "source": [
    "print('%#o' % 20)  # 八进制，#号输出前缀 0o\n",
    "print('%#x' % 20)  # 十六进制，#号输出前缀 0x\n",
    "print('%#X' % 20)  # 十六进制，#号输出前缀 0X"
   ]
  },
  {
   "cell_type": "markdown",
   "metadata": {},
   "source": [
    "##### 例  格式化操作符示例 —— 输出浮点数\n",
    "\n",
    "- 普通表示\n",
    "\n",
    "    - %f ——保留小数点后面六位有效数字\n",
    "    - %.3f ——保留小数点后面三位有效数字\n",
    "\n",
    "\n",
    "- 科学方式\n",
    "    - %e —— 保留小数点后面六位有效数字，指数形式输出\n",
    "    - %.3e，保留3位小数位，使用科学计数法\n",
    "\n",
    "\n",
    "- 灵活方式\n",
    "    - %g ——在保证六位有效数字的前提下，使用小数方式，否则使用科学计数法\n",
    "    - %.3g，保留3位有效数字，使用小数或科学计数法"
   ]
  },
  {
   "cell_type": "code",
   "execution_count": null,
   "metadata": {
    "scrolled": true
   },
   "outputs": [],
   "source": [
    "print('%f' % 1.11)  # 默认保留6位小数\n",
    "print('%.1f' % 1.11)  # 取1位小数\n",
    "print('%12.4f' % 1.1111111)  # 取4位小数,总宽度12，靠右\n",
    "print('%-12.4f' % 1.1111111)  # 取4位小数,总宽度12，靠左\n",
    "print('%e' % 1.11)  # 默认6位小数，用科学计数法\n",
    "print('%.3e' % 1.11)  # 取3位小数，用科学计数法\n",
    "print('%g' % 1111.1111)  # 默认6位有效数字\n",
    "print('%.7g' % 1111.1111)  # 取7位有效数字\n",
    "print('%.2g' % 1111.1111)  # 取2位有效数字，自动转换为科学计数法\n"
   ]
  },
  {
   "cell_type": "markdown",
   "metadata": {},
   "source": [
    "- 字符串输出，控制对齐\n",
    "\n",
    "    - %s  \n",
    "    - %10s——右对齐，占位符10位  \n",
    "    - %-10s——左对齐，占位符10位  \n",
    "    - %.2s——截取2位字符串  \n",
    "    - %10.2s——10位占位符，截取两位字符串  "
   ]
  },
  {
   "cell_type": "markdown",
   "metadata": {},
   "source": [
    "##### 例 字符串输出示例"
   ]
  },
  {
   "cell_type": "code",
   "execution_count": null,
   "metadata": {},
   "outputs": [],
   "source": [
    "print('%s'      % 'hello world')  # 字符串输出\n",
    "print('%20s'    % 'hello world')  # 右对齐，取20位，不够则补位\n",
    "print('%-20s'   % 'hello world')  # 左对齐，取20位，不够则补位\n",
    "print('%.2s'    % 'hello world')  # 取2位\n",
    "print('%10.2s'  % 'hello world')  # 右对齐，取2位\n",
    "print('%-10.2s' % 'hello world')  # 左对齐，取2位"
   ]
  },
  {
   "cell_type": "markdown",
   "metadata": {},
   "source": [
    "##### 格式化辅助指令\n",
    "\n",
    "\n",
    "|符号| 含义|  \n",
    "|:-----------------:|:------------------------:|  \n",
    "|m.n | m表示最小总宽度，n表示小数点后面的位数|  \n",
    "|-|负号，表示左对齐|\n",
    "|+|+号，在正数前面加+号|\n",
    "|#|八进制前面加Oo,十六进制前面加0X或0x|\n",
    "|0|显示数字之前用0填充|"
   ]
  },
  {
   "cell_type": "markdown",
   "metadata": {},
   "source": [
    "##### 例 格式化辅助指令示例"
   ]
  },
  {
   "cell_type": "code",
   "execution_count": null,
   "metadata": {},
   "outputs": [],
   "source": [
    "print('%5.1f'   % 27.5666)\n",
    "print('%+12.4f' % 27.12345)\n",
    "print('%#12X'   % 1235)\n",
    "print('%#12o'   % 1235)\n",
    "print('%012.4f' % 27.12345)"
   ]
  },
  {
   "cell_type": "code",
   "execution_count": null,
   "metadata": {},
   "outputs": [],
   "source": [
    "### 请输出0~90度，间隔5度，对应的sin三角函数值\n",
    "### 要求输出格式，角度占2个字符位置，一个空格，小数要求保留小数点后面6位。\n",
    "\n",
    "import math\n",
    "for deg in range(0,91,5):\n",
    "    print('%2d %8f' %(deg, math.sin(deg/180*math.pi)))\n"
   ]
  },
  {
   "cell_type": "code",
   "execution_count": null,
   "metadata": {},
   "outputs": [],
   "source": [
    "import math\n",
    "for deg in range(0,91,5):\n",
    "    print('{0:2d} {1:8.6f}'.format(deg, math.sin(deg/180*math.pi)))"
   ]
  },
  {
   "cell_type": "markdown",
   "metadata": {},
   "source": [
    "#### (3) f-string (Python 3.6 以后)\n",
    "- 变量替换"
   ]
  },
  {
   "cell_type": "code",
   "execution_count": 53,
   "metadata": {},
   "outputs": [],
   "source": [
    "# 现场演示\n",
    "a = 100\n",
    "s = f'a = {a}'"
   ]
  },
  {
   "cell_type": "code",
   "execution_count": 54,
   "metadata": {},
   "outputs": [
    {
     "name": "stdout",
     "output_type": "stream",
     "text": [
      "a = 100.0\n"
     ]
    }
   ],
   "source": [
    "print(s)"
   ]
  },
  {
   "cell_type": "code",
   "execution_count": 19,
   "metadata": {},
   "outputs": [
    {
     "name": "stdout",
     "output_type": "stream",
     "text": [
      "1.100e+01\n",
      "11.0000\n"
     ]
    }
   ],
   "source": [
    "# 格式化浮点数\n",
    "a = 11\n",
    "print(f'{a:.3f}')\n",
    "print(f'{a:.4f}')"
   ]
  },
  {
   "cell_type": "code",
   "execution_count": 23,
   "metadata": {},
   "outputs": [
    {
     "name": "stdout",
     "output_type": "stream",
     "text": [
      "01      1      1\n",
      "02      4      8\n",
      "03      9     27\n",
      "04     16     64\n",
      "05     25    125\n",
      "06     36    216\n",
      "07     49    343\n",
      "08     64    512\n",
      "09     81    729\n",
      "10    100   1000\n"
     ]
    }
   ],
   "source": [
    "# 格式化宽度\n",
    "for i in range(1, 11):\n",
    "    print(f'{i:02} {i**2:6} {i**3:6}')"
   ]
  }
 ],
 "metadata": {
  "kernelspec": {
   "display_name": "Python 3 (ipykernel)",
   "language": "python",
   "name": "python3"
  },
  "language_info": {
   "codemirror_mode": {
    "name": "ipython",
    "version": 3
   },
   "file_extension": ".py",
   "mimetype": "text/x-python",
   "name": "python",
   "nbconvert_exporter": "python",
   "pygments_lexer": "ipython3",
   "version": "3.11.4"
  }
 },
 "nbformat": 4,
 "nbformat_minor": 4
}
