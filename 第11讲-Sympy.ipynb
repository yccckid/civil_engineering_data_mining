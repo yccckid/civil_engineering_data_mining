{
 "cells": [
  {
   "cell_type": "markdown",
   "metadata": {},
   "source": [
    "<span id=\"mulu\"><font face=\"黑体\" size=6>本章目录</font></span>\n",
    "* [第十一讲 SymPy 模块](#9)\n",
    "    * [11.1 引言](#11.1)\n",
    "    * [11.2 基本运算](#11.2)\n",
    "        * [11.2.1 创建符号](#11.2.1)\n",
    "        * [11.2.2 四则运算](#11.2.2)\n",
    "        * [11.2.3 求符号表达式的值](#11.2.3)\n",
    "    * [11.3 高级运算](#11.3)\n",
    "        * [11.3.1 求导](#11.3.1)\n",
    "        * [11.3.2 积分](#11.3.2)\n",
    "        * [11.3.3 极限](#11.3.3)\n",
    "        * [11.3.4 求解方程](#11.3.4)\n",
    "    * [11.4 案例](#11.4)\n",
    "    \n",
    "   \n",
    "    \n"
   ]
  },
  {
   "cell_type": "markdown",
   "metadata": {},
   "source": [
    "# 第11讲 SymPy模块"
   ]
  },
  {
   "cell_type": "markdown",
   "metadata": {},
   "source": [
    "## <font size=5><span id=\"11.1\"> 11.1 引言</span></font>"
   ]
  },
  {
   "cell_type": "markdown",
   "metadata": {},
   "source": [
    "</left><img src='images\\chapter11\\logo.png' width=100 style=\"float: left;\" />"
   ]
  },
  {
   "cell_type": "markdown",
   "metadata": {},
   "source": [
    "SymPy -- 符号运算模块"
   ]
  },
  {
   "cell_type": "markdown",
   "metadata": {},
   "source": [
    "什么是符号运算？\n",
    "- a + b\n",
    "- x * y"
   ]
  },
  {
   "cell_type": "markdown",
   "metadata": {},
   "source": [
    "#### 导入基本模块"
   ]
  },
  {
   "cell_type": "code",
   "execution_count": 5,
   "metadata": {},
   "outputs": [],
   "source": [
    "import sympy as sp"
   ]
  },
  {
   "cell_type": "markdown",
   "metadata": {},
   "source": [
    "## <font size=5><span id=\"11.2\"> 11.2 基本运算</span></font>\n",
    "\n"
   ]
  },
  {
   "cell_type": "markdown",
   "metadata": {},
   "source": [
    "### <font size=5><span id=\"11.2.1\"> 11.2.1 创建符号</span></font>\n",
    "- sympy.symbols"
   ]
  },
  {
   "cell_type": "code",
   "execution_count": 22,
   "metadata": {},
   "outputs": [
    {
     "data": {
      "text/latex": [
       "$\\displaystyle x + y$"
      ],
      "text/plain": [
       "x + y"
      ]
     },
     "execution_count": 22,
     "metadata": {},
     "output_type": "execute_result"
    }
   ],
   "source": [
    "x = sp.symbols('x')\n",
    "y = sp.symbols('y')\n",
    "# x, y = sp.symbos('x y')"
   ]
  },
  {
   "cell_type": "markdown",
   "metadata": {},
   "source": [
    "### <font size=5><span id=\"11.2.2\"> 11.2.2 四则运算</span></font>\n"
   ]
  },
  {
   "cell_type": "code",
   "execution_count": 18,
   "metadata": {
    "scrolled": true
   },
   "outputs": [
    {
     "data": {
      "text/plain": [
       "(x + y, x - y, x*y, x/y, (x + y)**2)"
      ]
     },
     "execution_count": 18,
     "metadata": {},
     "output_type": "execute_result"
    }
   ],
   "source": [
    "x + y, x - y, x * y, x / y, (x+y)**2"
   ]
  },
  {
   "cell_type": "markdown",
   "metadata": {},
   "source": [
    "### <font size=5><span id=\"11.2.3\"> 11.2.3 求符号表达式的值</span></font>\n",
    "- expr.evalf"
   ]
  },
  {
   "cell_type": "code",
   "execution_count": 11,
   "metadata": {
    "scrolled": true
   },
   "outputs": [
    {
     "data": {
      "text/latex": [
       "$\\displaystyle 5.0$"
      ],
      "text/plain": [
       "5.00000000000000"
      ]
     },
     "execution_count": 11,
     "metadata": {},
     "output_type": "execute_result"
    }
   ],
   "source": [
    "x, y = sp.symbols('x y')\n",
    "expr = x + y\n",
    "expr.evalf(subs={x:2,y:3})     # 注意数据类型的差别"
   ]
  },
  {
   "cell_type": "code",
   "execution_count": 13,
   "metadata": {},
   "outputs": [
    {
     "data": {
      "text/plain": [
       "float"
      ]
     },
     "execution_count": 13,
     "metadata": {},
     "output_type": "execute_result"
    }
   ],
   "source": [
    "type(float(expr.evalf(subs={x:2,y:3})))"
   ]
  },
  {
   "cell_type": "markdown",
   "metadata": {},
   "source": [
    "## <font size=5><span id=\"11.3\"> 11.3 高级运算</span></font>"
   ]
  },
  {
   "cell_type": "markdown",
   "metadata": {},
   "source": [
    "### <font size=5><span id=\"11.3.1\"> 11.3.1 求导</span></font>\n",
    "- sympy.diff"
   ]
  },
  {
   "cell_type": "markdown",
   "metadata": {},
   "source": [
    "$\\sin(x) \\cdot \\mathrm{e}^{x}$ 对 $x$ 的导数"
   ]
  },
  {
   "cell_type": "code",
   "execution_count": 28,
   "metadata": {
    "scrolled": true
   },
   "outputs": [
    {
     "data": {
      "text/latex": [
       "$\\displaystyle e^{x} \\sin{\\left(x \\right)} + e^{x} \\cos{\\left(x \\right)}$"
      ],
      "text/plain": [
       "exp(x)*sin(x) + exp(x)*cos(x)"
      ]
     },
     "execution_count": 28,
     "metadata": {},
     "output_type": "execute_result"
    }
   ],
   "source": [
    "x = sp.symbols('x')\n",
    "sp.diff(sp.sin(x)*sp.exp(x), x)    # 能否用 math.sin 或者 np.sin?"
   ]
  },
  {
   "cell_type": "markdown",
   "metadata": {},
   "source": [
    "求 N 阶导"
   ]
  },
  {
   "cell_type": "code",
   "execution_count": 63,
   "metadata": {},
   "outputs": [
    {
     "data": {
      "text/latex": [
       "$\\displaystyle 2 e^{x} \\cos{\\left(x \\right)}$"
      ],
      "text/plain": [
       "2*exp(x)*cos(x)"
      ]
     },
     "execution_count": 63,
     "metadata": {},
     "output_type": "execute_result"
    }
   ],
   "source": [
    "sp.diff(sp.sin(x)*sp.exp(x), (x, 2))"
   ]
  },
  {
   "cell_type": "markdown",
   "metadata": {},
   "source": [
    "另一种写法"
   ]
  },
  {
   "cell_type": "code",
   "execution_count": 65,
   "metadata": {},
   "outputs": [
    {
     "data": {
      "text/latex": [
       "$\\displaystyle 2 e^{x} \\cos{\\left(x \\right)}$"
      ],
      "text/plain": [
       "2*exp(x)*cos(x)"
      ]
     },
     "execution_count": 65,
     "metadata": {},
     "output_type": "execute_result"
    }
   ],
   "source": [
    "x = sp.symbols('x')\n",
    "expr = sp.sin(x) * sp.exp(x)\n",
    "expr.diff((x,2))"
   ]
  },
  {
   "cell_type": "markdown",
   "metadata": {},
   "source": [
    "$\\sin(x) \\cdot \\mathrm{e}^{y}$ 对 $x$ 的偏导数"
   ]
  },
  {
   "cell_type": "code",
   "execution_count": 44,
   "metadata": {},
   "outputs": [
    {
     "data": {
      "text/latex": [
       "$\\displaystyle e^{y} \\cos{\\left(x \\right)}$"
      ],
      "text/plain": [
       "exp(y)*cos(x)"
      ]
     },
     "execution_count": 44,
     "metadata": {},
     "output_type": "execute_result"
    }
   ],
   "source": [
    "x, y = sp.symbols('x y')\n",
    "sp.diff(sp.sin(x)*sp.exp(y), x)"
   ]
  },
  {
   "cell_type": "code",
   "execution_count": null,
   "metadata": {},
   "outputs": [],
   "source": []
  },
  {
   "cell_type": "markdown",
   "metadata": {},
   "source": [
    "### <font size=5><span id=\"11.3.2\"> 11.3.2 积分</span></font>\n",
    "- sympy.integrate"
   ]
  },
  {
   "cell_type": "markdown",
   "metadata": {},
   "source": [
    "$\\int \\cos x \\cdot \\mathrm{e}^{x} \\mathrm{d}x$"
   ]
  },
  {
   "cell_type": "code",
   "execution_count": 45,
   "metadata": {},
   "outputs": [
    {
     "data": {
      "text/latex": [
       "$\\displaystyle \\frac{e^{x} \\sin{\\left(x \\right)}}{2} + \\frac{e^{x} \\cos{\\left(x \\right)}}{2}$"
      ],
      "text/plain": [
       "exp(x)*sin(x)/2 + exp(x)*cos(x)/2"
      ]
     },
     "execution_count": 45,
     "metadata": {},
     "output_type": "execute_result"
    }
   ],
   "source": [
    "x = sp.symbols('x')\n",
    "expr = sp.cos(x) * sp.exp(x)\n",
    "sp.integrate(expr, x)"
   ]
  },
  {
   "cell_type": "markdown",
   "metadata": {},
   "source": [
    "$\\int\\limits_{0}^{1} \\cos x \\cdot \\mathrm{e}^{x} \\mathrm{d}x$"
   ]
  },
  {
   "cell_type": "code",
   "execution_count": 46,
   "metadata": {
    "scrolled": true
   },
   "outputs": [
    {
     "data": {
      "text/latex": [
       "$\\displaystyle - \\frac{1}{2} + \\frac{e \\cos{\\left(1 \\right)}}{2} + \\frac{e \\sin{\\left(1 \\right)}}{2}$"
      ],
      "text/plain": [
       "-1/2 + E*cos(1)/2 + E*sin(1)/2"
      ]
     },
     "execution_count": 46,
     "metadata": {},
     "output_type": "execute_result"
    }
   ],
   "source": [
    "x = sp.symbols('x')\n",
    "expr = sp.cos(x) * sp.exp(x)\n",
    "sp.integrate(expr, (x, 0, 1))"
   ]
  },
  {
   "cell_type": "markdown",
   "metadata": {},
   "source": [
    "### <font size=5><span id=\"11.3.3\"> 11.3.3 极限</span></font>\n",
    "- sympy.limit"
   ]
  },
  {
   "cell_type": "markdown",
   "metadata": {},
   "source": [
    "$\\lim_{x \\to 0} \\frac{\\sin x}{x} $"
   ]
  },
  {
   "cell_type": "code",
   "execution_count": 47,
   "metadata": {
    "scrolled": true
   },
   "outputs": [
    {
     "data": {
      "text/latex": [
       "$\\displaystyle 1$"
      ],
      "text/plain": [
       "1"
      ]
     },
     "execution_count": 47,
     "metadata": {},
     "output_type": "execute_result"
    }
   ],
   "source": [
    "x = sp.symbols('x')\n",
    "expr = sp.sin(x) / x\n",
    "sp.limit(expr, x, 0)"
   ]
  },
  {
   "cell_type": "markdown",
   "metadata": {},
   "source": [
    "### <font size=5><span id=\"11.3.4\"> 11.3.4 求解方程</span></font>\n",
    "- sympy.solve（一般方程）\n",
    "- sympy.dsolve（微分方程）"
   ]
  },
  {
   "cell_type": "markdown",
   "metadata": {},
   "source": [
    "$x^2+4x+1=0$"
   ]
  },
  {
   "cell_type": "code",
   "execution_count": 50,
   "metadata": {
    "scrolled": true
   },
   "outputs": [
    {
     "data": {
      "text/plain": [
       "[-2 - sqrt(3), -2 + sqrt(3)]"
      ]
     },
     "execution_count": 50,
     "metadata": {},
     "output_type": "execute_result"
    }
   ],
   "source": [
    "x = sp.symbols('x')\n",
    "expr = x**2 + 4 * x + 1\n",
    "sp.solve(expr, x)"
   ]
  },
  {
   "cell_type": "markdown",
   "metadata": {},
   "source": [
    "$y^{''}+y=x$"
   ]
  },
  {
   "cell_type": "code",
   "execution_count": 56,
   "metadata": {
    "scrolled": true
   },
   "outputs": [
    {
     "data": {
      "text/latex": [
       "$\\displaystyle y{\\left(x \\right)} = C_{1} \\sin{\\left(x \\right)} + C_{2} \\cos{\\left(x \\right)} + x$"
      ],
      "text/plain": [
       "Eq(y(x), C1*sin(x) + C2*cos(x) + x)"
      ]
     },
     "execution_count": 56,
     "metadata": {},
     "output_type": "execute_result"
    }
   ],
   "source": [
    "y = sp.Function('y')\n",
    "sp.dsolve(sp.Eq(y(x).diff(x, x) + y(x), x), y(x))"
   ]
  },
  {
   "cell_type": "markdown",
   "metadata": {},
   "source": [
    "## <font size=5><span id=\"11.4\"> 11.4 案例</span></font>"
   ]
  },
  {
   "cell_type": "markdown",
   "metadata": {},
   "source": [
    "#### Gauss 积分点"
   ]
  },
  {
   "cell_type": "markdown",
   "metadata": {},
   "source": [
    "- 定义多项式：$P\\left ( \\xi  \\right ) =\\left ( \\xi - \\xi_1 \\right ) \\left ( \\xi - \\xi_2 \\right ) \\dots \\left ( \\xi - \\xi_n \\right )$\n",
    "\n",
    "- 由下列条件确定积分点的位置：$\\int\\limits_{-1}^{1} \\xi ^ i P\\left ( \\xi  \\right )  \\mathrm{d} \\xi =0$"
   ]
  },
  {
   "cell_type": "markdown",
   "metadata": {},
   "source": [
    "</left><img src='images\\chapter11\\gauss.png' width=500 style=\"float: left;\" />"
   ]
  },
  {
   "cell_type": "code",
   "execution_count": 2,
   "metadata": {},
   "outputs": [],
   "source": [
    "import numpy as np\n",
    "import sympy as sp\n",
    "import matplotlib.pyplot as plt\n",
    "\n",
    "# 计算自然坐标下的高斯积分点\n",
    "gauss_integral_lower_limit = -1.0\n",
    "gauss_integral_upper_limit =  1.0\n",
    "\n",
    "integral_point_num = 3\n",
    "# 定义 integral_point_num 次多项式 P(x)\n",
    "x = sp.symbols('x')\n",
    "unknown_symbols = ['x1', 'x2', 'x3', 'x4', 'x5', 'x6', 'x7', 'x8', 'x9', 'x10', 'x11', 'x12', 'x13', 'x14']\n",
    "solu = []\n",
    "for i in range(integral_point_num):\n",
    "    solu.append(sp.symbols(unknown_symbols[i]))\n",
    "poly = 1.0\n",
    "for i in range(integral_point_num):\n",
    "    poly = poly * (x - solu[i])\n",
    "    \n",
    "# 解方程组\n",
    "expr = []   \n",
    "for i in range(integral_point_num):           \n",
    "    integral_poly = x ** i * poly\n",
    "    expr.append(sp.integrate(integral_poly, (x, gauss_integral_lower_limit, gauss_integral_upper_limit)))\n",
    "result = sp.solve(expr,solu)\n",
    "\n",
    "# 高斯积分点\n",
    "if (integral_point_num == 1):\n",
    "    gauss_int_pos = [result[sp.symbols('x1')]]\n",
    "else:\n",
    "    gauss_int_pos = result[0]"
   ]
  },
  {
   "cell_type": "code",
   "execution_count": 3,
   "metadata": {},
   "outputs": [
    {
     "data": {
      "text/plain": [
       "[(-0.774596669241483, 0.0, 0.774596669241483),\n",
       " (-0.774596669241483, 0.774596669241483, 0.0),\n",
       " (0.0, -0.774596669241483, 0.774596669241483),\n",
       " (0.0, 0.774596669241483, -0.774596669241483),\n",
       " (0.774596669241483, -0.774596669241483, 0.0),\n",
       " (0.774596669241483, 0.0, -0.774596669241483)]"
      ]
     },
     "execution_count": 3,
     "metadata": {},
     "output_type": "execute_result"
    }
   ],
   "source": [
    "result"
   ]
  },
  {
   "cell_type": "code",
   "execution_count": null,
   "metadata": {},
   "outputs": [],
   "source": []
  }
 ],
 "metadata": {
  "kernelspec": {
   "display_name": "Python 3 (ipykernel)",
   "language": "python",
   "name": "python3"
  },
  "language_info": {
   "codemirror_mode": {
    "name": "ipython",
    "version": 3
   },
   "file_extension": ".py",
   "mimetype": "text/x-python",
   "name": "python",
   "nbconvert_exporter": "python",
   "pygments_lexer": "ipython3",
   "version": "3.11.3"
  }
 },
 "nbformat": 4,
 "nbformat_minor": 4
}
