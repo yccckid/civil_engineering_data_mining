{
 "cells": [
  {
   "cell_type": "code",
   "execution_count": null,
   "metadata": {},
   "outputs": [],
   "source": []
  },
  {
   "cell_type": "markdown",
   "metadata": {},
   "source": [
    "<span id=\"mulu\"><font face=\"黑体\" size=6>本章目录</font></span>\n",
    "* [第十二讲 NumPy模块介绍:](#12)\n",
    "\n",
    "    * [12.1 初识 NumPy](#12.1)\n",
    "        \n",
    "    * [12.2 生成 NumPy 数组](#12.2)\n",
    "    \n",
    "    * [12.3 NumPy 数组基础](#12.3)\n",
    "\n",
    "    * [12.4 NumPy 数组计算 —— 通用函数](#12.4)\n",
    "\n",
    "    * [12.5 数组计算之聚合函数aggregates](#12.5)\n",
    "\n",
    "    * [12.6 数组计算之广播(Broadcasting)](#12.6)\n",
    "\n",
    "    * [12.7 布尔数组和掩码](#12.7)\n",
    "\n",
    "    * [12.8 花式索引（fancy indexing）](#12.8)\n",
    "\n",
    "    * [12.9 排序](#12.8)\n",
    "\n",
    "    * [12.10 NumPy的结构化数据](#12.10)\n",
    "\n"
   ]
  },
  {
   "cell_type": "markdown",
   "metadata": {},
   "source": [
    "# <font size=5><span id=\"12\"> 第十二讲 NumPy</span></font>\n",
    "- 本讲预计讲2周"
   ]
  },
  {
   "cell_type": "markdown",
   "metadata": {},
   "source": [
    "## <font size=5><span id=\"12.1\"> 12.1 初识 NumPy</span></font>"
   ]
  },
  {
   "cell_type": "markdown",
   "metadata": {},
   "source": [
    "### 12.1.1  为什么会有 NumPy？"
   ]
  },
  {
   "cell_type": "markdown",
   "metadata": {},
   "source": [
    " Python 是慢的, 简单来说, 因为 Python 执行你代码的时候会执行很多复杂的 \"check\" 功能, 比如当你赋值"
   ]
  },
  {
   "cell_type": "code",
   "execution_count": 1,
   "metadata": {},
   "outputs": [
    {
     "data": {
      "text/plain": [
       "3.0703101013202336"
      ]
     },
     "execution_count": 1,
     "metadata": {},
     "output_type": "execute_result"
    }
   ],
   "source": [
    "#看看速度差异\n",
    "1/0.3257"
   ]
  },
  {
   "cell_type": "code",
   "execution_count": 2,
   "metadata": {},
   "outputs": [
    {
     "data": {
      "text/plain": [
       "3.0703101013202336"
      ]
     },
     "execution_count": 2,
     "metadata": {},
     "output_type": "execute_result"
    }
   ],
   "source": [
    "#看看速度差异\n",
    "1.0/0.3257  "
   ]
  },
  {
   "cell_type": "code",
   "execution_count": 3,
   "metadata": {},
   "outputs": [
    {
     "name": "stdout",
     "output_type": "stream",
     "text": [
      "Running time: 1.2732911000057356 Seconds\n"
     ]
    }
   ],
   "source": [
    "import timeit  \n",
    "b = 1\n",
    "start=timeit.default_timer()  ##默认的计时器\n",
    "for i in range(10000000):\n",
    "    b / 0.3257 \n",
    "end=timeit.default_timer()\n",
    "print('Running time: %s Seconds'%(end-start))"
   ]
  },
  {
   "cell_type": "code",
   "execution_count": 4,
   "metadata": {},
   "outputs": [
    {
     "name": "stdout",
     "output_type": "stream",
     "text": [
      "Running time: 1.1214079999917885 Seconds\n"
     ]
    }
   ],
   "source": [
    "import timeit\n",
    "b = 1.0\n",
    "start=timeit.default_timer()\n",
    "for i in range(10000000):\n",
    "    b / 0.3257\n",
    "end=timeit.default_timer()\n",
    "print('Running time: %s Seconds'%(end-start))"
   ]
  },
  {
   "cell_type": "code",
   "execution_count": 5,
   "metadata": {},
   "outputs": [
    {
     "name": "stdout",
     "output_type": "stream",
     "text": [
      "14.2 ns ± 0.323 ns per loop (mean ± std. dev. of 7 runs, 100000000 loops each)\n"
     ]
    }
   ],
   "source": [
    "%%timeit\n",
    "1/0.3257"
   ]
  },
  {
   "cell_type": "code",
   "execution_count": 6,
   "metadata": {},
   "outputs": [
    {
     "name": "stdout",
     "output_type": "stream",
     "text": [
      "14.3 ns ± 0.203 ns per loop (mean ± std. dev. of 7 runs, 100000000 loops each)\n"
     ]
    }
   ],
   "source": [
    "%%timeit\n",
    "1.0/0.3257"
   ]
  },
  {
   "cell_type": "markdown",
   "metadata": {},
   "source": [
    "why? 看似简单, 但是在计算机内部, b 首先要从一个整数 integer 转换成浮点数 float"
   ]
  },
  {
   "cell_type": "markdown",
   "metadata": {},
   "source": [
    "- 在Python中，采用容器加载、保存和处理数据\n",
    "\n",
    "- Python的array模块，array对象和列表不同，直接保存数值，和C语言的一维数组比较类似  \n",
    " 但是由于它`不支持多维`，也`没有各种运算函数`，因此也不适合做数值运算。\n",
    "- 高效的贮存和处理数组，对于数据科学是至关重要的（在已经存在诸多容器的情况下）\n",
    "\n",
    "#### 答案：为了高效率！"
   ]
  },
  {
   "cell_type": "markdown",
   "metadata": {},
   "source": [
    "### 12.1.2  明白 NumPy 的特点和优势\n",
    "\n",
    "- NumPy (*Numerical Python* 的简称)提供了贮存和操作数据的接口\n",
    "- NumPy 数组类似于Python的内置``list``类型,但更高效\n",
    "- 特别在处理大数据时，优势显著\n",
    "\n",
    "#### NumPy 数组成为 Python 环境下数据科学工具的核心！\n",
    "\n",
    "- 值得花时间钻研学习"
   ]
  },
  {
   "cell_type": "markdown",
   "metadata": {},
   "source": [
    "### 12.1.3   NumPy 模块的导入方式"
   ]
  },
  {
   "cell_type": "code",
   "execution_count": 7,
   "metadata": {},
   "outputs": [
    {
     "data": {
      "text/plain": [
       "'1.19.2'"
      ]
     },
     "execution_count": 7,
     "metadata": {},
     "output_type": "execute_result"
    }
   ],
   "source": [
    "import numpy\n",
    "numpy.__version__"
   ]
  },
  {
   "cell_type": "markdown",
   "metadata": {},
   "source": [
    "NumPy的推荐版本，1.19 或更新，通常人们习惯导入NumPy并简称``np``。"
   ]
  },
  {
   "cell_type": "code",
   "execution_count": 8,
   "metadata": {},
   "outputs": [],
   "source": [
    "import numpy as np"
   ]
  },
  {
   "cell_type": "markdown",
   "metadata": {},
   "source": [
    "### 12.1.4    获得帮助 —— NumPy 的内置文档\n",
    "\n",
    "- 显示 NumPy 命名域的全部内容\n",
    "\n",
    "```ipython\n",
    "In [3]: np.<TAB>\n",
    "```\n",
    "\n",
    "- 显示 NumPy 内置文档\n",
    "\n",
    "```ipython\n",
    "In [4]: np?\n",
    "```\n",
    "\n",
    "获得手册指南，点[链接](http://www.numpy.org)。"
   ]
  },
  {
   "cell_type": "code",
   "execution_count": 9,
   "metadata": {},
   "outputs": [],
   "source": [
    "np?"
   ]
  },
  {
   "cell_type": "code",
   "execution_count": 10,
   "metadata": {},
   "outputs": [],
   "source": [
    "np.argmax?"
   ]
  },
  {
   "cell_type": "code",
   "execution_count": null,
   "metadata": {},
   "outputs": [],
   "source": [
    "dir(np)"
   ]
  },
  {
   "cell_type": "markdown",
   "metadata": {},
   "source": [
    "[返回目录](#mulu)"
   ]
  },
  {
   "cell_type": "markdown",
   "metadata": {},
   "source": [
    "## <font size=5><span id=\"12.2\"> 12.2 生成 NumPy 数组</span></font>"
   ]
  },
  {
   "cell_type": "markdown",
   "metadata": {},
   "source": [
    "#### (1)导入模块，惯例用简称 `np`"
   ]
  },
  {
   "cell_type": "code",
   "execution_count": 2,
   "metadata": {},
   "outputs": [],
   "source": [
    "import numpy as np"
   ]
  },
  {
   "cell_type": "markdown",
   "metadata": {},
   "source": [
    "#### (2) 创建数组\n",
    "\n",
    "- 从 python 列表创建数组"
   ]
  },
  {
   "cell_type": "code",
   "execution_count": 13,
   "metadata": {},
   "outputs": [
    {
     "data": {
      "text/plain": [
       "array([1, 4, 2, 5, 3])"
      ]
     },
     "execution_count": 13,
     "metadata": {},
     "output_type": "execute_result"
    }
   ],
   "source": [
    "# 整数数组\n",
    "from_list1 = np.array([1, 4, 2, 5, 3])\n",
    "from_list1"
   ]
  },
  {
   "cell_type": "code",
   "execution_count": 14,
   "metadata": {},
   "outputs": [
    {
     "data": {
      "text/plain": [
       "array([3.14, 4.  , 2.  , 3.  ])"
      ]
     },
     "execution_count": 14,
     "metadata": {},
     "output_type": "execute_result"
    }
   ],
   "source": [
    "# 小数数组\n",
    "from_list2 = np.array([3.14, 4, 2, 3])\n",
    "from_list2"
   ]
  },
  {
   "cell_type": "code",
   "execution_count": 16,
   "metadata": {},
   "outputs": [
    {
     "data": {
      "text/plain": [
       "numpy.ndarray"
      ]
     },
     "execution_count": 16,
     "metadata": {},
     "output_type": "execute_result"
    }
   ],
   "source": [
    "# 字符列表\n",
    "a = np.array(['a', 'b', 'c'])\n",
    "type(a)"
   ]
  },
  {
   "cell_type": "code",
   "execution_count": 18,
   "metadata": {},
   "outputs": [
    {
     "data": {
      "text/plain": [
       "numpy.ndarray"
      ]
     },
     "execution_count": 18,
     "metadata": {},
     "output_type": "execute_result"
    }
   ],
   "source": [
    "# 数据类型不一的列表\n",
    "a = np.array(['a', 1, 'abcdefghijk'])\n",
    "type(a)"
   ]
  },
  {
   "cell_type": "code",
   "execution_count": 19,
   "metadata": {},
   "outputs": [
    {
     "data": {
      "text/plain": [
       "array(['a', '1', 'abcdefghijk'], dtype='<U11')"
      ]
     },
     "execution_count": 19,
     "metadata": {},
     "output_type": "execute_result"
    }
   ],
   "source": [
    "# a内容是什么？\n",
    "a"
   ]
  },
  {
   "cell_type": "code",
   "execution_count": 6,
   "metadata": {},
   "outputs": [
    {
     "ename": "ValueError",
     "evalue": "setting an array element with a sequence. The requested array has an inhomogeneous shape after 1 dimensions. The detected shape was (2,) + inhomogeneous part.",
     "output_type": "error",
     "traceback": [
      "\u001b[1;31m---------------------------------------------------------------------------\u001b[0m",
      "\u001b[1;31mValueError\u001b[0m                                Traceback (most recent call last)",
      "Cell \u001b[1;32mIn[6], line 2\u001b[0m\n\u001b[0;32m      1\u001b[0m \u001b[38;5;66;03m# 嵌套列表 \u001b[39;00m\n\u001b[1;32m----> 2\u001b[0m a \u001b[38;5;241m=\u001b[39m np\u001b[38;5;241m.\u001b[39marray([\u001b[38;5;124m'\u001b[39m\u001b[38;5;124ma\u001b[39m\u001b[38;5;124m'\u001b[39m, [\u001b[38;5;241m1\u001b[39m,\u001b[38;5;241m2\u001b[39m]])\n",
      "\u001b[1;31mValueError\u001b[0m: setting an array element with a sequence. The requested array has an inhomogeneous shape after 1 dimensions. The detected shape was (2,) + inhomogeneous part."
     ]
    }
   ],
   "source": [
    "# 嵌套列表 \n",
    "a = np.array(['a', [1,2]])"
   ]
  },
  {
   "cell_type": "code",
   "execution_count": 22,
   "metadata": {},
   "outputs": [
    {
     "data": {
      "text/plain": [
       "array([[1, 2],\n",
       "       [3, 4]])"
      ]
     },
     "execution_count": 22,
     "metadata": {},
     "output_type": "execute_result"
    }
   ],
   "source": [
    "# 嵌套列表 \n",
    "a = np.array([[1,2], [3,4]])\n",
    "a"
   ]
  },
  {
   "cell_type": "markdown",
   "metadata": {},
   "source": [
    "#### (3)类型指定\n",
    "\n",
    "使用``dtype``关键字，显式设置数据类型"
   ]
  },
  {
   "cell_type": "code",
   "execution_count": 12,
   "metadata": {},
   "outputs": [
    {
     "data": {
      "text/plain": [
       "array([1., 2., 3., 4.], dtype=float32)"
      ]
     },
     "execution_count": 12,
     "metadata": {},
     "output_type": "execute_result"
    }
   ],
   "source": [
    "np.array([1, 2, 3, 4], dtype='float32')"
   ]
  },
  {
   "cell_type": "markdown",
   "metadata": {},
   "source": [
    "#### (4)内建函数创建数组\n",
    "- np.zeros()\n",
    "- np.ones()\n",
    "- np.full()\n",
    "- np.arange()\n",
    "- np.linspace()\n",
    "- np.eye()\n",
    "- np.empty()\n",
    "- np.random.???()  \n",
    "- 等等"
   ]
  },
  {
   "cell_type": "code",
   "execution_count": null,
   "metadata": {},
   "outputs": [],
   "source": [
    "import numpy as np"
   ]
  },
  {
   "cell_type": "markdown",
   "metadata": {},
   "source": [
    "使用NumPy内建函数创建数组，如下几例"
   ]
  },
  {
   "cell_type": "markdown",
   "metadata": {},
   "source": [
    "- np.zeros 填充0"
   ]
  },
  {
   "cell_type": "code",
   "execution_count": 29,
   "metadata": {},
   "outputs": [
    {
     "data": {
      "text/plain": [
       "array([0, 0, 0, 0, 0, 0, 0, 0, 0, 0])"
      ]
     },
     "execution_count": 29,
     "metadata": {},
     "output_type": "execute_result"
    }
   ],
   "source": [
    "# 创建10个元素的数组，所有元素用零填充\n",
    "np.zeros(10, dtype=int)"
   ]
  },
  {
   "cell_type": "code",
   "execution_count": 30,
   "metadata": {},
   "outputs": [
    {
     "data": {
      "text/plain": [
       "array([[0, 0, 0, 0, 0, 0, 0, 0, 0, 0]])"
      ]
     },
     "execution_count": 30,
     "metadata": {},
     "output_type": "execute_result"
    }
   ],
   "source": [
    "# 创建10个元素的数组，所有元素用零填充\n",
    "np.zeros((1,10), dtype=int)"
   ]
  },
  {
   "cell_type": "code",
   "execution_count": 31,
   "metadata": {},
   "outputs": [
    {
     "data": {
      "text/plain": [
       "array([[0],\n",
       "       [0],\n",
       "       [0],\n",
       "       [0],\n",
       "       [0],\n",
       "       [0],\n",
       "       [0],\n",
       "       [0],\n",
       "       [0],\n",
       "       [0]])"
      ]
     },
     "execution_count": 31,
     "metadata": {},
     "output_type": "execute_result"
    }
   ],
   "source": [
    "# 创建10个元素的数组，所有元素用零填充\n",
    "np.zeros((10,1), dtype=int)"
   ]
  },
  {
   "cell_type": "markdown",
   "metadata": {},
   "source": [
    "- np.ones 填充1"
   ]
  },
  {
   "cell_type": "code",
   "execution_count": 32,
   "metadata": {},
   "outputs": [
    {
     "data": {
      "text/plain": [
       "array([[1., 1., 1., 1., 1.],\n",
       "       [1., 1., 1., 1., 1.],\n",
       "       [1., 1., 1., 1., 1.]])"
      ]
     },
     "execution_count": 32,
     "metadata": {},
     "output_type": "execute_result"
    }
   ],
   "source": [
    "# 创建一 3 x 5 浮点数组，各元素用填充值 1\n",
    "np.ones((3, 5), dtype=float)"
   ]
  },
  {
   "cell_type": "markdown",
   "metadata": {},
   "source": [
    "- np.full 填充\n",
    "    - np.full(shape, fill_value, dtype=None, order='C')"
   ]
  },
  {
   "cell_type": "code",
   "execution_count": 33,
   "metadata": {},
   "outputs": [
    {
     "data": {
      "text/plain": [
       "array([[3.14, 3.14, 3.14, 3.14, 3.14],\n",
       "       [3.14, 3.14, 3.14, 3.14, 3.14],\n",
       "       [3.14, 3.14, 3.14, 3.14, 3.14]])"
      ]
     },
     "execution_count": 33,
     "metadata": {},
     "output_type": "execute_result"
    }
   ],
   "source": [
    "# 创建一 3 x 5 浮点数组，各元素用 3.14 填充值\n",
    "np.full((3, 5), 3.14)"
   ]
  },
  {
   "cell_type": "markdown",
   "metadata": {},
   "source": [
    "- np.arange # 创建线性序列数组\n",
    "    - np.arange([start,] stop[, step,], dtype=None)\n",
    "    - 与内建函数 range() 相比较，有类似性"
   ]
  },
  {
   "cell_type": "code",
   "execution_count": 34,
   "metadata": {},
   "outputs": [
    {
     "data": {
      "text/plain": [
       "array([ 0,  2,  4,  6,  8, 10, 12, 14, 16, 18])"
      ]
     },
     "execution_count": 34,
     "metadata": {},
     "output_type": "execute_result"
    }
   ],
   "source": [
    "np.arange(0, 20, 2)"
   ]
  },
  {
   "cell_type": "markdown",
   "metadata": {},
   "source": [
    "- np.linspace\n",
    "```python\n",
    "np.linspace(\n",
    "    start,\n",
    "    stop,\n",
    "    num=50,\n",
    "    endpoint=True,\n",
    "    retstep=False,\n",
    "    dtype=None,\n",
    "    axis=0,\n",
    ")\n",
    "```"
   ]
  },
  {
   "cell_type": "code",
   "execution_count": 38,
   "metadata": {},
   "outputs": [
    {
     "data": {
      "text/plain": [
       "array([  0.,   1.,   2.,   3.,   4.,   5.,   6.,   7.,   8.,   9.,  10.,\n",
       "        11.,  12.,  13.,  14.,  15.,  16.,  17.,  18.,  19.,  20.,  21.,\n",
       "        22.,  23.,  24.,  25.,  26.,  27.,  28.,  29.,  30.,  31.,  32.,\n",
       "        33.,  34.,  35.,  36.,  37.,  38.,  39.,  40.,  41.,  42.,  43.,\n",
       "        44.,  45.,  46.,  47.,  48.,  49.,  50.,  51.,  52.,  53.,  54.,\n",
       "        55.,  56.,  57.,  58.,  59.,  60.,  61.,  62.,  63.,  64.,  65.,\n",
       "        66.,  67.,  68.,  69.,  70.,  71.,  72.,  73.,  74.,  75.,  76.,\n",
       "        77.,  78.,  79.,  80.,  81.,  82.,  83.,  84.,  85.,  86.,  87.,\n",
       "        88.,  89.,  90.,  91.,  92.,  93.,  94.,  95.,  96.,  97.,  98.,\n",
       "        99., 100.])"
      ]
     },
     "execution_count": 38,
     "metadata": {},
     "output_type": "execute_result"
    }
   ],
   "source": [
    "# 创建5个元素的浮点数组\n",
    "np.linspace(0, 100, 101)"
   ]
  },
  {
   "cell_type": "code",
   "execution_count": 17,
   "metadata": {},
   "outputs": [
    {
     "data": {
      "text/plain": [
       "array([0., 1., 2., 3., 4., 5., 6., 7., 8., 9.])"
      ]
     },
     "execution_count": 17,
     "metadata": {},
     "output_type": "execute_result"
    }
   ],
   "source": [
    "np.linspace(0, 10, 10, False)"
   ]
  },
  {
   "cell_type": "code",
   "execution_count": null,
   "metadata": {},
   "outputs": [],
   "source": [
    "np.linspace(0, 10, 20, False,retstep = True) # retstep = return step的意思"
   ]
  },
  {
   "cell_type": "markdown",
   "metadata": {},
   "source": [
    "- np.random 功能丰富\n",
    "    - np.random.random # 生成介于0和1之间的随机数\n",
    "    - np.random.normal # 均值零，标准差为1\n",
    "    - np.random.randint # 随机整数组\n",
    "<img src=\"images\\chapter12\\np_random.jpg\" width=500>"
   ]
  },
  {
   "cell_type": "code",
   "execution_count": 39,
   "metadata": {},
   "outputs": [
    {
     "data": {
      "text/plain": [
       "array([[0.39545567, 0.03494311, 0.46847829],\n",
       "       [0.54010725, 0.0404593 , 0.27995229],\n",
       "       [0.9392156 , 0.98875933, 0.49974158]])"
      ]
     },
     "execution_count": 39,
     "metadata": {},
     "output_type": "execute_result"
    }
   ],
   "source": [
    "# 创建 3x3 均匀分布的数组\n",
    "# 生成介于0和1之间的随机数\n",
    "np.random.random((3, 3))"
   ]
  },
  {
   "cell_type": "code",
   "execution_count": 40,
   "metadata": {},
   "outputs": [
    {
     "data": {
      "text/plain": [
       "array([[ 1.14877547, -0.15234343,  0.37471405],\n",
       "       [-0.05566582, -1.1751166 ,  0.53374736],\n",
       "       [-0.58381165,  0.21671752, -0.70509491]])"
      ]
     },
     "execution_count": 40,
     "metadata": {},
     "output_type": "execute_result"
    }
   ],
   "source": [
    "# 创建 3x3 正态分布的随机数组\n",
    "# 均值零，标准差为1\n",
    "np.random.normal(loc = 0, scale = 1, size = (3, 3)) #"
   ]
  },
  {
   "cell_type": "code",
   "execution_count": 41,
   "metadata": {},
   "outputs": [
    {
     "data": {
      "text/plain": [
       "array([[ 0.84256041, -1.64878722, -0.67361853],\n",
       "       [-0.36368445,  0.58705041,  1.31211175],\n",
       "       [-0.64143726,  1.07442343,  0.79532774]])"
      ]
     },
     "execution_count": 41,
     "metadata": {},
     "output_type": "execute_result"
    }
   ],
   "source": [
    "np.random.normal(0, 1, (3, 3))"
   ]
  },
  {
   "cell_type": "code",
   "execution_count": 42,
   "metadata": {},
   "outputs": [
    {
     "data": {
      "text/plain": [
       "array([[9, 8, 6],\n",
       "       [3, 0, 2],\n",
       "       [2, 9, 2]])"
      ]
     },
     "execution_count": 42,
     "metadata": {},
     "output_type": "execute_result"
    }
   ],
   "source": [
    "# 创建 3x3 随机整数组\n",
    "# randint(low, high=None, size=None, dtype=int)\n",
    "np.random.randint(0, 10, (3, 3))"
   ]
  },
  {
   "cell_type": "markdown",
   "metadata": {},
   "source": [
    "- np.eye\n",
    "    - np.eye(N, M=None, k=0, dtype=<class 'float'>, order='C')"
   ]
  },
  {
   "cell_type": "code",
   "execution_count": 43,
   "metadata": {},
   "outputs": [
    {
     "data": {
      "text/plain": [
       "array([[1., 0., 0., 0.],\n",
       "       [0., 1., 0., 0.],\n",
       "       [0., 0., 1., 0.],\n",
       "       [0., 0., 0., 1.]])"
      ]
     },
     "execution_count": 43,
     "metadata": {},
     "output_type": "execute_result"
    }
   ],
   "source": [
    "# 创建 3x3 单位矩阵\n",
    "np.eye(4)"
   ]
  },
  {
   "cell_type": "code",
   "execution_count": 44,
   "metadata": {},
   "outputs": [
    {
     "data": {
      "text/plain": [
       "array([[0., 0., 1., 0.],\n",
       "       [0., 0., 0., 1.],\n",
       "       [0., 0., 0., 0.],\n",
       "       [0., 0., 0., 0.]])"
      ]
     },
     "execution_count": 44,
     "metadata": {},
     "output_type": "execute_result"
    }
   ],
   "source": [
    "np.eye(4,k=2)"
   ]
  },
  {
   "cell_type": "code",
   "execution_count": 45,
   "metadata": {},
   "outputs": [
    {
     "data": {
      "text/plain": [
       "array([[0., 1., 0.],\n",
       "       [0., 0., 1.],\n",
       "       [0., 0., 0.],\n",
       "       [0., 0., 0.],\n",
       "       [0., 0., 0.]])"
      ]
     },
     "execution_count": 45,
     "metadata": {},
     "output_type": "execute_result"
    }
   ],
   "source": [
    "np.eye(5,3,k=1)"
   ]
  },
  {
   "cell_type": "markdown",
   "metadata": {},
   "source": [
    "- np.empty(shape, dtype=float, order='C')\n",
    "    - 创建未初始化数组，含三个整数\n",
    "    - 填充值与内存中的内容有关 \n",
    "    - 任意的值"
   ]
  },
  {
   "cell_type": "code",
   "execution_count": 46,
   "metadata": {},
   "outputs": [
    {
     "data": {
      "text/plain": [
       "array([ 1.,  2.,  3.,  4.,  5.,  6.,  7.,  8.,  9., 10.])"
      ]
     },
     "execution_count": 46,
     "metadata": {},
     "output_type": "execute_result"
    }
   ],
   "source": [
    "a = np.empty(10)\n",
    "a"
   ]
  },
  {
   "cell_type": "code",
   "execution_count": 47,
   "metadata": {},
   "outputs": [
    {
     "data": {
      "text/plain": [
       "array([[1., 1.],\n",
       "       [1., 1.]])"
      ]
     },
     "execution_count": 47,
     "metadata": {},
     "output_type": "execute_result"
    }
   ],
   "source": [
    "np.empty([2, 2])"
   ]
  },
  {
   "cell_type": "code",
   "execution_count": 48,
   "metadata": {},
   "outputs": [
    {
     "data": {
      "text/plain": [
       "array([[         0, 1072693248],\n",
       "       [         0, 1072693248]])"
      ]
     },
     "execution_count": 48,
     "metadata": {},
     "output_type": "execute_result"
    }
   ],
   "source": [
    "np.empty([2, 2],dtype='int')"
   ]
  },
  {
   "cell_type": "markdown",
   "metadata": {},
   "source": [
    "- 创建一样大的数组\n",
    "    - np.zeros_like()\n",
    "    - np.ones_like()\n",
    "    - np.empty_like()\n",
    "    - np.full_like()\n",
    "<img src=\"images\\chapter12\\np_like.jpg\" width=500>"
   ]
  },
  {
   "cell_type": "code",
   "execution_count": 49,
   "metadata": {},
   "outputs": [
    {
     "data": {
      "text/plain": [
       "array([[1., 1., 1., 1.],\n",
       "       [1., 1., 1., 1.],\n",
       "       [1., 1., 1., 1.],\n",
       "       [1., 1., 1., 1.]])"
      ]
     },
     "execution_count": 49,
     "metadata": {},
     "output_type": "execute_result"
    }
   ],
   "source": [
    "a = np.eye(4)\n",
    "b = np.ones_like(a)\n",
    "b"
   ]
  },
  {
   "cell_type": "code",
   "execution_count": 50,
   "metadata": {},
   "outputs": [
    {
     "data": {
      "text/plain": [
       "array([[7., 7., 7., 7.],\n",
       "       [7., 7., 7., 7.],\n",
       "       [7., 7., 7., 7.],\n",
       "       [7., 7., 7., 7.]])"
      ]
     },
     "execution_count": 50,
     "metadata": {},
     "output_type": "execute_result"
    }
   ],
   "source": [
    "c = np.full_like(a,7)\n",
    "c"
   ]
  },
  {
   "cell_type": "markdown",
   "metadata": {},
   "source": [
    "### 12.2.7   NumPy标准数据类型\n",
    "\n",
    "标准NumPy数据类型见下表\n",
    "\n",
    "创建数组时，可指定数据类型\n",
    "\n",
    "```python\n",
    "np.zeros(10, dtype='int16')\n",
    "```\n",
    "\n",
    "使用相关的NumPy对象\n",
    "\n",
    "```python\n",
    "np.zeros(10, dtype=np.int16)"
   ]
  },
  {
   "cell_type": "markdown",
   "metadata": {},
   "source": [
    "| 数据类型\t    | 描述|\n",
    "|---------------|-------------|\n",
    "| ``bool_``     | Boolean (True or False) stored as a byte |\n",
    "| ``int_``      | Default integer type (same as C ``long``; normally either ``int64`` or ``int32``)| \n",
    "| ``intc``      | Identical to C ``int`` (normally ``int32`` or ``int64``)| \n",
    "| ``intp``      | Integer used for indexing (same as C ``ssize_t``; normally either ``int32`` or ``int64``)| \n",
    "| ``int8``      | Byte (-128 to 127)| \n",
    "| ``int16``     | Integer (-32768 to 32767)|\n",
    "| ``int32``     | Integer (-2147483648 to 2147483647)|\n",
    "| ``int64``     | Integer (-9223372036854775808 to 9223372036854775807)| \n",
    "| ``uint8``     | Unsigned integer (0 to 255)| \n",
    "| ``uint16``    | Unsigned integer (0 to 65535)| \n",
    "| ``uint32``    | Unsigned integer (0 to 4294967295)| \n",
    "| ``uint64``    | Unsigned integer (0 to 18446744073709551615)| \n",
    "| ``float_``    | Shorthand for ``float64``.| \n",
    "| ``float16``   | Half precision float: sign bit, 5 bits exponent, 10 bits mantissa| \n",
    "| ``float32``   | Single precision float: sign bit, 8 bits exponent, 23 bits mantissa| \n",
    "| ``float64``   | Double precision float: sign bit, 11 bits exponent, 52 bits mantissa| \n",
    "| ``complex_``  | Shorthand for ``complex128``.| \n",
    "| ``complex64`` | Complex number, represented by two 32-bit floats| \n",
    "| ``complex128``| Complex number, represented by two 64-bit floats| "
   ]
  },
  {
   "cell_type": "markdown",
   "metadata": {},
   "source": [
    "[返回目录](#mulu)"
   ]
  },
  {
   "cell_type": "markdown",
   "metadata": {},
   "source": [
    "## <font size=5><span id=\"12.3\"> 12.3 NumPy 数组基础</span></font>"
   ]
  },
  {
   "cell_type": "markdown",
   "metadata": {},
   "source": [
    "### 12.3.1  本节要点 —— 用实例讨论 NumPy 数组处理\n",
    "\n",
    "- 访问数据和子数组\n",
    "- 分割、重构(reshape)、合成(join)\n",
    "\n",
    "\n",
    "#### 涉及一些新型数组操作\n",
    "\n",
    "- *数组属性*： 确定 size、shape、内存开销(memory consumption)及数据类型\n",
    "- *数组索引*： 获得/设置 数组元素值\n",
    "- *数组的切片*： 获得/设置 小数组\n",
    "- *重构数组*： 改变已知数组的构型(shape)\n",
    "- *合成与分割*： 多合一、一分多"
   ]
  },
  {
   "cell_type": "markdown",
   "metadata": {},
   "source": [
    "### 12.3.2   NumPy 数组属性"
   ]
  },
  {
   "cell_type": "markdown",
   "metadata": {},
   "source": [
    "####  示例 —— 生成随机数组\n",
    "\n",
    "- 三个随机数组，分别是一、二、三维\n",
    "- 使用随机数生成器，预置随机种子"
   ]
  },
  {
   "cell_type": "code",
   "execution_count": 51,
   "metadata": {},
   "outputs": [
    {
     "data": {
      "text/plain": [
       "array([2, 5, 1, 4, 9, 5])"
      ]
     },
     "execution_count": 51,
     "metadata": {},
     "output_type": "execute_result"
    }
   ],
   "source": [
    "import numpy as np\n",
    "\n",
    "np.random.seed(12345)  # 随机种子，便于重复生成  #去掉参数试试看？？\n",
    "\n",
    "x1 = np.random.randint(10, size=6)  # 一维数组\n",
    "x2 = np.random.randint(10, size=(3, 4))  # 二维数组\n",
    "x1"
   ]
  },
  {
   "cell_type": "code",
   "execution_count": 52,
   "metadata": {},
   "outputs": [
    {
     "data": {
      "text/plain": [
       "array([[2, 1, 6, 1],\n",
       "       [9, 7, 6, 0],\n",
       "       [2, 9, 1, 2]])"
      ]
     },
     "execution_count": 52,
     "metadata": {},
     "output_type": "execute_result"
    }
   ],
   "source": [
    "x2"
   ]
  },
  {
   "cell_type": "code",
   "execution_count": 53,
   "metadata": {
    "collapsed": true
   },
   "outputs": [
    {
     "data": {
      "text/plain": [
       "['T',\n",
       " '__abs__',\n",
       " '__add__',\n",
       " '__and__',\n",
       " '__array__',\n",
       " '__array_finalize__',\n",
       " '__array_function__',\n",
       " '__array_interface__',\n",
       " '__array_prepare__',\n",
       " '__array_priority__',\n",
       " '__array_struct__',\n",
       " '__array_ufunc__',\n",
       " '__array_wrap__',\n",
       " '__bool__',\n",
       " '__class__',\n",
       " '__complex__',\n",
       " '__contains__',\n",
       " '__copy__',\n",
       " '__deepcopy__',\n",
       " '__delattr__',\n",
       " '__delitem__',\n",
       " '__dir__',\n",
       " '__divmod__',\n",
       " '__doc__',\n",
       " '__eq__',\n",
       " '__float__',\n",
       " '__floordiv__',\n",
       " '__format__',\n",
       " '__ge__',\n",
       " '__getattribute__',\n",
       " '__getitem__',\n",
       " '__gt__',\n",
       " '__hash__',\n",
       " '__iadd__',\n",
       " '__iand__',\n",
       " '__ifloordiv__',\n",
       " '__ilshift__',\n",
       " '__imatmul__',\n",
       " '__imod__',\n",
       " '__imul__',\n",
       " '__index__',\n",
       " '__init__',\n",
       " '__init_subclass__',\n",
       " '__int__',\n",
       " '__invert__',\n",
       " '__ior__',\n",
       " '__ipow__',\n",
       " '__irshift__',\n",
       " '__isub__',\n",
       " '__iter__',\n",
       " '__itruediv__',\n",
       " '__ixor__',\n",
       " '__le__',\n",
       " '__len__',\n",
       " '__lshift__',\n",
       " '__lt__',\n",
       " '__matmul__',\n",
       " '__mod__',\n",
       " '__mul__',\n",
       " '__ne__',\n",
       " '__neg__',\n",
       " '__new__',\n",
       " '__or__',\n",
       " '__pos__',\n",
       " '__pow__',\n",
       " '__radd__',\n",
       " '__rand__',\n",
       " '__rdivmod__',\n",
       " '__reduce__',\n",
       " '__reduce_ex__',\n",
       " '__repr__',\n",
       " '__rfloordiv__',\n",
       " '__rlshift__',\n",
       " '__rmatmul__',\n",
       " '__rmod__',\n",
       " '__rmul__',\n",
       " '__ror__',\n",
       " '__rpow__',\n",
       " '__rrshift__',\n",
       " '__rshift__',\n",
       " '__rsub__',\n",
       " '__rtruediv__',\n",
       " '__rxor__',\n",
       " '__setattr__',\n",
       " '__setitem__',\n",
       " '__setstate__',\n",
       " '__sizeof__',\n",
       " '__str__',\n",
       " '__sub__',\n",
       " '__subclasshook__',\n",
       " '__truediv__',\n",
       " '__xor__',\n",
       " 'all',\n",
       " 'any',\n",
       " 'argmax',\n",
       " 'argmin',\n",
       " 'argpartition',\n",
       " 'argsort',\n",
       " 'astype',\n",
       " 'base',\n",
       " 'byteswap',\n",
       " 'choose',\n",
       " 'clip',\n",
       " 'compress',\n",
       " 'conj',\n",
       " 'conjugate',\n",
       " 'copy',\n",
       " 'ctypes',\n",
       " 'cumprod',\n",
       " 'cumsum',\n",
       " 'data',\n",
       " 'diagonal',\n",
       " 'dot',\n",
       " 'dtype',\n",
       " 'dump',\n",
       " 'dumps',\n",
       " 'fill',\n",
       " 'flags',\n",
       " 'flat',\n",
       " 'flatten',\n",
       " 'getfield',\n",
       " 'imag',\n",
       " 'item',\n",
       " 'itemset',\n",
       " 'itemsize',\n",
       " 'max',\n",
       " 'mean',\n",
       " 'min',\n",
       " 'nbytes',\n",
       " 'ndim',\n",
       " 'newbyteorder',\n",
       " 'nonzero',\n",
       " 'partition',\n",
       " 'prod',\n",
       " 'ptp',\n",
       " 'put',\n",
       " 'ravel',\n",
       " 'real',\n",
       " 'repeat',\n",
       " 'reshape',\n",
       " 'resize',\n",
       " 'round',\n",
       " 'searchsorted',\n",
       " 'setfield',\n",
       " 'setflags',\n",
       " 'shape',\n",
       " 'size',\n",
       " 'sort',\n",
       " 'squeeze',\n",
       " 'std',\n",
       " 'strides',\n",
       " 'sum',\n",
       " 'swapaxes',\n",
       " 'take',\n",
       " 'tobytes',\n",
       " 'tofile',\n",
       " 'tolist',\n",
       " 'tostring',\n",
       " 'trace',\n",
       " 'transpose',\n",
       " 'var',\n",
       " 'view']"
      ]
     },
     "execution_count": 53,
     "metadata": {},
     "output_type": "execute_result"
    }
   ],
   "source": [
    "dir(x2)"
   ]
  },
  {
   "cell_type": "markdown",
   "metadata": {},
   "source": [
    "#### 数组属性 —— ndim、shape、size\n",
    "\n",
    "- ``ndim`` —— 维数\n",
    "- ``shape`` —— 每一维的元素数\n",
    "- ``size`` —— 数组元素总数"
   ]
  },
  {
   "cell_type": "code",
   "execution_count": 54,
   "metadata": {},
   "outputs": [
    {
     "name": "stdout",
     "output_type": "stream",
     "text": [
      "x3 =: [[[6 7 7 7 8]\n",
      "  [7 1 7 4 0]\n",
      "  [3 5 7 3 1]\n",
      "  [5 2 5 3 8]]\n",
      "\n",
      " [[5 2 5 3 0]\n",
      "  [6 8 0 5 6]\n",
      "  [8 9 2 2 2]\n",
      "  [9 7 5 7 1]]\n",
      "\n",
      " [[0 9 3 0 3]\n",
      "  [0 6 2 1 5]\n",
      "  [8 6 5 1 0]\n",
      "  [5 8 2 9 4]]]\n",
      "x3 ndim:  3\n",
      "x3 shape: (3, 4, 5)\n",
      "x3 size:  60\n"
     ]
    },
    {
     "data": {
      "text/plain": [
       "array([[[6, 7, 7, 7, 8],\n",
       "        [7, 1, 7, 4, 0],\n",
       "        [3, 5, 7, 3, 1],\n",
       "        [5, 2, 5, 3, 8]],\n",
       "\n",
       "       [[5, 2, 5, 3, 0],\n",
       "        [6, 8, 0, 5, 6],\n",
       "        [8, 9, 2, 2, 2],\n",
       "        [9, 7, 5, 7, 1]],\n",
       "\n",
       "       [[0, 9, 3, 0, 3],\n",
       "        [0, 6, 2, 1, 5],\n",
       "        [8, 6, 5, 1, 0],\n",
       "        [5, 8, 2, 9, 4]]])"
      ]
     },
     "execution_count": 54,
     "metadata": {},
     "output_type": "execute_result"
    }
   ],
   "source": [
    "x3 = np.random.randint(10, size=(3, 4, 5))  # 三维数组\n",
    "print(\"x3 =:\", x3)\n",
    "print(\"x3 ndim: \", x3.ndim)\n",
    "print(\"x3 shape:\", x3.shape)\n",
    "print(\"x3 size: \", x3.size)\n",
    "x3"
   ]
  },
  {
   "cell_type": "markdown",
   "metadata": {},
   "source": [
    "#### 数组属性 —— dtype\n",
    "\n",
    "- ``dtype`` —— 数据类型"
   ]
  },
  {
   "cell_type": "code",
   "execution_count": 55,
   "metadata": {},
   "outputs": [
    {
     "name": "stdout",
     "output_type": "stream",
     "text": [
      "dtype: int32\n"
     ]
    }
   ],
   "source": [
    "print(\"dtype:\", x3.dtype)"
   ]
  },
  {
   "cell_type": "markdown",
   "metadata": {},
   "source": [
    "#### 数组属性 —— itemsize、nbytes\n",
    "\n",
    "- ``itemsize`` —— 单个元素的字节数\n",
    "- ``nbytes`` —— 总字节数"
   ]
  },
  {
   "cell_type": "code",
   "execution_count": 56,
   "metadata": {},
   "outputs": [
    {
     "name": "stdout",
     "output_type": "stream",
     "text": [
      "itemsize: 4 bytes\n",
      "nbytes: 240 bytes\n"
     ]
    }
   ],
   "source": [
    "print(\"itemsize:\", x3.itemsize, \"bytes\")\n",
    "print(\"nbytes:\", x3.nbytes, \"bytes\")"
   ]
  },
  {
   "cell_type": "markdown",
   "metadata": {},
   "source": [
    "通常情况下\n",
    "$$nbytes=itemsize \\times size$$"
   ]
  },
  {
   "cell_type": "markdown",
   "metadata": {},
   "source": [
    "### 12.3.4   数组索引：访问单个元素\n",
    "\n",
    "与标准 Python 列表访问方式类似\n",
    "\n",
    "- 使用方括号\n",
    "- 首元素从0开始索引\n",
    "\n",
    "<img src=\"images\\chapter12\\np_index.jpg\" width=500>"
   ]
  },
  {
   "cell_type": "code",
   "execution_count": 57,
   "metadata": {},
   "outputs": [
    {
     "data": {
      "text/plain": [
       "array([2, 5, 1, 4, 9, 5])"
      ]
     },
     "execution_count": 57,
     "metadata": {},
     "output_type": "execute_result"
    }
   ],
   "source": [
    "x1"
   ]
  },
  {
   "cell_type": "code",
   "execution_count": 58,
   "metadata": {},
   "outputs": [
    {
     "data": {
      "text/plain": [
       "(2, 9)"
      ]
     },
     "execution_count": 58,
     "metadata": {},
     "output_type": "execute_result"
    }
   ],
   "source": [
    "x1[0], x1[4]"
   ]
  },
  {
   "cell_type": "markdown",
   "metadata": {},
   "source": [
    "- 使用负索引值，末元素索引 -1"
   ]
  },
  {
   "cell_type": "code",
   "execution_count": 60,
   "metadata": {},
   "outputs": [
    {
     "data": {
      "text/plain": [
       "5"
      ]
     },
     "execution_count": 60,
     "metadata": {},
     "output_type": "execute_result"
    }
   ],
   "source": [
    "x1[-1]"
   ]
  },
  {
   "cell_type": "code",
   "execution_count": 61,
   "metadata": {},
   "outputs": [
    {
     "data": {
      "text/plain": [
       "9"
      ]
     },
     "execution_count": 61,
     "metadata": {},
     "output_type": "execute_result"
    }
   ],
   "source": [
    "x1[-2]"
   ]
  },
  {
   "cell_type": "markdown",
   "metadata": {},
   "source": [
    "访问多维数组元素\n",
    "- 使用索引元组"
   ]
  },
  {
   "cell_type": "code",
   "execution_count": 62,
   "metadata": {},
   "outputs": [
    {
     "data": {
      "text/plain": [
       "array([[2, 1, 6, 1],\n",
       "       [9, 7, 6, 0],\n",
       "       [2, 9, 1, 2]])"
      ]
     },
     "execution_count": 62,
     "metadata": {},
     "output_type": "execute_result"
    }
   ],
   "source": [
    "x2"
   ]
  },
  {
   "cell_type": "code",
   "execution_count": 63,
   "metadata": {},
   "outputs": [
    {
     "data": {
      "text/plain": [
       "2"
      ]
     },
     "execution_count": 63,
     "metadata": {},
     "output_type": "execute_result"
    }
   ],
   "source": [
    "x2[0, 0]  #单括弧"
   ]
  },
  {
   "cell_type": "code",
   "execution_count": 64,
   "metadata": {},
   "outputs": [
    {
     "data": {
      "text/plain": [
       "2"
      ]
     },
     "execution_count": 64,
     "metadata": {},
     "output_type": "execute_result"
    }
   ],
   "source": [
    "x2[2, 0]"
   ]
  },
  {
   "cell_type": "code",
   "execution_count": 65,
   "metadata": {},
   "outputs": [
    {
     "data": {
      "text/plain": [
       "2"
      ]
     },
     "execution_count": 65,
     "metadata": {},
     "output_type": "execute_result"
    }
   ],
   "source": [
    "x2[2, -1]"
   ]
  },
  {
   "cell_type": "code",
   "execution_count": 66,
   "metadata": {},
   "outputs": [
    {
     "data": {
      "text/plain": [
       "array([[12,  1,  6,  1],\n",
       "       [ 9,  7,  6,  0],\n",
       "       [ 2,  9,  1,  2]])"
      ]
     },
     "execution_count": 66,
     "metadata": {},
     "output_type": "execute_result"
    }
   ],
   "source": [
    "#修改元素值\n",
    "x2[0][0] = 12   #双括弧\n",
    "x2"
   ]
  },
  {
   "cell_type": "code",
   "execution_count": 67,
   "metadata": {},
   "outputs": [
    {
     "data": {
      "text/plain": [
       "array([[12,  1,  6,  1],\n",
       "       [ 9,  7,  6,  0],\n",
       "       [20,  9,  1,  2]])"
      ]
     },
     "execution_count": 67,
     "metadata": {},
     "output_type": "execute_result"
    }
   ],
   "source": [
    "x2[2, 0] = 20\n",
    "x2"
   ]
  },
  {
   "cell_type": "markdown",
   "metadata": {},
   "source": [
    "#### 牢记\n",
    "\n",
    "- <font color=\"red\">不同于 Python 列表，NumPy 数组的类型固定</font>\n",
    "\n",
    "注意下例，试图在整数数组中插入一浮点数元素，元素值中的小数部分被无声息的截去！不易发现！！！"
   ]
  },
  {
   "cell_type": "code",
   "execution_count": 69,
   "metadata": {},
   "outputs": [
    {
     "data": {
      "text/plain": [
       "array([2, 5, 1, 4, 9, 5])"
      ]
     },
     "execution_count": 69,
     "metadata": {},
     "output_type": "execute_result"
    }
   ],
   "source": [
    "x1"
   ]
  },
  {
   "cell_type": "code",
   "execution_count": 70,
   "metadata": {},
   "outputs": [
    {
     "data": {
      "text/plain": [
       "array([5, 5, 1, 4, 9, 5])"
      ]
     },
     "execution_count": 70,
     "metadata": {},
     "output_type": "execute_result"
    }
   ],
   "source": [
    "x1[0] = 5.14159  # this will be truncated!\n",
    "x1"
   ]
  },
  {
   "cell_type": "markdown",
   "metadata": {},
   "source": [
    "### 12.3.5   数组切片 —— 访问子数组"
   ]
  },
  {
   "cell_type": "markdown",
   "metadata": {},
   "source": [
    "- 切片，使用冒号标记\n",
    "- 沿用标准 Python 列表的切片操作\n",
    "\n",
    "``` python\n",
    "x[start:stop:step]\n",
    "```\n",
    "如果有省略时，缺省值为：``start=0``, ``stop=``*``size of dimension``*, ``step=1``"
   ]
  },
  {
   "cell_type": "markdown",
   "metadata": {},
   "source": [
    "#### 一维子数组切片"
   ]
  },
  {
   "cell_type": "code",
   "execution_count": 71,
   "metadata": {},
   "outputs": [
    {
     "data": {
      "text/plain": [
       "array([0, 1, 2, 3, 4, 5, 6, 7, 8, 9])"
      ]
     },
     "execution_count": 71,
     "metadata": {},
     "output_type": "execute_result"
    }
   ],
   "source": [
    "x = np.arange(10)\n",
    "x"
   ]
  },
  {
   "cell_type": "code",
   "execution_count": 72,
   "metadata": {},
   "outputs": [
    {
     "data": {
      "text/plain": [
       "array([0, 1, 2, 3, 4])"
      ]
     },
     "execution_count": 72,
     "metadata": {},
     "output_type": "execute_result"
    }
   ],
   "source": [
    "x[:5]  # 前五个元素"
   ]
  },
  {
   "cell_type": "code",
   "execution_count": 73,
   "metadata": {},
   "outputs": [
    {
     "data": {
      "text/plain": [
       "array([5, 6, 7, 8, 9])"
      ]
     },
     "execution_count": 73,
     "metadata": {},
     "output_type": "execute_result"
    }
   ],
   "source": [
    "x[5:]  # 索引5之后的元素"
   ]
  },
  {
   "cell_type": "code",
   "execution_count": 74,
   "metadata": {},
   "outputs": [
    {
     "data": {
      "text/plain": [
       "array([4, 5, 6])"
      ]
     },
     "execution_count": 74,
     "metadata": {},
     "output_type": "execute_result"
    }
   ],
   "source": [
    "x[4:7]  # 子数组"
   ]
  },
  {
   "cell_type": "code",
   "execution_count": 75,
   "metadata": {},
   "outputs": [
    {
     "data": {
      "text/plain": [
       "array([0, 2, 4, 6, 8])"
      ]
     },
     "execution_count": 75,
     "metadata": {},
     "output_type": "execute_result"
    }
   ],
   "source": [
    "x[::2]  # 隔一个元素，从0索引开始"
   ]
  },
  {
   "cell_type": "code",
   "execution_count": 76,
   "metadata": {},
   "outputs": [
    {
     "data": {
      "text/plain": [
       "array([1, 3, 5, 7, 9])"
      ]
     },
     "execution_count": 76,
     "metadata": {},
     "output_type": "execute_result"
    }
   ],
   "source": [
    "x[1::2]  # 隔一个元素，从1索引开始"
   ]
  },
  {
   "cell_type": "markdown",
   "metadata": {},
   "source": [
    "####  困惑：``step``为负值\n",
    "\n",
    "- ``start``和``stop``的缺省值交换\n",
    "- 倒置数组的可靠方法"
   ]
  },
  {
   "cell_type": "code",
   "execution_count": 77,
   "metadata": {},
   "outputs": [
    {
     "data": {
      "text/plain": [
       "array([9, 8, 7, 6, 5, 4, 3, 2, 1, 0])"
      ]
     },
     "execution_count": 77,
     "metadata": {},
     "output_type": "execute_result"
    }
   ],
   "source": [
    "x[::-1]  # 逆序 all elements, reversed"
   ]
  },
  {
   "cell_type": "code",
   "execution_count": 78,
   "metadata": {},
   "outputs": [
    {
     "data": {
      "text/plain": [
       "array([5, 3, 1])"
      ]
     },
     "execution_count": 78,
     "metadata": {},
     "output_type": "execute_result"
    }
   ],
   "source": [
    "x[5::-2]  # 从5开始，每隔一元素，逆序(reversed every other from index 5)"
   ]
  },
  {
   "cell_type": "markdown",
   "metadata": {},
   "source": [
    "#### 多维子数组切片\n",
    "\n",
    "- 多个切片用逗号分隔"
   ]
  },
  {
   "cell_type": "code",
   "execution_count": 79,
   "metadata": {},
   "outputs": [
    {
     "data": {
      "text/plain": [
       "array([[12,  1,  6,  1],\n",
       "       [ 9,  7,  6,  0],\n",
       "       [20,  9,  1,  2]])"
      ]
     },
     "execution_count": 79,
     "metadata": {},
     "output_type": "execute_result"
    }
   ],
   "source": [
    "x2"
   ]
  },
  {
   "cell_type": "code",
   "execution_count": 80,
   "metadata": {},
   "outputs": [
    {
     "data": {
      "text/plain": [
       "array([[12,  1,  6],\n",
       "       [ 9,  7,  6]])"
      ]
     },
     "execution_count": 80,
     "metadata": {},
     "output_type": "execute_result"
    }
   ],
   "source": [
    "x2[:2, :3]  # 2行、3列"
   ]
  },
  {
   "cell_type": "code",
   "execution_count": 81,
   "metadata": {},
   "outputs": [
    {
     "data": {
      "text/plain": [
       "array([[ 2,  1,  9, 20],\n",
       "       [ 0,  6,  7,  9],\n",
       "       [ 1,  6,  1, 12]])"
      ]
     },
     "execution_count": 81,
     "metadata": {},
     "output_type": "execute_result"
    }
   ],
   "source": [
    "x2[::-1, ::-1]"
   ]
  },
  {
   "cell_type": "markdown",
   "metadata": {},
   "source": [
    "#### 访问数组的行和列\n",
    "\n",
    "- 结合索引和分片技巧\n",
    "- 采用空分片（即单个冒号）"
   ]
  },
  {
   "cell_type": "code",
   "execution_count": 84,
   "metadata": {},
   "outputs": [
    {
     "name": "stdout",
     "output_type": "stream",
     "text": [
      "[[12]\n",
      " [ 9]\n",
      " [20]]\n"
     ]
    }
   ],
   "source": [
    "print(x2[:, 0:1])  # x2的首列（first column of x2）"
   ]
  },
  {
   "cell_type": "code",
   "execution_count": 85,
   "metadata": {},
   "outputs": [
    {
     "name": "stdout",
     "output_type": "stream",
     "text": [
      "[[12  1  6  1]\n",
      " [ 9  7  6  0]]\n"
     ]
    }
   ],
   "source": [
    "print(x2[0:2, :])  # x2的首行"
   ]
  },
  {
   "cell_type": "code",
   "execution_count": 86,
   "metadata": {},
   "outputs": [
    {
     "name": "stdout",
     "output_type": "stream",
     "text": [
      "[12  1  6  1]\n"
     ]
    }
   ],
   "source": [
    "#如果是访问行，空切片可以省略，得到更紧凑的形式\n",
    "print(x2[0])  # 等价于 x2[0, :]"
   ]
  },
  {
   "cell_type": "code",
   "execution_count": 87,
   "metadata": {},
   "outputs": [
    {
     "data": {
      "text/plain": [
       "array([12,  9, 20])"
      ]
     },
     "execution_count": 87,
     "metadata": {},
     "output_type": "execute_result"
    }
   ],
   "source": [
    " x2[:, 0]"
   ]
  },
  {
   "cell_type": "markdown",
   "metadata": {},
   "source": [
    "### 12.3.6  子数组 —— 非拷贝视\n",
    "\n",
    "- <font color=\"red\">数组切片返回数据的视(views)，而不是拷贝(copies)</font>\n",
    "- 而对于 Python 列表，切片返回的是拷贝"
   ]
  },
  {
   "cell_type": "markdown",
   "metadata": {},
   "source": [
    "<img src=\"images/chapter12/viewcopy.jpg\" width=500>"
   ]
  },
  {
   "cell_type": "code",
   "execution_count": 88,
   "metadata": {},
   "outputs": [
    {
     "name": "stdout",
     "output_type": "stream",
     "text": [
      "[[12  1  6  1]\n",
      " [ 9  7  6  0]\n",
      " [20  9  1  2]]\n"
     ]
    }
   ],
   "source": [
    "print(x2)"
   ]
  },
  {
   "cell_type": "markdown",
   "metadata": {},
   "source": [
    "#提取一 $2\\times 2$ 子数组"
   ]
  },
  {
   "cell_type": "code",
   "execution_count": 89,
   "metadata": {},
   "outputs": [
    {
     "name": "stdout",
     "output_type": "stream",
     "text": [
      "[[12  1]\n",
      " [ 9  7]]\n"
     ]
    }
   ],
   "source": [
    "x2_sub = x2[:2, :2]\n",
    "print(x2_sub)"
   ]
  },
  {
   "cell_type": "code",
   "execution_count": null,
   "metadata": {},
   "outputs": [],
   "source": [
    "#现在，修改子数组，发现原数组也变化了。"
   ]
  },
  {
   "cell_type": "code",
   "execution_count": 90,
   "metadata": {},
   "outputs": [
    {
     "name": "stdout",
     "output_type": "stream",
     "text": [
      "[[99  1]\n",
      " [ 9  7]]\n"
     ]
    }
   ],
   "source": [
    "x2_sub[0, 0] = 99\n",
    "print(x2_sub)"
   ]
  },
  {
   "cell_type": "code",
   "execution_count": 91,
   "metadata": {},
   "outputs": [
    {
     "name": "stdout",
     "output_type": "stream",
     "text": [
      "[[99  1  6  1]\n",
      " [ 9  7  6  0]\n",
      " [20  9  1  2]]\n"
     ]
    }
   ],
   "source": [
    "print(x2)"
   ]
  },
  {
   "cell_type": "markdown",
   "metadata": {},
   "source": [
    "#### <font color=\"red\">值得关注的性质 —— 大型数组允许操作其局部子部分</font>\n",
    "\n",
    "- 当操作大型数据集中的一部分时，可以访问或是处理其中的切片"
   ]
  },
  {
   "cell_type": "markdown",
   "metadata": {},
   "source": [
    "### 12.3.7 创建数组的拷贝\n",
    "\n",
    "- 数组视具有良好的特性\n",
    "- 有时，也希望显式拷贝数组或子数组中的数据\n",
    "\n",
    "可以利用``copy()``方法"
   ]
  },
  {
   "cell_type": "markdown",
   "metadata": {},
   "source": [
    "####  浅拷贝 —— 调用拷贝方法"
   ]
  },
  {
   "cell_type": "code",
   "execution_count": 92,
   "metadata": {},
   "outputs": [
    {
     "name": "stdout",
     "output_type": "stream",
     "text": [
      "[[99  1]\n",
      " [ 9  7]]\n"
     ]
    }
   ],
   "source": [
    "x2_sub_copy = x2[:2, :2].copy()\n",
    "print(x2_sub_copy)"
   ]
  },
  {
   "cell_type": "code",
   "execution_count": 93,
   "metadata": {},
   "outputs": [
    {
     "name": "stdout",
     "output_type": "stream",
     "text": [
      "[[42  1]\n",
      " [ 9  7]]\n"
     ]
    }
   ],
   "source": [
    "#如果修改该子数组，对原数组没有影响\n",
    "x2_sub_copy[0, 0] = 42\n",
    "print(x2_sub_copy)"
   ]
  },
  {
   "cell_type": "code",
   "execution_count": 94,
   "metadata": {},
   "outputs": [
    {
     "name": "stdout",
     "output_type": "stream",
     "text": [
      "[[99  1  6  1]\n",
      " [ 9  7  6  0]\n",
      " [20  9  1  2]]\n"
     ]
    }
   ],
   "source": [
    "print(x2)"
   ]
  },
  {
   "cell_type": "markdown",
   "metadata": {},
   "source": [
    "### 12.3.8   数组维度重构\n",
    "\n",
    "- 使用``reshape``方法\n",
    "\n",
    "例如, 将1～9九个整数依次放入$3 \\times 3$阵列"
   ]
  },
  {
   "cell_type": "code",
   "execution_count": 97,
   "metadata": {},
   "outputs": [
    {
     "name": "stdout",
     "output_type": "stream",
     "text": [
      "[[1 2 3]\n",
      " [4 5 6]\n",
      " [7 8 9]]\n"
     ]
    }
   ],
   "source": [
    "grid = np.arange(1, 10).reshape((3, 3))\n",
    "print(grid)"
   ]
  },
  {
   "cell_type": "markdown",
   "metadata": {},
   "source": [
    "#### 注意\n",
    "\n",
    "- 前后的数组size必须匹配\n",
    "- 只要可能，``reshape``将采用非拷贝视，不过对于存放在非连续内存区的数组，就不再遵守这一规则\n",
    "\n",
    "- 通常，重构模式是一维数组转换成二维矩阵\n",
    "- 可以用``reshape``方法，或更容易地在切片操作中采用``newaxis``关键字\n",
    "<img src=\"images\\chapter12\\reshape.jpg\">"
   ]
  },
  {
   "cell_type": "code",
   "execution_count": null,
   "metadata": {},
   "outputs": [],
   "source": [
    "import numpy as np"
   ]
  },
  {
   "cell_type": "code",
   "execution_count": 98,
   "metadata": {},
   "outputs": [
    {
     "data": {
      "text/plain": [
       "array([1, 2, 3])"
      ]
     },
     "execution_count": 98,
     "metadata": {},
     "output_type": "execute_result"
    }
   ],
   "source": [
    "x = np.array([1, 2, 3])\n",
    "x"
   ]
  },
  {
   "cell_type": "code",
   "execution_count": 99,
   "metadata": {},
   "outputs": [
    {
     "data": {
      "text/plain": [
       "array([[1, 2, 3]])"
      ]
     },
     "execution_count": 99,
     "metadata": {},
     "output_type": "execute_result"
    }
   ],
   "source": [
    "# 重构行向量(row vector via reshape)\n",
    "x.reshape((1, 3))"
   ]
  },
  {
   "cell_type": "code",
   "execution_count": 100,
   "metadata": {},
   "outputs": [
    {
     "data": {
      "text/plain": [
       "array([[1, 2, 3]])"
      ]
     },
     "execution_count": 100,
     "metadata": {},
     "output_type": "execute_result"
    }
   ],
   "source": [
    "y = x.reshape((1,3))\n",
    "y"
   ]
  },
  {
   "cell_type": "code",
   "execution_count": 101,
   "metadata": {},
   "outputs": [
    {
     "data": {
      "text/plain": [
       "(array([[4, 2, 3]]), array([4, 2, 3]))"
      ]
     },
     "execution_count": 101,
     "metadata": {},
     "output_type": "execute_result"
    }
   ],
   "source": [
    "y[0,0] = 4\n",
    "y,x"
   ]
  },
  {
   "cell_type": "code",
   "execution_count": 102,
   "metadata": {},
   "outputs": [
    {
     "data": {
      "text/plain": [
       "(2814240409200, 2814239980320)"
      ]
     },
     "execution_count": 102,
     "metadata": {},
     "output_type": "execute_result"
    }
   ],
   "source": [
    "id(x), id(y)"
   ]
  },
  {
   "cell_type": "code",
   "execution_count": 103,
   "metadata": {},
   "outputs": [
    {
     "data": {
      "text/plain": [
       "array([4, 2, 3])"
      ]
     },
     "execution_count": 103,
     "metadata": {},
     "output_type": "execute_result"
    }
   ],
   "source": [
    "x"
   ]
  },
  {
   "cell_type": "code",
   "execution_count": 104,
   "metadata": {},
   "outputs": [
    {
     "data": {
      "text/plain": [
       "array([[4, 2, 3]])"
      ]
     },
     "execution_count": 104,
     "metadata": {},
     "output_type": "execute_result"
    }
   ],
   "source": [
    "# 通过 newaxis 化为行向量\n",
    "x[np.newaxis, :]\n",
    "#解释一下np.newaxis\n",
    "# np.newaxis的作用就是在这一位置增加一个一维，这一位置指的是np.newaxis所在的位置，"
   ]
  },
  {
   "cell_type": "code",
   "execution_count": 105,
   "metadata": {},
   "outputs": [
    {
     "data": {
      "text/plain": [
       "array([[4],\n",
       "       [2],\n",
       "       [3]])"
      ]
     },
     "execution_count": 105,
     "metadata": {},
     "output_type": "execute_result"
    }
   ],
   "source": [
    "x[:, np.newaxis]"
   ]
  },
  {
   "cell_type": "code",
   "execution_count": 106,
   "metadata": {},
   "outputs": [],
   "source": [
    " #了解一下\n",
    "np.newaxis?"
   ]
  },
  {
   "cell_type": "code",
   "execution_count": 107,
   "metadata": {},
   "outputs": [
    {
     "data": {
      "text/plain": [
       "True"
      ]
     },
     "execution_count": 107,
     "metadata": {},
     "output_type": "execute_result"
    }
   ],
   "source": [
    "np.newaxis == None"
   ]
  },
  {
   "cell_type": "code",
   "execution_count": null,
   "metadata": {},
   "outputs": [],
   "source": [
    "#np.newaxis 在使用和功能上等价于 None，其实就是 None 的一个别名。"
   ]
  },
  {
   "cell_type": "code",
   "execution_count": 109,
   "metadata": {},
   "outputs": [
    {
     "data": {
      "text/plain": [
       "((3,), (1, 3), (3, 1))"
      ]
     },
     "execution_count": 109,
     "metadata": {},
     "output_type": "execute_result"
    }
   ],
   "source": [
    "#np.newaxis相当于新插入一个轴\n",
    "x.shape, x[np.newaxis, :].shape, x[:, np.newaxis].shape"
   ]
  },
  {
   "cell_type": "code",
   "execution_count": 108,
   "metadata": {},
   "outputs": [
    {
     "data": {
      "text/plain": [
       "array([[4],\n",
       "       [2],\n",
       "       [3]])"
      ]
     },
     "execution_count": 108,
     "metadata": {},
     "output_type": "execute_result"
    }
   ],
   "source": [
    "# 通过 newaxis 化为列向量\n",
    "x.reshape((3, 1))"
   ]
  },
  {
   "cell_type": "code",
   "execution_count": null,
   "metadata": {},
   "outputs": [],
   "source": [
    "x"
   ]
  },
  {
   "cell_type": "code",
   "execution_count": null,
   "metadata": {},
   "outputs": [],
   "source": [
    "# 通过 newaxis，化为列向量\n",
    "x[:, np.newaxis]"
   ]
  },
  {
   "cell_type": "code",
   "execution_count": 110,
   "metadata": {},
   "outputs": [
    {
     "data": {
      "text/plain": [
       "array([[ 1,  2,  3,  4],\n",
       "       [ 5,  6,  7,  8],\n",
       "       [ 9, 10, 11, 12]])"
      ]
     },
     "execution_count": 110,
     "metadata": {},
     "output_type": "execute_result"
    }
   ],
   "source": [
    "##换个例子\n",
    "y = np.array([[1, 2, 3, 4], [5, 6, 7, 8], [9, 10, 11, 12]])\n",
    "y"
   ]
  },
  {
   "cell_type": "code",
   "execution_count": 111,
   "metadata": {},
   "outputs": [
    {
     "data": {
      "text/plain": [
       "array([ 2,  6, 10])"
      ]
     },
     "execution_count": 111,
     "metadata": {},
     "output_type": "execute_result"
    }
   ],
   "source": [
    "y[:, 1]  #这里是一个行"
   ]
  },
  {
   "cell_type": "code",
   "execution_count": 112,
   "metadata": {},
   "outputs": [
    {
     "data": {
      "text/plain": [
       "(3,)"
      ]
     },
     "execution_count": 112,
     "metadata": {},
     "output_type": "execute_result"
    }
   ],
   "source": [
    "y[:, 1].shape  # y[:, 1] 的用法完全等同于一个行，而不是一个列，"
   ]
  },
  {
   "cell_type": "code",
   "execution_count": 113,
   "metadata": {},
   "outputs": [
    {
     "data": {
      "text/plain": [
       "array([[ 2],\n",
       "       [ 6],\n",
       "       [10]])"
      ]
     },
     "execution_count": 113,
     "metadata": {},
     "output_type": "execute_result"
    }
   ],
   "source": [
    "#如果我索引多维数组的某一列时，返回的仍然是列的结构，一种正确的索引方式是：\n",
    "y[:, 1][:, np.newaxis]"
   ]
  },
  {
   "cell_type": "code",
   "execution_count": null,
   "metadata": {},
   "outputs": [],
   "source": [
    "y.reshape(1,12)"
   ]
  },
  {
   "cell_type": "code",
   "execution_count": null,
   "metadata": {},
   "outputs": [],
   "source": [
    "y.reshape(1,12,order='F')  #order='C' order='F'  order='A'"
   ]
  },
  {
   "cell_type": "code",
   "execution_count": null,
   "metadata": {},
   "outputs": [],
   "source": []
  },
  {
   "cell_type": "markdown",
   "metadata": {},
   "source": [
    "### order关键字\n",
    "  - order : 可选范围为{‘C’, ‘F’, ‘A’}。\n",
    "  - 使用索引顺序读取数组的元素，并按照索引顺序将元素放到变换后的的数组中。如果不进行order参数的设置，默认参数为C。  \n",
    "  - “C”指的是用类C写的读/索引顺序的元素，最后一个维度变化最快，第一个维度变化最慢。以二维数组为例，简单来讲就是横着读，横着写，优先读/写一行。\n",
    "  - “F”是指用FORTRAN类索引顺序读/写元素，最后一个维度变化最慢，第一个维度变化最快。竖着读，竖着写，优先读/写一列。注意，“C”和“F”选项不考虑底层数组的内存布局，只引用索引的顺序。\n",
    "  - “A”选项所生成的数组的效果与原数组a的数据存储方式有关，如果数据是按照FORTRAN存储的话，它的生成效果与”F“相同，否则与“C”相同。这里可能听起来有点模糊，下面会给出示例。"
   ]
  },
  {
   "cell_type": "markdown",
   "metadata": {},
   "source": [
    "### 12.3.9  数组连接和分割\n",
    "\n",
    "前述操作是对单个数组，有时，可能要做\n",
    "\n",
    "- 连接：多合一\n",
    "- 分割：一分多"
   ]
  },
  {
   "cell_type": "markdown",
   "metadata": {},
   "source": [
    "#### 函数 —— 用于数组的连接\n",
    "\n",
    "连接操作要用到下列函数\n",
    "\n",
    "- ``np.concatenate``\n",
    "- ``np.vstack``\n",
    "- ``np.hstack``"
   ]
  },
  {
   "cell_type": "markdown",
   "metadata": {},
   "source": [
    "#### 函数 np.concatenate 及其调用参数\n",
    "\n",
    "``np.concatenate``用一个数组元组或列表做为第一个调用参数\n",
    "<img src=\"images\\chapter12\\concatenate.jpg\">"
   ]
  },
  {
   "cell_type": "code",
   "execution_count": 18,
   "metadata": {},
   "outputs": [],
   "source": [
    "import numpy as np"
   ]
  },
  {
   "cell_type": "code",
   "execution_count": 19,
   "metadata": {},
   "outputs": [
    {
     "data": {
      "text/plain": [
       "array([1, 2, 3, 3, 2, 1])"
      ]
     },
     "execution_count": 19,
     "metadata": {},
     "output_type": "execute_result"
    }
   ],
   "source": [
    "x = np.array([1, 2, 3])\n",
    "y = np.array([3, 2, 1])\n",
    "np.concatenate([x, y]) #一维"
   ]
  },
  {
   "cell_type": "markdown",
   "metadata": {},
   "source": [
    "#### 连接多于2个数组"
   ]
  },
  {
   "cell_type": "code",
   "execution_count": 20,
   "metadata": {},
   "outputs": [
    {
     "name": "stdout",
     "output_type": "stream",
     "text": [
      "[ 1  2  3  3  2  1 99 99 99]\n"
     ]
    }
   ],
   "source": [
    "z = [99, 99, 99]\n",
    "print(np.concatenate([x, y, z])) #注意多个的使用方法，用中括弧合并"
   ]
  },
  {
   "cell_type": "markdown",
   "metadata": {},
   "source": [
    "#### 二维数组的连接"
   ]
  },
  {
   "cell_type": "code",
   "execution_count": 127,
   "metadata": {},
   "outputs": [
    {
     "data": {
      "text/plain": [
       "array([[1, 2, 3],\n",
       "       [4, 5, 6]])"
      ]
     },
     "execution_count": 127,
     "metadata": {},
     "output_type": "execute_result"
    }
   ],
   "source": [
    "grid = np.array([[1, 2, 3],\n",
    "                 [4, 5, 6]])\n",
    "grid"
   ]
  },
  {
   "cell_type": "code",
   "execution_count": 128,
   "metadata": {},
   "outputs": [
    {
     "data": {
      "text/plain": [
       "array([[1, 2, 3],\n",
       "       [4, 5, 6],\n",
       "       [1, 2, 3],\n",
       "       [4, 5, 6]])"
      ]
     },
     "execution_count": 128,
     "metadata": {},
     "output_type": "execute_result"
    }
   ],
   "source": [
    "# 沿第一个轴连接，注意哪一个轴是第一轴\n",
    "np.concatenate([grid, grid])"
   ]
  },
  {
   "cell_type": "code",
   "execution_count": 129,
   "metadata": {},
   "outputs": [
    {
     "data": {
      "text/plain": [
       "array([[1, 2, 3, 1, 2, 3],\n",
       "       [4, 5, 6, 4, 5, 6]])"
      ]
     },
     "execution_count": 129,
     "metadata": {},
     "output_type": "execute_result"
    }
   ],
   "source": [
    "# 沿第二个轴（索引值始于0）连接，用可选参数axis\n",
    "np.concatenate([grid, grid], axis=1)"
   ]
  },
  {
   "cell_type": "markdown",
   "metadata": {},
   "source": [
    "#### 堆集函数\n",
    "\n",
    "对于固定维度的数组，使用堆集函数\n",
    "- 竖向堆集``np.vstack`` (vertical stack)\n",
    "- 横向堆集``np.hstack`` (horizontal stack)\n",
    "\n",
    "可以表示得更清楚\n",
    "<img src=\"images\\chapter12\\hstack_vstack.png\">"
   ]
  },
  {
   "cell_type": "code",
   "execution_count": 130,
   "metadata": {},
   "outputs": [
    {
     "data": {
      "text/plain": [
       "array([[1, 2, 3],\n",
       "       [9, 8, 7],\n",
       "       [6, 5, 4]])"
      ]
     },
     "execution_count": 130,
     "metadata": {},
     "output_type": "execute_result"
    }
   ],
   "source": [
    "x = np.array([1, 2, 3])\n",
    "grid = np.array([[9, 8, 7],\n",
    "                 [6, 5, 4]])\n",
    "\n",
    "# 数组的竖向堆集\n",
    "np.vstack([x, grid])"
   ]
  },
  {
   "cell_type": "code",
   "execution_count": 131,
   "metadata": {},
   "outputs": [
    {
     "data": {
      "text/plain": [
       "array([[ 9,  8,  7, 99],\n",
       "       [ 6,  5,  4, 99]])"
      ]
     },
     "execution_count": 131,
     "metadata": {},
     "output_type": "execute_result"
    }
   ],
   "source": [
    "# 数组的横向堆集\n",
    "y = np.array([[99],\n",
    "              [99]])\n",
    "np.hstack([grid, y])"
   ]
  },
  {
   "cell_type": "markdown",
   "metadata": {},
   "source": [
    "类似地\n",
    "- ``np.dstack``将沿第三轴进行堆集\n",
    "-  等价于np.concatenate(tup,axis=2)\n",
    "<img src=\"images\\chapter12\\dstack.jpg\">"
   ]
  },
  {
   "cell_type": "code",
   "execution_count": 132,
   "metadata": {},
   "outputs": [
    {
     "data": {
      "text/plain": [
       "array([[[1, 2, 3],\n",
       "        [4, 5, 6],\n",
       "        [7, 8, 9]],\n",
       "\n",
       "       [[1, 2, 3],\n",
       "        [4, 5, 6],\n",
       "        [7, 8, 9]]])"
      ]
     },
     "execution_count": 132,
     "metadata": {},
     "output_type": "execute_result"
    }
   ],
   "source": [
    "d1 = np.array( [[[1,2,3],[4,5,6],[7,8,9]],[[1,2,3],[4,5,6],[7,8,9]]] )\n",
    "d1"
   ]
  },
  {
   "cell_type": "code",
   "execution_count": 133,
   "metadata": {},
   "outputs": [
    {
     "data": {
      "text/plain": [
       "array([[[1, 2, 3],\n",
       "        [4, 5, 6],\n",
       "        [7, 8, 9]]])"
      ]
     },
     "execution_count": 133,
     "metadata": {},
     "output_type": "execute_result"
    }
   ],
   "source": [
    "d2 = np.array( [[[1,2,3],[4,5,6],[7,8,9]]])\n",
    "d2"
   ]
  },
  {
   "cell_type": "code",
   "execution_count": 134,
   "metadata": {},
   "outputs": [
    {
     "data": {
      "text/plain": [
       "array([[[1, 2, 3],\n",
       "        [4, 5, 6],\n",
       "        [7, 8, 9]],\n",
       "\n",
       "       [[1, 2, 3],\n",
       "        [4, 5, 6],\n",
       "        [7, 8, 9]],\n",
       "\n",
       "       [[1, 2, 3],\n",
       "        [4, 5, 6],\n",
       "        [7, 8, 9]]])"
      ]
     },
     "execution_count": 134,
     "metadata": {},
     "output_type": "execute_result"
    }
   ],
   "source": [
    "d3 = np.concatenate([d1,d2])    \n",
    "d3"
   ]
  },
  {
   "cell_type": "code",
   "execution_count": 135,
   "metadata": {},
   "outputs": [],
   "source": [
    "d3[0,1,2] = 55  #哪个数据变成55？？？\n",
    "d3[1,0,2] = 66  #哪d个数据变成55\n",
    "d3[2,0,1] = 77  #哪个数据变成55\n"
   ]
  },
  {
   "cell_type": "code",
   "execution_count": 136,
   "metadata": {},
   "outputs": [
    {
     "data": {
      "text/plain": [
       "array([[[ 1,  2,  3],\n",
       "        [ 4,  5, 55],\n",
       "        [ 7,  8,  9]],\n",
       "\n",
       "       [[ 1,  2, 66],\n",
       "        [ 4,  5,  6],\n",
       "        [ 7,  8,  9]],\n",
       "\n",
       "       [[ 1, 77,  3],\n",
       "        [ 4,  5,  6],\n",
       "        [ 7,  8,  9]]])"
      ]
     },
     "execution_count": 136,
     "metadata": {},
     "output_type": "execute_result"
    }
   ],
   "source": [
    "d3\n"
   ]
  },
  {
   "cell_type": "code",
   "execution_count": 137,
   "metadata": {},
   "outputs": [
    {
     "data": {
      "text/plain": [
       "array([[[1, 2, 3, 1, 2, 3],\n",
       "        [4, 5, 6, 4, 5, 6],\n",
       "        [7, 8, 9, 7, 8, 9]],\n",
       "\n",
       "       [[1, 2, 3, 1, 2, 3],\n",
       "        [4, 5, 6, 4, 5, 6],\n",
       "        [7, 8, 9, 7, 8, 9]]])"
      ]
     },
     "execution_count": 137,
     "metadata": {},
     "output_type": "execute_result"
    }
   ],
   "source": [
    "d4 = np.concatenate([d1,d1], axis=2) #改变axis=0/1/2 不同结果\n",
    "d4"
   ]
  },
  {
   "cell_type": "code",
   "execution_count": 138,
   "metadata": {},
   "outputs": [
    {
     "name": "stdout",
     "output_type": "stream",
     "text": [
      "(3, 3, 1)\n"
     ]
    },
    {
     "data": {
      "text/plain": [
       "array([[[1],\n",
       "        [2],\n",
       "        [3]],\n",
       "\n",
       "       [[4],\n",
       "        [5],\n",
       "        [6]],\n",
       "\n",
       "       [[7],\n",
       "        [8],\n",
       "        [9]]])"
      ]
     },
     "execution_count": 138,
     "metadata": {},
     "output_type": "execute_result"
    }
   ],
   "source": [
    "d5 = np.array([[[1],[2],[3]],[[4],[5],[6]],[[7],[8],[9]]])\n",
    "print(d5.shape)\n",
    "d5"
   ]
  },
  {
   "cell_type": "code",
   "execution_count": 139,
   "metadata": {},
   "outputs": [
    {
     "data": {
      "text/plain": [
       "5"
      ]
     },
     "execution_count": 139,
     "metadata": {},
     "output_type": "execute_result"
    }
   ],
   "source": [
    "d5[1,1,0]"
   ]
  },
  {
   "cell_type": "code",
   "execution_count": 140,
   "metadata": {},
   "outputs": [
    {
     "data": {
      "text/plain": [
       "array([[[1, 2, 3],\n",
       "        [4, 5, 6],\n",
       "        [7, 8, 9]],\n",
       "\n",
       "       [[1, 2, 3],\n",
       "        [4, 5, 6],\n",
       "        [7, 8, 9]],\n",
       "\n",
       "       [[1, 2, 3],\n",
       "        [4, 5, 6],\n",
       "        [7, 8, 9]]])"
      ]
     },
     "execution_count": 140,
     "metadata": {},
     "output_type": "execute_result"
    }
   ],
   "source": [
    "d3 = np.concatenate([d1,d2])    \n",
    "d3"
   ]
  },
  {
   "cell_type": "code",
   "execution_count": 141,
   "metadata": {},
   "outputs": [
    {
     "data": {
      "text/plain": [
       "array([[[1, 2, 3, 1],\n",
       "        [4, 5, 6, 2],\n",
       "        [7, 8, 9, 3]],\n",
       "\n",
       "       [[1, 2, 3, 4],\n",
       "        [4, 5, 6, 5],\n",
       "        [7, 8, 9, 6]],\n",
       "\n",
       "       [[1, 2, 3, 7],\n",
       "        [4, 5, 6, 8],\n",
       "        [7, 8, 9, 9]]])"
      ]
     },
     "execution_count": 141,
     "metadata": {},
     "output_type": "execute_result"
    }
   ],
   "source": [
    "d6 = np.concatenate([d3,d5], axis=2)  #Stack arrays in sequence depth wise (along third axis).\n",
    "d6"
   ]
  },
  {
   "cell_type": "code",
   "execution_count": null,
   "metadata": {},
   "outputs": [],
   "source": [
    "np.dstack?"
   ]
  },
  {
   "cell_type": "markdown",
   "metadata": {},
   "source": [
    "#### 分割数组\n",
    "\n",
    "连接的反向操作是分割，利用的函数有\n",
    "\n",
    "- ``np.split``\n",
    "- ``np.hsplit``\n",
    "- ``np.vsplit``\n",
    "\n",
    "每种方法，都要传递下标列表做为调用参数\n",
    "<img src=\"images\\chapter12\\hsplit_vsplit.jpg\">"
   ]
  },
  {
   "cell_type": "code",
   "execution_count": 33,
   "metadata": {},
   "outputs": [
    {
     "name": "stdout",
     "output_type": "stream",
     "text": [
      "[0 1 2] [3 4 5 6 7 8] []\n"
     ]
    }
   ],
   "source": [
    "x = np.arange(9)\n",
    "x1, x2, x3 = np.split(x, [3, 7])\n",
    "print(x1, x2, x3)"
   ]
  },
  {
   "cell_type": "code",
   "execution_count": 28,
   "metadata": {
    "collapsed": true
   },
   "outputs": [
    {
     "name": "stdout",
     "output_type": "stream",
     "text": [
      "Help on function split in module numpy:\n",
      "\n",
      "split(ary, indices_or_sections, axis=0)\n",
      "    Split an array into multiple sub-arrays as views into `ary`.\n",
      "    \n",
      "    Parameters\n",
      "    ----------\n",
      "    ary : ndarray\n",
      "        Array to be divided into sub-arrays.\n",
      "    indices_or_sections : int or 1-D array\n",
      "        If `indices_or_sections` is an integer, N, the array will be divided\n",
      "        into N equal arrays along `axis`.  If such a split is not possible,\n",
      "        an error is raised.\n",
      "    \n",
      "        If `indices_or_sections` is a 1-D array of sorted integers, the entries\n",
      "        indicate where along `axis` the array is split.  For example,\n",
      "        ``[2, 3]`` would, for ``axis=0``, result in\n",
      "    \n",
      "          - ary[:2]\n",
      "          - ary[2:3]\n",
      "          - ary[3:]\n",
      "    \n",
      "        If an index exceeds the dimension of the array along `axis`,\n",
      "        an empty sub-array is returned correspondingly.\n",
      "    axis : int, optional\n",
      "        The axis along which to split, default is 0.\n",
      "    \n",
      "    Returns\n",
      "    -------\n",
      "    sub-arrays : list of ndarrays\n",
      "        A list of sub-arrays as views into `ary`.\n",
      "    \n",
      "    Raises\n",
      "    ------\n",
      "    ValueError\n",
      "        If `indices_or_sections` is given as an integer, but\n",
      "        a split does not result in equal division.\n",
      "    \n",
      "    See Also\n",
      "    --------\n",
      "    array_split : Split an array into multiple sub-arrays of equal or\n",
      "                  near-equal size.  Does not raise an exception if\n",
      "                  an equal division cannot be made.\n",
      "    hsplit : Split array into multiple sub-arrays horizontally (column-wise).\n",
      "    vsplit : Split array into multiple sub-arrays vertically (row wise).\n",
      "    dsplit : Split array into multiple sub-arrays along the 3rd axis (depth).\n",
      "    concatenate : Join a sequence of arrays along an existing axis.\n",
      "    stack : Join a sequence of arrays along a new axis.\n",
      "    hstack : Stack arrays in sequence horizontally (column wise).\n",
      "    vstack : Stack arrays in sequence vertically (row wise).\n",
      "    dstack : Stack arrays in sequence depth wise (along third dimension).\n",
      "    \n",
      "    Examples\n",
      "    --------\n",
      "    >>> x = np.arange(9.0)\n",
      "    >>> np.split(x, 3)\n",
      "    [array([0.,  1.,  2.]), array([3.,  4.,  5.]), array([6.,  7.,  8.])]\n",
      "    \n",
      "    >>> x = np.arange(8.0)\n",
      "    >>> np.split(x, [3, 5, 6, 10])\n",
      "    [array([0.,  1.,  2.]),\n",
      "     array([3.,  4.]),\n",
      "     array([5.]),\n",
      "     array([6.,  7.]),\n",
      "     array([], dtype=float64)]\n",
      "\n"
     ]
    }
   ],
   "source": [
    "help(np.split)"
   ]
  },
  {
   "cell_type": "markdown",
   "metadata": {},
   "source": [
    "#### 分割数组的注意要点\n",
    "\n",
    "- *N* 个分割点，生成 *N+1* 个子数组\n",
    "- 函数``np.hsplit``和``np.vsplit``的操作方式类似，方向不同"
   ]
  },
  {
   "cell_type": "code",
   "execution_count": 143,
   "metadata": {},
   "outputs": [
    {
     "data": {
      "text/plain": [
       "array([[ 0,  1,  2,  3],\n",
       "       [ 4,  5,  6,  7],\n",
       "       [ 8,  9, 10, 11],\n",
       "       [12, 13, 14, 15]])"
      ]
     },
     "execution_count": 143,
     "metadata": {},
     "output_type": "execute_result"
    }
   ],
   "source": [
    "grid = np.arange(16).reshape((4, 4))\n",
    "grid"
   ]
  },
  {
   "cell_type": "code",
   "execution_count": 144,
   "metadata": {},
   "outputs": [
    {
     "name": "stdout",
     "output_type": "stream",
     "text": [
      "[[0 1 2 3]\n",
      " [4 5 6 7]]\n",
      "[[ 8  9 10 11]\n",
      " [12 13 14 15]]\n"
     ]
    }
   ],
   "source": [
    "upper, lower = np.vsplit(grid, [2])\n",
    "print(upper)\n",
    "print(lower)"
   ]
  },
  {
   "cell_type": "code",
   "execution_count": 145,
   "metadata": {},
   "outputs": [
    {
     "name": "stdout",
     "output_type": "stream",
     "text": [
      "[[ 0  1]\n",
      " [ 4  5]\n",
      " [ 8  9]\n",
      " [12 13]]\n",
      "[[ 2  3]\n",
      " [ 6  7]\n",
      " [10 11]\n",
      " [14 15]]\n"
     ]
    }
   ],
   "source": [
    "left, right = np.hsplit(grid, [2])\n",
    "print(left)\n",
    "print(right)"
   ]
  },
  {
   "cell_type": "markdown",
   "metadata": {},
   "source": [
    "类似地,``np.dsplit``将沿第三轴分割数组"
   ]
  },
  {
   "cell_type": "code",
   "execution_count": 146,
   "metadata": {},
   "outputs": [
    {
     "data": {
      "text/plain": [
       "array([[[1],\n",
       "        [2],\n",
       "        [3]],\n",
       "\n",
       "       [[4],\n",
       "        [5],\n",
       "        [6]],\n",
       "\n",
       "       [[7],\n",
       "        [8],\n",
       "        [9]]])"
      ]
     },
     "execution_count": 146,
     "metadata": {},
     "output_type": "execute_result"
    }
   ],
   "source": [
    "d5"
   ]
  },
  {
   "cell_type": "code",
   "execution_count": 147,
   "metadata": {},
   "outputs": [
    {
     "name": "stdout",
     "output_type": "stream",
     "text": [
      "a= [[[1]\n",
      "  [2]\n",
      "  [3]]\n",
      "\n",
      " [[4]\n",
      "  [5]\n",
      "  [6]]\n",
      "\n",
      " [[7]\n",
      "  [8]\n",
      "  [9]]]\n",
      "b= []\n"
     ]
    }
   ],
   "source": [
    "a, b = np.dsplit(d5,[1])\n",
    "print('a=', a)\n",
    "print('b=', b)"
   ]
  },
  {
   "cell_type": "code",
   "execution_count": 149,
   "metadata": {},
   "outputs": [
    {
     "name": "stdout",
     "output_type": "stream",
     "text": [
      "a= [[[1]\n",
      "  [2]\n",
      "  [3]]\n",
      "\n",
      " [[4]\n",
      "  [5]\n",
      "  [6]]]\n",
      "b= [[[7]\n",
      "  [8]\n",
      "  [9]]]\n"
     ]
    }
   ],
   "source": [
    "a, b = np.split(d5,[2],axis=0)  #改变一下axis = 【0,1,2】\n",
    "print('a=', a)\n",
    "print('b=', b)"
   ]
  },
  {
   "cell_type": "code",
   "execution_count": null,
   "metadata": {},
   "outputs": [],
   "source": [
    "np.dsplit?\n"
   ]
  },
  {
   "cell_type": "markdown",
   "metadata": {},
   "source": [
    "[返回目录](#mulu)"
   ]
  },
  {
   "cell_type": "markdown",
   "metadata": {},
   "source": [
    "## <font size=5><span id=\"12.4\"> 12.4 NumPy 数组计算 —— 通用函数</span></font>"
   ]
  },
  {
   "cell_type": "markdown",
   "metadata": {},
   "source": [
    "### 12.4.1 NumPy 在数据计算方面的重要性\n",
    "\n",
    "NumPy 在数据科学世界如此重要，原因在于\n",
    "\n",
    "- 易用灵活的接口\n",
    "- 优化的数据计算\n",
    "- 快速的计算\n",
    "\n",
    "实现快速高效的关键\n",
    "\n",
    "- 在一般NumPy的 *通用函数 universal functions(ufuncs)* 中，使用 *向量化vectorized* 操作，使得大量数组元素重复计算的效率大大提高。"
   ]
  },
  {
   "cell_type": "markdown",
   "metadata": {},
   "source": [
    "### 12.4.2   认识 Python 循环的缓慢\n",
    "\n",
    "Python 常规操作的缺省实现（基于CPython）十分缓慢，原因在于\n",
    "\n",
    "- 动态、解释型语言：类型比较灵活，但操作不能编译成高效的机器代码（如C和Fortran）\n",
    "\n",
    "为克服此缺点，业界付出大量努力：\n",
    "\n",
    "- [PyPy](http://pypy.org/)项目，及时编译实现Python\n",
    "- [Cython](http://cython.org)项目，转换Python代码成C代码\n",
    "- [Numba](http://numba.pydata.org/) 项目, 转换Python片断成LLVM(底层虚拟机,Low Level Virtual Machine)字节码\n",
    "\n",
    "上述项目各有优劣，不过都没有超越标准CPython引擎。"
   ]
  },
  {
   "cell_type": "markdown",
   "metadata": {},
   "source": [
    "#### 示例 —— 循环计算倒数\n",
    "\n",
    "Python 的迟缓多是由于小操作的大量重复，例如，对数组元素的循环操作，考虑 *一个循环计算倒数* 的例子。"
   ]
  },
  {
   "cell_type": "code",
   "execution_count": 1,
   "metadata": {},
   "outputs": [
    {
     "name": "stdout",
     "output_type": "stream",
     "text": [
      "values =  [6 1 4 4 8]\n"
     ]
    },
    {
     "data": {
      "text/plain": [
       "array([0.16666667, 1.        , 0.25      , 0.25      , 0.125     ])"
      ]
     },
     "execution_count": 1,
     "metadata": {},
     "output_type": "execute_result"
    }
   ],
   "source": [
    "import numpy as np\n",
    "np.random.seed(0)\n",
    "\n",
    "def compute_reciprocals(values):  #循环计算倒数的函数\n",
    "    output = np.empty(len(values))  #建立一个同大小的空矩阵\n",
    "    for i in range(len(values)):  #循环处理\n",
    "        output[i] = 1.0 / values[i]\n",
    "    return output\n",
    "        \n",
    "values = np.random.randint(1, 10, size=5) #1-10之间随机生成5个数\n",
    "print('values = ',values)\n",
    "compute_reciprocals(values) #计算倒数"
   ]
  },
  {
   "cell_type": "markdown",
   "metadata": {},
   "source": [
    "#### 魔法命令发现 —— 慢得令人吃惊\n",
    "\n",
    "- 采用基准 IPython 的魔法命令``%timeit``，测量上述代码的运行时间"
   ]
  },
  {
   "cell_type": "code",
   "execution_count": 2,
   "metadata": {},
   "outputs": [
    {
     "name": "stdout",
     "output_type": "stream",
     "text": [
      "1.77 s ± 25.7 ms per loop (mean ± std. dev. of 7 runs, 1 loop each)\n"
     ]
    }
   ],
   "source": [
    "big_array = np.random.randint(1, 100, size=10**6) #有点慢哦\n",
    "%timeit compute_reciprocals(big_array)"
   ]
  },
  {
   "cell_type": "code",
   "execution_count": null,
   "metadata": {},
   "outputs": [],
   "source": [
    "# %timeit 表示多次执行一个语句，返回平均值"
   ]
  },
  {
   "cell_type": "markdown",
   "metadata": {},
   "source": [
    "#### 计算效能的解读\n",
    "\n",
    "- 运算级别：百万\n",
    "- 时间开销：数秒\n",
    "\n",
    "#### 思考\n",
    "\n",
    "- 手机的处理速度都到了Giga-FLOPS (即, 每秒百万次数字运算)，上例慢得离谱\n",
    "- 瓶颈：不是操作本身，而是每次循环CPython必须做的类型检查、函数调用等\n",
    "- 如果在C语言下，无须这么多琐碎，效率将大大提高"
   ]
  },
  {
   "cell_type": "markdown",
   "metadata": {},
   "source": [
    "### 12.4.3    通用函数 (UFuncs) 介绍\n",
    "\n",
    "- 对于多种操作，NumPy提供了便利接口（诸如 静态类型、编译程序等），即所谓 *向量化(vectorized)* 操作\n",
    "- 可以轻松对数组运算实现到元素级\n",
    "- 向量化操作的实质是在 NumPy 的 *编译层* 实现循环，从而快速执行代码"
   ]
  },
  {
   "cell_type": "markdown",
   "metadata": {},
   "source": [
    "#### 示例 —— 效率对比\n",
    "\n",
    "- 比较以下两例结果......"
   ]
  },
  {
   "cell_type": "code",
   "execution_count": 3,
   "metadata": {},
   "outputs": [
    {
     "name": "stdout",
     "output_type": "stream",
     "text": [
      "[0.16666667 1.         0.25       0.25       0.125     ]\n",
      "[0.16666667 1.         0.25       0.25       0.125     ]\n"
     ]
    }
   ],
   "source": [
    "print(compute_reciprocals(values))\n",
    "print(1.0 / values)"
   ]
  },
  {
   "cell_type": "markdown",
   "metadata": {},
   "source": [
    "#### 发现 —— 效率得到提高\n",
    "\n",
    "- 对于大数组运算，执行效率比 Python 循环在量级上大幅提高"
   ]
  },
  {
   "cell_type": "code",
   "execution_count": 4,
   "metadata": {},
   "outputs": [
    {
     "name": "stdout",
     "output_type": "stream",
     "text": [
      "2.89 ms ± 277 µs per loop (mean ± std. dev. of 7 runs, 100 loops each)\n"
     ]
    }
   ],
   "source": [
    "%timeit (1.0 / big_array)"
   ]
  },
  {
   "cell_type": "markdown",
   "metadata": {},
   "source": [
    "### 12.4.4   NumPy 向量化操作\n",
    "\n",
    "通过 *通用函数 ufuncs* 来实现"
   ]
  },
  {
   "cell_type": "markdown",
   "metadata": {},
   "source": [
    "#### 主要目的\n",
    "\n",
    "- 快速执行大量重复的数组操作"
   ]
  },
  {
   "cell_type": "markdown",
   "metadata": {},
   "source": [
    "#### 通用函数的极度灵活性"
   ]
  },
  {
   "cell_type": "code",
   "execution_count": 5,
   "metadata": {},
   "outputs": [
    {
     "data": {
      "text/plain": [
       "array([0.        , 0.5       , 0.66666667, 0.75      , 0.8       ])"
      ]
     },
     "execution_count": 5,
     "metadata": {},
     "output_type": "execute_result"
    }
   ],
   "source": [
    "np.arange(5) / np.arange(1, 6)"
   ]
  },
  {
   "cell_type": "markdown",
   "metadata": {},
   "source": [
    "#### ufunc 操作不限于一维数组\n",
    "\n",
    "- 多维数组也可"
   ]
  },
  {
   "cell_type": "code",
   "execution_count": 6,
   "metadata": {},
   "outputs": [
    {
     "data": {
      "text/plain": [
       "array([[  1,   2,   4],\n",
       "       [  8,  16,  32],\n",
       "       [ 64, 128, 256]], dtype=int32)"
      ]
     },
     "execution_count": 6,
     "metadata": {},
     "output_type": "execute_result"
    }
   ],
   "source": [
    "x = np.arange(9).reshape((3, 3))\n",
    "2 ** x"
   ]
  },
  {
   "cell_type": "markdown",
   "metadata": {},
   "source": [
    "- 使用 *向量化vectorization* 和 *通用函数ufuncs* 进行计算，几乎总是高效的，尤其对大型数组\n",
    "- 无论何时，有Python脚本的类似循环计算，就有必要考虑采用 *向量化操作*"
   ]
  },
  {
   "cell_type": "markdown",
   "metadata": {},
   "source": [
    "### 12.4.5   探讨 NumPy 的 UFuncs\n",
    "\n",
    "Ufuncs 存在的两种形式：\n",
    "- 一元通用函数 *unary ufuncs*，操作单个输入\n",
    "- 二元通用函数 *binary ufuncs*，操作两个输入"
   ]
  },
  {
   "cell_type": "markdown",
   "metadata": {},
   "source": [
    "#### 示例 —— 数组算法\n",
    "\n",
    "- NumPy 的通用函数 ufuncs 用起来非常自然，可实现在诸如：加、减、乘、除等标准计算"
   ]
  },
  {
   "cell_type": "code",
   "execution_count": 7,
   "metadata": {},
   "outputs": [
    {
     "name": "stdout",
     "output_type": "stream",
     "text": [
      "x     = [0 1 2 3]\n",
      "x + 5 = [5 6 7 8]\n",
      "x - 5 = [-5 -4 -3 -2]\n",
      "x * 2 = [0 2 4 6]\n",
      "x / 2 = [0.  0.5 1.  1.5]\n",
      "x // 2 = [0 0 1 1]\n"
     ]
    }
   ],
   "source": [
    "x = np.arange(4)\n",
    "print(\"x     =\", x)\n",
    "print(\"x + 5 =\", x + 5)\n",
    "print(\"x - 5 =\", x - 5)\n",
    "print(\"x * 2 =\", x * 2)\n",
    "print(\"x / 2 =\", x / 2)\n",
    "print(\"x // 2 =\", x // 2)  # floor division"
   ]
  },
  {
   "cell_type": "markdown",
   "metadata": {},
   "source": [
    "#### 一元通用函数 (unary ufunc) 也适用于\n",
    "\n",
    "- 取反 -\n",
    "- 乘幂 **\n",
    "- 取余 %\n",
    "\n",
    "等操作符"
   ]
  },
  {
   "cell_type": "code",
   "execution_count": 8,
   "metadata": {},
   "outputs": [
    {
     "name": "stdout",
     "output_type": "stream",
     "text": [
      "-x     =  [ 0 -1 -2 -3]\n",
      "x ** 2 =  [0 1 4 9]\n",
      "x % 2  =  [0 1 0 1]\n"
     ]
    }
   ],
   "source": [
    "print(\"-x     = \", -x)\n",
    "print(\"x ** 2 = \", x ** 2)\n",
    "print(\"x % 2  = \", x % 2)"
   ]
  },
  {
   "cell_type": "markdown",
   "metadata": {},
   "source": [
    "#### 运算捆绑\n",
    "\n",
    "- 普通表达式 —— 运算捆绑"
   ]
  },
  {
   "cell_type": "code",
   "execution_count": 9,
   "metadata": {},
   "outputs": [
    {
     "data": {
      "text/plain": [
       "array([-1.  , -2.25, -4.  , -6.25])"
      ]
     },
     "execution_count": 9,
     "metadata": {},
     "output_type": "execute_result"
    }
   ],
   "source": [
    "-(0.5*x + 1) ** 2"
   ]
  },
  {
   "cell_type": "markdown",
   "metadata": {},
   "source": [
    "#### 内部包装\n",
    "\n",
    "每个运算操作都在NumPy内部进行简易包装，例如\n",
    "\n",
    "- ``+``操作包装成``add``函数"
   ]
  },
  {
   "cell_type": "code",
   "execution_count": 10,
   "metadata": {},
   "outputs": [
    {
     "data": {
      "text/plain": [
       "array([2, 3, 4, 5])"
      ]
     },
     "execution_count": 10,
     "metadata": {},
     "output_type": "execute_result"
    }
   ],
   "source": [
    "np.add(x, 2)"
   ]
  },
  {
   "cell_type": "markdown",
   "metadata": {},
   "source": [
    "#### 实现通用函数的运算符表\n",
    "\n",
    "- 下表列出所有在 NumPy 中实现的运算符\n",
    "\n",
    "| 运算符\t   | 等效的通用函数     | 描述                   |\n",
    "|--------------|----------------------|---------------------------------|\n",
    "|``+``      |``np.add``         |相加 (例如, ``1 + 1 = 2``)     |\n",
    "|``-``      |``np.subtract``      |相减 (例如, ``3 - 2 = 1``)     |\n",
    "|``-``      |``np.negative``      |取负 (例如, ``-2``)          |\n",
    "|``*``      |``np.multiply``      |相乘 (例如, ``2 * 3 = 6``)     |\n",
    "|``/``      |``np.divide``       |相除 (例如, ``3 / 2 = 1.5``)   |\n",
    "|``//``      |``np.floor_divide``   |地板除 (例如, ``3 // 2 = 1``)  |\n",
    "|``**``      |``np.power``        |乘幂 (例如, ``2 ** 3 = 8``)   |\n",
    "|``%``      |``np.mod``         |模除 (例如, ``9 % 4 = 1``)     |\n",
    "\n",
    "此外，还有布尔/位运算符，略。"
   ]
  },
  {
   "cell_type": "markdown",
   "metadata": {},
   "source": [
    "### 12.4.6  内建通用函数系列"
   ]
  },
  {
   "cell_type": "markdown",
   "metadata": {},
   "source": [
    "#### 绝对值\n",
    "\n",
    "- 如同Python的内建运算符，内建的绝对值函数也适用。"
   ]
  },
  {
   "cell_type": "code",
   "execution_count": 11,
   "metadata": {},
   "outputs": [
    {
     "data": {
      "text/plain": [
       "array([2, 1, 0, 1, 2])"
      ]
     },
     "execution_count": 11,
     "metadata": {},
     "output_type": "execute_result"
    }
   ],
   "source": [
    "x = np.array([-2, -1, 0, 1, 2])\n",
    "abs(x)"
   ]
  },
  {
   "cell_type": "markdown",
   "metadata": {},
   "source": [
    "与之相应的 NumPy 通用函数(ufunc)是``np.absolute``，它也可使用假名(alias)``np.abs``"
   ]
  },
  {
   "cell_type": "code",
   "execution_count": 12,
   "metadata": {},
   "outputs": [
    {
     "data": {
      "text/plain": [
       "array([2, 1, 0, 1, 2])"
      ]
     },
     "execution_count": 12,
     "metadata": {},
     "output_type": "execute_result"
    }
   ],
   "source": [
    "np.absolute(x)"
   ]
  },
  {
   "cell_type": "code",
   "execution_count": 13,
   "metadata": {},
   "outputs": [
    {
     "data": {
      "text/plain": [
       "array([2, 1, 0, 1, 2])"
      ]
     },
     "execution_count": 13,
     "metadata": {},
     "output_type": "execute_result"
    }
   ],
   "source": [
    "np.abs(x)"
   ]
  },
  {
   "cell_type": "markdown",
   "metadata": {},
   "source": [
    "该通用函数(ufunc)也可处理复数，这时所谓的绝对值也就是幅值"
   ]
  },
  {
   "cell_type": "code",
   "execution_count": null,
   "metadata": {},
   "outputs": [],
   "source": [
    "x = np.array([3 - 4j, 4 - 3j, 2 + 0j, 0 + 1j])\n",
    "np.abs(x)"
   ]
  },
  {
   "cell_type": "code",
   "execution_count": 14,
   "metadata": {},
   "outputs": [
    {
     "data": {
      "text/plain": [
       "5.0"
      ]
     },
     "execution_count": 14,
     "metadata": {},
     "output_type": "execute_result"
    }
   ],
   "source": [
    "abs(3 - 4j)"
   ]
  },
  {
   "cell_type": "markdown",
   "metadata": {},
   "source": [
    "#### 三角函数\n",
    "\n",
    "NumPy 提供了大量的通用函数(ufuncs)，包括三角函数\n",
    "\n",
    "考虑下例"
   ]
  },
  {
   "cell_type": "code",
   "execution_count": 16,
   "metadata": {},
   "outputs": [
    {
     "data": {
      "text/plain": [
       "array([0.        , 0.78539816, 1.57079633, 2.35619449, 3.14159265])"
      ]
     },
     "execution_count": 16,
     "metadata": {},
     "output_type": "execute_result"
    }
   ],
   "source": [
    "theta = np.linspace(0, np.pi, 5)\n",
    "theta"
   ]
  },
  {
   "cell_type": "markdown",
   "metadata": {},
   "source": [
    "计算若干三角函数值"
   ]
  },
  {
   "cell_type": "code",
   "execution_count": 17,
   "metadata": {},
   "outputs": [
    {
     "name": "stdout",
     "output_type": "stream",
     "text": [
      "theta      =  [0.         0.78539816 1.57079633 2.35619449 3.14159265]\n",
      "sin(theta) =  [0.00000000e+00 7.07106781e-01 1.00000000e+00 7.07106781e-01\n",
      " 1.22464680e-16]\n",
      "cos(theta) =  [ 1.00000000e+00  7.07106781e-01  6.12323400e-17 -7.07106781e-01\n",
      " -1.00000000e+00]\n",
      "tan(theta) =  [ 0.00000000e+00  1.00000000e+00  1.63312394e+16 -1.00000000e+00\n",
      " -1.22464680e-16]\n"
     ]
    }
   ],
   "source": [
    "print(\"theta      = \", theta)\n",
    "print(\"sin(theta) = \", np.sin(theta))\n",
    "print(\"cos(theta) = \", np.cos(theta))\n",
    "print(\"tan(theta) = \", np.tan(theta))"
   ]
  },
  {
   "cell_type": "markdown",
   "metadata": {},
   "source": [
    "#### 结果值达到机器精度！"
   ]
  },
  {
   "cell_type": "markdown",
   "metadata": {},
   "source": [
    "####  反三角函数也适用"
   ]
  },
  {
   "cell_type": "code",
   "execution_count": 18,
   "metadata": {},
   "outputs": [
    {
     "name": "stdout",
     "output_type": "stream",
     "text": [
      "x         =  [-1, 0, 1]\n",
      "arcsin(x) =  [-1.57079633  0.          1.57079633]\n",
      "arccos(x) =  [3.14159265 1.57079633 0.        ]\n",
      "arctan(x) =  [-0.78539816  0.          0.78539816]\n"
     ]
    }
   ],
   "source": [
    "x = [-1, 0, 1]\n",
    "print(\"x         = \", x)\n",
    "print(\"arcsin(x) = \", np.arcsin(x))\n",
    "print(\"arccos(x) = \", np.arccos(x))\n",
    "print(\"arctan(x) = \", np.arctan(x))"
   ]
  },
  {
   "cell_type": "markdown",
   "metadata": {},
   "source": [
    "#### 指数和对数函数"
   ]
  },
  {
   "cell_type": "code",
   "execution_count": 19,
   "metadata": {},
   "outputs": [
    {
     "name": "stdout",
     "output_type": "stream",
     "text": [
      "x     = [1, 2, 3]\n",
      "e^x   = [ 2.71828183  7.3890561  20.08553692]\n",
      "2^x   = [2. 4. 8.]\n",
      "3^x   = [ 3  9 27]\n"
     ]
    }
   ],
   "source": [
    "x = [1, 2, 3]\n",
    "print(\"x     =\", x)\n",
    "print(\"e^x   =\", np.exp(x))\n",
    "print(\"2^x   =\", np.exp2(x))\n",
    "print(\"3^x   =\", np.power(3, x))"
   ]
  },
  {
   "cell_type": "markdown",
   "metadata": {},
   "source": [
    "对数函数也适用\n",
    "\n",
    "- log 自然对数\n",
    "- log2 以2为底\n",
    "- log10 以10为底"
   ]
  },
  {
   "cell_type": "code",
   "execution_count": 20,
   "metadata": {},
   "outputs": [
    {
     "name": "stdout",
     "output_type": "stream",
     "text": [
      "x        = [1, 2, 4, 10]\n",
      "ln(x)    = [0.         0.69314718 1.38629436 2.30258509]\n",
      "log2(x)  = [0.         1.         2.         3.32192809]\n",
      "log10(x) = [0.         0.30103    0.60205999 1.        ]\n"
     ]
    }
   ],
   "source": [
    "x = [1, 2, 4, 10]\n",
    "print(\"x        =\", x)\n",
    "print(\"ln(x)    =\", np.log(x))\n",
    "print(\"log2(x)  =\", np.log2(x))\n",
    "print(\"log10(x) =\", np.log10(x))"
   ]
  },
  {
   "cell_type": "markdown",
   "metadata": {},
   "source": [
    "<font color=\"red\">指数和对数函数的特殊版本</font>\n",
    "- 适用于小输入数"
   ]
  },
  {
   "cell_type": "code",
   "execution_count": 21,
   "metadata": {},
   "outputs": [
    {
     "name": "stdout",
     "output_type": "stream",
     "text": [
      "exp(x) - 1 = [0.         0.0010005  0.01005017 0.10517092]\n",
      "log(1 + x) = [0.         0.0009995  0.00995033 0.09531018]\n"
     ]
    }
   ],
   "source": [
    "x = [0, 0.001, 0.01, 0.1]\n",
    "print(\"exp(x) - 1 =\", np.expm1(x))\n",
    "print(\"log(1 + x) =\", np.log1p(x))"
   ]
  },
  {
   "cell_type": "markdown",
   "metadata": {},
   "source": [
    "当``x``非常小时，这些函数的精度比原来的``np.log``或``np.exp``更高"
   ]
  },
  {
   "cell_type": "markdown",
   "metadata": {},
   "source": [
    "#### NumPy 提供的特殊通用函数 (ufuncs)\n",
    "\n",
    "NumPy 有众多通用函数可用，包括\n",
    "\n",
    "- 双曲三角函数\n",
    "- 位运算函数\n",
    "- 比较运算符\n",
    "- 弧度rad/度deg转换函数\n",
    "- 舍入和剩余函数"
   ]
  },
  {
   "cell_type": "code",
   "execution_count": 22,
   "metadata": {},
   "outputs": [],
   "source": [
    "np.arctan2??"
   ]
  },
  {
   "cell_type": "markdown",
   "metadata": {},
   "source": [
    "#### scipy.special 中提供的特殊通用函数\n",
    "- SciPy 提供的特殊函数子模块``scipy.special``中的函数\n",
    "\n",
    "更多的函数，无法一一列举:\n",
    "https://docs.scipy.org/doc/scipy-0.17.1/reference/special.html"
   ]
  },
  {
   "cell_type": "code",
   "execution_count": 23,
   "metadata": {},
   "outputs": [],
   "source": [
    "from scipy import special"
   ]
  },
  {
   "cell_type": "code",
   "execution_count": 24,
   "metadata": {},
   "outputs": [
    {
     "name": "stdout",
     "output_type": "stream",
     "text": [
      "gamma(x)     = [1.0000e+00 2.4000e+01 3.6288e+05]\n",
      "ln|gamma(x)| = [ 0.          3.17805383 12.80182748]\n",
      "beta(x, 2)   = [0.5        0.03333333 0.00909091]\n"
     ]
    }
   ],
   "source": [
    "# Gamma functions (generalized factorials) and related functions\n",
    "x = [1, 5, 10]\n",
    "print(\"gamma(x)     =\", special.gamma(x))\n",
    "print(\"ln|gamma(x)| =\", special.gammaln(x))\n",
    "print(\"beta(x, 2)   =\", special.beta(x, 2))"
   ]
  },
  {
   "cell_type": "code",
   "execution_count": null,
   "metadata": {},
   "outputs": [],
   "source": []
  },
  {
   "cell_type": "code",
   "execution_count": 25,
   "metadata": {},
   "outputs": [
    {
     "name": "stdout",
     "output_type": "stream",
     "text": [
      "erf(x)  = [0.         0.32862676 0.52049988 0.67780119 0.84270079]\n",
      "erfc(x) = [1.         0.67137324 0.47950012 0.32219881 0.15729921]\n",
      "erfinv(x) = [0.         0.27246271 0.47693628 0.73286908        inf]\n"
     ]
    }
   ],
   "source": [
    "# Error function (integral of Gaussian)\n",
    "# its complement, and its inverse\n",
    "x = np.array([0, 0.3, 0.5, 0.7, 1.0])\n",
    "#x = np.arange(0,5,0.1)\n",
    "y1 = special.erf(x)\n",
    "y2 = special.erfc(x)\n",
    "y3 = special.erfinv(x)\n",
    "print(\"erf(x)  =\", special.erf(x))  #高斯曲线的面积,计算正态分布密度曲线,\n",
    "print(\"erfc(x) =\", special.erfc(x))\n",
    "print(\"erfinv(x) =\", special.erfinv(x))\n"
   ]
  },
  {
   "cell_type": "code",
   "execution_count": 26,
   "metadata": {},
   "outputs": [
    {
     "data": {
      "image/png": "[encoded data removed]",
      "text/plain": [
       "<Figure size 432x288 with 1 Axes>"
      ]
     },
     "metadata": {
      "needs_background": "light"
     },
     "output_type": "display_data"
    }
   ],
   "source": [
    "# 使用之前，要查清楚函数的含义\n",
    "import matplotlib as mpl\n",
    "import matplotlib.pyplot as plt\n",
    "x = np.linspace(-3, 3)\n",
    "plt.plot(x, special.erf(x))\n",
    "plt.xlabel('$x$')\n",
    "plt.ylabel('$erf(x)$')\n",
    "plt.show()"
   ]
  },
  {
   "cell_type": "markdown",
   "metadata": {},
   "source": [
    "### 12.4.7  通用函数(Ufunc)的高级特性\n",
    "\n",
    "- 指定输出\n",
    "- 使用数组视(array views)"
   ]
  },
  {
   "cell_type": "markdown",
   "metadata": {},
   "source": [
    "#### 指定输出\n",
    "\n",
    "- 对大型计算，指定存放结果的数组是有用的\n",
    "- 相比创建临时数组，更可能采用将结果直接写入内存的办法\n",
    "- 对所有的 ufuncs，可以采用``out``参数指定输出"
   ]
  },
  {
   "cell_type": "code",
   "execution_count": 27,
   "metadata": {},
   "outputs": [
    {
     "name": "stdout",
     "output_type": "stream",
     "text": [
      "x= [0 1 2 3 4]\n",
      "y= [ 1.   2.   2.5  5.  10. ]\n",
      "[ 0. 10. 20. 30. 40.]\n"
     ]
    }
   ],
   "source": [
    "x = np.arange(5)\n",
    "print('x=',x)\n",
    "y = np.empty(5)\n",
    "print('y=',y)\n",
    "np.multiply(x, 10, out=y)  #np.multiply  数组和矩阵对应位置相乘，输出与相乘数组/矩阵的大小一致\n",
    "# 输出到y去\n",
    "print(y)\n",
    "# y的大小要对应，如果不对应，会出错"
   ]
  },
  {
   "cell_type": "markdown",
   "metadata": {},
   "source": [
    "#### 使用数组视(array views)"
   ]
  },
  {
   "cell_type": "code",
   "execution_count": 28,
   "metadata": {},
   "outputs": [
    {
     "name": "stdout",
     "output_type": "stream",
     "text": [
      "[ 0. 16.  0.  8.  0.  4.  0.  2.  0.  1.]\n"
     ]
    }
   ],
   "source": [
    "y = np.zeros(10)\n",
    "np.power(2, x, out=y[::-2])  #仔细想一想，这是什么意思\n",
    "print(y)"
   ]
  },
  {
   "cell_type": "markdown",
   "metadata": {},
   "source": [
    "- 对于上述小算例，可采用 ``y[::2] = 2 ** x``，影响不大。\n",
    "    - 创建一临时数组存贮结果``2 ** x``\n",
    "    - 然后将之拷贝到``y``数组\n",
    "- 对于大型数组计算，宜采用 ``out``参数\n",
    "    - 直接操作 `y`\n",
    "    - 将节省内存"
   ]
  },
  {
   "cell_type": "markdown",
   "metadata": {},
   "source": [
    "### 12.4.8   聚合 Aggregates\n",
    "\n",
    "对于二元通用函数(ufuncs)，存在一些有趣的可从对象直接计算的聚合\n",
    "\n",
    "例如，如果想缩减（*reduce*）数组计算，可使用通用函数的``reduce``方法 <p>\n",
    "\n",
    "<font color=\"red\">缩减可对数组元素重复</font>\n",
    "\n",
    "例如，对于``add``通用函数调用``reduce``将返回所有元素的和"
   ]
  },
  {
   "cell_type": "code",
   "execution_count": 29,
   "metadata": {},
   "outputs": [
    {
     "data": {
      "text/plain": [
       "15"
      ]
     },
     "execution_count": 29,
     "metadata": {},
     "output_type": "execute_result"
    }
   ],
   "source": [
    "x = np.arange(1, 6)\n",
    "np.add.reduce(x)"
   ]
  },
  {
   "cell_type": "markdown",
   "metadata": {},
   "source": [
    "类似，对于``multiply``调用``reduce``将计算所有元素的乘积"
   ]
  },
  {
   "cell_type": "code",
   "execution_count": 30,
   "metadata": {},
   "outputs": [
    {
     "data": {
      "text/plain": [
       "120"
      ]
     },
     "execution_count": 30,
     "metadata": {},
     "output_type": "execute_result"
    }
   ],
   "source": [
    "np.multiply.reduce(x)"
   ]
  },
  {
   "cell_type": "markdown",
   "metadata": {},
   "source": [
    "如果打算存放所有的中间结果，可采用``accumulate``"
   ]
  },
  {
   "cell_type": "code",
   "execution_count": 31,
   "metadata": {},
   "outputs": [
    {
     "data": {
      "text/plain": [
       "array([ 1,  3,  6, 10, 15], dtype=int32)"
      ]
     },
     "execution_count": 31,
     "metadata": {},
     "output_type": "execute_result"
    }
   ],
   "source": [
    "np.add.accumulate(x)"
   ]
  },
  {
   "cell_type": "code",
   "execution_count": 32,
   "metadata": {},
   "outputs": [
    {
     "data": {
      "text/plain": [
       "array([  1,   2,   6,  24, 120], dtype=int32)"
      ]
     },
     "execution_count": 32,
     "metadata": {},
     "output_type": "execute_result"
    }
   ],
   "source": [
    "np.multiply.accumulate(x)"
   ]
  },
  {
   "cell_type": "markdown",
   "metadata": {},
   "source": [
    "上述特例，有专用的 NumPy 函数可用\n",
    "\n",
    "- ``np.sum``、``np.prod``、``np.cumsum``、``np.cumprod``\n",
    "\n",
    "详见[Aggregations: Min, Max, and Everything In Between](10.5数组计算之aggregates.ipynb)."
   ]
  },
  {
   "cell_type": "code",
   "execution_count": 33,
   "metadata": {},
   "outputs": [
    {
     "data": {
      "text/plain": [
       "(15, 120)"
      ]
     },
     "execution_count": 33,
     "metadata": {},
     "output_type": "execute_result"
    }
   ],
   "source": [
    "np.sum(x), np.prod(x)"
   ]
  },
  {
   "cell_type": "code",
   "execution_count": 34,
   "metadata": {},
   "outputs": [
    {
     "data": {
      "text/plain": [
       "(array([ 1,  3,  6, 10, 15], dtype=int32),\n",
       " array([  1,   2,   6,  24, 120], dtype=int32))"
      ]
     },
     "execution_count": 34,
     "metadata": {},
     "output_type": "execute_result"
    }
   ],
   "source": [
    "np.cumsum(x), np.cumprod(x)"
   ]
  },
  {
   "cell_type": "markdown",
   "metadata": {},
   "source": [
    "### 12.4.9   外积\n",
    "\n",
    "最后, 通过使用``outer``方法，任一通用函数可计算两不同输入所有配对的输出，这使得可用一行代码完成诸如乘积表的创建工作。"
   ]
  },
  {
   "cell_type": "code",
   "execution_count": 35,
   "metadata": {},
   "outputs": [
    {
     "name": "stdout",
     "output_type": "stream",
     "text": [
      "x= [1 2 3 4 5]\n",
      "y= [4 6 1 9 5]\n"
     ]
    },
    {
     "data": {
      "text/plain": [
       "array([[ 4,  6,  1,  9,  5],\n",
       "       [ 8, 12,  2, 18, 10],\n",
       "       [12, 18,  3, 27, 15],\n",
       "       [16, 24,  4, 36, 20],\n",
       "       [20, 30,  5, 45, 25]])"
      ]
     },
     "execution_count": 35,
     "metadata": {},
     "output_type": "execute_result"
    }
   ],
   "source": [
    "x = np.arange(1, 6)\n",
    "print('x=',x)\n",
    "y=np.array([4,6,1,9,5])\n",
    "print('y=',y)\n",
    "np.multiply.outer(x, y)"
   ]
  },
  {
   "cell_type": "code",
   "execution_count": 36,
   "metadata": {},
   "outputs": [
    {
     "data": {
      "text/plain": [
       "array([[ 4,  6,  1,  9,  5],\n",
       "       [ 8, 12,  2, 18, 10],\n",
       "       [12, 18,  3, 27, 15],\n",
       "       [16, 24,  4, 36, 20],\n",
       "       [20, 30,  5, 45, 25]])"
      ]
     },
     "execution_count": 36,
     "metadata": {},
     "output_type": "execute_result"
    }
   ],
   "source": [
    "x.reshape((5,1))*y"
   ]
  },
  {
   "cell_type": "markdown",
   "metadata": {},
   "source": [
    "### 12.4.10  其它有用的方法\n",
    "\n",
    "- ``ufunc.at`` 在指定的位置操作\n",
    "- ``ufunc.reduceat`` 计算多组reduce()的结果，通过indices参数指定一系列的起始和终了位置。\n",
    "\n",
    "在[Fancy Indexing](02.07-Fancy-Indexing.ipynb)中介绍"
   ]
  },
  {
   "cell_type": "code",
   "execution_count": 37,
   "metadata": {},
   "outputs": [
    {
     "name": "stdout",
     "output_type": "stream",
     "text": [
      "[-1 -2  3  4]\n"
     ]
    }
   ],
   "source": [
    "a = np.array([1, 2, 3, 4])\n",
    "np.negative.at(a, [0, 1])\n",
    "print(a)"
   ]
  },
  {
   "cell_type": "code",
   "execution_count": 38,
   "metadata": {},
   "outputs": [
    {
     "data": {
      "text/plain": [
       "array([ 1,  2,  3,  3,  6,  4, 10], dtype=int32)"
      ]
     },
     "execution_count": 38,
     "metadata": {},
     "output_type": "execute_result"
    }
   ],
   "source": [
    "a = np.array([1,2,3,4])\n",
    "result = np.add.reduceat(a,indices=[0, 1, 0, 2, 0, 3, 0])  #能不能看得懂呢？ 0~1 1~0 0~2.。。\n",
    "result"
   ]
  },
  {
   "cell_type": "markdown",
   "metadata": {},
   "source": [
    "#### 另一有用特性\n",
    "\n",
    "- ufuncs 可操作不同大小(size)和构形(shape)的数组，即著名的 *broadcasting* 操作\n",
    "\n",
    "详见[数组计算之broadcasting](数组计算之broadcasting.ipynb))"
   ]
  },
  {
   "cell_type": "markdown",
   "metadata": {},
   "source": [
    "### 12.4.11  关于通用函数的更多知识"
   ]
  },
  {
   "cell_type": "markdown",
   "metadata": {},
   "source": [
    "参考[NumPy](http://www.numpy.org) and [SciPy](http://www.scipy.org) 在线文档网页。"
   ]
  },
  {
   "cell_type": "markdown",
   "metadata": {},
   "source": [
    "[返回目录](#mulu)"
   ]
  },
  {
   "cell_type": "markdown",
   "metadata": {},
   "source": [
    "## <font size=5><span id=\"12.5\"> 12.5 数组计算之聚合函数aggregates</span></font>"
   ]
  },
  {
   "cell_type": "markdown",
   "metadata": {},
   "source": [
    "### 12.5.1 聚合 : 最大值, 最小值和中间值"
   ]
  },
  {
   "cell_type": "markdown",
   "metadata": {},
   "source": [
    "对于大数据，首先要概算统计量。\n",
    "\n",
    "最常见的统计量是均值与标准差，借此，可以归纳出数据集的典型值，另外一些聚合值也有用（和、积、中值、最小和最大、分位数等）\n",
    "\n",
    "NumPy有快速内建的聚合函数，下面讨论。"
   ]
  },
  {
   "cell_type": "markdown",
   "metadata": {},
   "source": [
    "### 12.5.2 数组求和"
   ]
  },
  {
   "cell_type": "code",
   "execution_count": 39,
   "metadata": {},
   "outputs": [],
   "source": [
    "import numpy as np"
   ]
  },
  {
   "cell_type": "code",
   "execution_count": 40,
   "metadata": {},
   "outputs": [
    {
     "name": "stdout",
     "output_type": "stream",
     "text": [
      "L= [0.25241011 0.97572458 0.1197632  ... 0.41573718 0.08086468 0.02903943]\n"
     ]
    },
    {
     "data": {
      "text/plain": [
       "4988.857592881709"
      ]
     },
     "execution_count": 40,
     "metadata": {},
     "output_type": "execute_result"
    }
   ],
   "source": [
    "L = np.random.random(10000)\n",
    "print(\"L=\",L)\n",
    "sum(L)"
   ]
  },
  {
   "cell_type": "markdown",
   "metadata": {},
   "source": [
    "语法类似于 NumPy 的``sum``函数，返回值也一样。"
   ]
  },
  {
   "cell_type": "code",
   "execution_count": 41,
   "metadata": {},
   "outputs": [
    {
     "data": {
      "text/plain": [
       "4988.857592881716"
      ]
     },
     "execution_count": 41,
     "metadata": {},
     "output_type": "execute_result"
    }
   ],
   "source": [
    "np.sum(L)"
   ]
  },
  {
   "cell_type": "markdown",
   "metadata": {},
   "source": [
    "由于运行的是编译代码，NumPy 的操作将很快。"
   ]
  },
  {
   "cell_type": "code",
   "execution_count": 42,
   "metadata": {},
   "outputs": [
    {
     "name": "stdout",
     "output_type": "stream",
     "text": [
      "158 ms ± 958 µs per loop (mean ± std. dev. of 7 runs, 10 loops each)\n",
      "651 µs ± 14.1 µs per loop (mean ± std. dev. of 7 runs, 1000 loops each)\n"
     ]
    }
   ],
   "source": [
    "big_array = np.random.rand(1000000)\n",
    "%timeit sum(big_array)\n",
    "%timeit np.sum(big_array)"
   ]
  },
  {
   "cell_type": "markdown",
   "metadata": {},
   "source": [
    "注意：\n",
    "``sum`` 函数和 ``np.sum`` 函数是不一样的，这有时会引起混淆。\n",
    "\n",
    "特别地，可选参数有不同意义，``np.sum`` 也可用于多维数组。"
   ]
  },
  {
   "cell_type": "code",
   "execution_count": 34,
   "metadata": {},
   "outputs": [
    {
     "data": {
      "text/plain": [
       "array([[0.97938251, 0.53713544, 0.76458196, 0.67135577, 0.93434015],\n",
       "       [0.62262132, 0.36818144, 0.08046219, 0.77480016, 0.57743048],\n",
       "       [0.44832631, 0.33907372, 0.8440174 , 0.14479596, 0.43916267],\n",
       "       [0.29646597, 0.10444435, 0.75062041, 0.3531718 , 0.42859866]])"
      ]
     },
     "execution_count": 34,
     "metadata": {},
     "output_type": "execute_result"
    }
   ],
   "source": [
    "L = np.random.random((4,5))\n",
    "L"
   ]
  },
  {
   "cell_type": "code",
   "execution_count": 35,
   "metadata": {},
   "outputs": [
    {
     "data": {
      "text/plain": [
       "(10.458968667353812,\n",
       " array([2.34679612, 1.34883494, 2.43968196, 1.94412369, 2.37953196]),\n",
       " array([3.88679582, 2.42349559, 2.21537606, 1.9333012 ]))"
      ]
     },
     "execution_count": 35,
     "metadata": {},
     "output_type": "execute_result"
    }
   ],
   "source": [
    "np.sum(L), np.sum(L,axis=0), np.sum(L,axis=1)  #axis"
   ]
  },
  {
   "cell_type": "markdown",
   "metadata": {},
   "source": [
    "### 12.5.3 最小值和最大值\n",
    "\n",
    "类似地，Python 也有内建的 ``min`` 和 ``max`` 函数，用于求任意数组的最小和最大值"
   ]
  },
  {
   "cell_type": "code",
   "execution_count": 45,
   "metadata": {},
   "outputs": [
    {
     "data": {
      "text/plain": [
       "(7.071203171893359e-07, 0.9999997207656334)"
      ]
     },
     "execution_count": 45,
     "metadata": {},
     "output_type": "execute_result"
    }
   ],
   "source": [
    "min(big_array), max(big_array)"
   ]
  },
  {
   "cell_type": "markdown",
   "metadata": {},
   "source": [
    "NumPy 的相关函数有类似的语法，并且运行速度更快"
   ]
  },
  {
   "cell_type": "code",
   "execution_count": null,
   "metadata": {},
   "outputs": [],
   "source": [
    "np.min(big_array), np.max(big_array)"
   ]
  },
  {
   "cell_type": "code",
   "execution_count": null,
   "metadata": {},
   "outputs": [],
   "source": [
    "%timeit min(big_array)\n",
    "%timeit np.min(big_array)"
   ]
  },
  {
   "cell_type": "markdown",
   "metadata": {},
   "source": [
    "对于 ``min``, ``max``, ``sum``, 等若干 NumPy 聚合，有更短的调用语法："
   ]
  },
  {
   "cell_type": "code",
   "execution_count": 46,
   "metadata": {},
   "outputs": [
    {
     "name": "stdout",
     "output_type": "stream",
     "text": [
      "7.071203171893359e-07 0.9999997207656334 500193.86149030225\n"
     ]
    }
   ],
   "source": [
    "print(big_array.min(), big_array.max(), big_array.sum())"
   ]
  },
  {
   "cell_type": "markdown",
   "metadata": {},
   "source": [
    "在操作 NumPy 数组时，要先确认 NumPy 的版本。"
   ]
  },
  {
   "cell_type": "markdown",
   "metadata": {},
   "source": [
    "### 12.5.4 多维聚合\n",
    "\n",
    "假设有一二维数组，最常用的计算是针对行和列实施"
   ]
  },
  {
   "cell_type": "code",
   "execution_count": 47,
   "metadata": {},
   "outputs": [
    {
     "name": "stdout",
     "output_type": "stream",
     "text": [
      "[[0.76539913 0.58517264 0.30594423 0.79611083]\n",
      " [0.58281894 0.49285411 0.33147835 0.69094945]\n",
      " [0.62370526 0.30358179 0.53213735 0.25969044]]\n"
     ]
    }
   ],
   "source": [
    "M = np.random.random((3, 4))\n",
    "print(M)"
   ]
  },
  {
   "cell_type": "markdown",
   "metadata": {},
   "source": [
    "缺省时，每个 NumPy 聚合函数将返回整个数组的聚合"
   ]
  },
  {
   "cell_type": "code",
   "execution_count": 48,
   "metadata": {},
   "outputs": [
    {
     "data": {
      "text/plain": [
       "6.269842515041536"
      ]
     },
     "execution_count": 48,
     "metadata": {},
     "output_type": "execute_result"
    }
   ],
   "source": [
    "M.sum()"
   ]
  },
  {
   "cell_type": "markdown",
   "metadata": {},
   "source": [
    "聚合函数有一附加的参数，用于指定沿其计算的轴 *axis*，例如，计算每一列的最小值，就设置 ``axis=0``："
   ]
  },
  {
   "cell_type": "code",
   "execution_count": 49,
   "metadata": {},
   "outputs": [
    {
     "data": {
      "text/plain": [
       "array([0.58281894, 0.30358179, 0.30594423, 0.25969044])"
      ]
     },
     "execution_count": 49,
     "metadata": {},
     "output_type": "execute_result"
    }
   ],
   "source": [
    "M.min(axis=0)"
   ]
  },
  {
   "cell_type": "markdown",
   "metadata": {},
   "source": [
    "函数返回了4个值，对应着4列。\n",
    "\n",
    "类似地，也可计算每行的最大值。"
   ]
  },
  {
   "cell_type": "code",
   "execution_count": 50,
   "metadata": {},
   "outputs": [
    {
     "data": {
      "text/plain": [
       "array([0.79611083, 0.69094945, 0.62370526])"
      ]
     },
     "execution_count": 50,
     "metadata": {},
     "output_type": "execute_result"
    }
   ],
   "source": [
    "M.max(axis=1)"
   ]
  },
  {
   "cell_type": "markdown",
   "metadata": {},
   "source": [
    "指定轴的方式有可能引起困惑。\n",
    "\n",
    "关键字 ``axis`` 指定数组的某坍缩维 (*dimension of the array that will be collapsed*)，而不是返回的维。\n",
    "\n",
    "如，指定 ``axis=0`` 意指第一个轴将坍缩，对于二维数组，这即是指每列的值将产生。"
   ]
  },
  {
   "cell_type": "markdown",
   "metadata": {},
   "source": [
    "### 12.5.5 其它聚合函数\n",
    "\n",
    "NumPy 还提供其它许多聚合函数，这里不详谈。\n",
    "\n",
    "绝大多数聚合函数是 NaN 安全的.\n",
    "\n",
    "如下表给出了 NumPy 中可用的聚合函数\n",
    "\n",
    "\n",
    "|函数名           |   NaN-安全版本     | 描述                                 |\n",
    "|----------------------|-----------------------|-----------------------------------------------|\n",
    "| ``np.sum``        | ``np.nansum``       | 计算元素之和                       |\n",
    "| ``np.prod``       | ``np.nanprod``      | 计算元素之积                  |\n",
    "| ``np.mean``       | ``np.nanmean``      | 计算元素的均值                      |\n",
    "| ``np.std``        | ``np.nanstd``       | 计算标准差                    |\n",
    "| ``np.var``        | ``np.nanvar``       | 计算方差                              |\n",
    "| ``np.min``        | ``np.nanmin``       | 寻找最小值                           |\n",
    "| ``np.max``        | ``np.nanmax``       | 寻找最大值                            |\n",
    "| ``np.argmin``      | ``np.nanargmin``     | 寻找最小值的下标                   |\n",
    "| ``np.argmax``      | ``np.nanargmax``     | 寻找最大值的下标                  |\n",
    "| ``np.median``      | ``np.nanmedian``     | 计算元素的中值                   |\n",
    "| ``np.percentile``   | ``np.nanpercentile``  | 计算元素的各阶统计量     |\n",
    "| ``np.any``        | N/A              | 测试是否有任一元素为真        |\n",
    "| ``np.all``        | N/A              | 测试是否所有元素为真       |\n",
    "\n",
    "后面将不时讨论这些聚合函数"
   ]
  },
  {
   "cell_type": "code",
   "execution_count": 51,
   "metadata": {},
   "outputs": [
    {
     "name": "stdout",
     "output_type": "stream",
     "text": [
      "[[0.85586084 0.55934633 0.13052983 0.40839736]\n",
      " [0.88924498 0.08979728 0.68146148 0.81370949]\n",
      " [0.65898748 0.36326976 0.03537397 0.16379424]]\n",
      "[[0.85586084 0.55934633 0.13052983 0.40839736]\n",
      " [0.88924498        nan 0.68146148 0.81370949]\n",
      " [0.65898748 0.36326976 0.03537397 0.16379424]]\n"
     ]
    }
   ],
   "source": [
    "M = np.random.random((3, 4))\n",
    "print(M)\n",
    "M[1,1] = 'NaN'  #值缺失\n",
    "print(M)"
   ]
  },
  {
   "cell_type": "code",
   "execution_count": 53,
   "metadata": {},
   "outputs": [
    {
     "data": {
      "text/plain": [
       "0.8892449821830516"
      ]
     },
     "execution_count": 53,
     "metadata": {},
     "output_type": "execute_result"
    }
   ],
   "source": [
    "#M = np.random.random((3, 4))\n",
    "#np.max(M)\n",
    "np.nanmax(M)"
   ]
  },
  {
   "cell_type": "markdown",
   "metadata": {},
   "source": [
    "### 12.5.6 示例：美国总统的平均身高如何?"
   ]
  },
  {
   "cell_type": "markdown",
   "metadata": {},
   "source": [
    "#### 示例：考虑所有美国总统的身高\n",
    "\n",
    "数据见文件 *president_heights.csv*"
   ]
  },
  {
   "cell_type": "code",
   "execution_count": 54,
   "metadata": {},
   "outputs": [
    {
     "name": "stdout",
     "output_type": "stream",
     "text": [
      "order,name,height(cm)\n",
      "1,George Washington,189\n",
      "2,John Adams,170\n",
      "3,Thomas Jefferson,189\n",
      "4,James Madison,163\n",
      "5,James Monroe,183\n",
      "6,John Quincy Adams,171\n",
      "7,Andrew Jackson,185\n",
      "8,Martin Van Buren,168\n",
      "9,William Henry Harrison,173\n",
      "10,John Tyler,183\n",
      "11,James K. Polk,173\n",
      "12,Zachary Taylor,173\n",
      "13,Millard Fillmore,175\n",
      "14,Franklin Pierce,178\n",
      "15,James Buchanan,183\n",
      "16,Abraham Lincoln,193\n",
      "17,Andrew Johnson,178\n",
      "18,Ulysses S. Grant,173\n",
      "19,Rutherford B. Hayes,174\n",
      "20,James A. Garfield,183\n",
      "21,Chester A. Arthur,183\n",
      "23,Benjamin Harrison,168\n",
      "25,William McKinley,170\n",
      "26,Theodore Roosevelt,178\n",
      "27,William Howard Taft,182\n",
      "28,Woodrow Wilson,180\n",
      "29,Warren G. Harding,183\n",
      "30,Calvin Coolidge,178\n",
      "31,Herbert Hoover,182\n",
      "32,Franklin D. Roosevelt,188\n",
      "33,Harry S. Truman,175\n",
      "34,Dwight D. Eisenhower,179\n",
      "35,John F. Kennedy,183\n",
      "36,Lyndon B. Johnson,193\n",
      "37,Richard Nixon,182\n",
      "38,Gerald Ford,183\n",
      "39,Jimmy Carter,177\n",
      "40,Ronald Reagan,185\n",
      "41,George H. W. Bush,188\n",
      "42,Bill Clinton,188\n",
      "43,George W. Bush,182\n",
      "44,Barack Obama,185\n"
     ]
    }
   ],
   "source": [
    "#!head -4 data/president_heights.csv\n",
    "!type .\\data\\president_heights.csv"
   ]
  },
  {
   "cell_type": "markdown",
   "metadata": {},
   "source": [
    "#### ``Pandas``  开放的数据分析模块\n",
    "\n",
    "- 仅介绍如何采用 ``Pandas`` 包来读取文件数据\n",
    "- 更一般的有关 Pandas 内容将不在课内介绍\n",
    "\n",
    "[官方网址: http://pandas.pydata.org/](http://pandas.pydata.org/)"
   ]
  },
  {
   "cell_type": "code",
   "execution_count": 38,
   "metadata": {},
   "outputs": [
    {
     "data": {
      "text/html": [
       "<div>\n",
       "<style scoped>\n",
       "    .dataframe tbody tr th:only-of-type {\n",
       "        vertical-align: middle;\n",
       "    }\n",
       "\n",
       "    .dataframe tbody tr th {\n",
       "        vertical-align: top;\n",
       "    }\n",
       "\n",
       "    .dataframe thead th {\n",
       "        text-align: right;\n",
       "    }\n",
       "</style>\n",
       "<table border=\"1\" class=\"dataframe\">\n",
       "  <thead>\n",
       "    <tr style=\"text-align: right;\">\n",
       "      <th></th>\n",
       "      <th>order</th>\n",
       "      <th>name</th>\n",
       "      <th>height(cm)</th>\n",
       "    </tr>\n",
       "  </thead>\n",
       "  <tbody>\n",
       "    <tr>\n",
       "      <th>0</th>\n",
       "      <td>1</td>\n",
       "      <td>George Washington</td>\n",
       "      <td>189</td>\n",
       "    </tr>\n",
       "    <tr>\n",
       "      <th>1</th>\n",
       "      <td>2</td>\n",
       "      <td>John Adams</td>\n",
       "      <td>170</td>\n",
       "    </tr>\n",
       "    <tr>\n",
       "      <th>2</th>\n",
       "      <td>3</td>\n",
       "      <td>Thomas Jefferson</td>\n",
       "      <td>189</td>\n",
       "    </tr>\n",
       "    <tr>\n",
       "      <th>3</th>\n",
       "      <td>4</td>\n",
       "      <td>James Madison</td>\n",
       "      <td>163</td>\n",
       "    </tr>\n",
       "    <tr>\n",
       "      <th>4</th>\n",
       "      <td>5</td>\n",
       "      <td>James Monroe</td>\n",
       "      <td>183</td>\n",
       "    </tr>\n",
       "  </tbody>\n",
       "</table>\n",
       "</div>"
      ],
      "text/plain": [
       "   order               name  height(cm)\n",
       "0      1  George Washington         189\n",
       "1      2         John Adams         170\n",
       "2      3   Thomas Jefferson         189\n",
       "3      4      James Madison         163\n",
       "4      5       James Monroe         183"
      ]
     },
     "execution_count": 38,
     "metadata": {},
     "output_type": "execute_result"
    }
   ],
   "source": [
    "import pandas as pd\n",
    "data = pd.read_csv('files/chapter12/president_heights.csv')\n",
    "data.head()"
   ]
  },
  {
   "cell_type": "code",
   "execution_count": 39,
   "metadata": {},
   "outputs": [
    {
     "data": {
      "text/html": [
       "<div>\n",
       "<style scoped>\n",
       "    .dataframe tbody tr th:only-of-type {\n",
       "        vertical-align: middle;\n",
       "    }\n",
       "\n",
       "    .dataframe tbody tr th {\n",
       "        vertical-align: top;\n",
       "    }\n",
       "\n",
       "    .dataframe thead th {\n",
       "        text-align: right;\n",
       "    }\n",
       "</style>\n",
       "<table border=\"1\" class=\"dataframe\">\n",
       "  <thead>\n",
       "    <tr style=\"text-align: right;\">\n",
       "      <th></th>\n",
       "      <th>order</th>\n",
       "      <th>name</th>\n",
       "      <th>height(cm)</th>\n",
       "    </tr>\n",
       "  </thead>\n",
       "  <tbody>\n",
       "    <tr>\n",
       "      <th>37</th>\n",
       "      <td>40</td>\n",
       "      <td>Ronald Reagan</td>\n",
       "      <td>185</td>\n",
       "    </tr>\n",
       "    <tr>\n",
       "      <th>38</th>\n",
       "      <td>41</td>\n",
       "      <td>George H. W. Bush</td>\n",
       "      <td>188</td>\n",
       "    </tr>\n",
       "    <tr>\n",
       "      <th>39</th>\n",
       "      <td>42</td>\n",
       "      <td>Bill Clinton</td>\n",
       "      <td>188</td>\n",
       "    </tr>\n",
       "    <tr>\n",
       "      <th>40</th>\n",
       "      <td>43</td>\n",
       "      <td>George W. Bush</td>\n",
       "      <td>182</td>\n",
       "    </tr>\n",
       "    <tr>\n",
       "      <th>41</th>\n",
       "      <td>44</td>\n",
       "      <td>Barack Obama</td>\n",
       "      <td>185</td>\n",
       "    </tr>\n",
       "  </tbody>\n",
       "</table>\n",
       "</div>"
      ],
      "text/plain": [
       "    order               name  height(cm)\n",
       "37     40      Ronald Reagan         185\n",
       "38     41  George H. W. Bush         188\n",
       "39     42       Bill Clinton         188\n",
       "40     43     George W. Bush         182\n",
       "41     44       Barack Obama         185"
      ]
     },
     "execution_count": 39,
     "metadata": {},
     "output_type": "execute_result"
    }
   ],
   "source": [
    "data.tail()"
   ]
  },
  {
   "cell_type": "code",
   "execution_count": 40,
   "metadata": {},
   "outputs": [
    {
     "name": "stdout",
     "output_type": "stream",
     "text": [
      "[189 170 189 163 183 171 185 168 173 183 173 173 175 178 183 193 178 173\n",
      " 174 183 183 168 170 178 182 180 183 178 182 188 175 179 183 193 182 183\n",
      " 177 185 188 188 182 185]\n"
     ]
    }
   ],
   "source": [
    "heights = np.array(data['height(cm)'])\n",
    "print(heights)"
   ]
  },
  {
   "cell_type": "markdown",
   "metadata": {},
   "source": [
    "有了数组数据，可以进行统计分析"
   ]
  },
  {
   "cell_type": "code",
   "execution_count": 41,
   "metadata": {},
   "outputs": [
    {
     "name": "stdout",
     "output_type": "stream",
     "text": [
      "Mean height:        179.73809523809524\n",
      "Standard deviation: 6.931843442745892\n",
      "Minimum height:     163\n",
      "Maximum height:     193\n"
     ]
    }
   ],
   "source": [
    "print(\"Mean height:       \", heights.mean())\n",
    "print(\"Standard deviation:\", heights.std())\n",
    "print(\"Minimum height:    \", heights.min())\n",
    "print(\"Maximum height:    \", heights.max())"
   ]
  },
  {
   "cell_type": "markdown",
   "metadata": {},
   "source": [
    "注意对于每一个例，聚合操作使整体数组得到缩减\n",
    "\n",
    "计算以下分位数"
   ]
  },
  {
   "cell_type": "code",
   "execution_count": 42,
   "metadata": {},
   "outputs": [
    {
     "name": "stdout",
     "output_type": "stream",
     "text": [
      "25th percentile:    168.1\n",
      "Median:             182.0\n",
      "75th percentile:    189.0\n"
     ]
    }
   ],
   "source": [
    "print(\"25th percentile:   \", np.percentile(heights, 5))\n",
    "print(\"Median:            \", np.median(heights))\n",
    "print(\"75th percentile:   \", np.percentile(heights, 95))"
   ]
  },
  {
   "cell_type": "markdown",
   "metadata": {},
   "source": [
    "美国总统高度的中间值是182cm，或恰好差不多6英尺\n",
    "\n",
    "有时，可视化的数据表示更有实用价值，可视化工具选择 Matplotlib (在[第4章](04.00-Matplotlib介绍.ipynb)讨论)，例如。下述代码生成如下图表："
   ]
  },
  {
   "cell_type": "code",
   "execution_count": 43,
   "metadata": {},
   "outputs": [],
   "source": [
    "%matplotlib inline   \n",
    "#可以将matplotlib的图表直接嵌入到Notebook之中\n",
    "\n",
    "import matplotlib.pyplot as plt\n",
    "import seaborn; seaborn.set()  # set plot style"
   ]
  },
  {
   "cell_type": "code",
   "execution_count": 44,
   "metadata": {},
   "outputs": [
    {
     "data": {
      "image/png": "[encoded data removed]",
      "text/plain": [
       "<Figure size 640x480 with 1 Axes>"
      ]
     },
     "metadata": {},
     "output_type": "display_data"
    }
   ],
   "source": [
    "plt.hist(heights)\n",
    "plt.title('Height Distribution of US Presidents')\n",
    "plt.xlabel('height (cm)')\n",
    "plt.ylabel('number');"
   ]
  },
  {
   "cell_type": "markdown",
   "metadata": {},
   "source": [
    "这些聚合函数是数据分析的基础工具，后面章节中将深入讨论。"
   ]
  },
  {
   "cell_type": "markdown",
   "metadata": {},
   "source": [
    "[返回目录](#mulu)"
   ]
  },
  {
   "cell_type": "markdown",
   "metadata": {},
   "source": [
    "## <font size=5><span id=\"12.6\"> 12.6 数组计算之广播(Broadcasting)</span></font>"
   ]
  },
  {
   "cell_type": "markdown",
   "metadata": {},
   "source": [
    "NumPy 的通用函数可用于向量化操作，因而去掉了慢速的 Python 循环\n",
    "\n",
    "另一种向量化操作方法是 NumPy 的*广播*功能\n",
    "\n",
    "*广播*是一系列将二元通用函数（例如，相加、相减、相乘等）应用于不同尺寸数组的规则。"
   ]
  },
  {
   "cell_type": "markdown",
   "metadata": {},
   "source": [
    "### 12.6.1 广播介绍\n",
    "\n",
    "- 回顾：对于同样尺寸的数组，二元操作是对数组元素逐对进行"
   ]
  },
  {
   "cell_type": "code",
   "execution_count": 63,
   "metadata": {},
   "outputs": [],
   "source": [
    "import numpy as np"
   ]
  },
  {
   "cell_type": "code",
   "execution_count": 64,
   "metadata": {},
   "outputs": [
    {
     "data": {
      "text/plain": [
       "array([5, 6, 7])"
      ]
     },
     "execution_count": 64,
     "metadata": {},
     "output_type": "execute_result"
    }
   ],
   "source": [
    "a = np.array([0, 1, 2])\n",
    "b = np.array([5, 5, 5])\n",
    "a + b"
   ]
  },
  {
   "cell_type": "markdown",
   "metadata": {},
   "source": [
    "#### 广播的特点\n",
    "\n",
    "- 广播 允许二元操作对不同尺寸的数组进行\n",
    "- 例如 可让一个数组加上一个标题"
   ]
  },
  {
   "cell_type": "code",
   "execution_count": 65,
   "metadata": {},
   "outputs": [
    {
     "data": {
      "text/plain": [
       "array([5, 6, 7])"
      ]
     },
     "execution_count": 65,
     "metadata": {},
     "output_type": "execute_result"
    }
   ],
   "source": [
    "a + 5"
   ]
  },
  {
   "cell_type": "markdown",
   "metadata": {},
   "source": [
    "#### 广播的本质\n",
    "\n",
    "- 上述操作本质是：将值``5``<font color=\"red\">伸展或复制</font>成数组``[5, 5, 5]``，然后与原数组 `a` 相加得到最后结果\n",
    "- NumPy 广播的好处在于，复制值的操作仅<font color=\"red\">停留在想象中</font>，实际上并没有做\n",
    "- 可以<font color=\"red\">扩展到更高维情况</font>，例如 一维数组 加 二维数组"
   ]
  },
  {
   "cell_type": "code",
   "execution_count": 66,
   "metadata": {},
   "outputs": [
    {
     "data": {
      "text/plain": [
       "array([[1., 1., 1.],\n",
       "       [1., 1., 1.],\n",
       "       [1., 1., 1.]])"
      ]
     },
     "execution_count": 66,
     "metadata": {},
     "output_type": "execute_result"
    }
   ],
   "source": [
    "M = np.ones((3, 3))\n",
    "M"
   ]
  },
  {
   "cell_type": "code",
   "execution_count": 67,
   "metadata": {},
   "outputs": [
    {
     "data": {
      "text/plain": [
       "array([0, 1, 2])"
      ]
     },
     "execution_count": 67,
     "metadata": {},
     "output_type": "execute_result"
    }
   ],
   "source": [
    "a"
   ]
  },
  {
   "cell_type": "code",
   "execution_count": 68,
   "metadata": {},
   "outputs": [
    {
     "data": {
      "text/plain": [
       "array([[1., 2., 3.],\n",
       "       [1., 2., 3.],\n",
       "       [1., 2., 3.]])"
      ]
     },
     "execution_count": 68,
     "metadata": {},
     "output_type": "execute_result"
    }
   ],
   "source": [
    "M + a"
   ]
  },
  {
   "cell_type": "markdown",
   "metadata": {},
   "source": [
    "这里，先伸张一维数组 ``a``，向第二维广播，以匹配``M``的维度。\n",
    "\n",
    "考虑如下更复杂的例子"
   ]
  },
  {
   "cell_type": "code",
   "execution_count": 69,
   "metadata": {},
   "outputs": [
    {
     "name": "stdout",
     "output_type": "stream",
     "text": [
      "[0 1 2]\n",
      "[[0]\n",
      " [1]\n",
      " [2]]\n"
     ]
    }
   ],
   "source": [
    "a = np.arange(3)\n",
    "b = np.arange(3)[:, np.newaxis]\n",
    "\n",
    "print(a)\n",
    "print(b)"
   ]
  },
  {
   "cell_type": "code",
   "execution_count": 70,
   "metadata": {},
   "outputs": [
    {
     "data": {
      "text/plain": [
       "array([[0, 1, 2],\n",
       "       [1, 2, 3],\n",
       "       [2, 3, 4]])"
      ]
     },
     "execution_count": 70,
     "metadata": {},
     "output_type": "execute_result"
    }
   ],
   "source": [
    "a + b   #想一想，结果的shape"
   ]
  },
  {
   "cell_type": "markdown",
   "metadata": {},
   "source": [
    "#### 示意图\n",
    "\n",
    "与前述伸张和广播以匹配维度的情况相同，这里\n",
    "\n",
    "- 向量``a``和``b``都被伸张以匹配一个共同的维度\n",
    "- 结果都伸张成二维数组。\n",
    "\n",
    "本例的示意图如下"
   ]
  },
  {
   "cell_type": "markdown",
   "metadata": {},
   "source": [
    "![Broadcasting Visual](images/chapter12/02.05-broadcasting.png)"
   ]
  },
  {
   "cell_type": "markdown",
   "metadata": {},
   "source": [
    "浅色盒子代表广播值\n",
    "\n",
    "再提醒一次：\n",
    "- 伸张并不在操作过程中发生内存申请"
   ]
  },
  {
   "cell_type": "markdown",
   "metadata": {},
   "source": [
    "### 10.6.2 广播规则\n",
    "\n",
    "- 规则1 —— 如果2个数组维数不同，维数少者进行填充<font color=\"red\">（左边引导）</font>\n",
    "- 规则2 —— 如果2个数组不是按所有的维匹配，具有维度(shape)为1的数组将延展以匹配另一个维度\n",
    "- 规则3 —— 如果任一维的尺度都不符，也不等于1，错误将发生\n",
    "\n",
    "考虑以下例子"
   ]
  },
  {
   "cell_type": "markdown",
   "metadata": {},
   "source": [
    "#### 广播示例 1\n",
    "\n",
    "二维数组与一维数组相加"
   ]
  },
  {
   "cell_type": "code",
   "execution_count": 71,
   "metadata": {},
   "outputs": [
    {
     "name": "stdout",
     "output_type": "stream",
     "text": [
      "M= [[1. 1. 1.]\n",
      " [1. 1. 1.]]\n",
      "a= [0 1 2]\n"
     ]
    }
   ],
   "source": [
    "M = np.ones((2, 3))\n",
    "a = np.arange(3)\n",
    "print('M=',M)\n",
    "print('a=',a)"
   ]
  },
  {
   "cell_type": "markdown",
   "metadata": {},
   "source": [
    "两个数组的维度分别为：\n",
    "\n",
    "- ``M.shape = (2, 3)``\n",
    "- ``a.shape = (3,)``\n",
    "\n",
    "由规则 1，数组``a``的维数较小，因此将被伸张填充成\n",
    "\n",
    "- ``M.shape -> (2, 3)``\n",
    "- ``a.shape -> (1, 3)``\n",
    "\n",
    "由规则 2，两数组的第一维不匹配，因此将维度向这一维填充\n",
    "\n",
    "- ``M.shape -> (2, 3)``\n",
    "- ``a.shape -> (2, 3)``\n",
    "\n",
    "最终，两数组匹配，维度为``(2, 3)``"
   ]
  },
  {
   "cell_type": "code",
   "execution_count": 72,
   "metadata": {},
   "outputs": [
    {
     "data": {
      "text/plain": [
       "array([[1., 2., 3.],\n",
       "       [1., 2., 3.]])"
      ]
     },
     "execution_count": 72,
     "metadata": {},
     "output_type": "execute_result"
    }
   ],
   "source": [
    "M + a"
   ]
  },
  {
   "cell_type": "markdown",
   "metadata": {},
   "source": [
    "#### 广播示例2\n",
    "\n",
    "两个数组的广播"
   ]
  },
  {
   "cell_type": "code",
   "execution_count": 73,
   "metadata": {},
   "outputs": [
    {
     "name": "stdout",
     "output_type": "stream",
     "text": [
      "a= [[0]\n",
      " [1]\n",
      " [2]]\n",
      "b= [0 1 2]\n"
     ]
    }
   ],
   "source": [
    "a = np.arange(3).reshape((3, 1))\n",
    "b = np.arange(3)\n",
    "print('a=',a)\n",
    "print('b=',b)"
   ]
  },
  {
   "cell_type": "markdown",
   "metadata": {},
   "source": [
    "写下它们的维度\n",
    "\n",
    "- ``a.shape = (3, 1)``\n",
    "- ``b.shape = (3,)``\n",
    "\n",
    "规则 1 表明要填充数组``b``\n",
    "\n",
    "- ``a.shape -> (3, 1)``\n",
    "- ``b.shape -> (1, 3)``\n",
    "\n",
    "同时，规则 2 表明，每一数组都要向另一数组看齐\n",
    "\n",
    "- ``a.shape -> (3, 3)``\n",
    "- ``b.shape -> (3, 3)``"
   ]
  },
  {
   "cell_type": "code",
   "execution_count": 74,
   "metadata": {},
   "outputs": [
    {
     "data": {
      "text/plain": [
       "array([[0, 1, 2],\n",
       "       [1, 2, 3],\n",
       "       [2, 3, 4]])"
      ]
     },
     "execution_count": 74,
     "metadata": {},
     "output_type": "execute_result"
    }
   ],
   "source": [
    "a + b"
   ]
  },
  {
   "cell_type": "code",
   "execution_count": 75,
   "metadata": {},
   "outputs": [
    {
     "name": "stdout",
     "output_type": "stream",
     "text": [
      "a= [[0]\n",
      " [1]]\n",
      "b= [0 1 2]\n"
     ]
    },
    {
     "data": {
      "text/plain": [
       "array([[0, 1, 2],\n",
       "       [1, 2, 3]])"
      ]
     },
     "execution_count": 75,
     "metadata": {},
     "output_type": "execute_result"
    }
   ],
   "source": [
    "a = np.arange(2).reshape((2, 1))\n",
    "b = np.arange(3)\n",
    "print('a=',a)\n",
    "print('b=',b)\n",
    "a + b"
   ]
  },
  {
   "cell_type": "markdown",
   "metadata": {},
   "source": [
    "#### 广播示例3\n",
    "\n",
    "考虑两数组不兼容的情况"
   ]
  },
  {
   "cell_type": "code",
   "execution_count": 76,
   "metadata": {},
   "outputs": [
    {
     "name": "stdout",
     "output_type": "stream",
     "text": [
      "M= [[1. 1.]\n",
      " [1. 1.]\n",
      " [1. 1.]]\n",
      "a= [0 1 2]\n"
     ]
    }
   ],
   "source": [
    "M = np.ones((3, 2))\n",
    "a = np.arange(3)\n",
    "print('M=',M)\n",
    "print('a=',a)"
   ]
  },
  {
   "cell_type": "code",
   "execution_count": 77,
   "metadata": {},
   "outputs": [
    {
     "data": {
      "text/plain": [
       "((3, 2), (3,))"
      ]
     },
     "execution_count": 77,
     "metadata": {},
     "output_type": "execute_result"
    }
   ],
   "source": [
    "M.shape, a.shape"
   ]
  },
  {
   "cell_type": "markdown",
   "metadata": {},
   "source": [
    "本例与前例又有不同，矩阵``M``被转置了\n",
    "\n",
    "会影响结果吗？会影响计算吗？\n",
    "\n",
    "- ``M.shape = (3, 2)``\n",
    "- ``a.shape = (3,)``\n",
    "\n",
    "再注意，规则 1告知，要把数组 ``a``配置好\n",
    "\n",
    "- ``M.shape -> (3, 2)``\n",
    "- ``a.shape -> (1, 3)``\n",
    "\n",
    "规则 2, ``a``的第一维被用来检验匹配矩阵``M``:\n",
    "\n",
    "- ``M.shape -> (3, 2)``\n",
    "- ``a.shape -> (3, 3)``\n",
    "\n",
    "现在，规则 3\n",
    "\n",
    "- 最后的形状不匹配，因此该两数组不相容"
   ]
  },
  {
   "cell_type": "code",
   "execution_count": 78,
   "metadata": {},
   "outputs": [
    {
     "ename": "ValueError",
     "evalue": "operands could not be broadcast together with shapes (3,2) (3,) ",
     "output_type": "error",
     "traceback": [
      "\u001b[1;31m---------------------------------------------------------------------------\u001b[0m",
      "\u001b[1;31mValueError\u001b[0m                                Traceback (most recent call last)",
      "\u001b[1;32m<ipython-input-78-8cac1d547906>\u001b[0m in \u001b[0;36m<module>\u001b[1;34m\u001b[0m\n\u001b[1;32m----> 1\u001b[1;33m \u001b[0mM\u001b[0m \u001b[1;33m+\u001b[0m \u001b[0ma\u001b[0m\u001b[1;33m\u001b[0m\u001b[1;33m\u001b[0m\u001b[0m\n\u001b[0m",
      "\u001b[1;31mValueError\u001b[0m: operands could not be broadcast together with shapes (3,2) (3,) "
     ]
    }
   ],
   "source": [
    "M + a"
   ]
  },
  {
   "cell_type": "markdown",
   "metadata": {},
   "source": [
    "#### 潜在的混淆可能\n",
    "\n",
    "- 是否可伸张 ``a`` 的右侧维度，而不是左侧维度？\n",
    "- 但这不是广播的操作方式\n",
    "- 这种灵活性或许适用于某些特例，但可能会产生歧义\n",
    "- 如果本义是要右侧填充，应该做的是<font color=\"red\">显式重构数组</font>（使用关键字``np.newaxis``，见[NumPy数组基础]）"
   ]
  },
  {
   "cell_type": "code",
   "execution_count": 80,
   "metadata": {},
   "outputs": [
    {
     "data": {
      "text/plain": [
       "(3,)"
      ]
     },
     "execution_count": 80,
     "metadata": {},
     "output_type": "execute_result"
    }
   ],
   "source": [
    "a.shape"
   ]
  },
  {
   "cell_type": "code",
   "execution_count": 81,
   "metadata": {},
   "outputs": [
    {
     "data": {
      "text/plain": [
       "(3, 1)"
      ]
     },
     "execution_count": 81,
     "metadata": {},
     "output_type": "execute_result"
    }
   ],
   "source": [
    "a[:, np.newaxis].shape"
   ]
  },
  {
   "cell_type": "code",
   "execution_count": 82,
   "metadata": {},
   "outputs": [
    {
     "data": {
      "text/plain": [
       "array([[1., 1.],\n",
       "       [2., 2.],\n",
       "       [3., 3.]])"
      ]
     },
     "execution_count": 82,
     "metadata": {},
     "output_type": "execute_result"
    }
   ],
   "source": [
    "M + a[:, np.newaxis]"
   ]
  },
  {
   "cell_type": "markdown",
   "metadata": {},
   "source": [
    "#### 广播的推广\n",
    "\n",
    "- 运算符 ``+``的广播，可以推广到任一二元*通用函数*\n",
    "\n",
    "例如，函数``logaddexp(a, b)``用于计算``log(exp(a) + exp(b))``，与初级方法相比，它具有更高的精度"
   ]
  },
  {
   "cell_type": "code",
   "execution_count": null,
   "metadata": {},
   "outputs": [],
   "source": [
    "np.logaddexp?"
   ]
  },
  {
   "cell_type": "code",
   "execution_count": 83,
   "metadata": {},
   "outputs": [
    {
     "data": {
      "text/plain": [
       "array([[1.31326169, 1.31326169],\n",
       "       [1.69314718, 1.69314718],\n",
       "       [2.31326169, 2.31326169]])"
      ]
     },
     "execution_count": 83,
     "metadata": {},
     "output_type": "execute_result"
    }
   ],
   "source": [
    "np.logaddexp(M, a[:, np.newaxis])"
   ]
  },
  {
   "cell_type": "markdown",
   "metadata": {},
   "source": [
    "关于通用函数更多的内容，参看[NumPy 数组计算 —— 通用函数]"
   ]
  },
  {
   "cell_type": "markdown",
   "metadata": {},
   "source": [
    "### 12.6.3 广播实战"
   ]
  },
  {
   "cell_type": "markdown",
   "metadata": {},
   "source": [
    "#### 快速化手段\n",
    "\n",
    "- 使用通用函数 —— 可避免慢速循环\n",
    "- 广播更进一步扩展这一能力"
   ]
  },
  {
   "cell_type": "markdown",
   "metadata": {},
   "source": [
    "#### 考虑若干有用的示例\n",
    "\n",
    "- 中心化数组"
   ]
  },
  {
   "cell_type": "markdown",
   "metadata": {},
   "source": [
    "假设有10组观察值，每组含三个数，按标准数组表示方式，将它们存放在一$10 \\times 3$ 的数组中"
   ]
  },
  {
   "cell_type": "code",
   "execution_count": 84,
   "metadata": {},
   "outputs": [
    {
     "data": {
      "text/plain": [
       "array([[0.24689945, 0.56229506, 0.19125871],\n",
       "       [0.16576126, 0.42006636, 0.26874739],\n",
       "       [0.09581014, 0.17908371, 0.61747116],\n",
       "       [0.69199521, 0.37772282, 0.52323951],\n",
       "       [0.20846229, 0.35721633, 0.14919812],\n",
       "       [0.5538678 , 0.79373934, 0.4037401 ],\n",
       "       [0.81580297, 0.99691528, 0.38566052],\n",
       "       [0.57260382, 0.18774545, 0.21810455],\n",
       "       [0.62840989, 0.08869094, 0.28269033],\n",
       "       [0.30435137, 0.80970338, 0.62523502]])"
      ]
     },
     "execution_count": 84,
     "metadata": {},
     "output_type": "execute_result"
    }
   ],
   "source": [
    "X = np.random.random((10, 3))\n",
    "X"
   ]
  },
  {
   "cell_type": "markdown",
   "metadata": {},
   "source": [
    "计算均值通过 ``mean`` 聚合函数（沿第一维）进行"
   ]
  },
  {
   "cell_type": "code",
   "execution_count": 85,
   "metadata": {},
   "outputs": [
    {
     "data": {
      "text/plain": [
       "array([0.42839642, 0.47731787, 0.36653454])"
      ]
     },
     "execution_count": 85,
     "metadata": {},
     "output_type": "execute_result"
    }
   ],
   "source": [
    "Xmean = X.mean(0)\n",
    "Xmean"
   ]
  },
  {
   "cell_type": "markdown",
   "metadata": {},
   "source": [
    "现在通过减去均值得到中心化的数组 (此即广播操作):"
   ]
  },
  {
   "cell_type": "code",
   "execution_count": 86,
   "metadata": {},
   "outputs": [
    {
     "data": {
      "text/plain": [
       "array([[-0.18149697,  0.08497719, -0.17527583],\n",
       "       [-0.26263516, -0.0572515 , -0.09778715],\n",
       "       [-0.33258628, -0.29823415,  0.25093662],\n",
       "       [ 0.26359879, -0.09959505,  0.15670496],\n",
       "       [-0.21993413, -0.12010153, -0.21733642],\n",
       "       [ 0.12547138,  0.31642147,  0.03720556],\n",
       "       [ 0.38740655,  0.51959741,  0.01912598],\n",
       "       [ 0.1442074 , -0.28957242, -0.14842999],\n",
       "       [ 0.20001347, -0.38862693, -0.08384421],\n",
       "       [-0.12404505,  0.33238551,  0.25870048]])"
      ]
     },
     "execution_count": 86,
     "metadata": {},
     "output_type": "execute_result"
    }
   ],
   "source": [
    "X_centered = X - Xmean\n",
    "X_centered"
   ]
  },
  {
   "cell_type": "markdown",
   "metadata": {},
   "source": [
    "检查中心化的数组，其均值接近零"
   ]
  },
  {
   "cell_type": "code",
   "execution_count": 87,
   "metadata": {},
   "outputs": [
    {
     "data": {
      "text/plain": [
       "array([ 0.00000000e+00, -7.77156117e-17, -2.22044605e-17])"
      ]
     },
     "execution_count": 87,
     "metadata": {},
     "output_type": "execute_result"
    }
   ],
   "source": [
    "X_centered.mean(0)"
   ]
  },
  {
   "cell_type": "markdown",
   "metadata": {},
   "source": [
    "### 12.6.4 二维函数绘图"
   ]
  },
  {
   "cell_type": "markdown",
   "metadata": {},
   "source": [
    "广播特别适合给二维函数绘图。\n",
    "\n",
    "设有函数 $z = f(x, y)$，利用广播来计算绘图网格"
   ]
  },
  {
   "cell_type": "code",
   "execution_count": 88,
   "metadata": {},
   "outputs": [],
   "source": [
    "# x 和 y 数组含从 0 到 5 的 50 个间隔点\n",
    "npoint = 100\n",
    "x = np.linspace(0, 5, npoint)\n",
    "y = np.linspace(0, 5, npoint)[:, np.newaxis]\n",
    "\n",
    "z = np.sin(x) ** 10 + np.cos(10 + y * x) * np.cos(x)"
   ]
  },
  {
   "cell_type": "code",
   "execution_count": 89,
   "metadata": {},
   "outputs": [
    {
     "data": {
      "image/png": "[encoded data removed]",
      "text/plain": [
       "<Figure size 432x288 with 2 Axes>"
      ]
     },
     "metadata": {
      "needs_background": "light"
     },
     "output_type": "display_data"
    }
   ],
   "source": [
    "%matplotlib inline\n",
    "import matplotlib.pyplot as plt\n",
    "plt.imshow(z, origin='lower', extent=[0, 5, 0, 5],\n",
    "           cmap='viridis')\n",
    "plt.colorbar();"
   ]
  },
  {
   "cell_type": "code",
   "execution_count": null,
   "metadata": {},
   "outputs": [],
   "source": [
    "## 试着画一下刚刚的象棋棋盘"
   ]
  },
  {
   "cell_type": "code",
   "execution_count": 90,
   "metadata": {},
   "outputs": [
    {
     "data": {
      "image/png": "[encoded data removed]",
      "text/plain": [
       "<Figure size 432x288 with 1 Axes>"
      ]
     },
     "metadata": {
      "needs_background": "light"
     },
     "output_type": "display_data"
    }
   ],
   "source": [
    "x = np.linspace(0,7,8,dtype=int)\n",
    "y = np.linspace(0,7,8,dtype=int)[:, np.newaxis]\n",
    "z = (x+y)%2\n",
    "plt.imshow(z, origin='lower', extent=[0, 7, 0, 7],\n",
    "           cmap='gray')  # viridis   gray gray_r seismic\n",
    "#plt.colorbar();\n",
    "plt.axis('off')  \n",
    "plt.box(0)"
   ]
  },
  {
   "cell_type": "code",
   "execution_count": null,
   "metadata": {},
   "outputs": [],
   "source": [
    "plt.imshow?"
   ]
  },
  {
   "cell_type": "markdown",
   "metadata": {},
   "source": [
    "[返回目录](#mulu)"
   ]
  },
  {
   "cell_type": "markdown",
   "metadata": {},
   "source": [
    "## <font size=5><span id=\"12.7\"> 12.7 布尔数组和掩码</span></font>\n",
    "本节讨论布尔掩码的使用"
   ]
  },
  {
   "cell_type": "markdown",
   "metadata": {},
   "source": [
    "### 12.7.1 示例：雨天计数\n",
    "\n",
    "现有Seattle市，2014年，每天降雨量的系列数据\n",
    "\n",
    "使用Pandas导入数据，详见[Pandas 介绍](http://pandas.pydata.org/)。"
   ]
  },
  {
   "cell_type": "code",
   "execution_count": 64,
   "metadata": {},
   "outputs": [],
   "source": [
    "import numpy as np\n",
    "import pandas as pd"
   ]
  },
  {
   "cell_type": "code",
   "execution_count": 66,
   "metadata": {},
   "outputs": [
    {
     "data": {
      "text/html": [
       "<div>\n",
       "<style scoped>\n",
       "    .dataframe tbody tr th:only-of-type {\n",
       "        vertical-align: middle;\n",
       "    }\n",
       "\n",
       "    .dataframe tbody tr th {\n",
       "        vertical-align: top;\n",
       "    }\n",
       "\n",
       "    .dataframe thead th {\n",
       "        text-align: right;\n",
       "    }\n",
       "</style>\n",
       "<table border=\"1\" class=\"dataframe\">\n",
       "  <thead>\n",
       "    <tr style=\"text-align: right;\">\n",
       "      <th></th>\n",
       "      <th>DATE</th>\n",
       "      <th>PRCP</th>\n",
       "      <th>TMAX</th>\n",
       "      <th>TMIN</th>\n",
       "      <th>RAIN</th>\n",
       "    </tr>\n",
       "  </thead>\n",
       "  <tbody>\n",
       "    <tr>\n",
       "      <th>0</th>\n",
       "      <td>2014/1/1</td>\n",
       "      <td>0.00</td>\n",
       "      <td>45</td>\n",
       "      <td>38</td>\n",
       "      <td>False</td>\n",
       "    </tr>\n",
       "    <tr>\n",
       "      <th>1</th>\n",
       "      <td>2014/1/2</td>\n",
       "      <td>0.16</td>\n",
       "      <td>51</td>\n",
       "      <td>43</td>\n",
       "      <td>True</td>\n",
       "    </tr>\n",
       "    <tr>\n",
       "      <th>2</th>\n",
       "      <td>2014/1/3</td>\n",
       "      <td>0.06</td>\n",
       "      <td>48</td>\n",
       "      <td>37</td>\n",
       "      <td>True</td>\n",
       "    </tr>\n",
       "    <tr>\n",
       "      <th>3</th>\n",
       "      <td>2014/1/4</td>\n",
       "      <td>0.00</td>\n",
       "      <td>46</td>\n",
       "      <td>33</td>\n",
       "      <td>False</td>\n",
       "    </tr>\n",
       "    <tr>\n",
       "      <th>4</th>\n",
       "      <td>2014/1/5</td>\n",
       "      <td>0.00</td>\n",
       "      <td>47</td>\n",
       "      <td>31</td>\n",
       "      <td>False</td>\n",
       "    </tr>\n",
       "    <tr>\n",
       "      <th>5</th>\n",
       "      <td>2014/1/6</td>\n",
       "      <td>0.01</td>\n",
       "      <td>46</td>\n",
       "      <td>31</td>\n",
       "      <td>True</td>\n",
       "    </tr>\n",
       "    <tr>\n",
       "      <th>6</th>\n",
       "      <td>2014/1/7</td>\n",
       "      <td>0.48</td>\n",
       "      <td>47</td>\n",
       "      <td>41</td>\n",
       "      <td>True</td>\n",
       "    </tr>\n",
       "    <tr>\n",
       "      <th>7</th>\n",
       "      <td>2014/1/8</td>\n",
       "      <td>0.38</td>\n",
       "      <td>50</td>\n",
       "      <td>45</td>\n",
       "      <td>True</td>\n",
       "    </tr>\n",
       "    <tr>\n",
       "      <th>8</th>\n",
       "      <td>2014/1/9</td>\n",
       "      <td>0.23</td>\n",
       "      <td>49</td>\n",
       "      <td>42</td>\n",
       "      <td>True</td>\n",
       "    </tr>\n",
       "    <tr>\n",
       "      <th>9</th>\n",
       "      <td>2014/1/10</td>\n",
       "      <td>0.17</td>\n",
       "      <td>55</td>\n",
       "      <td>47</td>\n",
       "      <td>True</td>\n",
       "    </tr>\n",
       "  </tbody>\n",
       "</table>\n",
       "</div>"
      ],
      "text/plain": [
       "        DATE  PRCP  TMAX  TMIN   RAIN\n",
       "0   2014/1/1  0.00    45    38  False\n",
       "1   2014/1/2  0.16    51    43   True\n",
       "2   2014/1/3  0.06    48    37   True\n",
       "3   2014/1/4  0.00    46    33  False\n",
       "4   2014/1/5  0.00    47    31  False\n",
       "5   2014/1/6  0.01    46    31   True\n",
       "6   2014/1/7  0.48    47    41   True\n",
       "7   2014/1/8  0.38    50    45   True\n",
       "8   2014/1/9  0.23    49    42   True\n",
       "9  2014/1/10  0.17    55    47   True"
      ]
     },
     "execution_count": 66,
     "metadata": {},
     "output_type": "execute_result"
    }
   ],
   "source": [
    "# use pandas to extract rainfall inches as a NumPy array\n",
    "df = pd.read_csv('files/chapter12/seattleWeather_2014.csv')\n",
    "df.head(10)"
   ]
  },
  {
   "cell_type": "code",
   "execution_count": 67,
   "metadata": {},
   "outputs": [],
   "source": [
    "rain_fall = df['PRCP']"
   ]
  },
  {
   "cell_type": "markdown",
   "metadata": {},
   "source": [
    "#### 观察数据及其柱图\n",
    "\n",
    "- 数组含有365组值，从2014年元旦到岁末的日降雨数据\n",
    "- 观察其柱状分布图，该图的绘制由Matplotlib完成"
   ]
  },
  {
   "cell_type": "code",
   "execution_count": 61,
   "metadata": {},
   "outputs": [],
   "source": [
    "%matplotlib inline\n",
    "import matplotlib.pyplot as plt\n",
    "import seaborn; seaborn.set()  # set plot styles"
   ]
  },
  {
   "cell_type": "code",
   "execution_count": 68,
   "metadata": {},
   "outputs": [
    {
     "data": {
      "image/png": "[encoded data removed]",
      "text/plain": [
       "<Figure size 640x480 with 1 Axes>"
      ]
     },
     "metadata": {},
     "output_type": "display_data"
    }
   ],
   "source": [
    "plt.hist(rain_fall, 40);"
   ]
  },
  {
   "cell_type": "markdown",
   "metadata": {},
   "source": [
    "柱状图给出了数据的分布特征，尽管该城以多雨著称，但图中显示2014年绝大多数天的降雨量都接近零。\n",
    "\n",
    "仅看出这样还不够，要考虑许多问题，如\n",
    "- 当年有多少雨天？\n",
    "- 这些天的平均降雨量是多少？\n",
    "- 有多少天的降雨量超过半英寸？"
   ]
  },
  {
   "cell_type": "markdown",
   "metadata": {},
   "source": [
    "#### 挖掘数据\n",
    "\n",
    "- 立即想到的办法：循环数据，采用计数器统计\n",
    "- 印象：效率太低（写代码，计算）"
   ]
  },
  {
   "cell_type": "markdown",
   "metadata": {},
   "source": [
    "#### 提高效率\n",
    "\n",
    "- 采用NumPy的通用函数\n",
    "- 另一类通用函数进行数组元素的*比较*"
   ]
  },
  {
   "cell_type": "markdown",
   "metadata": {},
   "source": [
    "#### 先学习 NumPy 的掩码"
   ]
  },
  {
   "cell_type": "markdown",
   "metadata": {},
   "source": [
    "### 12.7.2 通用函数中的比较运算符\n",
    "\n",
    "前面介绍了通用函数，重点关注的是\n",
    "\n",
    "- 算术运算，如加、减、乘、除、等\n",
    "\n",
    "NumPy 还实现了<font color=\"red\">比较运算符</font>，如\n",
    "\n",
    "- ``<`` (小于) \n",
    "- ``>`` (大于)\n",
    "- 其它\n",
    "\n",
    "这些都是<font color=\"red\">元素级通用函数</font>，它们产生的结果是<font color=\"red\">布尔类型数组</font>。"
   ]
  },
  {
   "cell_type": "code",
   "execution_count": 96,
   "metadata": {},
   "outputs": [],
   "source": [
    "x = np.array([1, 2, 3, 4, 5])"
   ]
  },
  {
   "cell_type": "code",
   "execution_count": 97,
   "metadata": {},
   "outputs": [
    {
     "data": {
      "text/plain": [
       "array([ True,  True, False, False, False])"
      ]
     },
     "execution_count": 97,
     "metadata": {},
     "output_type": "execute_result"
    }
   ],
   "source": [
    "x < 3  # 小于"
   ]
  },
  {
   "cell_type": "code",
   "execution_count": 98,
   "metadata": {},
   "outputs": [
    {
     "data": {
      "text/plain": [
       "array([False, False, False,  True,  True])"
      ]
     },
     "execution_count": 98,
     "metadata": {},
     "output_type": "execute_result"
    }
   ],
   "source": [
    "x > 3  # 大于"
   ]
  },
  {
   "cell_type": "code",
   "execution_count": 99,
   "metadata": {},
   "outputs": [
    {
     "data": {
      "text/plain": [
       "array([ True,  True,  True, False, False])"
      ]
     },
     "execution_count": 99,
     "metadata": {},
     "output_type": "execute_result"
    }
   ],
   "source": [
    "x <= 3  # 小于等于"
   ]
  },
  {
   "cell_type": "code",
   "execution_count": 100,
   "metadata": {},
   "outputs": [
    {
     "data": {
      "text/plain": [
       "array([ True,  True, False,  True,  True])"
      ]
     },
     "execution_count": 100,
     "metadata": {},
     "output_type": "execute_result"
    }
   ],
   "source": [
    "x != 3  # 不等于"
   ]
  },
  {
   "cell_type": "code",
   "execution_count": 101,
   "metadata": {},
   "outputs": [
    {
     "data": {
      "text/plain": [
       "array([False, False,  True, False, False])"
      ]
     },
     "execution_count": 101,
     "metadata": {},
     "output_type": "execute_result"
    }
   ],
   "source": [
    "x == 3  # 等于"
   ]
  },
  {
   "cell_type": "markdown",
   "metadata": {},
   "source": [
    "逐元素比较"
   ]
  },
  {
   "cell_type": "code",
   "execution_count": 102,
   "metadata": {},
   "outputs": [
    {
     "data": {
      "text/plain": [
       "array([False,  True, False, False, False])"
      ]
     },
     "execution_count": 102,
     "metadata": {},
     "output_type": "execute_result"
    }
   ],
   "source": [
    "(2 * x) == (x ** 2)"
   ]
  },
  {
   "cell_type": "markdown",
   "metadata": {},
   "source": [
    "####  比较运算符对应的通用函数\n",
    "\n",
    "- 与加减乘除相似，在NumPy中，比较运算符也实现为通用函数\n",
    "\n",
    "例如， 计算 ``x < 3``, 内部将调用函数 ``np.less(x, 3)``"
   ]
  },
  {
   "cell_type": "markdown",
   "metadata": {},
   "source": [
    "#### 比较运算符及其通用函数列表\n",
    "\n",
    "| 运算符\t    | 通用函数    | \n",
    "|---------------|---------------------| \n",
    "|``==``         |``np.equal``         |\n",
    "|``!=``         |``np.not_equal``     |  \n",
    "|``<``          |``np.less``          |  \n",
    "|``<=``         |``np.less_equal``    |  \n",
    "|``>``          |``np.greater``       |\n",
    "|``>=``         |``np.greater_equal`` |"
   ]
  },
  {
   "cell_type": "markdown",
   "metadata": {},
   "source": [
    "#### 适用于任意的数组形状\n",
    "\n",
    "- 正如算术类通用函数，这些运算符也适用于任意尺寸和形状的数组\n",
    "\n",
    "考虑一二维数组算例"
   ]
  },
  {
   "cell_type": "code",
   "execution_count": 103,
   "metadata": {},
   "outputs": [
    {
     "data": {
      "text/plain": [
       "array([[5, 0, 3, 3],\n",
       "       [7, 9, 3, 5],\n",
       "       [2, 4, 7, 6]])"
      ]
     },
     "execution_count": 103,
     "metadata": {},
     "output_type": "execute_result"
    }
   ],
   "source": [
    "rng = np.random.RandomState(0)    # 给定随机种子，产生一个随机数生成器\n",
    "x = rng.randint(10, size=(3, 4))\n",
    "x"
   ]
  },
  {
   "cell_type": "code",
   "execution_count": 104,
   "metadata": {},
   "outputs": [
    {
     "data": {
      "text/plain": [
       "array([[ True,  True,  True,  True],\n",
       "       [False, False,  True,  True],\n",
       "       [ True,  True, False, False]])"
      ]
     },
     "execution_count": 104,
     "metadata": {},
     "output_type": "execute_result"
    }
   ],
   "source": [
    "x < 6"
   ]
  },
  {
   "cell_type": "markdown",
   "metadata": {},
   "source": [
    "### 12.7.3 布尔数组操作\n",
    "\n",
    "给定一布尔数组，可进行多种操作"
   ]
  },
  {
   "cell_type": "code",
   "execution_count": 105,
   "metadata": {},
   "outputs": [
    {
     "name": "stdout",
     "output_type": "stream",
     "text": [
      "[[5 0 3 3]\n",
      " [7 9 3 5]\n",
      " [2 4 7 6]]\n"
     ]
    }
   ],
   "source": [
    "print(x)"
   ]
  },
  {
   "cell_type": "code",
   "execution_count": 106,
   "metadata": {},
   "outputs": [
    {
     "data": {
      "text/plain": [
       "array([[ True,  True,  True,  True],\n",
       "       [False, False,  True,  True],\n",
       "       [ True,  True, False, False]])"
      ]
     },
     "execution_count": 106,
     "metadata": {},
     "output_type": "execute_result"
    }
   ],
   "source": [
    "x < 6"
   ]
  },
  {
   "cell_type": "markdown",
   "metadata": {},
   "source": [
    "#### 计数操作\n",
    "\n",
    "- 对真值计数，使用``np.count_nonzero``"
   ]
  },
  {
   "cell_type": "code",
   "execution_count": 107,
   "metadata": {},
   "outputs": [
    {
     "data": {
      "text/plain": [
       "8"
      ]
     },
     "execution_count": 107,
     "metadata": {},
     "output_type": "execute_result"
    }
   ],
   "source": [
    "# 计数有多少小于 6?\n",
    "np.count_nonzero(x < 6)"
   ]
  },
  {
   "cell_type": "markdown",
   "metadata": {},
   "source": [
    "#### 对指定条件求和\n",
    "\n",
    "- 使用``np.sum``函数\n",
    "\n",
    "这里，``False``按``0``对待，``True``按``1``对待:"
   ]
  },
  {
   "cell_type": "code",
   "execution_count": 108,
   "metadata": {},
   "outputs": [
    {
     "data": {
      "text/plain": [
       "8"
      ]
     },
     "execution_count": 108,
     "metadata": {},
     "output_type": "execute_result"
    }
   ],
   "source": [
    "np.sum(x < 6)"
   ]
  },
  {
   "cell_type": "markdown",
   "metadata": {},
   "source": [
    "使用``sum()``的好处还有：\n",
    "\n",
    "- NumPy 聚合函数可沿行进行，也可沿列进行"
   ]
  },
  {
   "cell_type": "code",
   "execution_count": 109,
   "metadata": {},
   "outputs": [
    {
     "data": {
      "text/plain": [
       "array([4, 2, 2])"
      ]
     },
     "execution_count": 109,
     "metadata": {},
     "output_type": "execute_result"
    }
   ],
   "source": [
    "# 每行有多少值小于 6 ?\n",
    "np.sum(x < 6, axis=1)"
   ]
  },
  {
   "cell_type": "code",
   "execution_count": null,
   "metadata": {},
   "outputs": [],
   "source": [
    "x"
   ]
  },
  {
   "cell_type": "code",
   "execution_count": null,
   "metadata": {},
   "outputs": [],
   "source": [
    "#这里，计算出矩阵各行小于 6 的元素个数"
   ]
  },
  {
   "cell_type": "markdown",
   "metadata": {},
   "source": [
    "#### ``np.any`` 和 ``np.all``\n",
    "\n",
    "用途\n",
    "\n",
    "- 快速检查是否有真值\n",
    "- 或所有元素是否无真值"
   ]
  },
  {
   "cell_type": "code",
   "execution_count": null,
   "metadata": {},
   "outputs": [],
   "source": [
    "x"
   ]
  },
  {
   "cell_type": "code",
   "execution_count": 110,
   "metadata": {},
   "outputs": [
    {
     "data": {
      "text/plain": [
       "True"
      ]
     },
     "execution_count": 110,
     "metadata": {},
     "output_type": "execute_result"
    }
   ],
   "source": [
    "# x 中是否有任何值大于 8?\n",
    "np.any(x > 8)"
   ]
  },
  {
   "cell_type": "code",
   "execution_count": 111,
   "metadata": {},
   "outputs": [
    {
     "data": {
      "text/plain": [
       "False"
      ]
     },
     "execution_count": 111,
     "metadata": {},
     "output_type": "execute_result"
    }
   ],
   "source": [
    "# x 中是否有任何值小于 0?\n",
    "np.any(x < 0)"
   ]
  },
  {
   "cell_type": "code",
   "execution_count": 112,
   "metadata": {},
   "outputs": [
    {
     "data": {
      "text/plain": [
       "True"
      ]
     },
     "execution_count": 112,
     "metadata": {},
     "output_type": "execute_result"
    }
   ],
   "source": [
    "# x 中是否所有值小于 10?\n",
    "np.all(x < 10)"
   ]
  },
  {
   "cell_type": "code",
   "execution_count": 113,
   "metadata": {},
   "outputs": [
    {
     "data": {
      "text/plain": [
       "False"
      ]
     },
     "execution_count": 113,
     "metadata": {},
     "output_type": "execute_result"
    }
   ],
   "source": [
    "# x 中是否有所有值等于 6?\n",
    "np.all(x == 6)"
   ]
  },
  {
   "cell_type": "markdown",
   "metadata": {},
   "source": [
    "#### 用于特定轴\n",
    "\n",
    "- ``np.all``和``np.any``也可用在特定轴上\n",
    "\n",
    "例如"
   ]
  },
  {
   "cell_type": "code",
   "execution_count": 114,
   "metadata": {},
   "outputs": [
    {
     "name": "stdout",
     "output_type": "stream",
     "text": [
      "[[5 0 3 3]\n",
      " [7 9 3 5]\n",
      " [2 4 7 6]]\n"
     ]
    },
    {
     "data": {
      "text/plain": [
       "array([ True, False,  True])"
      ]
     },
     "execution_count": 114,
     "metadata": {},
     "output_type": "execute_result"
    }
   ],
   "source": [
    "# 对于每行，是否所有值都小于 8 ?\n",
    "print(x)\n",
    "np.all(x < 8, axis=1)"
   ]
  },
  {
   "cell_type": "markdown",
   "metadata": {},
   "source": [
    "第1和第3行的所有元素均小于8，而第2行却不是。\n",
    "\n",
    "注意：\n",
    "\n",
    "- Python 有若干内建函数，如``sum()``、``any()``和``all()``\n",
    "- 在NumPy中也有同样功能的函数\n",
    "- Python 内建函数用于多维数组会产生不可预测的结果\n",
    "- 确保对多维数组使用``np.sum()``、``np.any()``和``np.all()``"
   ]
  },
  {
   "cell_type": "markdown",
   "metadata": {},
   "source": [
    "### 12.7.4 布尔运算符\n",
    "\n",
    "回到Seattle，关心\n",
    "\n",
    "- 多少天降雨量小于4英寸且大于1英寸？\n",
    "- 使用*位逻辑运算符*:``&``、``|``、``^``和``~``\n",
    "\n",
    "与前相同，NumPy也重载了这些通用函数"
   ]
  },
  {
   "cell_type": "code",
   "execution_count": 69,
   "metadata": {},
   "outputs": [
    {
     "data": {
      "text/plain": [
       "29"
      ]
     },
     "execution_count": 69,
     "metadata": {},
     "output_type": "execute_result"
    }
   ],
   "source": [
    "np.sum((rain_fall > 0.5) & (rain_fall < 1))   # & 不是&&"
   ]
  },
  {
   "cell_type": "markdown",
   "metadata": {},
   "source": [
    "#### 注意\n",
    "\n",
    "这里，小括号很重要，若省略，将会是\n",
    "\n",
    "``` python\n",
    "inches > (0.5 & inches) < 1\n",
    "```\n",
    "\n",
    "还可采用等效的逻辑式 *A AND B* and *NOT (NOT A OR NOT B)* "
   ]
  },
  {
   "cell_type": "markdown",
   "metadata": {},
   "source": [
    "#### 发现\n",
    "\n",
    "- 有29天的降雨量介于 0.5 和 1.0 英寸之间"
   ]
  },
  {
   "cell_type": "code",
   "execution_count": null,
   "metadata": {},
   "outputs": [],
   "source": [
    "np.sum(~((inches <= 0.5) | (inches >= 1) ))  #看这个逻辑表达式"
   ]
  },
  {
   "cell_type": "markdown",
   "metadata": {},
   "source": [
    "#### 逻辑表达式\n",
    "\n",
    "- 结合比较运算符和逻辑运算符，可以有更多样的逻辑表达式\n",
    "\n",
    "下表给出按位操作的布尔运算符及其等效通用函数"
   ]
  },
  {
   "cell_type": "markdown",
   "metadata": {},
   "source": [
    "| 运算符\t    | 通用函数    |说明|\n",
    "|---------------|---------------------|--|\n",
    "|``&``          |``np.bitwise_and``   |与|\n",
    "|&#124;         |``np.bitwise_or``    |或|\n",
    "|``^``          |``np.bitwise_xor``   |或，两个结果一真一假为真，否则为假|\n",
    "|``~``          |``np.bitwise_not``   |非|"
   ]
  },
  {
   "cell_type": "code",
   "execution_count": 117,
   "metadata": {},
   "outputs": [
    {
     "data": {
      "text/plain": [
       "array([False,  True,  True, False])"
      ]
     },
     "execution_count": 117,
     "metadata": {},
     "output_type": "execute_result"
    }
   ],
   "source": [
    "np.bitwise_xor([True, True, False, False], [True, False, True, False])"
   ]
  },
  {
   "cell_type": "code",
   "execution_count": 116,
   "metadata": {},
   "outputs": [
    {
     "data": {
      "text/plain": [
       "array([ True,  True,  True, False])"
      ]
     },
     "execution_count": 116,
     "metadata": {},
     "output_type": "execute_result"
    }
   ],
   "source": [
    "np.bitwise_or([True, True, False, False], [True, False, True, False])"
   ]
  },
  {
   "cell_type": "markdown",
   "metadata": {},
   "source": [
    "采用这些工具，我们可能回答前面关于 Seattle 天气数据的问题。"
   ]
  },
  {
   "cell_type": "code",
   "execution_count": 118,
   "metadata": {},
   "outputs": [
    {
     "name": "stdout",
     "output_type": "stream",
     "text": [
      "Number days without rain:       215\n",
      "Number days with rain:          150\n",
      "Days with more than 0.5 inches: 37\n",
      "Rainy days with < 0.2 inches  : 75\n"
     ]
    }
   ],
   "source": [
    "print(\"Number days without rain:      \", np.sum(inches == 0))\n",
    "print(\"Number days with rain:         \", np.sum(inches != 0))\n",
    "print(\"Days with more than 0.5 inches:\", np.sum(inches > 0.5))\n",
    "print(\"Rainy days with < 0.2 inches  :\", np.sum((inches > 0) &\n",
    "                                                (inches < 0.2)))"
   ]
  },
  {
   "cell_type": "markdown",
   "metadata": {},
   "source": [
    "###  12.7.5 布尔掩码数组和掩码操作\n",
    "\n",
    "- 前面介绍了利用聚合函数直接运算布尔数组\n",
    "- 更强大的模式是利用掩码来选取特定的数据子集"
   ]
  },
  {
   "cell_type": "code",
   "execution_count": 119,
   "metadata": {},
   "outputs": [
    {
     "data": {
      "text/plain": [
       "array([[5, 0, 3, 3],\n",
       "       [7, 9, 3, 5],\n",
       "       [2, 4, 7, 6]])"
      ]
     },
     "execution_count": 119,
     "metadata": {},
     "output_type": "execute_result"
    }
   ],
   "source": [
    "x"
   ]
  },
  {
   "cell_type": "markdown",
   "metadata": {},
   "source": [
    "按给定条件，得到一布尔数组"
   ]
  },
  {
   "cell_type": "code",
   "execution_count": 120,
   "metadata": {},
   "outputs": [
    {
     "data": {
      "text/plain": [
       "array([[False,  True,  True,  True],\n",
       "       [False, False,  True, False],\n",
       "       [ True,  True, False, False]])"
      ]
     },
     "execution_count": 120,
     "metadata": {},
     "output_type": "execute_result"
    }
   ],
   "source": [
    "x < 5"
   ]
  },
  {
   "cell_type": "markdown",
   "metadata": {},
   "source": [
    "#### 掩码操作\n",
    "\n",
    "现在，从上述布尔数组选取值，这就是所谓 <font color=\"red\">*掩码* 操作</font>"
   ]
  },
  {
   "cell_type": "code",
   "execution_count": 121,
   "metadata": {},
   "outputs": [
    {
     "data": {
      "text/plain": [
       "array([0, 3, 3, 3, 2, 4])"
      ]
     },
     "execution_count": 121,
     "metadata": {},
     "output_type": "execute_result"
    }
   ],
   "source": [
    "x[x < 5]"
   ]
  },
  {
   "cell_type": "markdown",
   "metadata": {},
   "source": [
    "#### 注意\n",
    "\n",
    "- 返回的是一维数组，每个元素对应的掩码都是 ``True``\n",
    "\n",
    "然后，即可进行需要的计算"
   ]
  },
  {
   "cell_type": "code",
   "execution_count": 122,
   "metadata": {},
   "outputs": [
    {
     "name": "stdout",
     "output_type": "stream",
     "text": [
      "Median precip on rainy days in 2014 (inches):    0.19488188976377951\n",
      "Median precip on summer days in 2014 (inches):   0.0\n",
      "Maximum precip on summer days in 2014 (inches):  0.8503937007874016\n",
      "Median precip on non-summer rainy days (inches): 0.20078740157480315\n"
     ]
    }
   ],
   "source": [
    "# construct a mask of all rainy days\n",
    "rainy = (inches > 0)\n",
    "#print(rainy)\n",
    "\n",
    "# construct a mask of all summer days (June 21st is the 172nd day)\n",
    "days = np.arange(365)\n",
    "summer = (days > 172) & (days < 262)\n",
    "\n",
    "print(\"Median precip on rainy days in 2014 (inches):   \",\n",
    "      np.median(inches[rainy]))\n",
    "print(\"Median precip on summer days in 2014 (inches):  \",\n",
    "      np.median(inches[summer]))\n",
    "print(\"Maximum precip on summer days in 2014 (inches): \",\n",
    "      np.max(inches[summer]))\n",
    "print(\"Median precip on non-summer rainy days (inches):\",\n",
    "      np.median(inches[rainy & ~summer]))"
   ]
  },
  {
   "cell_type": "markdown",
   "metadata": {},
   "source": [
    "#### 对 Seattle 天气量化判断的基本方法\n",
    "\n",
    "- 布尔操作\n",
    "- 掩码运算\n",
    "- 聚合函数\n",
    "\n",
    "快速回答了这类问题"
   ]
  },
  {
   "cell_type": "markdown",
   "metadata": {},
   "source": [
    "### 12.7.6 进一步的讨论（自学）\n",
    "\n",
    "- 应该使用关键字 and/or 还是运算符 &/|"
   ]
  },
  {
   "cell_type": "markdown",
   "metadata": {},
   "source": [
    "#### 容易混淆的问题是\n",
    "\n",
    "- 关键字and/or 和运算符 &/|有什么区别？\n",
    "- 何时该使用哪一类？"
   ]
  },
  {
   "cell_type": "markdown",
   "metadata": {},
   "source": [
    "#### 区别\n",
    "- ``and`` 和 ``or`` 针对整个对象\n",
    "- ``&`` 和 ``|`` 针对 *对象的位*"
   ]
  },
  {
   "cell_type": "markdown",
   "metadata": {},
   "source": [
    "#### 注意\n",
    "\n",
    "- 使用``and`` 或 ``or``时，要求 Python 把对象<font color=\"red\">当成单一的布尔实体来处理</font>\n",
    "- 在 Python, 所有的非零值被当成 True"
   ]
  },
  {
   "cell_type": "code",
   "execution_count": null,
   "metadata": {},
   "outputs": [],
   "source": [
    "bool(42), bool(0)"
   ]
  },
  {
   "cell_type": "code",
   "execution_count": null,
   "metadata": {},
   "outputs": [],
   "source": [
    "bool(42 and 0)"
   ]
  },
  {
   "cell_type": "code",
   "execution_count": null,
   "metadata": {},
   "outputs": [],
   "source": [
    "bool(42 or 0)"
   ]
  },
  {
   "cell_type": "markdown",
   "metadata": {},
   "source": [
    "对整数使用``&`` 和 ``|``时, 是按位来操作"
   ]
  },
  {
   "cell_type": "code",
   "execution_count": null,
   "metadata": {},
   "outputs": [],
   "source": [
    "bin(42)"
   ]
  },
  {
   "cell_type": "code",
   "execution_count": null,
   "metadata": {},
   "outputs": [],
   "source": [
    "bin(59)"
   ]
  },
  {
   "cell_type": "code",
   "execution_count": null,
   "metadata": {},
   "outputs": [],
   "source": [
    "bin(42 & 59)\n"
   ]
  },
  {
   "cell_type": "code",
   "execution_count": null,
   "metadata": {},
   "outputs": [],
   "source": [
    "bin(42 | 59)"
   ]
  },
  {
   "cell_type": "code",
   "execution_count": null,
   "metadata": {},
   "outputs": [],
   "source": [
    "bin(42 ^ 59)"
   ]
  },
  {
   "cell_type": "markdown",
   "metadata": {},
   "source": [
    "注意：对相应的位进行比较，得到结果"
   ]
  },
  {
   "cell_type": "code",
   "execution_count": null,
   "metadata": {},
   "outputs": [],
   "source": [
    "A = np.array([1, 0, 1, 0, 1, 0], dtype=bool)\n",
    "B = np.array([1, 1, 1, 0, 1, 1], dtype=bool)\n",
    "A | B"
   ]
  },
  {
   "cell_type": "markdown",
   "metadata": {},
   "source": [
    "对数组使用``or``，即判别整个数组对象的真假"
   ]
  },
  {
   "cell_type": "code",
   "execution_count": null,
   "metadata": {},
   "outputs": [],
   "source": [
    "#A or B\n",
    "np.logical_or(A,B)"
   ]
  },
  {
   "cell_type": "markdown",
   "metadata": {},
   "source": [
    "类似地，对数组进行布尔运算，必须采用 ``|`` 或 ``&``，而不是``or`` 或 ``and``:"
   ]
  },
  {
   "cell_type": "code",
   "execution_count": null,
   "metadata": {},
   "outputs": [],
   "source": [
    "x = np.arange(10)\n",
    "(x > 4) & (x < 8)"
   ]
  },
  {
   "cell_type": "markdown",
   "metadata": {},
   "source": [
    "不能如下式用``and``"
   ]
  },
  {
   "cell_type": "code",
   "execution_count": null,
   "metadata": {},
   "outputs": [],
   "source": [
    "(x > 4) and (x < 8)"
   ]
  },
  {
   "cell_type": "markdown",
   "metadata": {},
   "source": [
    "### 小结\n",
    "\n",
    "- ``and`` 和 ``or`` 对单个对象进行操作\n",
    "- ``&`` 和 ``|`` 对多项内容进行布尔运算操作\n",
    "\n",
    "而对 NumPy 数组，后者几乎总是期望的操作。"
   ]
  },
  {
   "cell_type": "markdown",
   "metadata": {},
   "source": [
    "[返回目录](#mulu)"
   ]
  },
  {
   "cell_type": "code",
   "execution_count": null,
   "metadata": {},
   "outputs": [],
   "source": [
    "#2020年第13周上到这里"
   ]
  },
  {
   "cell_type": "markdown",
   "metadata": {},
   "source": [
    "## <font size=5><span id=\"12.8\"> 12.8 花式索引（fancy indexing）</span></font>"
   ]
  },
  {
   "cell_type": "markdown",
   "metadata": {},
   "source": [
    "### 12.8.1 引言"
   ]
  },
  {
   "cell_type": "markdown",
   "metadata": {},
   "source": [
    "#### 回顾 —— 访问和修改数组元素的方法\n",
    "\n",
    "- 使用下标（如 ``arr[0]``）\n",
    "- 使用切片（如 ``arr[:5]``）\n",
    "- 布尔掩码（如 ``arr[arr > 0]``)\n",
    "\n",
    "#### 引入 —— 花式索引\n",
    "\n",
    "- 用于快速访问和修改数组的复杂子集"
   ]
  },
  {
   "cell_type": "markdown",
   "metadata": {},
   "source": [
    "### 12.8.2 花式索引的概念\n",
    "\n",
    "- 传递<font color=\"red\">索引数组</font>，以实现访问多个数组元素"
   ]
  },
  {
   "cell_type": "code",
   "execution_count": 123,
   "metadata": {},
   "outputs": [
    {
     "name": "stdout",
     "output_type": "stream",
     "text": [
      "[51 92 14 71 60 20 82 86 74 74]\n"
     ]
    }
   ],
   "source": [
    "import numpy as np\n",
    "rand = np.random.RandomState(42)\n",
    "\n",
    "x = rand.randint(100, size=10)\n",
    "print(x)"
   ]
  },
  {
   "cell_type": "markdown",
   "metadata": {},
   "source": [
    "#### 问题\n",
    "\n",
    "- 考虑访问以下三个元素"
   ]
  },
  {
   "cell_type": "code",
   "execution_count": 124,
   "metadata": {},
   "outputs": [
    {
     "data": {
      "text/plain": [
       "[71, 86, 14]"
      ]
     },
     "execution_count": 124,
     "metadata": {},
     "output_type": "execute_result"
    }
   ],
   "source": [
    "[x[3], x[7], x[2]]"
   ]
  },
  {
   "cell_type": "markdown",
   "metadata": {},
   "source": [
    "#### 更有效率的处理\n",
    "\n",
    "- 传递索引数组，获得同样结果"
   ]
  },
  {
   "cell_type": "code",
   "execution_count": 125,
   "metadata": {},
   "outputs": [
    {
     "data": {
      "text/plain": [
       "array([71, 86, 14])"
      ]
     },
     "execution_count": 125,
     "metadata": {},
     "output_type": "execute_result"
    }
   ],
   "source": [
    "ind = [3, 7, 2]\n",
    "x[ind]"
   ]
  },
  {
   "cell_type": "markdown",
   "metadata": {},
   "source": [
    "#### 非拷贝视"
   ]
  },
  {
   "cell_type": "code",
   "execution_count": 126,
   "metadata": {},
   "outputs": [
    {
     "data": {
      "text/plain": [
       "array([51, 92, -3, -1, 60, 20, 82, -2, 74, 74])"
      ]
     },
     "execution_count": 126,
     "metadata": {},
     "output_type": "execute_result"
    }
   ],
   "source": [
    "x[ind]=[-1, -2, -3]\n",
    "x"
   ]
  },
  {
   "cell_type": "markdown",
   "metadata": {},
   "source": [
    "#### 结果维度\n",
    "\n",
    "使用花式索引时\n",
    "\n",
    "- 结果的维度与索引数组的维度相同\n",
    "- 结果的维度不同于原数组的维度"
   ]
  },
  {
   "cell_type": "code",
   "execution_count": 127,
   "metadata": {},
   "outputs": [
    {
     "data": {
      "text/plain": [
       "array([[-1, -2],\n",
       "       [60, 20]])"
      ]
     },
     "execution_count": 127,
     "metadata": {},
     "output_type": "execute_result"
    }
   ],
   "source": [
    "ind = np.array([[3, 7],\n",
    "                [4, 5]])  #理解一下\n",
    "x[ind]"
   ]
  },
  {
   "cell_type": "markdown",
   "metadata": {},
   "source": [
    "#### 花式索引用于多维数组"
   ]
  },
  {
   "cell_type": "code",
   "execution_count": 128,
   "metadata": {},
   "outputs": [
    {
     "data": {
      "text/plain": [
       "array([[ 0,  1,  2,  3],\n",
       "       [ 4,  5,  6,  7],\n",
       "       [ 8,  9, 10, 11]])"
      ]
     },
     "execution_count": 128,
     "metadata": {},
     "output_type": "execute_result"
    }
   ],
   "source": [
    "X = np.arange(12).reshape((3, 4))\n",
    "X"
   ]
  },
  {
   "cell_type": "markdown",
   "metadata": {},
   "source": [
    "同于标准索引方式\n",
    "\n",
    "- 第一下标代表行号\n",
    "- 第二下标表示列号"
   ]
  },
  {
   "cell_type": "code",
   "execution_count": 129,
   "metadata": {},
   "outputs": [
    {
     "data": {
      "text/plain": [
       "array([ 2,  5, 11])"
      ]
     },
     "execution_count": 129,
     "metadata": {},
     "output_type": "execute_result"
    }
   ],
   "source": [
    "row = np.array([0, 1, 2])\n",
    "col = np.array([2, 1, 3])\n",
    "X[row, col]"
   ]
  },
  {
   "cell_type": "markdown",
   "metadata": {},
   "source": [
    "####  注意要点\n",
    "\n",
    "- 上例，首元素是 ``X[0, 2]``、次元素是 ``X[1, 1]``、再次元素是 ``X[2, 3]``\n",
    "- 花式索引的配对方式服从广播规则，详见[A.06 数组计算之广播(Broadcasting)](A.06 数组计算之广播(Broadcasting))\n",
    "- 如果两个索引数组分别是行向量和列向量，结果将是二维数组"
   ]
  },
  {
   "cell_type": "code",
   "execution_count": 130,
   "metadata": {},
   "outputs": [
    {
     "data": {
      "text/plain": [
       "array([[ 2,  1,  3],\n",
       "       [ 6,  5,  7],\n",
       "       [10,  9, 11]])"
      ]
     },
     "execution_count": 130,
     "metadata": {},
     "output_type": "execute_result"
    }
   ],
   "source": [
    "X[row[:, np.newaxis], col]  #注意这里插入了newaxis"
   ]
  },
  {
   "cell_type": "markdown",
   "metadata": {},
   "source": [
    "这里，行与列匹配，按前述广播操作方式"
   ]
  },
  {
   "cell_type": "markdown",
   "metadata": {},
   "source": [
    "### 花式索引的返回结果反映了\n",
    "\n",
    "- 下标的广播维度\n",
    "- 非原数组的维度"
   ]
  },
  {
   "cell_type": "markdown",
   "metadata": {},
   "source": [
    "### 12.8.3 花式索引结合\n",
    "\n",
    "- 更强的操作方式"
   ]
  },
  {
   "cell_type": "code",
   "execution_count": 131,
   "metadata": {},
   "outputs": [
    {
     "name": "stdout",
     "output_type": "stream",
     "text": [
      "[[ 0  1  2  3]\n",
      " [ 4  5  6  7]\n",
      " [ 8  9 10 11]]\n"
     ]
    }
   ],
   "source": [
    "print(X)"
   ]
  },
  {
   "cell_type": "markdown",
   "metadata": {},
   "source": [
    "#### 花式和简式索引相结合"
   ]
  },
  {
   "cell_type": "code",
   "execution_count": 132,
   "metadata": {},
   "outputs": [
    {
     "data": {
      "text/plain": [
       "array([10,  8,  9])"
      ]
     },
     "execution_count": 132,
     "metadata": {},
     "output_type": "execute_result"
    }
   ],
   "source": [
    "X[2, [2, 0, 1]]"
   ]
  },
  {
   "cell_type": "markdown",
   "metadata": {},
   "source": [
    "#### 花式索引和切片相结合"
   ]
  },
  {
   "cell_type": "code",
   "execution_count": 133,
   "metadata": {},
   "outputs": [
    {
     "data": {
      "text/plain": [
       "array([[ 6,  4,  5],\n",
       "       [10,  8,  9]])"
      ]
     },
     "execution_count": 133,
     "metadata": {},
     "output_type": "execute_result"
    }
   ],
   "source": [
    "X[1:, [2, 0, 1]]"
   ]
  },
  {
   "cell_type": "markdown",
   "metadata": {},
   "source": [
    "#### 花式索引和掩码相结合"
   ]
  },
  {
   "cell_type": "code",
   "execution_count": 135,
   "metadata": {},
   "outputs": [
    {
     "data": {
      "text/plain": [
       "array([0, 1, 2])"
      ]
     },
     "execution_count": 135,
     "metadata": {},
     "output_type": "execute_result"
    }
   ],
   "source": [
    "row"
   ]
  },
  {
   "cell_type": "code",
   "execution_count": 136,
   "metadata": {},
   "outputs": [
    {
     "data": {
      "text/plain": [
       "array([[ 0,  2],\n",
       "       [ 4,  6],\n",
       "       [ 8, 10]])"
      ]
     },
     "execution_count": 136,
     "metadata": {},
     "output_type": "execute_result"
    }
   ],
   "source": [
    "mask = np.array([1, 0, 1, 0], dtype=bool) #0 2列保留  ； 1 3舍弃\n",
    "X[row[:, np.newaxis], mask]"
   ]
  },
  {
   "cell_type": "code",
   "execution_count": null,
   "metadata": {},
   "outputs": [],
   "source": [
    "row[:, np.newaxis]"
   ]
  },
  {
   "cell_type": "markdown",
   "metadata": {},
   "source": [
    "结合上述各索引选项，将产生更灵活的访问修改数组元素方式"
   ]
  },
  {
   "cell_type": "markdown",
   "metadata": {},
   "source": [
    "### 12.8.4 示例 —— 选取随机点\n",
    "\n",
    "- 从矩阵中选取若干行的子集合\n",
    "\n",
    "例如，某 $N\\times D$ 矩阵代表 $N$ 个 $D$ 维点，下例即给出服从二维正态分布的多个点"
   ]
  },
  {
   "cell_type": "code",
   "execution_count": 137,
   "metadata": {},
   "outputs": [
    {
     "data": {
      "text/plain": [
       "(1000, 2)"
      ]
     },
     "execution_count": 137,
     "metadata": {},
     "output_type": "execute_result"
    }
   ],
   "source": [
    "import numpy as np\n",
    "    \n",
    "mean = [0, 0]\n",
    "cov = [[1, 3.5],\n",
    "       [3.5, 16]]   #改变参数看一看\n",
    "X = np.random.multivariate_normal(mean, cov, 1000)\n",
    "X.shape"
   ]
  },
  {
   "cell_type": "markdown",
   "metadata": {},
   "source": [
    "#### 绘制散点图\n",
    "\n",
    "- 采用绘图工具 Matplotlib, 将这些点可视化为散点图"
   ]
  },
  {
   "cell_type": "code",
   "execution_count": 138,
   "metadata": {},
   "outputs": [
    {
     "data": {
      "image/png": "[encoded data removed]",
      "text/plain": [
       "<Figure size 432x288 with 1 Axes>"
      ]
     },
     "metadata": {},
     "output_type": "display_data"
    }
   ],
   "source": [
    "%matplotlib inline\n",
    "import matplotlib.pyplot as plt\n",
    "import seaborn; seaborn.set()  # 设置绘图风格\n",
    "\n",
    "plt.scatter(X[:, 0], X[:, 1]);\n",
    "plt.show()"
   ]
  },
  {
   "cell_type": "markdown",
   "metadata": {},
   "source": [
    "#### 采用花式索引选取20个点\n",
    "\n",
    "- 选取20个非重复的随机索引\n",
    "- 用选取的这些索引再从原数组中做部分选取"
   ]
  },
  {
   "cell_type": "code",
   "execution_count": 139,
   "metadata": {},
   "outputs": [
    {
     "data": {
      "text/plain": [
       "array([113, 521, 246, 658, 267, 406, 211, 584,  23, 831, 331, 640, 753,\n",
       "       618, 386, 714,  32,  81, 841, 119])"
      ]
     },
     "execution_count": 139,
     "metadata": {},
     "output_type": "execute_result"
    }
   ],
   "source": [
    "indices = np.random.choice(X.shape[0], 20, replace=False)  #从Xshape[0]中，随机选择20个\n",
    "indices"
   ]
  },
  {
   "cell_type": "code",
   "execution_count": 140,
   "metadata": {},
   "outputs": [
    {
     "data": {
      "text/plain": [
       "(20, 2)"
      ]
     },
     "execution_count": 140,
     "metadata": {},
     "output_type": "execute_result"
    }
   ],
   "source": [
    "selection = X[indices]  # 采用花式索引\n",
    "selection.shape"
   ]
  },
  {
   "cell_type": "code",
   "execution_count": 141,
   "metadata": {},
   "outputs": [
    {
     "data": {
      "text/plain": [
       "array([[ 0.47456956, -0.84924498],\n",
       "       [-0.40498521, -2.41694328],\n",
       "       [-0.37990901, -0.19559015],\n",
       "       [ 1.81985578,  7.95162081],\n",
       "       [-0.98959808, -1.11337821],\n",
       "       [ 0.57294961,  1.25130223],\n",
       "       [ 1.18739116,  2.10908738],\n",
       "       [ 0.17525099,  3.11215188],\n",
       "       [-0.13959873, -1.42436211],\n",
       "       [ 0.64539582,  1.34077646],\n",
       "       [-1.40864493, -6.09978705],\n",
       "       [ 0.35745421,  1.36449818],\n",
       "       [-1.45606652, -7.2928518 ],\n",
       "       [-0.80615474, -0.45245848],\n",
       "       [ 0.38154563,  0.57739229],\n",
       "       [-1.3557077 , -5.85714925],\n",
       "       [ 1.00043095,  4.74842435],\n",
       "       [ 0.53467408,  1.94340105],\n",
       "       [ 2.06326028,  4.3504725 ],\n",
       "       [-0.46319851,  1.59116902]])"
      ]
     },
     "execution_count": 141,
     "metadata": {},
     "output_type": "execute_result"
    }
   ],
   "source": [
    "selection"
   ]
  },
  {
   "cell_type": "markdown",
   "metadata": {},
   "source": [
    "- 观察所选取的点\n",
    "- 二次绘制散点图（所选点绘制成更大的圆）"
   ]
  },
  {
   "cell_type": "code",
   "execution_count": 142,
   "metadata": {},
   "outputs": [
    {
     "data": {
      "image/png": "[encoded data removed]",
      "text/plain": [
       "<Figure size 432x288 with 1 Axes>"
      ]
     },
     "metadata": {},
     "output_type": "display_data"
    }
   ],
   "source": [
    "plt.scatter(X[:, 0], X[:, 1], alpha=0.7)\n",
    "plt.scatter(selection[:, 0], selection[:, 1],\n",
    "            facecolor='red', s=80);"
   ]
  },
  {
   "cell_type": "markdown",
   "metadata": {},
   "source": [
    "#### 利用花式索引修改值\n",
    "\n",
    "花式索引可用于\n",
    "\n",
    "- 访问数组的部分\n",
    "- 修改数组的部分\n",
    "\n",
    "如下例，利用索引数组修改原数组中的元素值"
   ]
  },
  {
   "cell_type": "code",
   "execution_count": 143,
   "metadata": {},
   "outputs": [
    {
     "name": "stdout",
     "output_type": "stream",
     "text": [
      "[ 0 99 99  3 99  5  6  7 99  9]\n"
     ]
    }
   ],
   "source": [
    "x = np.arange(10)\n",
    "i = np.array([2, 1, 8, 4])\n",
    "x[i] = 99\n",
    "print(x)"
   ]
  },
  {
   "cell_type": "markdown",
   "metadata": {},
   "source": [
    "#### 使用赋值类运算符"
   ]
  },
  {
   "cell_type": "code",
   "execution_count": null,
   "metadata": {},
   "outputs": [],
   "source": [
    "x[i] -= 10\n",
    "print(x)"
   ]
  },
  {
   "cell_type": "markdown",
   "metadata": {},
   "source": [
    "#### *注意重复索引\n",
    "\n",
    "- 可能导致不可预测的结果，例如"
   ]
  },
  {
   "cell_type": "code",
   "execution_count": 144,
   "metadata": {},
   "outputs": [
    {
     "name": "stdout",
     "output_type": "stream",
     "text": [
      "[6. 0. 0. 0. 0. 0. 0. 0. 0. 0.]\n"
     ]
    }
   ],
   "source": [
    "x = np.zeros(10)\n",
    "x[[0, 0]] = [4, 6]  \n",
    "print(x)"
   ]
  },
  {
   "cell_type": "markdown",
   "metadata": {},
   "source": [
    "#### *问题 —— 4在哪儿？\n",
    "\n",
    "- 先赋值``x[0] = 4``\n",
    "- 接着赋值``x[0] = 6``\n",
    "\n",
    "结果当然是``x[0]``的值为 6\n",
    "\n",
    "再考虑下例"
   ]
  },
  {
   "cell_type": "code",
   "execution_count": null,
   "metadata": {},
   "outputs": [],
   "source": [
    "print(x)"
   ]
  },
  {
   "cell_type": "code",
   "execution_count": null,
   "metadata": {},
   "outputs": [],
   "source": [
    "x = np.zeros(10)\n",
    "x"
   ]
  },
  {
   "cell_type": "code",
   "execution_count": null,
   "metadata": {},
   "outputs": [],
   "source": [
    "i = [2, 3, 3, 4, 4, 4]\n",
    "x[i] += 1\n",
    "#想一下"
   ]
  },
  {
   "cell_type": "code",
   "execution_count": null,
   "metadata": {},
   "outputs": [],
   "source": [
    "print(x)"
   ]
  },
  {
   "cell_type": "markdown",
   "metadata": {},
   "source": [
    "考虑到索引的重复次数，容易认为``x[3]``的值为 2，以及``x[4]``的值为 3，怎么得到这个结果？\n",
    "\n",
    "概念上看，``x[i] += 1``表示``x[i] = x[i] + 1``，即，先算出``x[i] + 1``，然后赋给相应的元素。 ???理解一下\n",
    "\n",
    "因此，这里<font color=\"red\">并不是增值多次，而是赋值多次</font>，当然就导致了不同于直觉的结果。\n",
    "\n",
    "如果，确实想实现重复运算操作，该怎么办呢？\n",
    "\n",
    "- 使用通用函数中的``at()``方法（要求NumPy 1.8版本）\n",
    "- 然后，执行..."
   ]
  },
  {
   "cell_type": "markdown",
   "metadata": {},
   "source": [
    "###  12.8.5  `NumPy` 通用函数的 ``at()`` 方法\n",
    "\n",
    "\n",
    "- 对操作数组 `a`，在索引数组 `indices` 处的元素，按给定的数组值 `b` ，进行通用函数的操作\n",
    "\n",
    "\n",
    "- 语法\n",
    "```python\n",
    ">>> np.ufunc.at(a, indices, b=None)\n",
    "```\n",
    "\n",
    "\n",
    "- 参数\n",
    "    - a —— 操作数组\n",
    "    - indices —— 索引数组\n",
    "    - b —— 第二操作数组，和 indices 遵守广播规则"
   ]
  },
  {
   "cell_type": "markdown",
   "metadata": {},
   "source": [
    "#### 例 求和"
   ]
  },
  {
   "cell_type": "code",
   "execution_count": 45,
   "metadata": {},
   "outputs": [
    {
     "name": "stdout",
     "output_type": "stream",
     "text": [
      "[2 3 5 4]\n"
     ]
    }
   ],
   "source": [
    "a = np.array([1, 2, 3, 4])\n",
    "np.add.at(a, [0, 1, 2, 2], 1)  # 注意广播\n",
    "print(a)"
   ]
  },
  {
   "cell_type": "markdown",
   "metadata": {},
   "source": [
    "#### 例 求差"
   ]
  },
  {
   "cell_type": "code",
   "execution_count": 46,
   "metadata": {},
   "outputs": [
    {
     "name": "stdout",
     "output_type": "stream",
     "text": [
      "[0 0 3 4]\n"
     ]
    }
   ],
   "source": [
    "a = np.array([1, 2, 3, 4])\n",
    "b = np.array([1, 2])\n",
    "np.subtract.at(a, [0, 1], b)  # 同维、同维度\n",
    "print(a)"
   ]
  },
  {
   "cell_type": "markdown",
   "metadata": {},
   "source": [
    "#### 例 取反"
   ]
  },
  {
   "cell_type": "code",
   "execution_count": null,
   "metadata": {},
   "outputs": [],
   "source": [
    "a = np.array([1, 2, 3, 4])\n",
    "np.negative.at(a, [0, 1])  # 取反\n",
    "print(a)"
   ]
  },
  {
   "cell_type": "markdown",
   "metadata": {},
   "source": [
    "#### 例 求正弦"
   ]
  },
  {
   "cell_type": "code",
   "execution_count": null,
   "metadata": {},
   "outputs": [],
   "source": [
    "a = np.linspace(0,180,5)\n",
    "print(a)\n",
    "\n",
    "a *= np.pi/180\n",
    "\n",
    "np.sin.at(a, [1,2,3])\n",
    "print(a)"
   ]
  },
  {
   "cell_type": "markdown",
   "metadata": {},
   "source": [
    "### 12.8.6 示例 —— 分箱数据(Binning Data)\n",
    "\n",
    "有效地数据分箱以便创建柱图\n",
    "\n",
    "例如，假设已有1000个值，现欲快速了解这些数据各自落在哪一个箱中\n",
    "\n",
    "可以使用``ufunc.at``"
   ]
  },
  {
   "cell_type": "code",
   "execution_count": 145,
   "metadata": {},
   "outputs": [
    {
     "name": "stdout",
     "output_type": "stream",
     "text": [
      "[44 39 46 ... 44 39 41]\n"
     ]
    }
   ],
   "source": [
    "import numpy as np\n",
    "np.random.seed(42)\n",
    "x = np.random.randn(100000)\n",
    "#print(x)\n",
    "#print(x.shape)\n",
    "\n",
    "# compute a histogram by hand\n",
    "bins = np.linspace(-5, 5, 81)\n",
    "#print(bins)\n",
    "counts = np.zeros_like(bins)  #返回一个与bins一样大小维度的0数组\n",
    "#print(bins)\n",
    "\n",
    "# find the appropriate bin for each x\n",
    "# 查找一个合适的位置，将元素插入已排好序的一维数组中，并且保持数组元素的顺序不被打乱。\n",
    "i = np.searchsorted(bins, x)   #将x插入原有序数组bins，并返回插入元素的索引值\n",
    "print(i)\n",
    "\n",
    "# add 1 to each of these bins\n",
    "np.add.at(counts, i, 1)"
   ]
  },
  {
   "cell_type": "code",
   "execution_count": 146,
   "metadata": {},
   "outputs": [
    {
     "data": {
      "image/png": "[encoded data removed]",
      "text/plain": [
       "<Figure size 432x288 with 1 Axes>"
      ]
     },
     "metadata": {},
     "output_type": "display_data"
    }
   ],
   "source": [
    "plt.hist(x, bins, histtype='step');"
   ]
  },
  {
   "cell_type": "markdown",
   "metadata": {},
   "source": [
    "现在，计数代表了每一箱中的点数，换一句话，柱图"
   ]
  },
  {
   "cell_type": "code",
   "execution_count": null,
   "metadata": {},
   "outputs": [],
   "source": [
    "print(\"NumPy routine:\")\n",
    "%timeit counts, edges = np.histogram(x, bins)\n",
    "\n",
    "print(\"Custom routine:\")\n",
    "%timeit np.add.at(counts, np.searchsorted(bins, x), 1)"
   ]
  },
  {
   "cell_type": "markdown",
   "metadata": {},
   "source": [
    "我们的单行算法几倍快于NumPy的优化算法！\n",
    "\n",
    "这是怎么回事？\n",
    "\n",
    "深入剖析``np.histogram``源代码(使用``np.histogram??``)，发现原来相比我们所用的简单搜索计数方法，它涉及更多因素，这是因为NumPy设计的算法更灵活，尤其是当数据量变大时其表现将变得更好。"
   ]
  },
  {
   "cell_type": "code",
   "execution_count": null,
   "metadata": {},
   "outputs": [],
   "source": [
    "x = np.random.randn(1000000)\n",
    "print(\"NumPy routine:\")\n",
    "%timeit counts, edges = np.histogram(x, bins)\n",
    "\n",
    "print(\"Custom routine:\")\n",
    "%timeit np.add.at(counts, np.searchsorted(bins, x), 1)"
   ]
  },
  {
   "cell_type": "markdown",
   "metadata": {},
   "source": [
    "[返回目录](#mulu)"
   ]
  },
  {
   "cell_type": "code",
   "execution_count": null,
   "metadata": {},
   "outputs": [],
   "source": []
  },
  {
   "cell_type": "markdown",
   "metadata": {},
   "source": [
    "## <font size=5><span id=\"12.9\"> 12.9 排序</span></font>"
   ]
  },
  {
   "cell_type": "markdown",
   "metadata": {},
   "source": [
    "### 12.9.1 众多排序算法\n",
    "\n",
    "- 插入排序\n",
    "- 选择排序\n",
    "- 合并排序\n",
    "- 快速排序\n",
    "- 冒泡排序\n",
    "- 其它许多\n",
    "\n",
    "如下，用几行Python代码实现*选择排序*"
   ]
  },
  {
   "cell_type": "code",
   "execution_count": 147,
   "metadata": {},
   "outputs": [],
   "source": [
    "import numpy as np"
   ]
  },
  {
   "cell_type": "code",
   "execution_count": 148,
   "metadata": {},
   "outputs": [],
   "source": [
    "def selection_sort(x):  # 这个排序思想是什么？\n",
    "    for i in range(len(x)):\n",
    "        swap = i + np.argmin(x[i:])   #np.argmin返回最小值的下标\n",
    "        (x[i], x[swap]) = (x[swap], x[i])\n",
    "    return x"
   ]
  },
  {
   "cell_type": "code",
   "execution_count": null,
   "metadata": {},
   "outputs": [],
   "source": [
    "np.argmin??"
   ]
  },
  {
   "cell_type": "code",
   "execution_count": 149,
   "metadata": {},
   "outputs": [
    {
     "data": {
      "text/plain": [
       "array([1, 2, 3, 4, 5])"
      ]
     },
     "execution_count": 149,
     "metadata": {},
     "output_type": "execute_result"
    }
   ],
   "source": [
    "x = np.array([2, 1, 4, 3, 5])\n",
    "selection_sort(x)\n",
    "x"
   ]
  },
  {
   "cell_type": "markdown",
   "metadata": {},
   "source": [
    "选择排序适用于简单问题，对于大数组的运算速度太慢\n",
    "\n",
    "对于 $N$ 个元素的列表，选择排序算法的计算量平均约为 $\\mathcal{O}[N^2]$，如果元素增加一倍，计算时间将乘以4。\n",
    "\n",
    "不管怎样，选择排序算法也远好于bogo排序方法。\n",
    "\n",
    "看看bogo算法"
   ]
  },
  {
   "cell_type": "code",
   "execution_count": null,
   "metadata": {},
   "outputs": [],
   "source": [
    "def bogosort(x):\n",
    "    while np.any(x[:-1] > x[1:]):  #什么意思？思考一下\n",
    "        print(x)\n",
    "        np.random.shuffle(x)\n",
    "    print(x)\n",
    "    return x"
   ]
  },
  {
   "cell_type": "code",
   "execution_count": null,
   "metadata": {},
   "outputs": [],
   "source": [
    "x = np.array([2, 1, 4, 3, 5])\n",
    "bogosort(x)"
   ]
  },
  {
   "cell_type": "markdown",
   "metadata": {},
   "source": [
    "- 上述方法的平均计算量为 $\\mathcal{O}[N \\times N!]$\n",
    "- 因此，这一排序方法从未被用于实际计算"
   ]
  },
  {
   "cell_type": "markdown",
   "metadata": {},
   "source": [
    "### 12.9.2 NumPy 中的快速排序算法: ``np.sort`` 和 ``np.argsort``\n",
    "\n",
    "- Python 有内建的``sort``和``sorted``函数用于对列表排序\n",
    "- NumPy 也有效率更高的``np.sort``函数\n",
    "\n",
    "\n",
    "缺省时，``np.sort``使用 $\\mathcal{O}[N\\log N]$阶的*快速排序算法*，尽管*合并排序法*和*堆排序法*也可用，对于绝大多数情形，缺省的快速排序算法完全够用了\n",
    "\n",
    "返回排好序的结果，又不修改输入数组，可以使用``np.sort``"
   ]
  },
  {
   "cell_type": "code",
   "execution_count": 150,
   "metadata": {},
   "outputs": [
    {
     "data": {
      "text/plain": [
       "(array([1, 2, 3, 4, 5]), array([2, 1, 4, 3, 5]))"
      ]
     },
     "execution_count": 150,
     "metadata": {},
     "output_type": "execute_result"
    }
   ],
   "source": [
    "x = np.array([2, 1, 4, 3, 5])\n",
    "np.sort(x), x"
   ]
  },
  {
   "cell_type": "markdown",
   "metadata": {},
   "source": [
    "如果想就地（in-place）排序一数组，可采用数组的``sort``方法"
   ]
  },
  {
   "cell_type": "code",
   "execution_count": 152,
   "metadata": {},
   "outputs": [
    {
     "name": "stdout",
     "output_type": "stream",
     "text": [
      "[1 2 3 4 5]\n"
     ]
    }
   ],
   "source": [
    "x.sort()\n",
    "print(x)"
   ]
  },
  {
   "cell_type": "markdown",
   "metadata": {},
   "source": [
    "相应的函数是``argsort``，它返回的是排好序的元素索引"
   ]
  },
  {
   "cell_type": "code",
   "execution_count": 153,
   "metadata": {},
   "outputs": [
    {
     "name": "stdout",
     "output_type": "stream",
     "text": [
      "[1 0 3 2 4]\n"
     ]
    },
    {
     "data": {
      "text/plain": [
       "array([2, 1, 4, 3, 5])"
      ]
     },
     "execution_count": 153,
     "metadata": {},
     "output_type": "execute_result"
    }
   ],
   "source": [
    "x = np.array([2, 1, 4, 3, 5])\n",
    "i = np.argsort(x)\n",
    "print(i)\n",
    "x"
   ]
  },
  {
   "cell_type": "markdown",
   "metadata": {},
   "source": [
    "返回的索引列表可用来（通过花式索引）构建排好序的数组"
   ]
  },
  {
   "cell_type": "code",
   "execution_count": 154,
   "metadata": {},
   "outputs": [
    {
     "data": {
      "text/plain": [
       "array([1, 2, 3, 4, 5])"
      ]
     },
     "execution_count": 154,
     "metadata": {},
     "output_type": "execute_result"
    }
   ],
   "source": [
    "x[i]"
   ]
  },
  {
   "cell_type": "markdown",
   "metadata": {},
   "source": [
    "### 12.9.3 沿行或列排序"
   ]
  },
  {
   "cell_type": "markdown",
   "metadata": {},
   "source": [
    "NumPy 可沿多维数组特定的行或列进行排序，这要配合使用``axis``参数，例如"
   ]
  },
  {
   "cell_type": "code",
   "execution_count": 155,
   "metadata": {},
   "outputs": [
    {
     "name": "stdout",
     "output_type": "stream",
     "text": [
      "[[6 3 7 4 6 9]\n",
      " [2 6 7 4 3 7]\n",
      " [7 2 5 4 1 7]\n",
      " [5 1 4 0 9 5]]\n"
     ]
    }
   ],
   "source": [
    "rand = np.random.RandomState(42)\n",
    "X = rand.randint(0, 10, (4, 6))\n",
    "print(X)"
   ]
  },
  {
   "cell_type": "code",
   "execution_count": 156,
   "metadata": {},
   "outputs": [
    {
     "data": {
      "text/plain": [
       "array([[3, 4, 6, 6, 7, 9],\n",
       "       [2, 3, 4, 6, 7, 7],\n",
       "       [1, 2, 4, 5, 7, 7],\n",
       "       [0, 1, 4, 5, 5, 9]])"
      ]
     },
     "execution_count": 156,
     "metadata": {},
     "output_type": "execute_result"
    }
   ],
   "source": [
    "np.sort(X)"
   ]
  },
  {
   "cell_type": "code",
   "execution_count": 157,
   "metadata": {},
   "outputs": [
    {
     "data": {
      "text/plain": [
       "array([[2, 1, 4, 0, 1, 5],\n",
       "       [5, 2, 5, 4, 3, 7],\n",
       "       [6, 3, 7, 4, 6, 7],\n",
       "       [7, 6, 7, 4, 9, 9]])"
      ]
     },
     "execution_count": 157,
     "metadata": {},
     "output_type": "execute_result"
    }
   ],
   "source": [
    "# sort each column of X\n",
    "np.sort(X, axis=0)  #按列排序"
   ]
  },
  {
   "cell_type": "code",
   "execution_count": 158,
   "metadata": {},
   "outputs": [
    {
     "data": {
      "text/plain": [
       "array([[3, 4, 6, 6, 7, 9],\n",
       "       [2, 3, 4, 6, 7, 7],\n",
       "       [1, 2, 4, 5, 7, 7],\n",
       "       [0, 1, 4, 5, 5, 9]])"
      ]
     },
     "execution_count": 158,
     "metadata": {},
     "output_type": "execute_result"
    }
   ],
   "source": [
    "# sort each row of X\n",
    "np.sort(X, axis=1) #按行排序"
   ]
  },
  {
   "cell_type": "markdown",
   "metadata": {},
   "source": [
    "### 记住\n",
    "\n",
    "- 上述操作<font color=\"red\">将行或列当成独立数组</font>，而且原来行间或列间元素的关系全部失去"
   ]
  },
  {
   "cell_type": "markdown",
   "metadata": {},
   "source": [
    "### 12.9.4 部分排序：分区(Partitioning)\n",
    "\n",
    "有时，可能对数组整体排序没有兴趣，但是希望找到数组中*k*个最小的值，NumPy为此提供了``np.partition``函数。\n",
    "\n",
    "- ``np.partition``函数的参数\n",
    "    - 一个数组参数\n",
    "    - 一个数*K*\n",
    "    - 结果是一个新数组，含*K*个最小的值在分区的左边，余下的右边数组值，以任意序排列"
   ]
  },
  {
   "cell_type": "code",
   "execution_count": null,
   "metadata": {},
   "outputs": [],
   "source": [
    "x = np.array([7, 2, 3, 1, 6, 5, 4, 9, 8])\n",
    "np.partition(x, 5)"
   ]
  },
  {
   "cell_type": "markdown",
   "metadata": {},
   "source": [
    "#### 注意到\n",
    "\n",
    "- 结果数组中，最前面三个数是三个最小值\n",
    "- 两个分区中，元素无序排列\n",
    "\n",
    "类似于排序，也可沿多维数组的任意轴方向进行分区排序"
   ]
  },
  {
   "cell_type": "code",
   "execution_count": null,
   "metadata": {},
   "outputs": [],
   "source": [
    "X"
   ]
  },
  {
   "cell_type": "code",
   "execution_count": null,
   "metadata": {},
   "outputs": [],
   "source": [
    "np.partition(X, 2, axis=1) #每一行前面两个为最小值"
   ]
  },
  {
   "cell_type": "markdown",
   "metadata": {},
   "source": [
    "- 上述结果各行的前2个元素分别是各行最小的2个值\n",
    "- 如同有``np.argsort``计算排序的索引，也有``np.argpartition``计算分区的索引"
   ]
  },
  {
   "cell_type": "markdown",
   "metadata": {},
   "source": [
    "### 12.9.4 示例：k-最近邻(k-Nearest Neighbors)\n",
    "\n",
    "关注：使用``argsort``函数沿多轴寻找集合中每点的最近邻居\n",
    "\n",
    "先在二维平面内创建10个随机点\n",
    "\n",
    "同常规，将这10个点放入 $10\\times 2$ 数组"
   ]
  },
  {
   "cell_type": "code",
   "execution_count": 159,
   "metadata": {},
   "outputs": [
    {
     "data": {
      "text/plain": [
       "array([[0.2950696 , 0.68280113],\n",
       "       [0.19365118, 0.78467952],\n",
       "       [0.08889189, 0.82846603],\n",
       "       [0.57000133, 0.0185593 ],\n",
       "       [0.25379334, 0.48244771],\n",
       "       [0.6426869 , 0.67380543],\n",
       "       [0.89499323, 0.43814843],\n",
       "       [0.01256427, 0.26683024],\n",
       "       [0.09301325, 0.83829508],\n",
       "       [0.1499831 , 0.35827694]])"
      ]
     },
     "execution_count": 159,
     "metadata": {},
     "output_type": "execute_result"
    }
   ],
   "source": [
    "import numpy as np\n",
    "X = np.random.random((10, 2))\n",
    "X"
   ]
  },
  {
   "cell_type": "markdown",
   "metadata": {},
   "source": [
    "- 想了解这些点长成什么样？\n",
    "- 快速绘制一散点图"
   ]
  },
  {
   "cell_type": "code",
   "execution_count": 160,
   "metadata": {},
   "outputs": [
    {
     "data": {
      "image/png": "[encoded data removed]",
      "text/plain": [
       "<Figure size 432x288 with 1 Axes>"
      ]
     },
     "metadata": {},
     "output_type": "display_data"
    }
   ],
   "source": [
    "%matplotlib inline\n",
    "import matplotlib.pyplot as plt\n",
    "import seaborn; seaborn.set() # Plot styling\n",
    "plt.scatter(X[:, 0], X[:, 1], s=100);"
   ]
  },
  {
   "cell_type": "code",
   "execution_count": 161,
   "metadata": {},
   "outputs": [
    {
     "data": {
      "image/png": "[encoded data removed]",
      "text/plain": [
       "<Figure size 432x288 with 1 Axes>"
      ]
     },
     "metadata": {},
     "output_type": "display_data"
    }
   ],
   "source": [
    "### 传统程序做法(最近的1个点)-方法比较笨哦\n",
    "import math\n",
    "nearnode = np.zeros_like(X, dtype=int)\n",
    "nearnodedist = np.zeros(X.shape[0])\n",
    "for i in range(X.shape[0]):\n",
    "    dmin = np.inf\n",
    "    nearnode[i,0] = i\n",
    "    for j in range(X.shape[0]):\n",
    "        if j != i:\n",
    "            dist = math.sqrt((X[i,0] - X[j,0])**2 + (X[i,1] - X[j,1])**2)\n",
    "            if dist < dmin:\n",
    "                nearnode[i,1] = j\n",
    "                dmin = dist\n",
    "nearnode\n",
    "        \n",
    "plt.scatter(X[:, 0], X[:, 1], s=100)\n",
    "for i in range(X.shape[0]):\n",
    "    ni = nearnode[i,0]\n",
    "    nj = nearnode[i,1]\n",
    "    plt.plot(*zip(X[ni], X[nj]), color='black')      "
   ]
  },
  {
   "cell_type": "markdown",
   "metadata": {},
   "source": [
    "#### numpy程序做法\n",
    "- 计算每对点间的距离\n",
    "- 点距离的计算要用到勾股定理\n",
    "    - 使用广播技术\n",
    "    - 使用聚合函数\n",
    "- 可以只用单行代码完成上述计算"
   ]
  },
  {
   "cell_type": "code",
   "execution_count": 162,
   "metadata": {
    "collapsed": true
   },
   "outputs": [
    {
     "data": {
      "text/plain": [
       "array([[[ 0.        ,  0.        ],\n",
       "        [ 0.10141842, -0.10187838],\n",
       "        [ 0.20617771, -0.1456649 ],\n",
       "        [-0.27493173,  0.66424183],\n",
       "        [ 0.04127626,  0.20035342],\n",
       "        [-0.3476173 ,  0.00899571],\n",
       "        [-0.59992363,  0.2446527 ],\n",
       "        [ 0.28250533,  0.41597089],\n",
       "        [ 0.20205635, -0.15549394],\n",
       "        [ 0.1450865 ,  0.32452419]],\n",
       "\n",
       "       [[-0.10141842,  0.10187838],\n",
       "        [ 0.        ,  0.        ],\n",
       "        [ 0.10475929, -0.04378651],\n",
       "        [-0.37635015,  0.76612021],\n",
       "        [-0.06014216,  0.30223181],\n",
       "        [-0.44903572,  0.11087409],\n",
       "        [-0.70134205,  0.34653109],\n",
       "        [ 0.1810869 ,  0.51784928],\n",
       "        [ 0.10063793, -0.05361556],\n",
       "        [ 0.04366808,  0.42640258]],\n",
       "\n",
       "       [[-0.20617771,  0.1456649 ],\n",
       "        [-0.10475929,  0.04378651],\n",
       "        [ 0.        ,  0.        ],\n",
       "        [-0.48110944,  0.80990673],\n",
       "        [-0.16490145,  0.34601832],\n",
       "        [-0.55379502,  0.15466061],\n",
       "        [-0.80610134,  0.3903176 ],\n",
       "        [ 0.07632761,  0.56163579],\n",
       "        [-0.00412136, -0.00982905],\n",
       "        [-0.06109121,  0.47018909]],\n",
       "\n",
       "       [[ 0.27493173, -0.66424183],\n",
       "        [ 0.37635015, -0.76612021],\n",
       "        [ 0.48110944, -0.80990673],\n",
       "        [ 0.        ,  0.        ],\n",
       "        [ 0.31620799, -0.46388841],\n",
       "        [-0.07268557, -0.65524612],\n",
       "        [-0.3249919 , -0.41958912],\n",
       "        [ 0.55743705, -0.24827094],\n",
       "        [ 0.47698808, -0.81973577],\n",
       "        [ 0.42001823, -0.33971763]],\n",
       "\n",
       "       [[-0.04127626, -0.20035342],\n",
       "        [ 0.06014216, -0.30223181],\n",
       "        [ 0.16490145, -0.34601832],\n",
       "        [-0.31620799,  0.46388841],\n",
       "        [ 0.        ,  0.        ],\n",
       "        [-0.38889357, -0.19135772],\n",
       "        [-0.64119989,  0.04429928],\n",
       "        [ 0.24122906,  0.21561747],\n",
       "        [ 0.16078009, -0.35584737],\n",
       "        [ 0.10381024,  0.12417077]],\n",
       "\n",
       "       [[ 0.3476173 , -0.00899571],\n",
       "        [ 0.44903572, -0.11087409],\n",
       "        [ 0.55379502, -0.15466061],\n",
       "        [ 0.07268557,  0.65524612],\n",
       "        [ 0.38889357,  0.19135772],\n",
       "        [ 0.        ,  0.        ],\n",
       "        [-0.25230633,  0.235657  ],\n",
       "        [ 0.63012263,  0.40697519],\n",
       "        [ 0.54967366, -0.16448965],\n",
       "        [ 0.49270381,  0.31552849]],\n",
       "\n",
       "       [[ 0.59992363, -0.2446527 ],\n",
       "        [ 0.70134205, -0.34653109],\n",
       "        [ 0.80610134, -0.3903176 ],\n",
       "        [ 0.3249919 ,  0.41958912],\n",
       "        [ 0.64119989, -0.04429928],\n",
       "        [ 0.25230633, -0.235657  ],\n",
       "        [ 0.        ,  0.        ],\n",
       "        [ 0.88242895,  0.17131819],\n",
       "        [ 0.80197998, -0.40014665],\n",
       "        [ 0.74501013,  0.07987149]],\n",
       "\n",
       "       [[-0.28250533, -0.41597089],\n",
       "        [-0.1810869 , -0.51784928],\n",
       "        [-0.07632761, -0.56163579],\n",
       "        [-0.55743705,  0.24827094],\n",
       "        [-0.24122906, -0.21561747],\n",
       "        [-0.63012263, -0.40697519],\n",
       "        [-0.88242895, -0.17131819],\n",
       "        [ 0.        ,  0.        ],\n",
       "        [-0.08044897, -0.57146484],\n",
       "        [-0.13741882, -0.0914467 ]],\n",
       "\n",
       "       [[-0.20205635,  0.15549394],\n",
       "        [-0.10063793,  0.05361556],\n",
       "        [ 0.00412136,  0.00982905],\n",
       "        [-0.47698808,  0.81973577],\n",
       "        [-0.16078009,  0.35584737],\n",
       "        [-0.54967366,  0.16448965],\n",
       "        [-0.80197998,  0.40014665],\n",
       "        [ 0.08044897,  0.57146484],\n",
       "        [ 0.        ,  0.        ],\n",
       "        [-0.05696985,  0.48001814]],\n",
       "\n",
       "       [[-0.1450865 , -0.32452419],\n",
       "        [-0.04366808, -0.42640258],\n",
       "        [ 0.06109121, -0.47018909],\n",
       "        [-0.42001823,  0.33971763],\n",
       "        [-0.10381024, -0.12417077],\n",
       "        [-0.49270381, -0.31552849],\n",
       "        [-0.74501013, -0.07987149],\n",
       "        [ 0.13741882,  0.0914467 ],\n",
       "        [ 0.05696985, -0.48001814],\n",
       "        [ 0.        ,  0.        ]]])"
      ]
     },
     "execution_count": 162,
     "metadata": {},
     "output_type": "execute_result"
    }
   ],
   "source": [
    "X[:, np.newaxis, :] - X[np.newaxis, :, :]"
   ]
  },
  {
   "cell_type": "code",
   "execution_count": 163,
   "metadata": {},
   "outputs": [
    {
     "data": {
      "text/plain": [
       "((10, 1, 2), (10, 2))"
      ]
     },
     "execution_count": 163,
     "metadata": {},
     "output_type": "execute_result"
    }
   ],
   "source": [
    "X[:, np.newaxis, :].shape, X.shape"
   ]
  },
  {
   "cell_type": "code",
   "execution_count": 164,
   "metadata": {
    "collapsed": true
   },
   "outputs": [
    {
     "data": {
      "text/plain": [
       "array([[0.00000000e+00, 2.06649018e-02, 6.37275125e-02, 5.16804662e-01,\n",
       "        4.18452243e-02, 1.20918711e-01, 4.19763303e-01, 2.52841044e-01,\n",
       "        6.50051370e-02, 1.26366047e-01],\n",
       "       [2.06649018e-02, 0.00000000e+00, 1.28917679e-02, 7.28579617e-01,\n",
       "        9.49611450e-02, 2.13926146e-01, 6.11964466e-01, 3.00960341e-01,\n",
       "        1.30026215e-02, 1.83726061e-01],\n",
       "       [6.37275125e-02, 1.28917679e-02, 0.00000000e+00, 8.87415201e-01,\n",
       "        1.46921167e-01, 3.30608823e-01, 8.02147203e-01, 3.21260666e-01,\n",
       "        1.13595754e-04, 2.24809919e-01],\n",
       "       [5.16804662e-01, 7.28579617e-01, 8.87415201e-01, 0.00000000e+00,\n",
       "        3.15179947e-01, 4.34630672e-01, 2.81674767e-01, 3.72374528e-01,\n",
       "        8.99484367e-01, 2.91823386e-01],\n",
       "       [4.18452243e-02, 9.49611450e-02, 1.46921167e-01, 3.15179947e-01,\n",
       "        0.00000000e+00, 1.87855981e-01, 4.13099727e-01, 1.04682354e-01,\n",
       "        1.52477586e-01, 2.61949463e-02],\n",
       "       [1.20918711e-01, 2.13926146e-01, 3.30608823e-01, 4.34630672e-01,\n",
       "        1.87855981e-01, 0.00000000e+00, 1.19192702e-01, 5.62683328e-01,\n",
       "        3.29197973e-01, 3.42315266e-01],\n",
       "       [4.19763303e-01, 6.11964466e-01, 8.02147203e-01, 2.81674767e-01,\n",
       "        4.13099727e-01, 1.19192702e-01, 0.00000000e+00, 8.08030780e-01,\n",
       "        8.03289230e-01, 5.61419550e-01],\n",
       "       [2.52841044e-01, 3.00960341e-01, 3.21260666e-01, 3.72374528e-01,\n",
       "        1.04682354e-01, 5.62683328e-01, 8.08030780e-01, 0.00000000e+00,\n",
       "        3.33044097e-01, 2.72464314e-02],\n",
       "       [6.50051370e-02, 1.30026215e-02, 1.13595754e-04, 8.99484367e-01,\n",
       "        1.52477586e-01, 3.29197973e-01, 8.03289230e-01, 3.33044097e-01,\n",
       "        0.00000000e+00, 2.33662977e-01],\n",
       "       [1.26366047e-01, 1.83726061e-01, 2.24809919e-01, 2.91823386e-01,\n",
       "        2.61949463e-02, 3.42315266e-01, 5.61419550e-01, 2.72464314e-02,\n",
       "        2.33662977e-01, 0.00000000e+00]])"
      ]
     },
     "execution_count": 164,
     "metadata": {},
     "output_type": "execute_result"
    }
   ],
   "source": [
    "dist_sq = np.sum((X[:, np.newaxis, :] - X[np.newaxis, :, :]) ** 2, axis=-1)\n",
    "dist_sq"
   ]
  },
  {
   "cell_type": "markdown",
   "metadata": {},
   "source": [
    "- 上述操作十分紧凑，如果不熟悉NumPy的广播规则，有可能会感到困惑\n",
    "- 如果遇到上述代码，也可不采用紧凑代码，而是分步骤计算"
   ]
  },
  {
   "cell_type": "code",
   "execution_count": 165,
   "metadata": {},
   "outputs": [
    {
     "data": {
      "text/plain": [
       "(10, 10, 2)"
      ]
     },
     "execution_count": 165,
     "metadata": {},
     "output_type": "execute_result"
    }
   ],
   "source": [
    "# 对于每一对点，获取坐标差值\n",
    "differences = X[:, np.newaxis, :] - X[np.newaxis, :, :]  #思考一下，什么含义呢\n",
    "differences.shape"
   ]
  },
  {
   "cell_type": "code",
   "execution_count": 166,
   "metadata": {},
   "outputs": [
    {
     "data": {
      "text/plain": [
       "array([[[ 0.        ,  0.        ],\n",
       "        [ 0.10141842, -0.10187838],\n",
       "        [ 0.20617771, -0.1456649 ],\n",
       "        [-0.27493173,  0.66424183],\n",
       "        [ 0.04127626,  0.20035342],\n",
       "        [-0.3476173 ,  0.00899571],\n",
       "        [-0.59992363,  0.2446527 ],\n",
       "        [ 0.28250533,  0.41597089],\n",
       "        [ 0.20205635, -0.15549394],\n",
       "        [ 0.1450865 ,  0.32452419]],\n",
       "\n",
       "       [[-0.10141842,  0.10187838],\n",
       "        [ 0.        ,  0.        ],\n",
       "        [ 0.10475929, -0.04378651],\n",
       "        [-0.37635015,  0.76612021],\n",
       "        [-0.06014216,  0.30223181],\n",
       "        [-0.44903572,  0.11087409],\n",
       "        [-0.70134205,  0.34653109],\n",
       "        [ 0.1810869 ,  0.51784928],\n",
       "        [ 0.10063793, -0.05361556],\n",
       "        [ 0.04366808,  0.42640258]],\n",
       "\n",
       "       [[-0.20617771,  0.1456649 ],\n",
       "        [-0.10475929,  0.04378651],\n",
       "        [ 0.        ,  0.        ],\n",
       "        [-0.48110944,  0.80990673],\n",
       "        [-0.16490145,  0.34601832],\n",
       "        [-0.55379502,  0.15466061],\n",
       "        [-0.80610134,  0.3903176 ],\n",
       "        [ 0.07632761,  0.56163579],\n",
       "        [-0.00412136, -0.00982905],\n",
       "        [-0.06109121,  0.47018909]],\n",
       "\n",
       "       [[ 0.27493173, -0.66424183],\n",
       "        [ 0.37635015, -0.76612021],\n",
       "        [ 0.48110944, -0.80990673],\n",
       "        [ 0.        ,  0.        ],\n",
       "        [ 0.31620799, -0.46388841],\n",
       "        [-0.07268557, -0.65524612],\n",
       "        [-0.3249919 , -0.41958912],\n",
       "        [ 0.55743705, -0.24827094],\n",
       "        [ 0.47698808, -0.81973577],\n",
       "        [ 0.42001823, -0.33971763]],\n",
       "\n",
       "       [[-0.04127626, -0.20035342],\n",
       "        [ 0.06014216, -0.30223181],\n",
       "        [ 0.16490145, -0.34601832],\n",
       "        [-0.31620799,  0.46388841],\n",
       "        [ 0.        ,  0.        ],\n",
       "        [-0.38889357, -0.19135772],\n",
       "        [-0.64119989,  0.04429928],\n",
       "        [ 0.24122906,  0.21561747],\n",
       "        [ 0.16078009, -0.35584737],\n",
       "        [ 0.10381024,  0.12417077]],\n",
       "\n",
       "       [[ 0.3476173 , -0.00899571],\n",
       "        [ 0.44903572, -0.11087409],\n",
       "        [ 0.55379502, -0.15466061],\n",
       "        [ 0.07268557,  0.65524612],\n",
       "        [ 0.38889357,  0.19135772],\n",
       "        [ 0.        ,  0.        ],\n",
       "        [-0.25230633,  0.235657  ],\n",
       "        [ 0.63012263,  0.40697519],\n",
       "        [ 0.54967366, -0.16448965],\n",
       "        [ 0.49270381,  0.31552849]],\n",
       "\n",
       "       [[ 0.59992363, -0.2446527 ],\n",
       "        [ 0.70134205, -0.34653109],\n",
       "        [ 0.80610134, -0.3903176 ],\n",
       "        [ 0.3249919 ,  0.41958912],\n",
       "        [ 0.64119989, -0.04429928],\n",
       "        [ 0.25230633, -0.235657  ],\n",
       "        [ 0.        ,  0.        ],\n",
       "        [ 0.88242895,  0.17131819],\n",
       "        [ 0.80197998, -0.40014665],\n",
       "        [ 0.74501013,  0.07987149]],\n",
       "\n",
       "       [[-0.28250533, -0.41597089],\n",
       "        [-0.1810869 , -0.51784928],\n",
       "        [-0.07632761, -0.56163579],\n",
       "        [-0.55743705,  0.24827094],\n",
       "        [-0.24122906, -0.21561747],\n",
       "        [-0.63012263, -0.40697519],\n",
       "        [-0.88242895, -0.17131819],\n",
       "        [ 0.        ,  0.        ],\n",
       "        [-0.08044897, -0.57146484],\n",
       "        [-0.13741882, -0.0914467 ]],\n",
       "\n",
       "       [[-0.20205635,  0.15549394],\n",
       "        [-0.10063793,  0.05361556],\n",
       "        [ 0.00412136,  0.00982905],\n",
       "        [-0.47698808,  0.81973577],\n",
       "        [-0.16078009,  0.35584737],\n",
       "        [-0.54967366,  0.16448965],\n",
       "        [-0.80197998,  0.40014665],\n",
       "        [ 0.08044897,  0.57146484],\n",
       "        [ 0.        ,  0.        ],\n",
       "        [-0.05696985,  0.48001814]],\n",
       "\n",
       "       [[-0.1450865 , -0.32452419],\n",
       "        [-0.04366808, -0.42640258],\n",
       "        [ 0.06109121, -0.47018909],\n",
       "        [-0.42001823,  0.33971763],\n",
       "        [-0.10381024, -0.12417077],\n",
       "        [-0.49270381, -0.31552849],\n",
       "        [-0.74501013, -0.07987149],\n",
       "        [ 0.13741882,  0.0914467 ],\n",
       "        [ 0.05696985, -0.48001814],\n",
       "        [ 0.        ,  0.        ]]])"
      ]
     },
     "execution_count": 166,
     "metadata": {},
     "output_type": "execute_result"
    }
   ],
   "source": [
    "differences"
   ]
  },
  {
   "cell_type": "code",
   "execution_count": 167,
   "metadata": {},
   "outputs": [
    {
     "data": {
      "text/plain": [
       "(10, 10, 2)"
      ]
     },
     "execution_count": 167,
     "metadata": {},
     "output_type": "execute_result"
    }
   ],
   "source": [
    "# square the coordinate differences\n",
    "sq_differences = differences ** 2\n",
    "sq_differences.shape"
   ]
  },
  {
   "cell_type": "code",
   "execution_count": 168,
   "metadata": {},
   "outputs": [
    {
     "data": {
      "text/plain": [
       "array([[0.00000000e+00, 2.06649018e-02, 6.37275125e-02, 5.16804662e-01,\n",
       "        4.18452243e-02, 1.20918711e-01, 4.19763303e-01, 2.52841044e-01,\n",
       "        6.50051370e-02, 1.26366047e-01],\n",
       "       [2.06649018e-02, 0.00000000e+00, 1.28917679e-02, 7.28579617e-01,\n",
       "        9.49611450e-02, 2.13926146e-01, 6.11964466e-01, 3.00960341e-01,\n",
       "        1.30026215e-02, 1.83726061e-01],\n",
       "       [6.37275125e-02, 1.28917679e-02, 0.00000000e+00, 8.87415201e-01,\n",
       "        1.46921167e-01, 3.30608823e-01, 8.02147203e-01, 3.21260666e-01,\n",
       "        1.13595754e-04, 2.24809919e-01],\n",
       "       [5.16804662e-01, 7.28579617e-01, 8.87415201e-01, 0.00000000e+00,\n",
       "        3.15179947e-01, 4.34630672e-01, 2.81674767e-01, 3.72374528e-01,\n",
       "        8.99484367e-01, 2.91823386e-01],\n",
       "       [4.18452243e-02, 9.49611450e-02, 1.46921167e-01, 3.15179947e-01,\n",
       "        0.00000000e+00, 1.87855981e-01, 4.13099727e-01, 1.04682354e-01,\n",
       "        1.52477586e-01, 2.61949463e-02],\n",
       "       [1.20918711e-01, 2.13926146e-01, 3.30608823e-01, 4.34630672e-01,\n",
       "        1.87855981e-01, 0.00000000e+00, 1.19192702e-01, 5.62683328e-01,\n",
       "        3.29197973e-01, 3.42315266e-01],\n",
       "       [4.19763303e-01, 6.11964466e-01, 8.02147203e-01, 2.81674767e-01,\n",
       "        4.13099727e-01, 1.19192702e-01, 0.00000000e+00, 8.08030780e-01,\n",
       "        8.03289230e-01, 5.61419550e-01],\n",
       "       [2.52841044e-01, 3.00960341e-01, 3.21260666e-01, 3.72374528e-01,\n",
       "        1.04682354e-01, 5.62683328e-01, 8.08030780e-01, 0.00000000e+00,\n",
       "        3.33044097e-01, 2.72464314e-02],\n",
       "       [6.50051370e-02, 1.30026215e-02, 1.13595754e-04, 8.99484367e-01,\n",
       "        1.52477586e-01, 3.29197973e-01, 8.03289230e-01, 3.33044097e-01,\n",
       "        0.00000000e+00, 2.33662977e-01],\n",
       "       [1.26366047e-01, 1.83726061e-01, 2.24809919e-01, 2.91823386e-01,\n",
       "        2.61949463e-02, 3.42315266e-01, 5.61419550e-01, 2.72464314e-02,\n",
       "        2.33662977e-01, 0.00000000e+00]])"
      ]
     },
     "execution_count": 168,
     "metadata": {},
     "output_type": "execute_result"
    }
   ],
   "source": [
    "# sum the coordinate differences to get the squared distance\n",
    "dist_sq = sq_differences.sum(axis=2)\n",
    "dist_sq"
   ]
  },
  {
   "cell_type": "markdown",
   "metadata": {},
   "source": [
    "#### 进行复查\n",
    "\n",
    "- 矩阵对角元素应该全为零（点到自身的距离）"
   ]
  },
  {
   "cell_type": "code",
   "execution_count": 169,
   "metadata": {},
   "outputs": [
    {
     "data": {
      "text/plain": [
       "array([0., 0., 0., 0., 0., 0., 0., 0., 0., 0.])"
      ]
     },
     "execution_count": 169,
     "metadata": {},
     "output_type": "execute_result"
    }
   ],
   "source": [
    "dist_sq.diagonal()"
   ]
  },
  {
   "cell_type": "markdown",
   "metadata": {},
   "source": [
    "检查后！\n",
    "\n",
    "- 使用``np.argsort``对每行排序\n",
    "- 最左边的列将给出最近邻的索引"
   ]
  },
  {
   "cell_type": "code",
   "execution_count": 170,
   "metadata": {},
   "outputs": [
    {
     "name": "stdout",
     "output_type": "stream",
     "text": [
      "[[0 1 4 2 8 5 9 7 6 3]\n",
      " [1 2 8 0 4 9 5 7 6 3]\n",
      " [2 8 1 0 4 9 7 5 6 3]\n",
      " [3 6 9 4 7 5 0 1 2 8]\n",
      " [4 9 0 1 7 2 8 5 3 6]\n",
      " [5 6 0 4 1 8 2 9 3 7]\n",
      " [6 5 3 4 0 9 1 2 8 7]\n",
      " [7 9 4 0 1 2 8 3 5 6]\n",
      " [8 2 1 0 4 9 5 7 6 3]\n",
      " [9 4 7 0 1 2 8 3 5 6]]\n"
     ]
    }
   ],
   "source": [
    "nearest = np.argsort(dist_sq, axis=1)  #按照行排序，由小到大，并输出序号\n",
    "print(nearest)"
   ]
  },
  {
   "cell_type": "markdown",
   "metadata": {},
   "source": [
    "#### 注意到\n",
    "\n",
    "- 第一列依次给出了0到9，这是因为每个点最近的邻居是自己\n",
    "- 如果使用完全排序，我们就做了多余的工作\n",
    "- 如果只是对最近的 $k$ 邻居有兴趣，需要做的是对每行分区，并得到最小的 $k+1$ 个平方距离\n",
    "- 使用``np.argpartition``函数\n",
    "    - 在快排算法中，有一个典型的操作：partition。这个操作指：根据一个数值x，把数组中的元素划分成两半，使得index前面的元素都不大于x，index后面的元素都不小于x。\n",
    "    - numpy中的argpartition()函数就是起的这个作用。对于传入的数组a，先用O(n)复杂度求出第k大的数字，然后利用这个第k大的数字将数组a划分成两半。\n",
    "    - 此函数不对原数组进行操作，它只返回分区之后的下标。一般numpy中以arg开头的函数都是返回下标而不改变原数组。"
   ]
  },
  {
   "cell_type": "code",
   "execution_count": 171,
   "metadata": {},
   "outputs": [
    {
     "data": {
      "text/plain": [
       "array([[1, 0, 4, 2, 8, 5, 9, 7, 6, 3],\n",
       "       [2, 1, 8, 0, 4, 5, 6, 7, 3, 9],\n",
       "       [2, 8, 1, 0, 4, 5, 6, 7, 3, 9],\n",
       "       [3, 9, 6, 4, 1, 5, 2, 7, 8, 0],\n",
       "       [4, 9, 0, 1, 7, 2, 6, 3, 8, 5],\n",
       "       [5, 0, 6, 4, 1, 3, 2, 7, 8, 9],\n",
       "       [6, 5, 3, 4, 0, 1, 2, 7, 8, 9],\n",
       "       [7, 9, 4, 0, 1, 8, 2, 3, 5, 6],\n",
       "       [2, 8, 1, 0, 4, 5, 6, 7, 3, 9],\n",
       "       [9, 4, 7, 0, 1, 2, 6, 3, 8, 5]], dtype=int64)"
      ]
     },
     "execution_count": 171,
     "metadata": {},
     "output_type": "execute_result"
    }
   ],
   "source": [
    "K = 2\n",
    "nearest_partition = np.argpartition(dist_sq, K + 1, axis=1)\n",
    "nearest_partition #前面3个"
   ]
  },
  {
   "cell_type": "markdown",
   "metadata": {},
   "source": [
    "#### 可视化邻居网络\n",
    "\n",
    "- 画出所有点\n",
    "- 画出各点最近的2个邻居及连线"
   ]
  },
  {
   "cell_type": "code",
   "execution_count": 173,
   "metadata": {},
   "outputs": [
    {
     "data": {
      "image/png": "[encoded data removed]",
      "text/plain": [
       "<Figure size 432x288 with 1 Axes>"
      ]
     },
     "metadata": {},
     "output_type": "display_data"
    }
   ],
   "source": [
    "plt.scatter(X[:, 0], X[:, 1], s=100)\n",
    "\n",
    "# draw lines from each point to its two nearest neighbors\n",
    "K = 3\n",
    "\n",
    "for i in range(X.shape[0]):\n",
    "    for j in nearest_partition[i, :K+1]:\n",
    "        plt.plot(*zip(X[j], X[i]), color='black')\n",
    "        plt.axis('equal')\n",
    "        ##plt.plot(X[j], X[i], color = 'black')"
   ]
  },
  {
   "cell_type": "code",
   "execution_count": null,
   "metadata": {},
   "outputs": [],
   "source": []
  },
  {
   "cell_type": "markdown",
   "metadata": {},
   "source": [
    "#### 观察上图\n",
    "\n",
    "- 每个点都有若干条线连到它最近的邻居\n",
    "\n",
    "初看发现\n",
    "\n",
    "- 有些点的连线不止两条，这是合理的，因为即使点A是点B的近邻，并不一定点B是点A的近邻\n",
    "\n",
    "广播和行排序与循环相比，看起来并不直观，但却是非常有效率的操作方式\n",
    "\n",
    "如果进行人工循环，将会降低算法的效率\n",
    "\n",
    "最后，如果进行非常大量的最近邻居搜索，有3种逼近方法，能达到$\\mathcal{O}[N\\log N]$甚至更好的阶次，而不是brute-force算法的$\\mathcal{O}[N^2]$阶，例如 KD-Tree，在[Scikit-learn](http://scikit-learn.org/stable/modules/generated/sklearn.neighbors.KDTree.html)中实现。"
   ]
  },
  {
   "cell_type": "code",
   "execution_count": null,
   "metadata": {},
   "outputs": [],
   "source": [
    "## 利用numpy画一个立方体"
   ]
  },
  {
   "cell_type": "code",
   "execution_count": 174,
   "metadata": {},
   "outputs": [
    {
     "data": {
      "image/png": "[encoded data removed]",
      "text/plain": [
       "<Figure size 432x288 with 1 Axes>"
      ]
     },
     "metadata": {},
     "output_type": "display_data"
    }
   ],
   "source": [
    "from mpl_toolkits.mplot3d import Axes3D\n",
    "import matplotlib.pyplot as plt\n",
    "import numpy as np\n",
    "from itertools import product, combinations\n",
    "\n",
    "fig = plt.figure()\n",
    "ax = fig.gca(projection='3d')\n",
    "#ax.set_aspect(\"equal\")\n",
    "\n",
    "# draw cube\n",
    "r = [-5, 5]\n",
    "for s, e in combinations(np.array(list(product(r, r, r))), 2):\n",
    "    if np.sum(np.abs(s-e)) == r[1]-r[0]:  #什么含义\n",
    "        ax.plot3D(*zip(s, e), color=\"b\")\n",
    "#list(product(r, r, r))"
   ]
  },
  {
   "cell_type": "code",
   "execution_count": null,
   "metadata": {},
   "outputs": [],
   "source": [
    "#list(combinations(np.array(list(product(r, r, r))), 2))"
   ]
  },
  {
   "cell_type": "markdown",
   "metadata": {},
   "source": [
    "[返回目录](#mulu)"
   ]
  },
  {
   "cell_type": "markdown",
   "metadata": {},
   "source": [
    "## <font size=5><span id=\"12.10\"> 12.10 NumPy的结构化数据</span></font>"
   ]
  },
  {
   "cell_type": "markdown",
   "metadata": {},
   "source": [
    "### 12.10.1 引言\n",
    "\n",
    "- 问题 —— NumPy 处理结构化数据（混合、异质）\n",
    "\n",
    "    - 结构化数组\n",
    "    - 记录数组\n",
    "\n",
    "\n",
    "- 参考 —— Pandas 数据\n",
    "\n",
    "    - Dataframe\n",
    "    - TimeSeries"
   ]
  },
  {
   "cell_type": "code",
   "execution_count": null,
   "metadata": {},
   "outputs": [],
   "source": [
    "import numpy as np"
   ]
  },
  {
   "cell_type": "markdown",
   "metadata": {},
   "source": [
    "### 12.10.2  实例 —— 关于人的多种类数据\n",
    "- 属性\n",
    "    - 姓名\n",
    "    - 年龄\n",
    "    - 体重\n",
    "\n",
    "\n",
    "- 创建数组\n",
    "    - 可采用三个不同的数组"
   ]
  },
  {
   "cell_type": "code",
   "execution_count": 175,
   "metadata": {},
   "outputs": [],
   "source": [
    "name = ['Alice', 'Bob', 'Cathy', 'Doug']\n",
    "age = [25, 45, 37, 19]\n",
    "weight = [55.0, 85.5, 68.0, 61.5]"
   ]
  },
  {
   "cell_type": "markdown",
   "metadata": {},
   "source": [
    "#### 评价\n",
    "\n",
    "- 上述方式 —— 笨拙，三个数组缺少关联\n",
    "- 改进方式 —— 用一个结构存贮所有数据"
   ]
  },
  {
   "cell_type": "markdown",
   "metadata": {},
   "source": [
    "#### NumPy 提供的结构化类型\n",
    "\n",
    "- 专门用于复合型数据"
   ]
  },
  {
   "cell_type": "markdown",
   "metadata": {},
   "source": [
    "#### 注意下例中的 ``dtype``"
   ]
  },
  {
   "cell_type": "code",
   "execution_count": null,
   "metadata": {},
   "outputs": [],
   "source": [
    "x = np.zeros(4, dtype=int)\n",
    "x"
   ]
  },
  {
   "cell_type": "markdown",
   "metadata": {},
   "source": [
    "#### 使用复合数据类型\n",
    "\n",
    "- 创建结构化数组\n",
    "- 注意 zeros 函数的作用"
   ]
  },
  {
   "cell_type": "code",
   "execution_count": 176,
   "metadata": {},
   "outputs": [
    {
     "name": "stdout",
     "output_type": "stream",
     "text": [
      "data.dtype\n",
      " [('name', '<U10'), ('age', '<i4'), ('weight', '<f8')]\n",
      "data\n",
      " [('', 0, 0.) ('', 0, 0.) ('', 0, 0.) ('', 0, 0.)]\n"
     ]
    }
   ],
   "source": [
    "data = np.zeros(4, dtype={'names':('name', 'age', 'weight'),\n",
    "                          'formats':('U10', 'i4', 'f8')})\n",
    "print(\"data.dtype\\n\", data.dtype)\n",
    "print(\"data\\n\",data)"
   ]
  },
  {
   "cell_type": "markdown",
   "metadata": {},
   "source": [
    "#### 说明 —— 数据结构\n",
    "\n",
    "- ``'U10'`` 指“最大长度10的 Unicode 字符串”\n",
    "- ``'i4'`` 指“4字节（即32位）整数”\n",
    "- ``'f8'`` 指“8字节（即64位）浮点数”\n",
    "\n",
    "现在创建了一空容器数组，可以用列表来填充数组"
   ]
  },
  {
   "cell_type": "code",
   "execution_count": 177,
   "metadata": {},
   "outputs": [
    {
     "name": "stdout",
     "output_type": "stream",
     "text": [
      "data\n",
      " [('Alice', 25, 55. ) ('Bob', 45, 85.5) ('Cathy', 37, 68. )\n",
      " ('Doug', 19, 61.5)]\n"
     ]
    }
   ],
   "source": [
    "data['name'] = name\n",
    "data['age'] = age\n",
    "data['weight'] = weight\n",
    "\n",
    "print(\"data\\n\", data)"
   ]
  },
  {
   "cell_type": "code",
   "execution_count": 178,
   "metadata": {},
   "outputs": [
    {
     "data": {
      "text/plain": [
       "(4,)"
      ]
     },
     "execution_count": 178,
     "metadata": {},
     "output_type": "execute_result"
    }
   ],
   "source": [
    "data.shape"
   ]
  },
  {
   "cell_type": "markdown",
   "metadata": {},
   "source": [
    "#### 复合之后\n",
    "\n",
    "- 数据现在整合在了一起\n",
    "- 结构化数组使得可以通过索引或名称来引用元素值"
   ]
  },
  {
   "cell_type": "code",
   "execution_count": 179,
   "metadata": {},
   "outputs": [
    {
     "data": {
      "text/plain": [
       "array(['Alice', 'Bob', 'Cathy', 'Doug'], dtype='<U10')"
      ]
     },
     "execution_count": 179,
     "metadata": {},
     "output_type": "execute_result"
    }
   ],
   "source": [
    "# 获得所有名称\n",
    "data['name']"
   ]
  },
  {
   "cell_type": "code",
   "execution_count": null,
   "metadata": {},
   "outputs": [],
   "source": [
    "# 获得首条数据(记录)\n",
    "data[0]"
   ]
  },
  {
   "cell_type": "code",
   "execution_count": null,
   "metadata": {},
   "outputs": [],
   "source": [
    "# 获得末行名称\n",
    "data[-1]['name']"
   ]
  },
  {
   "cell_type": "code",
   "execution_count": null,
   "metadata": {},
   "outputs": [],
   "source": []
  },
  {
   "cell_type": "markdown",
   "metadata": {},
   "source": [
    "#### 布尔掩码 —— 更复杂的操作\n",
    "\n",
    "- 如过滤等"
   ]
  },
  {
   "cell_type": "code",
   "execution_count": 180,
   "metadata": {},
   "outputs": [
    {
     "data": {
      "text/plain": [
       "array(['Alice', 'Doug'], dtype='<U10')"
      ]
     },
     "execution_count": 180,
     "metadata": {},
     "output_type": "execute_result"
    }
   ],
   "source": [
    "# 获得年龄小于 30 的人名\n",
    "data[data['age'] < 30]['name']"
   ]
  },
  {
   "cell_type": "markdown",
   "metadata": {},
   "source": [
    "### 12.10.3 与 Pandas 相结合\n",
    "\n",
    "- 考虑使用 Pandas 包\n",
    "- Pandas 的 ``Dataframe`` 对象"
   ]
  },
  {
   "cell_type": "markdown",
   "metadata": {},
   "source": [
    "#### 创建结构化数组\n",
    "\n",
    "结构化数组的数据类型可有许多方式来指定\n",
    "\n",
    "- 字典方法(早期用)"
   ]
  },
  {
   "cell_type": "code",
   "execution_count": null,
   "metadata": {},
   "outputs": [],
   "source": [
    "np.dtype({'names':('name', 'age', 'weight'),\n",
    "          'formats':('U10', 'i4', 'f8')})"
   ]
  },
  {
   "cell_type": "markdown",
   "metadata": {},
   "source": [
    "#### 使用``dtype``关键字\n",
    "\n",
    "为了表述清楚，数值类型可采用\n",
    "\n",
    "- Python 类型\n",
    "\n",
    "或\n",
    "\n",
    "- NumPy 的``dtype``类型\n",
    "\n",
    "来指明"
   ]
  },
  {
   "cell_type": "code",
   "execution_count": null,
   "metadata": {},
   "outputs": [],
   "source": [
    "np.dtype({'names':('name', 'age', 'weight'),\n",
    "          'formats':((np.str_, 10), int, np.float32)})"
   ]
  },
  {
   "cell_type": "markdown",
   "metadata": {},
   "source": [
    "- 元组列表 —— 指定复合类型"
   ]
  },
  {
   "cell_type": "code",
   "execution_count": null,
   "metadata": {},
   "outputs": [],
   "source": [
    "np.dtype([('name', 'S10'), ('age', 'i4'), ('weight', 'f8')])"
   ]
  },
  {
   "cell_type": "markdown",
   "metadata": {},
   "source": [
    "- 逗号分隔的字符串 —— 指定复合类型"
   ]
  },
  {
   "cell_type": "code",
   "execution_count": null,
   "metadata": {},
   "outputs": [],
   "source": [
    "np.dtype('S10,i4,f8')"
   ]
  },
  {
   "cell_type": "markdown",
   "metadata": {},
   "source": [
    "### 12.10.4 数据类型定义的原则\n",
    "\n",
    "缩短了的字符格式代码容易引起困惑，不过总有一些原则遵循\n",
    "\n",
    "- 第一个（可选）字符是``<``或``>``，分别表示\"little endian\"或\"big endian\"\n",
    "- 下一个字符指定数据类型：字符、字节、整型、浮点型等（见下表）\n",
    "- 最后一个（或多个）字符表示对象占用的字节数\n",
    "\n",
    "| 字符        | 描述           | 示例                             |\n",
    "| ---------        | -----------           | -------                             | \n",
    "| ``'b'``          | Byte                  | ``np.dtype('b')``                   |\n",
    "| ``'i'``          | Signed integer        | ``np.dtype('i4') == np.int32``      |\n",
    "| ``'u'``          | Unsigned integer      | ``np.dtype('u1') == np.uint8``      |\n",
    "| ``'f'``          | Floating point        | ``np.dtype('f8') == np.int64``      |\n",
    "| ``'c'``          | Complex floating point| ``np.dtype('c16') == np.complex128``|\n",
    "| ``'S'``, ``'a'`` | String                | ``np.dtype('S5')``                  |\n",
    "| ``'U'``          | Unicode string        | ``np.dtype('U') == np.str_``        |\n",
    "| ``'V'``          | Raw data (void)       | ``np.dtype('V') == np.void``        |"
   ]
  },
  {
   "cell_type": "markdown",
   "metadata": {},
   "source": [
    "### 12.10.5 更高级的复合类型\n",
    "\n",
    "- 有可能定义更高级的复合类型，如某复合类型的每个元素是一个数组或矩阵\n",
    "\n",
    "如下例，创建一个带``mat``组件由$3\\times 3$浮点矩阵构成的数据类型"
   ]
  },
  {
   "cell_type": "code",
   "execution_count": null,
   "metadata": {},
   "outputs": [],
   "source": [
    "tp = np.dtype([('id', 'i8'), ('mat', 'f8', (3, 3))]) #id  mat两个数据\n",
    "X = np.zeros(2, dtype=tp)\n",
    "print(X[0])\n",
    "print(X['mat'][0])"
   ]
  },
  {
   "cell_type": "code",
   "execution_count": null,
   "metadata": {},
   "outputs": [],
   "source": [
    "tp"
   ]
  },
  {
   "cell_type": "code",
   "execution_count": null,
   "metadata": {},
   "outputs": [],
   "source": [
    "X"
   ]
  },
  {
   "cell_type": "markdown",
   "metadata": {},
   "source": [
    "#### ``X``数组每一元素的组成成份\n",
    "\n",
    "- ``id``，8位整型\n",
    "- ``mat``，$3\\times 3$ 矩阵\n",
    "\n",
    "#### 为什么这样定义？\n",
    "\n",
    "- NumPy 的 ``dtype`` 直接映射成 C 语言结构定义\n",
    "- 便于通过恰当编写的 C 程序直接访问"
   ]
  },
  {
   "cell_type": "markdown",
   "metadata": {},
   "source": [
    "[返回目录](#mulu)"
   ]
  },
  {
   "cell_type": "code",
   "execution_count": 183,
   "metadata": {},
   "outputs": [
    {
     "name": "stdout",
     "output_type": "stream",
     "text": [
      "[[ 1 16  4 15 14 17]\n",
      " [ 8  5  6 14  0  0]\n",
      " [ 3 16  4 14 17 12]\n",
      " [19  1  3 14 17 16]\n",
      " [ 6 17  5 12 15 13]]\n"
     ]
    },
    {
     "data": {
      "text/plain": [
       "array([[19,  1,  3, 14, 17, 16],\n",
       "       [ 8,  5,  6, 14,  0,  0],\n",
       "       [ 1, 16,  4, 15, 14, 17],\n",
       "       [ 3, 16,  4, 14, 17, 12],\n",
       "       [ 6, 17,  5, 12, 15, 13]])"
      ]
     },
     "execution_count": 183,
     "metadata": {},
     "output_type": "execute_result"
    }
   ],
   "source": [
    "#练习1：如何根据第i列排序\n",
    "sample = np.random.randint(0, 20, (5, 6))\n",
    "print(sample)\n",
    "#np.argsort(sample, axis=0)\n",
    "sample[sample[:, 1].argsort()]\n"
   ]
  },
  {
   "cell_type": "code",
   "execution_count": null,
   "metadata": {},
   "outputs": [],
   "source": [
    "!type pys\\ch12_exe01.py"
   ]
  },
  {
   "cell_type": "code",
   "execution_count": 181,
   "metadata": {},
   "outputs": [
    {
     "data": {
      "text/plain": [
       "array([1, 0, 0, 0, 2, 0, 0, 0, 3, 0, 0, 0, 4, 0, 0, 0, 5])"
      ]
     },
     "execution_count": 181,
     "metadata": {},
     "output_type": "execute_result"
    }
   ],
   "source": [
    "#练习2 将向量[1，2，3，4，5]，元素中间插入3个0，形成新的数组\n",
    "sample = np.array([1,2,3,4,5])\n",
    "result = np.zeros ((sample.size-1)*4+1,dtype=np.int)\n",
    "result[0::4] = sample\n",
    "result\n",
    "\n",
    "\n",
    "\n"
   ]
  },
  {
   "cell_type": "code",
   "execution_count": null,
   "metadata": {},
   "outputs": [],
   "source": [
    "!type pys\\ch12_exe02.py"
   ]
  },
  {
   "cell_type": "code",
   "execution_count": null,
   "metadata": {},
   "outputs": [],
   "source": [
    "# 练习3：找3个点，使得此三点构成的三角形面积最大\n",
    "import numpy as np\n",
    "X = np.random.random((10, 2))\n",
    "X\n",
    "\n",
    "\n",
    "\n",
    "\n",
    "\n",
    "\n",
    "\n"
   ]
  },
  {
   "cell_type": "code",
   "execution_count": null,
   "metadata": {},
   "outputs": [],
   "source": [
    "triangle = []\n",
    "for i in range(X.shape[0]):\n",
    "    for j in range(i,X.shape[0]):\n",
    "        for k in range(j,X.shape[0]):\n",
    "            triangle.append([i, j, k])\n",
    "triangle = np.array(triangle)\n",
    "triangle\n",
    "s1 = ((X[triangle[:,0],0] - X[triangle[:,1],0])**2 + (X[triangle[:,0],1] - X[triangle[:,1],1])**2)**0.5\n",
    "s2 = ((X[triangle[:,0],0] - X[triangle[:,2],0])**2 + (X[triangle[:,0],1] - X[triangle[:,2],1])**2)**0.5\n",
    "s3 = ((X[triangle[:,2],0] - X[triangle[:,1],0])**2 + (X[triangle[:,2],1] - X[triangle[:,1],1])**2)**0.5\n",
    "s = (s1 + s2 + s3)/2\n",
    "area = ((s-s1)*(s-s2)*(s-s3)*s)**0.5\n",
    "triangle_area = np.hstack([area[:,np.newaxis], triangle])\n",
    "#data\n",
    "triangle.shape, triangle_area.shape"
   ]
  },
  {
   "cell_type": "code",
   "execution_count": null,
   "metadata": {},
   "outputs": [],
   "source": []
  },
  {
   "cell_type": "code",
   "execution_count": null,
   "metadata": {},
   "outputs": [],
   "source": [
    "areamax, ni,nj,nk = triangle_area[np.argmax(area, axis=0),:]\n",
    "ni,nj,nk\n",
    "tri_node =np.zeros(4,dtype=int)\n",
    "tri_node[:] = [ni,nj,nk,ni]\n",
    "tri_node"
   ]
  },
  {
   "cell_type": "code",
   "execution_count": null,
   "metadata": {},
   "outputs": [],
   "source": [
    "plt.scatter(X[:, 0], X[:, 1], s=100)\n",
    "Xtri = X[tri_node,:]\n",
    "plt.plot(Xtri[:,0],Xtri[:,1], color='black')       "
   ]
  },
  {
   "cell_type": "code",
   "execution_count": null,
   "metadata": {},
   "outputs": [],
   "source": []
  },
  {
   "cell_type": "code",
   "execution_count": null,
   "metadata": {},
   "outputs": [],
   "source": [
    "triangle = []\n",
    "for i in range(X.shape[0]):\n",
    "    for j in range(X.shape[0]):\n",
    "        for k in range(X.shape[0]):\n",
    "            if i!=j and j!=k and i!=k:\n",
    "                triangle.append([i, j, k])\n",
    "triangle = np.array(triangle)\n",
    "triangle\n",
    "s1 = ((X[triangle[:,0],0] - X[triangle[:,1],0])**2 + (X[triangle[:,0],1] - X[triangle[:,1],1])**2)**0.5\n",
    "s2 = ((X[triangle[:,0],0] - X[triangle[:,2],0])**2 + (X[triangle[:,0],1] - X[triangle[:,2],1])**2)**0.5\n",
    "s3 = ((X[triangle[:,2],0] - X[triangle[:,1],0])**2 + (X[triangle[:,2],1] - X[triangle[:,1],1])**2)**0.5\n",
    "s = (s1 + s2 + s3)/2\n",
    "area = ((s-s1)*(s-s2)*(s-s3)*s)**0.5\n",
    "triangle_area = np.hstack([area[:,np.newaxis], triangle])\n",
    "#data\n",
    "triangle.shape, triangle_area.shape"
   ]
  },
  {
   "cell_type": "code",
   "execution_count": null,
   "metadata": {},
   "outputs": [],
   "source": []
  }
 ],
 "metadata": {
  "anaconda-cloud": {},
  "kernelspec": {
   "display_name": "Python 3 (ipykernel)",
   "language": "python",
   "name": "python3"
  },
  "language_info": {
   "codemirror_mode": {
    "name": "ipython",
    "version": 3
   },
   "file_extension": ".py",
   "mimetype": "text/x-python",
   "name": "python",
   "nbconvert_exporter": "python",
   "pygments_lexer": "ipython3",
   "version": "3.11.3"
  },
  "toc-autonumbering": false,
  "toc-showtags": false
 },
 "nbformat": 4,
 "nbformat_minor": 4
}
