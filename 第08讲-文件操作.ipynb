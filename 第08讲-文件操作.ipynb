{
 "cells": [
  {
   "cell_type": "markdown",
   "metadata": {},
   "source": [
    "***"
   ]
  },
  {
   "cell_type": "markdown",
   "metadata": {},
   "source": [
    "<span id=\"mulu\"><font face=\"黑体\" size=6>本章目录</font></span>\n",
    "* [第八讲 文件](8)\n",
    "    * [8.1 文件操作](#8.1)\n",
    "        * [8.1.1 打开文件函数 — open](#8.1.1)    \n",
    "        * [8.1.2 打开文件的模式—参数 mode](#8.1.2)    \n",
    "        * [8.1.3 文件对象的常用操作方法](#8.1.3)    \n",
    "        * [8.1.4 文件的关闭](#8.1.4)    \n",
    "        * [8.1.5 文件的指针操作](#8.1.5)    \n",
    "        * [8.1.6 文件的写入](#8.1.6)    \n",
    "        * [8.1.7 with open as 文件打开方式](#8.1.7)    \n",
    "    * [8.2 csv 模块—用于文件操作](#8.2)\n",
    "        * [8.2.1 csv 文件读操作](#8.2.1)    \n",
    "        * [8.2.2 csv 文件写操作](#8.2.2)    \n",
    "        * [8.2.3 制作 Bar Chart Race](#8.2.3)  \n",
    "    * [8.3 二进制文件读取（pickle模块）](#8.3)\n",
    "    * [8.4 扩展学习—其它读取模块（自学）](#8.4)"
   ]
  },
  {
   "cell_type": "markdown",
   "metadata": {},
   "source": [
    "***"
   ]
  },
  {
   "cell_type": "markdown",
   "metadata": {},
   "source": [
    "## <font size=5><span id=\"8.1\"> 8.1 文件操作</span></font>"
   ]
  },
  {
   "cell_type": "markdown",
   "metadata": {},
   "source": [
    "### <font size=4><span id=\"8.1.1\"> 8.1.1 打开文件函数 — open</span></font>  \n",
    "\n",
    "- 语法\n",
    "```python\n",
    "# 常用方式\n",
    ">>> file_stream = open(file, mode)\n",
    "# 函数原型\n",
    ">>> file_stream = open(file, mode='r',\n",
    "                    buffering=-1, encoding=None, errors=None,\n",
    "                    newline=None, closefd=True, opener=None)\n",
    "```\n",
    "\n",
    "\n",
    "- 功能 —— 打开文件\n",
    "    - 如果打开成功，则返回文件流对象\n",
    "    - 如果打开失败，则抛出 OSError 异常\n",
    "\n",
    "\n",
    "- 参数\n",
    "    - file 文本或字符串，给定待打开的文件名，或文件号\n",
    "    - mode 指定打开模式，缺省值为 r，表示以只读文本方式打开\n",
    "    - encoding 指定编码方式，缺省值与平台有关，任何 python 支持的编码方式都可传入。详见 codecs 模块\n",
    "\n",
    "\n",
    "- 返回值 —— 文件流（stream）对象"
   ]
  },
  {
   "cell_type": "markdown",
   "metadata": {},
   "source": [
    "### <font size=4><span id=\"8.1.2\"> 8.1.2 打开文件的模式 — 参数 mode</span></font>  \n",
    "\n",
    "\n",
    "- 记忆要点\n",
    "    - r —— read 读\n",
    "    - w —— write 写\n",
    "    - a —— append 添\n",
    "    - \\+ —— 可读写\n",
    "    - b —— binary 二进制"
   ]
  },
  {
   "cell_type": "markdown",
   "metadata": {},
   "source": [
    "#### (1) 打开文件的访问模式\n",
    "\n",
    "<table>\n",
    "<thead>\n",
    "    <tr><th style='text-align:center;' ><strong>访问模式</strong></th><th><strong>说明</strong></th></tr>\n",
    "</thead>\n",
    "<tbody>\n",
    "    <tr><td style='text-align:center;' >r</td><td>以只读方式打开文件。文件的指针将会放在文件的开头。这是默认模式。</td></tr>\n",
    "    <tr><td style='text-align:center;' >w</td><td>打开一个文件只用于写入。<font color=\"red\">如果该文件已存在则将其覆盖</font>。如果该文件不存在，创建新文件。</td></tr>\n",
    "    <tr><td style='text-align:center;' >x</td><td>创建一个新文件，并以写入模式将其打开。</td></tr>\n",
    "    <tr><td style='text-align:center;' >a</td><td>打开文件用于追加。若已存在，指针置于尾部，新内容添加在后。若不存在，创建新文件进行写入。</td></tr>\n",
    "    <tr><td style='text-align:center;' >b</td><td>以二进制模式打开。</td></tr>\n",
    "    <tr><td style='text-align:center;' >t</td><td>以文本模式打开（缺省模式）。</td></tr>\n",
    "    <tr><td style='text-align:center;' >+</td><td>打开文件用于更新，读或写。</td></tr>\n",
    "    <tr><td style='text-align:center;' >U</td><td>以通用新行(newline)模式打开文件(未来将弃用)。</td></tr>\n",
    "</tbody>\n",
    "</table>"
   ]
  },
  {
   "cell_type": "markdown",
   "metadata": {},
   "source": [
    "#### (2) 打开文件的组合模式"
   ]
  },
  {
   "cell_type": "markdown",
   "metadata": {},
   "source": [
    "<table>\n",
    "<thead>\n",
    "    <tr><th style='text-align:center;' ><strong>组合模式</strong></th><th><strong>说明</strong></th></tr>\n",
    "</thead>\n",
    "<tbody>\n",
    "<tr><td style='text-align:center;' >rb</td><td>以二进制只读模式打开文件，指针置于开头，默认模式。</td></tr>\n",
    "    <tr><td style='text-align:center;' >wb</td><td>以二进制写入模式打开文件，若已存在则覆盖，若不存在，则建新文件。</td></tr>\n",
    "    <tr><td style='text-align:center;' >ab</td><td>以二进制追加模式打开文件，若已存在，指针置于结尾，新内容写入在后；若不存在，建新文件进行写入。</td></tr>\n",
    "    <tr><td style='text-align:center;' >r+</td><td>以读写模式打开文件，指针置于开头。</td></tr>\n",
    "    <tr><td style='text-align:center;' >w+</td><td>以读写模式打开文件，若已存在则覆盖，若不存在，创建新文件。</td></tr>\n",
    "    <tr><td style='text-align:center;' >a+</td><td>以追加模式打开文件，若已存在，指针置于结尾；若不存在，创建新文件用于读写。</td></tr>\n",
    "    <tr><td style='text-align:center;' >rb+</td><td>以二进制读写模式打开文件，指针置于开头。</td></tr>\n",
    "    <tr><td style='text-align:center;' >wb+</td><td>以二进制读写模式打开文件，若已存在则覆盖；若不存在，创建新文件。</td></tr>\n",
    "    <tr><td style='text-align:center;' >ab+</td><td>以二进制追加模式打开文件，若已存在，指针置于结尾；若不存在，创建新文件用于读写。</td></tr>\n",
    "</tbody>\n",
    "</table>"
   ]
  },
  {
   "cell_type": "markdown",
   "metadata": {},
   "source": [
    "#### 查看文本文件\n",
    "\n",
    "\n",
    "- files\\chapter08\\ENPoem.txt\n",
    "- files\\chapter08\\CNPoem.txt"
   ]
  },
  {
   "cell_type": "code",
   "execution_count": null,
   "metadata": {},
   "outputs": [],
   "source": [
    "# DOS 命令查看\n",
    "!type files\\chapter08\\ENPoem.txt"
   ]
  },
  {
   "cell_type": "code",
   "execution_count": null,
   "metadata": {},
   "outputs": [],
   "source": [
    "# DOS 命令查看，注意到乱码 (utf8)\n",
    "!type files\\chapter08\\CNPoem.txt"
   ]
  },
  {
   "cell_type": "markdown",
   "metadata": {},
   "source": [
    " #### UTF编码\n",
    "<img src = \"images\\chapter08\\utf.jpg\" width = 500>"
   ]
  },
  {
   "cell_type": "markdown",
   "metadata": {},
   "source": [
    "- ANSI\n",
    "    - ANSI是一种字符代码，为使计算机支持更多语言，通常使用 0x00~0x7f 范围的1 个字节来表示 1 个英文字符。\n",
    "    - 超出此范围的使用0x80~0xFFFF来编码，即扩展的ASCII编码。\n",
    "    - 比如：汉字 '中' 在中文操作系统中，使用 [0xD6,0xD0] 这两个字节存储。\n",
    "    - 不同的国家和地区制定了不同的标准，由此产生了 GB2312、GBK、GB18030、Big5、Shift_JIS 等各自的编码标准。\n",
    "    - 这些使用多个字节来代表一个字符的各种汉字延伸编码方式，称为 ANSI 编码。\n",
    "- UTF-8\n",
    "    - 一种可变长度字符编码\n",
    "    - 可以用来表示Unicode标准中的任何字符，而且其编码中的第一个字节仍与ASCII相容，使得原来处理ASCII字符的软件无须或只进行少部分修改后，便可继续使用。\n",
    "    - 成为电子邮件、网页及其他存储或传送文字的应用中，优先采用的编码。"
   ]
  },
  {
   "cell_type": "markdown",
   "metadata": {},
   "source": [
    "<img src=\"images\\chapter08\\encodeing.png\">"
   ]
  },
  {
   "cell_type": "markdown",
   "metadata": {},
   "source": [
    "<img src=\"images\\chapter08\\ASCII_utf8_unicode.jpg\">"
   ]
  },
  {
   "cell_type": "markdown",
   "metadata": {},
   "source": [
    "|char|\tANSI(GBK)|\tANSI(Big5)\t|ANSI(JIS)|\tUnicode\tUTF-8|\n",
    "|-|-|-|-|-|\n",
    "|文\t|0xCEC4|\t0xA4E5|\t0x95B6|\t0x6587|\t0xE69687|\n",
    "\n",
    "- 可以看出，不同ANSI编码之间互不兼容，当信息在国际间交流时，无法将属于两种语言的文字，存储在同一段ANSI编码的文本中。需要将不同的ANSI编码都转换成UTF-8编码，进而存储。"
   ]
  },
  {
   "cell_type": "code",
   "execution_count": null,
   "metadata": {},
   "outputs": [],
   "source": [
    "# 只读模式打开，返回文件流对象\n",
    "file = open(\"files/chapter08/ENPoem.txt\", mode='r')\n",
    "file"
   ]
  },
  {
   "cell_type": "code",
   "execution_count": null,
   "metadata": {},
   "outputs": [],
   "source": [
    "# 文件名\n",
    "file.name"
   ]
  },
  {
   "cell_type": "code",
   "execution_count": null,
   "metadata": {},
   "outputs": [],
   "source": [
    "# 文件是否关闭\n",
    "file.closed"
   ]
  },
  {
   "cell_type": "code",
   "execution_count": null,
   "metadata": {},
   "outputs": [],
   "source": [
    "# 编码\n",
    "file.encoding"
   ]
  },
  {
   "cell_type": "code",
   "execution_count": null,
   "metadata": {},
   "outputs": [],
   "source": [
    "# CP936其实就是GBK，IBM在发明Code Page的时候将GBK放在第936页，所以叫CP936。\n",
    "# GBK全称《汉字内码扩展规范》\n",
    "#（GBK即“国标”、“扩展”汉语拼音的第一个字母，英文名称：Chinese Internal Code Specification）"
   ]
  },
  {
   "cell_type": "code",
   "execution_count": null,
   "metadata": {},
   "outputs": [],
   "source": [
    "# 关闭文件\n",
    "file.close()"
   ]
  },
  {
   "cell_type": "code",
   "execution_count": null,
   "metadata": {},
   "outputs": [],
   "source": [
    "# 文件是否关闭\n",
    "file.closed"
   ]
  },
  {
   "cell_type": "code",
   "execution_count": null,
   "metadata": {},
   "outputs": [],
   "source": [
    "file = open(\"files/chapter08/CNPoem.txt\", mode='r')"
   ]
  },
  {
   "cell_type": "code",
   "execution_count": null,
   "metadata": {},
   "outputs": [],
   "source": [
    "file.encoding"
   ]
  },
  {
   "cell_type": "code",
   "execution_count": null,
   "metadata": {},
   "outputs": [],
   "source": [
    "file.close()"
   ]
  },
  {
   "cell_type": "markdown",
   "metadata": {},
   "source": [
    "### <font size=4><span id=\"8.1.3\"> 8.1.3 文件对象的常用操作方法</span></font> \n",
    "\n",
    "- 最常用的方法如下表\n",
    "\n",
    "\n",
    "\n",
    "<figure>\n",
    "<table>\n",
    "<thead>\n",
    "    <tr><th>文件对象方法</th><th>执行操作</th></tr>\n",
    "</thead>\n",
    "    \n",
    "<tbody>\n",
    "    <tr><td>close()</td><td>关闭文件</td></tr>\n",
    "    <tr><td>read(size == -1)</td><td>从文件读取size个字符，<br>当未给定size或给定负值的时候，读取剩余的所有字符，然后作为字符串返回</td></tr>\n",
    "    <tr><td>readline()</td><td>从文件中读取一行字符串</td></tr>\n",
    "    <tr><td>readlines()</td><td>从文件中读取多行字符串</td></tr>\n",
    "    <tr><td>write(str)</td><td>将字符串 str 写入文件</td></tr>\n",
    "    <tr><td>writelines(seq)</td><td>向文件写入字符串序列seq，seq应该是一个返回字符串的可迭代对象</td></tr>\n",
    "    <tr><td>seek(offset, from)</td><td>在文件中移动文件指针，<br>从from(0代表文件头部，1代表当前位置，2代表文件末尾)偏移offset个字节</td></tr>\n",
    "    <tr><td>tell()</td><td>返回当前在文件中的位置</td></tr>\n",
    "</tbody>\n",
    "</table>\n",
    "</figure>\n",
    "\n",
    "\n",
    "- 了解全部的方法，运行\n",
    "```python\n",
    ">>> dir(file)\n",
    "```"
   ]
  },
  {
   "cell_type": "markdown",
   "metadata": {},
   "source": [
    "#### 8.1.3.1 读全部行函数 — readlines\n",
    "\n",
    "\n",
    "- 语法\n",
    "```python\n",
    ">>> file.readlines()\n",
    "```\n",
    "\n",
    "\n",
    "- 功能 —— 返回所有行组成的列表"
   ]
  },
  {
   "cell_type": "code",
   "execution_count": null,
   "metadata": {},
   "outputs": [],
   "source": [
    "# ANSI 编码\n",
    "file = open(\"files/chapter08/ENPoem.txt\", mode='r')\n",
    "\n",
    "for line in file.readlines():\n",
    "    print(line,end=\"\")"
   ]
  },
  {
   "cell_type": "code",
   "execution_count": null,
   "metadata": {},
   "outputs": [],
   "source": [
    "# 单独执行 readlines，竟然输出空列表，为什么？\n",
    "file.readlines()"
   ]
  },
  {
   "cell_type": "code",
   "execution_count": null,
   "metadata": {},
   "outputs": [],
   "source": [
    "# 关闭文件\n",
    "file.close()"
   ]
  },
  {
   "cell_type": "code",
   "execution_count": null,
   "metadata": {},
   "outputs": [],
   "source": [
    "# 重新打开\n",
    "file = open(\"files/chapter08/ENPoem.txt\", mode='r')"
   ]
  },
  {
   "cell_type": "code",
   "execution_count": null,
   "metadata": {},
   "outputs": [],
   "source": [
    "# 单独执行 readlines，这次没有输出空列表，又为什么？\n",
    "file.readlines()"
   ]
  },
  {
   "cell_type": "code",
   "execution_count": null,
   "metadata": {},
   "outputs": [],
   "source": [
    "# 记住关闭文件是好习惯！！！\n",
    "file.close()"
   ]
  },
  {
   "cell_type": "markdown",
   "metadata": {},
   "source": [
    "#### 打开编码格式为 UTF-8 的文本文件，并逐行输出\n",
    "\n",
    "\n",
    "- 设置参数 encoding=\"UTF-8\"\n",
    "\n",
    "\n",
    "- 问题\n",
    "    - 如何知道文本文件的编码是 \"UTF-8\"？\n",
    "    - 如何更改编码？"
   ]
  },
  {
   "cell_type": "code",
   "execution_count": null,
   "metadata": {},
   "outputs": [],
   "source": [
    "# 利用 chardet 模块查看本文文件的编码\n",
    "# Anaconda 安装时已经自动安装 chardet\n",
    "import chardet\n",
    "file = open(\"files/chapter08/CNPoem.txt\", mode='rb')\n",
    "data = file.read()\n",
    "file.close()\n",
    "result = chardet.detect(data)\n",
    "print(result) "
   ]
  },
  {
   "cell_type": "code",
   "execution_count": null,
   "metadata": {},
   "outputs": [],
   "source": [
    "file = open(\"files/chapter08/CNPoem.txt\", mode='r', encoding=\"UTF-8\") # UTF-8\n",
    "for line in file.readlines():\n",
    "    print(line, end=\"\")\n",
    "file.close()"
   ]
  },
  {
   "cell_type": "markdown",
   "metadata": {},
   "source": [
    "#### 8.1.3.2 逐次读单行函数 —— readline\n",
    "\n",
    "\n",
    "- 语法\n",
    "```python\n",
    ">>> file.readline()\n",
    "```\n",
    "\n",
    "\n",
    "- 功能 — 从文件指针当前所指位置处，读一单行\n",
    "\n",
    "\n",
    "- 注意：文件指针隐性起作用"
   ]
  },
  {
   "cell_type": "code",
   "execution_count": null,
   "metadata": {},
   "outputs": [],
   "source": [
    "file = open(\"files/chapter08/CNPoem.txt\", mode='r', encoding=\"UTF-8\")"
   ]
  },
  {
   "cell_type": "code",
   "execution_count": null,
   "metadata": {},
   "outputs": [],
   "source": [
    "# 读第一行文本\n",
    "file.readline()"
   ]
  },
  {
   "cell_type": "code",
   "execution_count": null,
   "metadata": {},
   "outputs": [],
   "source": [
    "# 读第二行文本\n",
    "file.readline()"
   ]
  },
  {
   "cell_type": "code",
   "execution_count": null,
   "metadata": {},
   "outputs": [],
   "source": [
    "# 读第三行文本\n",
    "file.readline()"
   ]
  },
  {
   "cell_type": "code",
   "execution_count": null,
   "metadata": {},
   "outputs": [],
   "source": [
    "# 关闭文件，好习惯！\n",
    "file.close()"
   ]
  },
  {
   "cell_type": "markdown",
   "metadata": {},
   "source": [
    "#### 8.1.3.3 逐次读单行函数 —— read\n",
    "\n",
    "\n",
    "- 语法\n",
    "```python\n",
    ">>> file.read(n=-1)\n",
    "```\n",
    "\n",
    "\n",
    "- 功能 — 按字节读取，如果不设置参数，那么会全部读进来，直到文件末尾\n"
   ]
  },
  {
   "cell_type": "code",
   "execution_count": null,
   "metadata": {},
   "outputs": [],
   "source": [
    "file = open(\"files/chapter08/CNPoem.txt\", mode='r', encoding=\"UTF-8\")\n",
    "file.read()"
   ]
  },
  {
   "cell_type": "code",
   "execution_count": null,
   "metadata": {},
   "outputs": [],
   "source": [
    "file.close()"
   ]
  },
  {
   "cell_type": "code",
   "execution_count": null,
   "metadata": {},
   "outputs": [],
   "source": [
    "file = open(\"files/chapter08/CNPoem.txt\", mode='r', encoding=\"UTF-8\")\n",
    "file.read(10)"
   ]
  },
  {
   "cell_type": "code",
   "execution_count": null,
   "metadata": {},
   "outputs": [],
   "source": [
    "file.close()"
   ]
  },
  {
   "cell_type": "markdown",
   "metadata": {},
   "source": [
    "### <font size=4><span id=\"8.1.4\"> 8.1.4 文件的关闭</span></font>  \n",
    "\n",
    "\n",
    "- 调用 close 函数\n",
    "```python\n",
    ">>> file.close()\n",
    "```\n",
    "\n",
    "\n",
    "- 打开文件后，一定要记着关闭，这是好习惯，切记！！！"
   ]
  },
  {
   "cell_type": "markdown",
   "metadata": {},
   "source": [
    "### <font size=4><span id=\"8.1.5\"> 8.1.5 文件的指针操作</span></font>  "
   ]
  },
  {
   "cell_type": "markdown",
   "metadata": {},
   "source": [
    "#### (1) 文件指针查询\n",
    "\n",
    "\n",
    "- 语法\n",
    "```python\n",
    ">>> file.tell()\n",
    "```\n",
    "\n",
    "- 参数 — 无\n",
    "\n",
    "\n",
    "- 功能 — 返回当前文件流的位置"
   ]
  },
  {
   "cell_type": "markdown",
   "metadata": {},
   "source": [
    "#### 文件指针查询"
   ]
  },
  {
   "cell_type": "code",
   "execution_count": null,
   "metadata": {},
   "outputs": [],
   "source": [
    "file = open(\"files/chapter08/ENPoem.txt\") # 只读方式打开文件"
   ]
  },
  {
   "cell_type": "code",
   "execution_count": null,
   "metadata": {},
   "outputs": [],
   "source": [
    "# 查询文件指针位置，在文件首\n",
    "file.tell()"
   ]
  },
  {
   "cell_type": "code",
   "execution_count": null,
   "metadata": {},
   "outputs": [],
   "source": [
    "# 读第一行，输出行内容与长度\n",
    "line = file.readline()\n",
    "print(line)\n",
    "print(len(line))"
   ]
  },
  {
   "cell_type": "code",
   "execution_count": null,
   "metadata": {},
   "outputs": [],
   "source": [
    "# 再查询文件指针位置，有了变化\n",
    "file.tell()"
   ]
  },
  {
   "cell_type": "code",
   "execution_count": null,
   "metadata": {},
   "outputs": [],
   "source": [
    "# 读第二行，输出行内容与长度\n",
    "line = file.readline()\n",
    "print(line)\n",
    "print(len(line))"
   ]
  },
  {
   "cell_type": "code",
   "execution_count": null,
   "metadata": {},
   "outputs": [],
   "source": [
    "# 再查询文件指针位置，注意变化规律，换行符的隐性作用\n",
    "file.tell()"
   ]
  },
  {
   "cell_type": "code",
   "execution_count": null,
   "metadata": {},
   "outputs": [],
   "source": [
    "# 读剩下的内容\n",
    "file.read()     # 按字节读取，如果不设置参数，那么会全部读进来，直到文件末尾"
   ]
  },
  {
   "cell_type": "code",
   "execution_count": null,
   "metadata": {},
   "outputs": [],
   "source": [
    "# 再查询文件指针位置，应该到了末位\n",
    "file.tell()"
   ]
  },
  {
   "cell_type": "code",
   "execution_count": null,
   "metadata": {},
   "outputs": [],
   "source": [
    "# 试图再读到文件末尾\n",
    "file.read() "
   ]
  },
  {
   "cell_type": "code",
   "execution_count": null,
   "metadata": {},
   "outputs": [],
   "source": [
    "file.tell()"
   ]
  },
  {
   "cell_type": "code",
   "execution_count": null,
   "metadata": {},
   "outputs": [],
   "source": [
    "# 关闭文件\n",
    "file.close()"
   ]
  },
  {
   "cell_type": "markdown",
   "metadata": {},
   "source": [
    "#### (2) 文件指针定位\n",
    "\n",
    "- 语法\n",
    "```python\n",
    ">>> file.seek(offset, from=0)\n",
    "```\n",
    "\n",
    "\n",
    "- 功能 — 改变文件指针位置\n",
    "\n",
    "\n",
    "- 参数\n",
    "    - offset 偏移量\n",
    "    - from\n",
    "        - 0 相对文件头\n",
    "        - 1 相对当前位置\n",
    "        - 2 相对文件尾\n",
    "        \n",
    "- 注意\n",
    "    - 如果 from != 0，offset 必须为零，这是 Python 3.X 的限制"
   ]
  },
  {
   "cell_type": "markdown",
   "metadata": {},
   "source": [
    "#### 文件指针定位 — from 为零\n",
    "\n",
    "\n",
    "- 从文件头部偏移"
   ]
  },
  {
   "cell_type": "code",
   "execution_count": null,
   "metadata": {},
   "outputs": [],
   "source": [
    "file = open(\"files/chapter08/ENPoem.txt\") # 只读方式打开文件\n",
    "file.tell() # 查询文件指针位置，在文件首"
   ]
  },
  {
   "cell_type": "code",
   "execution_count": null,
   "metadata": {},
   "outputs": [],
   "source": [
    "line = file.readline() # 读第一行，输出行内容与长度\n",
    "print(line)\n",
    "print(len(line))"
   ]
  },
  {
   "cell_type": "code",
   "execution_count": null,
   "metadata": {},
   "outputs": [],
   "source": [
    "file.tell()  # 再查询文件指针位置，有了变化"
   ]
  },
  {
   "cell_type": "code",
   "execution_count": null,
   "metadata": {},
   "outputs": [],
   "source": [
    "file.seek(7,  # 偏移 7 个字节\n",
    "          0)  # 文件头部\n",
    "file.tell() # 再查询文件指针位置，有了变化"
   ]
  },
  {
   "cell_type": "code",
   "execution_count": null,
   "metadata": {},
   "outputs": [],
   "source": [
    "line = file.readline()  # 重读第一行，从第 7 字节开始\n",
    "print(line)             # 输出行内容与长度\n",
    "print(len(line))"
   ]
  },
  {
   "cell_type": "code",
   "execution_count": null,
   "metadata": {},
   "outputs": [],
   "source": [
    "file.close()"
   ]
  },
  {
   "cell_type": "markdown",
   "metadata": {},
   "source": [
    "#### 文件指针定位 — from 非零时\n",
    "\n",
    "\n",
    "- 注意 Python 3.X 不能相对当前位置 (from==1) 或尾部位置 (from==2) 位移进行非零偏移\n",
    "    - 即 from 非零时，offset 不能取非零值\n",
    "\n",
    "\n",
    "- 问题 — 如何变通？"
   ]
  },
  {
   "cell_type": "code",
   "execution_count": null,
   "metadata": {},
   "outputs": [],
   "source": [
    "file = open(\"files/chapter08/ENPoem.txt\") # 只读方式打开文件\n",
    "file.tell()  # 查询文件指针位置，在文件首"
   ]
  },
  {
   "cell_type": "code",
   "execution_count": null,
   "metadata": {},
   "outputs": [],
   "source": [
    "line = file.readline()  # 读第一行，输出行内容与长度\n",
    "print(line)\n",
    "print(len(line))"
   ]
  },
  {
   "cell_type": "code",
   "execution_count": null,
   "metadata": {},
   "outputs": [],
   "source": [
    "file.tell()  # 查询文件指针位置，不在文件头部"
   ]
  },
  {
   "cell_type": "code",
   "execution_count": null,
   "metadata": {},
   "outputs": [],
   "source": [
    "file.seek(-10, 1)   # 报错：试图将文件指针从当前位置，前移 10 个字节"
   ]
  },
  {
   "cell_type": "code",
   "execution_count": null,
   "metadata": {},
   "outputs": [],
   "source": [
    "currentPosition = file.tell()          # 取得文件指针位置\n",
    "offset = 10\n",
    "file.seek(currentPosition-offset-1, 0) # 变通前移 10 个字节"
   ]
  },
  {
   "cell_type": "code",
   "execution_count": null,
   "metadata": {},
   "outputs": [],
   "source": [
    "line = file.readline()\n",
    "print(line)\n",
    "print(len(line))"
   ]
  },
  {
   "cell_type": "code",
   "execution_count": null,
   "metadata": {},
   "outputs": [],
   "source": [
    "file.close()"
   ]
  },
  {
   "cell_type": "markdown",
   "metadata": {},
   "source": [
    "#### 实用技巧 — 相对当前位置或文件末尾偏移若干字节\n",
    "\n",
    "\n",
    "- 试图从当前位置向前偏移 offset 字节\n",
    "```python\n",
    ">>> file.seek(file.seek(0,1)-offset, 0)\n",
    "```\n",
    "\n",
    "\n",
    "- 试图从文件末尾向前偏移 offset 字节\n",
    "```python\n",
    ">>> file.seek(file.seek(0,2)-offset, 0)\n",
    "```"
   ]
  },
  {
   "cell_type": "code",
   "execution_count": null,
   "metadata": {},
   "outputs": [],
   "source": [
    "file = open(\"files/chapter08/ENPoem.txt\") # 只读方式打开文件"
   ]
  },
  {
   "cell_type": "code",
   "execution_count": null,
   "metadata": {},
   "outputs": [],
   "source": [
    "file.readline()"
   ]
  },
  {
   "cell_type": "code",
   "execution_count": null,
   "metadata": {},
   "outputs": [],
   "source": [
    "# 当前位置向前偏移 7 个字节\n",
    "file.seek(file.seek(0,1)-7, 0)\n",
    "file.readline()"
   ]
  },
  {
   "cell_type": "code",
   "execution_count": null,
   "metadata": {},
   "outputs": [],
   "source": [
    "file.close()"
   ]
  },
  {
   "cell_type": "markdown",
   "metadata": {},
   "source": [
    "#### 文件定位 — 获取文件长度的另类方法\n",
    "\n",
    "\n",
    "- 语法\n",
    "```python\n",
    ">>> file.seek(0, 2) - file.seek(0, 0)\n",
    "```"
   ]
  },
  {
   "cell_type": "code",
   "execution_count": null,
   "metadata": {},
   "outputs": [],
   "source": [
    "file = open(\"files\\chapter08\\ENPoem.txt\") # 只读方式打开文件\n",
    "fileLen = file.seek(0, 2) - file.seek(0, 0)\n",
    "file.close()\n",
    "print(fileLen)"
   ]
  },
  {
   "cell_type": "markdown",
   "metadata": {},
   "source": [
    "####  文件的读入案例之一：包罗万象的 $\\pi$"
   ]
  },
  {
   "cell_type": "code",
   "execution_count": null,
   "metadata": {},
   "outputs": [],
   "source": [
    "pifile = open(\"files/chapter08/PI.txt\")    # 100 万位圆周率\n",
    "content = pifile.read()\n",
    "print(content)\n",
    "pifile.close()"
   ]
  },
  {
   "cell_type": "code",
   "execution_count": null,
   "metadata": {},
   "outputs": [],
   "source": [
    "# 原始数据处理\n",
    "content = content.replace(' ','')        # 去除有可能的英文空格\n",
    "content = content.replace('\\n','')       # 去除有可能的换行符\n",
    "content = content.replace('\\u3000','')   # 去除有可能的中文空格"
   ]
  },
  {
   "cell_type": "code",
   "execution_count": null,
   "metadata": {},
   "outputs": [],
   "source": [
    "len(content)  # 3 + 点 + 100 万小数"
   ]
  },
  {
   "cell_type": "code",
   "execution_count": null,
   "metadata": {},
   "outputs": [],
   "source": [
    "#你的出生月日在pi里面么？\n",
    "birthday = input(\"输入你的生日的月日mmdd格式：\")\n",
    "if content.find(birthday) > 0:\n",
    "    print(\"Congratulations!\")\n",
    "else:\n",
    "    print(\"Sorry\")"
   ]
  },
  {
   "cell_type": "code",
   "execution_count": null,
   "metadata": {},
   "outputs": [],
   "source": [
    "# 验证任意一个四位数都在pi里面出现"
   ]
  },
  {
   "cell_type": "code",
   "execution_count": null,
   "metadata": {},
   "outputs": [],
   "source": [
    "for each in range(1000,9999): #try 10000~99999\n",
    "    if content.find(str(each)) < 0:\n",
    "        print(str(each)+\" is not included\")\n",
    "        break\n",
    "else:\n",
    "    print(\"All number from 1000 to 9999 are include in PI\")"
   ]
  },
  {
   "cell_type": "markdown",
   "metadata": {},
   "source": [
    "####  文件的读入案例之二：汉字"
   ]
  },
  {
   "cell_type": "code",
   "execution_count": null,
   "metadata": {},
   "outputs": [],
   "source": [
    "hzfile = open(\"files/chapter08/hanzi_pinyin_bihua.txt\")"
   ]
  },
  {
   "cell_type": "code",
   "execution_count": null,
   "metadata": {
    "scrolled": true
   },
   "outputs": [],
   "source": [
    "for each in range(3):\n",
    "    hzline = hzfile.readline()\n",
    "hz_content = hzfile.readlines()"
   ]
  },
  {
   "cell_type": "code",
   "execution_count": null,
   "metadata": {},
   "outputs": [],
   "source": [
    "hz_content"
   ]
  },
  {
   "cell_type": "code",
   "execution_count": null,
   "metadata": {},
   "outputs": [],
   "source": [
    "hzfile.close()"
   ]
  },
  {
   "cell_type": "code",
   "execution_count": null,
   "metadata": {},
   "outputs": [],
   "source": [
    "hz, py, bh = [], [], []\n",
    "for each in hz_content:\n",
    "    #print(each,end=\"\")\n",
    "    a,b,c = each.split()\n",
    "    hz.append(a)\n",
    "    py.append(b)\n",
    "    bh.append(c)"
   ]
  },
  {
   "cell_type": "code",
   "execution_count": null,
   "metadata": {},
   "outputs": [],
   "source": [
    "print(hz) # 很慢"
   ]
  },
  {
   "cell_type": "code",
   "execution_count": null,
   "metadata": {},
   "outputs": [],
   "source": [
    "hz1 = input(\"输入一个汉字，找出跟他一样读音的汉字有哪些？\")"
   ]
  },
  {
   "cell_type": "code",
   "execution_count": null,
   "metadata": {},
   "outputs": [],
   "source": [
    "for i in range(len(hz)):\n",
    "    if hz[i] == hz1:\n",
    "        hz_duying = py[i]\n",
    "        hz_bihua = bh[i]\n",
    "        break;\n",
    "print(\"读\\\"{0}\\\"的汉字有：\".format(hz_duying))\n",
    "count = 0\n",
    "for i in range(len(py)):\n",
    "    if py[i] == hz_duying:\n",
    "        print(hz[i],end=\"\")\n",
    "        count += 1\n",
    "print(\"\\n共有{0}个汉字与\\\"{1}\\\"的读音相同\".format(count-1,hz1))"
   ]
  },
  {
   "cell_type": "markdown",
   "metadata": {},
   "source": [
    "### <font size=4><span id=\"8.1.6\"> 8.1.6 文件的写入</span></font>  \n",
    "\n",
    "\n",
    "- 注意\n",
    "    - 若使用 w 模式，此前文件内容会全部被覆盖\n",
    "    - 若想追加输出，应采用 a 模式"
   ]
  },
  {
   "cell_type": "markdown",
   "metadata": {},
   "source": [
    "#### 向文件写或追加内容"
   ]
  },
  {
   "cell_type": "code",
   "execution_count": null,
   "metadata": {},
   "outputs": [],
   "source": [
    "file_out = open(\"files\\chapter08\\output.txt\",\"w\")\n",
    "file_out.write(\"时间过得好快\\n转眼就到了深秋\\n这是你来同济的第二个年头\\n\")\n",
    "file_out.close()"
   ]
  },
  {
   "cell_type": "code",
   "execution_count": null,
   "metadata": {},
   "outputs": [],
   "source": [
    "!type files\\chapter08\\output.txt"
   ]
  },
  {
   "cell_type": "code",
   "execution_count": null,
   "metadata": {},
   "outputs": [],
   "source": [
    "file_out = open(\"files\\chapter08\\output.txt\",\"a\")    # 以追加模式重新打开文件\n",
    "file_out.write(\"今天是2021年11月16日\\n\")\n",
    "file_out.close()"
   ]
  },
  {
   "cell_type": "code",
   "execution_count": null,
   "metadata": {},
   "outputs": [],
   "source": [
    "!type files\\chapter08\\output.txt"
   ]
  },
  {
   "cell_type": "markdown",
   "metadata": {},
   "source": [
    "####  文件的写入案例：客户和密码\n",
    "- 编写一个程序， 提示用户输入其名字； \n",
    "- 用户作出响应后， 将其名字写入到文件guest.txt中。"
   ]
  },
  {
   "cell_type": "code",
   "execution_count": null,
   "metadata": {},
   "outputs": [],
   "source": [
    "#程序准备.........................\n",
    "guest = open(\"files\\chapter08\\guest.txt\",\"a+\")\n",
    "!type files\\chapter08\\guest.txt"
   ]
  },
  {
   "cell_type": "code",
   "execution_count": null,
   "metadata": {},
   "outputs": [],
   "source": [
    "guest.seek(0, 0)  #没有这句会怎么样？\n",
    "guest_password = guest.readlines()\n",
    "print(guest_password)"
   ]
  },
  {
   "cell_type": "code",
   "execution_count": null,
   "metadata": {},
   "outputs": [],
   "source": [
    "guest.close()"
   ]
  },
  {
   "cell_type": "code",
   "execution_count": null,
   "metadata": {},
   "outputs": [],
   "source": [
    "guest = {}\n",
    "for each in guest_password:\n",
    "    a, b = each.split()\n",
    "    guest[a] = b\n",
    "guest"
   ]
  },
  {
   "cell_type": "code",
   "execution_count": null,
   "metadata": {},
   "outputs": [],
   "source": [
    "#程序准备\n",
    "#程序准备over.........................\n",
    "# 提示用户输入姓名，如果已存在，则提示输入密码，密码正确这提示“登录成功”\n",
    "# 否则提示“密码不正确”\n",
    "# 如果用户名不存在，则提示“用户名不存在”"
   ]
  },
  {
   "cell_type": "code",
   "execution_count": null,
   "metadata": {},
   "outputs": [],
   "source": [
    "guest_file = open(\"files\\chapter08\\guest.txt\",\"a+\")\n",
    "guest_file.seek(0, 0)  #没有这句会怎么样？\n",
    "guest_password = guest_file.readlines()\n",
    "guest_file.close()\n",
    "guest = {}\n",
    "for each in guest_password:\n",
    "    a, b = each.split(\" \")\n",
    "    guest[a] = b\n",
    "\n",
    "name = input(\"请输入用户名：\")\n",
    "if name in guest.keys():\n",
    "    mima = input(\"请输入密码：\")\n",
    "    if mima == guest[name]:\n",
    "        print(\"{0},欢迎您,\\n登陆成功！\".format(name))\n",
    "    else:\n",
    "        print(\"{0},密码输入错误！\".format(name))\n",
    "else:\n",
    "    print(\"用户名{0}不存在,请输入密码创建新用户\".format(name))         # 注意，名字和密码不能带空格\n",
    "    mima = input(\"请输入密码：\")\n",
    "    print(\"用户创建成功，请您记住用户名和密码！\")\n",
    "    # 更新用户名和密码文件\n",
    "    guest = open(\"files\\chapter08\\guest.txt\",\"a+\")\n",
    "    guest.write(name+' '+mima+'\\n')\n",
    "    guest.close()"
   ]
  },
  {
   "cell_type": "markdown",
   "metadata": {},
   "source": [
    "### <font size=4><span id=\"8.1.7\">8.1.7 with open as 文件打开方式</span></font>  \n",
    "\n",
    "\n",
    "- 背景 — 虽然一再强调要关闭打开的文件，可是许多程序员\n",
    "    - 经常忘记关闭打开的文件\n",
    "    - 或者是已经关闭的文件，神经质地再次关闭\n",
    "    - 虽然写了 close()，但是之前的代码出现错误导致程序中断，没有执行到 close()\n",
    "\n",
    "\n",
    "- 怎么办？ —— 采用 with open as 文件打开方式时\n",
    "    - 将在代码块结束后，自动调用 file.close()\n",
    "\n",
    "#### 强烈推荐！！！"
   ]
  },
  {
   "cell_type": "markdown",
   "metadata": {},
   "source": [
    "#### 使用 with open as 方式打开文件的例子"
   ]
  },
  {
   "cell_type": "code",
   "execution_count": null,
   "metadata": {},
   "outputs": [],
   "source": [
    "with open(\"files\\chapter08\\ENPoem.txt\") as file:  # 自动调用file.close()\n",
    "    for each_line in file:\n",
    "        print(\"文件关闭了\" if file.closed else \"文件尚未关闭\")\n",
    "        print(each_line, end='')"
   ]
  },
  {
   "cell_type": "code",
   "execution_count": null,
   "metadata": {},
   "outputs": [],
   "source": [
    "print(\"文件关闭了\" if file.closed else \"文件尚未关闭\")  #测试文件是否关闭"
   ]
  },
  {
   "cell_type": "markdown",
   "metadata": {},
   "source": [
    "[返回目录](#mulu)"
   ]
  },
  {
   "cell_type": "markdown",
   "metadata": {},
   "source": [
    "## <font size=5><span id=\"8.2\"> 8.2 csv 模块 — 用于文件操作</span></font>"
   ]
  },
  {
   "cell_type": "code",
   "execution_count": null,
   "metadata": {},
   "outputs": [],
   "source": [
    "import csv\n",
    "dir(csv)"
   ]
  },
  {
   "cell_type": "markdown",
   "metadata": {},
   "source": [
    "### <font size=4><span id=\"8.2.1\"> 8.2.1 csv 文件读操作</span></font>  \n",
    "\n",
    "\n",
    "- 语法\n",
    "```python\n",
    ">>> csv_file = csv.reader(iterable[, dialect='excel'][, optional keyword args])\n",
    ">>> for row in csv_file:\n",
    "           process(row)\n",
    "```"
   ]
  },
  {
   "cell_type": "markdown",
   "metadata": {},
   "source": [
    "- 逗号分隔值（Comma-Separated Values，CSV，有时也称为字符分隔值，因为分隔字符也可以不是逗号），其文件以纯文本形式存储表格数据（数字和文本）。\n",
    "- 纯文本意味着该文件是一个字符序列，不含必须像二进制数字那样被解读的数据。\n",
    "- CSV文件由任意数目的记录组成，记录间以某种换行符分隔；每条记录由字段组成，字段间的分隔符是其它字符或字符串，最常见的是逗号或制表符。"
   ]
  },
  {
   "cell_type": "markdown",
   "metadata": {},
   "source": [
    "#### 示例"
   ]
  },
  {
   "cell_type": "code",
   "execution_count": null,
   "metadata": {},
   "outputs": [],
   "source": [
    "# curve.csv看一下"
   ]
  },
  {
   "cell_type": "code",
   "execution_count": null,
   "metadata": {},
   "outputs": [],
   "source": [
    "import csv\n",
    "\n",
    "with open(\"files\\chapter08\\curve.csv\", 'r') as f:\n",
    "    csv_reader = csv.reader(f)\n",
    "    xPos = []\n",
    "    yPos = []\n",
    "    for row in csv_reader:\n",
    "        xPos.append(float(row[0]))        # 注意 row[0] 是字符串！\n",
    "        yPos.append(float(row[1]))"
   ]
  },
  {
   "cell_type": "code",
   "execution_count": null,
   "metadata": {},
   "outputs": [],
   "source": [
    "# 画出来\n",
    "import matplotlib.pyplot as plt\n",
    "\n",
    "fig = plt.figure(figsize = (15,10))\n",
    "plt.plot(xPos,yPos)\n",
    "\n",
    "plt.show() "
   ]
  },
  {
   "cell_type": "markdown",
   "metadata": {},
   "source": [
    "### <font size=4><span id=\"8.2.2\"> 8.2.2 csv 文件写操作</span></font>  \n",
    "\n",
    "\n",
    "- 语法\n",
    "```python\n",
    ">>> csv_writer = csv.writer (fileobj [, dialect='excel'][, optional keyword args])\n",
    ">>> for row in rows:\n",
    "           csv_writer.writerow(row)\n",
    "```\n",
    "- 或\n",
    "```python\n",
    ">>> csv_writer = csv.writer (fileobj [, dialect='excel'][, optional keyword args])\n",
    ">>> csv_writer.writerows(rows)\n",
    "```\n"
   ]
  },
  {
   "cell_type": "markdown",
   "metadata": {},
   "source": [
    "#### 示例"
   ]
  },
  {
   "cell_type": "code",
   "execution_count": null,
   "metadata": {},
   "outputs": [],
   "source": [
    "import chardet\n",
    "file = open(\"files/chapter08/csvin.csv\", mode='rb')\n",
    "data = file.read()\n",
    "file.close()\n",
    "result = chardet.detect(data)\n",
    "print(result) "
   ]
  },
  {
   "cell_type": "code",
   "execution_count": null,
   "metadata": {},
   "outputs": [],
   "source": [
    "import csv\n",
    "with open(\"files\\chapter08\\csvin.csv\", 'r', encoding = 'utf-8-sig') as f:\n",
    "    csv_reader= csv.reader(f)\n",
    "    csv_list = []\n",
    "    for each in csv_reader:\n",
    "        csv_list.append(each)\n",
    "\n",
    "header = csv_list[0]\n",
    "csv_list = csv_list[1:len(csv_list)]"
   ]
  },
  {
   "cell_type": "code",
   "execution_count": null,
   "metadata": {},
   "outputs": [],
   "source": [
    "with open(\"files\\chapter08\\csvout.csv\", 'w', encoding = 'utf-8-sig', newline='') as f:\n",
    "    csv_writer = csv.writer(f)\n",
    "    header.extend(['min','avg','max'])\n",
    "    csv_writer.writerow(header)\n",
    "    \n",
    "    # \n",
    "    for each_row in csv_list:\n",
    "        number = [float(str) for str in each_row]\n",
    "        # print(max(number))\n",
    "        number.extend([min(number),sum(number)/len(number),max(number)])\n",
    "        number = [str(num) for num in number]\n",
    "        csv_writer.writerow(number)     "
   ]
  },
  {
   "cell_type": "code",
   "execution_count": null,
   "metadata": {},
   "outputs": [],
   "source": [
    "print(number)"
   ]
  },
  {
   "cell_type": "markdown",
   "metadata": {},
   "source": [
    "### <font size=4><span id=\"8.2.3\"> 8.2.3 制作 Bar Chart Race</span></font>  "
   ]
  },
  {
   "cell_type": "markdown",
   "metadata": {},
   "source": [
    "\n",
    "网址：app.flourish.studio\n",
    "\n",
    "我们要做什么：\n",
    "\n",
    " - 原始数据的格式 --> Python --> flourish 要求的格式\n",
    "\n",
    "剩下的交给 flourish 完成"
   ]
  },
  {
   "cell_type": "markdown",
   "metadata": {},
   "source": [
    "##### 案例一 全球主要国家/地区的GDP随时间的变化"
   ]
  },
  {
   "cell_type": "code",
   "execution_count": null,
   "metadata": {},
   "outputs": [],
   "source": [
    "import csv\n",
    "import openpyxl as pxl\n",
    "\n",
    "with open(\"files/chapter08/gdp_1960_2020.csv\", 'r', encoding = 'utf-8') as f:\n",
    "    csv_reader = csv.reader(f)\n",
    "    raw_data = []\n",
    "    for each in csv_reader:\n",
    "        raw_data.append(each)\n",
    "        \n",
    "header = raw_data[0]\n",
    "raw_data = raw_data[1:len(raw_data)]\n",
    "\n",
    "# 去除错误数据和空数据\n",
    "exist_wrong_record = True\n",
    "while (exist_wrong_record == True):\n",
    "    exist_wrong_record = False\n",
    "    for record in raw_data:\n",
    "        if (('N/A') in record) or ('' in record):\n",
    "            exist_wrong_record = True\n",
    "            break\n",
    "    idx = raw_data.index(record)\n",
    "    del raw_data[idx]\n",
    "\n",
    "# 原始数据包含多少年\n",
    "years = []\n",
    "for record in raw_data:\n",
    "    years.append(record[0])\n",
    "years = sorted(set(years))\n",
    "\n",
    "# 原始数据包含多少个国家/地区\n",
    "countries = []\n",
    "for record in raw_data:\n",
    "    countries.append(record[2])\n",
    "countries = sorted(set(countries))\n",
    "\n",
    "gdp = {}\n",
    "for year in years:\n",
    "    gdp[year] = {}\n",
    "    for country in countries:\n",
    "        gdp[year][country] = 0\n",
    "\n",
    "for record in raw_data:\n",
    "    year = record[0]\n",
    "    country = record[2]\n",
    "    gdp[year][country] = float(record[4])\n",
    "\n",
    "# 写入到 xlsx 文件中\n",
    "wb = pxl.Workbook()                # 新建一个 xlsx 文件\n",
    "ws = wb.active # 激活工作表（创建 xlsx，系统会默认创建一个 sheet1 工作表\n",
    "ws.cell(row=1, column=1, value='Country/Region')\n",
    "for i in range(len(years)):\n",
    "    year = years[i]\n",
    "    ws.cell(row=1, column=i+2, value=year)\n",
    "\n",
    "for i in range(len(countries)):\n",
    "    country = countries[i]\n",
    "    ws.cell(row=i+2, column=1, value=country)\n",
    "\n",
    "for i in range(len(countries)):\n",
    "    country = countries[i]\n",
    "    for j in range(len(years)):\n",
    "        year = years[j]\n",
    "        ws.cell(row=i+2, column=j+2, value=gdp[year][country]/100000000)\n",
    "    \n",
    "wb.save('files/chapter08/gdp_flourish_data.xlsx')\n",
    "wb.close()"
   ]
  },
  {
   "cell_type": "markdown",
   "metadata": {},
   "source": [
    "##### 案例二 COVID-19 全球发展趋势 (2020上半年）"
   ]
  },
  {
   "cell_type": "code",
   "execution_count": null,
   "metadata": {},
   "outputs": [],
   "source": [
    "import csv\n",
    "import openpyxl as pxl\n",
    "\n",
    "with open(\"files/chapter08/covid_19.csv\", 'r') as f:\n",
    "    csv_reader = csv.reader(f)\n",
    "    raw_data = []\n",
    "    for each in csv_reader:\n",
    "        raw_data.append(each)\n",
    "        \n",
    "header = raw_data[0]\n",
    "raw_data = raw_data[1:len(raw_data)]\n",
    "\n",
    "# 原始数据包含多少个日期\n",
    "dates = []\n",
    "for record in raw_data:\n",
    "    date = record[4]\n",
    "    dates.append(date)\n",
    "dates = sorted(set(dates))\n",
    "\n",
    "# 原始数据包含多少个国家/地区\n",
    "locations = []\n",
    "for record in raw_data:\n",
    "    location = record[1]\n",
    "    locations.append(location)\n",
    "locations = sorted(set(locations))\n",
    "\n",
    "confirmed = {}       # 确诊人数\n",
    "for date in dates:\n",
    "    confirmed[date] = {}\n",
    "    for location in locations:\n",
    "        confirmed[date][location] = 0\n",
    "\n",
    "for record in raw_data:\n",
    "    location = record[1]\n",
    "    date = record[4]\n",
    "    confirmed[date][location] += int(record[5])\n",
    "\n",
    "# 写入到 xlsx 文件中\n",
    "wb = pxl.Workbook()                # 新建一个 xlsx 文件\n",
    "ws = wb.active # 激活工作表（创建 xlsx，系统会默认创建一个 sheet1 工作表\n",
    "ws.cell(row=1, column=1, value='Country/Region')\n",
    "for i in range(len(dates)):\n",
    "    date = dates[i]\n",
    "    ws.cell(row=1, column=i+2, value=date)\n",
    "\n",
    "for i in range(len(locations)):\n",
    "    location = locations[i]\n",
    "    ws.cell(row=i+2, column=1, value=location)\n",
    "\n",
    "for i in range(len(locations)):\n",
    "    location = locations[i]\n",
    "    for j in range(len(dates)):\n",
    "        date = dates[j]\n",
    "        ws.cell(row=i+2, column=j+2, value=confirmed[date][location])\n",
    "    \n",
    "wb.save('files/chapter08/covid_19_flourish_data.xlsx')\n",
    "wb.close()"
   ]
  },
  {
   "cell_type": "markdown",
   "metadata": {},
   "source": [
    "##### 案例三 不同游戏平台的游戏销量"
   ]
  },
  {
   "cell_type": "code",
   "execution_count": null,
   "metadata": {},
   "outputs": [],
   "source": [
    "import csv\n",
    "import openpyxl as pxl\n",
    "\n",
    "with open(\"files/chapter08/Video_Games_Sales.csv\", 'r') as f:\n",
    "    csv_reader = csv.reader(f)\n",
    "    raw_data = []\n",
    "    for each in csv_reader:\n",
    "        raw_data.append(each)\n",
    "        \n",
    "header = raw_data[0]\n",
    "raw_data = raw_data[1:len(raw_data)]\n",
    "\n",
    "# 去除错误数据和空数据\n",
    "exist_wrong_record = True\n",
    "while (exist_wrong_record == True):\n",
    "    exist_wrong_record = False\n",
    "    for record in raw_data:\n",
    "        if (('N/A') in record) or ('' in record):\n",
    "            exist_wrong_record = True\n",
    "            break\n",
    "    idx = raw_data.index(record)\n",
    "    del raw_data[idx]\n",
    "\n",
    "# 原始数据包含多少年\n",
    "years = []\n",
    "for record in raw_data:\n",
    "    years.append(record[2])\n",
    "years = sorted(set(years))\n",
    "\n",
    "# 原始数据包含多少个平台\n",
    "platforms = []\n",
    "for record in raw_data:\n",
    "    platforms.append(record[1])\n",
    "platforms = sorted(set(platforms))\n",
    "\n",
    "platform_global_sales = {}\n",
    "for year in years:\n",
    "    platform_global_sales[year] = {}\n",
    "    for platform in platforms:\n",
    "        platform_global_sales[year][platform] = 0\n",
    "\n",
    "for record in raw_data:\n",
    "    platform = record[1]\n",
    "    year = record[2]\n",
    "    global_sales = record[9]\n",
    "    platform_global_sales[year][platform] += float(global_sales)\n",
    "\n",
    "# 市场占有率\n",
    "platform_global_market_shares = {}\n",
    "for year in years:\n",
    "    platform_global_market_shares[year] = {}\n",
    "    count = 0.0\n",
    "    for platform in platforms:\n",
    "        count += float(platform_global_sales[year][platform])\n",
    "    for platform in platforms:\n",
    "        platform_global_market_shares[year][platform] = platform_global_sales[year][platform] / count\n",
    "    \n",
    "# 写入到 xlsx 文件中\n",
    "wb = pxl.Workbook()                # 新建一个 xlsx 文件\n",
    "ws = wb.active # 激活工作表（创建 xlsx，系统会默认创建一个 sheet1 工作表\n",
    "ws.cell(row=1, column=1, value='Platform')\n",
    "for i in range(len(years)):\n",
    "    year = years[i]\n",
    "    ws.cell(row=1, column=i+2, value=year)\n",
    "\n",
    "for i in range(len(platforms)):\n",
    "    platform = platforms[i]\n",
    "    ws.cell(row=i+2, column=1, value=platform)\n",
    "\n",
    "for i in range(len(platforms)):\n",
    "    platform = platforms[i]\n",
    "    for j in range(len(years)):\n",
    "        year = years[j]\n",
    "        ws.cell(row=i+2, column=j+2, value=platform_global_market_shares[year][platform])\n",
    "    \n",
    "wb.save('files/chapter08/Video_Games_Sales_flourish_data.xlsx')\n",
    "wb.close()"
   ]
  },
  {
   "cell_type": "markdown",
   "metadata": {},
   "source": [
    "[返回目录](#mulu)"
   ]
  },
  {
   "cell_type": "markdown",
   "metadata": {},
   "source": [
    "## <font size=5><span id=\"8.3\"> 8.3 二进制文件读取（pickle模块）</span></font>"
   ]
  },
  {
   "cell_type": "markdown",
   "metadata": {},
   "source": [
    "- pickle.dump(obj, file, [,protocol])   \n",
    "    - 函数的功能：将obj对象序列化存入已经打开的file中\n",
    "    - protocal：如果该项省略，则默认为0。如果为负值或HIGHEST_PROTOCOL，则使用最高的协议版本。\n",
    "- pickle.load(file)\n",
    "    - 函数的功能：将file中的对象序列化读出。\n"
   ]
  },
  {
   "cell_type": "code",
   "execution_count": null,
   "metadata": {
    "scrolled": true
   },
   "outputs": [],
   "source": [
    "import pickle\n",
    "myList = {\"姓名\":\"潘子超\", \"性别\":\"男\", \"本科毕业学校\":\"同济大学\"}\n",
    "pickleFile = open(\"files\\chapter08\\MyList.bin\",'wb')\n",
    "pickle.dump(myList, pickleFile)\n",
    "pickleFile.close()\n",
    "# 看看生成的文件"
   ]
  },
  {
   "cell_type": "code",
   "execution_count": null,
   "metadata": {},
   "outputs": [],
   "source": [
    "import pickle\n",
    "pickleFile = open(\"files\\chapter08\\MyList.bin\",'rb')\n",
    "myList = pickle.load(pickleFile)\n",
    "pickleFile.close()\n",
    "print(myList)"
   ]
  },
  {
   "cell_type": "code",
   "execution_count": null,
   "metadata": {},
   "outputs": [],
   "source": [
    "import pickle  \n",
    "dataList = [[1, 1, 'yes'],  \n",
    "            [1, 1, 'yes'],  \n",
    "            [1, 0, 'no'],  \n",
    "            [0, 1, 'no'],  \n",
    "            [0, 1, 'no']]  \n",
    "dataDic = { 0: [1, 2, 3, 4],  \n",
    "            1: ('a', 'b'),  \n",
    "            2: {'c':'yes','d':'no'}} \n",
    "fw = open('files\\chapter08\\dataFile.txt','wb')\n",
    "pickle.dump(dataList, fw) \n",
    "pickle.dump(dataDic, fw)  \n",
    "fw.close() "
   ]
  },
  {
   "cell_type": "code",
   "execution_count": null,
   "metadata": {
    "scrolled": true
   },
   "outputs": [],
   "source": [
    "#使用load()将数据从文件中序列化读出  \n",
    "fr = open('files\\chapter08\\dataFile.txt','rb')  \n",
    "data1 = pickle.load(fr)  \n",
    "print(data1)  \n",
    "data2 = pickle.load(fr)  \n",
    "print(data2)  \n",
    "fr.close()"
   ]
  },
  {
   "cell_type": "markdown",
   "metadata": {},
   "source": [
    "[返回目录](#mulu)"
   ]
  },
  {
   "cell_type": "markdown",
   "metadata": {},
   "source": [
    "## <font size=5><span id=\"8.5\"> 8.5 扩展学习 — 其它读取模块（自学）</span></font>\n",
    "\n",
    "\n",
    "- io — 处理流的核心工具 [(官网)](https://docs.python.org/zh-cn/3.8/library/io.html)\n",
    "- xlrd — 读 Excel 文件 [(官网)](https://github.com/python-excel/xlrd)\n",
    "- xlwt — 写 Excel 文件 [(官网)](https://github.com/python-excel/xlwt)\n",
    "- pdfminer — 读 pdf 文件中的数据文本 [(官网)](https://github.com/euske/pdfminer)\n",
    "- lxml — 处理 HTML 和 XML 文件 [(官网)](https://lxml.de/)\n",
    "- codecs — 支持多国语言的处理，面向任意编码 [(官网)](https://docs.python.org/zh-cn/3.8/library/codecs.html)\n",
    "- json — 处理 json 文件 [(官网)](https://docs.python.org/zh-cn/3.8/library/json.html)"
   ]
  },
  {
   "cell_type": "markdown",
   "metadata": {},
   "source": [
    "[返回目录](#mulu)"
   ]
  },
  {
   "cell_type": "markdown",
   "metadata": {},
   "source": [
    "### Kaggle 数据集\n",
    "https://www.kaggle.com/"
   ]
  }
 ],
 "metadata": {
  "celltoolbar": "Raw Cell Format",
  "kernelspec": {
   "display_name": "Python 3 (ipykernel)",
   "language": "python",
   "name": "python3"
  },
  "language_info": {
   "codemirror_mode": {
    "name": "ipython",
    "version": 3
   },
   "file_extension": ".py",
   "mimetype": "text/x-python",
   "name": "python",
   "nbconvert_exporter": "python",
   "pygments_lexer": "ipython3",
   "version": "3.11.4"
  }
 },
 "nbformat": 4,
 "nbformat_minor": 4
}
