{
 "cells": [
  {
   "cell_type": "markdown",
   "metadata": {},
   "source": [
    "# 第3讲 列表、元组"
   ]
  },
  {
   "cell_type": "markdown",
   "metadata": {
    "toc-hr-collapsed": true
   },
   "source": [
    "## <font size=5><span id=\"3.1\"> 3.1 列表</span></font>"
   ]
  },
  {
   "cell_type": "markdown",
   "metadata": {
    "tags": [],
    "toc-hr-collapsed": true
   },
   "source": [
    "### <font size=4><span id=\"3.1.1\"> 3.1.1 创建列表</span></font>"
   ]
  },
  {
   "cell_type": "markdown",
   "metadata": {},
   "source": [
    "#### (1) 一般创建方法\n",
    "\n",
    "```python\n",
    ">>> empty_list = []\n",
    ">>> list_obj = [ele_1, ele_2, ..., ele_n]\n",
    ">>> one_ele_list = [ele_1]\n",
    ">>> empty_list = list()\n",
    ">>> list_from_iterable = list(iterable)\n",
    ">>> list_from_range = list(range(start, stop, step))\n",
    "```\n",
    "\n",
    "- 与普通变量一样，用中括号括起一堆数据就可以\n",
    "- 数据间用逗号隔开"
   ]
  },
  {
   "cell_type": "markdown",
   "metadata": {},
   "source": [
    "#### (2) python的列表非常疯狂"
   ]
  },
  {
   "cell_type": "markdown",
   "metadata": {},
   "source": [
    "- 什么都可以往里面放\n",
    "- 与普通变量一样，用中括号括起一堆数据就可以\n",
    "- 数据间用逗号隔开"
   ]
  },
  {
   "cell_type": "markdown",
   "metadata": {
    "toc-hr-collapsed": true
   },
   "source": [
    "### <font size=4><span id=\"3.1.2\"> 3.1.2 向列表中添加元素</span></font>"
   ]
  },
  {
   "cell_type": "markdown",
   "metadata": {},
   "source": [
    "#### (1) 添单个元素到列表尾部 —— append 函数\n",
    "\n",
    "- 命令语法\n",
    "\n",
    "```python\n",
    ">>> list.append(new_item)\n",
    "```"
   ]
  },
  {
   "cell_type": "markdown",
   "metadata": {},
   "source": [
    "#### (2) 添加多个元素到列表尾部 ——  extend 函数\n",
    "\n",
    "\n",
    "- 语法\n",
    "```python\n",
    ">>> a_list.extend(iterable)\n",
    "```\n",
    "\n",
    "\n",
    "- 参数\n",
    "    - iterable —— 可迭代容器\n",
    "\n",
    "\n",
    "- 功能：将参数中的元素逐个添加到列表尾部\n",
    "\n",
    "\n",
    "- 注意 —— 函数是单参数"
   ]
  },
  {
   "cell_type": "markdown",
   "metadata": {},
   "source": [
    "##### 尝试使用 append 函数添加多个元素到列表尾部"
   ]
  },
  {
   "cell_type": "markdown",
   "metadata": {},
   "source": [
    "- 发现 —— append 函数似乎不能一次添加多个元素"
   ]
  },
  {
   "cell_type": "code",
   "execution_count": 15,
   "metadata": {},
   "outputs": [
    {
     "name": "stdout",
     "output_type": "stream",
     "text": [
      "[1, 2, 3, 4, 5, 7, 8]\n"
     ]
    }
   ],
   "source": [
    "a_list = [1, 2, 3, 4, 5]\n",
    "a_list.extend([7,8])      # 不能省略方括号，注意单参数要求\n",
    "print(a_list)"
   ]
  },
  {
   "cell_type": "markdown",
   "metadata": {},
   "source": [
    "#### (3) 在指定位置插入单个元素 —— insert 函数\n",
    "\n",
    "- 命令语法\n",
    "\n",
    "```python\n",
    ">>> a_list.insert(index, object)\n",
    "```\n",
    "\n",
    "- 功能 —— 在索引 index 前插入元素"
   ]
  },
  {
   "cell_type": "markdown",
   "metadata": {
    "toc-hr-collapsed": true
   },
   "source": [
    "### <font size=4><span id=\"3.1.3\"> 3.1.3 访问列表</span></font>"
   ]
  },
  {
   "cell_type": "markdown",
   "metadata": {},
   "source": [
    "\n",
    "- 语法\n",
    "\n",
    "```python\n",
    ">>> a_list[index]  # 下标访问\n",
    ">>> a_list[start:stop:step] # 切片访问，左闭右开\n",
    "```\n",
    "\n",
    "\n",
    "- 注意\n",
    "    - 左闭右开\n",
    "    - 可省略 start(默认0)、stop(默认包含最末) 和 step(默认取 1)\n",
    "    - 下标可以为负值\n",
    "        - -1表示倒数第一、-2表示倒数第二、其余类推..."
   ]
  },
  {
   "cell_type": "code",
   "execution_count": 21,
   "metadata": {},
   "outputs": [
    {
     "data": {
      "text/plain": [
       "'欧阳锋'"
      ]
     },
     "execution_count": 21,
     "metadata": {},
     "output_type": "execute_result"
    }
   ],
   "source": [
    "my_list = ['郭靖', '黄蓉', '黄药师', '洪七公', '欧阳锋']"
   ]
  },
  {
   "cell_type": "markdown",
   "metadata": {
    "toc-hr-collapsed": true
   },
   "source": [
    "### <font size=4><span id=\"3.1.4\"> 3.1.4 从列表中删除元素</span></font>"
   ]
  },
  {
   "cell_type": "markdown",
   "metadata": {},
   "source": [
    "\n",
    "#### (1) remove 方法\n",
    "\n",
    "- 语法\n",
    "\n",
    "```python\n",
    ">>> a_list.remove(obj)\n",
    "\n",
    "```\n",
    "\n",
    "- 特点\n",
    "    - 用 remove 时，不需要知道元素的位置，只需要知道该列表存在此元素即可\n",
    "    - 不能 remove 指定位置的元素\n",
    "    - 如果元素不存在，就会报错\n",
    "    - 如果存在多个同样元素，只删除最前的一个"
   ]
  },
  {
   "cell_type": "markdown",
   "metadata": {},
   "source": [
    "##### 删除元素 — 采用 remove() 函数"
   ]
  },
  {
   "cell_type": "code",
   "execution_count": 31,
   "metadata": {},
   "outputs": [
    {
     "name": "stdout",
     "output_type": "stream",
     "text": [
      "['郭靖', '黄蓉', '黄药师', '洪七公', '欧阳锋']\n",
      "['郭靖', '黄蓉', '黄药师', '洪七公']\n"
     ]
    }
   ],
   "source": [
    "my_list = ['郭靖', '黄蓉', '黄药师', '洪七公', '欧阳锋']"
   ]
  },
  {
   "cell_type": "markdown",
   "metadata": {},
   "source": [
    "#### (2) del 语句\n",
    "\n",
    "- 语法\n",
    "```python\n",
    ">>> del a_list[index]\n",
    "```"
   ]
  },
  {
   "cell_type": "markdown",
   "metadata": {},
   "source": [
    "##### 删除指定位置处元素 — del 语句"
   ]
  },
  {
   "cell_type": "code",
   "execution_count": 34,
   "metadata": {},
   "outputs": [
    {
     "name": "stdout",
     "output_type": "stream",
     "text": [
      "['郭靖', '黄蓉', '黄药师', '洪七公', '欧阳锋']\n",
      "['郭靖', '黄药师', '洪七公', '欧阳锋']\n"
     ]
    }
   ],
   "source": [
    "my_list = ['郭靖', '黄蓉', '黄药师', '洪七公', '欧阳锋']"
   ]
  },
  {
   "cell_type": "markdown",
   "metadata": {},
   "source": [
    "#### (3) pop() 弹出元素\n",
    "\n",
    "- 语法\n",
    "\n",
    "```python\n",
    ">>> a_list.pop(index=-1)\n",
    "```\n",
    "\n",
    "- 功能 —— 缺省参数时，将尾部元素弹出，并输出"
   ]
  },
  {
   "cell_type": "markdown",
   "metadata": {},
   "source": [
    "##### 弹出尾部元素 — pop 方法"
   ]
  },
  {
   "cell_type": "code",
   "execution_count": 37,
   "metadata": {},
   "outputs": [
    {
     "name": "stdout",
     "output_type": "stream",
     "text": [
      "['张三', '李四', '王二麻子', '孙悟空']\n",
      "['张三', '李四', '王二麻子']\n",
      "['张三', '李四']\n"
     ]
    }
   ],
   "source": [
    "name = ['张三', '李四', '王二麻子', '孙悟空']"
   ]
  },
  {
   "cell_type": "markdown",
   "metadata": {},
   "source": [
    "##### 弹出指定位置元素 — pop 方法"
   ]
  },
  {
   "cell_type": "code",
   "execution_count": null,
   "metadata": {},
   "outputs": [],
   "source": [
    "name = ['张三', '李四', '王二麻子', '孙悟空']"
   ]
  },
  {
   "cell_type": "markdown",
   "metadata": {
    "tags": [],
    "toc-hr-collapsed": true
   },
   "source": [
    "### <font size=4><span id=\"3.1.5\"> 3.1.5 列表的一些常用操作</span></font>"
   ]
  },
  {
   "cell_type": "markdown",
   "metadata": {},
   "source": [
    "#### (1) 一般列表的比较操作\n",
    "\n",
    "- 语法\n",
    "```python\n",
    ">>> list1 compare_op list2\n",
    "```\n",
    "\n",
    "- 功能\n",
    "    - 比较两个列表\n",
    "    - 当列表中存在多个元素的时候，默认从第一个元素开始比较，只要出现了结果，就算整个列表结果\n",
    "    - 比较配对的元素\n",
    "    - 两个列表元素数目可以不一样"
   ]
  },
  {
   "cell_type": "markdown",
   "metadata": {},
   "source": [
    "##### 整数型列表比较\n",
    "\n",
    "\n",
    "- 可采用的比较运算符\n",
    "    - \\>、>=、<、<=、!=、==\n",
    "\n",
    "\n",
    "- 有大于无"
   ]
  },
  {
   "cell_type": "code",
   "execution_count": 38,
   "metadata": {},
   "outputs": [
    {
     "data": {
      "text/plain": [
       "True"
      ]
     },
     "execution_count": 38,
     "metadata": {},
     "output_type": "execute_result"
    }
   ],
   "source": [
    "list1 = [1,2,3]\n",
    "list2 = [1,2,1]\n",
    "list1 > list2"
   ]
  },
  {
   "cell_type": "code",
   "execution_count": 39,
   "metadata": {},
   "outputs": [
    {
     "data": {
      "text/plain": [
       "True"
      ]
     },
     "execution_count": 39,
     "metadata": {},
     "output_type": "execute_result"
    }
   ],
   "source": [
    "# 有 大于 无\n",
    "list1 = [1,2,3, -999]\n",
    "list2 = [1,2,3]\n",
    "list1 >= list2"
   ]
  },
  {
   "cell_type": "code",
   "execution_count": 40,
   "metadata": {},
   "outputs": [
    {
     "data": {
      "text/plain": [
       "False"
      ]
     },
     "execution_count": 40,
     "metadata": {},
     "output_type": "execute_result"
    }
   ],
   "source": [
    "list1 = [123, 456]\n",
    "list2 = [234, 456]\n",
    "list1 > list2"
   ]
  },
  {
   "cell_type": "markdown",
   "metadata": {},
   "source": [
    "#### (2) 字符串列表的比较\n",
    "\n",
    "- 比较 ASCII 码"
   ]
  },
  {
   "cell_type": "code",
   "execution_count": null,
   "metadata": {},
   "outputs": [],
   "source": [
    "listA = list('abcd')\n",
    "listB = list('xyz0')\n",
    "listA > listB"
   ]
  },
  {
   "cell_type": "markdown",
   "metadata": {},
   "source": [
    "#### (3) 列表的加法\n",
    "\n",
    "- 加号 +\n",
    "\n",
    "    - 加号 + 实现了列表的连接，故也称 连接操作符\n",
    "    - 相当于 extend，extend 更专业，建议采用"
   ]
  },
  {
   "cell_type": "markdown",
   "metadata": {},
   "source": [
    "##### 列表加法示例"
   ]
  },
  {
   "cell_type": "code",
   "execution_count": 41,
   "metadata": {},
   "outputs": [
    {
     "data": {
      "text/plain": [
       "[12, 34, 56, 78, 90]"
      ]
     },
     "execution_count": 41,
     "metadata": {},
     "output_type": "execute_result"
    }
   ],
   "source": [
    "list1 = [12,34,56]\n",
    "list2 = [78, 90]\n",
    "list3 = list1 + list2    # 一定是 “列表 + 列表”\n",
    "list3"
   ]
  },
  {
   "cell_type": "markdown",
   "metadata": {},
   "source": [
    "#### (4) 列表的整数乘法\n",
    "\n",
    "- 乘号 *\n",
    "\n",
    "    - 乘号 * 实现了列表的多次重复，故也称 重复操作符\n",
    "\n",
    "\n",
    "- 注意 乘数必须是整数"
   ]
  },
  {
   "cell_type": "code",
   "execution_count": 43,
   "metadata": {
    "collapsed": true
   },
   "outputs": [
    {
     "data": {
      "text/plain": [
       "[123,\n",
       " 456,\n",
       " 123,\n",
       " 456,\n",
       " 123,\n",
       " 456,\n",
       " 123,\n",
       " 456,\n",
       " 123,\n",
       " 456,\n",
       " 123,\n",
       " 456,\n",
       " 123,\n",
       " 456,\n",
       " 123,\n",
       " 456,\n",
       " 123,\n",
       " 456,\n",
       " 123,\n",
       " 456]"
      ]
     },
     "execution_count": 43,
     "metadata": {},
     "output_type": "execute_result"
    }
   ],
   "source": [
    "list1 = [123, 456]\n",
    "list1 = list1 * 10\n",
    "list1"
   ]
  },
  {
   "cell_type": "markdown",
   "metadata": {},
   "source": [
    "#### (5) 列表的 in 和 not in 操作符\n",
    "\n",
    "- 成员-容器 关系操作符\n",
    "- in 是 在其中 的意思\n",
    "- not in 是 不在其中 的意思"
   ]
  },
  {
   "cell_type": "markdown",
   "metadata": {},
   "source": [
    "##### 在或不在"
   ]
  },
  {
   "cell_type": "code",
   "execution_count": 45,
   "metadata": {},
   "outputs": [
    {
     "data": {
      "text/plain": [
       "['鸡蛋', '鸭蛋', '鹅蛋', '鸟蛋', '恐龙蛋', '铁蛋', '滚蛋']"
      ]
     },
     "execution_count": 45,
     "metadata": {},
     "output_type": "execute_result"
    }
   ],
   "source": [
    "egg_list = ['鸡蛋', '鸭蛋', '鹅蛋', '鸟蛋', '恐龙蛋', '铁蛋', '滚蛋']\n",
    "egg_list"
   ]
  },
  {
   "cell_type": "code",
   "execution_count": 47,
   "metadata": {},
   "outputs": [
    {
     "data": {
      "text/plain": [
       "False"
      ]
     },
     "execution_count": 47,
     "metadata": {},
     "output_type": "execute_result"
    }
   ],
   "source": [
    "'茶叶蛋' in egg_list"
   ]
  },
  {
   "cell_type": "markdown",
   "metadata": {},
   "source": [
    "##### 嵌套情形的在或不在\n",
    "\n",
    "- 明明在其中，结果却是不在，何故？\n",
    "- in 和 not in 只能判断一个层次的从属关系"
   ]
  },
  {
   "cell_type": "code",
   "execution_count": 49,
   "metadata": {},
   "outputs": [],
   "source": [
    " egg_list = ['鸡蛋', '鸭蛋', '鹅蛋', ['茶叶蛋', '松花蛋'], '鸟蛋', '恐龙蛋', '铁蛋', '滚蛋']"
   ]
  },
  {
   "cell_type": "code",
   "execution_count": 50,
   "metadata": {},
   "outputs": [
    {
     "data": {
      "text/plain": [
       "False"
      ]
     },
     "execution_count": 50,
     "metadata": {},
     "output_type": "execute_result"
    }
   ],
   "source": [
    "'茶叶蛋' in egg_list"
   ]
  },
  {
   "cell_type": "code",
   "execution_count": 51,
   "metadata": {},
   "outputs": [
    {
     "data": {
      "text/plain": [
       "True"
      ]
     },
     "execution_count": 51,
     "metadata": {},
     "output_type": "execute_result"
    }
   ],
   "source": [
    "['茶叶蛋', '松花蛋'] in egg_list"
   ]
  },
  {
   "cell_type": "markdown",
   "metadata": {
    "tags": [],
    "toc-hr-collapsed": true
   },
   "source": [
    "### <font size=4><span id=\"3.1.6\"> 3.1.6 列表的成员函数</span></font>"
   ]
  },
  {
   "cell_type": "code",
   "execution_count": 52,
   "metadata": {
    "collapsed": true
   },
   "outputs": [
    {
     "data": {
      "text/plain": [
       "['__add__',\n",
       " '__class__',\n",
       " '__class_getitem__',\n",
       " '__contains__',\n",
       " '__delattr__',\n",
       " '__delitem__',\n",
       " '__dir__',\n",
       " '__doc__',\n",
       " '__eq__',\n",
       " '__format__',\n",
       " '__ge__',\n",
       " '__getattribute__',\n",
       " '__getitem__',\n",
       " '__gt__',\n",
       " '__hash__',\n",
       " '__iadd__',\n",
       " '__imul__',\n",
       " '__init__',\n",
       " '__init_subclass__',\n",
       " '__iter__',\n",
       " '__le__',\n",
       " '__len__',\n",
       " '__lt__',\n",
       " '__mul__',\n",
       " '__ne__',\n",
       " '__new__',\n",
       " '__reduce__',\n",
       " '__reduce_ex__',\n",
       " '__repr__',\n",
       " '__reversed__',\n",
       " '__rmul__',\n",
       " '__setattr__',\n",
       " '__setitem__',\n",
       " '__sizeof__',\n",
       " '__str__',\n",
       " '__subclasshook__',\n",
       " 'append',\n",
       " 'clear',\n",
       " 'copy',\n",
       " 'count',\n",
       " 'extend',\n",
       " 'index',\n",
       " 'insert',\n",
       " 'pop',\n",
       " 'remove',\n",
       " 'reverse',\n",
       " 'sort']"
      ]
     },
     "execution_count": 52,
     "metadata": {},
     "output_type": "execute_result"
    }
   ],
   "source": [
    "dir(list)"
   ]
  },
  {
   "cell_type": "markdown",
   "metadata": {},
   "source": [
    "#### (1) count\n",
    "\n",
    "- 计算某个参数在列表中出现次数"
   ]
  },
  {
   "cell_type": "markdown",
   "metadata": {},
   "source": [
    "##### 元素计数"
   ]
  },
  {
   "cell_type": "code",
   "execution_count": null,
   "metadata": {},
   "outputs": [],
   "source": [
    "int_list = [1, 1, 2, 2, 4, 5, 4, 4, 6, 7]\n",
    "int_list.count(4)"
   ]
  },
  {
   "cell_type": "code",
   "execution_count": null,
   "metadata": {},
   "outputs": [],
   "source": [
    "fruit_list = ['apple', 'banana','lemon', 'orange', 'melon', ['apple', 'apple'], 'lemon', 'peach', 'apple', 'banana', 'lemon']\n",
    "fruit_list.count('apple')"
   ]
  },
  {
   "cell_type": "markdown",
   "metadata": {},
   "source": [
    "#### (2) index\n",
    "\n",
    "- 语法\n",
    "```python\n",
    ">>> a_list.index(value, start, stop)\n",
    "```\n",
    "\n",
    "- 功能\n",
    "    - 用于从列表中找出某个值第一个匹配项的索引位置\n",
    "    \n",
    "- 参数\n",
    "    - value 查找值\n",
    "    - start 起始下标"
   ]
  },
  {
   "cell_type": "markdown",
   "metadata": {},
   "source": [
    "##### 查找索引"
   ]
  },
  {
   "cell_type": "code",
   "execution_count": 4,
   "metadata": {},
   "outputs": [
    {
     "data": {
      "text/plain": [
       "2"
      ]
     },
     "execution_count": 4,
     "metadata": {},
     "output_type": "execute_result"
    }
   ],
   "source": [
    "fruit_list = ['apple', 'banana','lemon', 'orange', 'melon',\n",
    "              ['apple', 'apple'], 'lemon', 'peach', 'apple', 'banana', 'lemon']\n",
    "j = fruit_list.index('lemon')\n",
    "j"
   ]
  },
  {
   "cell_type": "markdown",
   "metadata": {},
   "source": [
    "#### (3) 列表的 sort 和 reverse 方法\n",
    "\n",
    "\n",
    "- 功能\n",
    "    - sort 排序\n",
    "    - reverse逆序\n",
    "    \n",
    "    \n",
    "- sort 语法\n",
    "\n",
    "```python\n",
    ">>> list.sort(key=None, reverse=False)\n",
    "```\n",
    "\n",
    "\n",
    "- 参数\n",
    "    - key 用来进行比较的元素(如列表元素也是容器时，指定比较的内层元素)\n",
    "    - reverse 排序规则，reverse = True 降序， reverse = False 升序（默认）\n",
    "    \n",
    "    \n",
    "- reverse 语法\n",
    "```python\n",
    ">>> list.reverse()  # 无参数，无返回值\n",
    "```"
   ]
  },
  {
   "cell_type": "markdown",
   "metadata": {},
   "source": [
    "##### 列表排序"
   ]
  },
  {
   "cell_type": "code",
   "execution_count": null,
   "metadata": {},
   "outputs": [],
   "source": [
    "int_list = [8, 9, 4, 3, 5, 4, 1, 2]\n",
    "print(int_list)\n",
    "int_list.sort()\n",
    "print(int_list)"
   ]
  },
  {
   "cell_type": "markdown",
   "metadata": {},
   "source": [
    "##### 元素不同质列表的排序可能报错\n",
    "\n",
    "\n",
    "- 排序要求 —— 元素之间能进行比较"
   ]
  },
  {
   "cell_type": "code",
   "execution_count": null,
   "metadata": {},
   "outputs": [],
   "source": [
    "mix_list = [8, 9, 4, 3, 5, [1, 2, 3], 4, 1, 2]\n",
    "mix_list.sort()\n",
    "mix_list"
   ]
  },
  {
   "cell_type": "markdown",
   "metadata": {},
   "source": [
    "#### (4) copy 与 deepcopy\n",
    "\n",
    "\n",
    "- 功能\n",
    "     - 拷贝，即在内存中另外制作一份"
   ]
  },
  {
   "cell_type": "markdown",
   "metadata": {},
   "source": [
    "##### =、copy 与 deepcopy 的比较\n",
    "\n",
    "\n",
    "- = —— 引用一份，id 相同\n",
    "- copy —— 拷贝一份，id 不相同（浅拷贝）\n",
    "- deepcopy —— 拷贝一份，id 不相同（深拷贝）"
   ]
  },
  {
   "cell_type": "code",
   "execution_count": 53,
   "metadata": {},
   "outputs": [
    {
     "name": "stdout",
     "output_type": "stream",
     "text": [
      "赋值 =\n",
      "\n",
      "2390678430016\n",
      "2390678430016\n"
     ]
    }
   ],
   "source": [
    "print(\"赋值 =\\n\")\n",
    "a = [1, 2, [3, 4], 5]\n",
    "b = a\n",
    "\n",
    "print(id(a))\n",
    "print(id(b))"
   ]
  },
  {
   "cell_type": "code",
   "execution_count": 55,
   "metadata": {},
   "outputs": [
    {
     "name": "stdout",
     "output_type": "stream",
     "text": [
      "[100, 2, [3, 4], 5]\n"
     ]
    }
   ],
   "source": [
    "a[0] = 100\n",
    "print(b)"
   ]
  },
  {
   "cell_type": "code",
   "execution_count": null,
   "metadata": {},
   "outputs": [],
   "source": [
    "b[1]=3\n",
    "print(\"a =\", a)\n",
    "print(\"b =\", b)"
   ]
  },
  {
   "cell_type": "code",
   "execution_count": 61,
   "metadata": {},
   "outputs": [
    {
     "name": "stdout",
     "output_type": "stream",
     "text": [
      "2390678510528\n",
      "2390678490816\n"
     ]
    }
   ],
   "source": [
    "import copy\n",
    "\n",
    "a = [1, 2, [3, [10, 20]], 5]\n",
    "b = copy.deepcopy(a)\n",
    "print(id(a))\n",
    "print(id(b))"
   ]
  },
  {
   "cell_type": "code",
   "execution_count": 62,
   "metadata": {},
   "outputs": [
    {
     "name": "stdout",
     "output_type": "stream",
     "text": [
      "[1, 2, [100, [10, 20]], 5]\n",
      "[1, 2, [3, [10, 20]], 5]\n"
     ]
    }
   ],
   "source": [
    "a[2][0]=100\n",
    "print(a)\n",
    "print(b)"
   ]
  },
  {
   "cell_type": "code",
   "execution_count": null,
   "metadata": {},
   "outputs": [],
   "source": [
    "a[2][0]=1\n",
    "print(a)\n",
    "print(b)"
   ]
  },
  {
   "cell_type": "code",
   "execution_count": null,
   "metadata": {},
   "outputs": [],
   "source": [
    "a[2][1][0] = 2\n",
    "print(a)\n",
    "print(b)"
   ]
  },
  {
   "cell_type": "markdown",
   "metadata": {},
   "source": [
    "## <font size=5><span id=\"3.2\"> 3.2 元组</span></font>\n",
    "#### 带上枷锁的列表"
   ]
  },
  {
   "cell_type": "markdown",
   "metadata": {
    "toc-hr-collapsed": true
   },
   "source": [
    "### <font size=4><span id=\"3.2.1\"> 3.2.1 创建和访问一个元组</span></font>"
   ]
  },
  {
   "cell_type": "markdown",
   "metadata": {},
   "source": [
    "#### 元组和列表的区别：\n",
    "* 元组 不可改变\n",
    "* 元组用()，列表用[]"
   ]
  },
  {
   "cell_type": "code",
   "execution_count": 65,
   "metadata": {},
   "outputs": [
    {
     "ename": "TypeError",
     "evalue": "'tuple' object does not support item assignment",
     "output_type": "error",
     "traceback": [
      "\u001b[1;31m---------------------------------------------------------------------------\u001b[0m",
      "\u001b[1;31mTypeError\u001b[0m                                 Traceback (most recent call last)",
      "\u001b[1;32m~\\AppData\\Local\\Temp\\ipykernel_23168\\1875063194.py\u001b[0m in \u001b[0;36m<module>\u001b[1;34m\u001b[0m\n\u001b[0;32m      1\u001b[0m \u001b[0mtuple1\u001b[0m \u001b[1;33m=\u001b[0m \u001b[1;33m(\u001b[0m\u001b[1;36m1\u001b[0m\u001b[1;33m,\u001b[0m \u001b[1;36m2\u001b[0m\u001b[1;33m,\u001b[0m \u001b[1;36m3\u001b[0m\u001b[1;33m,\u001b[0m \u001b[1;36m4\u001b[0m\u001b[1;33m)\u001b[0m\u001b[1;33m\u001b[0m\u001b[1;33m\u001b[0m\u001b[0m\n\u001b[0;32m      2\u001b[0m \u001b[0mtuple1\u001b[0m\u001b[1;33m\u001b[0m\u001b[1;33m\u001b[0m\u001b[0m\n\u001b[1;32m----> 3\u001b[1;33m \u001b[0mtuple1\u001b[0m\u001b[1;33m[\u001b[0m\u001b[1;36m0\u001b[0m\u001b[1;33m]\u001b[0m\u001b[1;33m=\u001b[0m\u001b[1;36m2\u001b[0m\u001b[1;33m\u001b[0m\u001b[1;33m\u001b[0m\u001b[0m\n\u001b[0m",
      "\u001b[1;31mTypeError\u001b[0m: 'tuple' object does not support item assignment"
     ]
    }
   ],
   "source": [
    "tuple1 = (1, 2, 3, 4)\n",
    "tuple1\n",
    "tuple1[0]=2"
   ]
  },
  {
   "cell_type": "markdown",
   "metadata": {},
   "source": [
    "#### 访问元组的方法与列表无异！！"
   ]
  },
  {
   "cell_type": "code",
   "execution_count": null,
   "metadata": {},
   "outputs": [],
   "source": [
    "tuple1[2]"
   ]
  },
  {
   "cell_type": "code",
   "execution_count": null,
   "metadata": {},
   "outputs": [],
   "source": [
    "tuple1[2:]"
   ]
  },
  {
   "cell_type": "code",
   "execution_count": null,
   "metadata": {},
   "outputs": [],
   "source": [
    "tuple1[1:-1]"
   ]
  },
  {
   "cell_type": "code",
   "execution_count": null,
   "metadata": {},
   "outputs": [],
   "source": [
    "## 也可以用分片的方法，复制一个元组\n",
    "tuple2 = tuple1[:]\n",
    "tuple2"
   ]
  },
  {
   "cell_type": "code",
   "execution_count": null,
   "metadata": {},
   "outputs": [],
   "source": [
    "## 试图改变元素\n",
    "tuple1[2] = 0"
   ]
  },
  {
   "cell_type": "markdown",
   "metadata": {},
   "source": [
    "#### 提问：列表的特征是[],那么元组的特征是()么？\n"
   ]
  },
  {
   "cell_type": "code",
   "execution_count": 68,
   "metadata": {},
   "outputs": [],
   "source": [
    "temp = (1)"
   ]
  },
  {
   "cell_type": "code",
   "execution_count": 69,
   "metadata": {},
   "outputs": [
    {
     "data": {
      "text/plain": [
       "int"
      ]
     },
     "execution_count": 69,
     "metadata": {},
     "output_type": "execute_result"
    }
   ],
   "source": [
    "type(temp)"
   ]
  },
  {
   "cell_type": "markdown",
   "metadata": {},
   "source": [
    "#### 问题来了？假如要创建一个只有一个元素的tuple，怎么办？"
   ]
  },
  {
   "cell_type": "code",
   "execution_count": 70,
   "metadata": {},
   "outputs": [],
   "source": [
    "temp = (1,)"
   ]
  },
  {
   "cell_type": "code",
   "execution_count": 71,
   "metadata": {},
   "outputs": [
    {
     "data": {
      "text/plain": [
       "tuple"
      ]
     },
     "execution_count": 71,
     "metadata": {},
     "output_type": "execute_result"
    }
   ],
   "source": [
    "type(temp)"
   ]
  },
  {
   "cell_type": "markdown",
   "metadata": {},
   "source": [
    "[返回目录](#mulu5)"
   ]
  },
  {
   "cell_type": "markdown",
   "metadata": {
    "toc-hr-collapsed": true
   },
   "source": [
    "### <font size=4><span id=\"3.2.2\"> 3.2.2 更新和删除元组</span></font>"
   ]
  },
  {
   "cell_type": "code",
   "execution_count": null,
   "metadata": {},
   "outputs": [],
   "source": [
    "temp = ('a', 'b', 'c', 'd')"
   ]
  },
  {
   "cell_type": "code",
   "execution_count": null,
   "metadata": {},
   "outputs": [],
   "source": [
    "temp[2] = 'e'"
   ]
  },
  {
   "cell_type": "code",
   "execution_count": null,
   "metadata": {},
   "outputs": [],
   "source": [
    "temp[:1]"
   ]
  },
  {
   "cell_type": "code",
   "execution_count": null,
   "metadata": {},
   "outputs": [],
   "source": [
    "temp = temp[:1] + ('e',) + temp[2:]\n",
    "temp"
   ]
  },
  {
   "cell_type": "code",
   "execution_count": null,
   "metadata": {},
   "outputs": [],
   "source": [
    "temp =  ('a', 'b', 'c', 'd')\n",
    "temp = temp[:1]+temp[2:]\n",
    "temp"
   ]
  },
  {
   "cell_type": "code",
   "execution_count": null,
   "metadata": {},
   "outputs": [],
   "source": [
    "del temp\n",
    "temp"
   ]
  },
  {
   "cell_type": "markdown",
   "metadata": {},
   "source": [
    "[返回目录](#mulu5)"
   ]
  }
 ],
 "metadata": {
  "kernelspec": {
   "display_name": "Python 3 (ipykernel)",
   "language": "python",
   "name": "python3"
  },
  "language_info": {
   "codemirror_mode": {
    "name": "ipython",
    "version": 3
   },
   "file_extension": ".py",
   "mimetype": "text/x-python",
   "name": "python",
   "nbconvert_exporter": "python",
   "pygments_lexer": "ipython3",
   "version": "3.11.4"
  }
 },
 "nbformat": 4,
 "nbformat_minor": 4
}
