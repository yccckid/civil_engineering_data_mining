{
 "cells": [
  {
   "cell_type": "markdown",
   "metadata": {},
   "source": [
    "# 第五讲 字符串、字典和集合"
   ]
  },
  {
   "cell_type": "markdown",
   "metadata": {
    "tags": [],
    "toc-hr-collapsed": true
   },
   "source": [
    "## <font size=5><span id=\"5.1\"> 5.1 字符串</span></font>"
   ]
  },
  {
   "cell_type": "markdown",
   "metadata": {},
   "source": [
    "\n",
    "- 可以将字符串视为字符列表\n",
    "- 字符串的许多操作和列表类似"
   ]
  },
  {
   "cell_type": "markdown",
   "metadata": {},
   "source": [
    "### <font size=4><span id=\"5.1.1\"> 5.1.1 字符串的创建、修改等操作</span></font>"
   ]
  },
  {
   "cell_type": "code",
   "execution_count": 2,
   "metadata": {},
   "outputs": [
    {
     "data": {
      "text/plain": [
       "'I Love Tongji Univ'"
      ]
     },
     "execution_count": 2,
     "metadata": {},
     "output_type": "execute_result"
    }
   ],
   "source": [
    "str1 = 'I Love Tongji University'\n",
    "str1[:-6]"
   ]
  },
  {
   "cell_type": "code",
   "execution_count": null,
   "metadata": {},
   "outputs": [],
   "source": [
    "str1[3]"
   ]
  },
  {
   "cell_type": "code",
   "execution_count": 3,
   "metadata": {},
   "outputs": [
    {
     "data": {
      "text/plain": [
       "'I really Love Tongji University'"
      ]
     },
     "execution_count": 3,
     "metadata": {},
     "output_type": "execute_result"
    }
   ],
   "source": [
    "str2 = str1[:2]+'really '+str1[2:]\n",
    "str2"
   ]
  },
  {
   "cell_type": "code",
   "execution_count": null,
   "metadata": {},
   "outputs": [],
   "source": [
    "str1"
   ]
  },
  {
   "cell_type": "code",
   "execution_count": null,
   "metadata": {},
   "outputs": [],
   "source": [
    "id(str1)"
   ]
  },
  {
   "cell_type": "code",
   "execution_count": null,
   "metadata": {},
   "outputs": [],
   "source": [
    "id(str2)"
   ]
  },
  {
   "cell_type": "markdown",
   "metadata": {},
   "source": [
    "### <font size=4><span id=\"5.1.2\"> 5.1.2  比较、逻辑、成员关系</span></font>"
   ]
  },
  {
   "cell_type": "code",
   "execution_count": null,
   "metadata": {},
   "outputs": [],
   "source": [
    "\"I Love Tongji\" > 'I Love China'"
   ]
  },
  {
   "cell_type": "code",
   "execution_count": 8,
   "metadata": {},
   "outputs": [
    {
     "name": "stdout",
     "output_type": "stream",
     "text": [
      "False\n",
      "2699558692144\n",
      "2699559357456\n"
     ]
    }
   ],
   "source": [
    "# is 和 ==\n",
    "str1 = 'I Love Tongji University'\n",
    "str2 = 'I Love Tongji University'\n",
    "print(str1 is str2)\n",
    "print(id(str1))\n",
    "print(id(str2))"
   ]
  },
  {
   "cell_type": "markdown",
   "metadata": {},
   "source": [
    "### <font size=4><span id=\"5.1.3\"> 5.1.3 各种内置方法</span></font>"
   ]
  },
  {
   "cell_type": "markdown",
   "metadata": {},
   "source": [
    "- 字符串内置方法更多"
   ]
  },
  {
   "cell_type": "markdown",
   "metadata": {},
   "source": [
    "|序号|方法|           描述    |  \n",
    "|:---|:---|:------|\n",
    "|1|string.capitalize()|把字符串的第一个字符大写|\n",
    "|2|string.center(width)|返回一个原字符串居中,并使用空格填充至长度 width 的新字符串|\n",
    "|3|string.count(str, beg=0, end=len(string)) | 返回 str 在 string 里面出现的次数，<br>如果 beg 或者 end 指定则返回指定范围内 str 出现的次数|  \n",
    "|4|string.decode(encoding='UTF-8', errors='strict')|以 encoding 指定的编码格式解码 string，<br>如果出错默认报一个 ValueError 的 异 常 ， <br>除非 errors 指 定 的 是 'ignore' 或 者'replace'|\n",
    "|5|string.encode(encoding='UTF-8', errors='strict')|以 encoding 指定的编码格式编码 string，<br>如果出错默认报一个ValueError 的异常，<br>除非 errors 指定的是'ignore'或者'replace'|  \n",
    "|6|string.endswith(obj, beg=0, end=len(string))|检查字符串是否以 obj 结束，<br>如果beg 或者 end 指定则检查指定的范围内是否以 obj 结束，<br>如果是，返回 True,否则返回 False.|    \n",
    "|7|string.expandtabs(tabsize=8)|把字符串 string 中的 tab 符号转为空格，<br>tab 符号默认的空格数是 8。|  \n",
    "|8|string.find(str, beg=0, end=len(string))|检测 str 是否包含在 string 中，<br>如果 beg 和 end 指定范围，则检查是否包含在指定范围内，<br>如果是返回开始的索引值，否则返回-1|  \n",
    "|9|string.format()|格式化字符串|  \n",
    "|10|string.index(str, beg=0, end=len(string))|跟find()方法一样，只不过如果str不在 string中会报一个异常.|  \n",
    "|11|string.isalnum()|如果 string 至少有一个字符并且所有字符都是字母或数字<br>则返回 True,否则返回 False|  \n",
    "|12|string.isalpha()|如果 string 至少有一个字符并且所有字符都是字母则返回 True,<br>否则返回 False|  \n",
    "|13|string.isdecimal()|如果 string 只包含十进制数字则返回 True 否则返回 False.|  \n",
    "|14|string.isdigit()|如果 string 只包含数字则返回 True 否则返回 False.|  \n",
    "|15|string.islower()|如果 string 中包含至少一个区分大小写的字符，<br>并且所有这些(区分大小写的)字符都是小写，则返回 True，<br>否则返回 False|  \n",
    "|16|string.isnumeric()|如果 string 中只包含数字字符，则返回 True，否则返回 False|  \n",
    "|17|string.isspace()|如果 string 中只包含空格，则返回 True，否则返回 False.|  \n",
    "|18|string.istitle()|如果 string 是标题化的(见 title())则返回 True，<br>否则返回 False|  \n",
    "|19|string.isupper()|如果 string 中包含至少一个区分大小写的字符，<br>并且所有这些(区分大小写的)字符都是大写，则返回 True，<br>否则返回 False|  \n",
    "|20|string.join(seq)|以 string 作为分隔符，将 seq 中所有的元素(的字符串表示)合并为一个新的字符串|\n",
    "|21|string.ljust(width)|返回一个原字符串左对齐,并使用空格填充至长度 width 的新字符串|  \n",
    "|22|string.lower()|转换 string 中所有大写字符为小写.|  \n",
    "|23|string.lstrip()|截掉 string 左边的空格|  \n",
    "|24|string.maketrans(intab, outtab])|maketrans() 方法用于创建字符映射的转换表，<br>对于接受两个参数的最简单的调用方式，<br>第一个参数是字符串，表示需要转换的字符，<br>第二个参数也是字符串表示转换的目标。|  \n",
    "|25|max(str)| 返回字符串 str 中最大的字母。|  \n",
    "|26|min(str)|返回字符串 str 中最小的字母。|  \n",
    "|27|string.partition(str)|有点像 find()和 split()的结合体,<br>从 str 出现的第一个位置起,把字符串string分成一个3元素的元组  (string_pre_str,str,string_post_str),<br>如果 string 中不包含str 则 string_pre_str == string.|  \n",
    "|28|string.replace(str1, str2,  num=string.count(str1))|把 string 中的 str1 替换成 str2,如果 num 指定，则替换不超过 num 次.|  \n",
    "|29|string.rfind(str, beg=0,end=len(string) )|类似于 find()函数，不过是从右边开始查找.|  \n",
    "|30|string.rindex( str, beg=0,end=len(string))|类似于 index()，不过是从右边开始.|  \n",
    "|31|string.rjust(width)|返回一个原字符串右对齐,并使用空格填充至长度 width 的新字符串|  \n",
    "|32|string.rpartition(str)|类似于 partition()函数,不过是从右边开始查找|  \n",
    "|33|string.rstrip()|删除 string 字符串末尾的空格.|  \n",
    "|34|string.split(str=\"\", num=string.count(str))|以 str 为分隔符切片 string，如果 num有指定值，则仅分隔 num 个子字符串|  \n",
    "|35|string.splitlines([keepends])|按照行('\\r', '\\r\\n', \\n')分隔，返回一个包含各行作为元素的列表，<br>如果参数 keepends 为 False，不包含换行符，<br>如果为 True，则保留换行符。|  \n",
    "|36|string.startswith(obj, beg=0,end=len(string))|检查字符串是否是以 obj 开头，是则返回 True，否则返回 False。<br>如果beg 和 end 指定值，则在指定范围内检查.|  \n",
    "|37|string.strip([obj])|在 string 上执行 lstrip()和 rstrip()|  \n",
    "|38|string.swapcase()|翻转 string 中的大小写|  \n",
    "|39|string.title()|返回\"标题化\"的 string,就是说所有单词都是以大写开始，其余字母均为小写(见 istitle())|  \n",
    "|40|string.translate(str, del=\"\")|根据 str 给出的表(包含 256 个字符)转换 string 的字符,要过滤掉的字符放到 del 参数中|  \n",
    "|41|string.upper()|转换 string 中的小写字母为大写|  \n",
    "|42|string.zfill(width)|返回长度为 width 的字符串，原字符串 string 右对齐，前面填充0|  "
   ]
  },
  {
   "cell_type": "markdown",
   "metadata": {
    "tags": []
   },
   "source": [
    "### <font size=4><span id=\"5.1.4\"> 5.1.4 案例</span></font>"
   ]
  },
  {
   "cell_type": "markdown",
   "metadata": {},
   "source": [
    "#### 特朗普发言单词统计"
   ]
  },
  {
   "cell_type": "markdown",
   "metadata": {},
   "source": [
    "\n",
    "- 任务 —— 分析特朗普就职演讲中出现“美国”的次数（初级，仅演示处理数组）\n",
    "\n",
    "\n",
    "- 特朗普演讲 文字简介\n",
    "    - 时期 2017年1月21日\n",
    "    - 时长 16 分钟\n",
    "    - 单词 1467 个\n",
    "    - 字符 8500 多个（不包括空格）\n",
    "\n",
    "\n",
    "- 思考\n",
    "    - 美国的英文单词是 America\n",
    "    - 变化 —— america、American、Americans、America'、America.、America, ......"
   ]
  },
  {
   "cell_type": "markdown",
   "metadata": {},
   "source": [
    "##### (1) 演讲全文"
   ]
  },
  {
   "cell_type": "code",
   "execution_count": 14,
   "metadata": {},
   "outputs": [],
   "source": [
    "Speech = \"\"\" Chief Justice Roberts, President Carter, President Clinton, President Bush, President Obama, fellow Americans and people of the world, thank you.\n",
    "We, the citizens of America, are now joined in a great national effort to rebuild our country and restore its promise for all of our people.\n",
    "Together, we will determine the course of America and the world for many, many years to come. We will face challenges, we will confront hardships, but we will get the job done.\n",
    "Every four years, we gather on these steps to carry out the orderly and peaceful transfer of power, and we are grateful to President Obama and First Lady Michelle Obama for their gracious aid throughout this transition. They have been magnificent. Thank you.\n",
    "Today's ceremony, however, has very special meaning because today, we are not merely transferring power from one administration to another or from one party to another, but we are transferring power from Washington, D.C. and giving it back to you, the people.\n",
    "For too long, a small group in our nation's capital has reaped the rewards of government while the people have borne the cost. Washington flourished, but the people did not share in its wealth. Politicians prospered, but the jobs left and the factories closed. The establishment protected itself, but not the citizens of our country. Their victories have not been your victories. Their triumphs have not been your triumphs. And while they celebrated in our nation's capital, there was little to celebrate for struggling families all across our land.\n",
    "That all changes starting right here and right now because this moment is your moment, it belongs to you.\n",
    "   It belongs to everyone gathered here today and everyone watching all across America. This is your day. This is your celebration. And this, the United States of America, is your country.\n",
    "What truly matters is not which party controls our government, but whether our government is controlled by the people.\n",
    "January 20th, 2017 will be remembered as the day the people became the rulers of this nation again.\n",
    "The forgotten men and women of our country will be forgotten no longer.\n",
    "   Everyone is listening to you now. You came by the tens of millions to become part of a historic movement, the likes of which the world has never seen before.\n",
    "At the center of this movement is a crucial conviction, that a nation exists to serve its citizens. Americans want great schools for their children, safe neighborhoods for their families, and good jobs for themselves. These are just and reasonable demands of righteous people and a righteous public.\n",
    "But for too many of our citizens, a different reality exists: mothers and children trapped in poverty in our inner cities; rusted out factories scattered like tombstones across the landscape of our nation; an education system flush with cash, but which leaves our young and beautiful students deprived of all knowledge; and the crime and the gangs and the drugs that have stolen too many lives and robbed our country of so much unrealized potential.\n",
    "This American carnage stops right here and stops right now.\n",
    "   We are one nation and their pain is our pain. Their dreams are our dreams. And their success will be our success. We share one heart, one home, and one glorious destiny. The oath of office I take today is an oath of allegiance to all Americans.\n",
    "For many decades, we've enriched foreign industry at the expense of American industry; subsidized the armies of other countries, while allowing for the very sad depletion of our military. We've defended other nations' borders while refusing to defend our own.\n",
    "And spent trillions and trillions of dollars overseas while America's infrastructure has fallen into disrepair and decay. We've made other countries rich, while the wealth, strength and confidence of our country has dissipated over the horizon.\n",
    "One by one, the factories shuttered and left our shores, with not even a thought about the millions and millions of American workers that were left behind. The wealth of our middle class has been ripped from their homes and then redistributed all across the world.\n",
    "But that is the past. And now, we are looking only to the future.\n",
    "    We assembled here today are issuing a new decree to be heard in every city, in every foreign capital, and in every hall of power. From this day forward, a new vision will govern our land. From this day forward, it's going to be only America first, America first.\n",
    "Every decision on trade, on taxes, on immigration, on foreign affairs will be made to benefit American workers and American families. We must protect our borders from the ravages of other countries making our products, stealing our companies and destroying our jobs.\n",
    "Protection will lead to great prosperity and strength. I will fight for you with every breath in my body and I will never ever let you down.\n",
    "America will start winning again, winning like never before.\n",
    "    We will bring back our jobs. We will bring back our borders. We will bring back our wealth. And we will bring back our dreams.\n",
    "We will build new roads and highways and bridges and airports and tunnels and railways all across our wonderful nation. We will get our people off of welfare and back to work, rebuilding our country with American hands and American labor.\n",
    "We will follow two simple rules; buy American and hire American.\n",
    "    We will seek friendship and goodwill with the nations of the world, but we do so with the understanding that it is the right of all nations to put their own interests first. We do not seek to impose our way of life on anyone, but rather to let it shine as an example. We will shine for everyone to follow.\n",
    "We will reinforce old alliances and form new ones and unite the civilized world against radical Islamic terrorism, which we will eradicate from the face of the Earth.\n",
    "At the bedrock of our politics will be a total allegiance to the United States of America, and through our loyalty to our country, we will rediscover our loyalty to each other. When you open your heart to patriotism, there is no room for prejudice.\n",
    "The Bible tells us how good and pleasant it is when God's people live together in unity. We must speak our minds openly, debate our disagreements honestly, but always pursue solidarity. When America is united, America is totally unstoppable.\n",
    "There should be no fear. We are protected and we will always be protected. We will be protected by the great men and women of our military and law enforcement. And most importantly, we will be protected by God.\n",
    "Finally, we must think big and dream even bigger. In America, we understand that a nation is only living as long as it is striving. We will no longer accept politicians who are all talk and no action, constantly complaining, but never doing anything about it.\n",
    "The time for empty talk is over. Now arrives the hour of action.\n",
    "    Do not allow anyone to tell you that it cannot be done. No challenge can match the heart and fight and spirit of America. We will not fail. Our country will thrive and prosper again.\n",
    "We stand at the birth of a new millennium, ready to unlock the mysteries of space, to free the earth from the miseries of disease, and to harness the energies, industries and technologies of tomorrow. A new national pride will stir ourselves, lift our sights and heal our divisions.\n",
    "It's time to remember that old wisdom our soldiers will never forget, that whether we are black or brown or white, we all bleed the same red blood of patriots.\n",
    "We all enjoy the same glorious freedoms and we all salute the same great American flag.\n",
    "    And whether a child is born in the urban sprawl of Detroit or the wind-swept plains of Nebraska, they look up at the same night sky, they fill their heart with the same dreams, and they are infused with the breath of life by the same almighty creator.\n",
    "So to all Americans in every city near and far, small and large, from mountain to mountain, from ocean to ocean, hear these words: You will never be ignored again.\n",
    "Your voice, your hopes, and your dreams will define our American destiny. And your courage and goodness and love will forever guide us along the way.\n",
    "Together, we will make America strong again. We will make America wealthy again. We will make America proud again. We will make America safe again. And yes, together we will make America great again.\n",
    "    Thank you. God bless you. And God bless America.\n",
    "    Thank you.\n",
    "    God bless America.\n",
    "\"\"\""
   ]
  },
  {
   "cell_type": "markdown",
   "metadata": {},
   "source": [
    "##### (2) split 分解 — 有助于寻找关键词（或高频词）\n",
    "\n",
    "- 注意\n",
    "    - 函数 Speech.split 暂时不能过滤标点符号\n",
    "    - 需要更强大的字符串处理能力，如正则表达式"
   ]
  },
  {
   "cell_type": "code",
   "execution_count": 2,
   "metadata": {
    "collapsed": true,
    "jupyter": {
     "outputs_hidden": true
    }
   },
   "outputs": [
    {
     "data": {
      "text/plain": [
       "['2017',\n",
       " '20th,',\n",
       " 'A',\n",
       " 'America',\n",
       " 'America',\n",
       " 'America',\n",
       " 'America',\n",
       " 'America',\n",
       " 'America',\n",
       " 'America',\n",
       " 'America',\n",
       " 'America',\n",
       " 'America',\n",
       " 'America',\n",
       " \"America's\",\n",
       " 'America,',\n",
       " 'America,',\n",
       " 'America,',\n",
       " 'America,',\n",
       " 'America.',\n",
       " 'America.',\n",
       " 'America.',\n",
       " 'America.',\n",
       " 'American',\n",
       " 'American',\n",
       " 'American',\n",
       " 'American',\n",
       " 'American',\n",
       " 'American',\n",
       " 'American',\n",
       " 'American',\n",
       " 'American',\n",
       " 'American',\n",
       " 'American.',\n",
       " 'Americans',\n",
       " 'Americans',\n",
       " 'Americans',\n",
       " 'Americans.',\n",
       " 'And',\n",
       " 'And',\n",
       " 'And',\n",
       " 'And',\n",
       " 'And',\n",
       " 'And',\n",
       " 'And',\n",
       " 'And',\n",
       " 'And',\n",
       " 'And',\n",
       " 'And',\n",
       " 'At',\n",
       " 'At',\n",
       " 'Bible',\n",
       " 'Bush,',\n",
       " 'But',\n",
       " 'But',\n",
       " 'Carter,',\n",
       " 'Chief',\n",
       " 'Clinton,',\n",
       " 'D.C.',\n",
       " 'Detroit',\n",
       " 'Do',\n",
       " 'Earth.',\n",
       " 'Every',\n",
       " 'Every',\n",
       " 'Everyone',\n",
       " 'Finally,',\n",
       " 'First',\n",
       " 'For',\n",
       " 'For',\n",
       " 'From',\n",
       " 'From',\n",
       " 'God',\n",
       " 'God',\n",
       " 'God',\n",
       " \"God's\",\n",
       " 'God.',\n",
       " 'I',\n",
       " 'I',\n",
       " 'I',\n",
       " 'In',\n",
       " 'Islamic',\n",
       " 'It',\n",
       " \"It's\",\n",
       " 'January',\n",
       " 'Justice',\n",
       " 'Lady',\n",
       " 'Michelle',\n",
       " 'Nebraska,',\n",
       " 'No',\n",
       " 'Now',\n",
       " 'Obama',\n",
       " 'Obama',\n",
       " 'Obama,',\n",
       " 'One',\n",
       " 'Our',\n",
       " 'Politicians',\n",
       " 'President',\n",
       " 'President',\n",
       " 'President',\n",
       " 'President',\n",
       " 'President',\n",
       " 'Protection',\n",
       " 'Roberts,',\n",
       " 'So',\n",
       " 'States',\n",
       " 'States',\n",
       " 'Thank',\n",
       " 'Thank',\n",
       " 'Thank',\n",
       " 'That',\n",
       " 'The',\n",
       " 'The',\n",
       " 'The',\n",
       " 'The',\n",
       " 'The',\n",
       " 'The',\n",
       " 'Their',\n",
       " 'Their',\n",
       " 'Their',\n",
       " 'There',\n",
       " 'These',\n",
       " 'They',\n",
       " 'This',\n",
       " 'This',\n",
       " 'This',\n",
       " \"Today's\",\n",
       " 'Together,',\n",
       " 'Together,',\n",
       " 'United',\n",
       " 'United',\n",
       " 'Washington',\n",
       " 'Washington,',\n",
       " 'We',\n",
       " 'We',\n",
       " 'We',\n",
       " 'We',\n",
       " 'We',\n",
       " 'We',\n",
       " 'We',\n",
       " 'We',\n",
       " 'We',\n",
       " 'We',\n",
       " 'We',\n",
       " 'We',\n",
       " 'We',\n",
       " 'We',\n",
       " 'We',\n",
       " 'We',\n",
       " 'We',\n",
       " 'We',\n",
       " 'We',\n",
       " 'We',\n",
       " 'We',\n",
       " 'We',\n",
       " 'We',\n",
       " 'We',\n",
       " 'We',\n",
       " \"We've\",\n",
       " \"We've\",\n",
       " 'We,',\n",
       " 'What',\n",
       " 'When',\n",
       " 'When',\n",
       " 'You',\n",
       " 'You',\n",
       " 'Your',\n",
       " 'a',\n",
       " 'a',\n",
       " 'a',\n",
       " 'a',\n",
       " 'a',\n",
       " 'a',\n",
       " 'a',\n",
       " 'a',\n",
       " 'a',\n",
       " 'a',\n",
       " 'a',\n",
       " 'a',\n",
       " 'a',\n",
       " 'a',\n",
       " 'about',\n",
       " 'about',\n",
       " 'accept',\n",
       " 'across',\n",
       " 'across',\n",
       " 'across',\n",
       " 'across',\n",
       " 'across',\n",
       " 'action,',\n",
       " 'action.',\n",
       " 'administration',\n",
       " 'affairs',\n",
       " 'again,',\n",
       " 'again.',\n",
       " 'again.',\n",
       " 'again.',\n",
       " 'again.',\n",
       " 'again.',\n",
       " 'again.',\n",
       " 'again.',\n",
       " 'again.',\n",
       " 'against',\n",
       " 'aid',\n",
       " 'airports',\n",
       " 'all',\n",
       " 'all',\n",
       " 'all',\n",
       " 'all',\n",
       " 'all',\n",
       " 'all',\n",
       " 'all',\n",
       " 'all',\n",
       " 'all',\n",
       " 'all',\n",
       " 'all',\n",
       " 'all',\n",
       " 'all',\n",
       " 'all',\n",
       " 'allegiance',\n",
       " 'allegiance',\n",
       " 'alliances',\n",
       " 'allow',\n",
       " 'allowing',\n",
       " 'almighty',\n",
       " 'along',\n",
       " 'always',\n",
       " 'always',\n",
       " 'an',\n",
       " 'an',\n",
       " 'an',\n",
       " 'and',\n",
       " 'and',\n",
       " 'and',\n",
       " 'and',\n",
       " 'and',\n",
       " 'and',\n",
       " 'and',\n",
       " 'and',\n",
       " 'and',\n",
       " 'and',\n",
       " 'and',\n",
       " 'and',\n",
       " 'and',\n",
       " 'and',\n",
       " 'and',\n",
       " 'and',\n",
       " 'and',\n",
       " 'and',\n",
       " 'and',\n",
       " 'and',\n",
       " 'and',\n",
       " 'and',\n",
       " 'and',\n",
       " 'and',\n",
       " 'and',\n",
       " 'and',\n",
       " 'and',\n",
       " 'and',\n",
       " 'and',\n",
       " 'and',\n",
       " 'and',\n",
       " 'and',\n",
       " 'and',\n",
       " 'and',\n",
       " 'and',\n",
       " 'and',\n",
       " 'and',\n",
       " 'and',\n",
       " 'and',\n",
       " 'and',\n",
       " 'and',\n",
       " 'and',\n",
       " 'and',\n",
       " 'and',\n",
       " 'and',\n",
       " 'and',\n",
       " 'and',\n",
       " 'and',\n",
       " 'and',\n",
       " 'and',\n",
       " 'and',\n",
       " 'and',\n",
       " 'and',\n",
       " 'and',\n",
       " 'and',\n",
       " 'and',\n",
       " 'and',\n",
       " 'and',\n",
       " 'and',\n",
       " 'and',\n",
       " 'and',\n",
       " 'and',\n",
       " 'and',\n",
       " 'and',\n",
       " 'and',\n",
       " 'another',\n",
       " 'another,',\n",
       " 'anyone',\n",
       " 'anyone,',\n",
       " 'anything',\n",
       " 'are',\n",
       " 'are',\n",
       " 'are',\n",
       " 'are',\n",
       " 'are',\n",
       " 'are',\n",
       " 'are',\n",
       " 'are',\n",
       " 'are',\n",
       " 'are',\n",
       " 'are',\n",
       " 'are',\n",
       " 'are',\n",
       " 'armies',\n",
       " 'arrives',\n",
       " 'as',\n",
       " 'as',\n",
       " 'as',\n",
       " 'as',\n",
       " 'assembled',\n",
       " 'at',\n",
       " 'at',\n",
       " 'at',\n",
       " 'back',\n",
       " 'back',\n",
       " 'back',\n",
       " 'back',\n",
       " 'back',\n",
       " 'back',\n",
       " 'be',\n",
       " 'be',\n",
       " 'be',\n",
       " 'be',\n",
       " 'be',\n",
       " 'be',\n",
       " 'be',\n",
       " 'be',\n",
       " 'be',\n",
       " 'be',\n",
       " 'be',\n",
       " 'be',\n",
       " 'be',\n",
       " 'beautiful',\n",
       " 'became',\n",
       " 'because',\n",
       " 'because',\n",
       " 'become',\n",
       " 'bedrock',\n",
       " 'been',\n",
       " 'been',\n",
       " 'been',\n",
       " 'been',\n",
       " 'before.',\n",
       " 'before.',\n",
       " 'behind.',\n",
       " 'belongs',\n",
       " 'belongs',\n",
       " 'benefit',\n",
       " 'big',\n",
       " 'bigger.',\n",
       " 'birth',\n",
       " 'black',\n",
       " 'bleed',\n",
       " 'bless',\n",
       " 'bless',\n",
       " 'bless',\n",
       " 'blood',\n",
       " 'body',\n",
       " 'borders',\n",
       " 'borders',\n",
       " 'borders.',\n",
       " 'born',\n",
       " 'borne',\n",
       " 'breath',\n",
       " 'breath',\n",
       " 'bridges',\n",
       " 'bring',\n",
       " 'bring',\n",
       " 'bring',\n",
       " 'bring',\n",
       " 'brown',\n",
       " 'build',\n",
       " 'but',\n",
       " 'but',\n",
       " 'but',\n",
       " 'but',\n",
       " 'but',\n",
       " 'but',\n",
       " 'but',\n",
       " 'but',\n",
       " 'but',\n",
       " 'but',\n",
       " 'but',\n",
       " 'buy',\n",
       " 'by',\n",
       " 'by',\n",
       " 'by',\n",
       " 'by',\n",
       " 'by',\n",
       " 'by',\n",
       " 'came',\n",
       " 'can',\n",
       " 'cannot',\n",
       " 'capital',\n",
       " 'capital,',\n",
       " 'capital,',\n",
       " 'carnage',\n",
       " 'carry',\n",
       " 'cash,',\n",
       " 'celebrate',\n",
       " 'celebrated',\n",
       " 'celebration.',\n",
       " 'center',\n",
       " 'ceremony,',\n",
       " 'challenge',\n",
       " 'challenges,',\n",
       " 'changes',\n",
       " 'child',\n",
       " 'children',\n",
       " 'children,',\n",
       " 'cities;',\n",
       " 'citizens',\n",
       " 'citizens',\n",
       " 'citizens,',\n",
       " 'citizens.',\n",
       " 'city',\n",
       " 'city,',\n",
       " 'civilized',\n",
       " 'class',\n",
       " 'closed.',\n",
       " 'come.',\n",
       " 'companies',\n",
       " 'complaining,',\n",
       " 'confidence',\n",
       " 'confront',\n",
       " 'constantly',\n",
       " 'controlled',\n",
       " 'controls',\n",
       " 'conviction,',\n",
       " 'cost.',\n",
       " 'countries',\n",
       " 'countries',\n",
       " 'countries,',\n",
       " 'country',\n",
       " 'country',\n",
       " 'country',\n",
       " 'country',\n",
       " 'country',\n",
       " 'country',\n",
       " 'country,',\n",
       " 'country.',\n",
       " 'country.',\n",
       " 'courage',\n",
       " 'course',\n",
       " 'creator.',\n",
       " 'crime',\n",
       " 'crucial',\n",
       " 'day',\n",
       " 'day',\n",
       " 'day',\n",
       " 'day.',\n",
       " 'debate',\n",
       " 'decades,',\n",
       " 'decay.',\n",
       " 'decision',\n",
       " 'decree',\n",
       " 'defend',\n",
       " 'defended',\n",
       " 'define',\n",
       " 'demands',\n",
       " 'depletion',\n",
       " 'deprived',\n",
       " 'destiny.',\n",
       " 'destiny.',\n",
       " 'destroying',\n",
       " 'determine',\n",
       " 'did',\n",
       " 'different',\n",
       " 'disagreements',\n",
       " 'disease,',\n",
       " 'disrepair',\n",
       " 'dissipated',\n",
       " 'divisions.',\n",
       " 'do',\n",
       " 'do',\n",
       " 'doing',\n",
       " 'dollars',\n",
       " 'done.',\n",
       " 'done.',\n",
       " 'down.',\n",
       " 'dream',\n",
       " 'dreams',\n",
       " 'dreams',\n",
       " 'dreams,',\n",
       " 'dreams.',\n",
       " 'dreams.',\n",
       " 'drugs',\n",
       " 'each',\n",
       " 'earth',\n",
       " 'education',\n",
       " 'effort',\n",
       " 'empty',\n",
       " 'energies,',\n",
       " 'enforcement.',\n",
       " 'enjoy',\n",
       " 'enriched',\n",
       " 'eradicate',\n",
       " 'establishment',\n",
       " 'even',\n",
       " 'even',\n",
       " 'ever',\n",
       " 'every',\n",
       " 'every',\n",
       " 'every',\n",
       " 'every',\n",
       " 'every',\n",
       " 'everyone',\n",
       " 'everyone',\n",
       " 'everyone',\n",
       " 'example.',\n",
       " 'exists',\n",
       " 'exists:',\n",
       " 'expense',\n",
       " 'face',\n",
       " 'face',\n",
       " 'factories',\n",
       " 'factories',\n",
       " 'factories',\n",
       " 'fail.',\n",
       " 'fallen',\n",
       " 'families',\n",
       " 'families,',\n",
       " 'families.',\n",
       " 'far,',\n",
       " 'fear.',\n",
       " 'fellow',\n",
       " 'fight',\n",
       " 'fight',\n",
       " 'fill',\n",
       " 'first,',\n",
       " 'first.',\n",
       " 'first.',\n",
       " 'flag.',\n",
       " 'flourished,',\n",
       " 'flush',\n",
       " 'follow',\n",
       " 'follow.',\n",
       " 'for',\n",
       " 'for',\n",
       " 'for',\n",
       " 'for',\n",
       " 'for',\n",
       " 'for',\n",
       " 'for',\n",
       " 'for',\n",
       " 'for',\n",
       " 'for',\n",
       " 'for',\n",
       " 'for',\n",
       " 'for',\n",
       " 'foreign',\n",
       " 'foreign',\n",
       " 'foreign',\n",
       " 'forever',\n",
       " 'forget,',\n",
       " 'forgotten',\n",
       " 'forgotten',\n",
       " 'form',\n",
       " 'forward,',\n",
       " 'forward,',\n",
       " 'four',\n",
       " 'free',\n",
       " 'freedoms',\n",
       " 'friendship',\n",
       " 'from',\n",
       " 'from',\n",
       " 'from',\n",
       " 'from',\n",
       " 'from',\n",
       " 'from',\n",
       " 'from',\n",
       " 'from',\n",
       " 'from',\n",
       " 'future.',\n",
       " 'gangs',\n",
       " 'gather',\n",
       " 'gathered',\n",
       " 'get',\n",
       " 'get',\n",
       " 'giving',\n",
       " 'glorious',\n",
       " 'glorious',\n",
       " 'going',\n",
       " 'good',\n",
       " 'good',\n",
       " 'goodness',\n",
       " 'goodwill',\n",
       " 'govern',\n",
       " 'government',\n",
       " 'government',\n",
       " 'government,',\n",
       " 'gracious',\n",
       " 'grateful',\n",
       " 'great',\n",
       " 'great',\n",
       " 'great',\n",
       " 'great',\n",
       " 'great',\n",
       " 'great',\n",
       " 'group',\n",
       " 'guide',\n",
       " 'hall',\n",
       " 'hands',\n",
       " 'hardships,',\n",
       " 'harness',\n",
       " 'has',\n",
       " 'has',\n",
       " 'has',\n",
       " 'has',\n",
       " 'has',\n",
       " 'has',\n",
       " 'have',\n",
       " 'have',\n",
       " 'have',\n",
       " 'have',\n",
       " 'have',\n",
       " 'heal',\n",
       " 'hear',\n",
       " 'heard',\n",
       " 'heart',\n",
       " 'heart',\n",
       " 'heart',\n",
       " 'heart,',\n",
       " 'here',\n",
       " 'here',\n",
       " 'here',\n",
       " 'here',\n",
       " 'highways',\n",
       " 'hire',\n",
       " 'historic',\n",
       " 'home,',\n",
       " 'homes',\n",
       " 'honestly,',\n",
       " 'hopes,',\n",
       " 'horizon.',\n",
       " 'hour',\n",
       " 'how',\n",
       " 'however,',\n",
       " 'ignored',\n",
       " 'immigration,',\n",
       " 'importantly,',\n",
       " 'impose',\n",
       " 'in',\n",
       " 'in',\n",
       " 'in',\n",
       " 'in',\n",
       " 'in',\n",
       " 'in',\n",
       " 'in',\n",
       " 'in',\n",
       " 'in',\n",
       " 'in',\n",
       " 'in',\n",
       " 'in',\n",
       " 'in',\n",
       " 'industries',\n",
       " 'industry',\n",
       " 'industry;',\n",
       " 'infrastructure',\n",
       " 'infused',\n",
       " 'inner',\n",
       " 'interests',\n",
       " 'into',\n",
       " 'is',\n",
       " 'is',\n",
       " 'is',\n",
       " 'is',\n",
       " 'is',\n",
       " 'is',\n",
       " 'is',\n",
       " 'is',\n",
       " 'is',\n",
       " 'is',\n",
       " 'is',\n",
       " 'is',\n",
       " 'is',\n",
       " 'is',\n",
       " 'is',\n",
       " 'is',\n",
       " 'is',\n",
       " 'is',\n",
       " 'is',\n",
       " 'is',\n",
       " 'issuing',\n",
       " 'it',\n",
       " 'it',\n",
       " 'it',\n",
       " 'it',\n",
       " 'it',\n",
       " 'it',\n",
       " 'it',\n",
       " \"it's\",\n",
       " 'it.',\n",
       " 'its',\n",
       " 'its',\n",
       " 'its',\n",
       " 'itself,',\n",
       " 'job',\n",
       " 'jobs',\n",
       " 'jobs',\n",
       " 'jobs.',\n",
       " 'jobs.',\n",
       " 'joined',\n",
       " 'just',\n",
       " 'knowledge;',\n",
       " 'labor.',\n",
       " 'land.',\n",
       " 'land.',\n",
       " 'landscape',\n",
       " 'large,',\n",
       " 'law',\n",
       " 'lead',\n",
       " 'leaves',\n",
       " 'left',\n",
       " 'left',\n",
       " 'left',\n",
       " 'let',\n",
       " 'let',\n",
       " 'life',\n",
       " 'life',\n",
       " 'lift',\n",
       " 'like',\n",
       " 'like',\n",
       " 'likes',\n",
       " 'listening',\n",
       " 'little',\n",
       " 'live',\n",
       " 'lives',\n",
       " 'living',\n",
       " 'long',\n",
       " 'long,',\n",
       " 'longer',\n",
       " 'longer.',\n",
       " 'look',\n",
       " 'looking',\n",
       " 'love',\n",
       " 'loyalty',\n",
       " 'loyalty',\n",
       " 'made',\n",
       " 'made',\n",
       " 'magnificent.',\n",
       " 'make',\n",
       " 'make',\n",
       " 'make',\n",
       " 'make',\n",
       " 'make',\n",
       " 'making',\n",
       " 'many',\n",
       " 'many',\n",
       " 'many',\n",
       " 'many',\n",
       " 'many,',\n",
       " 'match',\n",
       " 'matters',\n",
       " 'meaning',\n",
       " 'men',\n",
       " 'men',\n",
       " 'merely',\n",
       " 'middle',\n",
       " 'military',\n",
       " 'military.',\n",
       " 'millennium,',\n",
       " 'millions',\n",
       " 'millions',\n",
       " 'millions',\n",
       " 'minds',\n",
       " 'miseries',\n",
       " 'moment',\n",
       " 'moment,',\n",
       " 'most',\n",
       " 'mothers',\n",
       " 'mountain',\n",
       " 'mountain,',\n",
       " 'movement',\n",
       " 'movement,',\n",
       " 'much',\n",
       " 'must',\n",
       " 'must',\n",
       " 'must',\n",
       " 'my',\n",
       " 'mysteries',\n",
       " 'nation',\n",
       " 'nation',\n",
       " 'nation',\n",
       " 'nation',\n",
       " \"nation's\",\n",
       " \"nation's\",\n",
       " 'nation.',\n",
       " 'nation;',\n",
       " 'national',\n",
       " 'national',\n",
       " 'nations',\n",
       " 'nations',\n",
       " \"nations'\",\n",
       " 'near',\n",
       " 'neighborhoods',\n",
       " 'never',\n",
       " 'never',\n",
       " 'never',\n",
       " 'never',\n",
       " 'never',\n",
       " 'never',\n",
       " 'new',\n",
       " 'new',\n",
       " 'new',\n",
       " 'new',\n",
       " 'new',\n",
       " 'new',\n",
       " 'night',\n",
       " 'no',\n",
       " 'no',\n",
       " 'no',\n",
       " 'no',\n",
       " 'no',\n",
       " 'not',\n",
       " 'not',\n",
       " 'not',\n",
       " 'not',\n",
       " 'not',\n",
       " 'not',\n",
       " 'not',\n",
       " 'not',\n",
       " 'not',\n",
       " 'not',\n",
       " 'now',\n",
       " 'now',\n",
       " 'now,',\n",
       " 'now.',\n",
       " 'now.',\n",
       " 'oath',\n",
       " 'oath',\n",
       " 'ocean',\n",
       " 'ocean,',\n",
       " 'of',\n",
       " 'of',\n",
       " 'of',\n",
       " 'of',\n",
       " 'of',\n",
       " 'of',\n",
       " 'of',\n",
       " 'of',\n",
       " 'of',\n",
       " 'of',\n",
       " 'of',\n",
       " 'of',\n",
       " 'of',\n",
       " 'of',\n",
       " 'of',\n",
       " 'of',\n",
       " 'of',\n",
       " 'of',\n",
       " 'of',\n",
       " 'of',\n",
       " 'of',\n",
       " 'of',\n",
       " 'of',\n",
       " 'of',\n",
       " 'of',\n",
       " 'of',\n",
       " 'of',\n",
       " 'of',\n",
       " 'of',\n",
       " 'of',\n",
       " 'of',\n",
       " 'of',\n",
       " 'of',\n",
       " 'of',\n",
       " 'of',\n",
       " 'of',\n",
       " 'of',\n",
       " 'of',\n",
       " 'of',\n",
       " 'of',\n",
       " 'of',\n",
       " 'of',\n",
       " 'of',\n",
       " 'of',\n",
       " 'of',\n",
       " 'of',\n",
       " 'of',\n",
       " 'of',\n",
       " 'off',\n",
       " 'office',\n",
       " 'old',\n",
       " 'old',\n",
       " 'on',\n",
       " 'on',\n",
       " 'on',\n",
       " 'on',\n",
       " 'on',\n",
       " 'on',\n",
       " 'one',\n",
       " 'one',\n",
       " 'one',\n",
       " 'one',\n",
       " 'one',\n",
       " 'one',\n",
       " 'one,',\n",
       " 'ones',\n",
       " 'only',\n",
       " 'only',\n",
       " 'only',\n",
       " 'open',\n",
       " 'openly,',\n",
       " 'or',\n",
       " 'or',\n",
       " 'or',\n",
       " 'or',\n",
       " 'orderly',\n",
       " 'other',\n",
       " 'other',\n",
       " 'other',\n",
       " 'other',\n",
       " 'other.',\n",
       " 'our',\n",
       " 'our',\n",
       " 'our',\n",
       " 'our',\n",
       " 'our',\n",
       " 'our',\n",
       " 'our',\n",
       " 'our',\n",
       " 'our',\n",
       " 'our',\n",
       " 'our',\n",
       " 'our',\n",
       " 'our',\n",
       " 'our',\n",
       " 'our',\n",
       " 'our',\n",
       " 'our',\n",
       " 'our',\n",
       " 'our',\n",
       " 'our',\n",
       " 'our',\n",
       " 'our',\n",
       " 'our',\n",
       " 'our',\n",
       " 'our',\n",
       " 'our',\n",
       " 'our',\n",
       " 'our',\n",
       " 'our',\n",
       " 'our',\n",
       " 'our',\n",
       " 'our',\n",
       " 'our',\n",
       " 'our',\n",
       " 'our',\n",
       " 'our',\n",
       " 'our',\n",
       " 'our',\n",
       " 'our',\n",
       " 'our',\n",
       " 'our',\n",
       " 'our',\n",
       " 'our',\n",
       " 'our',\n",
       " 'our',\n",
       " 'our',\n",
       " 'ourselves,',\n",
       " 'out',\n",
       " 'out',\n",
       " 'over',\n",
       " 'over.',\n",
       " 'overseas',\n",
       " 'own',\n",
       " 'own.',\n",
       " 'pain',\n",
       " 'pain.',\n",
       " 'part',\n",
       " 'party',\n",
       " 'party',\n",
       " 'past.',\n",
       " 'patriotism,',\n",
       " 'patriots.',\n",
       " 'peaceful',\n",
       " 'people',\n",
       " 'people',\n",
       " 'people',\n",
       " 'people',\n",
       " 'people',\n",
       " 'people',\n",
       " 'people',\n",
       " 'people.',\n",
       " 'people.',\n",
       " 'people.',\n",
       " 'plains',\n",
       " 'pleasant',\n",
       " 'politicians',\n",
       " ...]"
      ]
     },
     "execution_count": 2,
     "metadata": {},
     "output_type": "execute_result"
    }
   ],
   "source": [
    "s = Speech.split()\n",
    "s.sort()\n",
    "s\n",
    "# 可以用于寻找关键词！！\n",
    "# 注意 单引号没有过滤，还有其它标点符号也不能完全过滤，暂时忽略其影响"
   ]
  },
  {
   "cell_type": "markdown",
   "metadata": {
    "tags": []
   },
   "source": [
    "##### (3) 统计 America 的出现频数\n",
    "\n",
    "- 考虑与标点符号的组合可能"
   ]
  },
  {
   "cell_type": "code",
   "execution_count": 4,
   "metadata": {},
   "outputs": [
    {
     "data": {
      "text/plain": [
       "(35, 4, 4, 0, 1, 0)"
      ]
     },
     "execution_count": 4,
     "metadata": {},
     "output_type": "execute_result"
    }
   ],
   "source": [
    "Speech.count('America'), Speech.count('America.'), Speech.count('America,'), Speech.count('America;'), Speech.count('America\\''), Speech.count('America:')"
   ]
  },
  {
   "cell_type": "markdown",
   "metadata": {},
   "source": [
    "##### (4) 单词 America 出现的位置"
   ]
  },
  {
   "cell_type": "code",
   "execution_count": 5,
   "metadata": {},
   "outputs": [
    {
     "name": "stdout",
     "output_type": "stream",
     "text": [
      "America found time = 1 at index 101\n",
      "America found time = 2 at index 167\n",
      "America found time = 3 at index 330\n",
      "America found time = 4 at index 1719\n",
      "America found time = 5 at index 1803\n",
      "America found time = 6 at index 2381\n",
      "America found time = 7 at index 3036\n",
      "America found time = 8 at index 3328\n",
      "America found time = 9 at index 3407\n",
      "America found time = 10 at index 3659\n",
      "America found time = 11 at index 3960\n",
      "America found time = 12 at index 4412\n",
      "America found time = 13 at index 4427\n",
      "America found time = 14 at index 4536\n",
      "America found time = 15 at index 4557\n",
      "America found time = 16 at index 4850\n",
      "America found time = 17 at index 5246\n",
      "America found time = 18 at index 5265\n",
      "America found time = 19 at index 5318\n",
      "America found time = 20 at index 5336\n",
      "America found time = 21 at index 5905\n",
      "America found time = 22 at index 6263\n",
      "America found time = 23 at index 6282\n",
      "America found time = 24 at index 6578\n",
      "America found time = 25 at index 6967\n",
      "America found time = 26 at index 7553\n",
      "America found time = 27 at index 7834\n",
      "America found time = 28 at index 8044\n",
      "America found time = 29 at index 8161\n",
      "America found time = 30 at index 8196\n",
      "America found time = 31 at index 8232\n",
      "America found time = 32 at index 8266\n",
      "America found time = 33 at index 8317\n",
      "America found time = 34 at index 8382\n",
      "America found time = 35 at index 8420\n"
     ]
    }
   ],
   "source": [
    "## 如果找出所有出现的位置\n",
    "search = 'America'\n",
    "start = 0\n",
    "count = 0\n",
    "str_loc = []\n",
    "\n",
    "while True:\n",
    "    index = Speech.find(search, start)\n",
    "    # if search string not found, find() returns -1\n",
    "    # search is complete, break out of the while loop\n",
    "    if index == -1:\n",
    "        break\n",
    "    count +=1\n",
    "    str_loc.append(index)\n",
    "    print( \"%s found time = %d at index %d\" % (search, count, index) )\n",
    "    # move to next possible start position\n",
    "    start = index + 1\n",
    "\n",
    "# print(str_loc)"
   ]
  },
  {
   "cell_type": "markdown",
   "metadata": {},
   "source": [
    "##### (5) 可视化 America"
   ]
  },
  {
   "cell_type": "code",
   "execution_count": 6,
   "metadata": {},
   "outputs": [
    {
     "data": {
      "text/plain": [
       "[<matplotlib.lines.Line2D at 0x22e47cbc730>]"
      ]
     },
     "execution_count": 6,
     "metadata": {},
     "output_type": "execute_result"
    },
    {
     "data": {
      "image/png": "[encoded data removed]",
      "text/plain": [
       "<Figure size 640x480 with 1 Axes>"
      ]
     },
     "metadata": {},
     "output_type": "display_data"
    }
   ],
   "source": [
    "import matplotlib.pyplot as plt\n",
    "\n",
    "ntotal = len(Speech)  # 字符总数\n",
    "xvalue = range(0,ntotal)\n",
    "yvalue = [0] * ntotal\n",
    "for i in str_loc:\n",
    "    yvalue[i] = 1\n",
    "\n",
    "plt.plot(xvalue, yvalue, marker='o')"
   ]
  },
  {
   "cell_type": "markdown",
   "metadata": {},
   "source": [
    "___"
   ]
  },
  {
   "cell_type": "markdown",
   "metadata": {},
   "source": [
    "## <font size=5><span id=\"5.2\"> 5.2 字典</span></font>"
   ]
  },
  {
   "cell_type": "markdown",
   "metadata": {},
   "source": [
    "<img src=\"images/chapter06/xinhuadict.png\" width =500>"
   ]
  },
  {
   "cell_type": "markdown",
   "metadata": {},
   "source": [
    "### <font size=4><span id=\"5.2.1\">5.2.1 字典</span></font>\n",
    "\n",
    "- 一种可变容器\n",
    "- 无序\n",
    "- 基本元素 —— 相关联的  键-值对（key - value pair）\n",
    "    - 键：具有唯一性，不可变（字符串、数字、元组、bool值）\n",
    "    - 值：可任意赋值修改\n",
    "    - 每个 键-值对 称为一项\n",
    "- 全部项构成字典"
   ]
  },
  {
   "cell_type": "markdown",
   "metadata": {},
   "source": [
    "### <font size=4><span id=\"5.2.2\">5.2.2 字典的表示与创建</span></font>"
   ]
  },
  {
   "cell_type": "markdown",
   "metadata": {},
   "source": [
    "\n",
    "\n",
    "\n",
    "- 表示语法\n",
    "```python\n",
    ">>> {key1:val1, key2:val2,...}\n",
    "```\n",
    "\n",
    "- 说明\n",
    "    - 花括号\n",
    "    - 键-值对"
   ]
  },
  {
   "cell_type": "code",
   "execution_count": 17,
   "metadata": {},
   "outputs": [
    {
     "name": "stdout",
     "output_type": "stream",
     "text": [
      "{'one': 1}\n"
     ]
    }
   ],
   "source": [
    "# 创建字典\n",
    "word_to_int_dict = {\"one\":1,\"two\":2,\"three\":3}\n",
    "print(word_to_int_dict)"
   ]
  },
  {
   "cell_type": "code",
   "execution_count": null,
   "metadata": {},
   "outputs": [],
   "source": [
    "# 创建一个空字典\n",
    "word_to_int_dict = {}\n",
    "print(word_to_int_dict)"
   ]
  },
  {
   "cell_type": "markdown",
   "metadata": {},
   "source": [
    "### <font size=4><span id=\"5.2.3\">5.2.3 访问字典</span></font>\n",
    "\n",
    "- 语法\n",
    "```python\n",
    ">>> dictObj[key]\n",
    "```"
   ]
  },
  {
   "cell_type": "code",
   "execution_count": 19,
   "metadata": {},
   "outputs": [
    {
     "data": {
      "text/plain": [
       "1"
      ]
     },
     "execution_count": 19,
     "metadata": {},
     "output_type": "execute_result"
    }
   ],
   "source": [
    "word_to_int_dict = {\"one\":1,\"two\":2,\"three\":3}\n",
    "word_to_int_dict[\"one\"]"
   ]
  },
  {
   "cell_type": "markdown",
   "metadata": {},
   "source": [
    "### <font size=4><span id=\"5.2.4\">5.2.4 修改字典</span></font>"
   ]
  },
  {
   "cell_type": "markdown",
   "metadata": {},
   "source": [
    "#### (1) 添加新项 —— 键-值对\n",
    "\n",
    "\n",
    "- 语法\n",
    "```python\n",
    ">>> dictObj[newKey] = newValue\n",
    "```"
   ]
  },
  {
   "cell_type": "code",
   "execution_count": 20,
   "metadata": {},
   "outputs": [
    {
     "data": {
      "text/plain": [
       "{'one': 1, 'two': 2, 'three': 3, 'five': 6}"
      ]
     },
     "execution_count": 20,
     "metadata": {},
     "output_type": "execute_result"
    }
   ],
   "source": [
    "word_to_int_dict = {\"one\":1,\"two\":2,\"three\":3}\n",
    "word_to_int_dict[\"five\"] = 6\n",
    "word_to_int_dict"
   ]
  },
  {
   "cell_type": "markdown",
   "metadata": {},
   "source": [
    "#### (2) 修改值\n",
    "\n",
    "- 语法\n",
    "```python\n",
    ">>> dictObj[key] = newValue\n",
    "```"
   ]
  },
  {
   "cell_type": "code",
   "execution_count": null,
   "metadata": {},
   "outputs": [],
   "source": [
    "word_to_int_dict = {\"one\":1,\"two\":2,\"three\":3}\n",
    "word_to_int_dict[\"five\"] = 6\n",
    "word_to_int_dict[\"five\"] = 5\n",
    "word_to_int_dict"
   ]
  },
  {
   "cell_type": "markdown",
   "metadata": {},
   "source": [
    "#### (3) 字典更新 —— update 方法\n",
    "\n",
    "- 语法\n",
    "```python\n",
    ">>> this_dict.update(other_dict)\n",
    "```\n",
    "\n",
    "- 功能\n",
    "    - 如果 other_dict 的键值在 this_dict 中已存在，则修改\n",
    "    - 如果 other_dict 的键值在 this_dict 中不存在，则添加"
   ]
  },
  {
   "cell_type": "code",
   "execution_count": 24,
   "metadata": {},
   "outputs": [
    {
     "name": "stdout",
     "output_type": "stream",
     "text": [
      "{'one': 1, 'two': 2, 'three': 3, 'four': 4, 'five': -5, 'six': -6}\n",
      "{'one': 1, 'two': 2, 'three': 3, 'four': 4, 'five': 5, 'six': 6, 'seven': 7, 'eight': 8}\n"
     ]
    }
   ],
   "source": [
    "word_to_int_dict = {\"one\":1,\"two\":2,\"three\":3, \"four\":4, \"five\":-5, \"six\":-6}\n",
    "print(word_to_int_dict)\n",
    "word_to_int_dict.update({\"five\":5, \"six\":6, \"seven\":7, \"eight\":8})\n",
    "print(word_to_int_dict)"
   ]
  },
  {
   "cell_type": "markdown",
   "metadata": {},
   "source": [
    "#### (4) 删除键-值对\n",
    "\n",
    "\n",
    "- 语法\n",
    "```python\n",
    ">>> del dictObj[key]  # 删除一项\n",
    ">>> del dictObj       # 删除整个字典\n",
    "```"
   ]
  },
  {
   "cell_type": "code",
   "execution_count": 25,
   "metadata": {
    "scrolled": true
   },
   "outputs": [
    {
     "name": "stdout",
     "output_type": "stream",
     "text": [
      "{'one': 1, 'two': 2, 'three': 3}\n",
      "{'one': 1, 'three': 3}\n"
     ]
    }
   ],
   "source": [
    "word_to_int_dict = {\"one\":1,\"two\":2,\"three\":3}\n",
    "print(word_to_int_dict)\n",
    "del word_to_int_dict[\"two\"]\n",
    "print(word_to_int_dict)"
   ]
  },
  {
   "cell_type": "code",
   "execution_count": 26,
   "metadata": {
    "collapsed": true
   },
   "outputs": [
    {
     "ename": "NameError",
     "evalue": "name 'word_to_int_dict' is not defined",
     "output_type": "error",
     "traceback": [
      "\u001b[1;31m---------------------------------------------------------------------------\u001b[0m",
      "\u001b[1;31mNameError\u001b[0m                                 Traceback (most recent call last)",
      "\u001b[1;32m~\\AppData\\Local\\Temp\\ipykernel_39804\\613454991.py\u001b[0m in \u001b[0;36m<module>\u001b[1;34m\u001b[0m\n\u001b[0;32m      1\u001b[0m \u001b[0mword_to_int_dict\u001b[0m \u001b[1;33m=\u001b[0m \u001b[1;33m{\u001b[0m\u001b[1;34m\"one\"\u001b[0m\u001b[1;33m:\u001b[0m\u001b[1;36m1\u001b[0m\u001b[1;33m,\u001b[0m\u001b[1;34m\"two\"\u001b[0m\u001b[1;33m:\u001b[0m\u001b[1;36m2\u001b[0m\u001b[1;33m,\u001b[0m\u001b[1;34m\"three\"\u001b[0m\u001b[1;33m:\u001b[0m\u001b[1;36m3\u001b[0m\u001b[1;33m}\u001b[0m\u001b[1;33m\u001b[0m\u001b[1;33m\u001b[0m\u001b[0m\n\u001b[0;32m      2\u001b[0m \u001b[1;32mdel\u001b[0m \u001b[0mword_to_int_dict\u001b[0m\u001b[1;33m\u001b[0m\u001b[1;33m\u001b[0m\u001b[0m\n\u001b[1;32m----> 3\u001b[1;33m \u001b[0mprint\u001b[0m\u001b[1;33m(\u001b[0m\u001b[0mword_to_int_dict\u001b[0m\u001b[1;33m)\u001b[0m\u001b[1;33m\u001b[0m\u001b[1;33m\u001b[0m\u001b[0m\n\u001b[0m",
      "\u001b[1;31mNameError\u001b[0m: name 'word_to_int_dict' is not defined"
     ]
    }
   ],
   "source": [
    "word_to_int_dict = {\"one\":1,\"two\":2,\"three\":3}\n",
    "del word_to_int_dict\n",
    "print(word_to_int_dict)"
   ]
  },
  {
   "cell_type": "markdown",
   "metadata": {},
   "source": [
    "#### (5) 清空字典\n",
    "\n",
    "\n",
    "- 语法\n",
    "```python\n",
    ">>> dictObj.clear()\n",
    "```\n",
    "\n",
    "\n",
    "- 注意\n",
    "    - 清空不等同于删除\n",
    "    - 清空将得到一个空字典"
   ]
  },
  {
   "cell_type": "code",
   "execution_count": null,
   "metadata": {},
   "outputs": [],
   "source": [
    "word_to_int_dict = {\"one\":1,\"two\":2,\"three\":3}\n",
    "word_to_int_dict.clear()\n",
    "print(word_to_int_dict)"
   ]
  },
  {
   "cell_type": "markdown",
   "metadata": {},
   "source": [
    "### <font size=4><span id=\"5.2.5\">5.2.5  操作字典的各种内置函数和方法</span></font>"
   ]
  },
  {
   "cell_type": "code",
   "execution_count": null,
   "metadata": {
    "scrolled": true
   },
   "outputs": [],
   "source": [
    "word_to_int_dict = {\"one\":1,\"two\":2,\"three\":3}\n",
    "dir(word_to_int_dict)"
   ]
  },
  {
   "cell_type": "markdown",
   "metadata": {},
   "source": [
    "<table>\n",
    "<thead>\n",
    "<tr><th style='text-align:center;' >序号</th><th style='text-align:left;' ><strong>函数</strong></th><th style='text-align:left;' ><strong>描述</strong></th></tr></thead>\n",
    "<tbody><tr><td style='text-align:center;' >1</td><td style='text-align:left;' >dict.clear()</td><td style='text-align:left;' >清空字典</td></tr><tr><td style='text-align:center;' >2</td><td style='text-align:left;' >dict.copy()</td><td style='text-align:left;' >浅拷贝</td></tr><tr><td style='text-align:center;' >3</td><td style='text-align:left;' >dict.fromkeys(iterable,value=None)</td><td style='text-align:left;' >用 `iterable` 的键，`value` 来创建新字典</td></tr><tr><td style='text-align:center;' >4</td><td style='text-align:left;' >dict.get(key, default=None)</td><td style='text-align:left;' >返回指定键的值，如果不存在，返回default值</td></tr><tr><td style='text-align:center;' >5</td><td style='text-align:left;' >dict.has_key(key)</td><td style='text-align:left;' >如果键存在返回`True`，否则返回`False`(py 2.X方法)</td></tr><tr><td style='text-align:center;' >6</td><td style='text-align:left;' >dict.items()</td><td style='text-align:left;' >返回全部项——(键, 值) 列表</td></tr><tr><td style='text-align:center;' >7</td><td style='text-align:left;' >dict.keys()</td><td style='text-align:left;' >返回全部键——列表</td></tr><tr><td style='text-align:center;' >8</td><td style='text-align:left;' >dict.setdefault(key, default=None)</td><td style='text-align:left;' >键不存在时，插入`key-default`对。键存在时返回值，否则`default`</td></tr><tr><td style='text-align:center;' >9</td><td style='text-align:left;' >dict.update(dict2)</td><td style='text-align:left;' >把字典dict2的键/值对更新到dict里</td></tr><tr><td style='text-align:center;' >10</td><td style='text-align:left;' >dict.values()</td><td style='text-align:left;' >返回全部值——列表</td></tr><tr><td style='text-align:center;' >11</td><td style='text-align:left;' >pop(key[,default])</td><td style='text-align:left;' >删除字典给定键 key 所对应的值，返回值为被删除的值。key值必须给出。 否则，返回default值。</td></tr><tr><td style='text-align:center;' >12</td><td style='text-align:left;' >popitem()</td><td style='text-align:left;' >弹出某项（键-值对），返回元组，如果字典是空的，抛出 KeyError 异常</td></tr></tbody>\n",
    "</table>"
   ]
  },
  {
   "cell_type": "markdown",
   "metadata": {},
   "source": [
    "- 注意 —— `Python` 3.X 删去了 `has_key` 方法"
   ]
  },
  {
   "cell_type": "markdown",
   "metadata": {},
   "source": [
    "##### fromkeys 创建并返回一个新的字典\n",
    "\n",
    "- 两个参数：\n",
    "    - 第一个参数是字典的键\n",
    "    - 第二个参数可选，传入键对应的值，如果不提供，默认为None"
   ]
  },
  {
   "cell_type": "code",
   "execution_count": 1,
   "metadata": {},
   "outputs": [
    {
     "data": {
      "text/plain": [
       "{1: None, 2: None, 3: None}"
      ]
     },
     "execution_count": 1,
     "metadata": {},
     "output_type": "execute_result"
    }
   ],
   "source": [
    "dict1 = {}\n",
    "dict1.fromkeys((1, 2, 3))"
   ]
  },
  {
   "cell_type": "code",
   "execution_count": 3,
   "metadata": {},
   "outputs": [
    {
     "data": {
      "text/plain": [
       "{1: 'Number', 2: 'Number', 3: 'Number'}"
      ]
     },
     "execution_count": 3,
     "metadata": {},
     "output_type": "execute_result"
    }
   ],
   "source": [
    "dict2 = {}\n",
    "dict2.fromkeys((1, 2, 3),\"Number\")"
   ]
  },
  {
   "cell_type": "code",
   "execution_count": 2,
   "metadata": {},
   "outputs": [
    {
     "data": {
      "text/plain": [
       "{1: ('Monday', 'Tuesday', 'Wednesday'),\n",
       " 2: ('Monday', 'Tuesday', 'Wednesday'),\n",
       " 3: ('Monday', 'Tuesday', 'Wednesday')}"
      ]
     },
     "execution_count": 2,
     "metadata": {},
     "output_type": "execute_result"
    }
   ],
   "source": [
    "dict3 = {}\n",
    "dict3.fromkeys((1, 2, 3),(\"Monday\",\"Tuesday\",\"Wednesday\"))"
   ]
  },
  {
   "cell_type": "markdown",
   "metadata": {},
   "source": [
    "#####  keys(), values(), items() 应用"
   ]
  },
  {
   "cell_type": "code",
   "execution_count": 5,
   "metadata": {},
   "outputs": [
    {
     "data": {
      "text/plain": [
       "(dict_keys([]), dict_values([]), dict_items([]))"
      ]
     },
     "execution_count": 5,
     "metadata": {},
     "output_type": "execute_result"
    }
   ],
   "source": [
    "dict1 = {}\n",
    "dict1.keys(), dict1.values(), dict1.items()"
   ]
  },
  {
   "cell_type": "code",
   "execution_count": 6,
   "metadata": {},
   "outputs": [
    {
     "data": {
      "text/plain": [
       "dict_keys([0, 1, 2, 3, 4, 5, 6, 7, 8, 9])"
      ]
     },
     "execution_count": 6,
     "metadata": {},
     "output_type": "execute_result"
    }
   ],
   "source": [
    "dict2 = dict1.fromkeys(range(10),'同济大学')  \n",
    "dict2.keys()"
   ]
  },
  {
   "cell_type": "code",
   "execution_count": 7,
   "metadata": {},
   "outputs": [
    {
     "data": {
      "text/plain": [
       "dict_values(['同济大学', '同济大学', '同济大学', '同济大学', '同济大学', '同济大学', '同济大学', '同济大学', '同济大学', '同济大学'])"
      ]
     },
     "execution_count": 7,
     "metadata": {},
     "output_type": "execute_result"
    }
   ],
   "source": [
    "dict2.values()"
   ]
  },
  {
   "cell_type": "code",
   "execution_count": 8,
   "metadata": {},
   "outputs": [
    {
     "data": {
      "text/plain": [
       "dict_items([(0, '同济大学'), (1, '同济大学'), (2, '同济大学'), (3, '同济大学'), (4, '同济大学'), (5, '同济大学'), (6, '同济大学'), (7, '同济大学'), (8, '同济大学'), (9, '同济大学')])"
      ]
     },
     "execution_count": 8,
     "metadata": {},
     "output_type": "execute_result"
    }
   ],
   "source": [
    "dict2.items()"
   ]
  },
  {
   "cell_type": "markdown",
   "metadata": {},
   "source": [
    "##### get() 函数\n",
    "\n",
    "\n",
    "- 以更加宽松的方式访问字典项\n",
    "- 当键不存在的时候，get()方法不会报错，而是默默地返回一个None"
   ]
  },
  {
   "cell_type": "code",
   "execution_count": null,
   "metadata": {},
   "outputs": [],
   "source": [
    "dict2 = dict1.fromkeys(range(10),'同济大学')  \n",
    "dict2.get(5)"
   ]
  },
  {
   "cell_type": "code",
   "execution_count": null,
   "metadata": {},
   "outputs": [],
   "source": [
    "# 不存在，默默返回 None\n",
    "dict2 = dict1.fromkeys(range(10),'同济大学')  \n",
    "print(dict2.get(100))"
   ]
  },
  {
   "cell_type": "code",
   "execution_count": null,
   "metadata": {},
   "outputs": [],
   "source": [
    "dict2 = dict1.fromkeys(range(10),'同济大学')  \n",
    "dict2.get(100,\"没有呢，咋办\")  #第二个参数，表示没有的时候，输出一个来"
   ]
  },
  {
   "cell_type": "markdown",
   "metadata": {},
   "source": [
    "##### 采用 in 或 not in 来判断成员是否在\n",
    "\n",
    "\n",
    "- 注意\n",
    "    - 仅判断字典中是否存在键\n",
    "    - 不管值如何"
   ]
  },
  {
   "cell_type": "code",
   "execution_count": null,
   "metadata": {},
   "outputs": [],
   "source": [
    "dict2 = dict1.fromkeys(range(10),'同济大学')  \n",
    "5 in dict2"
   ]
  },
  {
   "cell_type": "code",
   "execution_count": null,
   "metadata": {},
   "outputs": [],
   "source": [
    "dict2 = dict1.fromkeys(range(10),'同济大学')  \n",
    "32 in dict2"
   ]
  },
  {
   "cell_type": "markdown",
   "metadata": {},
   "source": [
    "##### copy() 复制字典"
   ]
  },
  {
   "cell_type": "code",
   "execution_count": 3,
   "metadata": {},
   "outputs": [
    {
     "name": "stdout",
     "output_type": "stream",
     "text": [
      "4466838400 4466838400\n",
      "{1: 'one', 2: 'two', 3: 'three', 4: 'four'} {1: 'one', 2: 'two', 3: 'three', 4: 'four'}\n"
     ]
    }
   ],
   "source": [
    "a = {1:\"one\", 2:\"two\", 3:\"three\"}\n",
    "b = a.copy\n",
    "print(id(a), id(b))\n",
    "a[4]=\"four\"\n",
    "print(a, b)"
   ]
  },
  {
   "cell_type": "markdown",
   "metadata": {},
   "source": [
    "##### pop() 和 popitem()\n",
    "\n",
    "\n",
    "- pop() 给定键弹出值\n",
    "- popitem() 弹出一项"
   ]
  },
  {
   "cell_type": "code",
   "execution_count": 9,
   "metadata": {},
   "outputs": [
    {
     "data": {
      "text/plain": [
       "'two'"
      ]
     },
     "execution_count": 9,
     "metadata": {},
     "output_type": "execute_result"
    }
   ],
   "source": [
    "a_dict = {1:\"one\", 2:\"two\", 3:\"three\", 4:\"Four\", 5:\"Five\", 6:\"six\"}\n",
    "a_dict.pop(2)"
   ]
  },
  {
   "cell_type": "code",
   "execution_count": null,
   "metadata": {},
   "outputs": [],
   "source": [
    "a_dict = {1:\"one\", 2:\"two\", 3:\"three\", 4:\"Four\", 5:\"Five\", 6:\"six\"}\n",
    "a_dict.pop(7,\"nothing\") # 如果没有7，就把第二个参数输出来"
   ]
  },
  {
   "cell_type": "code",
   "execution_count": null,
   "metadata": {},
   "outputs": [],
   "source": [
    "a_dict = {1:\"one\", 2:\"two\", 3:\"three\", 4:\"Four\", 5:\"Five\", 6:\"six\"}\n",
    "a_dict.popitem()  ## 弹出最后一个\n",
    "a_dict"
   ]
  },
  {
   "cell_type": "code",
   "execution_count": 11,
   "metadata": {},
   "outputs": [
    {
     "data": {
      "text/plain": [
       "{1: 'one', 2: 'two', 3: 'three'}"
      ]
     },
     "execution_count": 11,
     "metadata": {},
     "output_type": "execute_result"
    }
   ],
   "source": [
    "a_dict = {1:\"one\", 2:\"two\", 3:\"three\", 4:\"Four\", 5:\"Five\", 6:\"six\"}\n",
    "a_dict.popitem()\n",
    "a_dict.popitem()\n",
    "a_dict.popitem()\n",
    "a_dict"
   ]
  },
  {
   "cell_type": "markdown",
   "metadata": {},
   "source": [
    "##### setdefault 函数\n",
    "\n",
    "\n",
    "- 语法\n",
    "```python\n",
    ">>> dict.setdefault(key, default=None)\n",
    "```\n",
    "\n",
    "\n",
    "- 参数\n",
    "    - key —— 查找的键值\n",
    "    - default —— 键不存在时，设置的默认键值\n",
    "\n",
    "\n",
    "- 返回值\n",
    "    - 如果字典中包含有给定键，则返回该键对应的值\n",
    "    - 否则返回为该键设置的值"
   ]
  },
  {
   "cell_type": "code",
   "execution_count": 4,
   "metadata": {},
   "outputs": [
    {
     "data": {
      "text/plain": [
       "'s~six'"
      ]
     },
     "execution_count": 4,
     "metadata": {},
     "output_type": "execute_result"
    }
   ],
   "source": [
    "a_dict = {1:\"one\", 2:\"two\", 3:\"three\", 4:\"Four\", 5:\"Five\", 6:\"six\"}\n",
    "a_dict.setdefault(6, 's~six')"
   ]
  },
  {
   "cell_type": "code",
   "execution_count": null,
   "metadata": {
    "scrolled": true
   },
   "outputs": [],
   "source": [
    "# 注意 get 与 setdefault\n",
    "a_dict = {1:\"one\", 2:\"two\", 3:\"three\", 4:\"Four\", 5:\"Five\", 6:\"six\"}\n",
    "print(a_dict.get(7,'seven'))\n",
    "print(a_dict)     # a_dict 没有改变\n",
    "print(a_dict.setdefault(7,'seven'))\n",
    "print(a_dict)     # a_dict 已经改变"
   ]
  },
  {
   "cell_type": "markdown",
   "metadata": {},
   "source": [
    "### <font size=4><span id=\"5.2.6\">5.2.6 字典推理</span></font>"
   ]
  },
  {
   "cell_type": "code",
   "execution_count": 27,
   "metadata": {},
   "outputs": [
    {
     "data": {
      "text/plain": [
       "{1: 1,\n",
       " 2: 4,\n",
       " 3: 9,\n",
       " 4: 16,\n",
       " 5: 25,\n",
       " 6: 36,\n",
       " 7: 49,\n",
       " 8: 64,\n",
       " 9: 81,\n",
       " 10: 100,\n",
       " 11: 121,\n",
       " 12: 144,\n",
       " 13: 169,\n",
       " 14: 196,\n",
       " 15: 225,\n",
       " 16: 256,\n",
       " 17: 289,\n",
       " 18: 324,\n",
       " 19: 361}"
      ]
     },
     "execution_count": 27,
     "metadata": {},
     "output_type": "execute_result"
    }
   ],
   "source": [
    "# 创建整数的平方映射\n",
    "{x: x**2 for x in range(1,20)}"
   ]
  },
  {
   "cell_type": "code",
   "execution_count": 5,
   "metadata": {},
   "outputs": [],
   "source": [
    "# 推理方式创建标准化字典\n",
    "# 2022年内地大学预算（数据来源：中国教育在线）\n",
    "univ_budget_dict = \\\n",
    "{\n",
    "    \"清华大学\"    :362.11,\n",
    "    \"浙江大学\" :261.03,\n",
    "    \"北京大学\" :219.29,\n",
    "    \"上海交通大学\" :204.2,\n",
    "    \"中山大学\"     :193.05,\n",
    "    \"复旦大学\" :171.55,\n",
    "    \"哈尔滨工业大学\":144.18,\n",
    "    \"北京航空航天大学\":142.84,\n",
    "    \"中国科学技术大学\":133.85,\n",
    "    \"西安交通大学\"   :133.72,\n",
    "    \"山东大学\"   :130.65,\n",
    "    \"华中科技大学\" :129.84,\n",
    "    \"同济大学\" :119.51,\n",
    "    \"东南大学\"    :119.03,\n",
    "    \"武汉大学\" :118.93,\n",
    "    \"北京理工大学\":115.90,\n",
    "    \"四川大学\" :110.12,\n",
    "    \"厦门大学\" :107.1,\n",
    "    \"西北工业大学\":105.99,\n",
    "    \"吉林大学\"     :103.93,\n",
    "    \"北京师范大学\" :98.87,\n",
    "    \"中南大学\"   :96,\n",
    "    \"南京大学\"   :93.47,\n",
    "    \"华南理工大学\" :92.2,\n",
    "    \"天津大学\" :84.55,\n",
    "    \"大连理工大学\":82.25,\n",
    "    \"中国人民大学\":79.99,\n",
    "    \"重庆大学\":75.47,\n",
    "    \"电子科技大学\":72.86,\n",
    "    \"南京航空航天大学\":72.57\n",
    "}"
   ]
  },
  {
   "cell_type": "code",
   "execution_count": 6,
   "metadata": {
    "collapsed": true
   },
   "outputs": [
    {
     "data": {
      "text/plain": [
       "{'清华大学': 100,\n",
       " '浙江大学': 72,\n",
       " '北京大学': 60,\n",
       " '上海交通大学': 56,\n",
       " '中山大学': 53,\n",
       " '复旦大学': 47,\n",
       " '哈尔滨工业大学': 39,\n",
       " '北京航空航天大学': 39,\n",
       " '中国科学技术大学': 36,\n",
       " '西安交通大学': 36,\n",
       " '山东大学': 36,\n",
       " '华中科技大学': 35,\n",
       " '同济大学': 33,\n",
       " '东南大学': 32,\n",
       " '武汉大学': 32,\n",
       " '北京理工大学': 32,\n",
       " '四川大学': 30,\n",
       " '厦门大学': 29,\n",
       " '西北工业大学': 29,\n",
       " '吉林大学': 28,\n",
       " '北京师范大学': 27,\n",
       " '中南大学': 26,\n",
       " '南京大学': 25,\n",
       " '华南理工大学': 25,\n",
       " '天津大学': 23,\n",
       " '大连理工大学': 22,\n",
       " '中国人民大学': 22,\n",
       " '重庆大学': 20,\n",
       " '电子科技大学': 20,\n",
       " '南京航空航天大学': 20}"
      ]
     },
     "execution_count": 6,
     "metadata": {},
     "output_type": "execute_result"
    }
   ],
   "source": [
    "# 以最大值为基准，换算成百分比形式\n",
    "m = max(univ_budget_dict.values())\n",
    "univ_budget_dict = {k : int(v/m*100) for k, v in univ_budget_dict.items()}\n",
    "univ_budget_dict"
   ]
  },
  {
   "cell_type": "markdown",
   "metadata": {},
   "source": [
    "### <font size=4><span id=\"5.2.7\">5.2.7 字典遍历</span></font>"
   ]
  },
  {
   "cell_type": "code",
   "execution_count": null,
   "metadata": {
    "scrolled": true
   },
   "outputs": [],
   "source": [
    "# 逐项循环\n",
    "for univ,budget in univ_budget_dict.items():\n",
    "    print(\"{0}：{1}\".format(univ,budget))"
   ]
  },
  {
   "cell_type": "code",
   "execution_count": null,
   "metadata": {
    "scrolled": true
   },
   "outputs": [],
   "source": [
    "# 逐个键循环\n",
    "for univ in univ_budget_dict.keys():\n",
    "    budget = univ_budget_dict[univ]\n",
    "    print(\"{0}：{1}\".format(univ,budget))"
   ]
  },
  {
   "cell_type": "code",
   "execution_count": 1,
   "metadata": {},
   "outputs": [],
   "source": [
    "# Score per budget\n",
    "univ_budget_score_dict = \\\n",
    "{\n",
    "    \"清华大学\"    :(362.11,999.4),\n",
    "    \"浙江大学\" :(261.03,825.3),\n",
    "    \"北京大学\" :(219.29,912.5),\n",
    "    \"上海交通大学\" :(204.2,783.3),\n",
    "    \"中山大学\"     :(193.05,559.4),\n",
    "    \"复旦大学\" :(171.55,697.8),\n",
    "    \"哈尔滨工业大学\":(144.18,549.8),\n",
    "    \"北京航空航天大学\":(142.84,546.7),\n",
    "    \"中国科学技术大学\":(133.85,609.9),\n",
    "    \"西安交通大学\"   :(133.72,570.2),\n",
    "    \"山东大学\"   :(130.65,484.3),\n",
    "    \"华中科技大学\" :(129.84,609.3),\n",
    "    \"同济大学\" :(119.51,548.4),\n",
    "    \"东南大学\"    :(119.03,538.5),\n",
    "    \"武汉大学\" :(118.93,607.1),\n",
    "    \"北京理工大学\":(115.90,530.9),\n",
    "    \"四川大学\" :(110.12,561.7),\n",
    "    \"厦门大学\" :(107.1,458.8),\n",
    "    \"西北工业大学\":(105.99,467.9),\n",
    "    \"吉林大学\"     :(103.93,450.3),\n",
    "    \"北京师范大学\" :(98.87,534.7),\n",
    "    \"中南大学\"   :(96,475.8),\n",
    "    \"南京大学\"   :(93.47,683.4),\n",
    "    \"华南理工大学\" :(92.2,466.7),\n",
    "    \"天津大学\" :(84.55,490.8),\n",
    "    \"大连理工大学\":(82.25,426.5),\n",
    "    \"中国人民大学\":(79.99,514.7),\n",
    "    \"重庆大学\":(75.47,397.2),\n",
    "    \"电子科技大学\":(72.86,432),\n",
    "    \"南京航空航天大学\":(72.57,387.1)\n",
    "}"
   ]
  },
  {
   "cell_type": "code",
   "execution_count": 2,
   "metadata": {
    "scrolled": true
   },
   "outputs": [
    {
     "data": {
      "text/plain": [
       "{'清华大学': 37,\n",
       " '浙江大学': 43,\n",
       " '北京大学': 56,\n",
       " '上海交通大学': 52,\n",
       " '中山大学': 39,\n",
       " '复旦大学': 55,\n",
       " '哈尔滨工业大学': 52,\n",
       " '北京航空航天大学': 52,\n",
       " '中国科学技术大学': 62,\n",
       " '西安交通大学': 58,\n",
       " '山东大学': 50,\n",
       " '华中科技大学': 64,\n",
       " '同济大学': 62,\n",
       " '东南大学': 61,\n",
       " '武汉大学': 69,\n",
       " '北京理工大学': 62,\n",
       " '四川大学': 69,\n",
       " '厦门大学': 58,\n",
       " '西北工业大学': 60,\n",
       " '吉林大学': 59,\n",
       " '北京师范大学': 73,\n",
       " '中南大学': 67,\n",
       " '南京大学': 100,\n",
       " '华南理工大学': 69,\n",
       " '天津大学': 79,\n",
       " '大连理工大学': 70,\n",
       " '中国人民大学': 88,\n",
       " '重庆大学': 71,\n",
       " '电子科技大学': 81,\n",
       " '南京航空航天大学': 72}"
      ]
     },
     "execution_count": 2,
     "metadata": {},
     "output_type": "execute_result"
    }
   ],
   "source": [
    "univ_score_per_budget_dict = {}\n",
    "# 逐项循环\n",
    "for univ,(budget,score) in univ_budget_score_dict.items():\n",
    "    univ_score_per_budget_dict[univ] = score / budget\n",
    "    \n",
    "# 以最大值为基准，换算成百分比形式\n",
    "m = max(univ_score_per_budget_dict.values())\n",
    "univ_score_per_budget_dict = {k : int(v/m*100) for k, v in univ_score_per_budget_dict.items()}\n",
    "univ_score_per_budget_dict"
   ]
  },
  {
   "cell_type": "code",
   "execution_count": 3,
   "metadata": {
    "collapsed": true
   },
   "outputs": [
    {
     "data": {
      "image/png": "[encoded data removed]",
      "text/plain": [
       "<Figure size 1500x2000 with 1 Axes>"
      ]
     },
     "metadata": {},
     "output_type": "display_data"
    }
   ],
   "source": [
    "# 画出图形更直观\n",
    "import matplotlib\n",
    "import matplotlib.pyplot as plt\n",
    "\n",
    "matplotlib.rc('font', family='SimHei', weight='bold')\n",
    "plt.rcParams['axes.unicode_minus'] = False\n",
    "\n",
    "labels = []\n",
    "data = []\n",
    "for univ, budget in univ_score_per_budget_dict.items():\n",
    "    labels.append(univ)\n",
    "    data.append(budget)\n",
    "    \n",
    "labels.reverse()\n",
    "data.reverse()\n",
    "\n",
    "fig = plt.figure(figsize = (15,20))\n",
    "plt.barh(labels,data)\n",
    "plt.yticks(fontsize=20)\n",
    "plt.xticks(fontsize=20)\n",
    "plt.title(\"各高校单位预算产出(规则化)\",fontsize=\"xx-large\",fontweight=\"heavy\") \n",
    "plt.grid()  # 生成网格"
   ]
  },
  {
   "cell_type": "markdown",
   "metadata": {},
   "source": [
    "## <font size=5><span id=\"5.3\"> 5.3 集合set</span></font>\n",
    "### 字典的表亲"
   ]
  },
  {
   "cell_type": "markdown",
   "metadata": {},
   "source": [
    "\n",
    "\n",
    "- 集合是由不重复元素组成的无序集\n",
    "\n",
    "它的基本用法包括成员检测和消除重复元素。集合对象也支持像 联合，交集，差集，对称差分等数学运算。"
   ]
  },
  {
   "cell_type": "code",
   "execution_count": 34,
   "metadata": {},
   "outputs": [
    {
     "name": "stdout",
     "output_type": "stream",
     "text": [
      "[1, 2, 4, 5, 6, 7, 8]\n"
     ]
    }
   ],
   "source": [
    "a = [1,2,4,4,4,5,6,7,8,8]\n",
    "b = set(a)\n",
    "a = list(b)\n",
    "print(a)"
   ]
  },
  {
   "cell_type": "code",
   "execution_count": 35,
   "metadata": {},
   "outputs": [
    {
     "name": "stdout",
     "output_type": "stream",
     "text": [
      "{1, 2, 4, 5, 6, 7, 8}\n"
     ]
    }
   ],
   "source": [
    "print(b)"
   ]
  },
  {
   "cell_type": "markdown",
   "metadata": {},
   "source": [
    "### <font size=4><span id=\"5.3.1\">5.3.1 集合创建</span></font>"
   ]
  },
  {
   "cell_type": "code",
   "execution_count": null,
   "metadata": {
    "scrolled": true
   },
   "outputs": [],
   "source": [
    "# 创建空集合\n",
    "an_empty_set = set()\n",
    "an_empty_set\n",
    "\n",
    "# an_empty_set = {} 行不行？"
   ]
  },
  {
   "cell_type": "code",
   "execution_count": null,
   "metadata": {},
   "outputs": [],
   "source": [
    "# 通过字符串创建集合\n",
    "\n",
    "letter_set1 = set('abcde_abcd')\n",
    "letter_set1"
   ]
  },
  {
   "cell_type": "code",
   "execution_count": null,
   "metadata": {},
   "outputs": [],
   "source": [
    "# 创建集合\n",
    "basket = {'apple', 'orange', 'apple', 'pear', 'orange', 'banana'} # 注意元素有重复\n",
    "print(basket)"
   ]
  },
  {
   "cell_type": "markdown",
   "metadata": {},
   "source": [
    "### <font size=4><span id=\"5.3.2\">5.3.2 判断元素是否存在？</span></font>\n",
    "\n",
    "- in 或 not in"
   ]
  },
  {
   "cell_type": "code",
   "execution_count": null,
   "metadata": {},
   "outputs": [],
   "source": [
    "'orange' in basket # 判断元素是否存在，橘子存在"
   ]
  },
  {
   "cell_type": "code",
   "execution_count": null,
   "metadata": {},
   "outputs": [],
   "source": [
    "'peach' in basket # 桃子不存在"
   ]
  },
  {
   "cell_type": "code",
   "execution_count": null,
   "metadata": {},
   "outputs": [],
   "source": [
    "'egg' not in basket"
   ]
  },
  {
   "cell_type": "markdown",
   "metadata": {},
   "source": [
    "### <font size=4><span id=\"5.3.3\">5.3.3 集合增加元素</span></font>"
   ]
  },
  {
   "cell_type": "code",
   "execution_count": null,
   "metadata": {},
   "outputs": [],
   "source": [
    "s = set([1,2,3,4,5,6,1,2,3])\n",
    "s"
   ]
  },
  {
   "cell_type": "code",
   "execution_count": null,
   "metadata": {},
   "outputs": [],
   "source": [
    "s.add(0)\n",
    "s"
   ]
  },
  {
   "cell_type": "code",
   "execution_count": null,
   "metadata": {},
   "outputs": [],
   "source": [
    "s1 = {1,2,3,4,5}\n",
    "s2 = {4,5,6,7}\n",
    "s1, s2"
   ]
  },
  {
   "cell_type": "code",
   "execution_count": null,
   "metadata": {},
   "outputs": [],
   "source": [
    "s1.update(s2) # 合并另一集合中的元素，若已存在，则忽略\n",
    "s1"
   ]
  },
  {
   "cell_type": "markdown",
   "metadata": {},
   "source": [
    "### <font size=4><span id=\"5.3.4\">5.3.4 集合的运算</span></font>"
   ]
  },
  {
   "cell_type": "code",
   "execution_count": null,
   "metadata": {},
   "outputs": [],
   "source": [
    "# 差集\n",
    "letter_set1 = set(\"This is Han Meimei\")\n",
    "letter_set2 = set(\"This is Li Lei\")\n",
    "set_diff = letter_set1 - letter_set2\n",
    "set_diff"
   ]
  },
  {
   "cell_type": "code",
   "execution_count": null,
   "metadata": {},
   "outputs": [],
   "source": [
    "# 并集\n",
    "set_union = letter_set1 | letter_set2\n",
    "set_union"
   ]
  },
  {
   "cell_type": "code",
   "execution_count": null,
   "metadata": {},
   "outputs": [],
   "source": [
    "# 交集\n",
    "set_intersection = letter_set1 & letter_set2\n",
    "set_intersection"
   ]
  },
  {
   "cell_type": "code",
   "execution_count": null,
   "metadata": {},
   "outputs": [],
   "source": [
    "# 异或集 只在一个集合中出现的元素\n",
    "set_xor = letter_set1 ^ letter_set2\n",
    "set_xor"
   ]
  },
  {
   "cell_type": "code",
   "execution_count": null,
   "metadata": {},
   "outputs": [],
   "source": [
    "# 检查子集关系\n",
    "\n",
    "set([1,2,3]) <= set([1,2,3,4]) # 前者是后者的子集"
   ]
  },
  {
   "cell_type": "code",
   "execution_count": null,
   "metadata": {},
   "outputs": [],
   "source": [
    "set([1,2,3]) < set([1,2,3]) # 前者不是后者的真子集"
   ]
  },
  {
   "cell_type": "markdown",
   "metadata": {},
   "source": [
    "### <font size=4><span id=\"5.3.5\">5.3.5 集合的推理</span></font>"
   ]
  },
  {
   "cell_type": "code",
   "execution_count": null,
   "metadata": {},
   "outputs": [],
   "source": [
    "a = {l for l in 'abcdefghiABC' if l not in 'ABC'}\n",
    "a"
   ]
  },
  {
   "cell_type": "markdown",
   "metadata": {},
   "source": [
    "### <font size=4><span id=\"5.3.6\">5.3.6 frozenset()</span></font>\n",
    "- 有时候希望集合不能随意增加或者删除，可以定义成不可变集合\n"
   ]
  },
  {
   "cell_type": "code",
   "execution_count": null,
   "metadata": {},
   "outputs": [],
   "source": [
    "set1 = frozenset({1, 2, 3, 4, 5})"
   ]
  },
  {
   "cell_type": "code",
   "execution_count": null,
   "metadata": {},
   "outputs": [],
   "source": [
    "set1"
   ]
  },
  {
   "cell_type": "code",
   "execution_count": null,
   "metadata": {},
   "outputs": [],
   "source": [
    "#set1.add(6)"
   ]
  },
  {
   "cell_type": "markdown",
   "metadata": {},
   "source": [
    "### <font size=4><span id=\"5.3.7\">5.3.7 集合遍历</span></font>"
   ]
  },
  {
   "cell_type": "code",
   "execution_count": null,
   "metadata": {},
   "outputs": [],
   "source": [
    "basket = {'apple', 'orange', 'apple', 'pear', 'orange', 'banana'}\n",
    "for fruit in basket:\n",
    "    print(fruit)"
   ]
  }
 ],
 "metadata": {
  "celltoolbar": "Raw Cell Format",
  "kernelspec": {
   "display_name": "Python 3 (ipykernel)",
   "language": "python",
   "name": "python3"
  },
  "language_info": {
   "codemirror_mode": {
    "name": "ipython",
    "version": 3
   },
   "file_extension": ".py",
   "mimetype": "text/x-python",
   "name": "python",
   "nbconvert_exporter": "python",
   "pygments_lexer": "ipython3",
   "version": "3.11.4"
  },
  "toc": {
   "base_numbering": 1,
   "nav_menu": {},
   "number_sections": false,
   "sideBar": true,
   "skip_h1_title": false,
   "title_cell": "Table of Contents",
   "title_sidebar": "Contents",
   "toc_cell": false,
   "toc_position": {},
   "toc_section_display": true,
   "toc_window_display": false
  }
 },
 "nbformat": 4,
 "nbformat_minor": 4
}
