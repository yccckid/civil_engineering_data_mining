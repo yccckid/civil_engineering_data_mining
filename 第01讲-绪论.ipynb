{
 "cells": [
  {
   "cell_type": "markdown",
   "metadata": {},
   "source": [
    "# 第一讲 绪论"
   ]
  },
  {
   "cell_type": "markdown",
   "metadata": {},
   "source": [
    "* [1.1 开发环境](#1.1)\n",
    "* [1.2 基本语法](#1.2)\n",
    "* [1.3 PEP8代码规范](#1.3)\n"
   ]
  },
  {
   "cell_type": "markdown",
   "metadata": {},
   "source": [
    "***"
   ]
  },
  {
   "cell_type": "markdown",
   "metadata": {
    "tags": []
   },
   "source": [
    "## <font size=5><span id='1.1'> 1.1 开发环境</span></font>"
   ]
  },
  {
   "cell_type": "markdown",
   "metadata": {},
   "source": [
    "### <font size=4><span id=\"1.1.1\"> 1.1.1 环境安装：https://www.anaconda.com/download/</span></font>\n",
    "- 可单独从官网下载 Python 并安装\n",
    "    - 模块如 numpy、scipy 等，要单独安装\n",
    "    \n",
    "    \n",
    "- 推荐集成平台 [Anaconda](https://www.anaconda.com/distribution/)\n",
    "\n",
    "- 访问 Anaconda 官网 [https://www.anaconda.com/distribution/](https://www.anaconda.com/distribution/)"
   ]
  },
  {
   "cell_type": "markdown",
   "metadata": {},
   "source": [
    "### <font size=4><span id=\"1.1.2\"> 1.1.2 Jupyter Notebook —— IPython 发展而来</span></font>\n",
    "\n",
    "- Jupyter Notebook（此前被称为 IPython notebook）是一个交互式笔记本，支持运行 40 多种编程语言\n",
    "\n",
    "\n",
    "- Jupyter Notebook 的本质是一个 Web 应用程序，便于创建和共享文本化程序文档，支持实时代码、数学方程、可视化和 markdown\n",
    "\n",
    "\n",
    "- 用途多样，包括\n",
    "    - 数据清理和转换\n",
    "    - 数值模拟\n",
    "    - 统计建模\n",
    "    - 机器学习\n",
    "    - 等等"
   ]
  },
  {
   "cell_type": "markdown",
   "metadata": {},
   "source": [
    "### <font size=4><span id=\"1.1.3\"> 1.1.3 Notebook 文件名 —— file_name.ipynb</span></font>\n",
    "- 文件名修改\n",
    "\n",
    "    - 文件夹内 windows 文件改名方式操作\n",
    "    - Jupyter Notebook 环境下单击左上文件名，再修改\n",
    "\n",
    "\n",
    "- ipynb 文件\n",
    "    - IPython NoteBook 简称\n",
    "    - 爱 Python NB 的简称\n",
    "    - interface\n"
   ]
  },
  {
   "cell_type": "markdown",
   "metadata": {},
   "source": [
    "### <font size=4><span id=\"1.1.4\"> 1.1.4 Cell —— Notebook 之单元格</span></font>\n",
    "\n",
    "- 每个格子的格式有三种类型\n",
    "    - 代码 (切换方式 Esc + Y)    \n",
    "    - markdown  (切换方式 Esc + M)\n",
    "    - Raw NBConvert (切换方式 Esc + R)\n",
    "    \n",
    "\n",
    "- markdown\n",
    "    - 是一种可以使用普通文本编辑器编写的标记语言，通过简单的标记语法，它可以使普通文本内容具有一定的格式\n",
    "    - 语法简洁明了、学习容易，而且功能比纯文本更强，已被很多人用来写博客\n",
    "    - 可快速转化为 PPT、Word、pdf 和 html 等格式文档\n",
    "    - 支持多媒体\n",
    "    - 支持 LaTex 公式编辑\n",
    "    - 还在发展中 ..."
   ]
  },
  {
   "cell_type": "markdown",
   "metadata": {},
   "source": [
    "### <font size=4><span id=\"1.1.5\"> 1.1.5 Cell 的若干种运行方式</span></font>\n",
    "\n",
    "- 菜单 Cell\n",
    "- 工具按钮\n",
    "- **Alt - Enter** ：运行当前格子，并在后面增加新格子\n",
    "- **Shift - Enter** ：运行当前格子，并停在下一格子\n",
    "- **Ctrl - Enter** ：运行当前格子，并停住"
   ]
  },
  {
   "cell_type": "code",
   "execution_count": null,
   "metadata": {},
   "outputs": [],
   "source": [
    "# 现场演示 Cell 的基本操作"
   ]
  },
  {
   "cell_type": "markdown",
   "metadata": {},
   "source": [
    "### <font size=4><span id=\"1.1.6\"> 1.1.6 Jupyter Notebook 常用操作</span></font>\n",
    "\n",
    "- H：查看快捷键\n",
    "\n",
    "\n",
    "- Esc：进入命令模式\n",
    "\n",
    "\n",
    "- Enter：进入编辑模式\n",
    "\n",
    "\n",
    "- 命令（进入命令模式后可用）\n",
    "     - M：markdown\n",
    "     - s：save保存\n",
    "     - x：删除\n",
    "     - a：above插入\n",
    "     - b：below插入\n",
    "     - Ctrl+Enter：运行并停在本格\n",
    "     - shift+Enter：运行并进入下一格\n",
    "     - Alt+Enter : 运行后，在下方插入新单元格并进入\n",
    "     - L：显示行号，在命令模式中的代码单元格按 `L` 打开数字\n",
    "     - Esc +Shift + M   合并单元格\n",
    "     \n",
    "     \n",
    "- 选择（命令模式下）\n",
    "    - 点击，单选\n",
    "    - Esc +Shift + J   或  Esc +Shift + Down   选择下一格\n",
    "    - Esc +Shift + K   或  Esc + Shift + Up    选择上一格\n",
    "    \n",
    "    \n",
    "- 选择后（命令模式下）\n",
    "     - X : 剪切选中的单元\n",
    "     - C : 复制选中的单元\n",
    "     - Shift-V : 粘贴到上方单元\n",
    "     - V : 粘贴到下方单元"
   ]
  },
  {
   "cell_type": "markdown",
   "metadata": {},
   "source": [
    "### <font size=4><span id=\"1.1.7\">1.1.7 支持 LaTex 公式编辑</span></font>\n",
    "\n",
    "- LaTeX 是一种基于 TEX 的排版系统，编写公式的能力强大\n",
    "\n",
    "- 适合用来生成高印刷质量的科技和数学类文档\n",
    "\n",
    "- 参考 [www.ctex.org](www.ctex.org)\n",
    "\n",
    "- 有兴趣可以访问：[https://www.overleaf.com/](https://www.overleaf.com/)\n",
    "\n",
    "- 示例 —— Latex 代码及公式显示\n",
    "\n",
    "```\n",
    "$$\n",
    "e^{ix}=\\cos x + i \\sin x\n",
    "$$\n",
    "```\n",
    "\n",
    "$$\n",
    "e^{ix}=\\cos x + i \\sin x\n",
    "$$\n",
    "cos(x)"
   ]
  },
  {
   "cell_type": "markdown",
   "metadata": {},
   "source": [
    "## <font size=5> <span id=\"1.2\"> 1.2 基本语法</span></font>"
   ]
  },
  {
   "cell_type": "markdown",
   "metadata": {},
   "source": [
    "### <font size=4><span id=\"1.2.1\"> 1.2.1 代码规则</span></font>\n",
    "\n",
    "- 每行一条语句或代码\n",
    "- 换行符 —— 意味着后接新的一行代码\n",
    "- 注释行 —— # 开头\n",
    "- 续行符 \\\n",
    "- 空行 —— 便于代码可读"
   ]
  },
  {
   "cell_type": "code",
   "execution_count": 2,
   "metadata": {},
   "outputs": [],
   "source": [
    "# 现场演示"
   ]
  },
  {
   "cell_type": "markdown",
   "metadata": {
    "tags": [],
    "toc-hr-collapsed": true
   },
   "source": [
    "### <font size=4><span id=\"1.2.2\"> 1.2.2 空白行</span></font>\n",
    "#### Python解释器忽略那种只有一些空格、tabs，注释的一行，均认为是空白行\n",
    "\n"
   ]
  },
  {
   "cell_type": "markdown",
   "metadata": {},
   "source": [
    "##### 注释从哈希字符#开始。所有的字符在行结束后都是注释的一部分，而Python解释器忽略了它们。\n",
    "##### 请注意，Python没有多行或块注释。"
   ]
  },
  {
   "cell_type": "markdown",
   "metadata": {},
   "source": [
    "### <font size=4><span id=\"1.2.3\"> 1.2.3 多行连接</span></font>\n",
    "\n",
    "  \n",
    "有时候遇到一行代码太长（打印和显示方便），会将一行用\\符号隔开，表示下一行是接着的"
   ]
  },
  {
   "cell_type": "code",
   "execution_count": 11,
   "metadata": {},
   "outputs": [
    {
     "name": "stdout",
     "output_type": "stream",
     "text": [
      "This is an example of line joining\n"
     ]
    }
   ],
   "source": [
    "variable_number_one   = 1\n",
    "variable_number_two   = '2'\n",
    "if variable_number_one == 1 and variable_number_one < 2 \\\n",
    "and variable_number_two == '2':\n",
    "    print( \"This is an example of line joining\" )"
   ]
  },
  {
   "cell_type": "markdown",
   "metadata": {},
   "source": [
    "#### 注意： `\\`后面不能有其他字符，包括空格"
   ]
  },
  {
   "cell_type": "code",
   "execution_count": 13,
   "metadata": {},
   "outputs": [
    {
     "ename": "SyntaxError",
     "evalue": "unexpected character after line continuation character (<ipython-input-13-1c8bdbe19d29>, line 3)",
     "output_type": "error",
     "traceback": [
      "\u001b[1;36m  File \u001b[1;32m\"<ipython-input-13-1c8bdbe19d29>\"\u001b[1;36m, line \u001b[1;32m3\u001b[0m\n\u001b[1;33m    if variable_number_one == 1 and variable_number_one < 2 \\\u001b[0m\n\u001b[1;37m                                                              ^\u001b[0m\n\u001b[1;31mSyntaxError\u001b[0m\u001b[1;31m:\u001b[0m unexpected character after line continuation character\n"
     ]
    }
   ],
   "source": [
    "variable_number_one   = 1\n",
    "variable_number_two   = '2'\n",
    "if variable_number_one == 1 and variable_number_one < 2 \\ \n",
    "and variable_number_two == '2':\n",
    "    print( \"This is an example of line joining\" )"
   ]
  },
  {
   "cell_type": "markdown",
   "metadata": {},
   "source": [
    "### <font size=4><span id=\"1.2.4\"> 1.2.4 多个语句一行</span></font>\n",
    "\n",
    "\n",
    "可以将多个语句写到一行，此时用分号隔开"
   ]
  },
  {
   "cell_type": "code",
   "execution_count": 14,
   "metadata": {},
   "outputs": [
    {
     "name": "stdout",
     "output_type": "stream",
     "text": [
      "Statement 1\n",
      "Statement 2\n"
     ]
    }
   ],
   "source": [
    "str1 = \"Statement 1\"; str2 = \"Statement 2\"; print(str1); print(str2)"
   ]
  },
  {
   "cell_type": "code",
   "execution_count": 15,
   "metadata": {},
   "outputs": [
    {
     "name": "stdout",
     "output_type": "stream",
     "text": [
      "Statement 1\n",
      "Statement 2\n"
     ]
    }
   ],
   "source": [
    "# 等同于。。。。。。\n",
    "str1 = \"Statement 1\"\n",
    "str2 = \"Statement 2\"\n",
    "print(str1)\n",
    "print(str2)"
   ]
  },
  {
   "cell_type": "markdown",
   "metadata": {},
   "source": [
    "### <font size=4><span id=\"1.2.5\"> 1.2.5 缩进</span></font>\n",
    "\n",
    "\n",
    "- 用空格或者tab缩进一行代码；缩进的代码表示是一个块，从属于上面一句\n",
    "- 严格的缩进是的python代码非常精简而且有层次\n",
    "- 如果在正确的位置输入冒号，按下回车后，第二行代码会自动缩进"
   ]
  },
  {
   "cell_type": "code",
   "execution_count": 18,
   "metadata": {},
   "outputs": [
    {
     "name": "stdout",
     "output_type": "stream",
     "text": [
      "This statement\n",
      "and this has the same indentation\n"
     ]
    }
   ],
   "source": [
    "if x > 0:\n",
    "    print(\"This statement\")\n",
    "    print(\"and this has the same indentation\")\n",
    "else:\n",
    "    print(\"hahah\")\n",
    "    \n",
    "if x < 4:\n",
    "    pass"
   ]
  },
  {
   "cell_type": "code",
   "execution_count": 5,
   "metadata": {
    "scrolled": true
   },
   "outputs": [
    {
     "ename": "IndentationError",
     "evalue": "unexpected indent (1027007617.py, line 6)",
     "output_type": "error",
     "traceback": [
      "\u001b[0;36m  Cell \u001b[0;32mIn[5], line 6\u001b[0;36m\u001b[0m\n\u001b[0;31m    print (\"This statement has 4 spaces and a single tab indentation\")\u001b[0m\n\u001b[0m    ^\u001b[0m\n\u001b[0;31mIndentationError\u001b[0m\u001b[0;31m:\u001b[0m unexpected indent\n"
     ]
    }
   ],
   "source": [
    "x = 5\n",
    "if x > 0:\n",
    "    print(\"x is greater than zero\") #缩进了4个空格\n",
    "    if x < 10:\n",
    "      print (\"x is single digit\")  #缩进了1个空格\n",
    "        print (\"This statement has 4 spaces and a single tab indentation\")"
   ]
  },
  {
   "cell_type": "markdown",
   "metadata": {},
   "source": [
    "### <font size=4><span id=\"1.2.6\"> 1.2.6 保留字段</span></font>\n",
    "\n",
    "一些关键字是系统自带的保留字，即不能用作为标识符"
   ]
  },
  {
   "cell_type": "markdown",
   "metadata": {},
   "source": [
    "#### <font>合法的标识符</font>\n",
    "- 字母  数字  下划线 :  `a~z  A~Z 0~9 _ `  \n",
    "- 不能以数字开头  \n",
    "- 不能与系统自带的标识符重名"
   ]
  },
  {
   "cell_type": "markdown",
   "metadata": {},
   "source": [
    "`b_2     _2b      b-3      for     a.b`"
   ]
  },
  {
   "cell_type": "code",
   "execution_count": 25,
   "metadata": {
    "collapsed": true
   },
   "outputs": [
    {
     "data": {
      "text/plain": [
       "['False',\n",
       " 'None',\n",
       " 'True',\n",
       " 'and',\n",
       " 'as',\n",
       " 'assert',\n",
       " 'async',\n",
       " 'await',\n",
       " 'break',\n",
       " 'class',\n",
       " 'continue',\n",
       " 'def',\n",
       " 'del',\n",
       " 'elif',\n",
       " 'else',\n",
       " 'except',\n",
       " 'finally',\n",
       " 'for',\n",
       " 'from',\n",
       " 'global',\n",
       " 'if',\n",
       " 'import',\n",
       " 'in',\n",
       " 'is',\n",
       " 'lambda',\n",
       " 'nonlocal',\n",
       " 'not',\n",
       " 'or',\n",
       " 'pass',\n",
       " 'raise',\n",
       " 'return',\n",
       " 'try',\n",
       " 'while',\n",
       " 'with',\n",
       " 'yield']"
      ]
     },
     "execution_count": 25,
     "metadata": {},
     "output_type": "execute_result"
    }
   ],
   "source": [
    "import keyword\n",
    "keyword.kwlist"
   ]
  },
  {
   "cell_type": "markdown",
   "metadata": {},
   "source": [
    "### <font size=4><span id=\"1.2.7\"> 1.2.7 内置函数</span></font>\n",
    "- 如：`print()`   `input()`   `help()`\n",
    "- `dir(\\__builtins__)`可以看到内置函数列表"
   ]
  },
  {
   "cell_type": "code",
   "execution_count": 26,
   "metadata": {
    "collapsed": true
   },
   "outputs": [
    {
     "data": {
      "text/plain": [
       "['ArithmeticError',\n",
       " 'AssertionError',\n",
       " 'AttributeError',\n",
       " 'BaseException',\n",
       " 'BlockingIOError',\n",
       " 'BrokenPipeError',\n",
       " 'BufferError',\n",
       " 'BytesWarning',\n",
       " 'ChildProcessError',\n",
       " 'ConnectionAbortedError',\n",
       " 'ConnectionError',\n",
       " 'ConnectionRefusedError',\n",
       " 'ConnectionResetError',\n",
       " 'DeprecationWarning',\n",
       " 'EOFError',\n",
       " 'Ellipsis',\n",
       " 'EnvironmentError',\n",
       " 'Exception',\n",
       " 'False',\n",
       " 'FileExistsError',\n",
       " 'FileNotFoundError',\n",
       " 'FloatingPointError',\n",
       " 'FutureWarning',\n",
       " 'GeneratorExit',\n",
       " 'IOError',\n",
       " 'ImportError',\n",
       " 'ImportWarning',\n",
       " 'IndentationError',\n",
       " 'IndexError',\n",
       " 'InterruptedError',\n",
       " 'IsADirectoryError',\n",
       " 'KeyError',\n",
       " 'KeyboardInterrupt',\n",
       " 'LookupError',\n",
       " 'MemoryError',\n",
       " 'ModuleNotFoundError',\n",
       " 'NameError',\n",
       " 'None',\n",
       " 'NotADirectoryError',\n",
       " 'NotImplemented',\n",
       " 'NotImplementedError',\n",
       " 'OSError',\n",
       " 'OverflowError',\n",
       " 'PendingDeprecationWarning',\n",
       " 'PermissionError',\n",
       " 'ProcessLookupError',\n",
       " 'RecursionError',\n",
       " 'ReferenceError',\n",
       " 'ResourceWarning',\n",
       " 'RuntimeError',\n",
       " 'RuntimeWarning',\n",
       " 'StopAsyncIteration',\n",
       " 'StopIteration',\n",
       " 'SyntaxError',\n",
       " 'SyntaxWarning',\n",
       " 'SystemError',\n",
       " 'SystemExit',\n",
       " 'TabError',\n",
       " 'TimeoutError',\n",
       " 'True',\n",
       " 'TypeError',\n",
       " 'UnboundLocalError',\n",
       " 'UnicodeDecodeError',\n",
       " 'UnicodeEncodeError',\n",
       " 'UnicodeError',\n",
       " 'UnicodeTranslateError',\n",
       " 'UnicodeWarning',\n",
       " 'UserWarning',\n",
       " 'ValueError',\n",
       " 'Warning',\n",
       " 'WindowsError',\n",
       " 'ZeroDivisionError',\n",
       " '__IPYTHON__',\n",
       " '__build_class__',\n",
       " '__debug__',\n",
       " '__doc__',\n",
       " '__import__',\n",
       " '__loader__',\n",
       " '__name__',\n",
       " '__package__',\n",
       " '__spec__',\n",
       " 'abs',\n",
       " 'all',\n",
       " 'any',\n",
       " 'ascii',\n",
       " 'bin',\n",
       " 'bool',\n",
       " 'breakpoint',\n",
       " 'bytearray',\n",
       " 'bytes',\n",
       " 'callable',\n",
       " 'chr',\n",
       " 'classmethod',\n",
       " 'compile',\n",
       " 'complex',\n",
       " 'copyright',\n",
       " 'credits',\n",
       " 'delattr',\n",
       " 'dict',\n",
       " 'dir',\n",
       " 'display',\n",
       " 'divmod',\n",
       " 'enumerate',\n",
       " 'eval',\n",
       " 'exec',\n",
       " 'filter',\n",
       " 'float',\n",
       " 'format',\n",
       " 'frozenset',\n",
       " 'get_ipython',\n",
       " 'getattr',\n",
       " 'globals',\n",
       " 'hasattr',\n",
       " 'hash',\n",
       " 'help',\n",
       " 'hex',\n",
       " 'id',\n",
       " 'input',\n",
       " 'int',\n",
       " 'isinstance',\n",
       " 'issubclass',\n",
       " 'iter',\n",
       " 'len',\n",
       " 'license',\n",
       " 'list',\n",
       " 'locals',\n",
       " 'map',\n",
       " 'max',\n",
       " 'memoryview',\n",
       " 'min',\n",
       " 'next',\n",
       " 'object',\n",
       " 'oct',\n",
       " 'open',\n",
       " 'ord',\n",
       " 'pow',\n",
       " 'print',\n",
       " 'property',\n",
       " 'range',\n",
       " 'repr',\n",
       " 'reversed',\n",
       " 'round',\n",
       " 'set',\n",
       " 'setattr',\n",
       " 'slice',\n",
       " 'sorted',\n",
       " 'staticmethod',\n",
       " 'str',\n",
       " 'sum',\n",
       " 'super',\n",
       " 'tuple',\n",
       " 'type',\n",
       " 'vars',\n",
       " 'zip']"
      ]
     },
     "execution_count": 26,
     "metadata": {},
     "output_type": "execute_result"
    }
   ],
   "source": [
    "dir(__builtins__)"
   ]
  },
  {
   "cell_type": "markdown",
   "metadata": {},
   "source": [
    "#### 内置函数help()\n",
    "- 语法\n",
    "```python\n",
    ">>> help() \n",
    ">>> help(*args, **kwds)\n",
    "```\n",
    "\n",
    "\n",
    "- 说明\n",
    "    - 不带参数时，交互式帮助\n",
    "    - 带参数时，查看函数或模块用途的详细说明"
   ]
  },
  {
   "cell_type": "code",
   "execution_count": 29,
   "metadata": {
    "collapsed": true
   },
   "outputs": [
    {
     "name": "stdout",
     "output_type": "stream",
     "text": [
      "\n",
      "Welcome to Python 3.8's help utility!\n",
      "\n",
      "If this is your first time using Python, you should definitely check out\n",
      "the tutorial on the Internet at https://docs.python.org/3.8/tutorial/.\n",
      "\n",
      "Enter the name of any module, keyword, or topic to get help on writing\n",
      "Python programs and using Python modules.  To quit this help utility and\n",
      "return to the interpreter, just type \"quit\".\n",
      "\n",
      "To get a list of available modules, keywords, symbols, or topics, type\n",
      "\"modules\", \"keywords\", \"symbols\", or \"topics\".  Each module also comes\n",
      "with a one-line summary of what it does; to list the modules whose name\n",
      "or summary contain a given string such as \"spam\", type \"modules spam\".\n",
      "\n"
     ]
    },
    {
     "name": "stdin",
     "output_type": "stream",
     "text": [
      "help>  for\n"
     ]
    },
    {
     "name": "stdout",
     "output_type": "stream",
     "text": [
      "The \"for\" statement\n",
      "*******************\n",
      "\n",
      "The \"for\" statement is used to iterate over the elements of a sequence\n",
      "(such as a string, tuple or list) or other iterable object:\n",
      "\n",
      "   for_stmt ::= \"for\" target_list \"in\" expression_list \":\" suite\n",
      "                [\"else\" \":\" suite]\n",
      "\n",
      "The expression list is evaluated once; it should yield an iterable\n",
      "object.  An iterator is created for the result of the\n",
      "\"expression_list\".  The suite is then executed once for each item\n",
      "provided by the iterator, in the order returned by the iterator.  Each\n",
      "item in turn is assigned to the target list using the standard rules\n",
      "for assignments (see Assignment statements), and then the suite is\n",
      "executed.  When the items are exhausted (which is immediately when the\n",
      "sequence is empty or an iterator raises a \"StopIteration\" exception),\n",
      "the suite in the \"else\" clause, if present, is executed, and the loop\n",
      "terminates.\n",
      "\n",
      "A \"break\" statement executed in the first suite terminates the loop\n",
      "without executing the \"else\" clause’s suite.  A \"continue\" statement\n",
      "executed in the first suite skips the rest of the suite and continues\n",
      "with the next item, or with the \"else\" clause if there is no next\n",
      "item.\n",
      "\n",
      "The for-loop makes assignments to the variables in the target list.\n",
      "This overwrites all previous assignments to those variables including\n",
      "those made in the suite of the for-loop:\n",
      "\n",
      "   for i in range(10):\n",
      "       print(i)\n",
      "       i = 5             # this will not affect the for-loop\n",
      "                         # because i will be overwritten with the next\n",
      "                         # index in the range\n",
      "\n",
      "Names in the target list are not deleted when the loop is finished,\n",
      "but if the sequence is empty, they will not have been assigned to at\n",
      "all by the loop.  Hint: the built-in function \"range()\" returns an\n",
      "iterator of integers suitable to emulate the effect of Pascal’s \"for i\n",
      ":= a to b do\"; e.g., \"list(range(3))\" returns the list \"[0, 1, 2]\".\n",
      "\n",
      "Note: There is a subtlety when the sequence is being modified by the\n",
      "  loop (this can only occur for mutable sequences, e.g. lists).  An\n",
      "  internal counter is used to keep track of which item is used next,\n",
      "  and this is incremented on each iteration.  When this counter has\n",
      "  reached the length of the sequence the loop terminates.  This means\n",
      "  that if the suite deletes the current (or a previous) item from the\n",
      "  sequence, the next item will be skipped (since it gets the index of\n",
      "  the current item which has already been treated).  Likewise, if the\n",
      "  suite inserts an item in the sequence before the current item, the\n",
      "  current item will be treated again the next time through the loop.\n",
      "  This can lead to nasty bugs that can be avoided by making a\n",
      "  temporary copy using a slice of the whole sequence, e.g.,\n",
      "\n",
      "     for x in a[:]:\n",
      "         if x < 0: a.remove(x)\n",
      "\n",
      "Related help topics: break, continue, while\n",
      "\n",
      "\n",
      "You are now leaving help and returning to the Python interpreter.\n",
      "If you want to ask for help on a particular object directly from the\n",
      "interpreter, you can type \"help(object)\".  Executing \"help('string')\"\n",
      "has the same effect as typing a particular string at the help> prompt.\n"
     ]
    },
    {
     "name": "stdin",
     "output_type": "stream",
     "text": [
      "help>  \n"
     ]
    }
   ],
   "source": [
    "help()"
   ]
  },
  {
   "cell_type": "code",
   "execution_count": 30,
   "metadata": {
    "collapsed": true
   },
   "outputs": [
    {
     "name": "stdout",
     "output_type": "stream",
     "text": [
      "Help on built-in function print in module builtins:\n",
      "\n",
      "print(...)\n",
      "    print(value, ..., sep=' ', end='\\n', file=sys.stdout, flush=False)\n",
      "    \n",
      "    Prints the values to a stream, or to sys.stdout by default.\n",
      "    Optional keyword arguments:\n",
      "    file:  a file-like object (stream); defaults to the current sys.stdout.\n",
      "    sep:   string inserted between values, default a space.\n",
      "    end:   string appended after the last value, default a newline.\n",
      "    flush: whether to forcibly flush the stream.\n",
      "\n"
     ]
    }
   ],
   "source": [
    "help(print)"
   ]
  },
  {
   "cell_type": "markdown",
   "metadata": {},
   "source": [
    "## <font size=5> <span id=\"1.3\"> 1.3 PEP8代码规范</span></font>"
   ]
  },
  {
   "cell_type": "markdown",
   "metadata": {},
   "source": [
    "\n",
    " * 使用4个空格，不要用tabs\n",
    " * 不要混合tab和空格\n",
    " * 最多79个字符一行\n",
    " * 用空行区分不同程序块\n",
    " * 尽可能的注释\n",
    " * 在表达式和语句中多用空格"
   ]
  },
  {
   "cell_type": "code",
   "execution_count": null,
   "metadata": {},
   "outputs": [],
   "source": []
  },
  {
   "cell_type": "markdown",
   "metadata": {},
   "source": [
    "[返回目录](#mulu1)"
   ]
  }
 ],
 "metadata": {
  "kernelspec": {
   "display_name": "Python 3 (ipykernel)",
   "language": "python",
   "name": "python3"
  },
  "language_info": {
   "codemirror_mode": {
    "name": "ipython",
    "version": 3
   },
   "file_extension": ".py",
   "mimetype": "text/x-python",
   "name": "python",
   "nbconvert_exporter": "python",
   "pygments_lexer": "ipython3",
   "version": "3.11.4"
  }
 },
 "nbformat": 4,
 "nbformat_minor": 4
}
