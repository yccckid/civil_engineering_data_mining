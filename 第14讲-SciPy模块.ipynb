{
 "cells": [
  {
   "cell_type": "markdown",
   "metadata": {},
   "source": [
    "<span id=\"mulu\"><font face=\"黑体\" size=6>本章目录</font></span>\n",
    "* [第十四讲 Scipy模块](#9)\n",
    "\n",
    "    * [14.1 引言](#14.1)\n",
    "    * [14.2 文件输入/输出子模块 —— scipy.io](#14.2)\n",
    "    * [14.3 特殊函数子模块 —— scipy.special](#14.3)\n",
    "    * [14.4 线性代数分析子模块 —— [scipy.linalg]](#14.4)\n",
    "    * [14.5 数值积分子模块 —— [scipy.integrate]](#14.5)\n",
    "    * [14.6 Fourier Transforms](#14.6)\n",
    "    * [14.7 统计](#14.7)\n",
    "    * [14.8 优化分析](#14.8)\n",
    "    \n",
    "   \n",
    "    \n"
   ]
  },
  {
   "cell_type": "markdown",
   "metadata": {},
   "source": [
    "# 第14讲 Scipy模块"
   ]
  },
  {
   "cell_type": "markdown",
   "metadata": {},
   "source": [
    "## <font size=5><span id=\"14.1\"> 14.1 引言</span></font>"
   ]
  },
  {
   "cell_type": "markdown",
   "metadata": {},
   "source": [
    "### <font size=4.5><span id=\"14.1.1\"> 14.1.1 Scipy印象</span></font>\n",
    "\n",
    "- `scipy` 包含许多针对科学计算中常规问题的专用工具箱\n",
    "- `scipy` 的子模块针对各种应用，如插值、积分、优化、图像处理、统计分析、特殊函数等"
   ]
  },
  {
   "cell_type": "code",
   "execution_count": 27,
   "metadata": {
    "scrolled": true
   },
   "outputs": [],
   "source": [
    "import numpy as np\n",
    "import matplotlib as mpl\n",
    "import matplotlib.pyplot as plt"
   ]
  },
  {
   "cell_type": "markdown",
   "metadata": {},
   "source": [
    "### <font size=4.5><span id=\"14.1.2\"> 14.1.2 Scipy 要点</span></font>\n",
    "\n",
    "- 高效率\n",
    "\n",
    "    - 它是 Python 环境下，科学计算的核心程序包\n",
    "    - 依托 Numpy 数组的支撑，能与之共同高效工作\n",
    "    \n",
    "\n",
    "- 同类的著名标准科学计算库\n",
    "\n",
    "    - GSL (GNU Scientific Library for C and C++)\n",
    "    - Matlab 工具箱\n",
    "    \n",
    "\n",
    "- 代码可靠性\n",
    "\n",
    "    - 经过严格测试与优化\n",
    "    - 计算结果可靠"
   ]
  },
  {
   "cell_type": "markdown",
   "metadata": {},
   "source": [
    "### <font size=4.5><span id=\"14.1.3\"> 14.1.3 Scipy 的子模块构成</span></font>\n",
    "\n",
    "Scipy 是由针对特定任务的子模块构成的，子模块名称及其功能如下表所示\n",
    "\n",
    "<table border=\"1\" class=\"docutils\">\n",
    "<colgroup>\n",
    "<col width=\"32%\">\n",
    "<col width=\"68%\">\n",
    "</colgroup>\n",
    "<tbody valign=\"top\">\n",
    "<tr class=\"row-odd\"><td><a class=\"reference external\" href=\"http://docs.scipy.org/doc/scipy/reference/cluster.html#module-scipy.cluster\" title=\"(in SciPy v0.19.0)\"><tt class=\"xref py py-mod docutils literal\"><span class=\"pre\">scipy.cluster</span></tt></a></td>\n",
    "<td>聚类分析子模块：向量化计算/K平均算法</td>\n",
    "</tr>\n",
    "<tr class=\"row-even\"><td><a class=\"reference external\" href=\"http://docs.scipy.org/doc/scipy/reference/constants.html#module-scipy.constants\" title=\"(in SciPy v0.19.0)\"><tt class=\"xref py py-mod docutils literal\"><span class=\"pre\">scipy.constants</span></tt></a></td>\n",
    "<td>物理和数学常量子模块</td>\n",
    "</tr>\n",
    "<tr class=\"row-odd\"><td><a class=\"reference external\" href=\"http://docs.scipy.org/doc/scipy/reference/fftpack.html#module-scipy.fftpack\" title=\"(in SciPy v0.19.0)\"><tt class=\"xref py py-mod docutils literal\"><span class=\"pre\">scipy.fftpack</span></tt></a></td>\n",
    "<td>快速傅里叶变换子模块</td>\n",
    "</tr>\n",
    "<tr class=\"row-even\"><td><a class=\"reference external\" href=\"http://docs.scipy.org/doc/scipy/reference/integrate.html#module-scipy.integrate\" title=\"(in SciPy v0.19.0)\"><tt class=\"xref py py-mod docutils literal\"><span class=\"pre\">scipy.integrate</span></tt></a></td>\n",
    "<td>积分求解子模块</td>\n",
    "</tr>\n",
    "<tr class=\"row-odd\"><td><a class=\"reference external\" href=\"http://docs.scipy.org/doc/scipy/reference/interpolate.html#module-scipy.interpolate\" title=\"(in SciPy v0.19.0)\"><tt class=\"xref py py-mod docutils literal\"><span class=\"pre\">scipy.interpolate</span></tt></a></td>\n",
    "<td>插值分析子模块</td>\n",
    "</tr>\n",
    "<tr class=\"row-even\"><td><a class=\"reference external\" href=\"http://docs.scipy.org/doc/scipy/reference/io.html#module-scipy.io\" title=\"(in SciPy v0.19.0)\"><tt class=\"xref py py-mod docutils literal\"><span class=\"pre\">scipy.io</span></tt></a></td>\n",
    "<td>数据 IO 子模块</td>\n",
    "</tr>\n",
    "<tr class=\"row-odd\"><td><a class=\"reference external\" href=\"http://docs.scipy.org/doc/scipy/reference/linalg.html#module-scipy.linalg\" title=\"(in SciPy v0.19.0)\"><tt class=\"xref py py-mod docutils literal\"><span class=\"pre\">scipy.linalg</span></tt></a></td>\n",
    "<td>线性代数分析子模块</td>\n",
    "</tr>\n",
    "<tr class=\"row-even\"><td><a class=\"reference external\" href=\"http://docs.scipy.org/doc/scipy/reference/ndimage.html#module-scipy.ndimage\" title=\"(in SciPy v0.19.0)\"><tt class=\"xref py py-mod docutils literal\"><span class=\"pre\">scipy.ndimage</span></tt></a></td>\n",
    "<td>图像处理子模块</td>\n",
    "</tr>\n",
    "<tr class=\"row-odd\"><td><a class=\"reference external\" href=\"http://docs.scipy.org/doc/scipy/reference/odr.html#module-scipy.odr\" title=\"(in SciPy v0.19.0)\"><tt class=\"xref py py-mod docutils literal\"><span class=\"pre\">scipy.odr</span></tt></a></td>\n",
    "<td>正交距离回归分析子模块</td>\n",
    "</tr>\n",
    "<tr class=\"row-even\"><td><a class=\"reference external\" href=\"http://docs.scipy.org/doc/scipy/reference/optimize.html#module-scipy.optimize\" title=\"(in SciPy v0.19.0)\"><tt class=\"xref py py-mod docutils literal\"><span class=\"pre\">scipy.optimize</span></tt></a></td>\n",
    "<td>优化子模块</td>\n",
    "</tr>\n",
    "<tr class=\"row-odd\"><td><a class=\"reference external\" href=\"http://docs.scipy.org/doc/scipy/reference/signal.html#module-scipy.signal\" title=\"(in SciPy v0.19.0)\"><tt class=\"xref py py-mod docutils literal\"><span class=\"pre\">scipy.signal</span></tt></a></td>\n",
    "<td>信号处理子模块</td>\n",
    "</tr>\n",
    "<tr class=\"row-even\"><td><a class=\"reference external\" href=\"http://docs.scipy.org/doc/scipy/reference/sparse.html#module-scipy.sparse\" title=\"(in SciPy v0.19.0)\"><tt class=\"xref py py-mod docutils literal\"><span class=\"pre\">scipy.sparse</span></tt></a></td>\n",
    "<td>稀疏矩阵分析子模块</td>\n",
    "</tr>\n",
    "<tr class=\"row-odd\"><td><a class=\"reference external\" href=\"http://docs.scipy.org/doc/scipy/reference/spatial.html#module-scipy.spatial\" title=\"(in SciPy v0.19.0)\"><tt class=\"xref py py-mod docutils literal\"><span class=\"pre\">scipy.spatial</span></tt></a></td>\n",
    "<td>空间数据结构和算法子模块</td>\n",
    "</tr>\n",
    "<tr class=\"row-even\"><td><a class=\"reference external\" href=\"http://docs.scipy.org/doc/scipy/reference/special.html#module-scipy.special\" title=\"(in SciPy v0.19.0)\"><tt class=\"xref py py-mod docutils literal\"><span class=\"pre\">scipy.special</span></tt></a></td>\n",
    "<td>特殊函数子模块</td>\n",
    "</tr>\n",
    "<tr class=\"row-odd\"><td><a class=\"reference external\" href=\"http://docs.scipy.org/doc/scipy/reference/stats.html#module-scipy.stats\" title=\"(in SciPy v0.19.0)\"><tt class=\"xref py py-mod docutils literal\"><span class=\"pre\">scipy.stats</span></tt></a></td>\n",
    "<td>统计分析子模块</td>\n",
    "</tr>\n",
    "</tbody>\n",
    "</table>"
   ]
  },
  {
   "cell_type": "markdown",
   "metadata": {},
   "source": [
    "### 14.1.4 依赖关系\n",
    "\n",
    "- 所有子模块均依赖于 [numpy](http://docs.scipy.org/doc/numpy/reference/index.html#numpy)\n",
    "- 子模块之间彼此独立"
   ]
  },
  {
   "cell_type": "markdown",
   "metadata": {},
   "source": [
    "### 14.1.5 导入子模块的方式\n",
    "\n",
    "```python\n",
    "import scipy.sub_module as short_name\n",
    "```\n",
    "\n",
    "- 例如"
   ]
  },
  {
   "cell_type": "code",
   "execution_count": 29,
   "metadata": {
    "scrolled": true
   },
   "outputs": [],
   "source": [
    "from scipy import stats  # 本行代码 导入统计分析子模块，导入其它的子模块类似"
   ]
  },
  {
   "cell_type": "code",
   "execution_count": 30,
   "metadata": {
    "scrolled": true
   },
   "outputs": [],
   "source": [
    "from scipy import linalg, optimize # 导入线性代数、优化子模块"
   ]
  },
  {
   "cell_type": "markdown",
   "metadata": {},
   "source": [
    "### 14.1.6 函数说明\n",
    "\n",
    "- 由于历史方面的原因，在 `scipy` 主命名空间中的绝大多数函数，其实就是 numpy 函数（试试 `scipy.cos`，其实是 `np.cos`) \n",
    "- 因此，通常可以省略导入命令 `import scipy`"
   ]
  },
  {
   "cell_type": "code",
   "execution_count": 31,
   "metadata": {},
   "outputs": [
    {
     "data": {
      "text/plain": [
       "0.0"
      ]
     },
     "execution_count": 31,
     "metadata": {},
     "output_type": "execute_result"
    }
   ],
   "source": [
    "import scipy\n",
    "np.cos(np.pi)+1.0"
   ]
  },
  {
   "cell_type": "code",
   "execution_count": 32,
   "metadata": {},
   "outputs": [
    {
     "name": "stderr",
     "output_type": "stream",
     "text": [
      "<ipython-input-32-5e6e5c104ad2>:1: DeprecationWarning: scipy.cos is deprecated and will be removed in SciPy 2.0.0, use numpy.cos instead\n",
      "  scipy.cos(scipy.pi)+1.0\n"
     ]
    },
    {
     "data": {
      "text/plain": [
       "0.0"
      ]
     },
     "execution_count": 32,
     "metadata": {},
     "output_type": "execute_result"
    }
   ],
   "source": [
    "scipy.cos(scipy.pi)+1.0"
   ]
  },
  {
   "cell_type": "markdown",
   "metadata": {},
   "source": [
    "### 14.1.7 基本函数\n",
    "\n",
    "- 使用 Scipy 某个子模块下的函数语法\n",
    "\n",
    "```python\n",
    ">>> from scipy import some_module\n",
    ">>> some_module.some_function()\n",
    "```"
   ]
  },
  {
   "cell_type": "markdown",
   "metadata": {},
   "source": [
    "### 14.1.8 如何获得帮助\n",
    "\n",
    "- 在线文档\n",
    "- Help 命令\n",
    "- IPython 环境下的 ? 查询功能\n",
    "- **numpy.info 函数**\n",
    "\n",
    "- 例如，查询优化子模块下 fmin 函数"
   ]
  },
  {
   "cell_type": "code",
   "execution_count": 33,
   "metadata": {
    "collapsed": true
   },
   "outputs": [
    {
     "name": "stdout",
     "output_type": "stream",
     "text": [
      " fmin(func, x0, args=(), xtol=0.0001, ftol=0.0001, maxiter=None, maxfun=None,\n",
      "      full_output=0, disp=1, retall=0, callback=None, initial_simplex=None)\n",
      "\n",
      "Minimize a function using the downhill simplex algorithm.\n",
      "\n",
      "This algorithm only uses function values, not derivatives or second\n",
      "derivatives.\n",
      "\n",
      "Parameters\n",
      "----------\n",
      "func : callable func(x,*args)\n",
      "    The objective function to be minimized.\n",
      "x0 : ndarray\n",
      "    Initial guess.\n",
      "args : tuple, optional\n",
      "    Extra arguments passed to func, i.e., ``f(x,*args)``.\n",
      "xtol : float, optional\n",
      "    Absolute error in xopt between iterations that is acceptable for\n",
      "    convergence.\n",
      "ftol : number, optional\n",
      "    Absolute error in func(xopt) between iterations that is acceptable for\n",
      "    convergence.\n",
      "maxiter : int, optional\n",
      "    Maximum number of iterations to perform.\n",
      "maxfun : number, optional\n",
      "    Maximum number of function evaluations to make.\n",
      "full_output : bool, optional\n",
      "    Set to True if fopt and warnflag outputs are desired.\n",
      "disp : bool, optional\n",
      "    Set to True to print convergence messages.\n",
      "retall : bool, optional\n",
      "    Set to True to return list of solutions at each iteration.\n",
      "callback : callable, optional\n",
      "    Called after each iteration, as callback(xk), where xk is the\n",
      "    current parameter vector.\n",
      "initial_simplex : array_like of shape (N + 1, N), optional\n",
      "    Initial simplex. If given, overrides `x0`.\n",
      "    ``initial_simplex[j,:]`` should contain the coordinates of\n",
      "    the jth vertex of the ``N+1`` vertices in the simplex, where\n",
      "    ``N`` is the dimension.\n",
      "\n",
      "Returns\n",
      "-------\n",
      "xopt : ndarray\n",
      "    Parameter that minimizes function.\n",
      "fopt : float\n",
      "    Value of function at minimum: ``fopt = func(xopt)``.\n",
      "iter : int\n",
      "    Number of iterations performed.\n",
      "funcalls : int\n",
      "    Number of function calls made.\n",
      "warnflag : int\n",
      "    1 : Maximum number of function evaluations made.\n",
      "    2 : Maximum number of iterations reached.\n",
      "allvecs : list\n",
      "    Solution at each iteration.\n",
      "\n",
      "See also\n",
      "--------\n",
      "minimize: Interface to minimization algorithms for multivariate\n",
      "    functions. See the 'Nelder-Mead' `method` in particular.\n",
      "\n",
      "Notes\n",
      "-----\n",
      "Uses a Nelder-Mead simplex algorithm to find the minimum of function of\n",
      "one or more variables.\n",
      "\n",
      "This algorithm has a long history of successful use in applications.\n",
      "But it will usually be slower than an algorithm that uses first or\n",
      "second derivative information. In practice, it can have poor\n",
      "performance in high-dimensional problems and is not robust to\n",
      "minimizing complicated functions. Additionally, there currently is no\n",
      "complete theory describing when the algorithm will successfully\n",
      "converge to the minimum, or how fast it will if it does. Both the ftol and\n",
      "xtol criteria must be met for convergence.\n",
      "\n",
      "Examples\n",
      "--------\n",
      ">>> def f(x):\n",
      "...     return x**2\n",
      "\n",
      ">>> from scipy import optimize\n",
      "\n",
      ">>> minimum = optimize.fmin(f, 1)\n",
      "Optimization terminated successfully.\n",
      "         Current function value: 0.000000\n",
      "         Iterations: 17\n",
      "         Function evaluations: 34\n",
      ">>> minimum[0]\n",
      "-8.8817841970012523e-16\n",
      "\n",
      "References\n",
      "----------\n",
      ".. [1] Nelder, J.A. and Mead, R. (1965), \"A simplex method for function\n",
      "       minimization\", The Computer Journal, 7, pp. 308-313\n",
      "\n",
      ".. [2] Wright, M.H. (1996), \"Direct Search Methods: Once Scorned, Now\n",
      "       Respectable\", in Numerical Analysis 1995, Proceedings of the\n",
      "       1995 Dundee Biennial Conference in Numerical Analysis, D.F.\n",
      "       Griffiths and G.A. Watson (Eds.), Addison Wesley Longman,\n",
      "       Harlow, UK, pp. 191-208.\n"
     ]
    }
   ],
   "source": [
    "np.info(optimize.fmin)  #获取帮助"
   ]
  },
  {
   "cell_type": "markdown",
   "metadata": {},
   "source": [
    "[返回目录](#mulu)"
   ]
  },
  {
   "cell_type": "markdown",
   "metadata": {},
   "source": [
    "## <font size=5><span id=\"14.2\"> 14.2 文件输入/输出子模块 —— scipy.io</span></font>"
   ]
  },
  {
   "cell_type": "markdown",
   "metadata": {},
   "source": [
    "### 14.2.1 Matlab 文件：载入和保存\n",
    "\n",
    "- 与 Matlab 进行数据交换的方式\n",
    "- ones 命令使用上的细微差别\n",
    "\n",
    "    - Matlab 用法\n",
    "    ```matlab\n",
    "    a = ones(3)\n",
    "    ```\n",
    "    - Numpy 用法\n",
    "    ```python\n",
    "    a = ones((3, 3))\n",
    "    ```"
   ]
  },
  {
   "cell_type": "code",
   "execution_count": 3,
   "metadata": {
    "scrolled": true
   },
   "outputs": [],
   "source": [
    "from scipy import io as spio\n",
    "import numpy as np\n",
    "\n",
    "a = np.ones((3, 3))                                      # 3 $\\times 3$ 矩阵\n",
    "spio.savemat('file.mat', {'a': a})                       # 函数 savemat 以字典方式保存数据到文件 file.mat"
   ]
  },
  {
   "cell_type": "code",
   "execution_count": null,
   "metadata": {},
   "outputs": [],
   "source": [
    "spio.savemat?"
   ]
  },
  {
   "cell_type": "code",
   "execution_count": 7,
   "metadata": {
    "scrolled": true
   },
   "outputs": [
    {
     "data": {
      "text/plain": [
       "array([[1., 1., 1.],\n",
       "       [1., 1., 1.],\n",
       "       [1., 1., 1.]])"
      ]
     },
     "execution_count": 7,
     "metadata": {},
     "output_type": "execute_result"
    }
   ],
   "source": [
    "data = spio.loadmat('file.mat', struct_as_record=True)   # 加载数据文件 file.mat\n",
    "data['a']   "
   ]
  },
  {
   "cell_type": "markdown",
   "metadata": {},
   "source": [
    "### 14.2.2 图象文件：读图象"
   ]
  },
  {
   "cell_type": "code",
   "execution_count": 9,
   "metadata": {
    "scrolled": true
   },
   "outputs": [
    {
     "data": {
      "image/jpeg": "[encoded data removed]",
      "text/plain": [
       "<IPython.core.display.Image object>"
      ]
     },
     "execution_count": 9,
     "metadata": {},
     "output_type": "execute_result"
    }
   ],
   "source": [
    "from IPython.display import Image #看图像什么样子\n",
    "Image(r'images\\chapter14\\face.jpg')"
   ]
  },
  {
   "cell_type": "code",
   "execution_count": 12,
   "metadata": {},
   "outputs": [
    {
     "data": {
      "text/plain": [
       "array([[[224, 127, 110],\n",
       "        [219, 122, 105],\n",
       "        [215, 120, 102],\n",
       "        ...,\n",
       "        [239, 131, 118],\n",
       "        [246, 139, 123],\n",
       "        [232, 122, 105]],\n",
       "\n",
       "       [[210, 113,  96],\n",
       "        [211, 114,  97],\n",
       "        [213, 118, 100],\n",
       "        ...,\n",
       "        [244, 138, 125],\n",
       "        [255, 149, 135],\n",
       "        [244, 138, 124]],\n",
       "\n",
       "       [[218, 119, 100],\n",
       "        [218, 119, 100],\n",
       "        [216, 119, 100],\n",
       "        ...,\n",
       "        [215, 114, 106],\n",
       "        [218, 117, 107],\n",
       "        [206, 105,  95]],\n",
       "\n",
       "       ...,\n",
       "\n",
       "       [[ 84,  17,  52],\n",
       "        [ 84,  19,  51],\n",
       "        [ 83,  20,  49],\n",
       "        ...,\n",
       "        [ 86,  14,  38],\n",
       "        [102,  30,  54],\n",
       "        [ 98,  26,  50]],\n",
       "\n",
       "       [[ 83,  16,  51],\n",
       "        [ 86,  21,  53],\n",
       "        [ 84,  21,  50],\n",
       "        ...,\n",
       "        [ 95,  23,  47],\n",
       "        [111,  39,  63],\n",
       "        [108,  36,  60]],\n",
       "\n",
       "       [[ 89,  22,  57],\n",
       "        [ 94,  29,  61],\n",
       "        [ 90,  27,  56],\n",
       "        ...,\n",
       "        [100,  28,  52],\n",
       "        [119,  47,  71],\n",
       "        [119,  47,  71]]], dtype=uint8)"
      ]
     },
     "execution_count": 12,
     "metadata": {},
     "output_type": "execute_result"
    }
   ],
   "source": [
    "# Matplotlib 子模块下的用法\n",
    "import matplotlib.pyplot as plt\n",
    "plt.imread(r'images\\chapter14\\face.jpg')"
   ]
  },
  {
   "cell_type": "markdown",
   "metadata": {},
   "source": [
    "### 14.2.3 其它参考内容\n",
    "\n",
    "-  加载文本文件命令\n",
    "    - [numpy.loadtxt()](http://docs.scipy.org/doc/numpy/reference/generated/numpy.loadtxt.html#numpy.loadtxt)\n",
    "    - [numpy.savetxt()](http://docs.scipy.org/doc/numpy/reference/generated/numpy.savetxt.html#numpy.savetxt)\n",
    "    \n",
    "\n",
    "- 智能加载文本/csv文件\n",
    "    - [numpy.genfromtxt()](http://docs.scipy.org/doc/numpy/reference/generated/numpy.genfromtxt.html#numpy.genfromtxt)\n",
    "    - numpy.recfromcsv()\n",
    "    \n",
    "    \n",
    "- 加载二进制文件 —— 快速有效，但仅适用于 numpy\n",
    "    - [numpy.save()](http://docs.scipy.org/doc/numpy/reference/generated/numpy.save.html#numpy.save)\n",
    "    - [numpy.load()](http://docs.scipy.org/doc/numpy/reference/generated/numpy.load.html#numpy.load)"
   ]
  },
  {
   "cell_type": "markdown",
   "metadata": {},
   "source": [
    "[返回目录](#mulu)"
   ]
  },
  {
   "cell_type": "markdown",
   "metadata": {},
   "source": [
    "## <font size=5><span id=\"14.3\"> 14.3 特殊函数子模块 —— [scipy.special](http://docs.scipy.org/doc/scipy/reference/special.html#scipy.special)</span></font>"
   ]
  },
  {
   "cell_type": "markdown",
   "metadata": {},
   "source": [
    "[scipy.special](http://docs.scipy.org/doc/scipy/reference/special.html#scipy.special) \n",
    "看链接说明"
   ]
  },
  {
   "cell_type": "markdown",
   "metadata": {},
   "source": [
    "### <font size=4.5><span id=\"14.3.1\"> 14.3.1 简要说明</span></font>"
   ]
  },
  {
   "cell_type": "markdown",
   "metadata": {},
   "source": [
    "\n",
    "- 所有特殊函数都是超越函数\n",
    "- [scipy.special](http://docs.scipy.org/doc/scipy/reference/special.html#scipy.special) 模块的文档字符串对特殊函数的介绍很详细\n",
    "- 有关特殊函数的专著（略）"
   ]
  },
  {
   "cell_type": "markdown",
   "metadata": {},
   "source": [
    "### <font size=4.5><span id=\"14.3.2\"> 14.3.2 常用的特殊函数</span></font>"
   ]
  },
  {
   "cell_type": "markdown",
   "metadata": {},
   "source": [
    "- 贝塞尔函数：       `scipy.special.jn()`  (第n个整型顺序的贝塞尔函数)\n",
    "- 椭圆函数：        `scipy.special.ellipj()`  (Jacobian椭圆函数, ...)\n",
    "- $\\Gamma$ 函数：     `scipy.special.gamma()`\n",
    "- $\\Gamma$ 对数函数：  `scipy.special.gammaln()` \n",
    "- Erf 函数：        `scipy.special.erf()`  高斯误差函数"
   ]
  },
  {
   "cell_type": "markdown",
   "metadata": {},
   "source": [
    "### <font size=4.5><span id=\"14.3.3\"> 14.3.3 贝塞尔函数（实数阶 $\\alpha$）</span></font>"
   ]
  },
  {
   "cell_type": "markdown",
   "metadata": {},
   "source": [
    "-  概念\n",
    "<a href=\"https://baike.baidu.com/item/%E8%B4%9D%E5%A1%9E%E5%B0%94%E5%87%BD%E6%95%B0\" title=\"百度百科\">百度百科</a>  \n",
    "贝塞尔函数（数学上的一类特殊函数的总称）是如下贝塞尔方程\n",
    "\n",
    "$$x^2\\dfrac{d^2 y}{d x^2} + x \\dfrac{d y}{d x} + \\left(x^2 - \\alpha^2\\right)y = 0$$\n",
    "\n",
    "的解函数，其中\n",
    "\n",
    "- 参数 $\\alpha$ 称为相应贝塞尔函数的阶数\n",
    "- 解函数称为 $\\alpha$ 阶贝塞尔函数，记为 $J_{\\alpha}(x)$\n",
    "\n",
    "- 特性\n",
    "\n",
    "    - 贝塞尔方程的解无法用**初等函数的有限形式**来表示\n",
    "    - 贝塞尔函数在波动问题以及各种涉及有势场的问题中占有非常重要的地位\n",
    "\n",
    "\n",
    "- 广泛应用\n",
    "\n",
    "    - 在圆柱形波导中的电磁波传播问题\n",
    "    - 圆柱体中的热传导问题\n",
    "    - 圆形（或环形）薄膜的振动模态分析问题\n",
    "\n",
    "\n",
    "- 分类\n",
    "\n",
    "    - 第一类贝塞尔函数\n",
    "    - 第二类贝塞尔函数（诺依曼函数）\n",
    "    - 汉克尔(Hankel)函数\n",
    "    - 黎卡提-贝塞尔函数"
   ]
  },
  {
   "cell_type": "markdown",
   "metadata": {},
   "source": [
    "- 第一类贝塞尔函数\n",
    "\n",
    "$$J_{\\alpha}(x) = \\sum_{m=0}^{\\infty}\\dfrac{(-1)^m}{m!\\Gamma(m+\\alpha+1)}\\left(\\dfrac{x}{2}\\right)^{2m+\\alpha}$$"
   ]
  },
  {
   "cell_type": "markdown",
   "metadata": {},
   "source": [
    "<img src=\"images/chapter14/bessel.png\">"
   ]
  },
  {
   "cell_type": "markdown",
   "metadata": {},
   "source": [
    "- 第二类贝塞尔函数（诺依曼函数）\n",
    "\n",
    "$$Y_{\\alpha}(x) = \\dfrac{J_{\\alpha}(x)\\cos(\\alpha\\pi)-J_{-\\alpha}(x)}{\\sin(\\alpha\\pi)}$$\n",
    "\n",
    "```第二类贝塞尔函数``` 比第一类更为常用，它们是贝塞尔方程的另一类解，又被称为诺依曼函数。"
   ]
  },
  {
   "cell_type": "markdown",
   "metadata": {},
   "source": [
    "<img src=\"images/chapter14/bessel2.png\">"
   ]
  },
  {
   "cell_type": "markdown",
   "metadata": {},
   "source": [
    "### <font size=4.5><span id=\"14.3.4\"> 14.3.4 Hankel(汉克尔)函数</span></font>"
   ]
  },
  {
   "cell_type": "markdown",
   "metadata": {},
   "source": [
    "\n",
    "\n",
    "贝塞尔方程的另外一对重要的线性无关解称为```赫尔曼·汉克尔，汉克尔函数```，分别定义为\n",
    "\n",
    "$$H_{\\alpha}^{(1)}(x)=\\dfrac{J_{-\\alpha}(x)-e^{-\\alpha\\pi i}J_{\\alpha}(x)}{i\\sin(\\alpha\\pi)}$$\n",
    "$$H_{\\alpha}^{(2)}(x)=\\dfrac{J_{-\\alpha}(x)-e^{\\alpha\\pi i}J_{\\alpha}(x)}{-i\\sin(\\alpha\\pi)}$$"
   ]
  },
  {
   "cell_type": "markdown",
   "metadata": {},
   "source": [
    "#### 黎卡提-贝塞尔函数 (Riccati-Bessel functions)\n",
    "\n",
    "黎卡提-贝塞尔函数（Riccati-Bessel functions）和球贝塞尔函数比较类似。\n",
    "\n",
    "$$S_n(x)=xj_n(x)=\\sqrt{\\pi x/2}\\,\\,J_{n+1/2}(x)$$\n",
    "\n",
    "$$C_n(x)=-xy_n(x)=-\\sqrt{\\pi x/2}\\,\\,Y_{n+1/2}(x)$$\n",
    "\n",
    "$$\\zeta_n(x)=xh_n^{(2)}(x)=\\sqrt{\\pi x/2}\\,\\,H_{n+1/2}^{(2)}(x)=S_n(x)+iC_n(x)$$\n",
    "\n",
    "该函数满足方程\n",
    "\n",
    "$$x^2\\dfrac{d^2y}{dx^2}+\\left[x^2-n(n+1)\\right]y=0$$"
   ]
  },
  {
   "cell_type": "markdown",
   "metadata": {},
   "source": [
    "#### 一个实例\n",
    "\n",
    "- 紧绷的圆型薄皮鼓面在中心受到敲击后的二阶振动振型，其振幅沿半径方向上的分布可用贝塞尔函数表示\n",
    "- 实际生活中受敲击的鼓面的振动是各阶类似振动形态的叠加"
   ]
  },
  {
   "cell_type": "code",
   "execution_count": null,
   "metadata": {
    "scrolled": true
   },
   "outputs": [],
   "source": [
    "from scipy import special\n",
    "\n",
    "# 函数\n",
    "def drumhead_height(n, k, distance, angle, t):\n",
    "    kth_zero = special.jn_zeros(n, k)[-1]   #Compute zeros of integer-order Bessel function\n",
    "    return np.cos(t) * np.cos(n*angle) * special.jn(n, distance*kth_zero)\n",
    "\n",
    "theta = np.r_[0:2*np.pi:50j]       # 极角\n",
    "radius = np.r_[0:1:50j]            # 半径\n",
    "\n",
    "# 三维坐标\n",
    "x = np.array([r * np.cos(theta) for r in radius])\n",
    "y = np.array([r * np.sin(theta) for r in radius])\n",
    "z = np.array([drumhead_height(1, 1, r, theta, 0.5) for r in radius])"
   ]
  },
  {
   "cell_type": "code",
   "execution_count": null,
   "metadata": {},
   "outputs": [],
   "source": [
    "theta  #radius"
   ]
  },
  {
   "cell_type": "code",
   "execution_count": null,
   "metadata": {
    "scrolled": true
   },
   "outputs": [],
   "source": [
    "# 画图\n",
    "\n",
    "from mpl_toolkits.mplot3d import Axes3D\n",
    "from matplotlib import cm\n",
    "\n",
    "fig = plt.figure()\n",
    "ax = Axes3D(fig)\n",
    "\n",
    "ax.plot_surface(x, y, z, rstride=1, cstride=1, cmap=cm.jet)\n",
    "\n",
    "ax.set_xlabel('X')\n",
    "ax.set_ylabel('Y')\n",
    "ax.set_zlabel('Z')\n",
    "\n",
    "plt.show()"
   ]
  },
  {
   "cell_type": "markdown",
   "metadata": {},
   "source": [
    "[返回目录](#mulu)"
   ]
  },
  {
   "cell_type": "markdown",
   "metadata": {},
   "source": [
    "## <font size=5><span id=\"14.4\"> 14.4 线性代数分析子模块 —— [scipy.linalg]</span></font>"
   ]
  },
  {
   "cell_type": "markdown",
   "metadata": {},
   "source": [
    "-  (http://docs.scipy.org/doc/scipy/reference/linalg.html#scipy.linalg)\n",
    "\n",
    "- 标准的线性代数分析功能实现 [scipy.linalg](http://docs.scipy.org/doc/scipy/reference/linalg.html#scipy.linalg)\n",
    "- 底层算法库\n",
    "    - [BLAS](http://www.netlib.org/blas/index.html)\n",
    "    - [LAPACK](http://www.netlib.org/lapack/index.html)\n",
    "    - [ATLAS](http://www.netlib.org/atlas/index.html)\n",
    "- linear algebra"
   ]
  },
  {
   "cell_type": "markdown",
   "metadata": {},
   "source": [
    "### <font size=4.5><span id=\"14.4.1\"> 14.4.1 scipy.linalg 比较 numpy.linalg</span></font>"
   ]
  },
  {
   "cell_type": "markdown",
   "metadata": {},
   "source": [
    "- scipy.linalg 是 numpy.linalg 的超集\n",
    "\n",
    "    - scipy.linalg 包含了全部的 numpy.linalg 函数\n",
    "    - scipy.linalg 还包含一些 numpy.linalg 没有的先进函数\n",
    "    \n",
    "\n",
    "- scipy.linalg 比 numpy.linalg 更快\n",
    "\n",
    "    - scipy.linalg 总是获得 BLAS 和 LAPACK 的编译支持\n",
    "    - numpy.linalg 可选获得 BLAS 和 LAPACK 的编译支持"
   ]
  },
  {
   "cell_type": "markdown",
   "metadata": {},
   "source": [
    "- 建议\n",
    "\n",
    "  - 尽量选择 scipy.linalg，而不是 numpy.linalg"
   ]
  },
  {
   "cell_type": "markdown",
   "metadata": {},
   "source": [
    "### <font size=4.5><span id=\"14.4.2\"> 14.4.2 矩阵 numpy.matrix 与 2D 数组 numpy.ndarray 相比</span></font>"
   ]
  },
  {
   "cell_type": "markdown",
   "metadata": {},
   "source": [
    "- 在矩阵操作方面，numpy.matrix 相比 numpy.ndarray 有更多可靠的接口\n",
    "- 矩阵运算符方面，numpy.matrix 支持\n",
    "    - 乘法 *\n",
    "    - 求逆 I\n",
    "    - 转置 T"
   ]
  },
  {
   "cell_type": "code",
   "execution_count": null,
   "metadata": {
    "scrolled": true
   },
   "outputs": [],
   "source": [
    "A = np.mat('[1 2;3 4]')\n",
    "A"
   ]
  },
  {
   "cell_type": "code",
   "execution_count": null,
   "metadata": {
    "scrolled": true
   },
   "outputs": [],
   "source": [
    "A.I"
   ]
  },
  {
   "cell_type": "code",
   "execution_count": null,
   "metadata": {},
   "outputs": [],
   "source": [
    "A * A.I"
   ]
  },
  {
   "cell_type": "code",
   "execution_count": null,
   "metadata": {
    "scrolled": true
   },
   "outputs": [],
   "source": [
    "b = np.mat('[5 6]')\n",
    "b"
   ]
  },
  {
   "cell_type": "code",
   "execution_count": null,
   "metadata": {
    "scrolled": true
   },
   "outputs": [],
   "source": [
    "b.T"
   ]
  },
  {
   "cell_type": "code",
   "execution_count": null,
   "metadata": {
    "scrolled": true
   },
   "outputs": [],
   "source": [
    "A.I*b.T"
   ]
  },
  {
   "cell_type": "markdown",
   "metadata": {},
   "source": [
    "- 仍然不鼓励使用 numpy.matrix 类型，主要原因是它和 2D numpy.ndarray 合作不好，容易混淆。"
   ]
  },
  {
   "cell_type": "markdown",
   "metadata": {},
   "source": [
    "### <font size=4.5><span id=\"14.4.3\"> 14.4.3 求逆矩阵</span></font>"
   ]
  },
  {
   "cell_type": "markdown",
   "metadata": {},
   "source": [
    "- [scipy.linalg.inv()](http://docs.scipy.org/doc/scipy/reference/generated/scipy.linalg.inv.html#scipy.linalg.inv) "
   ]
  },
  {
   "cell_type": "markdown",
   "metadata": {},
   "source": [
    "设有 $3\\times 3$ 矩阵\n",
    "\n",
    "$$\n",
    "A=\n",
    "\\left[\n",
    "\\begin{array}{ccc}\n",
    "1 & 3 & 5 \\\\\n",
    "2 & 5 & 1 \\\\\n",
    "2 & 3 & 8\n",
    "\\end{array}\n",
    "\\right]\n",
    "$$\n",
    "\n",
    "其逆矩阵为\n",
    "\n",
    "$$\n",
    "A^{-1}=\\dfrac{1}{25}\n",
    "\\left[\n",
    "\\begin{array}{rrr}\n",
    "-37 & 9 & 22 \\\\\n",
    "14 & 2 & -9 \\\\\n",
    "4 & -3 & 1\n",
    "\\end{array}\n",
    "\\right]\n",
    "=\n",
    "\\left[\n",
    "\\begin{array}{rrr}\n",
    "-1.48 & 0.36 & 0.88 \\\\\n",
    "0.56 & 0.08 & -0.36 \\\\\n",
    "0.16 & -0.12 & 0.04\n",
    "\\end{array}\n",
    "\\right]\n",
    "$$\n",
    "\n",
    "Scipy 子模块求解代码如下"
   ]
  },
  {
   "cell_type": "code",
   "execution_count": 16,
   "metadata": {
    "scrolled": true
   },
   "outputs": [
    {
     "data": {
      "text/plain": [
       "array([[1, 3, 5],\n",
       "       [2, 5, 1],\n",
       "       [2, 3, 8]])"
      ]
     },
     "execution_count": 16,
     "metadata": {},
     "output_type": "execute_result"
    }
   ],
   "source": [
    "import numpy as np\n",
    "from scipy import linalg\n",
    "A = np.array([[1,3,5],[2,5,1],[2,3,8]])\n",
    "A"
   ]
  },
  {
   "cell_type": "code",
   "execution_count": 17,
   "metadata": {
    "scrolled": true
   },
   "outputs": [
    {
     "data": {
      "text/plain": [
       "array([[-1.48,  0.36,  0.88],\n",
       "       [ 0.56,  0.08, -0.36],\n",
       "       [ 0.16, -0.12,  0.04]])"
      ]
     },
     "execution_count": 17,
     "metadata": {},
     "output_type": "execute_result"
    }
   ],
   "source": [
    "linalg.inv(A)"
   ]
  },
  {
   "cell_type": "code",
   "execution_count": 18,
   "metadata": {
    "scrolled": true
   },
   "outputs": [
    {
     "data": {
      "text/plain": [
       "array([[ 1.00000000e+00, -1.11022302e-16, -6.24500451e-17],\n",
       "       [ 3.05311332e-16,  1.00000000e+00,  1.87350135e-16],\n",
       "       [ 2.22044605e-16, -1.11022302e-16,  1.00000000e+00]])"
      ]
     },
     "execution_count": 18,
     "metadata": {},
     "output_type": "execute_result"
    }
   ],
   "source": [
    "A.dot(linalg.inv(A)) # 检查结果   dot()函数是矩阵乘，而*则表示逐个元素相乘"
   ]
  },
  {
   "cell_type": "markdown",
   "metadata": {},
   "source": [
    "#### 再看一个 $2\\times 2$ 矩阵求逆"
   ]
  },
  {
   "cell_type": "code",
   "execution_count": 19,
   "metadata": {
    "run_control": {
     "frozen": false,
     "read_only": false
    },
    "scrolled": true
   },
   "outputs": [
    {
     "data": {
      "text/plain": [
       "array([[1, 2],\n",
       "       [3, 4]])"
      ]
     },
     "execution_count": 19,
     "metadata": {},
     "output_type": "execute_result"
    }
   ],
   "source": [
    "A = np.array([[1, 2],[3, 4]])\n",
    "A"
   ]
  },
  {
   "cell_type": "code",
   "execution_count": 20,
   "metadata": {
    "run_control": {
     "frozen": false,
     "read_only": false
    },
    "scrolled": true
   },
   "outputs": [
    {
     "data": {
      "text/plain": [
       "array([[-2. ,  1. ],\n",
       "       [ 1.5, -0.5]])"
      ]
     },
     "execution_count": 20,
     "metadata": {},
     "output_type": "execute_result"
    }
   ],
   "source": [
    "linalg.inv(A)"
   ]
  },
  {
   "cell_type": "code",
   "execution_count": 21,
   "metadata": {
    "scrolled": true
   },
   "outputs": [
    {
     "data": {
      "text/plain": [
       "array([[1.0000000e+00, 0.0000000e+00],\n",
       "       [8.8817842e-16, 1.0000000e+00]])"
      ]
     },
     "execution_count": 21,
     "metadata": {},
     "output_type": "execute_result"
    }
   ],
   "source": [
    "A.dot(linalg.inv(A))"
   ]
  },
  {
   "cell_type": "markdown",
   "metadata": {},
   "source": [
    "#### np.allclose 函数介绍\n",
    "\n",
    "```np.allclose(a, b, rtol=1e-05, atol=1e-08, equal_nan=False)```\n",
    "\n",
    "- 功能：逐元素比较两个数组，如果每对元素按一定容差相等，则返回真。\n",
    "- 参见：isclose, all, any, equal"
   ]
  },
  {
   "cell_type": "markdown",
   "metadata": {},
   "source": [
    "####  奇异矩阵（行列式为0）求逆\n",
    "\n",
    "- 将抛出 `LinAlgError`"
   ]
  },
  {
   "cell_type": "code",
   "execution_count": null,
   "metadata": {
    "run_control": {
     "frozen": false,
     "read_only": false
    },
    "scrolled": true
   },
   "outputs": [],
   "source": [
    "arr = np.array([[3, 2],\n",
    "                 [6, 4]])\n",
    "linalg.inv(arr)"
   ]
  },
  {
   "cell_type": "markdown",
   "metadata": {},
   "source": [
    "### <font size=4.5><span id=\"14.4.4\"> 14.4.4 矩阵矢量乘积</span></font>"
   ]
  },
  {
   "cell_type": "code",
   "execution_count": null,
   "metadata": {
    "scrolled": true
   },
   "outputs": [],
   "source": [
    "b = np.array([[5,6]]) # 2 维数组\n",
    "b"
   ]
  },
  {
   "cell_type": "code",
   "execution_count": null,
   "metadata": {
    "scrolled": true
   },
   "outputs": [],
   "source": [
    "b.T # 转置"
   ]
  },
  {
   "cell_type": "code",
   "execution_count": null,
   "metadata": {
    "scrolled": true
   },
   "outputs": [],
   "source": [
    "A*b # 不是矩阵乘矢量，而是广播"
   ]
  },
  {
   "cell_type": "code",
   "execution_count": null,
   "metadata": {
    "scrolled": true
   },
   "outputs": [],
   "source": [
    "A.dot(b.T) # 矩阵乘矢量"
   ]
  },
  {
   "cell_type": "markdown",
   "metadata": {},
   "source": [
    "### <font size=4.5><span id=\"14.4.5\"> 14.4.5 解线性代数方程组</span></font>"
   ]
  },
  {
   "cell_type": "markdown",
   "metadata": {},
   "source": [
    "考虑如下方程组\n",
    "\n",
    "$$\n",
    "\\left\\{\n",
    "\\begin{array}{rcl}\n",
    "x+3y+5z & = & 10\\\\\n",
    "2x+5y+z & = & 8 \\\\\n",
    "2x+3y+8z & = & 3\n",
    "\\end{array}\n",
    "\\right.\n",
    "$$\n",
    "\n",
    "可求得解为\n",
    "\n",
    "$$\n",
    "\\left[\n",
    "\\begin{array}{c}\n",
    "x\\\\\n",
    "y\\\\\n",
    "z\n",
    "\\end{array}\n",
    "\\right]\n",
    "=\n",
    "\\dfrac{1}{25}\\left[\n",
    "\\begin{array}{r}\n",
    "-232\\\\\n",
    "129\\\\\n",
    "19\n",
    "\\end{array}\n",
    "\\right]\n",
    "=\n",
    "\\left[\n",
    "\\begin{array}{r}\n",
    "-9.28\\\\\n",
    "5.16\\\\\n",
    "0.76\n",
    "\\end{array}\n",
    "\\right]\n",
    "$$\n"
   ]
  },
  {
   "cell_type": "code",
   "execution_count": null,
   "metadata": {
    "scrolled": true
   },
   "outputs": [],
   "source": [
    "A = np.array([[1, 3, 5], [2, 5, 1], [2, 3, 8]])\n",
    "A"
   ]
  },
  {
   "cell_type": "code",
   "execution_count": null,
   "metadata": {
    "scrolled": true
   },
   "outputs": [],
   "source": [
    "b = np.array([[10], [8], [3]])\n",
    "b"
   ]
  },
  {
   "cell_type": "code",
   "execution_count": null,
   "metadata": {
    "scrolled": true
   },
   "outputs": [],
   "source": [
    "linalg.inv(A).dot(b) # 慢"
   ]
  },
  {
   "cell_type": "code",
   "execution_count": null,
   "metadata": {
    "scrolled": true
   },
   "outputs": [],
   "source": [
    "A.dot(linalg.inv(A).dot(b)) - b # 检查"
   ]
  },
  {
   "cell_type": "code",
   "execution_count": null,
   "metadata": {
    "scrolled": true
   },
   "outputs": [],
   "source": [
    "np.linalg.solve(A, b) # 快"
   ]
  },
  {
   "cell_type": "code",
   "execution_count": null,
   "metadata": {
    "scrolled": true
   },
   "outputs": [],
   "source": [
    "A.dot(np.linalg.solve(A, b)) - b # 检查"
   ]
  },
  {
   "cell_type": "code",
   "execution_count": null,
   "metadata": {
    "scrolled": true
   },
   "outputs": [],
   "source": [
    "%timeit linalg.inv(A).dot(b)"
   ]
  },
  {
   "cell_type": "code",
   "execution_count": null,
   "metadata": {
    "scrolled": true
   },
   "outputs": [],
   "source": [
    "%timeit np.linalg.solve(A, b)"
   ]
  },
  {
   "cell_type": "markdown",
   "metadata": {},
   "source": [
    "### <font size=4.5><span id=\"14.4.6\"> 14.4.6 计算行列式</span></font>"
   ]
  },
  {
   "cell_type": "markdown",
   "metadata": {},
   "source": [
    "#### 递归求解\n",
    "\n",
    "$$\n",
    "\\left|A\\right|=\\sum_{i,j}{(-1)^{i+j}a_{ij}M_{ij}}\n",
    "$$\n",
    "\n",
    "\n",
    "#### 示例\n",
    "\n",
    "设有 $3\\times 3$ 矩阵\n",
    "\n",
    "$$\n",
    "A=\n",
    "\\left[\n",
    "\\begin{array}{ccc}\n",
    "1 & 3 & 5 \\\\\n",
    "2 & 5 & 1 \\\\\n",
    "2 & 3 & 8\n",
    "\\end{array}\n",
    "\\right]\n",
    "$$\n",
    "\n",
    "其行列式为\n",
    "\n",
    "$$\n",
    "\\left|A\\right|=-25\n",
    "$$\n",
    "\n",
    "求解代码如下"
   ]
  },
  {
   "cell_type": "code",
   "execution_count": 22,
   "metadata": {
    "scrolled": true
   },
   "outputs": [
    {
     "data": {
      "text/plain": [
       "array([[1, 3, 5],\n",
       "       [2, 5, 1],\n",
       "       [2, 3, 8]])"
      ]
     },
     "execution_count": 22,
     "metadata": {},
     "output_type": "execute_result"
    }
   ],
   "source": [
    "A = np.array([[1,3,5],[2,5,1],[2,3,8]])\n",
    "A"
   ]
  },
  {
   "cell_type": "code",
   "execution_count": 23,
   "metadata": {
    "scrolled": true
   },
   "outputs": [
    {
     "data": {
      "text/plain": [
       "-25.000000000000004"
      ]
     },
     "execution_count": 23,
     "metadata": {},
     "output_type": "execute_result"
    }
   ],
   "source": [
    "linalg.det(A)"
   ]
  },
  {
   "cell_type": "markdown",
   "metadata": {},
   "source": [
    "#### 再来一个例子"
   ]
  },
  {
   "cell_type": "code",
   "execution_count": 24,
   "metadata": {
    "scrolled": true
   },
   "outputs": [
    {
     "data": {
      "text/plain": [
       "array([[1, 2],\n",
       "       [3, 4]])"
      ]
     },
     "execution_count": 24,
     "metadata": {},
     "output_type": "execute_result"
    }
   ],
   "source": [
    "A = np.array([[1,2],[3,4]])\n",
    "A"
   ]
  },
  {
   "cell_type": "code",
   "execution_count": 25,
   "metadata": {
    "scrolled": true
   },
   "outputs": [
    {
     "data": {
      "text/plain": [
       "-2.0"
      ]
     },
     "execution_count": 25,
     "metadata": {},
     "output_type": "execute_result"
    }
   ],
   "source": [
    "linalg.det(A)"
   ]
  },
  {
   "cell_type": "markdown",
   "metadata": {},
   "source": [
    "### <font size=4.5><span id=\"14.4.7\"> 14.4.7 计算范数</span></font>"
   ]
  },
  {
   "cell_type": "markdown",
   "metadata": {},
   "source": [
    "Scipy 可计算矩阵和矢量的多个种类的范数\n",
    "\n",
    "#### 矢量范数 (缺省 2 阶)\n",
    "\n",
    "$$\n",
    "\\|x\\|\n",
    "=\n",
    "\\left\\{\n",
    "\\begin{array}{cl}\n",
    "\\max|x_i|, & ord=\\infty\\\\\n",
    "\\min|x_i|, & ord=-\\infty\\\\\n",
    "\\left(\\sum_i{|x_i|^{ord}}\n",
    "\\right)^{\\frac{1}{ord}}, & |ord| < \\infty\n",
    "\\end{array}\n",
    "\\right.\n",
    "$$\n",
    "\n",
    "#### 矩阵范数 (缺省 2 阶)\n",
    "\n",
    "$$\n",
    "\\|A\\|\n",
    "=\n",
    "\\left\\{\n",
    "\\begin{array}{cl}\n",
    "\\max_{i}\\sum_{j}|a_{ij}|, & ord=\\infty\\\\\n",
    "\\min_{i}\\sum_{j}|a_{ij}|, & ord=-\\infty\\\\\n",
    "\\max_{j}\\sum_{i}|a_{ij}|, & ord=1\\\\\n",
    "\\min_{j}\\sum_{i}|a_{ij}|, & ord=-1\\\\\n",
    "\\max\\sigma_i,& ord=2\\\\\n",
    "\\min\\sigma_i,& ord=-2\\\\\n",
    "\\sqrt{trace\\left(A^HA\\right)}, & ord='fro'\n",
    "\\end{array}\n",
    "\\right.\n",
    "$$\n",
    "\n",
    "这里，$\\sigma_i$ 是矩阵 $A$ 的奇异值。"
   ]
  },
  {
   "cell_type": "markdown",
   "metadata": {},
   "source": [
    "范数的一般表示方式\n",
    "<img src='images\\chapter14\\fanshu01.png'>"
   ]
  },
  {
   "cell_type": "markdown",
   "metadata": {},
   "source": [
    "#### 例如\n"
   ]
  },
  {
   "cell_type": "code",
   "execution_count": 27,
   "metadata": {
    "scrolled": true
   },
   "outputs": [
    {
     "data": {
      "text/plain": [
       "array([[1, 2],\n",
       "       [3, 4]])"
      ]
     },
     "execution_count": 27,
     "metadata": {},
     "output_type": "execute_result"
    }
   ],
   "source": [
    "A=np.array([[1,2],[3,4]])\n",
    "A"
   ]
  },
  {
   "cell_type": "code",
   "execution_count": 28,
   "metadata": {
    "scrolled": true
   },
   "outputs": [
    {
     "data": {
      "text/plain": [
       "5.477225575051661"
      ]
     },
     "execution_count": 28,
     "metadata": {},
     "output_type": "execute_result"
    }
   ],
   "source": [
    "linalg.norm(A)"
   ]
  },
  {
   "cell_type": "code",
   "execution_count": 29,
   "metadata": {
    "scrolled": true
   },
   "outputs": [
    {
     "data": {
      "text/plain": [
       "5.477225575051661"
      ]
     },
     "execution_count": 29,
     "metadata": {},
     "output_type": "execute_result"
    }
   ],
   "source": [
    "linalg.norm(A,'fro') # frobenius 范数是缺省？"
   ]
  },
  {
   "cell_type": "markdown",
   "metadata": {},
   "source": [
    "### frobenius 范数\n",
    "#### Frobenius 范数，简称F-范数，是一种矩阵范数，记为||·||F。矩阵A的Frobenius范数定义为矩阵A各项元素的绝对值平方的总和，即\n",
    "$$\\left\\| A\\right\\| _{F}=\\sqrt {\\sum ^{n}_{i=1}\\sum ^{n}_{j=1}\\left| a_{i,j}\\right| ^{2}}=\\sqrt {tr\\left( A^{H}A\\right) }$$\n"
   ]
  },
  {
   "cell_type": "code",
   "execution_count": 30,
   "metadata": {
    "scrolled": true
   },
   "outputs": [
    {
     "data": {
      "text/plain": [
       "6.0"
      ]
     },
     "execution_count": 30,
     "metadata": {},
     "output_type": "execute_result"
    }
   ],
   "source": [
    "linalg.norm(A,1) # L1 范数"
   ]
  },
  {
   "cell_type": "code",
   "execution_count": 31,
   "metadata": {},
   "outputs": [
    {
     "data": {
      "text/plain": [
       "5.464985704219043"
      ]
     },
     "execution_count": 31,
     "metadata": {},
     "output_type": "execute_result"
    }
   ],
   "source": [
    "linalg.norm(A,2) # L2 范数"
   ]
  },
  {
   "cell_type": "code",
   "execution_count": 32,
   "metadata": {
    "scrolled": true
   },
   "outputs": [
    {
     "data": {
      "text/plain": [
       "5.477225575051661"
      ]
     },
     "execution_count": 32,
     "metadata": {},
     "output_type": "execute_result"
    }
   ],
   "source": [
    "(1**2 + 2**2 + 3**2 + 4**2) ** 0.5"
   ]
  },
  {
   "cell_type": "code",
   "execution_count": 33,
   "metadata": {
    "scrolled": true
   },
   "outputs": [
    {
     "data": {
      "text/plain": [
       "4.0"
      ]
     },
     "execution_count": 33,
     "metadata": {},
     "output_type": "execute_result"
    }
   ],
   "source": [
    "linalg.norm(A,-1)"
   ]
  },
  {
   "cell_type": "code",
   "execution_count": 34,
   "metadata": {
    "scrolled": true
   },
   "outputs": [
    {
     "data": {
      "text/plain": [
       "7.0"
      ]
     },
     "execution_count": 34,
     "metadata": {},
     "output_type": "execute_result"
    }
   ],
   "source": [
    "linalg.norm(A,np.inf) # L 无穷范数"
   ]
  },
  {
   "cell_type": "markdown",
   "metadata": {},
   "source": [
    "### 我们知道距离的定义是一个宽泛的概念，只要满足非负、自反、三角不等式就可以称之为距离。范数是一种强化了的距离概念，它在定义上比距离多了一条数乘的运算法则。有时候为了便于理解，我们可以把范数当作距离来理解。\n",
    "### L-P范数 \n",
    "### 与闵可夫斯基距离的定义一样，L-P范数不是一个范数，而是一组范数，其定义如下\n",
    "$$L_{p}=\\sqrt [p] {\\sum ^{n}_{i}x^{p}_{i}},x=\\left( x_{1},x_{2},...,x_{n}\\right)$$\n",
    "<img src='images\\chapter14\\fanshu.png'>"
   ]
  },
  {
   "cell_type": "markdown",
   "metadata": {},
   "source": [
    "### <font size=4.5><span id=\"14.4.8\"> 14.4.8 求解线性最小二乘问题</span></font>"
   ]
  },
  {
   "cell_type": "markdown",
   "metadata": {},
   "source": [
    "- 线性最小二乘问题用于拟合数据\n",
    "- 数据 $y_i$ 依赖于数据 $x_i$，待拟合函数模型为\n",
    "\n",
    "### $$\n",
    "y_i = \\sum_j{c_j f_j(x_i) + \\varepsilon_i}\n",
    "$$\n",
    "\n",
    "#### 其中\n",
    "- $c_i$ 为待求系数\n",
    "- $f_j(x)$ 为已知函数\n",
    "- $\\varepsilon_i$ 为随机噪声\n",
    "\n",
    "#### 最小二乘策略\n",
    "\n",
    "- 寻找系数 $c_i$\n",
    "- 以使如下目标泛函取最小值\n",
    "\n",
    "### $$\n",
    "J(c) = \\Sigma_{i}{\\left|y_i- \\Sigma_j{c_j f_j(x_i)}\\right|^2}\n",
    "$$\n",
    "\n",
    "\n",
    "#### 结果\n",
    "\n",
    "记 $a_{ij}=f_j(x_i)$ 为矩阵 $A$ 的元素，可求得\n",
    "\n",
    "$$c=(A^HA)^{-1}A^Hy$$\n",
    "\n",
    "其中，$(A^HA)^{-1}A^H$ 称为矩阵 $A$ 的广义逆。"
   ]
  },
  {
   "cell_type": "markdown",
   "metadata": {},
   "source": [
    "#### 示例\n",
    "\n",
    "- 给出一组 $x_i=0.1i,\\quad i=1,2,\\cdots, 10$\n",
    "- $y_i = c_1e^{-x_i}+c_2x_i + \\varepsilon_i$，这里 $\\varepsilon_i$ 为噪声\n",
    "- $c_1=5,\\quad c_2=4$\n",
    "\n",
    "利用最小二乘法求出系数 $c_1$ 和 $c_2$"
   ]
  },
  {
   "cell_type": "code",
   "execution_count": 3,
   "metadata": {
    "scrolled": true
   },
   "outputs": [
    {
     "data": {
      "text/plain": [
       "[<matplotlib.lines.Line2D at 0x214837e5640>]"
      ]
     },
     "execution_count": 3,
     "metadata": {},
     "output_type": "execute_result"
    },
    {
     "data": {
      "image/png": "[encoded data removed]",
      "text/plain": [
       "<Figure size 432x288 with 1 Axes>"
      ]
     },
     "metadata": {
      "needs_background": "light"
     },
     "output_type": "display_data"
    }
   ],
   "source": [
    "# 生成数据\n",
    "c1, c2 = 5.0, 2.0\n",
    "i = np.r_[1:11]\n",
    "xi = 0.1*i\n",
    "yi = c1*np.exp(-xi) + c2*xi # 无噪声\n",
    "zi = yi + 0.01 * np.max(yi) * np.random.randn(len(yi)) # 叠加噪声\n",
    "plt.plot(xi,yi,'-ob')\n",
    "plt.plot(xi,zi,'sr')\n"
   ]
  },
  {
   "cell_type": "code",
   "execution_count": 7,
   "metadata": {
    "scrolled": true
   },
   "outputs": [
    {
     "name": "stdout",
     "output_type": "stream",
     "text": [
      "c1 = 5.002691227472499, c2=1.9720077338759636\n"
     ]
    }
   ],
   "source": [
    "# 最小二乘求解\n",
    "A = np.c_[np.exp(-xi)[:, np.newaxis], xi[:, np.newaxis]]   #np.c_   \n",
    "c, resid, rank, sigma = linalg.lstsq(A, zi)\n",
    "\n",
    "print(\"c1 = {0}, c2={1}\".format(c[0],c[1]))"
   ]
  },
  {
   "cell_type": "code",
   "execution_count": 5,
   "metadata": {},
   "outputs": [
    {
     "data": {
      "text/plain": [
       "array([[0.90483742, 0.1       ],\n",
       "       [0.81873075, 0.2       ],\n",
       "       [0.74081822, 0.3       ],\n",
       "       [0.67032005, 0.4       ],\n",
       "       [0.60653066, 0.5       ],\n",
       "       [0.54881164, 0.6       ],\n",
       "       [0.4965853 , 0.7       ],\n",
       "       [0.44932896, 0.8       ],\n",
       "       [0.40656966, 0.9       ],\n",
       "       [0.36787944, 1.        ]])"
      ]
     },
     "execution_count": 5,
     "metadata": {},
     "output_type": "execute_result"
    }
   ],
   "source": [
    "A"
   ]
  },
  {
   "cell_type": "code",
   "execution_count": null,
   "metadata": {},
   "outputs": [],
   "source": [
    "linalg.lstsq?"
   ]
  },
  {
   "cell_type": "code",
   "execution_count": 8,
   "metadata": {
    "scrolled": true
   },
   "outputs": [],
   "source": [
    "# 利用所求系数画曲线图，先生成坐标数组\n",
    "\n",
    "xi2 = np.r_[0.1:1.0:100j]\n",
    "yi2 = c[0]*np.exp(-xi2) + c[1]*xi2"
   ]
  },
  {
   "cell_type": "code",
   "execution_count": 9,
   "metadata": {
    "scrolled": true
   },
   "outputs": [],
   "source": [
    "# 资源设置\n",
    "\n",
    "mpl.rcParams['font.sans-serif'] = ['SimHei'];\n",
    "mpl.rcParams['axes.unicode_minus'] = False"
   ]
  },
  {
   "cell_type": "code",
   "execution_count": 10,
   "metadata": {
    "scrolled": true
   },
   "outputs": [
    {
     "data": {
      "image/png": "[encoded data removed]",
      "text/plain": [
       "<Figure size 432x288 with 1 Axes>"
      ]
     },
     "metadata": {
      "needs_background": "light"
     },
     "output_type": "display_data"
    }
   ],
   "source": [
    "# 数据散点、拟合曲线图\n",
    "plt.plot(xi,zi,'ob')#\n",
    "plt.plot(xi,yi,'g')#\n",
    "plt.plot(xi2,yi2,'r')\n",
    "\n",
    "#plt.plot(xi,zi,'x', xi2,yi2)\n",
    "plt.axis([0,1.1,3.0,5.5])\n",
    "plt.xlabel('$x_i$')\n",
    "plt.title('采用 linalg.lstsq 进行数据拟合')\n",
    "plt.show()"
   ]
  },
  {
   "cell_type": "markdown",
   "metadata": {},
   "source": [
    "### np.c_和np.r_的用法解析\n",
    "* np.r_是按列连接两个矩阵，就是把两矩阵上下相加，要求列数相等。\n",
    "* np.c_是按行连接两个矩阵，就是把两矩阵左右相加，要求行数相等。"
   ]
  },
  {
   "cell_type": "code",
   "execution_count": null,
   "metadata": {
    "scrolled": true
   },
   "outputs": [],
   "source": [
    "a = np.array([[1, 2, 3],[7,8,9]])\n",
    " \n",
    "b=np.array([[4,5,6],[1,2,3]])\n",
    "\n",
    "c=np.c_[a,b]\n",
    "c"
   ]
  },
  {
   "cell_type": "code",
   "execution_count": null,
   "metadata": {
    "scrolled": true
   },
   "outputs": [],
   "source": [
    "a = np.array([[1, 2, 3],[7,8,9]])\n",
    "b=np.array([[4,5,6],[1,2,3]])\n",
    "c=np.r_[a,b]\n",
    "c"
   ]
  },
  {
   "cell_type": "code",
   "execution_count": null,
   "metadata": {
    "scrolled": true
   },
   "outputs": [],
   "source": []
  },
  {
   "cell_type": "markdown",
   "metadata": {},
   "source": [
    "### <font size=4.5><span id=\"14.4.9\"> 14.4.9 广义逆问题</span></font>"
   ]
  },
  {
   "cell_type": "markdown",
   "metadata": {},
   "source": [
    "- 两个函数可用来求广义逆\n",
    "\n",
    "    - linalg.pinv —— 使用最小二乘法\n",
    "    - linalg.pinv2 —— 使用奇异值分解法\n",
    "    \n",
    "设 $A$ 为 $M\\times N$ 矩阵，如果 $M>N$，广义逆就是\n",
    "\n",
    "$$A^{\\dagger}=(A^HA)^{-1}A^H$$\n",
    "\n",
    "如果 $M<N$，广义逆就是\n",
    "\n",
    "$$A^{\\sharp}=A^H(AA^H)^{-1}$$\n",
    "\n",
    "如果 $M=N$，则\n",
    "\n",
    "$$A^{\\dagger}=A^\\sharp=A^{-1}$$"
   ]
  },
  {
   "cell_type": "code",
   "execution_count": null,
   "metadata": {
    "scrolled": true
   },
   "outputs": [],
   "source": [
    "A = np.array([[1,3],[2,5],[2,3]]) # M=3, N=2\n",
    "A"
   ]
  },
  {
   "cell_type": "markdown",
   "metadata": {},
   "source": [
    "#### 调用函数 linalg.pinv"
   ]
  },
  {
   "cell_type": "code",
   "execution_count": null,
   "metadata": {
    "scrolled": true
   },
   "outputs": [],
   "source": [
    "A_dagger=(linalg.inv(A.T.dot(A))).dot(A.T)\n",
    "A_dagger"
   ]
  },
  {
   "cell_type": "code",
   "execution_count": null,
   "metadata": {
    "scrolled": true
   },
   "outputs": [],
   "source": [
    "A_dagger.dot(A)"
   ]
  },
  {
   "cell_type": "markdown",
   "metadata": {},
   "source": [
    "#### 调用函数 linalg.pinv2"
   ]
  },
  {
   "cell_type": "code",
   "execution_count": null,
   "metadata": {
    "scrolled": true
   },
   "outputs": [],
   "source": [
    "A_dagger_2=linalg.pinv2(A)\n",
    "A_dagger_2"
   ]
  },
  {
   "cell_type": "code",
   "execution_count": null,
   "metadata": {},
   "outputs": [],
   "source": [
    "A_dagger_2.dot(A)"
   ]
  },
  {
   "cell_type": "markdown",
   "metadata": {},
   "source": [
    "### <font size=4.5><span id=\"14.4.10\"> 14.4.10 求解特征值和特征矢量问题</span></font>"
   ]
  },
  {
   "cell_type": "markdown",
   "metadata": {},
   "source": [
    "#### 特征值问题\n",
    "\n",
    "$$\\boldsymbol{A}\\boldsymbol{v} = \\lambda\\boldsymbol{v}$$\n",
    "\n",
    "#### 特征方程\n",
    "\n",
    "$$\\left|\\boldsymbol{A}-\\lambda\\boldsymbol{I}\\right| = 0$$\n",
    "\n",
    "#### 考虑\n",
    "\n",
    "$$\n",
    "A=\n",
    "\\left[\n",
    "\\begin{array}{ccc}\n",
    "1 & 5 & 2 \\\\\n",
    "2 & 4 & 1 \\\\\n",
    "3 & 6 & 2\n",
    "\\end{array}\n",
    "\\right]\n",
    "$$\n",
    "\n",
    "#### 其特征值为\n",
    "\n",
    "$$\n",
    "\\left\\{\n",
    "\\begin{array}{rcr}\n",
    "\\lambda_1 & = & 7.9579 \\\\\n",
    "\\lambda_2 & = & -1.2577 \\\\\n",
    "\\lambda_3 & = & 0.2997\n",
    "\\end{array}\n",
    "\\right.\n",
    "$$"
   ]
  },
  {
   "cell_type": "code",
   "execution_count": null,
   "metadata": {
    "scrolled": true
   },
   "outputs": [],
   "source": [
    "A = np.array([[1, 5, 2], [2, 4, 1], [3, 6, 2]])\n",
    "la, v = linalg.eig(A)\n",
    "l1, l2, l3 = la\n",
    "print(l1, l2, l3) # 特征值"
   ]
  },
  {
   "cell_type": "code",
   "execution_count": null,
   "metadata": {
    "scrolled": true
   },
   "outputs": [],
   "source": [
    "print(v[:, 0]) # 第一个特征矢量"
   ]
  },
  {
   "cell_type": "code",
   "execution_count": null,
   "metadata": {
    "scrolled": true
   },
   "outputs": [],
   "source": [
    "print(v[:, 1])  # 第二个特征矢量"
   ]
  },
  {
   "cell_type": "code",
   "execution_count": null,
   "metadata": {
    "scrolled": true
   },
   "outputs": [],
   "source": [
    "print(v[:, 2])  # 第三个特征矢量"
   ]
  },
  {
   "cell_type": "code",
   "execution_count": null,
   "metadata": {
    "scrolled": true
   },
   "outputs": [],
   "source": [
    "print(np.sum(abs(v**2), axis=0)) # 单位矢量"
   ]
  },
  {
   "cell_type": "code",
   "execution_count": null,
   "metadata": {
    "scrolled": true
   },
   "outputs": [],
   "source": [
    "v1 = np.array(v[:, 0]).T\n",
    "print(linalg.norm(A.dot(v1) - l1*v1)) # 检查"
   ]
  },
  {
   "cell_type": "code",
   "execution_count": null,
   "metadata": {},
   "outputs": [],
   "source": [
    "#第14周讲到这里"
   ]
  },
  {
   "cell_type": "markdown",
   "metadata": {},
   "source": [
    "### <font size=4.5><span id=\"14.4.11\"> 14.4.11 奇异值分解</span></font>"
   ]
  },
  {
   "cell_type": "markdown",
   "metadata": {},
   "source": [
    "- 奇异值分解可看着是特征值问题的推广\n",
    "- 设 $\\boldsymbol{A}$ 是一 $M\\times N$ 矩阵\n",
    "- 于是，矩阵 $\\boldsymbol{A}^H\\boldsymbol{A}$ 和 $\\boldsymbol{A}\\boldsymbol{A}^H$ 是半正定共轭方阵\n",
    "- 由线代理论，必有非负实特征值若干，记为 $\\sigma_i^2$，它们的平方根就称为矩阵 $\\boldsymbol{A}$ 的奇异值\n",
    "- 相应地，有以下分解形式\n",
    "\n",
    "$$\\boldsymbol{A} = \\boldsymbol{U}\\boldsymbol{\\Sigma}\\boldsymbol{V}^H$$\n",
    "\n",
    "- 即为奇异值分解。\n",
    "- 其中\n",
    "    - $\\boldsymbol{U}$ 和 $\\boldsymbol{V}$ 是酉矩阵\n",
    "    - $\\boldsymbol{\\Sigma}$ 是奇异值构成的对角阵\n",
    "- 求奇异值分解的 scipy 命令为 \n",
    "\n",
    "```python\n",
    ">>> linalg.diagsvd\n",
    "```"
   ]
  },
  {
   "cell_type": "markdown",
   "metadata": {},
   "source": [
    "#### 例如"
   ]
  },
  {
   "cell_type": "code",
   "execution_count": null,
   "metadata": {
    "scrolled": true
   },
   "outputs": [],
   "source": [
    "A = np.array([[1,2,3],[4,5,6]])\n",
    "A"
   ]
  },
  {
   "cell_type": "code",
   "execution_count": null,
   "metadata": {
    "scrolled": true
   },
   "outputs": [],
   "source": [
    "M,N = A.shape\n",
    "U,s,Vh = linalg.svd(A)\n",
    "Sig = linalg.diagsvd(s,M,N)\n",
    "#U, Vh = U, Vh\n",
    "U"
   ]
  },
  {
   "cell_type": "code",
   "execution_count": null,
   "metadata": {},
   "outputs": [],
   "source": [
    "Vh"
   ]
  },
  {
   "cell_type": "code",
   "execution_count": null,
   "metadata": {},
   "outputs": [],
   "source": [
    "M,N"
   ]
  },
  {
   "cell_type": "code",
   "execution_count": null,
   "metadata": {
    "scrolled": true
   },
   "outputs": [],
   "source": [
    "Sig"
   ]
  },
  {
   "cell_type": "code",
   "execution_count": null,
   "metadata": {
    "scrolled": true
   },
   "outputs": [],
   "source": [
    "Vh"
   ]
  },
  {
   "cell_type": "code",
   "execution_count": null,
   "metadata": {
    "scrolled": true
   },
   "outputs": [],
   "source": [
    "U.dot(Sig.dot(Vh)) # 检查"
   ]
  },
  {
   "cell_type": "markdown",
   "metadata": {},
   "source": [
    "### <font size=4.5><span id=\"14.4.12\"> 14.4.12 矩阵的各种分解法</span></font>"
   ]
  },
  {
   "cell_type": "markdown",
   "metadata": {},
   "source": [
    "- QR 分解\n",
    "- LU 分解\n",
    "- LDLT 分解\n",
    "- Cholesky 分解\n",
    "- Schur 分解\n",
    "\n",
    "参考在线文档 [scipy.linalg](http://docs.scipy.org/doc/scipy/reference/linalg.html#scipy.linalg)"
   ]
  },
  {
   "cell_type": "markdown",
   "metadata": {},
   "source": [
    "#### LU 分解示例"
   ]
  },
  {
   "cell_type": "markdown",
   "metadata": {},
   "source": [
    "有一个矩阵A，将A表示成下三角矩阵L和上三角矩阵U的乘积，称为A的LU分解。\n",
    "<img src=\"images/chapter14/LU.png\">  <img src=\"images/chapter14/LU2.png\">"
   ]
  },
  {
   "cell_type": "code",
   "execution_count": null,
   "metadata": {
    "scrolled": true
   },
   "outputs": [],
   "source": [
    "A = np.array([[2, 5, 8, 7], [5, 2, 2, 8], [7, 5, 6, 6], [5, 4, 4, 8]]) #上下三角矩阵\n",
    "A"
   ]
  },
  {
   "cell_type": "code",
   "execution_count": null,
   "metadata": {
    "scrolled": true
   },
   "outputs": [],
   "source": [
    "p, l, u = linalg.lu(A)"
   ]
  },
  {
   "cell_type": "code",
   "execution_count": null,
   "metadata": {},
   "outputs": [],
   "source": [
    "linalg.lu?"
   ]
  },
  {
   "cell_type": "code",
   "execution_count": null,
   "metadata": {
    "scrolled": true
   },
   "outputs": [],
   "source": [
    "p"
   ]
  },
  {
   "cell_type": "code",
   "execution_count": null,
   "metadata": {
    "scrolled": true
   },
   "outputs": [],
   "source": [
    "l"
   ]
  },
  {
   "cell_type": "code",
   "execution_count": null,
   "metadata": {
    "scrolled": true
   },
   "outputs": [],
   "source": [
    "u"
   ]
  },
  {
   "cell_type": "code",
   "execution_count": null,
   "metadata": {},
   "outputs": [],
   "source": [
    "l * u"
   ]
  },
  {
   "cell_type": "markdown",
   "metadata": {},
   "source": [
    "#### Cholesky 分解示例\n",
    "- Cholesky 分解是把一个对称正定的矩阵表示成一个下三角矩阵L和其转置的乘积的分解。\n",
    "\n",
    "<img src=\"images\\chapter14\\chol.jpg\" width =500>"
   ]
  },
  {
   "cell_type": "code",
   "execution_count": null,
   "metadata": {
    "scrolled": true
   },
   "outputs": [],
   "source": [
    "A = np.array([[2,-1,0,0],[-1,2,-1,0],[0,-1,2,-1],[0,0,-1,2]])\n",
    "L = linalg.cholesky(A, lower=True)\n",
    "L"
   ]
  },
  {
   "cell_type": "code",
   "execution_count": null,
   "metadata": {},
   "outputs": [],
   "source": [
    "np.dot(L,L.T)"
   ]
  },
  {
   "cell_type": "code",
   "execution_count": null,
   "metadata": {
    "scrolled": true
   },
   "outputs": [],
   "source": [
    "A = np.array([[1,-2j],[2j,5]])\n",
    "L = linalg.cholesky(A, lower=True)\n",
    "L"
   ]
  },
  {
   "cell_type": "code",
   "execution_count": null,
   "metadata": {
    "scrolled": true
   },
   "outputs": [],
   "source": [
    "np.dot(L, L.T.conj())"
   ]
  },
  {
   "cell_type": "markdown",
   "metadata": {},
   "source": [
    "#### Schur 分解示例（跳过）\n",
    "- schur分解，将一个矩阵A，分解成酉矩阵U和上三角矩阵T"
   ]
  },
  {
   "cell_type": "code",
   "execution_count": null,
   "metadata": {
    "scrolled": true
   },
   "outputs": [],
   "source": [
    "A = np.mat('[1 3 2; 1 4 5; 2 3 6]')\n",
    "T, Z = linalg.schur(A)\n",
    "T1, Z1 = linalg.schur(A, 'complex')\n",
    "T2, Z2 = linalg.rsf2csf(T, Z)\n",
    "T"
   ]
  },
  {
   "cell_type": "code",
   "execution_count": null,
   "metadata": {
    "scrolled": true
   },
   "outputs": [],
   "source": [
    "T2"
   ]
  },
  {
   "cell_type": "code",
   "execution_count": null,
   "metadata": {
    "scrolled": true
   },
   "outputs": [],
   "source": [
    "abs(T1 - T2) # different"
   ]
  },
  {
   "cell_type": "code",
   "execution_count": null,
   "metadata": {
    "scrolled": true
   },
   "outputs": [],
   "source": [
    "abs(Z1 - Z2) # different"
   ]
  },
  {
   "cell_type": "code",
   "execution_count": null,
   "metadata": {
    "scrolled": true
   },
   "outputs": [],
   "source": [
    "T, Z, T1, Z1, T2, Z2 = map(np.mat,(T,Z,T1,Z1,T2,Z2))\n",
    "abs(A - Z*T*Z.H) # same"
   ]
  },
  {
   "cell_type": "code",
   "execution_count": null,
   "metadata": {
    "scrolled": true
   },
   "outputs": [],
   "source": [
    "abs(A - Z1*T1*Z1.H) # same"
   ]
  },
  {
   "cell_type": "code",
   "execution_count": null,
   "metadata": {
    "scrolled": true
   },
   "outputs": [],
   "source": [
    "abs(A - Z2*T2*Z2.H) # same"
   ]
  },
  {
   "cell_type": "markdown",
   "metadata": {},
   "source": [
    "### <font size=4.5><span id=\"14.4.13\"> 14.4.13 特殊矩阵</span></font>"
   ]
  },
  {
   "cell_type": "markdown",
   "metadata": {},
   "source": [
    "\n",
    "| 类型 | 函数 | 说明 |\n",
    "|-------|-------|-------|\n",
    "| block diagonal | scipy.linalg.block_diag | 创建分块对角矩阵 |\n",
    "| circulant | scipy.linalg.circulant | 创建 circulant 阵 |\n",
    "| companion | scipy.linalg.companion | 创建 companion 阵 |\n",
    "| Hadamard | scipy.linalg.hadamard | 创建 Hadamard 阵 |\n",
    "| Hankel | scipy.linalg.hankel | 创建 Hankel 阵 |\n",
    "| Hilbert | scipy.linalg.hilbert | 创建 Hilbert 阵 |\n",
    "| Inverse Hilbert | scipy.linalg.invhilbert| 创建逆 Hilbert 阵 |\n",
    "| Leslie | scipy.linalg.leslie | 创建 Leslie 阵 |\n",
    "| Pascal | scipy.linalg.pascal | 创建 Pascal 阵 |\n",
    "| Toeplitz | scipy.linalg.toeplitz | 创建 Toeplitz 阵 |\n",
    "| Van der Monde | numpy.vander | 创建 Van der Monde 阵 |"
   ]
  },
  {
   "cell_type": "code",
   "execution_count": null,
   "metadata": {
    "scrolled": true
   },
   "outputs": [],
   "source": [
    "import scipy\n",
    "mm = scipy.linalg.hilbert(5)\n",
    "mm"
   ]
  },
  {
   "cell_type": "code",
   "execution_count": null,
   "metadata": {
    "scrolled": true
   },
   "outputs": [],
   "source": [
    "from scipy.linalg import hankel\n",
    "hankel([1, 17, 99])\n",
    "hankel([1,2,3,4], [4, 4,7,7,8,9])"
   ]
  },
  {
   "cell_type": "code",
   "execution_count": null,
   "metadata": {},
   "outputs": [],
   "source": [
    "#pascal矩阵\n",
    "from scipy.linalg import pascal\n",
    "pascal(5)"
   ]
  },
  {
   "cell_type": "markdown",
   "metadata": {},
   "source": [
    "[返回目录](#mulu)"
   ]
  },
  {
   "cell_type": "markdown",
   "metadata": {},
   "source": [
    "## <font size=5><span id=\"14.5\"> 14.5 数值积分子模块 —— [scipy.integrate]</span></font>"
   ]
  },
  {
   "cell_type": "markdown",
   "metadata": {},
   "source": [
    "### (https://docs.scipy.org/doc/scipy/reference/integrate.html)\n",
    "\n",
    "- 数值积分（函数型、数组型*）\n",
    "    - 定积分\n",
    "    - 二、三、多重积分\n",
    "    - 高斯积分\n",
    "- 常微分方程(组)数值解法\n",
    "    - 初值问题\n",
    "    - 边值问题"
   ]
  },
  {
   "cell_type": "markdown",
   "metadata": {},
   "source": [
    "### <font size=4.5><span id=\"14.5.1\"> 14.5.1 积分函数列表及功能作用</span></font>"
   ]
  },
  {
   "cell_type": "markdown",
   "metadata": {},
   "source": [
    "#### 表1 函数型积分函数\n",
    "\n",
    "|       积分函数                                |   功能作用                                   |\n",
    "|-----------------------------------------------|----------------------------------------------|\n",
    "|<font color=\"red\">quad(func, a, b[, args, full_output, …])</font>\t    |   计算定积分                                 |\n",
    "|<font color=\"red\">dblquad(func, a, b, gfun, hfun[, args, …]) </font>  \t|   计算二重积分                               |\n",
    "|<font color=\"red\">tplquad(func, a, b, gfun, hfun, qfun, rfun)</font>   \t|   计算三重积分                               |\n",
    "|nquad(func, ranges[, args, opts, full_output])\t|   多变量积分                                 |\n",
    "|fixed_quad(func, a, b[, args, n])\t            |   计算定积分，用固定阶高斯积分公式           |\n",
    "|quadrature(func, a, b[, args, tol, rtol, …])\t|   计算定积分，用固定误差高斯积分公式         |\n",
    "|<font color=\"red\">romberg(function, a, b[, args, tol, rtol, …])</font>\t|   龙贝格积分                                 |\n",
    "|quad_explain([output])\t                        |   输出函数integrate.quad()的参数和返回值信息 |\n",
    "|newton_cotes(rn[, equal])\t                    |   返回Newton-Cotes积分的权重和误差系数       |\n",
    "|IntegrationWarning\t                            |   积分期间的警告发布                         |\n",
    "\n",
    "\n",
    "#### 表2 数组型积分函数\n",
    "\n",
    "|    积分函数                         |  功能作用                       |\n",
    "|-------------------------------------|---------------------------------|\n",
    "| trapz(y[, x, dx, axis])\t          | trapezoidal法则沿给定轴积分 |\n",
    "| cumtrapz(y[, x, dx, axis, initial]) | trapezoidal法则累积积分     |\n",
    "| simps(y[, x, dx, axis, even])\t      | 辛普森积分                      |\n",
    "| <font color=\"red\">romb(y[, dx, axis, show])</font>\t          | 龙贝格积分                      |\n"
   ]
  },
  {
   "cell_type": "markdown",
   "metadata": {},
   "source": [
    "#### 导入模块"
   ]
  },
  {
   "cell_type": "code",
   "execution_count": 36,
   "metadata": {
    "scrolled": true
   },
   "outputs": [],
   "source": [
    "import numpy as np\n",
    "import scipy as sp\n",
    "from scipy import integrate\n",
    "\n",
    "import matplotlib as mpl\n",
    "import matplotlib.pyplot as plt\n",
    "\n",
    "%matplotlib inline"
   ]
  },
  {
   "cell_type": "markdown",
   "metadata": {},
   "source": [
    "#### 中文图形环境设置"
   ]
  },
  {
   "cell_type": "code",
   "execution_count": null,
   "metadata": {
    "scrolled": true
   },
   "outputs": [],
   "source": [
    "mpl.rcParams['font.sans-serif'] = ['SimHei'];\n",
    "mpl.rcParams['axes.unicode_minus'] = False"
   ]
  },
  {
   "cell_type": "markdown",
   "metadata": {},
   "source": [
    "### <font size=4.5><span id=\"14.5.2\"> 14.5.2 函数型积分函数</span></font>"
   ]
  },
  {
   "cell_type": "markdown",
   "metadata": {},
   "source": [
    "\n",
    "- quad(func, a, b[, args, full_output, …])\n",
    "- dblquad(func, a, b, gfun, hfun[, args, …])\n",
    "- tplquad(func, a, b, gfun, hfun, qfun, rfun)"
   ]
  },
  {
   "cell_type": "markdown",
   "metadata": {},
   "source": [
    "#### 14.5.2.1 求定积分函数 quad\n",
    "\n",
    "- 函数原型\n",
    "\n",
    "```python\n",
    "scipy.integrate.quad(func, a, b, args=(), \n",
    "              full_output=0,\n",
    "              epsabs=1.49e-08, epsrel=1.49e-08,\n",
    "              limit=50, points=None, weight=None, wvar=None, wopts=None, maxp1=50, limlst=50)\n",
    "```\n",
    "\n",
    "- 主要参数\n",
    "    - 被积函数: func 返回浮点数的可回调函数\n",
    "    - 积分下限: a 浮点数 (``-np.inf``表示 $-\\infty$)\n",
    "    - 积分上限: b 浮点数 (``np.inf``表示 $\\infty$)\n",
    "    - 积分参数：args 元组（可选）\n",
    "\n",
    "\n",
    "- 返回值\n",
    "    - y：积分结果\n",
    "    - abs_err：绝对误差估计值\n",
    "    \n",
    "\n",
    "- 积分式\n",
    "\n",
    "$$\\int^b_a f(x)\\,dx$$"
   ]
  },
  {
   "cell_type": "markdown",
   "metadata": {},
   "source": [
    "#### 示例 1 —— 求定积分\n",
    "\n",
    "$$ \\int^4_0 x^2 dx = \\left.\\dfrac{x^3}{3}\\right|^{\\,4}_{\\,0} = \\dfrac{64}{3} = 21.\\dot{3}$$"
   ]
  },
  {
   "cell_type": "code",
   "execution_count": null,
   "metadata": {
    "scrolled": true
   },
   "outputs": [],
   "source": [
    "x2 = lambda x: x**2\n",
    "integrate.quad(x2, 0, 4)"
   ]
  },
  {
   "cell_type": "markdown",
   "metadata": {},
   "source": [
    "#### 示例 2 —— 求定积分\n",
    "\n",
    "$$ \\int^\\infty_0 e^{-x} dx = -e^{-x}|^{\\,\\infty}_{\\,0} = 1$$"
   ]
  },
  {
   "cell_type": "code",
   "execution_count": null,
   "metadata": {
    "scrolled": true
   },
   "outputs": [],
   "source": [
    "invexp = lambda x: np.exp(-x)\n",
    "integrate.quad(invexp, 0, np.inf)"
   ]
  },
  {
   "cell_type": "markdown",
   "metadata": {},
   "source": [
    "#### 示例3 —— 求含参数的定积分\n",
    "\n",
    "$$\\int_0^1 ax \\, dx = \\dfrac{a}{2}$$"
   ]
  },
  {
   "cell_type": "code",
   "execution_count": 38,
   "metadata": {
    "scrolled": true
   },
   "outputs": [
    {
     "ename": "TypeError",
     "evalue": "<lambda>() missing 1 required positional argument: 'a'",
     "output_type": "error",
     "traceback": [
      "\u001b[1;31m---------------------------------------------------------------------------\u001b[0m",
      "\u001b[1;31mTypeError\u001b[0m                                 Traceback (most recent call last)",
      "Cell \u001b[1;32mIn[38], line 2\u001b[0m\n\u001b[0;32m      1\u001b[0m f \u001b[38;5;241m=\u001b[39m \u001b[38;5;28;01mlambda\u001b[39;00m x,a : a\u001b[38;5;241m*\u001b[39mx\n\u001b[1;32m----> 2\u001b[0m y, err \u001b[38;5;241m=\u001b[39m integrate\u001b[38;5;241m.\u001b[39mquad(f, \u001b[38;5;241m0\u001b[39m, \u001b[38;5;241m1\u001b[39m)\n\u001b[0;32m      3\u001b[0m \u001b[38;5;28mprint\u001b[39m(\u001b[38;5;124m\"\u001b[39m\u001b[38;5;124my = \u001b[39m\u001b[38;5;132;01m{0}\u001b[39;00m\u001b[38;5;124m, parameter a = \u001b[39m\u001b[38;5;132;01m{1}\u001b[39;00m\u001b[38;5;124m\"\u001b[39m\u001b[38;5;241m.\u001b[39mformat(y, \u001b[38;5;241m1\u001b[39m))\n\u001b[0;32m      5\u001b[0m y, err \u001b[38;5;241m=\u001b[39m integrate\u001b[38;5;241m.\u001b[39mquad(f, \u001b[38;5;241m0\u001b[39m, \u001b[38;5;241m1\u001b[39m, args\u001b[38;5;241m=\u001b[39m(\u001b[38;5;241m3\u001b[39m,))\n",
      "File \u001b[1;32mD:\\ProgramData\\anaconda3\\Lib\\site-packages\\scipy\\integrate\\_quadpack_py.py:463\u001b[0m, in \u001b[0;36mquad\u001b[1;34m(func, a, b, args, full_output, epsabs, epsrel, limit, points, weight, wvar, wopts, maxp1, limlst, complex_func)\u001b[0m\n\u001b[0;32m    460\u001b[0m     \u001b[38;5;28;01mreturn\u001b[39;00m retval\n\u001b[0;32m    462\u001b[0m \u001b[38;5;28;01mif\u001b[39;00m weight \u001b[38;5;129;01mis\u001b[39;00m \u001b[38;5;28;01mNone\u001b[39;00m:\n\u001b[1;32m--> 463\u001b[0m     retval \u001b[38;5;241m=\u001b[39m _quad(func, a, b, args, full_output, epsabs, epsrel, limit,\n\u001b[0;32m    464\u001b[0m                    points)\n\u001b[0;32m    465\u001b[0m \u001b[38;5;28;01melse\u001b[39;00m:\n\u001b[0;32m    466\u001b[0m     \u001b[38;5;28;01mif\u001b[39;00m points \u001b[38;5;129;01mis\u001b[39;00m \u001b[38;5;129;01mnot\u001b[39;00m \u001b[38;5;28;01mNone\u001b[39;00m:\n",
      "File \u001b[1;32mD:\\ProgramData\\anaconda3\\Lib\\site-packages\\scipy\\integrate\\_quadpack_py.py:575\u001b[0m, in \u001b[0;36m_quad\u001b[1;34m(func, a, b, args, full_output, epsabs, epsrel, limit, points)\u001b[0m\n\u001b[0;32m    573\u001b[0m \u001b[38;5;28;01mif\u001b[39;00m points \u001b[38;5;129;01mis\u001b[39;00m \u001b[38;5;28;01mNone\u001b[39;00m:\n\u001b[0;32m    574\u001b[0m     \u001b[38;5;28;01mif\u001b[39;00m infbounds \u001b[38;5;241m==\u001b[39m \u001b[38;5;241m0\u001b[39m:\n\u001b[1;32m--> 575\u001b[0m         \u001b[38;5;28;01mreturn\u001b[39;00m _quadpack\u001b[38;5;241m.\u001b[39m_qagse(func,a,b,args,full_output,epsabs,epsrel,limit)\n\u001b[0;32m    576\u001b[0m     \u001b[38;5;28;01melse\u001b[39;00m:\n\u001b[0;32m    577\u001b[0m         \u001b[38;5;28;01mreturn\u001b[39;00m _quadpack\u001b[38;5;241m.\u001b[39m_qagie(func,bound,infbounds,args,full_output,epsabs,epsrel,limit)\n",
      "\u001b[1;31mTypeError\u001b[0m: <lambda>() missing 1 required positional argument: 'a'"
     ]
    }
   ],
   "source": [
    "f = lambda x,a : a*x\n",
    "y, err = integrate.quad(f, 0, 1, args=(1,))\n",
    "print(\"y = {0}, parameter a = {1}\".format(y, 1))\n",
    "\n",
    "y, err = integrate.quad(f, 0, 1, args=(3,))\n",
    "print(\"y = {0}, parameter a = {1}\".format(y, 3))"
   ]
  },
  {
   "cell_type": "markdown",
   "metadata": {},
   "source": [
    "#### 示例3 —— 求含参数的定积分\n",
    "\n",
    "$$\\int_0^1 x^{a+b} \\, dx = \\dfrac{1}{a+b+1}$$"
   ]
  },
  {
   "cell_type": "code",
   "execution_count": 39,
   "metadata": {
    "scrolled": true
   },
   "outputs": [
    {
     "name": "stdout",
     "output_type": "stream",
     "text": [
      "y = 0.25, parameter a = 1, parameter b = 2\n",
      "y = 0.25, parameter a = 2, parameter b = 1\n"
     ]
    }
   ],
   "source": [
    "f = lambda x,a,b : x**(a+b)\n",
    "y, err = integrate.quad(f, 0, 1, args=(1,2))\n",
    "print(\"y = {0}, parameter a = {1}, parameter b = {2}\".format(y, 1, 2))\n",
    "\n",
    "y, err = integrate.quad(f, 0, 1, args=(2,1))\n",
    "print(\"y = {0}, parameter a = {1}, parameter b = {2}\".format(y, 2, 1))"
   ]
  },
  {
   "cell_type": "markdown",
   "metadata": {},
   "source": [
    "#### 示例 4 —— 自定义函数求积分\n",
    "\n",
    "$$\\int^1_0 \\dfrac{1}{1+x^2}\\,dx = \\arctan x|^1_0= \\dfrac{\\pi}{4}$$"
   ]
  },
  {
   "cell_type": "code",
   "execution_count": null,
   "metadata": {
    "scrolled": true
   },
   "outputs": [],
   "source": [
    "def integrand(x):\n",
    "    return 1.0/(1+x*x)\n",
    "\n",
    "integral, abs_err = integrate.quad(integrand, 0, 1)\n",
    "print(integral * 4)"
   ]
  },
  {
   "cell_type": "code",
   "execution_count": null,
   "metadata": {},
   "outputs": [],
   "source": [
    "def sqrtn(x):\n",
    "    import math\n",
    "    return math.sqrt(x) if x>=0 else -1*math.sqrt(-1*x)"
   ]
  },
  {
   "cell_type": "code",
   "execution_count": null,
   "metadata": {},
   "outputs": [],
   "source": [
    "integral, abs_err = integrate.quad(sqrtn, -1, 2)\n",
    "print(integral)"
   ]
  },
  {
   "cell_type": "markdown",
   "metadata": {},
   "source": [
    "#### 示例 5 —— 求瑕积分\n",
    "\n",
    "$$\\int^1_0 \\dfrac{1}{\\sqrt{x}}\\,dx = 2\\sqrt{x}|^1_0 = 2$$"
   ]
  },
  {
   "cell_type": "code",
   "execution_count": null,
   "metadata": {
    "scrolled": true
   },
   "outputs": [],
   "source": [
    "fun = lambda x: 1/np.sqrt(x)\n",
    "integrate.quad(fun, 0, 1)"
   ]
  },
  {
   "cell_type": "markdown",
   "metadata": {},
   "source": [
    "#### 14.5.2.2 求二重积分函数 dblquad\n",
    "\n",
    "- 函数原型\n",
    "\n",
    "```python\n",
    "scipy.integrate.dblquad(func, a, b, gfun, hfun, args=(), epsabs=1.49e-08, epsrel=1.49e-08)\n",
    "```\n",
    "\n",
    "\n",
    "- 主要参数\n",
    "    - 被积函数: func(y, x) 返回浮点数的可回调函数 (y 必须是第一自变量，x 是第二自变量)\n",
    "    - 外层下限: a 浮点数 (``-np.inf``表示 $-\\infty$)\n",
    "    - 外层上限: b 浮点数 (``np.inf``表示 $\\infty$)\n",
    "    - 内层下限：gfun 可回调函数\n",
    "    - 内层上限：hfun 可回调函数\n",
    "    - 积分参数：args 序列（可选）\n",
    "\n",
    "\n",
    "- 返回值\n",
    "    - y：积分结果\n",
    "    - abs_err：绝对误差估计值\n",
    "    \n",
    "\n",
    "- 积分式\n",
    "\n",
    "$$\\int^b_a dx \\int^{h(x)}_{g(x)} f(x,y)\\,dy$$"
   ]
  },
  {
   "cell_type": "markdown",
   "metadata": {},
   "source": [
    "#### 示例 6 —— 求二重积分\n",
    "\n",
    "$$\\int^2_0 dx \\int^1_0 xy^2\\,dy = \\dfrac{2}{3} = 0.\\dot{6}$$"
   ]
  },
  {
   "cell_type": "code",
   "execution_count": null,
   "metadata": {
    "scrolled": true
   },
   "outputs": [],
   "source": [
    "f = lambda y, x: x*y**2\n",
    "integrate.dblquad(f, 0, 2, lambda x: 0, lambda x: 1)"
   ]
  },
  {
   "cell_type": "markdown",
   "metadata": {},
   "source": [
    "<img src=\"images/chapter14/jifen01.gif\" width = 400>"
   ]
  },
  {
   "cell_type": "code",
   "execution_count": null,
   "metadata": {},
   "outputs": [],
   "source": [
    "f = lambda y, x: 3- (x**2 + y**2) ** 0.5\n",
    "h = lambda x: (9- x**2)**0.5\n",
    "jifen = integrate.dblquad(f, -3, +3, lambda x:-h(x), lambda x:h(x))\n",
    "jifen[0]/np.pi"
   ]
  },
  {
   "cell_type": "markdown",
   "metadata": {},
   "source": [
    "##### 练习\n",
    "<img src=\"images/chapter14/jifen02.gif\" width = 400>"
   ]
  },
  {
   "cell_type": "code",
   "execution_count": null,
   "metadata": {},
   "outputs": [],
   "source": [
    "#练习一下\n",
    "ff = lambda y,x:x*x/y/y\n",
    "integrate.dblquad(ff, 1, +2, lambda x:1/x, lambda x:x)"
   ]
  },
  {
   "cell_type": "markdown",
   "metadata": {},
   "source": [
    "#### 14.5.2.3 求三重积分函数 tplquad\n",
    "\n",
    "\n",
    "- 函数原型\n",
    "\n",
    "```python\n",
    "scipy.integrate.tplquad(func, a, b, gfun, hfun, qfun, rfun, args=(), epsabs=1.49e-08, epsrel=1.49e-08）\n",
    "```\n",
    "\n",
    "- 主要参数\n",
    "    - 被积函数: func(z, y, x) 返回浮点数的可回调函数 (自变量顺序 z, y, x)\n",
    "    - 外层区间: 积分变量 x 的界限，a < b \n",
    "    - y 的下限：gfun(x) 可回调函数\n",
    "    - y 的上限：hfun(x) 可回调函数\n",
    "    - z 的下限：qfun(x,y) 可回调函数\n",
    "    - z 的上限：rfun(x,y) 可回调函数\n",
    "    - 积分参数：args 元组（可选）\n",
    "\n",
    "\n",
    "- 返回值\n",
    "    - y：积分结果\n",
    "    - abs_err：绝对误差估计值\n",
    "\n",
    "\n",
    "- 积分式\n",
    "\n",
    "$$\\int^b_a dx \\int^{h(x)}_{g(x)} \\,dy \\int^{r(x,y)}_{q(x,y)}f(x,y,z)\\,dz$$"
   ]
  },
  {
   "cell_type": "markdown",
   "metadata": {},
   "source": [
    "#### 示例 7 —— 求三重积分\n",
    "\n",
    "$$\\int^2_1 dx \\int^{3}_{2} \\,dy \\int^{1}_{0}xyz\\,dz = \\dfrac{\\left(2^2-1^2\\right)}{2}\\dfrac{\\left(3^2-2^2\\right)}{2}\\dfrac{\\left(1^2-0^2\\right)}{2}=\\dfrac{15}{8} = 1.875$$"
   ]
  },
  {
   "cell_type": "code",
   "execution_count": null,
   "metadata": {
    "scrolled": true
   },
   "outputs": [],
   "source": [
    "f = lambda z, y, x: x*y*z\n",
    "integrate.tplquad(f, 1, 2, lambda x: 2, lambda x: 3, lambda x, y: 0, lambda x, y: 1)"
   ]
  },
  {
   "cell_type": "markdown",
   "metadata": {},
   "source": [
    "<img src=\"images/chapter14/jifen03.gif\" width = 400>"
   ]
  },
  {
   "cell_type": "code",
   "execution_count": null,
   "metadata": {
    "scrolled": true
   },
   "outputs": [],
   "source": [
    "f = lambda z, y, x: x**2 +y**2 + z**2 \n",
    "\n",
    "jifen3 = integrate.tplquad(f, 2, 8, lambda x: -(2*x)**0.5, lambda x: +(2*x)**0.5, lambda y, x: -(2*y-x**2)**0.5, lambda y, x: (2*y-x**2)**0.5)\n",
    "jifen3"
   ]
  },
  {
   "cell_type": "code",
   "execution_count": null,
   "metadata": {},
   "outputs": [],
   "source": [
    "jifen3[0]/np.pi"
   ]
  },
  {
   "cell_type": "markdown",
   "metadata": {},
   "source": [
    "#### 14.5.2.4 龙贝格积分\n",
    "<a href=\"https://baike.baidu.com/item/%E9%BE%99%E8%B4%9D%E6%A0%BC%E6%B1%82%E7%A7%AF%E5%85%AC%E5%BC%8F\" title=\"百度百科\">百度百科</a> \n",
    "\n",
    "#### 函数型积分函数 romberg\n",
    "\n",
    "\n",
    "- 函数原型\n",
    "\n",
    "```python\n",
    "scipy.integrate.romberg(func, a, b, args=(), tol=1.48e-08, rtol=1.48e-08, show=False, divmax=10, vec_func=False)\n",
    "```\n",
    "\n",
    "\n",
    "- 参数\n",
    "    - 被积函数: func 返回浮点数的可回调函数\n",
    "    - 积分下限: a 浮点数 (``-np.inf``表示 $-\\infty$)\n",
    "    - 积分上限: b 浮点数 (``np.inf``表示 $\\infty$)\n",
    "    - 积分参数：args 元组（可选）\n",
    "\n",
    "\n",
    "- 返回值\n",
    "    - 积分结果 浮点数"
   ]
  },
  {
   "cell_type": "markdown",
   "metadata": {},
   "source": [
    "- 龙贝格求积公式也称为逐次分半加速法。是数值计算方法之一，用以求解数值积分。\n",
    "- 是在梯形公式、辛普森公式和柯特斯公式之间关系的基础上，构造出一种加速计算积分的方法。 "
   ]
  },
  {
   "cell_type": "markdown",
   "metadata": {},
   "source": [
    "#### 示例 8  利用龙贝格积分求区间高斯函数积分\n",
    "\n",
    "\n",
    "$$\\int^1_0 \\dfrac{1}{\\sqrt{\\pi}}e^{-x^2}\\, dx$$"
   ]
  },
  {
   "cell_type": "code",
   "execution_count": null,
   "metadata": {
    "scrolled": true
   },
   "outputs": [],
   "source": [
    "gaussian = lambda x: 1/np.sqrt(np.pi) * np.exp(-x**2)\n",
    "result = integrate.romberg(gaussian, 0, 1, show=True)"
   ]
  },
  {
   "cell_type": "code",
   "execution_count": null,
   "metadata": {},
   "outputs": [],
   "source": [
    "result"
   ]
  },
  {
   "cell_type": "code",
   "execution_count": null,
   "metadata": {
    "scrolled": true
   },
   "outputs": [],
   "source": [
    "from scipy.special import erf\n",
    "print(\"%g %g\" % (2*result, erf(1)))"
   ]
  },
  {
   "cell_type": "markdown",
   "metadata": {},
   "source": [
    "#### 14.5.2.5 多维积分函数\n",
    "- 函数原型\n",
    "\n",
    "```python\n",
    "scipy.integrate.nquad(func, ranges, args=None, opts=None, full_output=False)\n",
    "```"
   ]
  },
  {
   "cell_type": "code",
   "execution_count": null,
   "metadata": {},
   "outputs": [],
   "source": [
    "from scipy import integrate\n",
    "func = lambda x0,x1,x2,x3 : x0**2 + x1*x2 - x3**3 + np.sin(x0) + (1 if (x0-.2*x3-.5-.25*x1>0) else 0)\n",
    "points = [[lambda x1,x2,x3 : 0.2*x3 + 0.5 + 0.25*x1], [], [], []]\n",
    "def opts0(*args, **kwargs):\n",
    "    return {'points':[0.2*args[2] + 0.5 + 0.25*args[0]]}\n",
    "integrate.nquad(func, [[0,1], [-1,1], [.13,.8], [-.15,1]],\n",
    "                opts=[opts0,{},{},{}], full_output=True)"
   ]
  },
  {
   "cell_type": "markdown",
   "metadata": {},
   "source": [
    "### <font size=4.5><span id=\"14.5.3\"> 14.5.3 数组型积分函数</span></font>"
   ]
  },
  {
   "cell_type": "markdown",
   "metadata": {},
   "source": [
    "#### 14.5.3.1 数组型积分函数 romb\n",
    "\n",
    "\n",
    "- 函数原型\n",
    "\n",
    "```python\n",
    "scipy.integrate.romb(y, dx=1.0, axis=-1, show=False)\n",
    "```\n",
    "\n",
    "\n",
    "- 主要参数\n",
    "    - y    函数值数组\n",
    "    - dx   积分步长，缺省值 1\n",
    "\n",
    "\n",
    "- 返回值\n",
    "    - 积分结果数组"
   ]
  },
  {
   "cell_type": "markdown",
   "metadata": {},
   "source": [
    "#### 14.5.3.2 梯形积分函数原型\n",
    "\n",
    "```python\n",
    "scipy.integrate.trapz(y, x=None, dx=1.0, axis=-1)\n",
    "```"
   ]
  },
  {
   "cell_type": "code",
   "execution_count": 40,
   "metadata": {},
   "outputs": [
    {
     "data": {
      "text/plain": [
       "4.0"
      ]
     },
     "execution_count": 40,
     "metadata": {},
     "output_type": "execute_result"
    }
   ],
   "source": [
    "import numpy as np\n",
    "np.trapz([1, 2, 3],dx=1.0)"
   ]
  },
  {
   "cell_type": "code",
   "execution_count": 41,
   "metadata": {},
   "outputs": [
    {
     "data": {
      "text/plain": [
       "8.0"
      ]
     },
     "execution_count": 41,
     "metadata": {},
     "output_type": "execute_result"
    }
   ],
   "source": [
    "np.trapz([1, 2, 3], [4, 6, 8])"
   ]
  },
  {
   "cell_type": "code",
   "execution_count": null,
   "metadata": {},
   "outputs": [],
   "source": [
    "a = np.arange(6).reshape(2, 3)\n",
    "print(a)\n",
    "np.trapz(a, axis=0) #3个积分\n"
   ]
  },
  {
   "cell_type": "code",
   "execution_count": null,
   "metadata": {},
   "outputs": [],
   "source": [
    "n2s = 0.05\n",
    "dtime = 0.01\n",
    "timex = np.arange(0,100) * dtime\n",
    "y = np.sin(timex*2*np.pi) + np.random.normal(0,1,timex.shape)*n2s\n",
    "import matplotlib.pyplot as plt\n",
    "plt.figure\n",
    "plt.plot(timex, y, timex, np.sin(timex*2*np.pi))\n",
    "np.trapz(y, axis=0) * dtime #积分"
   ]
  },
  {
   "cell_type": "markdown",
   "metadata": {},
   "source": [
    "#### 14.5.3.3 辛普森积分函数原型 \n",
    "\n",
    "```python\n",
    "scipy.integrate.simps(y, x=None, dx=1, axis=-1, even='avg')\n",
    "```\n",
    "<img src=\"images/chapter14/simps.gif\"  width =250>"
   ]
  },
  {
   "cell_type": "code",
   "execution_count": null,
   "metadata": {},
   "outputs": [],
   "source": [
    "import numpy as np\n",
    "from scipy.integrate import simps,trapz\n",
    "\n",
    "a = np.random.random(10)\n",
    "b = np.random.uniform(0, 10, 10)\n",
    "c = np.random.normal(2, .8, 10)\n",
    "x = np.linspace(0, 1, 10)\n",
    "dx = x[1] - x[0]\n",
    "\n",
    "plt.figure\n",
    "plt.plot(x,c)\n",
    "#plt.plot(c,b*a)\n",
    "#plt.plot(b*c,a)\n",
    "#plt.plot(c*b,a)\n",
    "simps(c,x),trapz(c,x)\n",
    "\n",
    "#print('Is the integral of a * b * dx is ', simps(a * b, c, dx),\n",
    "#      ', ', simps(b * a, c, dx), ',', simps(a, b * c, dx), ', ',\n",
    "#      simps(a, c * b, dx), ', or something else?')"
   ]
  },
  {
   "cell_type": "markdown",
   "metadata": {},
   "source": [
    "### <font size=4.5><span id=\"14.5.4\"> 14.5.4 求 ODEs (Ordinary Differential Equations)的初值问题</span></font> "
   ]
  },
  {
   "cell_type": "markdown",
   "metadata": {},
   "source": [
    "#### 14.5.4.1 ODEs 初值问题\n",
    "\n",
    "\n",
    "- 方程与初始条件\n",
    "\n",
    "$$\n",
    "\\left\\{\n",
    "\\begin{array}{rcl}\n",
    "\\dfrac{dy}{dt} & = & f(t,y)\\\\\n",
    "y(t_0) & = & y_0\n",
    "\\end{array}\n",
    "\\right.\n",
    "$$\n",
    "\n",
    "\n",
    "- 变量说明\n",
    "    - t 标量型自变量\n",
    "    - y 数组型因变量（待求）"
   ]
  },
  {
   "cell_type": "markdown",
   "metadata": {},
   "source": [
    "#### 14.5.4.2 通用数值求解函数 solve_ivp\n",
    "\n",
    "\n",
    "- 函数原型\n",
    "\n",
    "```python\n",
    "scipy.integrate.solve_ivp(fun, t_span, y0, method='RK45', t_eval=None, dense_output=False, events=None, vectorized=False, **options)\n",
    "```\n",
    "\n",
    "\n",
    "- 主要参数\n",
    "    - 右端项: fun(t, y) 返回浮点数的可回调函数 (注意变量顺序 t, y)\n",
    "    - 积分区间：t_span = ($t_0$, $t_f$)，自 $t_0$ 始，至 $t_f$ 止\n",
    "    - 初始状态：y0（数组）\n",
    "    - 求解器：method，缺省为 \"RK45\" 5(4) 阶龙格库塔法\n",
    "\n",
    "\n",
    "- 返回值\n",
    "    - t：时间数组，维度(n_points,)\n",
    "    - y：对应时点的解数组，维度(n, n_points)"
   ]
  },
  {
   "cell_type": "markdown",
   "metadata": {},
   "source": [
    "#### 示例 1 —— 指数衰减问题\n",
    "\n",
    "- 方程及初始条件\n",
    "\n",
    "$$\\left\\{\n",
    "\\begin{array}{l}\n",
    "\\dfrac{dy_1}{dt} = -0.5y_1,\\quad y_1(0) = 2\\\\\n",
    "\\dfrac{dy_2}{dt} = -0.8y_2,\\quad y_2(0) = 4\\\\\n",
    "\\dfrac{dy_3}{dt} = -1.2y_3,\\quad y_3(0) = 8\n",
    "\\end{array}\n",
    "\\right.\n",
    "$$\n",
    "\n",
    "- 解析解（用于检验）\n",
    "\n",
    "$$\\left\\{\n",
    "\\begin{array}{l}\n",
    "y_1(t) = 2\\,e^{-0.5t}\\\\\n",
    "y_2(t) = 4\\,e^{-0.8t}\\\\\n",
    "y_3(t) = 8\\,e^{-1.2t}\n",
    "\\end{array}\n",
    "\\right.\n",
    "$$\n"
   ]
  },
  {
   "cell_type": "code",
   "execution_count": null,
   "metadata": {},
   "outputs": [],
   "source": [
    "import numpy as np\n",
    "import matplotlib as mpl\n",
    "import matplotlib.pyplot as plt\n",
    "import scipy as sp\n",
    "from scipy import integrate"
   ]
  },
  {
   "cell_type": "code",
   "execution_count": null,
   "metadata": {
    "scrolled": true
   },
   "outputs": [],
   "source": [
    "c = np.array([-0.5, -0.8, -1.2])\n",
    "y0 = np.array([2, 4, 8])\n",
    "\n",
    "def exponential_decay(t, y):\n",
    "    return c * y\n",
    "\n",
    "sol = sp.integrate.solve_ivp(exponential_decay, [0, 10], y0) \n",
    "#参数意义"
   ]
  },
  {
   "cell_type": "code",
   "execution_count": null,
   "metadata": {},
   "outputs": [],
   "source": [
    "dir(sol)"
   ]
  },
  {
   "cell_type": "code",
   "execution_count": null,
   "metadata": {},
   "outputs": [],
   "source": [
    "sol.t.shape, sol.y.shape"
   ]
  },
  {
   "cell_type": "code",
   "execution_count": null,
   "metadata": {
    "scrolled": true
   },
   "outputs": [],
   "source": [
    "sol.t, sol.y"
   ]
  },
  {
   "cell_type": "code",
   "execution_count": null,
   "metadata": {
    "scrolled": true
   },
   "outputs": [],
   "source": [
    "plt.plot(sol.t, sol.y[0], \"*b\", sol.t, 2*np.exp(-0.5*sol.t), \"-b\", label=\"y_1\")\n",
    "plt.plot(sol.t, sol.y[1], \"*r\", sol.t, 4*np.exp(-0.8*sol.t), \"-r\", label=\"y_2\")\n",
    "plt.plot(sol.t, sol.y[2], \"*g\", sol.t, 8*np.exp(-1.2*sol.t), \"-g\", label=\"y_3\")\n",
    "\n",
    "plt.legend()\n",
    "plt.xlabel(\"t\")\n",
    "plt.ylabel(\"y\")\n",
    "plt.title(\"Solve exponential decay problems,\")"
   ]
  },
  {
   "cell_type": "markdown",
   "metadata": {},
   "source": [
    "#### 示例 2 —— 单自由度质点振动问题\n",
    "\n",
    "<img src=\"images/chapter14/ode01.gif\" width =350>\n",
    "- 方程 (未知函数 $z$，自变量 $t$)\n",
    "\n",
    "$$m\\dfrac{d^2 z}{dt^2} + c\\dfrac{dz}{dt} + k z = f(t)$$\n",
    "\n",
    "\n",
    "- 右端项\n",
    "\n",
    "$$f(t) = \\sin(\\omega_0 t+\\phi)$$\n",
    "\n",
    "\n",
    "- 初始条件\n",
    "\n",
    "$$\n",
    "\\left\\{\n",
    "\\begin{array}{l}\n",
    "z(t_0)=z_0\\\\\n",
    "\\dfrac{dz}{dt}(t_0) = v_0\n",
    "\\end{array}\n",
    "\\right.\n",
    "$$\n",
    "\n",
    "\n",
    "若记\n",
    "\n",
    "$$\\omega^2_n=\\dfrac{k}{m},\\quad \\zeta=\\dfrac{c}{2\\omega_n m}$$\n",
    "\n",
    "\n",
    "方程也可表示为\n",
    "\n",
    "$$\\dfrac{d^2 z}{dt^2} + 2\\zeta\\omega_n\\dfrac{dz}{dt} + \\omega^2_n z = \\dfrac{f(t)}{m}$$"
   ]
  },
  {
   "cell_type": "markdown",
   "metadata": {},
   "source": [
    "- 方程的解为（用于检验）\n",
    "\n",
    "$$z(t)=Ae^{-\\zeta\\omega_n t}\\cos(\\omega_d t-\\phi_0)$$\n",
    "\n",
    "其中\n",
    "\n",
    "$$\n",
    "\\left\\{\n",
    "\\begin{array}{c}\n",
    "\\omega_d=\\omega_n\\sqrt{1-\\zeta^2}\\\\\n",
    "A=\\sqrt{z^2_0+\\dfrac{\\left(v_0+\\zeta\\omega_n z_0\\right)^2}{\\omega^2_d}}\\\\\n",
    "\\phi_0=\\arctan\\dfrac{v_0+\\zeta\\omega_n z_0}{z_0\\omega_d}\n",
    "\\end{array}\n",
    "\\right.\n",
    "$$"
   ]
  },
  {
   "cell_type": "markdown",
   "metadata": {},
   "source": [
    "#### 以下采用 scipy.integrate 子模块中的函数求解"
   ]
  },
  {
   "cell_type": "markdown",
   "metadata": {},
   "source": [
    "- 化为一阶方程组及对应的初始条件\n",
    "\n",
    "$$\n",
    "\\dfrac{d}{dt}\\left[\n",
    "\\begin{array}{l}\n",
    "y_0\\\\\n",
    "y_1\n",
    "\\end{array}\n",
    "\\right]\n",
    "=\n",
    "\\left[\n",
    "\\begin{array}{l}\n",
    "y_1\\\\\n",
    "f-\\omega^2_ny_0-2\\zeta\\omega_ny_1\n",
    "\\end{array}\n",
    "\\right]\n",
    ",\\qquad\n",
    "\\left[\n",
    "\\begin{array}{c}\n",
    "y_0(0) = z_0\\\\\n",
    "y_1(0) = v_0\n",
    "\\end{array}\n",
    "\\right]\n",
    "$$\n",
    "\n",
    "\n",
    "这里，$y_0 = z,\\quad y_1 = \\dfrac{dz}{dt}$。"
   ]
  },
  {
   "cell_type": "markdown",
   "metadata": {},
   "source": [
    "#### 以下是求解代码"
   ]
  },
  {
   "cell_type": "code",
   "execution_count": null,
   "metadata": {
    "run_control": {
     "frozen": false,
     "read_only": false
    },
    "scrolled": true
   },
   "outputs": [],
   "source": [
    "m, c, k = 0.5, 0.2, 8             # 质量、阻尼、刚度\n",
    "z0, v0 = 4, 0                     # 初位移、初速度\n",
    "t0, t1 = 0, 10                    # 初始时间、结束时间\n",
    "\n",
    "w0, phi = 10, 0                   # 右端荷载频率、相位\n",
    "\n",
    "f = lambda t: np.sin(w0*t+phi)    # 右端荷载 wo=k/m\n",
    "\n",
    "def dydt(t,y):   #定义方程组\n",
    "    return (y[1], f(t)-k/m*y[0]-c/m*y[1])\n",
    "\n",
    "y0 = [z0, v0]\n",
    "t_range = [t0, t1]\n",
    "t_eval = np.linspace(t0, t1, 100)\n",
    "sol = sp.integrate.solve_ivp(dydt, t_range, y0, t_eval=t_eval)"
   ]
  },
  {
   "cell_type": "markdown",
   "metadata": {},
   "source": [
    "#### 精确解"
   ]
  },
  {
   "cell_type": "code",
   "execution_count": null,
   "metadata": {
    "scrolled": true
   },
   "outputs": [],
   "source": [
    "omg_n = np.sqrt(k/m)\n",
    "zeta  = c/(2*omg_n*m)\n",
    "\n",
    "omg_d = omg_n*np.sqrt(1-zeta**2)\n",
    "A = np.sqrt(z0**2+(v0+zeta*omg_n*z0)**2/omg_d**2)\n",
    "phi0 = np.arctan((v0+zeta*omg_n*z0)/(z0*omg_d))\n",
    "\n",
    "def sol_fun_z(t):\n",
    "    return A*np.exp(-zeta*omg_n*t)*np.cos(omg_d*t-phi0)"
   ]
  },
  {
   "cell_type": "code",
   "execution_count": null,
   "metadata": {
    "scrolled": true
   },
   "outputs": [],
   "source": [
    "t = sol.t\n",
    "appro_z = sol.y[0]\n",
    "exact_z = sol_fun_z(t)\n",
    "\n",
    "plt.plot(t, appro_z, \"*r\", label=r\"approxi\")\n",
    "plt.plot(t, exact_z, \"-g\", label=r\"precise\")\n",
    "\n",
    "plt.legend()\n",
    "plt.xlabel(\"$t (sec)$\")\n",
    "plt.ylabel(\"z(t)\")\n",
    "plt.title(r\"vibration of SDOF\")"
   ]
  },
  {
   "cell_type": "code",
   "execution_count": null,
   "metadata": {
    "run_control": {
     "frozen": false,
     "read_only": false
    },
    "scrolled": true
   },
   "outputs": [],
   "source": [
    "m, c, k = 0.5, 0.2, 8             # 质量、阻尼、刚度\n",
    "z0, v0 = 0.005, 0                     # 初位移、初速度  均为0\n",
    "t0, t1 = 0, 10                    # 初始时间、结束时间\n",
    "\n",
    "w0, phi = 10, 0                   # 右端荷载频率、相位\n",
    "f = lambda t: np.random.randn()    # 右端随机荷载\n",
    "\n",
    "def dydt(t,y):\n",
    "    return (y[1], f(t)-k/m*y[0]-c/m*y[1])\n",
    "\n",
    "y0 = [z0, v0]\n",
    "t_range = [t0, t1]\n",
    "t_eval = np.linspace(t0, t1, 500)  #500\n",
    "sol = sp.integrate.solve_ivp(dydt, t_range, y0, t_eval=t_eval)"
   ]
  },
  {
   "cell_type": "code",
   "execution_count": null,
   "metadata": {},
   "outputs": [],
   "source": [
    "t = sol.t\n",
    "appro_z = sol.y[0]\n",
    "plt.plot(t, appro_z, \"*r\", label=r\"random vibration\")\n",
    "plt.legend()\n",
    "plt.xlabel(\"$t (sec)$\")\n",
    "plt.ylabel(\"z(t)\")\n",
    "plt.title(r\"vibration of SDOF\")"
   ]
  },
  {
   "cell_type": "markdown",
   "metadata": {},
   "source": [
    "#### 示例 3 —— 数学建模中的应用"
   ]
  },
  {
   "cell_type": "markdown",
   "metadata": {},
   "source": [
    "#### 洛特卡－沃尔泰拉方程（Lotka-Volterra equation）求解\n",
    "\n",
    "- 别称掠食者—猎物方程\n",
    "- 阿弗雷德·洛特卡（1925年）与维多·沃尔泰拉（1926年）分别独立发表\n",
    "- 描述生物系统中，掠食者与猎物进行互动时的动态模型，也就是两者族群规模的消长"
   ]
  },
  {
   "cell_type": "markdown",
   "metadata": {},
   "source": [
    "#### 方程形式\n",
    "\n",
    "$$\n",
    "\\left\\{\n",
    "\\begin{array}{lcr}\n",
    "\\,\\,\\dfrac{dx}{dt} & = & x(\\alpha-\\beta y)\\\\\n",
    "\\,\\,\\dfrac{dy}{dt} & = & -y(\\gamma-\\delta x)\n",
    "\\end{array}\n",
    "\\right.\n",
    "$$\n",
    "\n",
    "- $x$ 是猎物数量（如兔子）\n",
    "- $y$ 是掠食者数量（如狼）\n",
    "- $t$ 是时间\n",
    "- $\\alpha$、$\\beta$、$\\gamma$ 和 $\\delta$ 为与动物有关的系数，均为正"
   ]
  },
  {
   "cell_type": "markdown",
   "metadata": {},
   "source": [
    "#### 猎物方程的意义\n",
    "\n",
    "$$\\dfrac{dx}{dt} = \\alpha x -\\beta xy$$\n",
    "\n",
    "- 足够丰富的食物，如果没有掠食者，猎物的数量将以指数方式增长\n",
    "- 当掠食者出现时，猎物遭遇捕食的比例，和猎物遭遇掠食者的机会成常数比"
   ]
  },
  {
   "cell_type": "markdown",
   "metadata": {},
   "source": [
    "#### 掠食者方程的意义\n",
    "\n",
    "$$\\dfrac{dy}{dt} = \\delta xy -\\gamma y$$\n",
    "\n",
    "- 掠食者的增长率，和猎物遭遇掠食者的机会成正比\n",
    "- 如果没有猎物，掠食者的数量将以指数方式衰减"
   ]
  },
  {
   "cell_type": "code",
   "execution_count": null,
   "metadata": {
    "scrolled": true
   },
   "outputs": [],
   "source": [
    "# 参数\n",
    "\n",
    "alpha = 0.2\n",
    "beta  = 0.05\n",
    "delta = 0.01\n",
    "gamma = 0.1"
   ]
  },
  {
   "cell_type": "markdown",
   "metadata": {},
   "source": [
    "####  记 $u = [x, y]$"
   ]
  },
  {
   "cell_type": "code",
   "execution_count": null,
   "metadata": {
    "scrolled": true
   },
   "outputs": [],
   "source": [
    "def dudt(t,u):\n",
    "    return (alpha*u[0]-beta*u[0]*u[1], delta*u[0]*u[1]-gamma*u[1])\n",
    "\n",
    "x_init = 40   # 猎物初始数量\n",
    "y_init = 20   # 掠食者初始数量\n",
    "u0 = [x_init, y_init]\n",
    "\n",
    "t0, t1 = 0, 300 # 百年变迁\n",
    "\n",
    "t_range = [t0, t1]\n",
    "t_eval  = np.linspace(t0, t1, 200)\n",
    "\n",
    "sol = integrate.solve_ivp(dudt, t_range, u0, t_eval=t_eval)"
   ]
  },
  {
   "cell_type": "code",
   "execution_count": null,
   "metadata": {
    "scrolled": true
   },
   "outputs": [],
   "source": [
    "t = sol.t\n",
    "x_sol = sol.y[0]\n",
    "y_sol = sol.y[1]\n",
    "\n",
    "plt.plot(t, x_sol, \"-b\", label=r\"猎物数量\")\n",
    "plt.plot(t, y_sol, \"-r\", label=r\"掠食者数量\")\n",
    "\n",
    "plt.legend()\n",
    "plt.xlabel(\"Year\")\n",
    "plt.title(r\"洛特卡－沃尔泰拉方程求解\")"
   ]
  },
  {
   "cell_type": "markdown",
   "metadata": {},
   "source": [
    "#### 结论\n",
    "\n",
    "- 猎物的数量增加，会引起掠食者数量增加\n",
    "- 两者数量的增长衰减并不是同期的\n",
    "- 掠食者数量最大的时候，猎物数量不是最小，但是对猎物数量抑制程度最大\n",
    "- 猎物数量最小的时候，掠食者数量也急剧下降"
   ]
  },
  {
   "cell_type": "markdown",
   "metadata": {},
   "source": [
    "#### 14.5.4.3 显式龙格库塔法求解函数 RK23、RK45 简介\n",
    "\n",
    "\n",
    "- 函数原型\n",
    "\n",
    "```python\n",
    "scipy.integrate.RK23(fun, t0, y0, t_bound, max_step=inf, rtol=0.001, atol=1e-06, vectorized=False, **extraneous)\n",
    "scipy.integrate.RK45(fun, t0, y0, t_bound, max_step=inf, rtol=0.001, atol=1e-06, vectorized=False, **extraneous)\n",
    "```\n",
    "\n",
    "\n",
    "- 主要参数\n",
    "    - 右端项: fun(t, y) 返回浮点数的可回调函数 (注意变量顺序 t, y)\n",
    "    - 初始时间：t0\n",
    "    - 初始状态：y0（数组）\n",
    "    - 时间边界：t_bound（确定积分方向）\n",
    "    - 最大步长：max_step\n",
    "\n",
    "\n",
    "- 返回值\n",
    "    - t：时间数组，维度(n_points,)\n",
    "    - y：对应时点的解数组，维度(n, n_points)"
   ]
  },
  {
   "cell_type": "markdown",
   "metadata": {},
   "source": [
    "#### 14.5.4.4 更早的求解函数（自学）\n",
    "\n",
    "- odeint(func, y0, t[, args, Dfun, col_deriv, ...])\n",
    "- ode(f[, jac])\n",
    "- complex_ode(f[, jac])"
   ]
  },
  {
   "cell_type": "markdown",
   "metadata": {},
   "source": [
    "上述接口基于 Fortran 程序包较早实现，与新函数相比，它们的\n",
    "\n",
    "- 缺点：\n",
    "    - 易用性不够\n",
    "    - 其它一些缺失\n",
    "    \n",
    "- 优点：\n",
    "    - 快速（Fortran 代码编译）\n",
    "    - 代码质量高"
   ]
  },
  {
   "cell_type": "markdown",
   "metadata": {},
   "source": [
    "#### 14.5.4.5 ODEs 边值问题\n",
    "\n",
    "\n",
    "- 方程与边界条件\n",
    "\n",
    "$$\n",
    "\\newcommand{\\bc}{\\mathrm{bc}}\n",
    "\\left\\{\n",
    "\\begin{array}{ll}\n",
    "\\dfrac{dy}{dx} = f(x, y, p) + \\dfrac{S \\cdot y}{x-a}, & a\\le x \\le b\\\\\n",
    "\\bc(y(a), y(b), p) = 0 &\n",
    "\\end{array}\n",
    "\\right.\n",
    "$$\n",
    "\n",
    "\n",
    "- 变量说明\n",
    "    - $x$ 为标量型自变量\n",
    "    - $y$ 为 $n$ 维矢量函数\n",
    "    - $p$ 为 $k$ 维未知参数向量\n",
    "\n",
    "\n",
    "- 完全确定解答需要 $n+k$ 个边界条件，即 $\\bc$ 必须是 $n+k$ 维函数\n",
    "\n",
    "\n",
    "- 右端奇异项是可选的，其中 $S$ 是 $n\\times n$ 矩阵\n",
    "\n",
    "\n",
    "- 解必须满足 $S\\cdot y(a) = 0$，才不与边界条件矛盾\n",
    "\n",
    "\n",
    "- 上述边值问题也可定义在复域中"
   ]
  },
  {
   "cell_type": "markdown",
   "metadata": {},
   "source": [
    "#### 求解边值问题函数\n",
    "\n",
    "- 调用 solve_bvp"
   ]
  },
  {
   "cell_type": "markdown",
   "metadata": {},
   "source": [
    "- 函数原型\n",
    "<font color=\"blue\">scipy.integrate.solve_bvp(fun, bc, x, y, p=None, S=None, fun_jac=None, bc_jac=None, tol=0.001, max_nodes=1000, verbose=0)</font>\n",
    "\n",
    "\n",
    "- 主要参数\n",
    "    - 右端项: fun(x, y) 或含参数时的 fun(x, y, p)，返回浮点数的可回调函数 (注意变量顺序)\n",
    "    - 边界条件：bc(ya, yb) 或含参数时的 bc(ya, yb, p)，返回值是 $n$ 或含参时的 $n+k$ 维矢量残量\n",
    "    - x：数组，维度(m,)\n",
    "    - y：数组，维度(n, m)\n",
    "    - p：数组，维度(k,)，参数\n",
    "    - S：二维数组，维度(n, n) 或 None\n",
    "\n",
    "\n",
    "- 返回值\n",
    "    - sol：未知函数解，scipy.interpolate.PPoly 实例\n",
    "    - p：数组或 None，维度(k,)\n",
    "    - x：最后结点\n",
    "    - y：网格结点\n",
    "    - yp：数组，维度(n,m)，解函数的导数"
   ]
  },
  {
   "cell_type": "markdown",
   "metadata": {},
   "source": [
    "#### 示例 1 —— 求解 Bratu 方程\n",
    "\n",
    "\n",
    "$$\\left\\{\n",
    "\\begin{array}{ll}\n",
    "u\"+\\,\\,ke^u=0, & 0\\le x\\le 1\\\\\n",
    "u(0)=u(1)=0 &\n",
    "\\end{array}\n",
    "\\right.\n",
    "$$\n",
    "\n",
    "取参数 $k=1$，并记\n",
    "\n",
    "$$\n",
    "\\left\\{\n",
    "\\begin{array}{l}\n",
    "y[0] = u\\\\\n",
    "y[1] = u\\,'\n",
    "\\end{array}\n",
    "\\right.\n",
    "$$\n",
    "\n",
    "于是方程化为一阶形式\n",
    "\n",
    "$$\n",
    "\\left[\n",
    "\\begin{array}{c}\n",
    "y[0]\\\\\n",
    "y[1]\n",
    "\\end{array}\n",
    "\\right]'=\n",
    "\\left[\n",
    "\\begin{array}{c}\n",
    "y[1]\\\\\n",
    "-e^{y[0]}\n",
    "\\end{array}\n",
    "\\right]\n",
    "$$\n",
    "\n",
    "边界条件化为\n",
    "\n",
    "$$y[0]_{x=0}=0, y[0]_{x=1}=0$$"
   ]
  },
  {
   "cell_type": "markdown",
   "metadata": {},
   "source": [
    "#### 定义方程右端项"
   ]
  },
  {
   "cell_type": "code",
   "execution_count": null,
   "metadata": {
    "scrolled": true
   },
   "outputs": [],
   "source": [
    "def fun(x, y):\n",
    "    return np.vstack((y[1], -np.exp(y[0])))"
   ]
  },
  {
   "cell_type": "markdown",
   "metadata": {},
   "source": [
    "#### 定义边界条件残差"
   ]
  },
  {
   "cell_type": "code",
   "execution_count": null,
   "metadata": {
    "scrolled": true
   },
   "outputs": [],
   "source": [
    "def bc(ya, yb):\n",
    "    return np.array([ya[0], yb[0]])"
   ]
  },
  {
   "cell_type": "code",
   "execution_count": null,
   "metadata": {},
   "outputs": [],
   "source": [
    "x = np.linspace(0, 1, 50)\n",
    "y_1 = np.zeros((2, x.size))\n",
    "y_2 = np.zeros((2, x.size))\n",
    "y_2[0] = 3"
   ]
  },
  {
   "cell_type": "code",
   "execution_count": null,
   "metadata": {},
   "outputs": [],
   "source": [
    "y_2"
   ]
  },
  {
   "cell_type": "code",
   "execution_count": null,
   "metadata": {
    "scrolled": true
   },
   "outputs": [],
   "source": [
    "res_1 = sp.integrate.solve_bvp(fun, bc, x, y_1)\n",
    "res_2 = sp.integrate.solve_bvp(fun, bc, x, y_2)"
   ]
  },
  {
   "cell_type": "code",
   "execution_count": null,
   "metadata": {
    "scrolled": true
   },
   "outputs": [],
   "source": [
    "x_plot   = np.linspace(0,1,100)\n",
    "y_plot_1 = res_1.sol(x_plot)[0]\n",
    "y_plot_2 = res_2.sol(x_plot)[0]\n",
    "\n",
    "plt.plot(x_plot, y_plot_1, label='sol_1')\n",
    "plt.plot(x_plot, y_plot_2, label='sol_2')\n",
    "\n",
    "plt.legend()\n",
    "plt.xlabel(\"x\")\n",
    "plt.ylabel(\"y\")"
   ]
  },
  {
   "cell_type": "markdown",
   "metadata": {},
   "source": [
    "#### 小结\n",
    "\n",
    "- 两个解的形状相似\n",
    "- 数值相差较大"
   ]
  },
  {
   "cell_type": "markdown",
   "metadata": {},
   "source": [
    "#### 14.5.4.6 二阶线性常微分方程的边值问题\n",
    "\n",
    "- 方程和边界条件\n",
    "\n",
    "$$\n",
    "\\left\\{\n",
    "\\begin{array}{l}\n",
    "y\\,''+p(x)y\\,'+q(x)y = f(x)\\\\\n",
    "y(a)=y_a, y(b)=y_b\n",
    "\\end{array}\n",
    "\\right.\n",
    "$$"
   ]
  },
  {
   "cell_type": "markdown",
   "metadata": {},
   "source": [
    "#### 解法一 —— 分解原方程\n",
    "\n",
    "\n",
    "- 转化为求解以下两个方程 $\\cdots$"
   ]
  },
  {
   "cell_type": "markdown",
   "metadata": {},
   "source": [
    "(1) 方程一\n",
    "\n",
    "$$\n",
    "\\left\\{\n",
    "\\begin{array}{l}\n",
    "y_1''+p(x)y_1'+q(x)y_1 = f(x)\\\\\n",
    "y_1(a)=y_a\\\\\n",
    "y_1'(a) = 0\n",
    "\\end{array}\n",
    "\\right.\n",
    "$$\n",
    "\n",
    "设其解为 $y_1(x)$"
   ]
  },
  {
   "cell_type": "markdown",
   "metadata": {},
   "source": [
    "(2) 方程二\n",
    "\n",
    "$$\n",
    "\\left\\{\n",
    "\\begin{array}{l}\n",
    "y_2''+p(x)y_2'+q(x)y_2 = 0\\\\\n",
    "y_2(a)=0\\\\\n",
    "y_2'(a) = 1\n",
    "\\end{array}\n",
    "\\right.\n",
    "$$\n",
    "\n",
    "设其解为 $y_2(x)$"
   ]
  },
  {
   "cell_type": "markdown",
   "metadata": {},
   "source": [
    "#### 则原方程的解，可表为\n",
    "\n",
    "$$y(x) = y_1(x) + \\dfrac{y_b - y_1(b)}{y_2(b)}y_2(x)$$\n",
    "\n",
    "\n",
    "- $y_1(x)$ 是齐次方程的通解\n",
    "- $y_2(x)$ 是非齐次方程的一个特解\n",
    "\n",
    "\n",
    "不难验证，上述 $y(x)$ 为边值问题的解"
   ]
  },
  {
   "cell_type": "markdown",
   "metadata": {},
   "source": [
    "#### 解法二 —— 打靶法\n",
    "\n",
    "\n",
    "- 方程表示为更一般的情形\n",
    "\n",
    "$$y'' = f(x, y, y'),\\quad a \\le x \\le b$$\n",
    "\n",
    "\n",
    "- 边界条件\n",
    "\n",
    "$$y(a) = \\alpha, \\quad y(b) = \\beta$$\n",
    "\n",
    "\n",
    "- 打靶法简介\n",
    "\n",
    "记 $[u_0, u_1]=[y, y']$，方程变为\n",
    "\n",
    "$$\n",
    "\\dfrac{d}{dx}\n",
    "\\left[\n",
    "\\begin{array}{c}\n",
    "u_0\\\\\n",
    "u_1\n",
    "\\end{array}\n",
    "\\right]\n",
    "=\n",
    "\\left[\n",
    "\\begin{array}{c}\n",
    "u_1\\\\\n",
    "f(x,u0,u1)\n",
    "\\end{array}\n",
    "\\right]\n",
    "$$\n",
    "\n",
    "\n",
    "- 取试探值 $u_1(a)=p$，相当于边界条件为\n",
    "\n",
    "$$u_0(a) = \\alpha, \\quad u_1(a) = p$$\n",
    "\n",
    "\n",
    "- 求得试探解后，根据 $u_0(b)-\\beta$ 来调整 $p$， 直到 $u_0(b)-\\beta \\to 0$"
   ]
  },
  {
   "cell_type": "markdown",
   "metadata": {},
   "source": [
    "#### 示例 1 —— 求解方程\n",
    "\n",
    "\n",
    "- 方程\n",
    "\n",
    "$$\\dfrac{d^2y}{dx^2} + y = x,\\quad 0\\le x\\le 1$$\n",
    "\n",
    "\n",
    "- 边界条件\n",
    "\n",
    "$$y(0) = 0, \\quad y(1) = 2$$\n",
    "\n",
    "\n",
    "- 精确解\n",
    "\n",
    "$$y=\\dfrac{\\sin x}{\\sin 1}+x$$"
   ]
  },
  {
   "cell_type": "markdown",
   "metadata": {},
   "source": [
    "#### 方法一"
   ]
  },
  {
   "cell_type": "markdown",
   "metadata": {},
   "source": [
    "- (1) 求解\n",
    "\n",
    "$$\n",
    "\\left\\{\n",
    "\\begin{array}{l}\n",
    "y_1''+ y_1 = x\\\\\n",
    "y_1(0)=\\alpha=0\\\\\n",
    "y_1'(0) = 0\n",
    "\\end{array}\n",
    "\\right.\n",
    "$$"
   ]
  },
  {
   "cell_type": "code",
   "execution_count": null,
   "metadata": {
    "run_control": {
     "frozen": false,
     "read_only": false
    },
    "scrolled": true
   },
   "outputs": [],
   "source": [
    "y1_0, y1p_0 = 0, 0                   # 解函数及其一阶导数\n",
    "x0, x1      = 0, 1                   # 自变量域\n",
    "\n",
    "def dy1dx(x,y1):\n",
    "    return (y1[1], x-y1[0])\n",
    "\n",
    "y10 = [y1_0, y1p_0]\n",
    "x_range = [x0, x1]\n",
    "x_eval = np.linspace(x0, x1, 100)\n",
    "sol1 = sp.integrate.solve_ivp(dy1dx, x_range, y10, t_eval=x_eval)"
   ]
  },
  {
   "cell_type": "markdown",
   "metadata": {},
   "source": [
    "- (2) 求解\n",
    "\n",
    "$$\n",
    "\\left\\{\n",
    "\\begin{array}{l}\n",
    "y_2''+y_2 = 0\\\\\n",
    "y_2(0)=0\\\\\n",
    "y_2'(0) = 1\n",
    "\\end{array}\n",
    "\\right.\n",
    "$$"
   ]
  },
  {
   "cell_type": "code",
   "execution_count": null,
   "metadata": {
    "run_control": {
     "frozen": false,
     "read_only": false
    },
    "scrolled": true
   },
   "outputs": [],
   "source": [
    "y2_0, y2p_0 = 0, 1                   # 解函数及其一阶导数\n",
    "x0, x1      = 0, 1                   # 自变量域\n",
    "\n",
    "def dy2dx(x,y2):\n",
    "    return (y2[1], -y2[0])\n",
    "\n",
    "y20 = [y2_0, y2p_0]\n",
    "x_range = [x0, x1]\n",
    "x_eval = np.linspace(x0, x1, 100)\n",
    "sol2 = sp.integrate.solve_ivp(dy2dx, x_range, y20, t_eval=x_eval)"
   ]
  },
  {
   "cell_type": "markdown",
   "metadata": {},
   "source": [
    "#### 原方程的数值解，即为\n",
    "\n",
    "\n",
    "$$y(x) = y_1(x) + \\dfrac{2 - y_1(1)}{y_2(1)}y_2(x)$$"
   ]
  },
  {
   "cell_type": "markdown",
   "metadata": {},
   "source": [
    "#### 精确解\n",
    "\n",
    "\n",
    "$$y=\\dfrac{\\sin x}{\\sin 1}+x$$"
   ]
  },
  {
   "cell_type": "code",
   "execution_count": null,
   "metadata": {},
   "outputs": [],
   "source": [
    "x = sol1.t\n",
    "y1 = sol1.y[0]\n",
    "y2 = sol2.y[0]\n",
    "approx_y  = y1 + (2-y1[-1])/y2[-1]*y2"
   ]
  },
  {
   "cell_type": "code",
   "execution_count": null,
   "metadata": {
    "scrolled": true
   },
   "outputs": [],
   "source": [
    "plt.plot(x, approx_y-2*x, \"*r\", label=r\"Approximate\")  #-2x了\n",
    "plt.plot(x, np.sin(x)/np.sin(1)+x-2*x, \"-b\", label=r\"precise\")\n",
    "\n",
    "plt.legend()\n",
    "plt.xlabel(\"$x$\")\n",
    "plt.ylabel(\"y(x)\")\n",
    "plt.title(\"approximate solution\")"
   ]
  },
  {
   "cell_type": "markdown",
   "metadata": {},
   "source": [
    "#### 方法二 —— 打靶法\n",
    "\n",
    "\n",
    "- 记 $[u_0, u_1]=[y, y']$\n",
    "\n",
    "\n",
    "- 求解方程\n",
    "\n",
    "\n",
    "$$\n",
    "\\dfrac{d}{dx}\n",
    "\\left[\n",
    "\\begin{array}{c}\n",
    "u_0\\\\\n",
    "u_1\n",
    "\\end{array}\n",
    "\\right]\n",
    "=\n",
    "\\left[\n",
    "\\begin{array}{c}\n",
    "u_1\\\\\n",
    "x-u_0\n",
    "\\end{array}\n",
    "\\right]\n",
    "$$\n",
    "\n",
    "\n",
    "- 边界条件\n",
    "\n",
    "$$u_0(0) = 0, \\quad u_1(0) = p$$\n",
    "\n",
    "\n",
    "- 初始参数\n",
    "    - 取 $p=1$.得到近似解\n",
    "    - 根据 $u_0(1)$ 的情况调整参数$p$\n",
    "    - 直到足够精度"
   ]
  },
  {
   "cell_type": "code",
   "execution_count": null,
   "metadata": {
    "scrolled": true
   },
   "outputs": [],
   "source": [
    "# 代码 略"
   ]
  },
  {
   "cell_type": "markdown",
   "metadata": {},
   "source": [
    "[返回目录](#mulu)"
   ]
  },
  {
   "cell_type": "markdown",
   "metadata": {},
   "source": [
    "## <font size=5><span id=\"14.6\"> 14.6 Fourier Transforms</span></font>\n",
    "https://docs.scipy.org/doc/scipy/reference/tutorial/fftpack.html"
   ]
  },
  {
   "cell_type": "code",
   "execution_count": null,
   "metadata": {
    "scrolled": true
   },
   "outputs": [],
   "source": [
    "from scipy.fftpack import fft, ifft"
   ]
  },
  {
   "cell_type": "code",
   "execution_count": null,
   "metadata": {
    "scrolled": true
   },
   "outputs": [],
   "source": [
    "x = np.array([1.0, 2.0, 1.0, -1.0, 1.5])"
   ]
  },
  {
   "cell_type": "code",
   "execution_count": null,
   "metadata": {
    "scrolled": true
   },
   "outputs": [],
   "source": [
    "y = fft(x)\n",
    "print(y)"
   ]
  },
  {
   "cell_type": "code",
   "execution_count": null,
   "metadata": {
    "scrolled": true
   },
   "outputs": [],
   "source": [
    "yinv = ifft(y)\n",
    "print(yinv)"
   ]
  },
  {
   "cell_type": "code",
   "execution_count": null,
   "metadata": {
    "scrolled": true
   },
   "outputs": [],
   "source": [
    "from scipy.fftpack import fft\n",
    "import matplotlib.pyplot as plt\n",
    "# Number of sample points\n",
    "N = 300\n",
    "\n",
    "# sample spacing\n",
    "T = 1.0 / 100.0\n",
    "x = np.linspace(0.0, N*T, N)\n",
    "y = np.sin(7 * 2.0*np.pi*x) + 0.5*np.sin(11 * 2.0*np.pi*x)\n",
    "plt.plot(x,y)\n",
    "plt.grid()\n",
    "#plt.xlim([0, 10])\n",
    "plt.show()\n"
   ]
  },
  {
   "cell_type": "code",
   "execution_count": null,
   "metadata": {
    "scrolled": true
   },
   "outputs": [],
   "source": [
    "yf = fft(y)\n",
    "xf = np.linspace(0.0, 1.0/(2.0*T), N//2)\n",
    "\n",
    "plt.plot(xf, 2.0/N * np.abs(yf[0:N//2]))\n",
    "plt.grid()\n",
    "#plt.xlim([0, 20])\n",
    "plt.show()"
   ]
  },
  {
   "cell_type": "code",
   "execution_count": null,
   "metadata": {},
   "outputs": [],
   "source": []
  },
  {
   "cell_type": "markdown",
   "metadata": {},
   "source": [
    "#### 为什么要加窗？\n",
    "|       时间维度                                |   频率维度                  |\n",
    "|-----------------------------------------------|----------------------------------------------|\n",
    "|<img src=\"images/chapter14/fft01.jpg\" width=300> |<img src=\"images/chapter14/fft02.jpg\" width=300> |\n",
    "|<img src=\"images/chapter14/fft03.jpg\" width=300>|<img src=\"images/chapter14/fft04.jpg\" width=300>|\n",
    "|<img src=\"images/chapter14/fft05.jpg\" width=300>|<img src=\"images/chapter14/fft06.jpg\" width=300>|"
   ]
  },
  {
   "cell_type": "code",
   "execution_count": null,
   "metadata": {
    "scrolled": true
   },
   "outputs": [],
   "source": [
    "yf = fft(y)\n",
    "from scipy.signal import blackman\n",
    "w = blackman(N)  #窗\n",
    "w.shape\n",
    "plt.plot(x,w)"
   ]
  },
  {
   "cell_type": "code",
   "execution_count": null,
   "metadata": {},
   "outputs": [],
   "source": [
    "ywf = fft(y*w)\n",
    "xf = np.linspace(0.0, 1.0/(2.0*T), N/2)\n",
    "import matplotlib.pyplot as plt\n",
    "plt.plot(xf[1:N//2], 2.0/N * np.abs(yf[1:N//2]), '-b')\n",
    "plt.plot(xf[1:N//2], 2.0/N * np.abs(ywf[1:N//2]), '-r')\n",
    "#plt.semilogy(xf[1:N//2], 2.0/N * np.abs(yf[1:N//2]), '-b')\n",
    "#plt.semilogy(xf[1:N//2], 2.0/N * np.abs(ywf[1:N//2]), '-r')\n",
    "plt.legend(['FFT', 'FFT w. window'])\n",
    "plt.grid()\n",
    "plt.show()"
   ]
  },
  {
   "cell_type": "code",
   "execution_count": null,
   "metadata": {},
   "outputs": [],
   "source": [
    "#########################test\n",
    "import numpy as np\n",
    "import matplotlib.pyplot as plt\n",
    "data = np.loadtxt(r'data/signal.txt') #0.43 0.56 0.68Hz\n",
    "N = data.shape[0]\n",
    "dt = 0.02\n",
    "time = 0.02 * np.arange(0,501)\n",
    "w = blackman(N)\n",
    "plt.plot(time,data)\n",
    "plt.show()\n",
    "\n",
    "### 试着分析一下改信号成分|\n",
    "yf = fft(data*w)\n",
    "\n",
    "T = dt  #time.max()\n",
    "xf = np.linspace(0.0, 1.0/(2.0*T), N//2)\n",
    "plt.plot(xf[0:N//2], 2.0/N * np.abs(yf[0:N//2]))\n",
    "plt.xlim([0, 5])\n",
    "\n"
   ]
  },
  {
   "cell_type": "code",
   "execution_count": null,
   "metadata": {},
   "outputs": [],
   "source": [
    "#结果出人意料\n",
    "data0 = np.zeros(10000);\n",
    "data.shape\n",
    "data2  = np.concatenate([data, data0])\n",
    "data2.shape\n",
    "N = data2.shape[0]\n",
    "dt = 0.02\n",
    "time = 0.02 * np.arange(0,N)\n",
    "\n",
    "plt.plot(time,data2)\n",
    "plt.show()\n",
    "\n",
    "### 试着分析一下改信号成分\n",
    "\n",
    "yf = fft(data2)\n",
    "T = dt  #time.max()\n",
    "xf = np.linspace(0.0, 1.0/(2.0*T), N//2)\n",
    "plt.plot(xf[0:N//2], 2.0/N * np.abs(yf[0:N//2]))\n",
    "plt.xlim([0, 1])"
   ]
  },
  {
   "cell_type": "code",
   "execution_count": null,
   "metadata": {},
   "outputs": [],
   "source": [
    "data0 = np.zeros(1500);\n",
    "data.shape\n",
    "data2  = np.concatenate([data, data0])\n",
    "data2.shape\n",
    "N = 2001"
   ]
  },
  {
   "cell_type": "code",
   "execution_count": null,
   "metadata": {},
   "outputs": [],
   "source": [
    "#The example below plots the FFT of two complex exponentials; note the asymmetric spectrum.\n",
    "from scipy.fftpack import fft, fftfreq, fftshift\n",
    "# number of signal points\n",
    "N = 400\n",
    "# sample spacing\n",
    "T = 1.0 / 800.0\n",
    "x = np.linspace(0.0, N*T, N)\n",
    "y = np.exp(50.0 * 1.j * 2.0*np.pi*x) + 0.5*np.exp(-80.0 * 1.j * 2.0*np.pi*x)\n",
    "import matplotlib.pyplot as plt\n",
    "plt.figure()\n",
    "plt.plot(x,y)"
   ]
  },
  {
   "cell_type": "code",
   "execution_count": null,
   "metadata": {},
   "outputs": [],
   "source": [
    "yf = fft(y)\n",
    "xf = fftfreq(N, T) #频率序列\n",
    "xf = fftshift(xf)\n",
    "yplot = fftshift(yf)\n",
    "\n",
    "plt.figure#(figsize=(12,9),dpi=200)\n",
    "plt.subplot(311)\n",
    "plt.plot(xf, 1.0/N * yplot.real)  \n",
    "plt.grid()\n",
    "plt.subplot(312)\n",
    "plt.plot(xf, 1.0/N * yplot.imag)  \n",
    "plt.grid()\n",
    "plt.subplot(313)\n",
    "plt.plot(xf, 1.0/N * np.abs(yplot))  \n",
    "plt.grid()\n",
    "plt.show()"
   ]
  },
  {
   "cell_type": "code",
   "execution_count": null,
   "metadata": {
    "scrolled": true
   },
   "outputs": [],
   "source": [
    "#The example below demonstrates a 2-dimensional IFFT and plots the resulting (2-dimensional) time-domain signals.\n",
    "from scipy.fftpack import ifftn\n",
    "import matplotlib.pyplot as plt\n",
    "import matplotlib.cm as cm\n"
   ]
  },
  {
   "cell_type": "code",
   "execution_count": null,
   "metadata": {},
   "outputs": [],
   "source": [
    "N = 30\n",
    "f, ((ax1, ax2, ax3), (ax4, ax5, ax6)) = plt.subplots(2, 3, figsize=(12,9), sharex='col', sharey='row')\n",
    "xf = np.zeros((N,N))\n",
    "\n",
    "xf[0, 5] = 1\n",
    "xf[0, N-5] = 1\n",
    "Z = ifftn(xf)\n",
    "ax1.imshow(xf, cmap=cm.Reds)\n",
    "ax4.imshow(np.real(Z), cmap=cm.gray)\n",
    "xf = np.zeros((N, N))\n",
    "xf[5, 0] = 1\n",
    "xf[N-5, 0] = 1\n",
    "Z = ifftn(xf)\n",
    "ax2.imshow(xf, cmap=cm.Reds)\n",
    "ax5.imshow(np.real(Z), cmap=cm.gray)\n",
    "xf = np.zeros((N, N))\n",
    "xf[5, 10] = 1\n",
    "xf[N-5, N-10] = 1\n",
    "Z = ifftn(xf)\n",
    "ax3.imshow(xf, cmap=cm.Reds)\n",
    "ax6.imshow(np.real(Z), cmap=cm.gray)\n",
    "plt.show()"
   ]
  },
  {
   "cell_type": "code",
   "execution_count": null,
   "metadata": {
    "scrolled": true
   },
   "outputs": [],
   "source": []
  },
  {
   "cell_type": "markdown",
   "metadata": {},
   "source": [
    "[返回目录](#mulu)"
   ]
  },
  {
   "cell_type": "markdown",
   "metadata": {},
   "source": [
    "## <font size=5><span id=\"14.7\"> 14.7 统计—— [scipy.stats]</span></font>\n",
    "#### https://docs.scipy.org/doc/scipy/reference/tutorial/stats.html"
   ]
  },
  {
   "cell_type": "code",
   "execution_count": null,
   "metadata": {
    "scrolled": true
   },
   "outputs": [],
   "source": []
  },
  {
   "cell_type": "markdown",
   "metadata": {},
   "source": [
    "\n",
    "\n",
    "- 子模块 scipy.stats 仍在发展中\n",
    "\n",
    "- scipy.stats 子模块包含\n",
    "\n",
    "    - 统计分析工具\n",
    "    - 随机过程的概率描述\n",
    "\n",
    "- 注意\n",
    "\n",
    "    - 不同随机过程的随机数生成器，见 numpy.random"
   ]
  },
  {
   "cell_type": "markdown",
   "metadata": {},
   "source": [
    "#### 导入基本模块"
   ]
  },
  {
   "cell_type": "code",
   "execution_count": null,
   "metadata": {},
   "outputs": [],
   "source": [
    "%matplotlib inline\n",
    "import matplotlib as mpl\n",
    "import matplotlib.pyplot as plt"
   ]
  },
  {
   "cell_type": "code",
   "execution_count": null,
   "metadata": {},
   "outputs": [],
   "source": [
    "import numpy as np\n",
    "import scipy as sp"
   ]
  },
  {
   "cell_type": "markdown",
   "metadata": {},
   "source": [
    "#### 导入 stats 子模块"
   ]
  },
  {
   "cell_type": "code",
   "execution_count": null,
   "metadata": {},
   "outputs": [],
   "source": [
    "from scipy import stats"
   ]
  },
  {
   "cell_type": "markdown",
   "metadata": {},
   "source": [
    "### 14.7.1 引言\n",
    "\n",
    "- scipy.stats 中的随机分布主要有两类\n",
    "\n",
    "    - 连续型随机变量分布 —— 已在 stats 子模块中实现 80+ 个\n",
    "    - 离散型随机变量分布 —— 已在 stats 子模块中实现 10+ 个"
   ]
  },
  {
   "cell_type": "markdown",
   "metadata": {},
   "source": [
    "#### 14.7.1.1 已实现的 RVs 数"
   ]
  },
  {
   "cell_type": "code",
   "execution_count": null,
   "metadata": {},
   "outputs": [],
   "source": [
    "dist_continu = [d for d in dir(stats) if isinstance(getattr(stats, d), stats.rv_continuous)]\n",
    "print('连续随机变量数目: %d' % len(dist_continu))"
   ]
  },
  {
   "cell_type": "code",
   "execution_count": null,
   "metadata": {},
   "outputs": [],
   "source": [
    "dist_discrete = [d for d in dir(stats) if isinstance(getattr(stats, d), stats.rv_discrete)]\n",
    "print('离散随机变量数目: %d' % len(dist_discrete))"
   ]
  },
  {
   "cell_type": "markdown",
   "metadata": {},
   "source": [
    "#### 14.7.1.2 查询\n",
    "\n",
    "```python\n",
    ">>> numpy.info(scipy.stats)\n",
    "```"
   ]
  },
  {
   "cell_type": "code",
   "execution_count": null,
   "metadata": {
    "scrolled": true
   },
   "outputs": [],
   "source": [
    "np.info(sp.stats)"
   ]
  },
  {
   "cell_type": "markdown",
   "metadata": {},
   "source": [
    "### 14.7.2 连续型随机变量 RV"
   ]
  },
  {
   "cell_type": "markdown",
   "metadata": {},
   "source": [
    "#### 导入 stats 子模块中的对象\n",
    "\n",
    "- 此处为 norm"
   ]
  },
  {
   "cell_type": "code",
   "execution_count": null,
   "metadata": {},
   "outputs": [],
   "source": [
    "from scipy.stats import norm"
   ]
  },
  {
   "cell_type": "markdown",
   "metadata": {},
   "source": [
    "#### 获得关于 stats.norm 对象的帮助\n",
    "\n",
    "- 调用\n",
    "    - ```np.info(sp.stats.norm)```\n",
    "    \n",
    "\n",
    "- norm 正态连续 RV\n",
    "\n",
    "\n",
    "- 关键字\n",
    "    - location (loc) —— 均值 mean\n",
    "    - scale (scale) —— 标准差\n",
    "    \n",
    "    \n",
    "- 常用方法\n",
    "    - rvs(loc=0, scale=1, size=1, random_state=None)，随机变量（Random variates）\n",
    "    - pdf(x, loc=0, scale=1)，概率密度函数（Probability density function）\n",
    "    - logpdf(x, loc=0, scale=1)，概率密度函数的对数\n",
    "    - cdf(x, loc=0, scale=1)，累积分布函数（Cumulative distribution function）\n",
    "    - sf(x, loc=0, scale=1)，剩余函数、残余函数（Survival function），1-cdf\n",
    "    - ppf(q, loc=0, scale=1)，百分点函数（Percent point function，cdf的逆）\n",
    "    - isf(q, loc=0, scale=1)，剩余函数的逆（inverse of ``sf``）\n",
    "    - moment(n, loc=0, scale=1)，$n$ 阶非中心矩\n",
    "    - stats(loc=0, scale=1, moments='mv')，均值('m')、方差('v')、偏度skew('s') 和/或 峰度kurtosis('k')\n",
    "    - expect(func, args=(), loc=0, scale=1, lb=None, ub=None, conditional=False, **kwds)， 函数的期望值\n",
    "    - median(loc=0, scale=1)，分布中值\n",
    "    - mean(loc=0, scale=1)，均值\n",
    "    - var(loc=0, scale=1)，方差\n",
    "    - std(loc=0, scale=1)，标准差  "
   ]
  },
  {
   "cell_type": "code",
   "execution_count": null,
   "metadata": {},
   "outputs": [],
   "source": [
    "np.info(sp.stats.norm)"
   ]
  },
  {
   "cell_type": "markdown",
   "metadata": {},
   "source": [
    "#### 查询自变量区间\n",
    "\n",
    "- 调用\n",
    "\n",
    "```python\n",
    ">>> print('区间下限: %s, 上限: %s' % (norm.a, norm.b))\n",
    "```"
   ]
  },
  {
   "cell_type": "code",
   "execution_count": null,
   "metadata": {},
   "outputs": [],
   "source": [
    "print('区间下限: %s, 上限: %s' % (norm.a, norm.b))"
   ]
  },
  {
   "cell_type": "markdown",
   "metadata": {},
   "source": [
    "#### 14.7.2.1 正态分布 —— 统计矩"
   ]
  },
  {
   "cell_type": "code",
   "execution_count": null,
   "metadata": {
    "scrolled": true
   },
   "outputs": [],
   "source": [
    "mu, sigma = 5, 3\n",
    "\n",
    "mean, var, skew, kurt = norm(mu,sigma).stats(moments='mvsk') # 获得统计信息：矩\n",
    "print(\"均值：{0}\\n方差：{1}\\n偏度：{2}\\n峰度：{3}\".format(mean, var, skew, kurt))"
   ]
  },
  {
   "cell_type": "markdown",
   "metadata": {},
   "source": [
    "#### 14.7.2.2 正态分布 —— 概率曲线图"
   ]
  },
  {
   "cell_type": "code",
   "execution_count": null,
   "metadata": {},
   "outputs": [],
   "source": [
    "mu, sigma = 5, 3             # 均值、标准差\n",
    "rv = norm(mu,sigma)          # 正态分布 RV\n",
    "\n",
    "#x = np.linspace(mu-3*sigma, mu+3*sigma, 100)\n",
    "\n",
    "x = np.linspace(rv.ppf(0.01), rv.ppf(0.99), 100)\n",
    "\n",
    "fig, ax = plt.subplots(4, 1)\n",
    "\n",
    "ax[0].plot(x, rv.pdf(x),    'k-', lw=2, label='norm pdf')\n",
    "ax[1].plot(x, rv.cdf(x),    'b-', lw=2, label='norm cdf')\n",
    "ax[2].plot(x, rv.sf(x),     'r-', lw=2, label='norm sf')\n",
    "ax[3].plot(x, rv.logpdf(x), 'g-', lw=2, label='norm logpdf')\n",
    "\n",
    "fig.legend()"
   ]
  },
  {
   "cell_type": "markdown",
   "metadata": {},
   "source": [
    "#### 14.7.2.3 正态分布 —— 样本直方图"
   ]
  },
  {
   "cell_type": "code",
   "execution_count": null,
   "metadata": {},
   "outputs": [],
   "source": [
    "r = rv.rvs(size=1000)    # 1000 个随机样本值\n",
    "\n",
    "plt.hist(r, bins=30, normed=True, histtype='stepfilled', alpha=0.5)\n",
    "plt.plot(x, rv.pdf(x),'k-', lw=2)"
   ]
  },
  {
   "cell_type": "markdown",
   "metadata": {},
   "source": [
    "#### 14.7.2.4 概率函数计算"
   ]
  },
  {
   "cell_type": "markdown",
   "metadata": {},
   "source": [
    "#### (1) 累积分布函数"
   ]
  },
  {
   "cell_type": "code",
   "execution_count": null,
   "metadata": {},
   "outputs": [],
   "source": [
    "norm.cdf(0) # 0点处的累积分布概率"
   ]
  },
  {
   "cell_type": "code",
   "execution_count": null,
   "metadata": {},
   "outputs": [],
   "source": [
    "mu, sig = rv.mean(), rv.std()\n",
    "\n",
    "x    = np.linspace(mu-3*sig, mu+3*sig, 7)\n",
    "prob = rv.cdf(x)\n",
    "\n",
    "print(\"mean = {0}, std = {1}\".format(mu, sig))\n",
    "print(\"x    = {0}\".format(x))\n",
    "print(\"prob = {0}\".format(prob))"
   ]
  },
  {
   "cell_type": "markdown",
   "metadata": {},
   "source": [
    "#### (2) 生成样本序列\n",
    "\n",
    "```python\n",
    "rv.rvs(size=(3,4))\n",
    "```"
   ]
  },
  {
   "cell_type": "code",
   "execution_count": null,
   "metadata": {},
   "outputs": [],
   "source": [
    "np.random.seed(201912)  # 随机种子\n",
    "rv.rvs(size=(3,4))"
   ]
  },
  {
   "cell_type": "code",
   "execution_count": null,
   "metadata": {},
   "outputs": [],
   "source": [
    "rv.rvs(size=(3,4), random_state=201912) # 与上等价的方式"
   ]
  },
  {
   "cell_type": "markdown",
   "metadata": {},
   "source": [
    "#### 14.7.2.5 随机变量平移与伸缩（Shifting and Scaling）变换"
   ]
  },
  {
   "cell_type": "markdown",
   "metadata": {},
   "source": [
    "设有随机变量 $X$\n",
    "\n",
    "- 平移变换的意思就是给 $X$ 加上一个常数 ``loc``\n",
    "- 伸缩变换的意思是给 $X$ 乘以一个常数 ``scale``\n",
    "\n",
    "$$Y = \\dfrac{X-loc}{scale}$$"
   ]
  },
  {
   "cell_type": "markdown",
   "metadata": {},
   "source": [
    "平移与伸缩的性质\n",
    "\n",
    "\n",
    "- 平移不改变方差\n",
    "- 伸缩会改变方差"
   ]
  },
  {
   "cell_type": "code",
   "execution_count": null,
   "metadata": {},
   "outputs": [],
   "source": [
    "norm.stats(loc=3, scale=4, moments=\"mv\")"
   ]
  },
  {
   "cell_type": "markdown",
   "metadata": {},
   "source": [
    "#### 示例 1 —— 指数分布随机变量 $X\\sim E(\\mu, \\lambda)$\n",
    "\n",
    "\n",
    "- 累积分布函数 ``cdf``\n",
    "\n",
    "$$cdf(x) = \n",
    "\\left\\{\n",
    "\\begin{array}{ll}\n",
    "1-e^{-\\lambda (x-\\mu)}, & x\\ge \\mu\\\\\n",
    "0, & x<\\mu\n",
    "\\end{array}\n",
    "\\right.\n",
    "$$\n",
    "\n",
    "\n",
    "- 概率密度函数 ``pdf``\n",
    "$$pdf(x) = \n",
    "\\left\\{\n",
    "\\begin{array}{ll}\n",
    "\\lambda e^{-\\lambda (x-\\mu)}, & x\\ge \\mu\\\\\n",
    "0, & x<\\mu\n",
    "\\end{array}\n",
    "\\right.\n",
    "$$\n",
    "\n",
    "\n",
    "- 缺省参数\n",
    "\n",
    "$$loc = \\mu = 0,\\quad scale = \\dfrac{1}{\\lambda} = 1$$"
   ]
  },
  {
   "cell_type": "code",
   "execution_count": null,
   "metadata": {},
   "outputs": [],
   "source": [
    "rv_std = sp.stats.expon()               # 缺省\n",
    "rv_ss  = sp.stats.expon(loc=2, scale=3) # 平移到 2， 伸缩率 3\n",
    "\n",
    "print(rv_std.mean(), rv_std.std())\n",
    "print(rv_ss.mean(), rv_ss.std())"
   ]
  },
  {
   "cell_type": "code",
   "execution_count": null,
   "metadata": {},
   "outputs": [],
   "source": [
    "scale_array = np.array([0.5, 1, 2, 4, 8])\n",
    "\n",
    "x = np.linspace(0, 10, 1000)\n",
    "\n",
    "fig = plt.figure()\n",
    "ax  = plt.axes()\n",
    "\n",
    "for scale in scale_array:\n",
    "    rv = sp.stats.expon(scale=scale)\n",
    "    ax.plot(x, rv.pdf(x), '-', lw=2, label='scale={0}'.format(scale))\n",
    "\n",
    "fig.legend()"
   ]
  },
  {
   "cell_type": "markdown",
   "metadata": {},
   "source": [
    "#### 示例 2 —— $(0, 1)$ 区间均匀分布"
   ]
  },
  {
   "cell_type": "code",
   "execution_count": null,
   "metadata": {},
   "outputs": [],
   "source": [
    "rv = sp.stats.uniform(loc=1,scale=4) # 随机变量\n",
    "rv"
   ]
  },
  {
   "cell_type": "code",
   "execution_count": null,
   "metadata": {},
   "outputs": [],
   "source": [
    "x = np.linspace(-3,8,1000)\n",
    "\n",
    "plt.plot(x, rv.pdf(x), label=\"uniform pdf\")\n",
    "plt.plot(x, rv.cdf(x), label=\"uniform cdf\")\n",
    "\n",
    "plt.legend()"
   ]
  },
  {
   "cell_type": "code",
   "execution_count": null,
   "metadata": {},
   "outputs": [],
   "source": [
    "# 累积分布函数值\n",
    "rv.cdf([0, 1, 2, 3, 4, 5])"
   ]
  },
  {
   "cell_type": "code",
   "execution_count": null,
   "metadata": {},
   "outputs": [],
   "source": [
    "x = np.linspace(-3,8,1000)\n",
    "\n",
    "plt.plot(x, rv.pdf(x), label=\"uniform pdf\")\n",
    "plt.plot(x, rv.cdf(x), label=\"uniform cdf\")\n",
    "\n",
    "xa = np.array([0, 1, 2, 3, 4, 5])\n",
    "plt.plot(xa,rv.cdf(xa),\"*r\", label=\"cdf array\")\n",
    "\n",
    "plt.legend()"
   ]
  },
  {
   "cell_type": "markdown",
   "metadata": {},
   "source": [
    "#### 14.7.2.6 形状参数（Shape Parameters）\n",
    "\n",
    "- 附加参数\n",
    "- 用于描述随机分布的形状特征"
   ]
  },
  {
   "cell_type": "markdown",
   "metadata": {},
   "source": [
    "####  示例 —— $\\Gamma(\\alpha,\\beta)$ 伽马分布的形状参数\n",
    "\n",
    "\n",
    "- 概率密度函数 ``pdf``\n",
    "$$\\gamma(x, \\alpha, \\beta) = \n",
    "\\left\\{\n",
    "\\begin{array}{ll}\n",
    "\\dfrac{\\beta^{\\alpha}}{\\Gamma(\\alpha)}(x-c)^{\\alpha-1}e^{-\\beta(x-c)}, & x\\ge c\\\\\n",
    "0, & x<c\n",
    "\\end{array}\n",
    "\\right.\n",
    "$$\n",
    "\n",
    "\n",
    "- 形状参数 $\\alpha$\n",
    "\n",
    "- 伸缩参数 $sclae = \\dfrac{1}{\\lambda}$"
   ]
  },
  {
   "cell_type": "code",
   "execution_count": null,
   "metadata": {},
   "outputs": [],
   "source": [
    "from scipy.stats import gamma\n",
    "gamma.numargs\n",
    "\n",
    "gamma.shapes"
   ]
  },
  {
   "cell_type": "code",
   "execution_count": null,
   "metadata": {},
   "outputs": [],
   "source": [
    "x = np.linspace(0,10,100)\n",
    "\n",
    "a_array = [1,2,3,4,5]\n",
    "\n",
    "for a in a_array:\n",
    "    rv = gamma(a=a)\n",
    "    plt.plot(x, rv.pdf(x), label=\"shape parameter a={0}\".format(a))\n",
    "    \n",
    "plt.legend()"
   ]
  },
  {
   "cell_type": "markdown",
   "metadata": {},
   "source": [
    "#### 14.7.2.7 广播法则\n",
    "\n",
    "\n",
    "- 随机分布的基本函数方法遵守广播法则，如\n",
    "    - pdf\n",
    "    - cdf\n",
    "    - sf\n",
    "    - 等"
   ]
  },
  {
   "cell_type": "markdown",
   "metadata": {},
   "source": [
    "#### 示例 —— $t(n)$ 分布利用广播法则计算逆剩余函数\n",
    "\n",
    "\n",
    "\n",
    "- 概率密度函数 ``pdf``\n",
    "\n",
    "$$p(x,n) = \n",
    "\\dfrac{\\Gamma\\left(\\dfrac{n+1}{2}\\right)}\n",
    "{\\sqrt{n\\pi}\\,\\,\\Gamma\\left(\\dfrac{n}{2}\\right)}\n",
    "\\left(1+\\dfrac{x^2}{n}\\right)^{-\\dfrac{n+1}{2}}\n",
    "$$\n",
    "\n",
    "\n",
    "- 自由度参数 `df`$=n>1$ （正整数）"
   ]
  },
  {
   "cell_type": "code",
   "execution_count": null,
   "metadata": {},
   "outputs": [],
   "source": [
    "# 计算 t 分布的 isf 函数值\n",
    "\n",
    "rv10 = sp.stats.t(10)\n",
    "print(rv10.isf([0.1, 0.05, 0.01]))\n",
    "\n",
    "rv11 = sp.stats.t(11)\n",
    "print(rv11.isf([0.1, 0.05, 0.01]))"
   ]
  },
  {
   "cell_type": "code",
   "execution_count": null,
   "metadata": {},
   "outputs": [],
   "source": [
    "# 广播法则\n",
    "\n",
    "stats.t.isf([0.1, 0.05, 0.01], [[10], [11]])"
   ]
  },
  {
   "cell_type": "markdown",
   "metadata": {},
   "source": [
    "### 14.7.3 离散型随机变量 RV"
   ]
  },
  {
   "cell_type": "markdown",
   "metadata": {},
   "source": [
    "#### 14.7.3.1 与连续型随机变量的异同"
   ]
  },
  {
   "cell_type": "markdown",
   "metadata": {},
   "source": [
    "#### 一般性\n",
    "\n",
    "- 离散型随机变量的基本函数与连续型随机变量的几乎一致"
   ]
  },
  {
   "cell_type": "markdown",
   "metadata": {},
   "source": [
    "#### 特殊性\n",
    "\n",
    "- 概率质量函数 ``pmf`` —— 类似于连续型随机变量的 ``pdf``\n",
    "- 没有拟合方法 ``fit``\n",
    "- 伸缩因子 scale 不再是有效的关键字\n",
    "- 平移参数 loc 仍然可用于平移分布\n",
    "\n",
    "\n",
    "#### 其它\n",
    "\n",
    "- 计算 ``cdf`` 的注意事项\n",
    "    - 连续型 RV 的 cdf 一般是严格单调上升的函数，因此有逆函数\n",
    "    - 离散型 RV 的 cdf 是不严格单调上升的阶梯函数，因此其逆函数有另外的定义\n",
    "    \n",
    "    $$ppf(q) = min\\{x : cdf(x) >= q, x integer\\}$$"
   ]
  },
  {
   "cell_type": "markdown",
   "metadata": {},
   "source": [
    "#### 14.7.3.2 示例 —— 超几何分布 $H(n,M,N)$\n",
    "- 超几何分布是统计学上一种离散概率分布。它描述了从有限M个物件（其中包含N个指定种类的物件）中抽出n个物件，成功抽出该指定种类的物件的次数（不放回）。\n",
    "\n",
    "- 概率质量函数\n",
    "\n",
    "$$P_H(\\xi=x)\n",
    "=\\dfrac{\n",
    "\\left(\n",
    "\\begin{array}{c}\n",
    "M-N\\\\\n",
    "n-x\n",
    "\\end{array}\n",
    "\\right)\n",
    "\\left(\n",
    "\\begin{array}{c}\n",
    "N\\\\\n",
    "x\n",
    "\\end{array}\n",
    "\\right)}\n",
    "{\n",
    "\\left(\n",
    "\\begin{array}{c}\n",
    "M\\\\\n",
    "n\n",
    "\\end{array}\n",
    "\\right)\n",
    "},\n",
    "\\quad\n",
    "x=\\max\\{0,n-M+N\\},\\cdots,\\min\\{n,N\\}\n",
    "$$\n",
    "\n",
    "其中，$n,M,N$ 为正整数，满足\n",
    "\n",
    "$$0\\le N\\le M,\\quad 0\\le n\\le M$$"
   ]
  },
  {
   "cell_type": "markdown",
   "metadata": {},
   "source": [
    "#### 超几何分布 ``cdf`` 求逆"
   ]
  },
  {
   "cell_type": "code",
   "execution_count": null,
   "metadata": {},
   "outputs": [],
   "source": [
    "from scipy.stats import hypergeom\n",
    "[M, n, N] = [20, 7, 12]"
   ]
  },
  {
   "cell_type": "code",
   "execution_count": null,
   "metadata": {},
   "outputs": [],
   "source": [
    "x = np.arange(4)*2\n",
    "x"
   ]
  },
  {
   "cell_type": "code",
   "execution_count": null,
   "metadata": {},
   "outputs": [],
   "source": [
    "prb = hypergeom.cdf(x, M, n, N)\n",
    "prb"
   ]
  },
  {
   "cell_type": "code",
   "execution_count": null,
   "metadata": {},
   "outputs": [],
   "source": [
    "hypergeom.ppf(prb, M, n, N)"
   ]
  },
  {
   "cell_type": "markdown",
   "metadata": {},
   "source": [
    "#### 似乎很准确，但是 $\\cdots$"
   ]
  },
  {
   "cell_type": "code",
   "execution_count": null,
   "metadata": {},
   "outputs": [],
   "source": [
    "hypergeom.ppf(prb + 1e-8, M, n, N)"
   ]
  },
  {
   "cell_type": "code",
   "execution_count": null,
   "metadata": {},
   "outputs": [],
   "source": [
    "hypergeom.ppf(prb - 1e-8, M, n, N)"
   ]
  },
  {
   "cell_type": "markdown",
   "metadata": {},
   "source": [
    "#### 小结\n",
    "\n",
    "- 如果取的 ``cdf`` 数值不是离散样本点对应的分布概率，而是稍高一点，将返回下一个离散样本值"
   ]
  },
  {
   "cell_type": "markdown",
   "metadata": {},
   "source": [
    "[返回目录](#mulu)"
   ]
  },
  {
   "cell_type": "markdown",
   "metadata": {},
   "source": [
    "## <font size=5><span id=\"14.8\"> 14.8 优化分析子模块 —— [scipy.optimize]</span></font>\n",
    " (https://docs.scipy.org/doc/scipy/reference/optimize.html)"
   ]
  },
  {
   "cell_type": "markdown",
   "metadata": {},
   "source": [
    "#### (1) 基本功能\n",
    "\n",
    "- 优化分析（Optimization）\n",
    "- 拟合（Fitting）\n",
    "- 求根（Root finding）\n",
    "- 线性规划（Linear Programming）\n",
    "- 实用（Utilities）"
   ]
  },
  {
   "cell_type": "markdown",
   "metadata": {},
   "source": [
    "#### (2) 导入基本模块"
   ]
  },
  {
   "cell_type": "code",
   "execution_count": 15,
   "metadata": {},
   "outputs": [],
   "source": [
    "%matplotlib inline\n",
    "import matplotlib as mpl\n",
    "import matplotlib.pyplot as plt"
   ]
  },
  {
   "cell_type": "code",
   "execution_count": 16,
   "metadata": {},
   "outputs": [],
   "source": [
    "import numpy as np\n",
    "import scipy as sp"
   ]
  },
  {
   "cell_type": "markdown",
   "metadata": {},
   "source": [
    "#### (3) 导入 optimize 子模块"
   ]
  },
  {
   "cell_type": "code",
   "execution_count": 17,
   "metadata": {},
   "outputs": [],
   "source": [
    "from scipy import optimize"
   ]
  },
  {
   "cell_type": "markdown",
   "metadata": {},
   "source": [
    "### 14.8.1 优化分析\n",
    "\n",
    "- 在给定集合中寻找一组变量的最优值，以使给定的目标函数取最大或最小值"
   ]
  },
  {
   "cell_type": "markdown",
   "metadata": {},
   "source": [
    "- 优化函数，初值 $x_0$\n",
    "    - optimize.fmin(func, x0) —— 求最小值\n",
    "    - optimize.minimize(func, x0) —— 求最小值\n",
    "    - optimize.fminbound(func, x1, x2) —— 求区间 $[x1,x2]$ 上的最小值"
   ]
  },
  {
   "cell_type": "markdown",
   "metadata": {},
   "source": [
    "### 示例 1 —— 多个贝塞尔函数求最大值\n",
    "\n",
    "- 导入特殊函数子模块\n",
    "- 调用 ``special.jv(k,x)``\n",
    "- 参数 $k=[0.5, 1.5, 2.5, 3.5, 4.5]"
   ]
  },
  {
   "cell_type": "code",
   "execution_count": 18,
   "metadata": {},
   "outputs": [
    {
     "data": {
      "text/plain": [
       "Text(0.5, 1.0, 'Different Bessel functions and their local maxima')"
      ]
     },
     "execution_count": 18,
     "metadata": {},
     "output_type": "execute_result"
    },
    {
     "data": {
      "image/png": "[encoded data removed]",
      "text/plain": [
       "<Figure size 432x288 with 1 Axes>"
      ]
     },
     "metadata": {
      "needs_background": "light"
     },
     "output_type": "display_data"
    }
   ],
   "source": [
    "from scipy import special\n",
    "\n",
    "x = np.linspace(0,10,1001)\n",
    "\n",
    "for k in np.arange(5) + 0.5:\n",
    "     y = special.jv(k,x)\n",
    "     plt.plot(x,y)\n",
    "    \n",
    "     f = lambda x: -special.jv(k,x)\n",
    "     x_max = optimize.fminbound(f,0,6)\n",
    "     plt.plot([x_max], [special.jv(k,x_max)],'ro')\n",
    "\n",
    "plt.title('Different Bessel functions and their local maxima')"
   ]
  },
  {
   "cell_type": "markdown",
   "metadata": {},
   "source": [
    "### 示例 2 —— 光滑函数求最小值\n",
    "\n",
    "\n",
    "### $$f(x) = x^2 + 8\\sin x - 18$$"
   ]
  },
  {
   "cell_type": "markdown",
   "metadata": {},
   "source": [
    "#### (1) 画曲线并观察\n",
    "\n",
    "- 在 -1.25 附近取最小值"
   ]
  },
  {
   "cell_type": "code",
   "execution_count": 19,
   "metadata": {},
   "outputs": [
    {
     "data": {
      "image/png": "[encoded data removed]",
      "text/plain": [
       "<Figure size 432x288 with 1 Axes>"
      ]
     },
     "metadata": {
      "needs_background": "light"
     },
     "output_type": "display_data"
    }
   ],
   "source": [
    "def f(x):\n",
    "    return x**2 + 8*np.sin(x) - 18\n",
    "\n",
    "\n",
    "x = np.arange(-10, 10, 0.1)\n",
    "plt.plot(x, f(x))\n",
    "plt.show()"
   ]
  },
  {
   "cell_type": "markdown",
   "metadata": {},
   "source": [
    "#### (2) 调用``minimize``，初值取 $x_0=0$\n",
    "\n"
   ]
  },
  {
   "cell_type": "code",
   "execution_count": 20,
   "metadata": {},
   "outputs": [
    {
     "data": {
      "text/plain": [
       "      fun: -24.029403524291006\n",
       " hess_inv: array([[0.10426355]])\n",
       "      jac: array([-4.76837158e-07])\n",
       "  message: 'Optimization terminated successfully.'\n",
       "     nfev: 12\n",
       "      nit: 5\n",
       "     njev: 6\n",
       "   status: 0\n",
       "  success: True\n",
       "        x: array([-1.25235331])"
      ]
     },
     "execution_count": 20,
     "metadata": {},
     "output_type": "execute_result"
    }
   ],
   "source": [
    "result = optimize.minimize(f, x0=0)\n",
    "result"
   ]
  },
  {
   "cell_type": "markdown",
   "metadata": {},
   "source": [
    "#### (3) 结果\n",
    "\n",
    "- 求得最小值处的 $x$ 坐标为 -1.2523533，与观察相符\n",
    "\n",
    "\n",
    "#### (4) 注意\n",
    "\n",
    "- 对于光滑曲线函数，采用梯度下降法效果更好\n",
    "    - nfev —— 函数计算次数\n",
    "    - nit —— 迭代次数"
   ]
  },
  {
   "cell_type": "code",
   "execution_count": 21,
   "metadata": {},
   "outputs": [
    {
     "data": {
      "text/plain": [
       "      fun: array([-24.02940352])\n",
       " hess_inv: <1x1 LbfgsInvHessProduct with dtype=float64>\n",
       "      jac: array([-7.1054274e-07])\n",
       "  message: b'CONVERGENCE: NORM_OF_PROJECTED_GRADIENT_<=_PGTOL'\n",
       "     nfev: 12\n",
       "      nit: 5\n",
       "     njev: 6\n",
       "   status: 0\n",
       "  success: True\n",
       "        x: array([-1.25235331])"
      ]
     },
     "execution_count": 21,
     "metadata": {},
     "output_type": "execute_result"
    }
   ],
   "source": [
    "optimize.minimize(f, x0=0, method=\"L-BFGS-B\")"
   ]
  },
  {
   "cell_type": "markdown",
   "metadata": {},
   "source": [
    "#### (5) 初值的影响"
   ]
  },
  {
   "cell_type": "code",
   "execution_count": 22,
   "metadata": {},
   "outputs": [
    {
     "data": {
      "text/plain": [
       "      fun: array([-8.58022436])\n",
       " hess_inv: <1x1 LbfgsInvHessProduct with dtype=float64>\n",
       "      jac: array([0.])\n",
       "  message: b'CONVERGENCE: NORM_OF_PROJECTED_GRADIENT_<=_PGTOL'\n",
       "     nfev: 14\n",
       "      nit: 6\n",
       "     njev: 7\n",
       "   status: 0\n",
       "  success: True\n",
       "        x: array([3.59530491])"
      ]
     },
     "execution_count": 22,
     "metadata": {},
     "output_type": "execute_result"
    }
   ],
   "source": [
    "optimize.minimize(f, x0=5, method=\"L-BFGS-B\")"
   ]
  },
  {
   "cell_type": "markdown",
   "metadata": {},
   "source": [
    "### 14.8.2 曲线拟合\n",
    "\n",
    "- 由试验数据拟合经验函数\n",
    "- 函数含未知参数"
   ]
  },
  {
   "cell_type": "markdown",
   "metadata": {},
   "source": [
    "### 示例 —— 拟合含噪音的正弦曲线数据"
   ]
  },
  {
   "cell_type": "markdown",
   "metadata": {},
   "source": [
    "#### (1) 生成数据"
   ]
  },
  {
   "cell_type": "code",
   "execution_count": 23,
   "metadata": {},
   "outputs": [
    {
     "data": {
      "text/plain": [
       "[<matplotlib.lines.Line2D at 0x214842cbe50>]"
      ]
     },
     "execution_count": 23,
     "metadata": {},
     "output_type": "execute_result"
    },
    {
     "data": {
      "image/png": "[encoded data removed]",
      "text/plain": [
       "<Figure size 432x288 with 1 Axes>"
      ]
     },
     "metadata": {
      "needs_background": "light"
     },
     "output_type": "display_data"
    }
   ],
   "source": [
    "A, omega, phi = 3.2, 1.8, 1.3\n",
    "\n",
    "x_data = np.linspace(0, 15, num=50)\n",
    "y_data = A * np.sin(omega * x_data + phi) + np.random.normal(size=50)\n",
    "plt.figure()\n",
    "plt.plot(x_data,y_data)"
   ]
  },
  {
   "cell_type": "markdown",
   "metadata": {},
   "source": [
    "- 已知函数形式为正弦曲线\n",
    "- 未知参数 $A,\\,\\,\\omega,\\,\\, \\phi$\n",
    "- 参数真值 $A=3.2,\\,\\,omega=1.8,\\,\\,phi=1.3$"
   ]
  },
  {
   "cell_type": "markdown",
   "metadata": {},
   "source": [
    "#### (2) 定义试验函数（$A,\\omega, \\phi$ 为参数）"
   ]
  },
  {
   "cell_type": "code",
   "execution_count": 24,
   "metadata": {},
   "outputs": [],
   "source": [
    "def test_func(x, A, omega, phi):\n",
    "    return A * np.sin(omega * x + phi)"
   ]
  },
  {
   "cell_type": "markdown",
   "metadata": {},
   "source": [
    "#### (3) 调用 ``optimize.curve_fit`` 函数\n",
    "\n",
    "- 返回参数 params（元组）\n",
    "- 真值的拟合值"
   ]
  },
  {
   "cell_type": "code",
   "execution_count": 25,
   "metadata": {},
   "outputs": [
    {
     "name": "stdout",
     "output_type": "stream",
     "text": [
      "[3.28096889 1.80895514 1.25277822]\n"
     ]
    }
   ],
   "source": [
    "params, params_covariance = optimize.curve_fit(test_func, x_data, y_data, p0=[3.2, 1.8, 1.3])\n",
    "print(params)"
   ]
  },
  {
   "cell_type": "markdown",
   "metadata": {},
   "source": [
    "#### (4) 绘制离散数据点与拟合曲线图"
   ]
  },
  {
   "cell_type": "code",
   "execution_count": 26,
   "metadata": {},
   "outputs": [
    {
     "data": {
      "text/plain": [
       "[<matplotlib.lines.Line2D at 0x214842f53a0>]"
      ]
     },
     "execution_count": 26,
     "metadata": {},
     "output_type": "execute_result"
    },
    {
     "data": {
      "image/png": "[encoded data removed]",
      "text/plain": [
       "<Figure size 432x288 with 1 Axes>"
      ]
     },
     "metadata": {
      "needs_background": "light"
     },
     "output_type": "display_data"
    }
   ],
   "source": [
    "A0, omega0, phi0 = params\n",
    "\n",
    "plt.plot(x_data, y_data, \"*b\")\n",
    "plt.plot(x_data, test_func(x_data, A0, omega0, phi0), \"-r\")"
   ]
  },
  {
   "cell_type": "markdown",
   "metadata": {},
   "source": [
    "#### (5) 注意事项\n",
    "\n",
    "- 初值的选取对于拟合精度很重要"
   ]
  },
  {
   "cell_type": "markdown",
   "metadata": {},
   "source": [
    "### 14.8.3 方程求根"
   ]
  },
  {
   "cell_type": "markdown",
   "metadata": {},
   "source": [
    "- 方程求根函数，初值 $x_0$\n",
    "    - optimize.fsolve(func, x0)\n",
    "    - optimize.root(func, x0)"
   ]
  },
  {
   "cell_type": "markdown",
   "metadata": {},
   "source": [
    "### 示例 —— 解以下方程\n",
    "\n",
    "$$f(x) = x^2 + 8\\sin x - 18 = 0$$"
   ]
  },
  {
   "cell_type": "markdown",
   "metadata": {},
   "source": [
    "#### (1) 观察有 2 个根\n",
    "\n",
    "#### (2) 初值取 -5 和 5\n",
    "\n",
    "#### (3) 求得根为 ``x: array([-3.70502928,  5.05359436])``\n",
    "\n",
    "#### (4) 对应的函数值为 ``fun: array([6.90292268e-12, 1.03099751e-11])``"
   ]
  },
  {
   "cell_type": "code",
   "execution_count": null,
   "metadata": {},
   "outputs": [],
   "source": [
    "root = optimize.root(f, x0=[-5,5])\n",
    "root"
   ]
  },
  {
   "cell_type": "markdown",
   "metadata": {},
   "source": [
    "#### (5) 画图"
   ]
  },
  {
   "cell_type": "code",
   "execution_count": null,
   "metadata": {},
   "outputs": [],
   "source": [
    "plt.plot(x, f(x), \"-b\", x, np.zeros(len(x)), \"--r\")\n",
    "plt.plot(root.x, root.fun, \"*k\")"
   ]
  },
  {
   "cell_type": "markdown",
   "metadata": {},
   "source": [
    "## 结束"
   ]
  }
 ],
 "metadata": {
  "kernelspec": {
   "display_name": "Python 3 (ipykernel)",
   "language": "python",
   "name": "python3"
  },
  "language_info": {
   "codemirror_mode": {
    "name": "ipython",
    "version": 3
   },
   "file_extension": ".py",
   "mimetype": "text/x-python",
   "name": "python",
   "nbconvert_exporter": "python",
   "pygments_lexer": "ipython3",
   "version": "3.11.3"
  }
 },
 "nbformat": 4,
 "nbformat_minor": 4
}
