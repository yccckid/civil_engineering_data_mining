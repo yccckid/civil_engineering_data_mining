{
 "cells": [
  {
   "cell_type": "markdown",
   "metadata": {},
   "source": [
    "# 第四讲 程序控制结构"
   ]
  },
  {
   "cell_type": "markdown",
   "metadata": {
    "tags": [],
    "toc-hr-collapsed": true
   },
   "source": [
    "## <font size=5> <span id=\"4.1\"> 4.1 `if` 系列语句 —— 最常见的条件控制语句</span></font>"
   ]
  },
  {
   "cell_type": "markdown",
   "metadata": {},
   "source": [
    "### <font size=4><span id=\"4.1.1\"> 4.1.1 `if`语句</span></font>\n",
    "\n",
    "- 语法\n",
    "```python\n",
    "if condition:\n",
    "      statement_1\n",
    "      ...\n",
    "      statement_n\n",
    "```\n",
    "\n",
    "\n",
    "- 用法 —— **condition** 为 **True** 时，执行语句块\n",
    "    "
   ]
  },
  {
   "cell_type": "markdown",
   "metadata": {},
   "source": [
    "#### 简单 if 语句"
   ]
  },
  {
   "cell_type": "code",
   "execution_count": 1,
   "metadata": {},
   "outputs": [
    {
     "name": "stdout",
     "output_type": "stream",
     "text": [
      "a 是正数！\n"
     ]
    }
   ],
   "source": [
    "a = 3\n",
    "if a > 0:\n",
    "    print (\"a 是正数！\")"
   ]
  },
  {
   "cell_type": "markdown",
   "metadata": {},
   "source": [
    "### <font size=4><span id=\"4.1.2\"> 4.1.2 `if-else`语句</span></font>\n",
    "\n",
    "- 语法\n",
    "```python\n",
    "if condition:\n",
    "      statement_block_1\n",
    "else:\n",
    "      statement_block_2\n",
    "```\n",
    "\n",
    "\n",
    "- 用法\n",
    "    - **condition** 为 **True** 时，执行语句块 statement_block_1\n",
    "    - 否则，执行语句块 statement_block_2    "
   ]
  },
  {
   "cell_type": "markdown",
   "metadata": {},
   "source": [
    "#### 判断是否正数？"
   ]
  },
  {
   "cell_type": "code",
   "execution_count": 4,
   "metadata": {},
   "outputs": [
    {
     "name": "stdout",
     "output_type": "stream",
     "text": [
      "请输入一个整数：0\n",
      "您输入的是非正数： 0\n"
     ]
    }
   ],
   "source": [
    "x = int(input(\"请输入一个整数：\"))\n",
    "\n",
    "if x > 0:\n",
    "    print('您输入的是正数：',x)\n",
    "else:\n",
    "    print('您输入的是非正数：',x)"
   ]
  },
  {
   "cell_type": "markdown",
   "metadata": {},
   "source": [
    "### <font size=4><span id=\"4.1.3\"> 4.1.3 `if-elif-else`语句</span></font>\n",
    "\n",
    "- 语法\n",
    "```python\n",
    "if condition_1:\n",
    "      statement_block_1\n",
    "elif condition_2:\n",
    "      statement_block_2\n",
    "else:\n",
    "      statement_block_3\n",
    "```\n",
    "\n",
    "\n",
    "- 用法\n",
    "    - **condition_1** 为 **True** 时，执行语句块 statement_block_1\n",
    "    - 否则\n",
    "        - **condition_2** 为 **True** 时，执行语句块 statement_block_2\n",
    "        - 否则，执行语句块 statement_block_3\n",
    "\n",
    "\n",
    "- 注意\n",
    "    - 可以有多个 **elif** 分支，依次判断\n",
    "    - 只执行一个分支"
   ]
  },
  {
   "cell_type": "markdown",
   "metadata": {},
   "source": [
    "#### 判断正、负或零？"
   ]
  },
  {
   "cell_type": "code",
   "execution_count": 6,
   "metadata": {},
   "outputs": [
    {
     "name": "stdout",
     "output_type": "stream",
     "text": [
      "请输入一个整数：3\n",
      "您输入的是正数： 3\n"
     ]
    }
   ],
   "source": [
    "x = int(input(\"请输入一个整数：\"))\n",
    "\n",
    "if x < 0:\n",
    "    print('您输入的是负数：',x)\n",
    "elif 0==x:  # 好习惯\n",
    "    print('您输入的是零：',x)\n",
    "else:\n",
    "    print('您输入的是正数：',x)"
   ]
  },
  {
   "cell_type": "code",
   "execution_count": 11,
   "metadata": {},
   "outputs": [],
   "source": [
    "s = 75"
   ]
  },
  {
   "cell_type": "code",
   "execution_count": 13,
   "metadata": {},
   "outputs": [
    {
     "name": "stdout",
     "output_type": "stream",
     "text": [
      "C\n"
     ]
    }
   ],
   "source": [
    "if s<60:\n",
    "    print('F')\n",
    "elif s<70:\n",
    "    print('D')\n",
    "elif s<80:\n",
    "    print('C')\n",
    "elif s<90:\n",
    "    print('B')\n",
    "else:\n",
    "    print('A')\n",
    " "
   ]
  },
  {
   "cell_type": "markdown",
   "metadata": {},
   "source": [
    "### <font size=4><span id=\"4.1.4\"> 4.1.4 `match case`语句</span></font>\n",
    " - Python 3.10 以上版本"
   ]
  },
  {
   "cell_type": "code",
   "execution_count": 11,
   "metadata": {},
   "outputs": [
    {
     "name": "stdout",
     "output_type": "stream",
     "text": [
      "Hello to you too!\n"
     ]
    }
   ],
   "source": [
    "command = 'Hello, World!'\n",
    "match command:\n",
    "    case 'Hello, World!':\n",
    "        print('Hello to you too!')\n",
    "    case 'Goodbye, World!':\n",
    "        print('See you later')\n",
    "    case _:\n",
    "        print('No match found')"
   ]
  },
  {
   "cell_type": "markdown",
   "metadata": {
    "toc-hr-collapsed": true
   },
   "source": [
    "## <font size=5> <span id=\"4.2\"> 4.2 **for** 循环语句</span></font>\n",
    "\n",
    "- `Python`的 `for` 循环语句不同于 `C/C++` 语言，循环可以按连续变化整数、列表项、字符串开展\n",
    "\n",
    "<img src=\"images/chapter03/python_for_loop.jpg\" width=300>"
   ]
  },
  {
   "cell_type": "markdown",
   "metadata": {
    "toc-hr-collapsed": true
   },
   "source": [
    "### <font size=4><span id=\"4.2.1\"> 4.2.1 `range()` 函数控制的 `for` 循环</span></font>\n",
    "\n",
    "- `range` 的语法\n",
    "```python\n",
    "range(stop)\n",
    "range(start,stop[, step]) \n",
    "```\n",
    "\n",
    "\n",
    "- 作用 —— 生成等差变化的整数序列\n",
    "    - 从 0 或 start 开始\n",
    "    - 不超过 stop\n",
    "    - step 为步长\n",
    "\n",
    "\n",
    "\n",
    "- 注意 —— 左闭右开\n",
    "\n",
    "\n",
    "\n",
    "- `for` 的语法\n",
    "```python\n",
    "for item in some_range:\n",
    "      do_something\n",
    "```"
   ]
  },
  {
   "cell_type": "markdown",
   "metadata": {},
   "source": [
    "#### 从 0 开始的整数序列"
   ]
  },
  {
   "cell_type": "code",
   "execution_count": 26,
   "metadata": {},
   "outputs": [
    {
     "data": {
      "text/plain": [
       "range(0, 5)"
      ]
     },
     "execution_count": 26,
     "metadata": {},
     "output_type": "execute_result"
    }
   ],
   "source": [
    "range(5)"
   ]
  },
  {
   "cell_type": "code",
   "execution_count": 28,
   "metadata": {},
   "outputs": [
    {
     "name": "stdout",
     "output_type": "stream",
     "text": [
      "0\n",
      "1\n",
      "2\n",
      "3\n",
      "4\n"
     ]
    }
   ],
   "source": [
    "for i in range(5):\n",
    "    print(i)"
   ]
  },
  {
   "cell_type": "markdown",
   "metadata": {},
   "source": [
    "#### 左闭右开的整数序列\n",
    "\n",
    "- 注意右开特性"
   ]
  },
  {
   "cell_type": "code",
   "execution_count": 29,
   "metadata": {},
   "outputs": [
    {
     "name": "stdout",
     "output_type": "stream",
     "text": [
      "2 3 4 5 6 7 "
     ]
    }
   ],
   "source": [
    "for i in range(2, 8):\n",
    "    print(i,end=' ')"
   ]
  },
  {
   "cell_type": "markdown",
   "metadata": {},
   "source": [
    "#### 步长的作用"
   ]
  },
  {
   "cell_type": "code",
   "execution_count": 30,
   "metadata": {},
   "outputs": [
    {
     "name": "stdout",
     "output_type": "stream",
     "text": [
      "1\n",
      "3\n",
      "5\n",
      "7\n"
     ]
    }
   ],
   "source": [
    "for i in range(1,9,2):\n",
    "    print(i)"
   ]
  },
  {
   "cell_type": "markdown",
   "metadata": {
    "toc-hr-collapsed": true
   },
   "source": [
    "### <font size=4><span id=\"4.2.2\"> 4.2.2 非递增整数列表项循环</span></font>\n",
    "- 语法\n",
    "```python\n",
    ">>> for a_num in num_list:\n",
    ">>>     do_something\n",
    "```\n",
    "\n",
    "\n",
    "- 作用 —— 依次对列表项循环\n",
    "\n",
    "\n",
    "\n",
    "- 注意 —— 遍历列表"
   ]
  },
  {
   "cell_type": "markdown",
   "metadata": {},
   "source": [
    "#### 遍历列表"
   ]
  },
  {
   "cell_type": "code",
   "execution_count": 42,
   "metadata": {},
   "outputs": [
    {
     "name": "stdout",
     "output_type": "stream",
     "text": [
      "当前列表元素是： 5\n",
      "当前列表元素是： -1\n",
      "当前列表元素是： 8\n",
      "当前列表元素是： 0\n",
      "当前列表元素是： 3\n"
     ]
    }
   ],
   "source": [
    "for i in [5,-1,8,0,3]:\n",
    "    print(\"当前列表元素是：\", i)"
   ]
  },
  {
   "cell_type": "markdown",
   "metadata": {},
   "source": [
    "#### 遍历字符串"
   ]
  },
  {
   "cell_type": "code",
   "execution_count": 46,
   "metadata": {},
   "outputs": [
    {
     "name": "stdout",
     "output_type": "stream",
     "text": [
      "T o n g j i "
     ]
    }
   ],
   "source": [
    "for letter in \"Tongji\":\n",
    "    print(letter,end=' ')"
   ]
  },
  {
   "cell_type": "markdown",
   "metadata": {
    "toc-hr-collapsed": true
   },
   "source": [
    "### <font size=4><span id=\"4.2.3\"> 4.2.3 `break` 和 `continue` 语句</span></font>\n",
    "- 作用\n",
    "    - `break` 跳出循环\n",
    "    - `continue` 执行下一循环项"
   ]
  },
  {
   "cell_type": "markdown",
   "metadata": {},
   "source": [
    "<center class = \"half\">\n",
    "<img src=\"images/chapter03/break.jpg\" width=300 align = left>\n",
    "<img src=\"images/chapter03/continue.jpg\" width=300 align = right>\n",
    "</center>"
   ]
  },
  {
   "cell_type": "markdown",
   "metadata": {},
   "source": [
    "#### 注意 `break` 和 `continue` 的区别"
   ]
  },
  {
   "cell_type": "code",
   "execution_count": 47,
   "metadata": {},
   "outputs": [
    {
     "name": "stdout",
     "output_type": "stream",
     "text": [
      "Current Letter :P\n",
      "Current Letter :y\n",
      "Current Letter :t\n",
      "\n",
      "after for statement\n"
     ]
    }
   ],
   "source": [
    "for letter in 'Python':\n",
    "    if letter == 'h':\n",
    "        break\n",
    "    print('Current Letter :' + letter)\n",
    "\n",
    "print(\"\\nafter for statement\")  # 注 \"\\na\" 插入新行"
   ]
  },
  {
   "cell_type": "code",
   "execution_count": 48,
   "metadata": {},
   "outputs": [
    {
     "name": "stdout",
     "output_type": "stream",
     "text": [
      "Current Letter :P\n",
      "Current Letter :y\n",
      "Current Letter :t\n",
      "Current Letter :o\n",
      "Current Letter :n\n",
      "\n",
      "after for statement\n"
     ]
    }
   ],
   "source": [
    "for letter in 'Python':\n",
    "    if letter == 'h':\n",
    "        continue\n",
    "    print('Current Letter :' + letter)\n",
    "\n",
    "print(\"\\nafter for statement\")  # 注 \"\\na\" 插入新行"
   ]
  },
  {
   "cell_type": "markdown",
   "metadata": {
    "toc-hr-collapsed": true
   },
   "source": [
    "### <font size=4><span id=\"4.2.4\"> 4.2.4 else 分句</span></font>\n",
    "- 语法\n",
    "```python\n",
    "for a_num in num_list:\n",
    "      block_1\n",
    "else:\n",
    "      block_2\n",
    "```\n",
    "\n",
    "\n",
    "- `else` 作用 —— 循环`正常结束`时执行语句块 block_2"
   ]
  },
  {
   "cell_type": "code",
   "execution_count": null,
   "metadata": {},
   "outputs": [],
   "source": [
    "# 演示：判断素数"
   ]
  },
  {
   "cell_type": "markdown",
   "metadata": {},
   "source": [
    "## <font size=5> <span id=\"4.3\"> 4.3 `while` 循环语句</span></font>\n",
    "\n",
    "\n",
    "- 语法\n",
    "```python\n",
    "while condition:\n",
    "      statement_block\n",
    "```\n",
    "\n",
    "- 条件 `condition` 为 `True` 时，重复执行语句块 `statement_block`\n",
    "\n",
    "\n",
    "<img src=\"images/chapter03/python_while_loop.jpg\" width=250>"
   ]
  },
  {
   "cell_type": "markdown",
   "metadata": {
    "toc-hr-collapsed": true
   },
   "source": [
    "### <font size=4><span id=\"4.3.1\"> 4.3.1 `while` 语句用于不指定次数的循环</span></font>"
   ]
  },
  {
   "cell_type": "markdown",
   "metadata": {},
   "source": [
    "#### 例 15 递增数列求和"
   ]
  },
  {
   "cell_type": "code",
   "execution_count": 1,
   "metadata": {},
   "outputs": [
    {
     "name": "stdout",
     "output_type": "stream",
     "text": [
      "0 0\n",
      "1 1\n",
      "2 3\n",
      "3 6\n",
      "4 10\n"
     ]
    }
   ],
   "source": [
    "num, sum1 = 0, 0\n",
    "while num < 5:\n",
    "    sum1 += num\n",
    "    print(num, sum1)\n",
    "    num += 1"
   ]
  },
  {
   "cell_type": "markdown",
   "metadata": {
    "toc-hr-collapsed": true
   },
   "source": [
    "### <font size=4><span id=\"4.3.2\"> 4.3.2 `else` 分句</span></font>\n",
    "- 语法\n",
    "```python\n",
    "while condition:\n",
    "      statement_block\n",
    "else:\n",
    "      statement_else\n",
    "```\n",
    "\n",
    "\n",
    "- 作用同前\n",
    "- `else` 用于`循环正常结束`后执行"
   ]
  },
  {
   "cell_type": "markdown",
   "metadata": {
    "toc-hr-collapsed": true
   },
   "source": [
    "### <font size=4><span id=\"4.3.3\"> 4.3.3 `break` 和 `continue` 语句</span></font>\n",
    "- 作用同前\n",
    "    - `break` 跳出循环体\n",
    "    - `continue` 执行下一循环步"
   ]
  },
  {
   "cell_type": "markdown",
   "metadata": {
    "toc-hr-collapsed": true
   },
   "source": [
    "## <font size=5> <span id=\"4.4\"> 4.4 控制语句嵌套</span></font>"
   ]
  },
  {
   "cell_type": "markdown",
   "metadata": {},
   "source": [
    "### <font size=4><span id=\"4.4.1\"> 4.4.1 多层 `for` 循环</span></font>"
   ]
  },
  {
   "cell_type": "markdown",
   "metadata": {},
   "source": [
    "#### 例 21 输出九九乘法表"
   ]
  },
  {
   "cell_type": "code",
   "execution_count": 73,
   "metadata": {},
   "outputs": [
    {
     "name": "stdout",
     "output_type": "stream",
     "text": [
      "1x1=1 \n",
      "1x2=2 2x2=4 \n",
      "1x3=3 2x3=6 3x3=9 \n",
      "1x4=4 2x4=8 3x4=12 4x4=16 \n",
      "1x5=5 2x5=10 3x5=15 4x5=20 5x5=25 \n",
      "1x6=6 2x6=12 3x6=18 4x6=24 5x6=30 6x6=36 \n",
      "1x7=7 2x7=14 3x7=21 4x7=28 5x7=35 6x7=42 7x7=49 \n",
      "1x8=8 2x8=16 3x8=24 4x8=32 5x8=40 6x8=48 7x8=56 8x8=64 \n",
      "1x9=9 2x9=18 3x9=27 4x9=36 5x9=45 6x9=54 7x9=63 8x9=72 9x9=81 \n"
     ]
    }
   ],
   "source": [
    "for i in range(1,10):\n",
    "    for j in range(1,i+1):\n",
    "        print(str(j) + \"x\" + str(i) + \"=\" + str(j*i), end=\" \")\n",
    "    print(\"\")"
   ]
  },
  {
   "cell_type": "markdown",
   "metadata": {},
   "source": [
    "### <font size=4><span id=\"4.4.2\"> 4.4.2 多层控制结构</span></font>\n",
    "- 原则上，`if`、`for` 和 `while` 可以任意嵌套"
   ]
  },
  {
   "cell_type": "markdown",
   "metadata": {},
   "source": [
    "#### 三层 `if` 嵌套，判断白富美"
   ]
  },
  {
   "cell_type": "code",
   "execution_count": 75,
   "metadata": {},
   "outputs": [
    {
     "name": "stdout",
     "output_type": "stream",
     "text": [
      "你白吗，yes-1，no-0: 1\n",
      "你富吗，yes-1，no-0: 1\n",
      "你美吗，yes-1，no-0: 1\n",
      "唉，你是白富美！\n"
     ]
    }
   ],
   "source": [
    "white_rich_beautiful = False\n",
    "\n",
    "be_white = int(input(\"你白吗，yes-1，no-0: \"))\n",
    "\n",
    "if be_white:\n",
    "    be_rich = int(input(\"你富吗，yes-1，no-0: \"))\n",
    "    if be_rich:\n",
    "        be_beautiful = int(input(\"你美吗，yes-1，no-0: \"))\n",
    "        if be_beautiful:\n",
    "            white_rich_beautiful = True\n",
    "\n",
    "if white_rich_beautiful:\n",
    "    print(\"唉，你是白富美！\")\n",
    "else:\n",
    "    print(\"啊，你不是白富美！\")"
   ]
  },
  {
   "cell_type": "markdown",
   "metadata": {},
   "source": [
    "#### 双层 `while` 输出三角形"
   ]
  },
  {
   "cell_type": "code",
   "execution_count": 76,
   "metadata": {},
   "outputs": [
    {
     "name": "stdout",
     "output_type": "stream",
     "text": [
      "*\n",
      "**\n",
      "***\n",
      "****\n",
      "*****\n",
      "******\n",
      "*******\n",
      "********\n",
      "*********\n",
      "**********\n",
      "***********\n",
      "************\n",
      "*************\n",
      "**************\n",
      "***************\n"
     ]
    }
   ],
   "source": [
    "i=1\n",
    "while i<=15:\n",
    "    j=1\n",
    "    while j<=i:\n",
    "        print(\"*\", end=\"\")\n",
    "        j+=1\n",
    "    print(\"\")\n",
    "    i+=1"
   ]
  },
  {
   "cell_type": "markdown",
   "metadata": {},
   "source": [
    "####  `for` 和 `if` 嵌套，找偶像..."
   ]
  },
  {
   "cell_type": "code",
   "execution_count": null,
   "metadata": {},
   "outputs": [],
   "source": [
    "idol = \"刘诗诗\"\n",
    "stars=[\"王菲\", \"高圆圆\", \"刘诗诗\", \"赵丽颖\", \"江疏影\"]\n",
    "\n",
    "for star in stars:\n",
    "    if idol==star:\n",
    "        print(star, \"你是我的偶像，我是一个快乐的粉丝!\")\n",
    "    else:\n",
    "        print(star, \"你不是我的偶像!\")"
   ]
  },
  {
   "cell_type": "markdown",
   "metadata": {},
   "source": [
    "#### `while` 和 `if` 嵌套 —— 和电脑划拳比赛"
   ]
  },
  {
   "cell_type": "code",
   "execution_count": 78,
   "metadata": {},
   "outputs": [
    {
     "name": "stdout",
     "output_type": "stream",
     "text": [
      "你出什么，锤-0，剪-1，布-2，退-3？  2\n",
      "    你赢了! 你出布，电脑出锤\n",
      "\n",
      "你出什么，锤-0，剪-1，布-2，退-3？  3\n",
      "    哈哈，你逃了，再见！\n"
     ]
    }
   ],
   "source": [
    "import random\n",
    "\n",
    "fingers = [\"锤\", \"剪\", \"布\"]\n",
    "\n",
    "while True:\n",
    "    mine = int(input(\"你出什么，锤-0，剪-1，布-2，退-3？  \"))\n",
    "    if mine==3:\n",
    "        print(\"    哈哈，你逃了，再见！\")\n",
    "        break\n",
    "\n",
    "    computer = random.randint(0,2)\n",
    "    if (computer-mine) % 3 == 1:\n",
    "        print(\"    你赢了! \",end=\"\")\n",
    "    elif (computer-mine) % 3 == 2:\n",
    "        print(\"    你输了! \",end=\"\")\n",
    "    else:\n",
    "        print(\"    打平了! \",end=\"\")\n",
    "\n",
    "    print(\"你出{0}，电脑出{1}\\n\".format(fingers[mine],fingers[computer]))"
   ]
  }
 ],
 "metadata": {
  "celltoolbar": "Raw Cell Format",
  "kernelspec": {
   "display_name": "Python 3 (ipykernel)",
   "language": "python",
   "name": "python3"
  },
  "language_info": {
   "codemirror_mode": {
    "name": "ipython",
    "version": 3
   },
   "file_extension": ".py",
   "mimetype": "text/x-python",
   "name": "python",
   "nbconvert_exporter": "python",
   "pygments_lexer": "ipython3",
   "version": "3.11.4"
  }
 },
 "nbformat": 4,
 "nbformat_minor": 4
}
