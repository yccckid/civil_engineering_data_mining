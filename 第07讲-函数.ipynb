{
 "cells": [
  {
   "cell_type": "markdown",
   "metadata": {
    "slideshow": {
     "slide_type": "slide"
    }
   },
   "source": [
    "***"
   ]
  },
  {
   "cell_type": "markdown",
   "metadata": {},
   "source": [
    "<span id=\"mulu7\"><font face=\"黑体\" size=6>本章目录</font></span>\n",
    "* [第七讲 函数](7)\n",
    "    * [7.1 Python语言中的函数](#7.1)\n",
    "        * [7.1.1 为什么要使用函数](#7.1.1)    \n",
    "        * [7.1.2 函数的定义](#7.1.2)    \n",
    "        * [7.1.3 简单示例](#7.1.3)    \n",
    "        * [7.1.4 函数文档说明](#7.1.4)      \n",
    "    * [7.2 函数要素之参数](#7.2)\n",
    "        * [7.2.1 参数—实现更灵活的函数](#7.2.1)    \n",
    "        * [7.2.2 带默认参数的函数](#7.2.2)    \n",
    "        * [7.2.3 灵活调用—采用关键字参数](#7.2.3)    \n",
    "        * [7.2.4 可变参数—元组传入方式](#7.2.4)    \n",
    "        * [7.2.5 可变参数 — * 号的作用](#7.2.5)      \n",
    "        * [7.2.6 可变参数—字典传入方式](#7.2.6) \n",
    "        * [7.2.7 函数的参数是传值还是传引用](#7.2.7) \n",
    "    * [7.3 函数的返回值](#7.3) \n",
    "        * [7.3.1 返回语句—return](#7.3.1)    \n",
    "        * [7.3.2 多个返回值](#7.3.2)    \n",
    "        * [7.3.3 忽略返回值](#7.3.3)    \n",
    "    * [7.4 匿名函数—lambda表达式](#7.4) \n",
    "    * [7.5 特殊内置函数—filter() 和 map()](#7.5) \n",
    "        * [7.5.1 过滤器函数—filter()](#7.5.1) \n",
    "        * [7.5.2 映射函数—map()](#7.5.2) \n",
    "    * [7.6 全局变量、局部变量与关键字](#7.6)   \n",
    "        * [7.6.1 全局变量与局部变量的界定](#7.6.1) \n",
    "        * [7.6.2 关键字 global 的作用—实现在函数中修改全局变量](#7.6.2) \n",
    "        * [7.6.3 小结—关于全局变量与局部变量](#7.6.3) \n",
    "    * [7.7 内嵌函数和闭包](#7.7)   \n",
    "        * [7.7.1 内嵌函数—亦称内部函数](#7.7.1) \n",
    "        * [7.7.2 闭包](#7.7.2) \n",
    "    * [7.8 递归函数](#7.8)   \n",
    "        * [7.8.1 问题的产生](#7.8.1) \n",
    "        * [7.8.2 递归的定义、目的与分类](#7.8.2)\n",
    "        * [7.8.3 递归的特点](#7.8.3)\n",
    "        * [7.8.4 递归方法的设计](#7.8.4)\n",
    "    * [7.9 案例](#7.9)  "
   ]
  },
  {
   "cell_type": "markdown",
   "metadata": {},
   "source": [
    "***"
   ]
  },
  {
   "cell_type": "markdown",
   "metadata": {},
   "source": [
    "# 第七讲  函数"
   ]
  },
  {
   "cell_type": "markdown",
   "metadata": {
    "tags": [],
    "toc-hr-collapsed": true
   },
   "source": [
    "## <font size=5><span id=\"7.1\"> 7.1 Python 语言中的函数</span></font>"
   ]
  },
  {
   "cell_type": "markdown",
   "metadata": {
    "tags": [],
    "toc-hr-collapsed": true
   },
   "source": [
    "### <font size=4><span id=\"7.1.1\"> 7.1.1 为什么要使用函数</span></font>"
   ]
  },
  {
   "cell_type": "markdown",
   "metadata": {},
   "source": [
    "#### 例1 计算圆面积\n",
    "\n",
    "#### (1) 问题提出\n",
    "\n",
    "- 圆面积公式为 $S=\\pi r^2$\n",
    "\n",
    "\n",
    "- 若半径分别取\n",
    "```python\n",
    "r1 = 1.0\n",
    "r2 = 2.3\n",
    "r3 = 4.5\n",
    "```\n",
    "\n",
    "- 面积分别为\n",
    "```python\n",
    "s1=3.14*r1*r1\n",
    "s2=3.14*r2*r2\n",
    "s3=3.14*r3*r3\n",
    "```\n",
    "\n",
    "\n",
    "- 注意 —— 代码有规律地重复"
   ]
  },
  {
   "cell_type": "markdown",
   "metadata": {},
   "source": [
    "#### (2)  低效率代码"
   ]
  },
  {
   "cell_type": "code",
   "execution_count": null,
   "metadata": {},
   "outputs": [],
   "source": [
    "r1 = 1.0\n",
    "r2 = 2.3\n",
    "r3 = 4.5"
   ]
  },
  {
   "cell_type": "code",
   "execution_count": null,
   "metadata": {},
   "outputs": [],
   "source": [
    "# 高度重复，效率太低\n",
    "\n",
    "s1 = 3.14 * r1 * r1\n",
    "s2 = 3.14 * r2 * r2\n",
    "s3 = 3.14 * r3 * r3\n",
    "\n",
    "print(\"s1=%f, s2=%f, s3=%f\" % (s1, s2, s3))"
   ]
  },
  {
   "cell_type": "markdown",
   "metadata": {},
   "source": [
    "#### (3) 代码改进"
   ]
  },
  {
   "cell_type": "code",
   "execution_count": null,
   "metadata": {},
   "outputs": [],
   "source": [
    "def S(r):\n",
    "    return 3.14*r*r"
   ]
  },
  {
   "cell_type": "code",
   "execution_count": null,
   "metadata": {},
   "outputs": [],
   "source": [
    "s1 = S(r1)\n",
    "s2 = S(r2)\n",
    "s3 = S(r3)\n",
    "\n",
    "print(\"s1=%f, s2=%f, s3=%f\" % (s1, s2, s3))"
   ]
  },
  {
   "cell_type": "markdown",
   "metadata": {},
   "source": [
    "#### (4) 改进后的好处\n",
    "\n",
    "\n",
    "- 合理组织代码\n",
    "- 可重复利用\n",
    "- 便于维护、升级"
   ]
  },
  {
   "cell_type": "markdown",
   "metadata": {
    "tags": []
   },
   "source": [
    "### <font size=4><span id=\"7.1.2\"> 7.1.2 函数的定义</span></font>"
   ]
  },
  {
   "cell_type": "markdown",
   "metadata": {},
   "source": [
    "- 函数的功能\n",
    "    - 完成某项特定任务\n",
    "    - 代码可重复使用\n",
    "\n",
    "\n",
    "- 语法\n",
    "```python\n",
    ">>> def FunctionName(parameters):\n",
    "         ''' \n",
    "           long\n",
    "           docs\n",
    "         '''\n",
    "         function_body\n",
    "         return result\n",
    "```\n",
    "\n",
    "- 要素\n",
    "    - def 关键字\n",
    "    - 函数名\n",
    "    - 参数 (可多、可无)\n",
    "    - 函数体\n",
    "    - 返回值 （可省略）\n",
    "\n",
    "\n",
    "- 函数命名法\n",
    "    - 驼峰命名法 —— (大驼峰，或帕斯卡)FunctionName，DoSomethingForMe，(小)functionName，doSomethingForMe\n",
    "    - 下划线命名法 —— function_name，do_something_for_me\n",
    "    - 匈牙利命名法 —— 自学"
   ]
  },
  {
   "cell_type": "markdown",
   "metadata": {},
   "source": [
    "### <font size=4><span id=\"7.1.3\"> 7.1.3 简单示例</span></font>"
   ]
  },
  {
   "cell_type": "markdown",
   "metadata": {},
   "source": [
    "#### 欢迎函数 — 面向所有"
   ]
  },
  {
   "cell_type": "code",
   "execution_count": null,
   "metadata": {},
   "outputs": [],
   "source": [
    "def HelloToAll():\n",
    "    print(\"你好，朋友！\")"
   ]
  },
  {
   "cell_type": "code",
   "execution_count": null,
   "metadata": {},
   "outputs": [],
   "source": [
    "HelloToAll()"
   ]
  },
  {
   "cell_type": "markdown",
   "metadata": {},
   "source": [
    "#### 带参数的欢迎函数 —— 针对特定对象"
   ]
  },
  {
   "cell_type": "code",
   "execution_count": null,
   "metadata": {},
   "outputs": [],
   "source": [
    "def HelloToAFriend(friend_name):\n",
    "    print(\"你好，{0}！\".format(friend_name))"
   ]
  },
  {
   "cell_type": "code",
   "execution_count": null,
   "metadata": {},
   "outputs": [],
   "source": [
    "HelloToAFriend(\"张三\")"
   ]
  },
  {
   "cell_type": "markdown",
   "metadata": {},
   "source": [
    "### <font size=4><span id=\"7.1.4\"> 7.1.4 函数文档说明</span></font>\n",
    "\n",
    "\n",
    "- Python 特色\n",
    "    - 一段字符串（可能是介于三重引号之间的多行）\n",
    "    - 位于函数开始处\n",
    "    - 并未赋值给任何变量\n",
    "\n",
    "\n",
    "- 功能\n",
    "    - 可成为内建函数 help() 的输出"
   ]
  },
  {
   "cell_type": "markdown",
   "metadata": {},
   "source": [
    "#### 带多行帮助字符串的欢迎函数"
   ]
  },
  {
   "cell_type": "code",
   "execution_count": null,
   "metadata": {},
   "outputs": [],
   "source": [
    "def HelloToAFriendWithDoc(name, where):\n",
    "    \"\"\"\n",
    "    本函数通过 help 帮助方式\n",
    "    输出欢迎信息！\n",
    "    参数：\n",
    "        name  称呼\n",
    "        where 所在\n",
    "    \"\"\"\n",
    "    print(\"你好，来自{where}的{name}！\".format(name=name, where=where))"
   ]
  },
  {
   "cell_type": "code",
   "execution_count": null,
   "metadata": {
    "scrolled": false
   },
   "outputs": [],
   "source": [
    "help(HelloToAFriendWithDoc)"
   ]
  },
  {
   "cell_type": "code",
   "execution_count": null,
   "metadata": {},
   "outputs": [],
   "source": [
    "## 编写一个函数，名称叫做CountMe\n",
    "## 参数是一个str，函数体要求输出这个字符串，并输出字符串的长度、空格个数、标点符号个数(.,!?)\n",
    "def CountMe(inputString):\n",
    "    print(inputString)\n",
    "    print(len(inputString))\n",
    "    numSpace, numPunctuationMark = 0, 0\n",
    "    for char in inputString:\n",
    "        if char == ' ':\n",
    "            numSpace += 1\n",
    "        elif char in '.,!?':\n",
    "            numPunctuationMark += 1\n",
    "    print(numSpace, numPunctuationMark)"
   ]
  },
  {
   "cell_type": "code",
   "execution_count": null,
   "metadata": {},
   "outputs": [],
   "source": [
    "CountMe(\"2t3 45, . !\")"
   ]
  },
  {
   "cell_type": "markdown",
   "metadata": {},
   "source": [
    "[返回目录](#mulu7)"
   ]
  },
  {
   "cell_type": "markdown",
   "metadata": {
    "tags": [],
    "toc-hr-collapsed": true
   },
   "source": [
    "## <font size=5><span id=\"7.2\"> 7.2 函数要素之参数</span></font>"
   ]
  },
  {
   "cell_type": "markdown",
   "metadata": {
    "tags": [],
    "toc-hr-collapsed": true
   },
   "source": [
    "### <font size=4><span id=\"7.2.1\"> 7.2.1 参数—实现更灵活的函数</span></font>"
   ]
  },
  {
   "cell_type": "markdown",
   "metadata": {},
   "source": [
    "#### 输出参数指定的字符串"
   ]
  },
  {
   "cell_type": "code",
   "execution_count": null,
   "metadata": {},
   "outputs": [],
   "source": [
    "def PrintFunction(string):\n",
    "    print(string)"
   ]
  },
  {
   "cell_type": "markdown",
   "metadata": {},
   "source": [
    "#### 计算两数的乘积"
   ]
  },
  {
   "cell_type": "code",
   "execution_count": null,
   "metadata": {},
   "outputs": [],
   "source": [
    "def Product(a, b):\n",
    "    return a*b"
   ]
  },
  {
   "cell_type": "code",
   "execution_count": null,
   "metadata": {},
   "outputs": [],
   "source": [
    "print(Product(3, 4))\n",
    "print(Product(5, 3.56))\n",
    "print(Product(\"Abc\", 3))"
   ]
  },
  {
   "cell_type": "markdown",
   "metadata": {
    "tags": [],
    "toc-hr-collapsed": true
   },
   "source": [
    "### <font size=4><span id=\"7.2.2\"> 7.2.2 带默认参数的函数</span></font>\n",
    "\n",
    "\n",
    "- 语法\n",
    "```python\n",
    "def FunctionName(para1=default_value1, para2=default_value2):\n",
    "    # 函数体\n",
    "    # 返回语句\n",
    "```\n",
    "\n",
    "- 默认参数 = 缺省值"
   ]
  },
  {
   "cell_type": "markdown",
   "metadata": {},
   "source": [
    "#### 含缺省参数值的例子"
   ]
  },
  {
   "cell_type": "code",
   "execution_count": null,
   "metadata": {},
   "outputs": [],
   "source": [
    "def PrintAStringWithDefaultValue(str=\"Nice to meet you.\"):\n",
    "    print(str)"
   ]
  },
  {
   "cell_type": "code",
   "execution_count": null,
   "metadata": {},
   "outputs": [],
   "source": [
    "PrintAStringWithDefaultValue()                   # 没有提供参数，使用默认参数，或缺省值"
   ]
  },
  {
   "cell_type": "code",
   "execution_count": null,
   "metadata": {},
   "outputs": [],
   "source": [
    "PrintAStringWithDefaultValue(\"It's fine today!\") # 使用实际提供的参数"
   ]
  },
  {
   "cell_type": "markdown",
   "metadata": {},
   "source": [
    "#### 含缺省值的多参数例子"
   ]
  },
  {
   "cell_type": "code",
   "execution_count": null,
   "metadata": {},
   "outputs": [],
   "source": [
    "def GreetingToSomeone(greeting=\"nice to meet you\", name=\"Buddy\"):\n",
    "    print(\"Hi, {0}, {1}.\".format(greeting, name))"
   ]
  },
  {
   "cell_type": "code",
   "execution_count": null,
   "metadata": {},
   "outputs": [],
   "source": [
    "GreetingToSomeone()"
   ]
  },
  {
   "cell_type": "code",
   "execution_count": null,
   "metadata": {},
   "outputs": [],
   "source": [
    "GreetingToSomeone(\"help me\")"
   ]
  },
  {
   "cell_type": "code",
   "execution_count": null,
   "metadata": {},
   "outputs": [],
   "source": [
    "GreetingToSomeone(name=\"TOM\")"
   ]
  },
  {
   "cell_type": "markdown",
   "metadata": {
    "toc-hr-collapsed": true
   },
   "source": [
    "### <font size=4><span id=\"7.2.3\"> 7.2.3 灵活调用—采用关键字参数</span></font>\n",
    "\n",
    "- 注意规则\n",
    "    - 无缺省值的参数称为必选参数，调用时，必须放在前\n",
    "    - 有多个带默认值的参数，调用时\n",
    "        - 可以按顺序提供全部（或靠前面的）带默认值参数\n",
    "        - 不按顺序提供带默认值的参数时，需要把参数名（关键字）写上"
   ]
  },
  {
   "cell_type": "markdown",
   "metadata": {},
   "source": [
    "#### 采用关键字参数进行函数调用的示例"
   ]
  },
  {
   "cell_type": "code",
   "execution_count": null,
   "metadata": {},
   "outputs": [],
   "source": [
    "# 1 降龙十八掌\n",
    "def BeatingDragonStrike(who, whom, which=0):\n",
    "    strikes = [\"亢龙有悔\", \"飞龙在天\", \"见龙在田\", \"潜龙勿用\", \"龙战于野\", \"神龙摆尾\"]\n",
    "    print(\"{who}对着{whom}使出一招{strike}...\".format(who=who, whom=whom, strike=strikes[which]))"
   ]
  },
  {
   "cell_type": "code",
   "execution_count": null,
   "metadata": {
    "scrolled": true
   },
   "outputs": [],
   "source": [
    "BeatingDragonStrike(\"郭靖\", \"梁子翁\")\n",
    "BeatingDragonStrike(\"洪七公\", \"欧阳锋\", 1)\n",
    "BeatingDragonStrike(\"萧峰\",\"慕容复\", -1)"
   ]
  },
  {
   "cell_type": "code",
   "execution_count": null,
   "metadata": {},
   "outputs": [],
   "source": [
    "# 2 输出 4 行文字\n",
    "# 注意参数未按顺序\n",
    "def PrintFourLines(str1, str2, str3=\"3rd line.\", str4=\"4th Line.\"):\n",
    "    print(str1)\n",
    "    print(str2)\n",
    "    print(str3)\n",
    "    print(str4)"
   ]
  },
  {
   "cell_type": "code",
   "execution_count": null,
   "metadata": {},
   "outputs": [],
   "source": [
    "# 注意第三个参数未提供\n",
    "PrintFourLines(\"Print first line.\", \"Print 2nd line.\", str4 = \"Print 4th line.\")"
   ]
  },
  {
   "cell_type": "code",
   "execution_count": null,
   "metadata": {},
   "outputs": [],
   "source": [
    "# 中文输出\n",
    "PrintFourLines(\"床前明月光\", \"疑是地上霜\", str4 = \"低头思故乡\", str3=\"举头望明月\")"
   ]
  },
  {
   "cell_type": "code",
   "execution_count": null,
   "metadata": {},
   "outputs": [],
   "source": [
    "# 中文输出\n",
    "PrintFourLines(\"床前明月光\", \"疑是地上霜\", \"低头思故乡\", \"举头望明月\")"
   ]
  },
  {
   "cell_type": "code",
   "execution_count": null,
   "metadata": {},
   "outputs": [],
   "source": [
    "# 以下语句能不能运行？\n",
    "PrintFourLines(str4 = \"低头思故乡\", str3=\"举头望明月\", \"床前明月光\", \"疑是地上霜\")   "
   ]
  },
  {
   "cell_type": "markdown",
   "metadata": {
    "tags": []
   },
   "source": [
    "### <font size=4><span id=\"7.2.4\"> 7.2.4 可变参数—元组传入方式</span></font>\n",
    "\n",
    "- 用单个星号 (\\*) 将参数打包成元组的形式\n",
    "- 亦称收集参数、可选参数、不定长参数"
   ]
  },
  {
   "cell_type": "markdown",
   "metadata": {},
   "source": [
    "#### 可变参数示例 — 长度固定\n",
    "\n",
    "- 其实是输出三个参数\n",
    "- 比较笨拙 — 参数多了白多，少了越界"
   ]
  },
  {
   "cell_type": "code",
   "execution_count": 3,
   "metadata": {},
   "outputs": [],
   "source": [
    "# 固定长度\n",
    "def PrintVariableParameters(*strs):\n",
    "    print(strs[0])\n",
    "    print(strs[1])\n",
    "    print(strs[2])"
   ]
  },
  {
   "cell_type": "code",
   "execution_count": 4,
   "metadata": {},
   "outputs": [
    {
     "name": "stdout",
     "output_type": "stream",
     "text": [
      "Print 1st line.\n",
      "Print 2nd line.\n",
      "Print 3rd line.\n"
     ]
    }
   ],
   "source": [
    "PrintVariableParameters(\"Print 1st line.\", \"Print 2nd line.\", \"Print 3rd line.\")"
   ]
  },
  {
   "cell_type": "code",
   "execution_count": 5,
   "metadata": {},
   "outputs": [
    {
     "name": "stdout",
     "output_type": "stream",
     "text": [
      "床前明月光\n",
      "疑是地上霜\n",
      "举头望明月\n"
     ]
    }
   ],
   "source": [
    "# 多了白多\n",
    "PrintVariableParameters(\"床前明月光\", \"疑是地上霜\", \"举头望明月\", \"低头思故乡\")"
   ]
  },
  {
   "cell_type": "code",
   "execution_count": null,
   "metadata": {},
   "outputs": [],
   "source": [
    "# 越界报错\n",
    "# PrintVariableParameters(\"床前明月光\", \"疑是地上霜\")"
   ]
  },
  {
   "cell_type": "markdown",
   "metadata": {},
   "source": [
    "#### 可变参数示例 — 长度不确定"
   ]
  },
  {
   "cell_type": "code",
   "execution_count": null,
   "metadata": {},
   "outputs": [],
   "source": [
    "def PrintParametersUnfixedLength(*param):\n",
    "    print(\"有%d个参数\" % len(param))\n",
    "    for i in range(len(param)):\n",
    "        print('第',i,'个参数是：',param[i])"
   ]
  },
  {
   "cell_type": "code",
   "execution_count": null,
   "metadata": {},
   "outputs": [],
   "source": [
    "PrintParametersUnfixedLength(3.14159, 2.71828, 2019, 10, 15, \"星期二\")"
   ]
  },
  {
   "cell_type": "markdown",
   "metadata": {},
   "source": [
    "#### 可变参数示例 — 后面还有额外参数"
   ]
  },
  {
   "cell_type": "code",
   "execution_count": null,
   "metadata": {},
   "outputs": [],
   "source": [
    "def VariableParametersWithExtraParameters(*param, extra):\n",
    "    print(\"有%d个参数\" % len(param))\n",
    "    for i in range(len(param)):\n",
    "        print('第',i,'个参数是：',param[i])   \n",
    "    print('额外参数extra=',extra)"
   ]
  },
  {
   "cell_type": "code",
   "execution_count": null,
   "metadata": {},
   "outputs": [],
   "source": [
    "# VariableParametersWithExtraParameters(1,2,3,4,5,8)      # 报错\n",
    "VariableParametersWithExtraParameters(1,2,3,4,5, extra = 8) # 关键字 extra 不能省"
   ]
  },
  {
   "cell_type": "markdown",
   "metadata": {},
   "source": [
    "extra 也可以设置默认值"
   ]
  },
  {
   "cell_type": "code",
   "execution_count": null,
   "metadata": {},
   "outputs": [],
   "source": [
    "def VariableParametersWithKeywordParameters(*param, extra=8):\n",
    "    print(\"有%d个参数\" % len(param))\n",
    "    for i in range(len(param)):\n",
    "        print('第',i,'个参数是：',param[i])    \n",
    "    print('关键字参数extra=',extra)"
   ]
  },
  {
   "cell_type": "code",
   "execution_count": null,
   "metadata": {},
   "outputs": [],
   "source": [
    "VariableParametersWithKeywordParameters(1,2,3,4,5,extra = 99)"
   ]
  },
  {
   "cell_type": "code",
   "execution_count": null,
   "metadata": {},
   "outputs": [],
   "source": [
    "VariableParametersWithKeywordParameters(1,2,3,4,5,99) "
   ]
  },
  {
   "cell_type": "markdown",
   "metadata": {
    "tags": []
   },
   "source": [
    "### <font size=4><span id=\"7.2.5\"> 7.2.5 可变参数 — * 号的作用</span></font>\n",
    "\n",
    "- `*` 号\n",
    "    - 即可是打包\n",
    "    - 又可以是解包\n",
    "\n",
    "\n",
    "- 注意传入列表的效果"
   ]
  },
  {
   "cell_type": "markdown",
   "metadata": {},
   "source": [
    "#### 传入列表的示例"
   ]
  },
  {
   "cell_type": "markdown",
   "metadata": {},
   "source": [
    "- 列表作为单个参数处理（不解包）"
   ]
  },
  {
   "cell_type": "code",
   "execution_count": null,
   "metadata": {},
   "outputs": [],
   "source": [
    "a = [1,2,3,4,5]"
   ]
  },
  {
   "cell_type": "code",
   "execution_count": null,
   "metadata": {},
   "outputs": [],
   "source": [
    "def PrintParametersUnfixedLength(*param):\n",
    "    print(\"有%d个参数\" % len(param))\n",
    "    for i in range(len(param)):\n",
    "        print('第',i,'个参数是：',param[i])"
   ]
  },
  {
   "cell_type": "code",
   "execution_count": null,
   "metadata": {},
   "outputs": [],
   "source": [
    "a = [1,2,3,4,5]\n",
    "PrintParametersUnfixedLength(a)"
   ]
  },
  {
   "cell_type": "markdown",
   "metadata": {},
   "source": [
    "- 前置 * 号，对列表进行解包，列表内的元素，作为可变参数处理"
   ]
  },
  {
   "cell_type": "code",
   "execution_count": null,
   "metadata": {},
   "outputs": [],
   "source": [
    "PrintParametersUnfixedLength(*a)"
   ]
  },
  {
   "cell_type": "code",
   "execution_count": null,
   "metadata": {},
   "outputs": [],
   "source": [
    "b = (1,2,3,4,5)\n",
    "PrintParametersUnfixedLength(*b)"
   ]
  },
  {
   "cell_type": "code",
   "execution_count": null,
   "metadata": {},
   "outputs": [],
   "source": [
    "c = {1,2,3,4,5}\n",
    "PrintParametersUnfixedLength(*c)"
   ]
  },
  {
   "cell_type": "code",
   "execution_count": null,
   "metadata": {},
   "outputs": [],
   "source": [
    "str0 = \"abdefa;ldkjf;lsakjfd;a\"\n",
    "PrintParametersUnfixedLength(*str0)"
   ]
  },
  {
   "cell_type": "code",
   "execution_count": null,
   "metadata": {},
   "outputs": [],
   "source": [
    "ll = range(0,5)\n",
    "PrintParametersUnfixedLength(*ll)"
   ]
  },
  {
   "cell_type": "markdown",
   "metadata": {
    "tags": []
   },
   "source": [
    "### <font size=4><span id=\"7.2.6\"> 7.2.6 可变参数—字典传入方式</span></font>\n",
    "\n",
    "- 用两个星号 (\\*\\*) 将参数打包成字典的形式"
   ]
  },
  {
   "cell_type": "markdown",
   "metadata": {},
   "source": [
    "#### 可变参数 字典方式的示例 — 长度固定"
   ]
  },
  {
   "cell_type": "code",
   "execution_count": null,
   "metadata": {},
   "outputs": [],
   "source": [
    "def VariableParametersWithKeywords(**kwstrs):\n",
    "    print(kwstrs.get('str1'))\n",
    "    print(kwstrs.get('str2'))\n",
    "    print(kwstrs.get('str3'))\n",
    "    print(kwstrs)"
   ]
  },
  {
   "cell_type": "code",
   "execution_count": null,
   "metadata": {
    "scrolled": true
   },
   "outputs": [],
   "source": [
    "VariableParametersWithKeywords(str2=\"Print 2nd line.\", str3=\"Print 3rd line.\", str1=\"Print 1st line.\")"
   ]
  },
  {
   "cell_type": "markdown",
   "metadata": {},
   "source": [
    "#### 可变参数字典方式的示例 — 长度不固定"
   ]
  },
  {
   "cell_type": "code",
   "execution_count": null,
   "metadata": {},
   "outputs": [],
   "source": [
    "def VariableParametersWithKeywordParametersUnfixedLength(**kwstrs):\n",
    "    print(\"有%d个参数\" % len(kwstrs)) \n",
    "    print(kwstrs)\n",
    "    for k in kwstrs:\n",
    "        print('参数 ',k,' 的值是：',kwstrs[k]) "
   ]
  },
  {
   "cell_type": "code",
   "execution_count": null,
   "metadata": {},
   "outputs": [],
   "source": [
    "VariableParametersWithKeywordParametersUnfixedLength(\n",
    "    game_1=\"刀塔2\", popular_index_1=20784,\n",
    "    game_2=\"魔域\", popular_index_2=20548\n",
    ")"
   ]
  },
  {
   "cell_type": "code",
   "execution_count": null,
   "metadata": {},
   "outputs": [],
   "source": [
    "VariableParametersWithKeywordParametersUnfixedLength(\n",
    "    game_1=\"刀塔2\", popular_index_1=20784,\n",
    "    game_2=\"魔域\", popular_index_2=20548,\n",
    "    game_3=\"梦幻西游\", popular_index_3=15218\n",
    ")"
   ]
  },
  {
   "cell_type": "markdown",
   "metadata": {},
   "source": [
    "#### 单双星号同时出现"
   ]
  },
  {
   "cell_type": "code",
   "execution_count": null,
   "metadata": {},
   "outputs": [],
   "source": [
    "def VariableParaAndKeyword(*args, **kwargs):\n",
    "    print(\"可变参数\")\n",
    "    for ele in args:\n",
    "        print(ele)\n",
    "    print(type(args))\n",
    "        \n",
    "    print(\"\\n可变关键字参数\")\n",
    "    for item in kwargs.items():\n",
    "        print (item)\n",
    "    print(kwargs)"
   ]
  },
  {
   "cell_type": "code",
   "execution_count": null,
   "metadata": {
    "scrolled": false
   },
   "outputs": [],
   "source": [
    "VariableParaAndKeyword(1, 2, 3, 4, e=5, f=6, g=7)"
   ]
  },
  {
   "cell_type": "code",
   "execution_count": null,
   "metadata": {},
   "outputs": [],
   "source": [
    "'''\n",
    "四种传递方式混合使用(大多数情况是这种),fun7(a,b,*c,**d),但四种方式混用时要遵守：\n",
    "\n",
    "args = 须在args之后\n",
    "*args 须在 args=value 之后\n",
    "**kargs 须在 *args 之后\n",
    "赋值过程为：\n",
    "\n",
    "按顺序把传给 args 的实参赋值给对应的行参\n",
    "args = value 形式的实参赋值给行参\n",
    "将多余出的即键值对行后的零散实参打包组成一个 tuple 传递给 *args\n",
    "将多余的 key=value 形式的实参打包正一个 dicrionary 传递给 **kargs\n",
    "'''"
   ]
  },
  {
   "cell_type": "markdown",
   "metadata": {
    "tags": []
   },
   "source": [
    "### <font size=4><span id=\"7.2.7\"> 7.2.7 函数的参数是传值还是传引用</span></font>"
   ]
  },
  {
   "cell_type": "markdown",
   "metadata": {},
   "source": [
    "- 函数参数传递机制问题在本质上是调用函数（过程）和被调用函数（过程）在调用发生时进行通信的方法问题。基本的参数传递机制有两种：值传递和引用传递。\n",
    "\n",
    "- 值传递（pass-by-value）过程中，被调函数的形式参数作为被调函数的局部变量处理，即在堆栈中开辟了内存空间以存放由主调函数放进来的实参的值，从而成为了实参的一个副本。值传递的特点是被调函数对形式参数的任何操作都是作为局部变量进行，不会影响主调函数的实参变量的值。\n",
    "\n",
    "- 引用传递(pass-by-reference)过程中，被调函数的形式参数虽然也作为局部变量在堆栈中开辟了内存空间，但是这时存放的是由主调函数放进来的实参变量的地址。被调函数对形参的任何操作都被处理成间接寻址，即通过堆栈中存放的地址访问主调函数中的实参变量。正因为如此，被调函数对形参做的任何操作都影响了主调函数中的实参变量。"
   ]
  },
  {
   "cell_type": "markdown",
   "metadata": {},
   "source": [
    " - 在python中实际又是怎么样的呢？\n",
    "\n",
    "      先看一个简单的例子："
   ]
  },
  {
   "cell_type": "code",
   "execution_count": null,
   "metadata": {},
   "outputs": [],
   "source": [
    "def test(c):\n",
    "    print(\"test before \")\n",
    "    print(id(c))\n",
    "    c+=2\n",
    "    print(\"test after +\")\n",
    "    print(id(c))\n",
    "    return c"
   ]
  },
  {
   "cell_type": "markdown",
   "metadata": {},
   "source": [
    " - 再看一个简单的例子："
   ]
  },
  {
   "cell_type": "code",
   "execution_count": null,
   "metadata": {},
   "outputs": [],
   "source": [
    "def test(list2):\n",
    "    print(\"test before \",end=\"\")\n",
    "    print(id(list2))\n",
    "    list2[0] = \"Li Lei\"\n",
    "    list2[1] = 12\n",
    "    list2[2] = 'Male'\n",
    "    \n",
    "    # list2 = [\"Li Lei\",12,'Male']     # 这样写会如何？\n",
    "    \n",
    "    print(\"test after +\",end=\"\")\n",
    "    print(id(list2))\n",
    "    return list2"
   ]
  },
  {
   "cell_type": "code",
   "execution_count": null,
   "metadata": {},
   "outputs": [],
   "source": [
    "list1 = [\"Han Meimei\",12,'female']\n",
    "print(\"函数调用之之前list1:\",list1)\n",
    "print(\"main before invoke test：\",end=\"\")\n",
    "print(id(list1))\n",
    "list3 = test(list1)\n",
    "print(\"main afterf invoke test:\",end=\"\")\n",
    "print(id(list1))\n",
    "print(\"函数调用之后list1:\",list1)"
   ]
  },
  {
   "cell_type": "markdown",
   "metadata": {},
   "source": [
    "- 发现？\n",
    "    - 一样的传值，而第二个变量居然变化，为啥呢？\n",
    "    - 实际上是因为python中的序列：列表是一个可变的对象，就基于list1=[1,2] list1[0]=[0]这样前后的查看list1的内存地址，是一样的。\n"
   ]
  },
  {
   "cell_type": "markdown",
   "metadata": {},
   "source": [
    "#### 结论：传对象引用\n",
    "- python不允许程序员选择采用传值还是传引用。Python参数传递采用的肯定是“传对象引用”的方式。这种方式相当于传值和传引用的一种综合。\n",
    "- 如果函数收到的是一个可变对象（比如字典或者列表）的引用，就能修改对象的原始值 — 相当于通过“传引用”来传递对象。\n",
    "- 如果函数收到的是一个不可变对象（比如数字、字符或者元组）的引用，就不能直接修改原始对象 — 相当于通过“传值'来传递对象。\n"
   ]
  },
  {
   "cell_type": "markdown",
   "metadata": {},
   "source": [
    "[返回目录](#mulu7)"
   ]
  },
  {
   "cell_type": "markdown",
   "metadata": {
    "toc-hr-collapsed": true
   },
   "source": [
    "## <font size=5><span id=\"7.3\"> 7.3 函数的返回值</span></font>"
   ]
  },
  {
   "cell_type": "markdown",
   "metadata": {},
   "source": [
    "### <font size=4><span id=\"7.3.1\"> 7.3.1 返回语句 — return</span></font>\n",
    "\n",
    "- 函数体中定义 return 语句\n",
    "- 可不止一处"
   ]
  },
  {
   "cell_type": "markdown",
   "metadata": {},
   "source": [
    "#### 返回两倍\n",
    "\n",
    "- 注意参数类型对结果的影响"
   ]
  },
  {
   "cell_type": "code",
   "execution_count": null,
   "metadata": {},
   "outputs": [],
   "source": [
    "def DoubleParameter(para):\n",
    "    return(para*2)"
   ]
  },
  {
   "cell_type": "code",
   "execution_count": null,
   "metadata": {},
   "outputs": [],
   "source": [
    "dblStr = DoubleParameter(\"Double this string. \")\n",
    "dblStr"
   ]
  },
  {
   "cell_type": "code",
   "execution_count": null,
   "metadata": {},
   "outputs": [],
   "source": [
    "dblInt = DoubleParameter(10)\n",
    "dblInt"
   ]
  },
  {
   "cell_type": "code",
   "execution_count": null,
   "metadata": {},
   "outputs": [],
   "source": [
    "dblFloat = DoubleParameter(1.23)\n",
    "dblFloat"
   ]
  },
  {
   "cell_type": "code",
   "execution_count": null,
   "metadata": {},
   "outputs": [],
   "source": [
    "dblFloat = 2.4"
   ]
  },
  {
   "cell_type": "code",
   "execution_count": null,
   "metadata": {},
   "outputs": [],
   "source": [
    "dblFloat = DoubleParameter(dblFloat)\n",
    "dblFloat"
   ]
  },
  {
   "cell_type": "markdown",
   "metadata": {},
   "source": [
    "### <font size=4><span id=\"7.3.2\"> 7.3.2 多个返回值</span></font>"
   ]
  },
  {
   "cell_type": "markdown",
   "metadata": {},
   "source": [
    "#### 返回的是元组"
   ]
  },
  {
   "cell_type": "code",
   "execution_count": null,
   "metadata": {},
   "outputs": [],
   "source": [
    "# 定义函数\n",
    "def TitleUpperCase(str1, str2):\n",
    "    retStr1 = str1.title() # 标题化，首字母大写\n",
    "    retStr2 = str2.upper() # 全大写\n",
    "    return retStr1, retStr2  # 返回了一个元组"
   ]
  },
  {
   "cell_type": "code",
   "execution_count": null,
   "metadata": {},
   "outputs": [],
   "source": [
    "retStr1, retStr2 = TitleUpperCase(\"hello\", \"world!\")\n",
    "print(retStr1 + ' ' + retStr2)"
   ]
  },
  {
   "cell_type": "code",
   "execution_count": null,
   "metadata": {},
   "outputs": [],
   "source": [
    "# 单元组形式结果返回\n",
    "retStrs = TitleUpperCase(\"hello\", \"world!\")\n",
    "print(retStrs[0] + ' ' + retStrs[1])"
   ]
  },
  {
   "cell_type": "markdown",
   "metadata": {},
   "source": [
    "#### 多种返回选项"
   ]
  },
  {
   "cell_type": "code",
   "execution_count": null,
   "metadata": {},
   "outputs": [],
   "source": [
    "def TitleUpperCaseMultiReturn(titleStr=None, upperStr=None):\n",
    "    \"\"\"\n",
    "    titleStr:首字母大写\n",
    "    upperStr:全部大写\n",
    "    \"\"\"\n",
    "\n",
    "    # Title case  如果有字符串\n",
    "    if titleStr is not None:\n",
    "        titledStr = titleStr.title()  # title()首字母大写\n",
    "        if upperStr == None:   # 如果后一个是空，直接退出函数\n",
    "            return titledStr\n",
    "    \n",
    "    # Upper case\n",
    "    if upperStr is not None:\n",
    "        upperedStr = upperStr.upper()   \n",
    "        if titleStr == None: # 前一字符串为空时\n",
    "            return upperedStr\n",
    "    \n",
    "    if (titleStr is not None) and (upperStr is not None):\n",
    "        titledStr = titleStr.title()\n",
    "        upperedStr = upperStr.upper() \n",
    "        return titledStr, upperedStr"
   ]
  },
  {
   "cell_type": "code",
   "execution_count": null,
   "metadata": {},
   "outputs": [],
   "source": [
    "retStr1 = TitleUpperCaseMultiReturn(\"title this\")\n",
    "retStr2 = TitleUpperCaseMultiReturn(upperStr=\"upper this\")\n",
    "retStr3 = TitleUpperCaseMultiReturn(\"title this\", \"upper this\")\n",
    "\n",
    "print(retStr1)\n",
    "print(retStr2)\n",
    "print(retStr3)"
   ]
  },
  {
   "cell_type": "code",
   "execution_count": null,
   "metadata": {},
   "outputs": [],
   "source": [
    "retStr4 = TitleUpperCaseMultiReturn()\n",
    "print(retStr4)"
   ]
  },
  {
   "cell_type": "markdown",
   "metadata": {},
   "source": [
    "### <font size=4><span id=\"7.3.3\"> 7.3.3 忽略返回值</span></font>"
   ]
  },
  {
   "cell_type": "markdown",
   "metadata": {},
   "source": [
    "#### 逆向拆解字符串的例子\n",
    "\n",
    "\n",
    "- 说明\n",
    "    - rpartition() 方法类似于 partition() 方法，但是它从目标字符串的末尾也就是右边开始搜索分割符\n",
    "    - 如果字符串包含指定的分隔符，则返回一个长度为 3 的元组\n",
    "        - 第一个返回值为分隔符左边的子串\n",
    "        - 第二个为分隔符本身\n",
    "        - 第三个为分隔符右边的子串"
   ]
  },
  {
   "cell_type": "code",
   "execution_count": null,
   "metadata": {},
   "outputs": [],
   "source": [
    "def ReversePartition(fileDotExt = 'foobar.txt'):\n",
    "    filename, __, ext = fileDotExt.rpartition('.')     # 注意等号左侧中间的下划线（可视为占位符）：忽略了部分返回值\n",
    "    print(\"filename: \" + filename)\n",
    "    print(\"extension: \" + ext)"
   ]
  },
  {
   "cell_type": "code",
   "execution_count": null,
   "metadata": {},
   "outputs": [],
   "source": [
    "#解释一下\n",
    "'foobar.txt'.rpartition('.')"
   ]
  },
  {
   "cell_type": "code",
   "execution_count": null,
   "metadata": {},
   "outputs": [],
   "source": [
    "ReversePartition(\"report.ppt\")"
   ]
  },
  {
   "cell_type": "code",
   "execution_count": null,
   "metadata": {},
   "outputs": [],
   "source": [
    "# 在这个例子中，为什么要用 rpartition，而不是 partition\n",
    "ReversePartition(\"conference.report.ppt\")"
   ]
  },
  {
   "cell_type": "markdown",
   "metadata": {},
   "source": [
    "[返回目录](#mulu7)"
   ]
  },
  {
   "cell_type": "markdown",
   "metadata": {
    "toc-hr-collapsed": true
   },
   "source": [
    "## <font size=5><span id=\"7.4\"> 7.4 匿名函数 — lambda 表达式</span></font>\n",
    "\n",
    "\n",
    "\n",
    "- 语法\n",
    "```python\n",
    ">>> lambda arg1 [,arg2,.....argn]:expression\n",
    "```\n",
    "\n",
    "\n",
    "- 作用\n",
    "    - 生成匿名函数 — 无须命名\n",
    "    - 灵活函数\n",
    "    - 高效率函数 （不占用栈内存）\n",
    "    \n",
    "    \n",
    "- 规则\n",
    "    - lambda 的主体是一个表达式，而不是一个代码块\n",
    "    - 拥有自己的命名空间，不能访问外部参数"
   ]
  },
  {
   "cell_type": "markdown",
   "metadata": {},
   "source": [
    "#### lambda 定义的相加函数"
   ]
  },
  {
   "cell_type": "code",
   "execution_count": null,
   "metadata": {},
   "outputs": [],
   "source": [
    "# 定义匿名函数 add\n",
    "add = lambda arg1, arg2: arg1 + arg2"
   ]
  },
  {
   "cell_type": "code",
   "execution_count": null,
   "metadata": {},
   "outputs": [],
   "source": [
    "print(\"相加后的值为 : \", add( 10, 20 ))"
   ]
  },
  {
   "cell_type": "markdown",
   "metadata": {},
   "source": [
    "#### lambda 定义的简单函数"
   ]
  },
  {
   "cell_type": "code",
   "execution_count": null,
   "metadata": {},
   "outputs": [],
   "source": [
    "neg = lambda arg: -arg"
   ]
  },
  {
   "cell_type": "code",
   "execution_count": null,
   "metadata": {},
   "outputs": [],
   "source": [
    "neg(123)"
   ]
  },
  {
   "cell_type": "markdown",
   "metadata": {},
   "source": [
    "#### lambda 定义中使用 if 条件判断"
   ]
  },
  {
   "cell_type": "code",
   "execution_count": null,
   "metadata": {},
   "outputs": [],
   "source": [
    "MAX = lambda a, b: a if a>b else b"
   ]
  },
  {
   "cell_type": "code",
   "execution_count": null,
   "metadata": {},
   "outputs": [],
   "source": [
    "MAX(5,3)"
   ]
  },
  {
   "cell_type": "markdown",
   "metadata": {},
   "source": [
    "#### 高阶函数：函数作为输入参数\n",
    "假设有一个整数列表，必须返回三个输出。\n",
    "\n",
    "一个列表中所有偶数的和\n",
    "一个列表中所有奇数的和\n",
    "一个所有能被三整除的数的和"
   ]
  },
  {
   "cell_type": "code",
   "execution_count": null,
   "metadata": {},
   "outputs": [],
   "source": [
    "def return_sum(func, lst):\n",
    "    result = 0\n",
    "    for i in lst:\n",
    "    #if val satisfies func\n",
    "        if func(i):\n",
    "            result = result + i\n",
    "    return result\n",
    "\n",
    "lst = [11,14,21,56,78,45,29,28]\n",
    "x = lambda a: a%2 == 0\n",
    "y = lambda a: a%2 != 0\n",
    "z = lambda a: a%3 == 0\n",
    "print(return_sum(x, lst))\n",
    "print(return_sum(y, lst))\n",
    "print(return_sum(z, lst))"
   ]
  },
  {
   "cell_type": "markdown",
   "metadata": {},
   "source": [
    "[返回目录](#mulu7)"
   ]
  },
  {
   "cell_type": "markdown",
   "metadata": {},
   "source": [
    "## <font size=5><span id=\"7.5\"> 7.5 特殊内置函数 — filter() 和 map()</span></font>"
   ]
  },
  {
   "cell_type": "markdown",
   "metadata": {},
   "source": [
    "### <font size=4><span id=\"7.5.1\"> 7.5.1 过滤器函数 — filter()</span></font>\n",
    "\n",
    "\n",
    "- 语法\n",
    "```python\n",
    ">>> filter(function or None, iterable) --> filter object\n",
    "```\n",
    "\n",
    "\n",
    "- 作用\n",
    "    - 保留关注的信息，不感兴趣的去掉\n",
    "\n",
    "\n",
    "\n",
    "- 参数\n",
    "    - function or None\n",
    "        - 作为过滤函数\n",
    "        - 如果为 None，则筛选出第二个参数中的全部 True 值\n",
    "    - iterable —— 可迭代对象（容器）\n",
    "    <img src = \"images\\chapter07\\input_figure.png\" width = 600>"
   ]
  },
  {
   "cell_type": "markdown",
   "metadata": {},
   "source": [
    "#### 提取容器中的真值\n",
    "\n",
    "- True、非零、非空字符串、非零字符"
   ]
  },
  {
   "cell_type": "code",
   "execution_count": null,
   "metadata": {},
   "outputs": [],
   "source": [
    "trueValues = filter(None,[1, 0, -1, False, \"\", True,  ord('\\0')]) # 注 ord 获取 ASCII 码\n",
    "list(trueValues)"
   ]
  },
  {
   "cell_type": "code",
   "execution_count": null,
   "metadata": {},
   "outputs": [],
   "source": [
    "trueValues"
   ]
  },
  {
   "cell_type": "markdown",
   "metadata": {},
   "source": [
    "#### 筛选奇数的过滤器"
   ]
  },
  {
   "cell_type": "code",
   "execution_count": null,
   "metadata": {},
   "outputs": [],
   "source": [
    "list(filter(lambda x:x%2==1, range(0,10)))"
   ]
  },
  {
   "cell_type": "code",
   "execution_count": null,
   "metadata": {},
   "outputs": [],
   "source": [
    "# 如何写一个过滤器，过滤掉一个序列中含数字7以及7的倍数的过滤器\n",
    "# Think 3min\n",
    "\n",
    "list(filter(lambda x: not((x % 7 == 0) or ('7' in str(x))), range(0,100)))\n",
    "\n",
    "# 也可以不用 lambda"
   ]
  },
  {
   "cell_type": "markdown",
   "metadata": {},
   "source": [
    "### <font size=4><span id=\"7.5.2\"> 7.5.2 映射函数 — map()</span></font>\n",
    "\n",
    "- 语法\n",
    "```python\n",
    ">>> map(func, *iterables) --> map object\n",
    "```\n",
    "\n",
    "\n",
    "- 作用\n",
    "    - 将容器映射成新的容器\n",
    "\n",
    "\n",
    "- 参数\n",
    "    - func — 映射函数\n",
    "    - iterables — 源-可迭代的容器\n",
    "    \n",
    "\n",
    "- 返回值\n",
    "    - 映射得到的像"
   ]
  },
  {
   "cell_type": "markdown",
   "metadata": {},
   "source": [
    "\n",
    "<img src = \"images/chapter07/map_figure.png\" width = 600>"
   ]
  },
  {
   "cell_type": "markdown",
   "metadata": {},
   "source": [
    "#### 平方映射"
   ]
  },
  {
   "cell_type": "code",
   "execution_count": null,
   "metadata": {},
   "outputs": [],
   "source": [
    "source = range(10)\n",
    "list(source)"
   ]
  },
  {
   "cell_type": "code",
   "execution_count": null,
   "metadata": {},
   "outputs": [],
   "source": [
    "func = lambda x:x**2"
   ]
  },
  {
   "cell_type": "code",
   "execution_count": null,
   "metadata": {},
   "outputs": [],
   "source": [
    "image = map(func, source)\n",
    "image"
   ]
  },
  {
   "cell_type": "code",
   "execution_count": null,
   "metadata": {},
   "outputs": [],
   "source": [
    "list(image)"
   ]
  },
  {
   "cell_type": "markdown",
   "metadata": {},
   "source": [
    "#### 取绝对值"
   ]
  },
  {
   "cell_type": "code",
   "execution_count": null,
   "metadata": {},
   "outputs": [],
   "source": [
    "# 三种方法\n",
    "#（1）用 def 定义函数\n",
    "#（2）用 lambda\n",
    "#（3）用系统自带函数 abs\n",
    "\n",
    "def fabs(a):\n",
    "    if a < 0:\n",
    "        a = - a\n",
    "    return a\n",
    "\n",
    "list(map(fabs, [3,-2, 0, 9, 6, -2, -9]))"
   ]
  },
  {
   "cell_type": "code",
   "execution_count": null,
   "metadata": {},
   "outputs": [],
   "source": [
    "list(map(lambda x:x if x>=0 else -x, [3,-2, 0, 9, 6, -2, -9]))"
   ]
  },
  {
   "cell_type": "code",
   "execution_count": null,
   "metadata": {
    "scrolled": true
   },
   "outputs": [],
   "source": [
    "list(map(abs, [3,-2, 0, 9, 6, -2, -9]))      #系统函数"
   ]
  },
  {
   "cell_type": "markdown",
   "metadata": {},
   "source": [
    "[返回目录](#mulu7)"
   ]
  },
  {
   "cell_type": "markdown",
   "metadata": {
    "tags": [],
    "toc-hr-collapsed": true
   },
   "source": [
    "## <font size=5><span id=\"7.6\"> 7.6 全局变量、局部变量与关键字 global</span></font>\n",
    "\n",
    "- 定义在 函数内 的变量称为 局部变量，它拥有 局部作用域\n",
    "- 定义在 函数外 的变量称为 全局变量，它拥有 全局作用域\n",
    "- 变量的作用域决定了在哪一部分程序你可以访问哪个特定的变量名称。 "
   ]
  },
  {
   "cell_type": "markdown",
   "metadata": {},
   "source": [
    "### <font size=4><span id=\"7.6.1\"> 7.6.1 全局变量与局部变量的界定</span></font>\n",
    "\n",
    "- 函数中\n",
    "    - 只访问，不赋值的变量就是全局变量\n",
    "    - 进行赋值的变量是局部变量"
   ]
  },
  {
   "cell_type": "markdown",
   "metadata": {},
   "source": [
    "#### 存在全局变量时\n",
    "\n",
    "\n",
    "- 在函数中访问全局变量"
   ]
  },
  {
   "cell_type": "code",
   "execution_count": null,
   "metadata": {},
   "outputs": [],
   "source": [
    "count = 5   # 全局变量\n",
    "\n",
    "def VisitGlobalVarible():\n",
    "    print(\"在函数 VisitGlobalVarible 中，全局变量 count = {0}\".format(count)) # count 是全局变量\n",
    "    \n",
    "print(count) \n",
    "VisitGlobalVarible()\n",
    "print(count)"
   ]
  },
  {
   "cell_type": "markdown",
   "metadata": {},
   "source": [
    "#### 全局变量和局部变量同时存在\n",
    "\n",
    "\n",
    "- 在函数中进行赋值的是局部变量"
   ]
  },
  {
   "cell_type": "code",
   "execution_count": null,
   "metadata": {},
   "outputs": [],
   "source": [
    "count = 5   # 全局变量\n",
    "\n",
    "def TestGlobalAndLocalVariable():\n",
    "    count = 10  # 函数内发生赋值，count 是局部变量\n",
    "    print(\"在函数 TestGlobalAndLocalVariable 中，局部变量 count = {0}\".format(count)) # count 是局部变量\n",
    "    \n",
    "print(\"在函数 TestGlobalAndLocalVariable 外，全局变量 count = {0}\".format(count)) \n",
    "TestGlobalAndLocalVariable()\n",
    "print(\"在函数 TestGlobalAndLocalVariable 外，全局变量 count = {0}\".format(count)) "
   ]
  },
  {
   "cell_type": "code",
   "execution_count": 2,
   "metadata": {},
   "outputs": [
    {
     "name": "stdout",
     "output_type": "stream",
     "text": [
      "outside 2920146692368\n",
      "函数内是局部变量 :  30\n",
      "innerside 2920146693328\n",
      "函数外是全局变量 :  0\n"
     ]
    }
   ],
   "source": [
    "total = 0; # 这是一个全局变量\n",
    "print('outside',id(total))\n",
    "# 可写函数说明\n",
    "def Sum(arg1, arg2):\n",
    "   #返回2个参数的和.\"\n",
    "    total = arg1 + arg2; # total在这里是局部变量.\n",
    "    print(\"函数内是局部变量 : \", total)\n",
    "    print('innerside',id(total))\n",
    "    return total;\n",
    "\n",
    "#调用sum函数\n",
    "Sum(10, 20);\n",
    "print(\"函数外是全局变量 : \", total)"
   ]
  },
  {
   "cell_type": "code",
   "execution_count": 1,
   "metadata": {},
   "outputs": [
    {
     "name": "stdout",
     "output_type": "stream",
     "text": [
      "outside 2920146692688\n",
      "函数内是局部变量 :  30\n",
      "innerside 2920146693328\n",
      "函数外是全局变量 :  10\n"
     ]
    }
   ],
   "source": [
    "total = 10; # 这是一个全局变量\n",
    "print('outside',id(total))\n",
    "# 可写函数说明\n",
    "def Sum(arg1, arg2):\n",
    "   #返回2个参数的和.\"\n",
    "    total = arg1 + arg2; # total在这里是局部变量.\n",
    "    print(\"函数内是局部变量 : \", total)\n",
    "    print('innerside',id(total))\n",
    "    return total;\n",
    "\n",
    "#调用sum函数\n",
    "Sum(total,20);\n",
    "print(\"函数外是全局变量 : \", total)"
   ]
  },
  {
   "cell_type": "code",
   "execution_count": 3,
   "metadata": {},
   "outputs": [
    {
     "name": "stdout",
     "output_type": "stream",
     "text": [
      "outside 2920146692688\n",
      "函数内是局部变量 :  30\n",
      "innerside 2920146693328\n",
      "函数外是全局变量 :  10\n"
     ]
    }
   ],
   "source": [
    "total = 10; # 这是一个全局变量\n",
    "print('outside',id(total))\n",
    "# 可写函数说明\n",
    "def Sum(total, arg2):\n",
    "   #返回2个参数的和.\"\n",
    "    total = total + arg2; # total在这里是局部变量.\n",
    "    print(\"函数内是局部变量 : \", total)\n",
    "    print('innerside',id(total))\n",
    "    return total;\n",
    "\n",
    "#调用sum函数\n",
    "Sum(total, 20);\n",
    "print(\"函数外是全局变量 : \", total)"
   ]
  },
  {
   "cell_type": "markdown",
   "metadata": {},
   "source": [
    "### <font size=4><span id=\"7.6.2\"> 7.6.2 关键字 global 的作用 — 实现在函数中修改全局变量</span></font>\n",
    "\n",
    "\n",
    "- 问题 —— 如果需要在函数中修改全局变量，就需要关键字 global"
   ]
  },
  {
   "cell_type": "markdown",
   "metadata": {},
   "source": [
    "#### 关键字 global 确定函数中的全局变量属性"
   ]
  },
  {
   "cell_type": "code",
   "execution_count": 6,
   "metadata": {},
   "outputs": [
    {
     "name": "stdout",
     "output_type": "stream",
     "text": [
      "在函数 UseKeywordGlobal 外，全局变量 count = 5\n",
      "在函数 UseKeywordGlobal 中，全局变量 count = 10\n",
      "在函数 UseKeywordGlobal 外，全局变量 count = 10\n"
     ]
    }
   ],
   "source": [
    "count = 5\n",
    "\n",
    "def UseKeywordGlobal():   \n",
    "    global count # 指定 count 是全局变量\n",
    "    count = 10\n",
    "    print(\"在函数 UseKeywordGlobal 中，全局变量 count = {0}\".format(count)) # count 是全局变量\n",
    "\n",
    "print(\"在函数 UseKeywordGlobal 外，全局变量 count = {0}\".format(count)) \n",
    "UseKeywordGlobal()\n",
    "print(\"在函数 UseKeywordGlobal 外，全局变量 count = {0}\".format(count)) "
   ]
  },
  {
   "cell_type": "markdown",
   "metadata": {},
   "source": [
    "#### 使用与不使用 global 关键字的区别"
   ]
  },
  {
   "cell_type": "code",
   "execution_count": null,
   "metadata": {},
   "outputs": [],
   "source": [
    "globalVar = 100\n",
    "unknownVar = -99\n",
    "\n",
    "def UseKeywordGlobal(): # 使用关键字 global\n",
    "    global globalVar    # 使用 glbal 声明全局变量\n",
    "    globalVar *= 2\n",
    "    print(\"在函数 UseKeywordGlobal 内，全局变量 globalVar = {0}\".format(globalVar))    # 尽管函数中修改了，但是配合 global 关键字，globalVar 是全局变量\n",
    "\n",
    "def NotUseKeywordGlobal(): # 不使用关键字 global\n",
    "    unknownVar = 123  # 函数中修改了 unknownVar，没有使用 global 关键字，unknownVar 是局部变量\n",
    "    print(\"在函数 NotUseKeywordGlobal 内部，unknownVar = {0}，是局部变量\".format(unknownVar))\n",
    "\n",
    "print(\"在调用函数 UseKeywordGlobal 前，全局变量 globalVar = {0}\".format(globalVar))\n",
    "UseKeywordGlobal()       \n",
    "print(\"在调用函数 UseKeywordGlobal 后，全局变量 globalVar = {0}\\n\".format(globalVar))\n",
    "\n",
    "print(\"在调用函数 NotUseKeywordGlobal 前，unknownVar = {0}，是外部变量\".format(unknownVar))\n",
    "NotUseKeywordGlobal()    \n",
    "print(\"在调用函数 NotUseKeywordGlobal 后，unknownVar = {0}，是外部变量\".format(unknownVar))"
   ]
  },
  {
   "cell_type": "markdown",
   "metadata": {},
   "source": [
    "- 提问,四次输出分别输出什么？"
   ]
  },
  {
   "cell_type": "code",
   "execution_count": null,
   "metadata": {},
   "outputs": [],
   "source": [
    "count = 5\n",
    "\n",
    "def funhi(count=8):    \n",
    "    print(\"count = {0}\".format(count)) # count\n",
    "    count = 10\n",
    "    print(\"count = {0}\".format(count)) # count\n",
    "\n",
    "print(\"在函数 funhi 外，全局变量 count = {0}\".format(count)) \n",
    "funhi()\n",
    "print(\"在函数 funhi 外，全局变量 count = {0}\".format(count)) "
   ]
  },
  {
   "cell_type": "markdown",
   "metadata": {},
   "source": [
    "### <font size=4><span id=\"7.6.3\"> 7.6.3 小结 — 关于全局变量与局部变量</span></font>\n",
    "\n",
    "- 全局变量的作用域是整个模块，代码段内的所有函数都可以访问到全局变量\n",
    "- 在函数内部可访问全局变量，尽量不要修改\n",
    "- 一旦修改，函数内部会创建一个名字一模一样的局部变量\n",
    "- 想在函数内修改全局变量，需加 global\n",
    "- 一个 global 语句可以同时定义多个变量，如\n",
    "\n",
    "```python\n",
    ">>> global x, y, z\n",
    "```"
   ]
  },
  {
   "cell_type": "markdown",
   "metadata": {},
   "source": [
    "[返回目录](#mulu7)"
   ]
  },
  {
   "cell_type": "markdown",
   "metadata": {},
   "source": [
    "## <font size=5><span id=\"7.7\"> 7.7 内嵌函数和闭包</span></font>"
   ]
  },
  {
   "cell_type": "markdown",
   "metadata": {},
   "source": [
    "### <font size=4><span id=\"7.7.1\"> 7.7.1 内嵌函数 — 亦称内部函数</span></font>\n",
    "\n",
    "- 函数的定义可以嵌套，允许在函数内创建另外一个函数，这种函数叫 `内嵌函数` 或者 `内部函数`"
   ]
  },
  {
   "cell_type": "markdown",
   "metadata": {},
   "source": [
    "#### 内嵌函数示例\n",
    "\n",
    "- 定义在函数内部\n",
    "- 调用必须在函数内部"
   ]
  },
  {
   "cell_type": "code",
   "execution_count": 2,
   "metadata": {},
   "outputs": [],
   "source": [
    "def OuterFunction():\n",
    "    print(\"已经进入函数 OuterFunction ......\\n\")\n",
    "    \n",
    "    def InnerNestFunction(): # 定义在函数 def OuterFunction() 的内部\n",
    "        print(\"    内嵌函数 InnerNestFunction 正在被调用......\\n\")\n",
    "    \n",
    "    InnerNestFunction() # 调用必须在函数内部\n",
    "    \n",
    "    print(\"将要离开函数 OuterFunction ......\")"
   ]
  },
  {
   "cell_type": "code",
   "execution_count": 3,
   "metadata": {},
   "outputs": [
    {
     "name": "stdout",
     "output_type": "stream",
     "text": [
      "已经进入函数 OuterFunction ......\n",
      "\n",
      "    内嵌函数 InnerNestFunction 正在被调用......\n",
      "\n",
      "将要离开函数 OuterFunction ......\n"
     ]
    }
   ],
   "source": [
    "OuterFunction()"
   ]
  },
  {
   "cell_type": "code",
   "execution_count": 1,
   "metadata": {},
   "outputs": [
    {
     "ename": "NameError",
     "evalue": "name 'InnerNestFunction' is not defined",
     "output_type": "error",
     "traceback": [
      "\u001b[1;31m---------------------------------------------------------------------------\u001b[0m",
      "\u001b[1;31mNameError\u001b[0m                                 Traceback (most recent call last)",
      "\u001b[1;32m~\\AppData\\Local\\Temp\\ipykernel_34596\\1547423812.py\u001b[0m in \u001b[0;36m<module>\u001b[1;34m\u001b[0m\n\u001b[0;32m      1\u001b[0m \u001b[1;31m# InnerNestFunction() 只能在函数 OuterFunction 内部使用，除了 OuterFunction，外部试图调研，都会出错\u001b[0m\u001b[1;33m\u001b[0m\u001b[1;33m\u001b[0m\u001b[0m\n\u001b[0;32m      2\u001b[0m \u001b[1;33m\u001b[0m\u001b[0m\n\u001b[1;32m----> 3\u001b[1;33m \u001b[0mInnerNestFunction\u001b[0m\u001b[1;33m(\u001b[0m\u001b[1;33m)\u001b[0m\u001b[1;33m\u001b[0m\u001b[1;33m\u001b[0m\u001b[0m\n\u001b[0m",
      "\u001b[1;31mNameError\u001b[0m: name 'InnerNestFunction' is not defined"
     ]
    }
   ],
   "source": [
    "# InnerNestFunction() 只能在函数 OuterFunction 内部使用，除了 OuterFunction，外部试图调研，都会出错\n",
    "\n",
    "InnerNestFunction()"
   ]
  },
  {
   "cell_type": "markdown",
   "metadata": {},
   "source": [
    "### <font size=4><span id=\"7.7.2\"> 7.7.2 闭包</span></font>  "
   ]
  },
  {
   "cell_type": "markdown",
   "metadata": {},
   "source": [
    "#### 定义\n",
    "在一些语言中，在函数中可以（嵌套）定义另一个函数时，如果内部的函数引用了外部的函数的变量，则可能产生闭包。闭包可以用来在一个函数与一组“私有”变量之间创建关联关系。在给定函数被多次调用的过程中，这些私有变量能够保持其持久性。—— 维基百科\n",
    "\n",
    "##### 用比较容易懂的人话说，就是当某个函数被当成对象返回时，夹带了外部变量，就形成了一个闭包。\n",
    "\n",
    "##### 形成闭包的条件\n",
    " - 函数嵌套\n",
    " - 将内部函数作为返回值返回\n",
    " - 内部函数必须要使用外部函数的变量"
   ]
  },
  {
   "cell_type": "code",
   "execution_count": 2,
   "metadata": {},
   "outputs": [
    {
     "name": "stdout",
     "output_type": "stream",
     "text": [
      "Foo!\n"
     ]
    }
   ],
   "source": [
    "def MakePrinter(msg):\n",
    "    def Printer():\n",
    "        print(msg)  # 夹带私货（外部变量）\n",
    "    return Printer  # 返回的是函数，带私货的函数\n",
    "\n",
    "printer = MakePrinter('Foo!')\n",
    "printer()"
   ]
  },
  {
   "cell_type": "code",
   "execution_count": 7,
   "metadata": {},
   "outputs": [
    {
     "name": "stdout",
     "output_type": "stream",
     "text": [
      "<a>Hello</a>\n",
      "<b>Hello</b>\n"
     ]
    }
   ],
   "source": [
    "def Tag(tag_name):\n",
    "    def AddTag(content):\n",
    "        return \"<{0}>{1}</{0}>\".format(tag_name, content)\n",
    "    return AddTag\n",
    "    \n",
    "content = 'Hello'\n",
    "\n",
    "AddTag = Tag('a')\n",
    "print(AddTag(content))\n",
    "\n",
    "AddTag = Tag('b')\n",
    "print(AddTag(content))"
   ]
  },
  {
   "cell_type": "markdown",
   "metadata": {},
   "source": [
    "[返回目录](#mulu7) "
   ]
  },
  {
   "cell_type": "markdown",
   "metadata": {},
   "source": [
    "## <font size=5><span id=\"7.8\"> 7.8 递归函数</span></font>\n",
    "\n",
    "\n",
    "- 在函数的定义中使用函数自身的方法\n",
    "- 递归方法是算法和程序设计中的一种重要技术，是许多复杂算法的基础"
   ]
  },
  {
   "cell_type": "markdown",
   "metadata": {},
   "source": [
    "### <font size=4><span id=\"7.8.1\"> 7.8.1 问题的产生</span></font>  \n",
    "\n",
    "\n",
    "- 经典的递归问题\n",
    "    - 古老的故事\n",
    "    - 赏麦粒的问题\n",
    "    - 汉诺塔问题"
   ]
  },
  {
   "cell_type": "markdown",
   "metadata": {},
   "source": [
    "#### (1) 古老的故事\n",
    "\n",
    "\n",
    "- 从前有座山，山里有座庙，庙里有个老和尚，正在给小和尚讲故事呢！故事是什么呢？\n",
    "    - 从前有座山，山里有座庙，庙里有个老和尚，正在给小和尚讲故事呢！故事是什么呢？‘从前有座山，山里有座庙，庙里有个老和尚，正在给小和尚讲故事呢！故事是什么呢？\n",
    "        - 从前有座山，山里有座庙，庙里有个老和尚，正在给小和尚讲故事呢！故事是什么呢？“从前有座山，山里有座庙，庙里有个老和尚，正在给小和尚讲故事呢！故事是什么呢？‘从前有座山，山里有座庙，庙里有个老和尚，正在给小和尚讲故事呢！故事是什么呢？\n",
    "            - ......\n",
    "\n",
    "\n",
    "- 故事逻辑 —— 不断重复自身..."
   ]
  },
  {
   "cell_type": "markdown",
   "metadata": {},
   "source": [
    "#### (2) 赏麦粒的问题\n",
    "\n",
    "\n",
    "- 国际象棋发明人西萨·班·达依尔在国王问赏时说：\n",
    "    - “陛下，请您在这张棋盘的\n",
    "    - 第 1 个小格里赏给我 1 粒麦子，$B(1)=1$\n",
    "    - 第 2 个小格里赏给我 2 粒麦子，$B(2)=2$\n",
    "    - 第 3 个小格里赏给我 4 粒麦子，$B(3)=4$\n",
    "    - 以后，每一小格都比前一小格加一倍\n",
    "    - 直到摆满棋盘上所有 64 个格子” \n",
    "    \n",
    "    $$B(1)+B(2)+\\cdots+B(64)=2^0+2^1+2^2+\\cdots+2^{63}=2^{64}-1=18,446,744,073,709,551,615 \\approx 1.8\\times 10^{19}$$\n",
    "    \n",
    "- 解法\n",
    "$$B(n)=2B(n-1)$$"
   ]
  },
  {
   "cell_type": "markdown",
   "metadata": {},
   "source": [
    "#### (3) 汉诺塔问题\n",
    "\n",
    "\n",
    "- 大梵天创造世界的时候做了三根金刚石柱子\n",
    "- 在一根柱子上从下往上按照大小顺序摞着 64 片黄金圆盘\n",
    "\n",
    "- 大梵天命令婆罗门：把圆盘从下面开始按从大到小顺序重新摆放在另一根柱子上，并且规定\n",
    "    - 在小圆盘上不能放大圆盘\n",
    "    - 在三根柱子之间一次只能移动一个圆盘\n",
    "    \n",
    "\n",
    "- 解法分析\n",
    "    - 欲将64个圆盘从第一根柱子移到第三根柱子，须先将最上面的63个圆盘移到第二根柱子上，然后将最下面的一个圆盘移到第三根柱子上\n",
    "    - 依次类推，解决问题的规模可以逐步降低为解决移动 62、61、60、……、3、2、1个圆盘的问题  \n",
    "    \n",
    "<img src=\"images/chapter07/hannuota.gif\" width=500>"
   ]
  },
  {
   "cell_type": "markdown",
   "metadata": {},
   "source": [
    "### <font size=4><span id=\"7.8.2\"> 7.8.2 递归的定义、目的与分类</span></font>  \n",
    "\n",
    "\n",
    "- 定义 —— 如果函数调用自身，即是递归函数\n",
    "\n",
    "\n",
    "- 目的 —— 通过调用自身，将问题转化为本质相同但规模较小的子问题，最终化难为易\n",
    "    \n",
    "\n",
    "- 分类\n",
    "    - 直接递归 —— 直接调用自身\n",
    "    - 间接递归 —— 通过其它函数或过程间接调用自身"
   ]
  },
  {
   "cell_type": "markdown",
   "metadata": {},
   "source": [
    "### <font size=4><span id=\"7.8.3\"> 7.8.3 递归的特点</span></font>  \n",
    "\n",
    "\n",
    "- 原始问题可转化为解决方法相同的新问题\n",
    "- 新问题的规模比原始问题小\n",
    "- 新问题又可转化为解决方法相同的规模更小的新问题\n",
    "- 直至达到终结条件，可以直接求解"
   ]
  },
  {
   "cell_type": "markdown",
   "metadata": {},
   "source": [
    "### <font size=4><span id=\"7.8.4\"> 7.8.4 递归方法的设计</span></font>  \n",
    "\n",
    "\n",
    "- 基本思想\n",
    "    - 递 — 将一复杂问题转换成：若干逐级简化且本质相同的子问题系列\n",
    "    - 归 — 简化到一定程度的子问题：可以直接求解\n",
    "\n",
    "\n",
    "- 设计步骤\n",
    "    - 描述递归关系\n",
    "    - 确定递归出口\n",
    "    - 建立递归函数"
   ]
  },
  {
   "cell_type": "markdown",
   "metadata": {},
   "source": [
    "#### 递归函数示例 — 计算阶乘 $f(n) = n!$\n",
    "\n",
    "\n",
    "- 递归关系 $f(n) = nf(n-1)$\n",
    "- 递归出口 $f(0)=1$\n",
    "- 递归函数 \n",
    "```python\n",
    ">>> def Factorial(num):\n",
    "     #finction body\n",
    "```"
   ]
  },
  {
   "cell_type": "markdown",
   "metadata": {},
   "source": [
    "- 递归示意图\n",
    "\n",
    "$$\\begin{array}{ccccc}\n",
    "\\rm{Factorial}(6) = 6\\times \\rm{Factorial}(5) &&&& \\rm{return}\\;\\;6\\times 5\\times 4\\times 3\\times 2\\times 1\\\\\n",
    "\\downarrow & & & & \\uparrow\\\\\n",
    "\\rm{Factorial}(5) = 5\\times \\rm{Factorial}(4) &&&& \\rm{return}\\;\\;5\\times 4\\times 3\\times 2\\times 1\\\\\n",
    "\\downarrow & & & & \\uparrow\\\\\n",
    "\\rm{Factorial}(4) = 4\\times \\rm{Factorial}(3) &&&& \\rm{return}\\;\\;4\\times 3\\times 2\\times 1\\\\\n",
    "\\downarrow & & & & \\uparrow\\\\\n",
    "\\rm{Factorial}(3) = 3\\times \\rm{Factorial}(2) &&&& \\rm{return}\\;\\;3\\times 2\\times 1\\\\\n",
    "\\downarrow & & & & \\uparrow\\\\\n",
    "\\rm{Factorial}(2) = 2\\times \\rm{Factorial}(1) &&&& \\rm{return}\\;\\;2\\times 1\\\\\n",
    "\\downarrow & & & & \\uparrow\\\\\n",
    "\\rm{Factorial}(1) = 1\\times \\rm{Factorial}(0) & & & & \\rm{return}\\;\\;1\\\\\n",
    "& \\searrow & & \\nearrow &\\\\\n",
    "& & 0! = 1 & &\n",
    "\\end{array}\n",
    "$$\n"
   ]
  },
  {
   "cell_type": "code",
   "execution_count": null,
   "metadata": {},
   "outputs": [],
   "source": [
    "def Factorial(num):                # 递归函数定义\n",
    "    if num == 0:\n",
    "        return 1                  # 递归出口\n",
    "    return num * Factorial(num-1) # 递归关系  逐级简化"
   ]
  },
  {
   "cell_type": "code",
   "execution_count": null,
   "metadata": {},
   "outputs": [],
   "source": [
    "num = Factorial(60)\n",
    "print(num)"
   ]
  },
  {
   "cell_type": "markdown",
   "metadata": {},
   "source": [
    "#### 斐波那契 (Leonardo  Fibonacci，1175～1250年) 数列\n",
    "\n",
    "\n",
    "- 1202年，斐波那契在《计算之书》中提出了一道有趣的兔子繁殖问题\n",
    "    - 第一个月初有一对刚诞生的兔子\n",
    "    - 第二个月之后（第三个月初）它们可以生育\n",
    "    - 每月每对可生育的兔子会诞生下一对新兔子\n",
    "    - 兔子永不死去\n",
    "\n",
    "\n",
    "- 每月的兔子数量\n",
    "    - $a_1=1$、$a_2=1$\n",
    "    - 假设在 $n-2$ 月有兔子总共 $a$ 对， $n-1$ 月总共有 $b$ 对。在 $n$ 月必定总共有 $a+b$ 对\n",
    "    - 若记在 $n$ 月的兔子数为 $a_{n}$，则必有 $a_n=a_{n-1}+a_{n-2}$ 对\n",
    "        - $a_{n-1}$ 是前一个月的兔子数\n",
    "        - $a_{n-2}$ 是前二个月的兔子数（可生育）\n",
    "\n",
    "\n",
    "- 由此产生 斐波那契数列（级数）\n",
    "    - 1, 1, 2, 3, 5, 8, 13, 21, 34, 55, 89, 144, 233, 377, 610, 987, ......\n",
    "\n",
    "\n",
    "- 递归分析\n",
    "    - 递归出口 $a_1=1$、$a_2=1$ — 头 2 月的兔子数量\n",
    "    - 递归关系 $a_{n}=a_{n-1}+a_{n-2}$ — 第 $n$ 月的兔子数量\n",
    "    "
   ]
  },
  {
   "cell_type": "code",
   "execution_count": 8,
   "metadata": {},
   "outputs": [],
   "source": [
    "def Fibonacci(n):\n",
    "    if n == 1 or n == 2:\n",
    "        return 1          # 递归出口\n",
    "    return Fibonacci(n-1) + Fibonacci(n-2)  # 递归关系，调用自身"
   ]
  },
  {
   "cell_type": "code",
   "execution_count": 9,
   "metadata": {},
   "outputs": [
    {
     "data": {
      "text/plain": [
       "[1, 1, 2, 3, 5, 8, 13, 21, 34]"
      ]
     },
     "execution_count": 9,
     "metadata": {},
     "output_type": "execute_result"
    }
   ],
   "source": [
    "[Fibonacci(n) for n in range(1,10)]"
   ]
  },
  {
   "cell_type": "code",
   "execution_count": 10,
   "metadata": {},
   "outputs": [
    {
     "data": {
      "text/plain": [
       "6765"
      ]
     },
     "execution_count": 10,
     "metadata": {},
     "output_type": "execute_result"
    }
   ],
   "source": [
    "Fibonacci(20)"
   ]
  },
  {
   "cell_type": "markdown",
   "metadata": {},
   "source": [
    "#### 猴子吃桃子问题\n",
    "\n",
    "\n",
    "- 小猴摘了若干桃，打算好好享用\n",
    "    - 第 1 天，吃掉一半多一个\n",
    "    - 第 2 天，接着吃掉剩下的一半多一个\n",
    "    - 以后每天，都吃掉尚存桃子的一半多一个\n",
    "    - 第 7 天，只剩1个\n",
    "\n",
    "\n",
    "- 问小猴共摘了多少个桃？"
   ]
  },
  {
   "cell_type": "markdown",
   "metadata": {},
   "source": [
    "- 分析\n",
    "    - 第 $n$ 天的桃子数，应是第 $n+1$ 天桃子数加 1 的 2 倍\n",
    "\n",
    "\n",
    "- 递归关系\n",
    "    - $f(n) = 2[f(n+1)+1]$\n",
    "    - $f(n+1)=\\dfrac{f(n)}{2}-1$\n",
    "\n",
    "\n",
    "- 递归出口\n",
    "    - $f(7)=1$"
   ]
  },
  {
   "cell_type": "code",
   "execution_count": null,
   "metadata": {},
   "outputs": [],
   "source": [
    "def PeachNumber(n):                # 递归函数\n",
    "    if n == 7:\n",
    "        return 1           # 递归出口\n",
    "    return 2*(PeachNumber(n+1)+1) # 递归关系"
   ]
  },
  {
   "cell_type": "code",
   "execution_count": null,
   "metadata": {},
   "outputs": [],
   "source": [
    "[PeachNumber(i) for i in range(1,8)] # 第 1 天应有 190 只桃子"
   ]
  },
  {
   "cell_type": "markdown",
   "metadata": {},
   "source": [
    "#### 递归函数示例 — 汉诺塔问题"
   ]
  },
  {
   "cell_type": "markdown",
   "metadata": {},
   "source": [
    "<img src=\"images/chapter07/hanoi.jpg\" width=600>"
   ]
  },
  {
   "cell_type": "code",
   "execution_count": 4,
   "metadata": {},
   "outputs": [],
   "source": [
    "def hanoi(n,x,y,z):\n",
    "    if n == 1:\n",
    "        print(x,'--->',z) #如果只有一层，直接从X移到\n",
    "    else:\n",
    "        hanoi(n-1,x,z,y) #将前n-1个盘子从X移到Y上去\n",
    "        print(x,'--->',z) #将最底下的盘子，从X移动到Z上去\n",
    "        hanoi(n-1,y,x,z) #将Y上的移动到Z上"
   ]
  },
  {
   "cell_type": "code",
   "execution_count": 6,
   "metadata": {
    "collapsed": true
   },
   "outputs": [
    {
     "name": "stdout",
     "output_type": "stream",
     "text": [
      "请输入汉诺塔层数：10\n",
      "X ---> Y\n",
      "X ---> Z\n",
      "Y ---> Z\n",
      "X ---> Y\n",
      "Z ---> X\n",
      "Z ---> Y\n",
      "X ---> Y\n",
      "X ---> Z\n",
      "Y ---> Z\n",
      "Y ---> X\n",
      "Z ---> X\n",
      "Y ---> Z\n",
      "X ---> Y\n",
      "X ---> Z\n",
      "Y ---> Z\n",
      "X ---> Y\n",
      "Z ---> X\n",
      "Z ---> Y\n",
      "X ---> Y\n",
      "Z ---> X\n",
      "Y ---> Z\n",
      "Y ---> X\n",
      "Z ---> X\n",
      "Z ---> Y\n",
      "X ---> Y\n",
      "X ---> Z\n",
      "Y ---> Z\n",
      "X ---> Y\n",
      "Z ---> X\n",
      "Z ---> Y\n",
      "X ---> Y\n",
      "X ---> Z\n",
      "Y ---> Z\n",
      "Y ---> X\n",
      "Z ---> X\n",
      "Y ---> Z\n",
      "X ---> Y\n",
      "X ---> Z\n",
      "Y ---> Z\n",
      "Y ---> X\n",
      "Z ---> X\n",
      "Z ---> Y\n",
      "X ---> Y\n",
      "Z ---> X\n",
      "Y ---> Z\n",
      "Y ---> X\n",
      "Z ---> X\n",
      "Y ---> Z\n",
      "X ---> Y\n",
      "X ---> Z\n",
      "Y ---> Z\n",
      "X ---> Y\n",
      "Z ---> X\n",
      "Z ---> Y\n",
      "X ---> Y\n",
      "X ---> Z\n",
      "Y ---> Z\n",
      "Y ---> X\n",
      "Z ---> X\n",
      "Y ---> Z\n",
      "X ---> Y\n",
      "X ---> Z\n",
      "Y ---> Z\n",
      "X ---> Y\n",
      "Z ---> X\n",
      "Z ---> Y\n",
      "X ---> Y\n",
      "Z ---> X\n",
      "Y ---> Z\n",
      "Y ---> X\n",
      "Z ---> X\n",
      "Z ---> Y\n",
      "X ---> Y\n",
      "X ---> Z\n",
      "Y ---> Z\n",
      "X ---> Y\n",
      "Z ---> X\n",
      "Z ---> Y\n",
      "X ---> Y\n",
      "Z ---> X\n",
      "Y ---> Z\n",
      "Y ---> X\n",
      "Z ---> X\n",
      "Y ---> Z\n",
      "X ---> Y\n",
      "X ---> Z\n",
      "Y ---> Z\n",
      "Y ---> X\n",
      "Z ---> X\n",
      "Z ---> Y\n",
      "X ---> Y\n",
      "Z ---> X\n",
      "Y ---> Z\n",
      "Y ---> X\n",
      "Z ---> X\n",
      "Z ---> Y\n",
      "X ---> Y\n",
      "X ---> Z\n",
      "Y ---> Z\n",
      "X ---> Y\n",
      "Z ---> X\n",
      "Z ---> Y\n",
      "X ---> Y\n",
      "X ---> Z\n",
      "Y ---> Z\n",
      "Y ---> X\n",
      "Z ---> X\n",
      "Y ---> Z\n",
      "X ---> Y\n",
      "X ---> Z\n",
      "Y ---> Z\n",
      "X ---> Y\n",
      "Z ---> X\n",
      "Z ---> Y\n",
      "X ---> Y\n",
      "Z ---> X\n",
      "Y ---> Z\n",
      "Y ---> X\n",
      "Z ---> X\n",
      "Z ---> Y\n",
      "X ---> Y\n",
      "X ---> Z\n",
      "Y ---> Z\n",
      "X ---> Y\n",
      "Z ---> X\n",
      "Z ---> Y\n",
      "X ---> Y\n",
      "X ---> Z\n",
      "Y ---> Z\n",
      "Y ---> X\n",
      "Z ---> X\n",
      "Y ---> Z\n",
      "X ---> Y\n",
      "X ---> Z\n",
      "Y ---> Z\n",
      "Y ---> X\n",
      "Z ---> X\n",
      "Z ---> Y\n",
      "X ---> Y\n",
      "Z ---> X\n",
      "Y ---> Z\n",
      "Y ---> X\n",
      "Z ---> X\n",
      "Y ---> Z\n",
      "X ---> Y\n",
      "X ---> Z\n",
      "Y ---> Z\n",
      "X ---> Y\n",
      "Z ---> X\n",
      "Z ---> Y\n",
      "X ---> Y\n",
      "X ---> Z\n",
      "Y ---> Z\n",
      "Y ---> X\n",
      "Z ---> X\n",
      "Y ---> Z\n",
      "X ---> Y\n",
      "X ---> Z\n",
      "Y ---> Z\n",
      "Y ---> X\n",
      "Z ---> X\n",
      "Z ---> Y\n",
      "X ---> Y\n",
      "Z ---> X\n",
      "Y ---> Z\n",
      "Y ---> X\n",
      "Z ---> X\n",
      "Z ---> Y\n",
      "X ---> Y\n",
      "X ---> Z\n",
      "Y ---> Z\n",
      "X ---> Y\n",
      "Z ---> X\n",
      "Z ---> Y\n",
      "X ---> Y\n",
      "Z ---> X\n",
      "Y ---> Z\n",
      "Y ---> X\n",
      "Z ---> X\n",
      "Y ---> Z\n",
      "X ---> Y\n",
      "X ---> Z\n",
      "Y ---> Z\n",
      "Y ---> X\n",
      "Z ---> X\n",
      "Z ---> Y\n",
      "X ---> Y\n",
      "Z ---> X\n",
      "Y ---> Z\n",
      "Y ---> X\n",
      "Z ---> X\n",
      "Y ---> Z\n",
      "X ---> Y\n",
      "X ---> Z\n",
      "Y ---> Z\n",
      "X ---> Y\n",
      "Z ---> X\n",
      "Z ---> Y\n",
      "X ---> Y\n",
      "X ---> Z\n",
      "Y ---> Z\n",
      "Y ---> X\n",
      "Z ---> X\n",
      "Y ---> Z\n",
      "X ---> Y\n",
      "X ---> Z\n",
      "Y ---> Z\n",
      "X ---> Y\n",
      "Z ---> X\n",
      "Z ---> Y\n",
      "X ---> Y\n",
      "Z ---> X\n",
      "Y ---> Z\n",
      "Y ---> X\n",
      "Z ---> X\n",
      "Z ---> Y\n",
      "X ---> Y\n",
      "X ---> Z\n",
      "Y ---> Z\n",
      "X ---> Y\n",
      "Z ---> X\n",
      "Z ---> Y\n",
      "X ---> Y\n",
      "X ---> Z\n",
      "Y ---> Z\n",
      "Y ---> X\n",
      "Z ---> X\n",
      "Y ---> Z\n",
      "X ---> Y\n",
      "X ---> Z\n",
      "Y ---> Z\n",
      "Y ---> X\n",
      "Z ---> X\n",
      "Z ---> Y\n",
      "X ---> Y\n",
      "Z ---> X\n",
      "Y ---> Z\n",
      "Y ---> X\n",
      "Z ---> X\n",
      "Y ---> Z\n",
      "X ---> Y\n",
      "X ---> Z\n",
      "Y ---> Z\n",
      "X ---> Y\n",
      "Z ---> X\n",
      "Z ---> Y\n",
      "X ---> Y\n",
      "X ---> Z\n",
      "Y ---> Z\n",
      "Y ---> X\n",
      "Z ---> X\n",
      "Y ---> Z\n",
      "X ---> Y\n",
      "X ---> Z\n",
      "Y ---> Z\n",
      "X ---> Y\n",
      "Z ---> X\n",
      "Z ---> Y\n",
      "X ---> Y\n",
      "Z ---> X\n",
      "Y ---> Z\n",
      "Y ---> X\n",
      "Z ---> X\n",
      "Z ---> Y\n",
      "X ---> Y\n",
      "X ---> Z\n",
      "Y ---> Z\n",
      "X ---> Y\n",
      "Z ---> X\n",
      "Z ---> Y\n",
      "X ---> Y\n",
      "Z ---> X\n",
      "Y ---> Z\n",
      "Y ---> X\n",
      "Z ---> X\n",
      "Y ---> Z\n",
      "X ---> Y\n",
      "X ---> Z\n",
      "Y ---> Z\n",
      "Y ---> X\n",
      "Z ---> X\n",
      "Z ---> Y\n",
      "X ---> Y\n",
      "Z ---> X\n",
      "Y ---> Z\n",
      "Y ---> X\n",
      "Z ---> X\n",
      "Z ---> Y\n",
      "X ---> Y\n",
      "X ---> Z\n",
      "Y ---> Z\n",
      "X ---> Y\n",
      "Z ---> X\n",
      "Z ---> Y\n",
      "X ---> Y\n",
      "X ---> Z\n",
      "Y ---> Z\n",
      "Y ---> X\n",
      "Z ---> X\n",
      "Y ---> Z\n",
      "X ---> Y\n",
      "X ---> Z\n",
      "Y ---> Z\n",
      "X ---> Y\n",
      "Z ---> X\n",
      "Z ---> Y\n",
      "X ---> Y\n",
      "Z ---> X\n",
      "Y ---> Z\n",
      "Y ---> X\n",
      "Z ---> X\n",
      "Z ---> Y\n",
      "X ---> Y\n",
      "X ---> Z\n",
      "Y ---> Z\n",
      "X ---> Y\n",
      "Z ---> X\n",
      "Z ---> Y\n",
      "X ---> Y\n",
      "Z ---> X\n",
      "Y ---> Z\n",
      "Y ---> X\n",
      "Z ---> X\n",
      "Y ---> Z\n",
      "X ---> Y\n",
      "X ---> Z\n",
      "Y ---> Z\n",
      "Y ---> X\n",
      "Z ---> X\n",
      "Z ---> Y\n",
      "X ---> Y\n",
      "Z ---> X\n",
      "Y ---> Z\n",
      "Y ---> X\n",
      "Z ---> X\n",
      "Y ---> Z\n",
      "X ---> Y\n",
      "X ---> Z\n",
      "Y ---> Z\n",
      "X ---> Y\n",
      "Z ---> X\n",
      "Z ---> Y\n",
      "X ---> Y\n",
      "X ---> Z\n",
      "Y ---> Z\n",
      "Y ---> X\n",
      "Z ---> X\n",
      "Y ---> Z\n",
      "X ---> Y\n",
      "X ---> Z\n",
      "Y ---> Z\n",
      "Y ---> X\n",
      "Z ---> X\n",
      "Z ---> Y\n",
      "X ---> Y\n",
      "Z ---> X\n",
      "Y ---> Z\n",
      "Y ---> X\n",
      "Z ---> X\n",
      "Z ---> Y\n",
      "X ---> Y\n",
      "X ---> Z\n",
      "Y ---> Z\n",
      "X ---> Y\n",
      "Z ---> X\n",
      "Z ---> Y\n",
      "X ---> Y\n",
      "Z ---> X\n",
      "Y ---> Z\n",
      "Y ---> X\n",
      "Z ---> X\n",
      "Y ---> Z\n",
      "X ---> Y\n",
      "X ---> Z\n",
      "Y ---> Z\n",
      "Y ---> X\n",
      "Z ---> X\n",
      "Z ---> Y\n",
      "X ---> Y\n",
      "Z ---> X\n",
      "Y ---> Z\n",
      "Y ---> X\n",
      "Z ---> X\n",
      "Z ---> Y\n",
      "X ---> Y\n",
      "X ---> Z\n",
      "Y ---> Z\n",
      "X ---> Y\n",
      "Z ---> X\n",
      "Z ---> Y\n",
      "X ---> Y\n",
      "X ---> Z\n",
      "Y ---> Z\n",
      "Y ---> X\n",
      "Z ---> X\n",
      "Y ---> Z\n",
      "X ---> Y\n",
      "X ---> Z\n",
      "Y ---> Z\n",
      "X ---> Y\n",
      "Z ---> X\n",
      "Z ---> Y\n",
      "X ---> Y\n",
      "Z ---> X\n",
      "Y ---> Z\n",
      "Y ---> X\n",
      "Z ---> X\n",
      "Z ---> Y\n",
      "X ---> Y\n",
      "X ---> Z\n",
      "Y ---> Z\n",
      "X ---> Y\n",
      "Z ---> X\n",
      "Z ---> Y\n",
      "X ---> Y\n",
      "X ---> Z\n",
      "Y ---> Z\n",
      "Y ---> X\n",
      "Z ---> X\n",
      "Y ---> Z\n",
      "X ---> Y\n",
      "X ---> Z\n",
      "Y ---> Z\n",
      "Y ---> X\n",
      "Z ---> X\n",
      "Z ---> Y\n",
      "X ---> Y\n",
      "Z ---> X\n",
      "Y ---> Z\n",
      "Y ---> X\n",
      "Z ---> X\n",
      "Y ---> Z\n",
      "X ---> Y\n",
      "X ---> Z\n",
      "Y ---> Z\n",
      "X ---> Y\n",
      "Z ---> X\n",
      "Z ---> Y\n",
      "X ---> Y\n",
      "X ---> Z\n",
      "Y ---> Z\n",
      "Y ---> X\n",
      "Z ---> X\n",
      "Y ---> Z\n",
      "X ---> Y\n",
      "X ---> Z\n",
      "Y ---> Z\n",
      "X ---> Y\n",
      "Z ---> X\n",
      "Z ---> Y\n",
      "X ---> Y\n",
      "Z ---> X\n",
      "Y ---> Z\n",
      "Y ---> X\n",
      "Z ---> X\n",
      "Z ---> Y\n",
      "X ---> Y\n",
      "X ---> Z\n",
      "Y ---> Z\n",
      "X ---> Y\n",
      "Z ---> X\n",
      "Z ---> Y\n",
      "X ---> Y\n",
      "Z ---> X\n",
      "Y ---> Z\n",
      "Y ---> X\n",
      "Z ---> X\n",
      "Y ---> Z\n",
      "X ---> Y\n",
      "X ---> Z\n",
      "Y ---> Z\n",
      "Y ---> X\n",
      "Z ---> X\n",
      "Z ---> Y\n",
      "X ---> Y\n",
      "Z ---> X\n",
      "Y ---> Z\n",
      "Y ---> X\n",
      "Z ---> X\n",
      "Z ---> Y\n",
      "X ---> Y\n",
      "X ---> Z\n",
      "Y ---> Z\n",
      "X ---> Y\n",
      "Z ---> X\n",
      "Z ---> Y\n",
      "X ---> Y\n",
      "X ---> Z\n",
      "Y ---> Z\n",
      "Y ---> X\n",
      "Z ---> X\n",
      "Y ---> Z\n",
      "X ---> Y\n",
      "X ---> Z\n",
      "Y ---> Z\n",
      "X ---> Y\n",
      "Z ---> X\n",
      "Z ---> Y\n",
      "X ---> Y\n",
      "Z ---> X\n",
      "Y ---> Z\n",
      "Y ---> X\n",
      "Z ---> X\n",
      "Z ---> Y\n",
      "X ---> Y\n",
      "X ---> Z\n",
      "Y ---> Z\n",
      "X ---> Y\n",
      "Z ---> X\n",
      "Z ---> Y\n",
      "X ---> Y\n",
      "X ---> Z\n",
      "Y ---> Z\n",
      "Y ---> X\n",
      "Z ---> X\n",
      "Y ---> Z\n",
      "X ---> Y\n",
      "X ---> Z\n",
      "Y ---> Z\n",
      "Y ---> X\n",
      "Z ---> X\n",
      "Z ---> Y\n",
      "X ---> Y\n",
      "Z ---> X\n",
      "Y ---> Z\n",
      "Y ---> X\n",
      "Z ---> X\n",
      "Y ---> Z\n",
      "X ---> Y\n",
      "X ---> Z\n",
      "Y ---> Z\n",
      "X ---> Y\n",
      "Z ---> X\n",
      "Z ---> Y\n",
      "X ---> Y\n",
      "X ---> Z\n",
      "Y ---> Z\n",
      "Y ---> X\n",
      "Z ---> X\n",
      "Y ---> Z\n",
      "X ---> Y\n",
      "X ---> Z\n",
      "Y ---> Z\n",
      "Y ---> X\n",
      "Z ---> X\n",
      "Z ---> Y\n",
      "X ---> Y\n",
      "Z ---> X\n",
      "Y ---> Z\n",
      "Y ---> X\n",
      "Z ---> X\n",
      "Z ---> Y\n",
      "X ---> Y\n",
      "X ---> Z\n",
      "Y ---> Z\n",
      "X ---> Y\n",
      "Z ---> X\n",
      "Z ---> Y\n",
      "X ---> Y\n",
      "Z ---> X\n",
      "Y ---> Z\n",
      "Y ---> X\n",
      "Z ---> X\n",
      "Y ---> Z\n",
      "X ---> Y\n",
      "X ---> Z\n",
      "Y ---> Z\n",
      "Y ---> X\n",
      "Z ---> X\n",
      "Z ---> Y\n",
      "X ---> Y\n",
      "Z ---> X\n",
      "Y ---> Z\n",
      "Y ---> X\n",
      "Z ---> X\n",
      "Y ---> Z\n",
      "X ---> Y\n",
      "X ---> Z\n",
      "Y ---> Z\n",
      "X ---> Y\n",
      "Z ---> X\n",
      "Z ---> Y\n",
      "X ---> Y\n",
      "X ---> Z\n",
      "Y ---> Z\n",
      "Y ---> X\n",
      "Z ---> X\n",
      "Y ---> Z\n",
      "X ---> Y\n",
      "X ---> Z\n",
      "Y ---> Z\n",
      "X ---> Y\n",
      "Z ---> X\n",
      "Z ---> Y\n",
      "X ---> Y\n",
      "Z ---> X\n",
      "Y ---> Z\n",
      "Y ---> X\n",
      "Z ---> X\n",
      "Z ---> Y\n",
      "X ---> Y\n",
      "X ---> Z\n",
      "Y ---> Z\n",
      "X ---> Y\n",
      "Z ---> X\n",
      "Z ---> Y\n",
      "X ---> Y\n",
      "X ---> Z\n",
      "Y ---> Z\n",
      "Y ---> X\n",
      "Z ---> X\n",
      "Y ---> Z\n",
      "X ---> Y\n",
      "X ---> Z\n",
      "Y ---> Z\n",
      "Y ---> X\n",
      "Z ---> X\n",
      "Z ---> Y\n",
      "X ---> Y\n",
      "Z ---> X\n",
      "Y ---> Z\n",
      "Y ---> X\n",
      "Z ---> X\n",
      "Y ---> Z\n",
      "X ---> Y\n",
      "X ---> Z\n",
      "Y ---> Z\n",
      "X ---> Y\n",
      "Z ---> X\n",
      "Z ---> Y\n",
      "X ---> Y\n",
      "X ---> Z\n",
      "Y ---> Z\n",
      "Y ---> X\n",
      "Z ---> X\n",
      "Y ---> Z\n",
      "X ---> Y\n",
      "X ---> Z\n",
      "Y ---> Z\n",
      "Y ---> X\n",
      "Z ---> X\n",
      "Z ---> Y\n",
      "X ---> Y\n",
      "Z ---> X\n",
      "Y ---> Z\n",
      "Y ---> X\n",
      "Z ---> X\n",
      "Z ---> Y\n",
      "X ---> Y\n",
      "X ---> Z\n",
      "Y ---> Z\n",
      "X ---> Y\n",
      "Z ---> X\n",
      "Z ---> Y\n",
      "X ---> Y\n",
      "Z ---> X\n",
      "Y ---> Z\n",
      "Y ---> X\n",
      "Z ---> X\n",
      "Y ---> Z\n",
      "X ---> Y\n",
      "X ---> Z\n",
      "Y ---> Z\n",
      "Y ---> X\n",
      "Z ---> X\n",
      "Z ---> Y\n",
      "X ---> Y\n",
      "Z ---> X\n",
      "Y ---> Z\n",
      "Y ---> X\n",
      "Z ---> X\n",
      "Z ---> Y\n",
      "X ---> Y\n",
      "X ---> Z\n",
      "Y ---> Z\n",
      "X ---> Y\n",
      "Z ---> X\n",
      "Z ---> Y\n",
      "X ---> Y\n",
      "X ---> Z\n",
      "Y ---> Z\n",
      "Y ---> X\n",
      "Z ---> X\n",
      "Y ---> Z\n",
      "X ---> Y\n",
      "X ---> Z\n",
      "Y ---> Z\n",
      "X ---> Y\n",
      "Z ---> X\n",
      "Z ---> Y\n",
      "X ---> Y\n",
      "Z ---> X\n",
      "Y ---> Z\n",
      "Y ---> X\n",
      "Z ---> X\n",
      "Z ---> Y\n",
      "X ---> Y\n",
      "X ---> Z\n",
      "Y ---> Z\n",
      "X ---> Y\n",
      "Z ---> X\n",
      "Z ---> Y\n",
      "X ---> Y\n",
      "Z ---> X\n",
      "Y ---> Z\n",
      "Y ---> X\n",
      "Z ---> X\n",
      "Y ---> Z\n",
      "X ---> Y\n",
      "X ---> Z\n",
      "Y ---> Z\n",
      "Y ---> X\n",
      "Z ---> X\n",
      "Z ---> Y\n",
      "X ---> Y\n",
      "Z ---> X\n",
      "Y ---> Z\n",
      "Y ---> X\n",
      "Z ---> X\n",
      "Y ---> Z\n",
      "X ---> Y\n",
      "X ---> Z\n",
      "Y ---> Z\n",
      "X ---> Y\n",
      "Z ---> X\n",
      "Z ---> Y\n",
      "X ---> Y\n",
      "X ---> Z\n",
      "Y ---> Z\n",
      "Y ---> X\n",
      "Z ---> X\n",
      "Y ---> Z\n",
      "X ---> Y\n",
      "X ---> Z\n",
      "Y ---> Z\n",
      "Y ---> X\n",
      "Z ---> X\n",
      "Z ---> Y\n",
      "X ---> Y\n",
      "Z ---> X\n",
      "Y ---> Z\n",
      "Y ---> X\n",
      "Z ---> X\n",
      "Z ---> Y\n",
      "X ---> Y\n",
      "X ---> Z\n",
      "Y ---> Z\n",
      "X ---> Y\n",
      "Z ---> X\n",
      "Z ---> Y\n",
      "X ---> Y\n",
      "Z ---> X\n",
      "Y ---> Z\n",
      "Y ---> X\n",
      "Z ---> X\n",
      "Y ---> Z\n",
      "X ---> Y\n",
      "X ---> Z\n",
      "Y ---> Z\n",
      "Y ---> X\n",
      "Z ---> X\n",
      "Z ---> Y\n",
      "X ---> Y\n",
      "Z ---> X\n",
      "Y ---> Z\n",
      "Y ---> X\n",
      "Z ---> X\n",
      "Y ---> Z\n",
      "X ---> Y\n",
      "X ---> Z\n",
      "Y ---> Z\n",
      "X ---> Y\n",
      "Z ---> X\n",
      "Z ---> Y\n",
      "X ---> Y\n",
      "X ---> Z\n",
      "Y ---> Z\n",
      "Y ---> X\n",
      "Z ---> X\n",
      "Y ---> Z\n",
      "X ---> Y\n",
      "X ---> Z\n",
      "Y ---> Z\n",
      "X ---> Y\n",
      "Z ---> X\n",
      "Z ---> Y\n",
      "X ---> Y\n",
      "Z ---> X\n",
      "Y ---> Z\n",
      "Y ---> X\n",
      "Z ---> X\n",
      "Z ---> Y\n",
      "X ---> Y\n",
      "X ---> Z\n",
      "Y ---> Z\n",
      "X ---> Y\n",
      "Z ---> X\n",
      "Z ---> Y\n",
      "X ---> Y\n",
      "X ---> Z\n",
      "Y ---> Z\n",
      "Y ---> X\n",
      "Z ---> X\n",
      "Y ---> Z\n",
      "X ---> Y\n",
      "X ---> Z\n",
      "Y ---> Z\n",
      "Y ---> X\n",
      "Z ---> X\n",
      "Z ---> Y\n",
      "X ---> Y\n",
      "Z ---> X\n",
      "Y ---> Z\n",
      "Y ---> X\n",
      "Z ---> X\n",
      "Y ---> Z\n",
      "X ---> Y\n",
      "X ---> Z\n",
      "Y ---> Z\n",
      "X ---> Y\n",
      "Z ---> X\n",
      "Z ---> Y\n",
      "X ---> Y\n",
      "X ---> Z\n",
      "Y ---> Z\n",
      "Y ---> X\n",
      "Z ---> X\n",
      "Y ---> Z\n",
      "X ---> Y\n",
      "X ---> Z\n",
      "Y ---> Z\n",
      "X ---> Y\n",
      "Z ---> X\n",
      "Z ---> Y\n",
      "X ---> Y\n",
      "Z ---> X\n",
      "Y ---> Z\n",
      "Y ---> X\n",
      "Z ---> X\n",
      "Z ---> Y\n",
      "X ---> Y\n",
      "X ---> Z\n",
      "Y ---> Z\n",
      "X ---> Y\n",
      "Z ---> X\n",
      "Z ---> Y\n",
      "X ---> Y\n",
      "Z ---> X\n",
      "Y ---> Z\n",
      "Y ---> X\n",
      "Z ---> X\n",
      "Y ---> Z\n",
      "X ---> Y\n",
      "X ---> Z\n",
      "Y ---> Z\n",
      "Y ---> X\n",
      "Z ---> X\n",
      "Z ---> Y\n",
      "X ---> Y\n",
      "Z ---> X\n",
      "Y ---> Z\n",
      "Y ---> X\n",
      "Z ---> X\n",
      "Z ---> Y\n",
      "X ---> Y\n",
      "X ---> Z\n",
      "Y ---> Z\n",
      "X ---> Y\n",
      "Z ---> X\n",
      "Z ---> Y\n",
      "X ---> Y\n",
      "X ---> Z\n",
      "Y ---> Z\n",
      "Y ---> X\n",
      "Z ---> X\n",
      "Y ---> Z\n",
      "X ---> Y\n",
      "X ---> Z\n",
      "Y ---> Z\n",
      "X ---> Y\n",
      "Z ---> X\n",
      "Z ---> Y\n",
      "X ---> Y\n",
      "Z ---> X\n",
      "Y ---> Z\n",
      "Y ---> X\n",
      "Z ---> X\n",
      "Z ---> Y\n",
      "X ---> Y\n",
      "X ---> Z\n",
      "Y ---> Z\n",
      "X ---> Y\n",
      "Z ---> X\n",
      "Z ---> Y\n",
      "X ---> Y\n",
      "X ---> Z\n",
      "Y ---> Z\n",
      "Y ---> X\n",
      "Z ---> X\n",
      "Y ---> Z\n",
      "X ---> Y\n",
      "X ---> Z\n",
      "Y ---> Z\n",
      "Y ---> X\n",
      "Z ---> X\n",
      "Z ---> Y\n",
      "X ---> Y\n",
      "Z ---> X\n",
      "Y ---> Z\n",
      "Y ---> X\n",
      "Z ---> X\n",
      "Y ---> Z\n",
      "X ---> Y\n",
      "X ---> Z\n",
      "Y ---> Z\n",
      "X ---> Y\n",
      "Z ---> X\n",
      "Z ---> Y\n",
      "X ---> Y\n",
      "X ---> Z\n",
      "Y ---> Z\n",
      "Y ---> X\n",
      "Z ---> X\n",
      "Y ---> Z\n",
      "X ---> Y\n",
      "X ---> Z\n",
      "Y ---> Z\n",
      "Y ---> X\n",
      "Z ---> X\n",
      "Z ---> Y\n",
      "X ---> Y\n",
      "Z ---> X\n",
      "Y ---> Z\n",
      "Y ---> X\n",
      "Z ---> X\n",
      "Z ---> Y\n",
      "X ---> Y\n",
      "X ---> Z\n",
      "Y ---> Z\n",
      "X ---> Y\n",
      "Z ---> X\n",
      "Z ---> Y\n",
      "X ---> Y\n",
      "Z ---> X\n",
      "Y ---> Z\n",
      "Y ---> X\n",
      "Z ---> X\n",
      "Y ---> Z\n",
      "X ---> Y\n",
      "X ---> Z\n",
      "Y ---> Z\n",
      "Y ---> X\n",
      "Z ---> X\n",
      "Z ---> Y\n",
      "X ---> Y\n",
      "Z ---> X\n",
      "Y ---> Z\n",
      "Y ---> X\n",
      "Z ---> X\n",
      "Y ---> Z\n",
      "X ---> Y\n",
      "X ---> Z\n",
      "Y ---> Z\n",
      "X ---> Y\n",
      "Z ---> X\n",
      "Z ---> Y\n",
      "X ---> Y\n",
      "X ---> Z\n",
      "Y ---> Z\n",
      "Y ---> X\n",
      "Z ---> X\n",
      "Y ---> Z\n",
      "X ---> Y\n",
      "X ---> Z\n",
      "Y ---> Z\n",
      "X ---> Y\n",
      "Z ---> X\n",
      "Z ---> Y\n",
      "X ---> Y\n",
      "Z ---> X\n",
      "Y ---> Z\n",
      "Y ---> X\n",
      "Z ---> X\n",
      "Z ---> Y\n",
      "X ---> Y\n",
      "X ---> Z\n",
      "Y ---> Z\n",
      "X ---> Y\n",
      "Z ---> X\n",
      "Z ---> Y\n",
      "X ---> Y\n",
      "X ---> Z\n",
      "Y ---> Z\n",
      "Y ---> X\n",
      "Z ---> X\n",
      "Y ---> Z\n",
      "X ---> Y\n",
      "X ---> Z\n",
      "Y ---> Z\n",
      "Y ---> X\n",
      "Z ---> X\n",
      "Z ---> Y\n",
      "X ---> Y\n",
      "Z ---> X\n",
      "Y ---> Z\n",
      "Y ---> X\n",
      "Z ---> X\n",
      "Y ---> Z\n",
      "X ---> Y\n",
      "X ---> Z\n",
      "Y ---> Z\n",
      "X ---> Y\n",
      "Z ---> X\n",
      "Z ---> Y\n",
      "X ---> Y\n",
      "X ---> Z\n",
      "Y ---> Z\n",
      "Y ---> X\n",
      "Z ---> X\n",
      "Y ---> Z\n",
      "X ---> Y\n",
      "X ---> Z\n",
      "Y ---> Z\n"
     ]
    }
   ],
   "source": [
    "n = int(input('请输入汉诺塔层数：'))\n",
    "hanoi(n,'X','Y','Z')"
   ]
  },
  {
   "cell_type": "markdown",
   "metadata": {},
   "source": [
    "#### 图像的递归"
   ]
  },
  {
   "cell_type": "markdown",
   "metadata": {},
   "source": [
    "<img src=\"images/chapter07/digui01.png\" width=400>"
   ]
  },
  {
   "cell_type": "markdown",
   "metadata": {},
   "source": [
    "#### 分形图形\n",
    "<img src=\"images/chapter07/digui03.png\" width = 500>"
   ]
  },
  {
   "cell_type": "markdown",
   "metadata": {},
   "source": [
    "#### 海龟作图 — 童年的回忆"
   ]
  },
  {
   "cell_type": "code",
   "execution_count": null,
   "metadata": {},
   "outputs": [],
   "source": [
    "# 用海龟画分形树\n",
    "import random\n",
    "from turtle import *\n",
    " \n",
    "my_turtle = Turtle()\n",
    "my_win = my_turtle.getscreen()\n",
    " \n",
    "def tree(branch_len,t):\n",
    "    if branch_len > 5:\n",
    "        if branch_len <= 20:\n",
    "            t.pencolor('green')  # 当树枝很小时,画笔绿色.模拟树叶\n",
    "        else:\n",
    "            t.pencolor('black')\n",
    "        t.pensize(branch_len//10)  # 随着递归的进行 树枝越来越细\n",
    "        t.fd(branch_len)\n",
    "        degree = random.randint(15,30)  # 随机角度\n",
    "        t.rt(degree)\n",
    "        gap = random.uniform(10,15)  # 随机减少的增量\n",
    "        tree(branch_len-gap,t)\n",
    "        t.lt(2*degree)\n",
    "        tree(branch_len-gap, t)\n",
    "        t.rt(degree)\n",
    "        t.backward(branch_len)\n",
    "my_turtle.setheading(90)\n",
    "my_turtle.speed(10)\n",
    "my_turtle.up()\n",
    "my_turtle.backward(300)\n",
    "my_turtle.down()\n",
    "tree(100,my_turtle)"
   ]
  },
  {
   "cell_type": "markdown",
   "metadata": {},
   "source": [
    "<img src=\"images/chapter07/fenxing.png\">"
   ]
  },
  {
   "cell_type": "code",
   "execution_count": 1,
   "metadata": {},
   "outputs": [
    {
     "name": "stdout",
     "output_type": "stream",
     "text": [
      "请输入科赫雪花的阶数：3\n",
      "需要几个科赫雪花：1\n"
     ]
    }
   ],
   "source": [
    "import turtle\n",
    "turtle.speed(100)\n",
    "def ke_line(line_, n):\n",
    "    if n == 0:\n",
    "        turtle.fd(line_)\n",
    "    else:\n",
    "        line_len = line_ // 3\n",
    "        for i in [0, 60, -120, 60]:\n",
    "            turtle.left(i)\n",
    "            ke_line(line_len, n - 1)      # 递归\n",
    "# 原始线长度\n",
    "line = 300\n",
    "# 移动小海龟画布左下角\n",
    "turtle.penup()\n",
    "turtle.goto(-150, -150)\n",
    "turtle.pendown()\n",
    "# 几阶科赫雪花\n",
    "di_gui_deep = int(input(\"请输入科赫雪花的阶数：\"))\n",
    "while True:\n",
    "    # 当多少科赫雪花围绕成一个圆周时，就构成一个完整的雪花造型\n",
    "    count = int(input(\"需要几个科赫雪花：\"))\n",
    "    if 360 % count != 0:\n",
    "        print(\"请输入 360 的倍数\")\n",
    "    else:\n",
    "        break\n",
    "for i in range(count):\n",
    "    ke_line(line, di_gui_deep)\n",
    "    turtle.left(360 // count)\n",
    "turtle.done()"
   ]
  },
  {
   "cell_type": "markdown",
   "metadata": {},
   "source": [
    "[返回目录](#mulu7)"
   ]
  },
  {
   "cell_type": "markdown",
   "metadata": {},
   "source": [
    "## <font size=5><span id=\"7.9\"> 7.9 案例</span></font>\n",
    "### 哥德巴赫猜想\n",
    "\n",
    " - 任一大于 2 的整数都可写成三个质数之和（哥德巴赫版本）\n",
    " - 任一大于 2 的偶数都可写成两个质数之和（欧拉版本）"
   ]
  },
  {
   "cell_type": "code",
   "execution_count": 2,
   "metadata": {},
   "outputs": [],
   "source": [
    "# -----------------判断一个数是否是质数------------------\n",
    "# 什么是质数：除了 1 和本身以外不再有其他因数的自然数\n",
    "import math\n",
    "\n",
    "# 先判断某个数是否是质数\n",
    "def isPrime(n):\n",
    "    if n < 2: \n",
    "        return False\n",
    "    for i in range(2,int(math.sqrt(n))+1):\n",
    "        if n % i == 0:\n",
    "            return False\n",
    "    return True"
   ]
  },
  {
   "cell_type": "code",
   "execution_count": 3,
   "metadata": {},
   "outputs": [],
   "source": [
    "def GoldbachConjecture(n):\n",
    "    for i in range(2,n-1):\n",
    "        if (isPrime(i) == True) and (isPrime(n-i) == True):\n",
    "            return i, n-i\n",
    "    return 0, 0"
   ]
  },
  {
   "cell_type": "code",
   "execution_count": 4,
   "metadata": {},
   "outputs": [
    {
     "name": "stdout",
     "output_type": "stream",
     "text": [
      "Goldbach conjecture is correct until n = 100000\n"
     ]
    }
   ],
   "source": [
    "number = 100000\n",
    "isGoldbachRight = True\n",
    "for i in range(4,number,2):\n",
    "    a, b = GoldbachConjecture(i)\n",
    "    if a == 0:\n",
    "        isGoldbachRight = False\n",
    "        break\n",
    "    # print(\"%d = %d + %d\" % (i, a, b))\n",
    "if isGoldbachRight == True:\n",
    "    print(\"Goldbach conjecture is correct until n = %d\" % number)"
   ]
  },
  {
   "cell_type": "markdown",
   "metadata": {},
   "source": [
    "### 计算圆周率\n",
    "\n",
    " - BBP 公式\n",
    "\n",
    "<img src=\"images/chapter07/BBP.png\">"
   ]
  },
  {
   "cell_type": "code",
   "execution_count": 1,
   "metadata": {},
   "outputs": [
    {
     "name": "stdout",
     "output_type": "stream",
     "text": [
      "3.1333333333333333037273860099958255887032\n",
      "3.1414224664224663641221013676840811967850\n",
      "3.1415873903465816319169334747130051255226\n",
      "3.1415924575674356589161106967367231845856\n",
      "3.1415926454603364526008135726442560553551\n",
      "3.1415926532280877836456056684255599975586\n"
     ]
    }
   ],
   "source": [
    "# BBP 公式\n",
    "import math\n",
    "\n",
    "def CalcPI(m):\n",
    "    PI = 0\n",
    "    for n in range(0,m+1):\n",
    "        PI += (4.0 / (8 * n + 1) - 2.0 / (8 * n + 4) - 1.0 / (8 * n + 5) - 1.0 / (8 * n + 6)) * (1 / (16 ** n))\n",
    "    return PI\n",
    "\n",
    "for i in range(0,6):\n",
    "    print(\"%.40f\" % CalcPI(i))"
   ]
  },
  {
   "cell_type": "markdown",
   "metadata": {},
   "source": [
    "- Monte Carlo 模拟"
   ]
  },
  {
   "cell_type": "code",
   "execution_count": 5,
   "metadata": {},
   "outputs": [],
   "source": [
    "# 已知圆的面积为 A = pi * radius * radius\n",
    "# 随机扔一些点到 diameter X diameter 的区域中，用 “圆中点的数量/总点数” 来近似圆面积，进而反算出 pi\n",
    "import math\n",
    "import random\n",
    "\n",
    "def DropPoint(regionWidth,regionHeight):\n",
    "    xPos = random.random() * regionWidth - 0.5 * regionWidth\n",
    "    yPos = random.random() * regionHeight - 0.5 * regionWidth\n",
    "    return xPos, yPos\n",
    "\n",
    "def isPointInCircle(xPos,yPos,circleRadius,circleCenterXPos,circleCenterYPos):\n",
    "    distance = ((xPos - circleCenterXPos) ** 2 + (yPos - circleCenterYPos) ** 2) ** 0.5\n",
    "    if distance < circleRadius:\n",
    "        return True\n",
    "    else:\n",
    "        return False\n",
    "\n",
    "circleRadius = 0.5\n",
    "regionWidth = 2.0 * circleRadius\n",
    "regionHeight = regionWidth\n",
    "circleCenterXPos = 0\n",
    "circleCenterYPos = 0\n",
    "numPoint = []\n",
    "PI = []\n",
    "for i in range(100,10000,100):\n",
    "    count = 0\n",
    "    for j in range(1,i+1):\n",
    "        xPos, yPos = DropPoint(regionWidth,regionHeight)\n",
    "        if isPointInCircle(xPos,yPos,circleRadius,circleCenterXPos,circleCenterYPos) == True:\n",
    "            count += 1\n",
    "    numPoint.append(i)\n",
    "    PI.append(count*1.0/i/circleRadius/circleRadius)"
   ]
  },
  {
   "cell_type": "code",
   "execution_count": 6,
   "metadata": {},
   "outputs": [
    {
     "data": {
      "image/png": "[encoded data removed]",
      "text/plain": [
       "<Figure size 1500x1000 with 1 Axes>"
      ]
     },
     "metadata": {},
     "output_type": "display_data"
    }
   ],
   "source": [
    "# 画出来\n",
    "import matplotlib.pyplot as plt\n",
    "import matplotlib\n",
    "\n",
    "matplotlib.rc('font', family='SimHei', weight='bold')\n",
    "plt.rcParams['axes.unicode_minus'] = False\n",
    "\n",
    "fig = plt.figure(figsize = (15,10))\n",
    "plt.semilogx(numPoint,PI)\n",
    "plt.xlabel('投放点数',fontsize=20)\n",
    "plt.ylabel('圆周率计算结果',fontsize=20)\n",
    "plt.yticks(fontsize=20)\n",
    "plt.xticks(fontsize=20)\n",
    "\n",
    "# 图表标题\n",
    "plt.title(\"使用 Monte Carlo 方法计算圆周率\",fontsize=\"xx-large\",fontweight=\"heavy\") \n",
    "\n",
    "plt.grid()  # 生成网格\n",
    "plt.show() \n"
   ]
  },
  {
   "cell_type": "markdown",
   "metadata": {},
   "source": [
    "### 元胞自动机模拟森林火灾"
   ]
  },
  {
   "cell_type": "markdown",
   "metadata": {},
   "source": [
    "<img src=\"images/chapter07/RimWorldFire.png\">"
   ]
  },
  {
   "cell_type": "code",
   "execution_count": null,
   "metadata": {},
   "outputs": [],
   "source": [
    "# 森林火灾模拟的元胞自动机\n",
    "# 随机生成一些树用绿色来表示，灰地表示空地,红色表示燃烧着的火灾\n",
    "# 规则如下:\n",
    "# 一开始没有着火,只有森林和空地,生成森林的概率为 p0。\n",
    "# 周围没有燃烧的树会以 p1 的概率变成一棵燃烧的树，模拟闪电\n",
    "# 燃烧着的树木,下一秒会变成空地，同时会有一定的概率 p2 引燃周围的树\n",
    "# 空地有一定的概率 p3 生长成新的树木\n",
    "import tkinter as tk\n",
    "import random\n",
    "import numpy as np\n",
    "import time\n",
    "\n",
    "Row = 50        #行数\n",
    "Col = 50        #列数\n",
    "side = 10       #正方形边长\n",
    "height = Row * side         #窗体的高度\n",
    "width = Col * side          #窗体的宽度\n",
    "margin = 1           #间距\n",
    "p0 = 0.8         #随机初始化树的概率\n",
    "p1 = 0.0006     #树木随机生成闪电的概率\n",
    "p2 = 0.8         #引燃周围的树的概率\n",
    "p3 = 0.001      #空地生长为新的树的概率\n",
    "tree = []        #存储坐标和状态：0 表示空地, 1 表示树, -1 表示着火\n",
    "def init():\n",
    "    for i in range(Row):\n",
    "        row = []#存储这一行的新状态\n",
    "        for j in range(Col):\n",
    "            if random.random() < p0:\n",
    "               row.append(1)\n",
    "               canvas.create_rectangle(i*side,j*side,(i+1)*side-margin,(j+1)*side-margin,fill=\"green\")\n",
    "            else:\n",
    "               row.append(0)    \n",
    "               canvas.create_rectangle(i*side,j*side,(i+1)*side-margin,(j+1)*side-margin,fill=\"black\")\n",
    "        tree.append(row)\n",
    "    update()\n",
    "    \n",
    "def update():\n",
    "    global tree\n",
    "    #随机引燃闪电\n",
    "    if  random.random() < p1:              #闪电劈树\n",
    "        x = random.randint(0,20)           #随机生成引燃的坐标\n",
    "        y = random.randint(0,20)\n",
    "        if tree[x][y] == 1:\n",
    "            tree[x][y] = -1\n",
    "    #开始更新 \n",
    "    new_tree = []\n",
    "    for i in range(Row):\n",
    "        row = []                         #存储这一行的新状态\n",
    "        for j in range(Col):\n",
    "            flag = tree[i][j]             #上一个时刻的状态\n",
    "            if tree[i][j] == 0:\n",
    "                 if random.random() < p3:\n",
    "                      flag = 1\n",
    "            elif tree[i][j] == 1:\n",
    "                 if tree[(i+Row)%Row][(j-1+Col)%Col]==-1 or tree[(i+Row)%Row][(j+1+Col)%Col]==-1 or tree[(i-1+Row)%Row][(j+Col)%Col]==-1 or tree[(i+1+Row)%Row][(j+Col)%Col]==-1:  #如果周围有燃烧的树,那就有一定概率p2燃烧\n",
    "                     if random.random() < p2:\n",
    "                         flag = -1           #变成燃烧的树\n",
    "                 if random.random() < p1:       #随机生成闪电的概率\n",
    "                     flag = -1       \n",
    "            elif tree[i][j] == -1:            #如果在燃烧在下一时刻会变成空位\n",
    "                 flag = 0\n",
    "            if flag == 0:\n",
    "               canvas.create_rectangle(i*side,j*side,(i+1)*side-margin,(j+1)*side-margin,fill=\"black\")\n",
    "            elif flag == 1:\n",
    "               canvas.create_rectangle(i*side,j*side,(i+1)*side-margin,(j+1)*side-margin,fill=\"green\")\n",
    "            elif flag == -1:\n",
    "               canvas.create_rectangle(i*side,j*side,(i+1)*side-margin,(j+1)*side-margin,fill=\"red\")\n",
    "            row.append(flag)\n",
    "        new_tree.append(row)\n",
    "    tree = new_tree\n",
    "    win.after(1,update)      # 利用 tkinter 模块产生递归\n",
    "\n",
    "win = tk.Tk()                            #创建窗口\n",
    "win.title(\"元胞自动机森林火灾模拟\")      #标题\n",
    "s = str(width) + \"x\" + str(height)\n",
    "win.geometry(s)\n",
    "canvas = tk.Canvas(win,height=height,width=width)       #新建画布工具\n",
    "canvas.pack()#放置在指定地方\n",
    "init()\n",
    "win.mainloop()"
   ]
  },
  {
   "cell_type": "markdown",
   "metadata": {},
   "source": [
    "[返回目录](#mulu7)"
   ]
  }
 ],
 "metadata": {
  "kernelspec": {
   "display_name": "Python 3 (ipykernel)",
   "language": "python",
   "name": "python3"
  },
  "language_info": {
   "codemirror_mode": {
    "name": "ipython",
    "version": 3
   },
   "file_extension": ".py",
   "mimetype": "text/x-python",
   "name": "python",
   "nbconvert_exporter": "python",
   "pygments_lexer": "ipython3",
   "version": "3.11.4"
  }
 },
 "nbformat": 4,
 "nbformat_minor": 4
}
